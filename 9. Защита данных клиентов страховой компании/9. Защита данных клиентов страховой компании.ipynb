{
 "cells": [
  {
   "cell_type": "markdown",
   "id": "f6e60a03",
   "metadata": {},
   "source": [
    "## Описание проекта"
   ]
  },
  {
   "cell_type": "markdown",
   "id": "187a7fe4",
   "metadata": {},
   "source": [
    "Нужно защитить данные клиентов страховой компании. Разработать такой метод преобразования данных, чтобы по ним было сложно восстановить персональную информацию. Обоснуовать корректность его работы.\n",
    "Нужно защитить данные, чтобы при преобразовании качество моделей машинного обучения не ухудшилось. "
   ]
  },
  {
   "cell_type": "markdown",
   "id": "18a06972",
   "metadata": {},
   "source": [
    "### Пункт 1"
   ]
  },
  {
   "cell_type": "markdown",
   "id": "2abdd8f4",
   "metadata": {},
   "source": [
    "Импортируем необходимые библиотеки, модели и метрики"
   ]
  },
  {
   "cell_type": "code",
   "execution_count": 1,
   "id": "09d9cce9",
   "metadata": {},
   "outputs": [],
   "source": [
    "import pandas as pd\n",
    "import numpy as np\n",
    "from sklearn.linear_model import LinearRegression\n",
    "from sklearn.preprocessing import StandardScaler\n",
    "from sklearn.model_selection import train_test_split\n",
    "from sklearn.metrics import r2_score"
   ]
  },
  {
   "cell_type": "markdown",
   "id": "9acfba84",
   "metadata": {},
   "source": [
    "Загружаем датасет"
   ]
  },
  {
   "cell_type": "code",
   "execution_count": 2,
   "id": "3ca6efbf",
   "metadata": {},
   "outputs": [],
   "source": [
    "import os\n",
    "\n",
    "pth1 = 'insurance.csv'\n",
    "pth2 = '/datasets/insurance.csv'\n",
    "\n",
    "\n",
    "if os.path.exists(pth1):\n",
    "    df = pd.read_csv(pth1)\n",
    "    \n",
    "elif os.path.exists(pth2):\n",
    "    df = pd.read_csv(pth2)\n",
    "    \n",
    "else:\n",
    "    print('Something is wrong')"
   ]
  },
  {
   "cell_type": "markdown",
   "id": "e520e0a1",
   "metadata": {},
   "source": [
    "Изучаем данные"
   ]
  },
  {
   "cell_type": "code",
   "execution_count": 3,
   "id": "14bcf407",
   "metadata": {},
   "outputs": [
    {
     "name": "stdout",
     "output_type": "stream",
     "text": [
      "<class 'pandas.core.frame.DataFrame'>\n",
      "RangeIndex: 5000 entries, 0 to 4999\n",
      "Data columns (total 5 columns):\n",
      " #   Column             Non-Null Count  Dtype  \n",
      "---  ------             --------------  -----  \n",
      " 0   Пол                5000 non-null   int64  \n",
      " 1   Возраст            5000 non-null   float64\n",
      " 2   Зарплата           5000 non-null   float64\n",
      " 3   Члены семьи        5000 non-null   int64  \n",
      " 4   Страховые выплаты  5000 non-null   int64  \n",
      "dtypes: float64(2), int64(3)\n",
      "memory usage: 195.4 KB\n"
     ]
    }
   ],
   "source": [
    "df.info()"
   ]
  },
  {
   "cell_type": "code",
   "execution_count": 4,
   "id": "792ed8b8",
   "metadata": {},
   "outputs": [
    {
     "data": {
      "text/html": [
       "<div>\n",
       "<style scoped>\n",
       "    .dataframe tbody tr th:only-of-type {\n",
       "        vertical-align: middle;\n",
       "    }\n",
       "\n",
       "    .dataframe tbody tr th {\n",
       "        vertical-align: top;\n",
       "    }\n",
       "\n",
       "    .dataframe thead th {\n",
       "        text-align: right;\n",
       "    }\n",
       "</style>\n",
       "<table border=\"1\" class=\"dataframe\">\n",
       "  <thead>\n",
       "    <tr style=\"text-align: right;\">\n",
       "      <th></th>\n",
       "      <th>Пол</th>\n",
       "      <th>Возраст</th>\n",
       "      <th>Зарплата</th>\n",
       "      <th>Члены семьи</th>\n",
       "      <th>Страховые выплаты</th>\n",
       "    </tr>\n",
       "  </thead>\n",
       "  <tbody>\n",
       "    <tr>\n",
       "      <th>0</th>\n",
       "      <td>1</td>\n",
       "      <td>41.0</td>\n",
       "      <td>49600.0</td>\n",
       "      <td>1</td>\n",
       "      <td>0</td>\n",
       "    </tr>\n",
       "    <tr>\n",
       "      <th>1</th>\n",
       "      <td>0</td>\n",
       "      <td>46.0</td>\n",
       "      <td>38000.0</td>\n",
       "      <td>1</td>\n",
       "      <td>1</td>\n",
       "    </tr>\n",
       "    <tr>\n",
       "      <th>2</th>\n",
       "      <td>0</td>\n",
       "      <td>29.0</td>\n",
       "      <td>21000.0</td>\n",
       "      <td>0</td>\n",
       "      <td>0</td>\n",
       "    </tr>\n",
       "    <tr>\n",
       "      <th>3</th>\n",
       "      <td>0</td>\n",
       "      <td>21.0</td>\n",
       "      <td>41700.0</td>\n",
       "      <td>2</td>\n",
       "      <td>0</td>\n",
       "    </tr>\n",
       "    <tr>\n",
       "      <th>4</th>\n",
       "      <td>1</td>\n",
       "      <td>28.0</td>\n",
       "      <td>26100.0</td>\n",
       "      <td>0</td>\n",
       "      <td>0</td>\n",
       "    </tr>\n",
       "  </tbody>\n",
       "</table>\n",
       "</div>"
      ],
      "text/plain": [
       "   Пол  Возраст  Зарплата  Члены семьи  Страховые выплаты\n",
       "0    1     41.0   49600.0            1                  0\n",
       "1    0     46.0   38000.0            1                  1\n",
       "2    0     29.0   21000.0            0                  0\n",
       "3    0     21.0   41700.0            2                  0\n",
       "4    1     28.0   26100.0            0                  0"
      ]
     },
     "execution_count": 4,
     "metadata": {},
     "output_type": "execute_result"
    }
   ],
   "source": [
    "df.head(5)"
   ]
  },
  {
   "cell_type": "markdown",
   "id": "adfbb1fc",
   "metadata": {},
   "source": [
    "Для удобства меняем названия столбцов в датасете"
   ]
  },
  {
   "cell_type": "code",
   "execution_count": 5,
   "id": "e59cb04b",
   "metadata": {},
   "outputs": [
    {
     "data": {
      "text/html": [
       "<div>\n",
       "<style scoped>\n",
       "    .dataframe tbody tr th:only-of-type {\n",
       "        vertical-align: middle;\n",
       "    }\n",
       "\n",
       "    .dataframe tbody tr th {\n",
       "        vertical-align: top;\n",
       "    }\n",
       "\n",
       "    .dataframe thead th {\n",
       "        text-align: right;\n",
       "    }\n",
       "</style>\n",
       "<table border=\"1\" class=\"dataframe\">\n",
       "  <thead>\n",
       "    <tr style=\"text-align: right;\">\n",
       "      <th></th>\n",
       "      <th>gender</th>\n",
       "      <th>age</th>\n",
       "      <th>salary</th>\n",
       "      <th>family_members</th>\n",
       "      <th>insurance_payments</th>\n",
       "    </tr>\n",
       "  </thead>\n",
       "  <tbody>\n",
       "    <tr>\n",
       "      <th>0</th>\n",
       "      <td>1</td>\n",
       "      <td>41.0</td>\n",
       "      <td>49600.0</td>\n",
       "      <td>1</td>\n",
       "      <td>0</td>\n",
       "    </tr>\n",
       "    <tr>\n",
       "      <th>1</th>\n",
       "      <td>0</td>\n",
       "      <td>46.0</td>\n",
       "      <td>38000.0</td>\n",
       "      <td>1</td>\n",
       "      <td>1</td>\n",
       "    </tr>\n",
       "    <tr>\n",
       "      <th>2</th>\n",
       "      <td>0</td>\n",
       "      <td>29.0</td>\n",
       "      <td>21000.0</td>\n",
       "      <td>0</td>\n",
       "      <td>0</td>\n",
       "    </tr>\n",
       "    <tr>\n",
       "      <th>3</th>\n",
       "      <td>0</td>\n",
       "      <td>21.0</td>\n",
       "      <td>41700.0</td>\n",
       "      <td>2</td>\n",
       "      <td>0</td>\n",
       "    </tr>\n",
       "    <tr>\n",
       "      <th>4</th>\n",
       "      <td>1</td>\n",
       "      <td>28.0</td>\n",
       "      <td>26100.0</td>\n",
       "      <td>0</td>\n",
       "      <td>0</td>\n",
       "    </tr>\n",
       "  </tbody>\n",
       "</table>\n",
       "</div>"
      ],
      "text/plain": [
       "   gender   age   salary  family_members  insurance_payments\n",
       "0       1  41.0  49600.0               1                   0\n",
       "1       0  46.0  38000.0               1                   1\n",
       "2       0  29.0  21000.0               0                   0\n",
       "3       0  21.0  41700.0               2                   0\n",
       "4       1  28.0  26100.0               0                   0"
      ]
     },
     "execution_count": 5,
     "metadata": {},
     "output_type": "execute_result"
    }
   ],
   "source": [
    "df = df.rename(columns = {'Пол' : 'gender', 'Возраст' : 'age', 'Зарплата' : 'salary', 'Члены семьи' : 'family_members', \n",
    "                'Страховые выплаты' : 'insurance_payments'})\n",
    "df.head(5)"
   ]
  },
  {
   "cell_type": "markdown",
   "id": "a71fb9c7",
   "metadata": {},
   "source": [
    "Меняем формат чисел на целочисленный в столбцах: <font color=red>'age', 'salary'</font>"
   ]
  },
  {
   "cell_type": "code",
   "execution_count": 6,
   "id": "73cf45d9",
   "metadata": {},
   "outputs": [
    {
     "name": "stdout",
     "output_type": "stream",
     "text": [
      "<class 'pandas.core.frame.DataFrame'>\n",
      "RangeIndex: 5000 entries, 0 to 4999\n",
      "Data columns (total 5 columns):\n",
      " #   Column              Non-Null Count  Dtype\n",
      "---  ------              --------------  -----\n",
      " 0   gender              5000 non-null   int64\n",
      " 1   age                 5000 non-null   int64\n",
      " 2   salary              5000 non-null   int64\n",
      " 3   family_members      5000 non-null   int64\n",
      " 4   insurance_payments  5000 non-null   int64\n",
      "dtypes: int64(5)\n",
      "memory usage: 195.4 KB\n"
     ]
    }
   ],
   "source": [
    "df = df.astype({'age': np.int64, 'salary': np.int64})\n",
    "df.info()"
   ]
  },
  {
   "cell_type": "markdown",
   "id": "2ccd4833",
   "metadata": {},
   "source": [
    "Проверяем:"
   ]
  },
  {
   "cell_type": "code",
   "execution_count": 7,
   "id": "36905e6f",
   "metadata": {},
   "outputs": [
    {
     "data": {
      "text/html": [
       "<div>\n",
       "<style scoped>\n",
       "    .dataframe tbody tr th:only-of-type {\n",
       "        vertical-align: middle;\n",
       "    }\n",
       "\n",
       "    .dataframe tbody tr th {\n",
       "        vertical-align: top;\n",
       "    }\n",
       "\n",
       "    .dataframe thead th {\n",
       "        text-align: right;\n",
       "    }\n",
       "</style>\n",
       "<table border=\"1\" class=\"dataframe\">\n",
       "  <thead>\n",
       "    <tr style=\"text-align: right;\">\n",
       "      <th></th>\n",
       "      <th>gender</th>\n",
       "      <th>age</th>\n",
       "      <th>salary</th>\n",
       "      <th>family_members</th>\n",
       "      <th>insurance_payments</th>\n",
       "    </tr>\n",
       "  </thead>\n",
       "  <tbody>\n",
       "    <tr>\n",
       "      <th>0</th>\n",
       "      <td>1</td>\n",
       "      <td>41</td>\n",
       "      <td>49600</td>\n",
       "      <td>1</td>\n",
       "      <td>0</td>\n",
       "    </tr>\n",
       "    <tr>\n",
       "      <th>1</th>\n",
       "      <td>0</td>\n",
       "      <td>46</td>\n",
       "      <td>38000</td>\n",
       "      <td>1</td>\n",
       "      <td>1</td>\n",
       "    </tr>\n",
       "    <tr>\n",
       "      <th>2</th>\n",
       "      <td>0</td>\n",
       "      <td>29</td>\n",
       "      <td>21000</td>\n",
       "      <td>0</td>\n",
       "      <td>0</td>\n",
       "    </tr>\n",
       "    <tr>\n",
       "      <th>3</th>\n",
       "      <td>0</td>\n",
       "      <td>21</td>\n",
       "      <td>41700</td>\n",
       "      <td>2</td>\n",
       "      <td>0</td>\n",
       "    </tr>\n",
       "    <tr>\n",
       "      <th>4</th>\n",
       "      <td>1</td>\n",
       "      <td>28</td>\n",
       "      <td>26100</td>\n",
       "      <td>0</td>\n",
       "      <td>0</td>\n",
       "    </tr>\n",
       "  </tbody>\n",
       "</table>\n",
       "</div>"
      ],
      "text/plain": [
       "   gender  age  salary  family_members  insurance_payments\n",
       "0       1   41   49600               1                   0\n",
       "1       0   46   38000               1                   1\n",
       "2       0   29   21000               0                   0\n",
       "3       0   21   41700               2                   0\n",
       "4       1   28   26100               0                   0"
      ]
     },
     "execution_count": 7,
     "metadata": {},
     "output_type": "execute_result"
    }
   ],
   "source": [
    "df.head(5)"
   ]
  },
  {
   "cell_type": "markdown",
   "id": "1decf7c7",
   "metadata": {},
   "source": [
    "Проверяем имеются ли дубликаты:"
   ]
  },
  {
   "cell_type": "code",
   "execution_count": 8,
   "id": "e384274e",
   "metadata": {},
   "outputs": [
    {
     "data": {
      "text/plain": [
       "153"
      ]
     },
     "execution_count": 8,
     "metadata": {},
     "output_type": "execute_result"
    }
   ],
   "source": [
    "df.duplicated().sum()"
   ]
  },
  {
   "cell_type": "markdown",
   "id": "4c2002eb",
   "metadata": {},
   "source": [
    "Удаляем дубликаты и проверяем еще раз датасет на наичие дубоикатов:"
   ]
  },
  {
   "cell_type": "code",
   "execution_count": 9,
   "id": "af1af91b",
   "metadata": {},
   "outputs": [],
   "source": [
    "df = df.drop_duplicates()"
   ]
  },
  {
   "cell_type": "code",
   "execution_count": 10,
   "id": "ee426c15",
   "metadata": {},
   "outputs": [
    {
     "data": {
      "text/plain": [
       "0"
      ]
     },
     "execution_count": 10,
     "metadata": {},
     "output_type": "execute_result"
    }
   ],
   "source": [
    "df.duplicated().sum()"
   ]
  },
  {
   "cell_type": "markdown",
   "id": "18dc2456",
   "metadata": {},
   "source": [
    "Дубликатов нет"
   ]
  },
  {
   "cell_type": "code",
   "execution_count": 11,
   "id": "a8e23543",
   "metadata": {},
   "outputs": [
    {
     "name": "stdout",
     "output_type": "stream",
     "text": [
      "<class 'pandas.core.frame.DataFrame'>\n",
      "Int64Index: 4847 entries, 0 to 4999\n",
      "Data columns (total 5 columns):\n",
      " #   Column              Non-Null Count  Dtype\n",
      "---  ------              --------------  -----\n",
      " 0   gender              4847 non-null   int64\n",
      " 1   age                 4847 non-null   int64\n",
      " 2   salary              4847 non-null   int64\n",
      " 3   family_members      4847 non-null   int64\n",
      " 4   insurance_payments  4847 non-null   int64\n",
      "dtypes: int64(5)\n",
      "memory usage: 227.2 KB\n"
     ]
    }
   ],
   "source": [
    "df.info()"
   ]
  },
  {
   "cell_type": "markdown",
   "id": "0f1c2fea",
   "metadata": {},
   "source": [
    "Проверяем уикальные значения в столбцах: <font color=red> 'family_members' , 'insurance_payments' </font>"
   ]
  },
  {
   "cell_type": "code",
   "execution_count": 12,
   "id": "5d8f9216",
   "metadata": {},
   "outputs": [
    {
     "data": {
      "text/plain": [
       "array([1, 0, 2, 4, 3, 5, 6], dtype=int64)"
      ]
     },
     "execution_count": 12,
     "metadata": {},
     "output_type": "execute_result"
    }
   ],
   "source": [
    "df['family_members'].unique()"
   ]
  },
  {
   "cell_type": "code",
   "execution_count": 13,
   "id": "efb390fb",
   "metadata": {},
   "outputs": [
    {
     "data": {
      "text/plain": [
       "array([0, 1, 2, 3, 5, 4], dtype=int64)"
      ]
     },
     "execution_count": 13,
     "metadata": {},
     "output_type": "execute_result"
    }
   ],
   "source": [
    "df['insurance_payments'].unique()"
   ]
  },
  {
   "cell_type": "code",
   "execution_count": 14,
   "id": "15c4a95e",
   "metadata": {},
   "outputs": [
    {
     "data": {
      "text/html": [
       "<div>\n",
       "<style scoped>\n",
       "    .dataframe tbody tr th:only-of-type {\n",
       "        vertical-align: middle;\n",
       "    }\n",
       "\n",
       "    .dataframe tbody tr th {\n",
       "        vertical-align: top;\n",
       "    }\n",
       "\n",
       "    .dataframe thead th {\n",
       "        text-align: right;\n",
       "    }\n",
       "</style>\n",
       "<table border=\"1\" class=\"dataframe\">\n",
       "  <thead>\n",
       "    <tr style=\"text-align: right;\">\n",
       "      <th></th>\n",
       "      <th>gender</th>\n",
       "      <th>age</th>\n",
       "      <th>salary</th>\n",
       "      <th>family_members</th>\n",
       "      <th>insurance_payments</th>\n",
       "    </tr>\n",
       "  </thead>\n",
       "  <tbody>\n",
       "    <tr>\n",
       "      <th>count</th>\n",
       "      <td>4847.000000</td>\n",
       "      <td>4847.000000</td>\n",
       "      <td>4847.000000</td>\n",
       "      <td>4847.000000</td>\n",
       "      <td>4847.000000</td>\n",
       "    </tr>\n",
       "    <tr>\n",
       "      <th>mean</th>\n",
       "      <td>0.498453</td>\n",
       "      <td>31.023932</td>\n",
       "      <td>39895.811223</td>\n",
       "      <td>1.203425</td>\n",
       "      <td>0.152259</td>\n",
       "    </tr>\n",
       "    <tr>\n",
       "      <th>std</th>\n",
       "      <td>0.500049</td>\n",
       "      <td>8.487995</td>\n",
       "      <td>9972.952441</td>\n",
       "      <td>1.098664</td>\n",
       "      <td>0.468934</td>\n",
       "    </tr>\n",
       "    <tr>\n",
       "      <th>min</th>\n",
       "      <td>0.000000</td>\n",
       "      <td>18.000000</td>\n",
       "      <td>5300.000000</td>\n",
       "      <td>0.000000</td>\n",
       "      <td>0.000000</td>\n",
       "    </tr>\n",
       "    <tr>\n",
       "      <th>50%</th>\n",
       "      <td>0.000000</td>\n",
       "      <td>30.000000</td>\n",
       "      <td>40200.000000</td>\n",
       "      <td>1.000000</td>\n",
       "      <td>0.000000</td>\n",
       "    </tr>\n",
       "    <tr>\n",
       "      <th>75%</th>\n",
       "      <td>1.000000</td>\n",
       "      <td>37.000000</td>\n",
       "      <td>46600.000000</td>\n",
       "      <td>2.000000</td>\n",
       "      <td>0.000000</td>\n",
       "    </tr>\n",
       "    <tr>\n",
       "      <th>max</th>\n",
       "      <td>1.000000</td>\n",
       "      <td>65.000000</td>\n",
       "      <td>79000.000000</td>\n",
       "      <td>6.000000</td>\n",
       "      <td>5.000000</td>\n",
       "    </tr>\n",
       "  </tbody>\n",
       "</table>\n",
       "</div>"
      ],
      "text/plain": [
       "            gender          age        salary  family_members  \\\n",
       "count  4847.000000  4847.000000   4847.000000     4847.000000   \n",
       "mean      0.498453    31.023932  39895.811223        1.203425   \n",
       "std       0.500049     8.487995   9972.952441        1.098664   \n",
       "min       0.000000    18.000000   5300.000000        0.000000   \n",
       "50%       0.000000    30.000000  40200.000000        1.000000   \n",
       "75%       1.000000    37.000000  46600.000000        2.000000   \n",
       "max       1.000000    65.000000  79000.000000        6.000000   \n",
       "\n",
       "       insurance_payments  \n",
       "count         4847.000000  \n",
       "mean             0.152259  \n",
       "std              0.468934  \n",
       "min              0.000000  \n",
       "50%              0.000000  \n",
       "75%              0.000000  \n",
       "max              5.000000  "
      ]
     },
     "execution_count": 14,
     "metadata": {},
     "output_type": "execute_result"
    }
   ],
   "source": [
    "df.describe(percentiles = (.5, .75))"
   ]
  },
  {
   "cell_type": "markdown",
   "id": "8615b2fa",
   "metadata": {},
   "source": [
    "#### Вывод"
   ]
  },
  {
   "cell_type": "markdown",
   "id": "6445df9d",
   "metadata": {},
   "source": [
    "Данные изучены, столбцы переименованы для удобства. Числовые форматы приведены к целочисленным. Удалены дубликаты, изучены уникальные значения столбцов датасета"
   ]
  },
  {
   "cell_type": "markdown",
   "id": "a3d5e99d",
   "metadata": {},
   "source": [
    "### Пункт 2"
   ]
  },
  {
   "cell_type": "markdown",
   "id": "7a501b22",
   "metadata": {},
   "source": [
    "<b>Необходимо ответить на вопрос и обосновать решение.</b>\n",
    "\n",
    "<i> Признаки умножают на обратимую матрицу. Изменится ли качество линейной регрессии? (Её можно обучить заново.) </i>\n",
    "\n",
    "<i> a. Изменится. Приведите примеры матриц.</i>\n",
    "\n",
    "<i>b. Не изменится. Укажите, как связаны параметры линейной регрессии в исходной задаче и в преобразованной.</i>"
   ]
  },
  {
   "cell_type": "markdown",
   "id": "b27803f6",
   "metadata": {},
   "source": [
    "Свойство обратимой матрицы:\n",
    "\n",
    " - Матрицу A называют обратимой, если для нее существует обратная, в противном случае — необратимой.\n",
    "    \n",
    "      Из определения следует, что если обратная матрица A<sup>-1</sup> существует, то она квадратная того же порядка, что и A.                Однако не для всякой квадратной матрицы существует обратная. Если определитель матрицы A равен нулю (det A = 0),                то для нее не существует обратной. \n",
    "  \n",
    "Свойства обратных матриц:\n",
    " - Обратное значение обратной матрицы A<sup>-1</sup> эквивалентно исходной матрице A: (A<sup>-1</sup>)<sup>-1</sup>=A.\n",
    " - Определитель исходной матрицы A соответствует обратному значению детерминанта обратной матрицы A<sup>-1</sup>: |A|=1/|A<sup>-1</sup>|.\n",
    " - Матрица, обратная матрице A, умноженной на коэффициент λ≠0, равна значению, полученному при умножении обратной матрицы A<sup>-1</sup> и обратного значения коэффициента λ, то есть (λ×A)<sup>-1</sup>=A<sup>-1</sup>/λ.\n",
    " - Обратное значение произведения обратимых матриц A и B с одинаковым числом строк и столбцов будет равно значению, полученному при умножении матриц, обратных исходным, то есть (A×B)<sup>-1</sup>=B<sup>-1</sup>×A<sup>-1</sup>.\n",
    " - Обратная матрица транспонированной матрицы эквивалентна транспонированной обратной матрице (A<sup>-1</sup>)<sup>T</sup>=(A<sup>T</sup>)<sup>-1</sup>.  "
   ]
  },
  {
   "cell_type": "markdown",
   "id": "8dd609a7",
   "metadata": {},
   "source": [
    "Обозначения:\n",
    "\n",
    " X - матрица признаков (нулевой столбец состоит из единиц)\n",
    "\n",
    " y - вектор целевого признака\n",
    "\n",
    " Р - матрица, на которую умножаются признаки\n",
    "\n",
    " w - вектор весов линейной регрессии \n",
    " \n",
    " w* - вектор весов линейной регрессии матрицы полученной домножение исходной на обратимую матрицу\n",
    "\n",
    " y^ - предсказания по исходной матрице признаков\n",
    "\n",
    " y^* - предсказания по матрице полученной домноженной на обратимую матрицу\n",
    " \n",
    " \n",
    " <b>Исходная матрица признаков Х:</b>\n",
    "  \n",
    "  <i>предсказание:</i>\n",
    "                                   \n",
    "<center>y = X*w</center>\n",
    "                                   \n",
    "  <i>Задача обучения линейной регрессии такая:</i>\n",
    "    \n",
    "<center>w = arg min MSE(Xw,y)</center>\n",
    "<center>w</center>\n",
    "                                             \n",
    "   <i>Обучение:</i>\n",
    "   \n",
    "<center>w = (X<sup>T</sup>X)<sup>-1</sup>X<sup>T</sup>y</center>\n",
    "\n",
    "\n",
    "\n"
   ]
  },
  {
   "cell_type": "markdown",
   "id": "0942adfc",
   "metadata": {},
   "source": [
    "Распишем формулу предсказания:\n",
    "\n",
    "<center>y^ = X(X<sup>T</sup>X)<sup>-1</sup>X<sup>T</sup>y</center>\n"
   ]
  },
  {
   "cell_type": "markdown",
   "id": "07939d62",
   "metadata": {},
   "source": [
    "Раскроем скобки:\n",
    "    \n",
    "<center>y^ = X(X<sup>T</sup>)<sup>-1</sup>X(X)<sup>-1</sup>X<sup>T</sup>y</center>    \n",
    "    "
   ]
  },
  {
   "cell_type": "markdown",
   "id": "45fda0e4",
   "metadata": {},
   "source": [
    "По свойству единичной матрицы: \n",
    "    \n",
    "<center>y^ = EEy</center> \n"
   ]
  },
  {
   "cell_type": "markdown",
   "id": "33f41bd6",
   "metadata": {},
   "source": [
    "<center> y^ = y</center>"
   ]
  },
  {
   "cell_type": "markdown",
   "id": "7d9e894d",
   "metadata": {},
   "source": [
    "<b>новая матрица признаков Х(Р):</b>\n",
    "  \n",
    "  <i>предсказание:</i>\n",
    "                                   \n",
    "<center>y^* = XPw*</center>\n",
    "                                   \n",
    "                                           \n",
    "  <i>Обуение:</i>\n",
    "  \n",
    "   \n",
    "<center>w* = ((XP)<sup>T</sup>XP)<sup>-1</sup>(XP)<sup>T</sup>y</center>\n",
    "\n",
    "  <i>Раскоем скобки</i>\n",
    "  \n",
    "<center>w* = (X<sup>T</sup>P<sup>T</sup>XP)<sup>-1</sup>X<sup>T</sup>P<sup>T</sup>y</center>\n",
    "\n",
    "\n",
    "\n",
    "<br>\n",
    "<center>w* = (X<sup>T</sup>P<sup>T</sup>)<sup>-1</sup>(XP)<sup>-1</sup>X<sup>T</sup>P<sup>T</sup>y</center>\n",
    "<br>\n",
    "\n",
    "\n",
    "<center>w* = P<sup>-1</sup> (X<sup>T </sup>X)<sup>-1</sup> \n",
    "    (P<sup>T</sup>)<sup>-1</sup>X<sup>T</sup>P<sup>T</sup>y</center>\n",
    "<br>\n",
    "  <i>Сокращаем произведение матриц (P<sup>T</sup>)<sup>-1</sup>P<sup>T</sup> по свойству единичной матрицы. Получаем 1, т.е. можно опустить:</i>\n",
    "<br>\n",
    "<center>w* = (X<sup>T</sup>X)<sup>-1</sup>P<sup>-1</sup>X<sup>T</sup>y</center>\n",
    "  \n"
   ]
  },
  {
   "cell_type": "markdown",
   "id": "4e6c582f",
   "metadata": {},
   "source": [
    "Распишем формулу предсказания:\n",
    "\n",
    "<center>y^* = XP(X<sup>T</sup>X)<sup>-1</sup>P<sup>-1</sup>X<sup>T</sup>y</center>\n",
    "\n",
    "<i>Сокращаем произведение матриц P(P)<sup>-1</sup> по свойству единичной матрицы. Получаем 1, т.е. можно опустить:</i>"
   ]
  },
  {
   "cell_type": "markdown",
   "id": "885e5398",
   "metadata": {},
   "source": [
    "<center>y^* = X(X<sup>T</sup>X)<sup>-1</sup>X<sup>T</sup>y"
   ]
  },
  {
   "cell_type": "markdown",
   "id": "18a98bf8",
   "metadata": {},
   "source": [
    "Получили формулу для y^ которая полностью совпадает с формулой для y^*\n",
    "\n",
    "Из этого можно сделать вывод, что в частности значение метрики r2 не изменится"
   ]
  },
  {
   "cell_type": "markdown",
   "id": "9dc1feea",
   "metadata": {},
   "source": [
    "Вывод: при умножении признаков на обратимую матрицу качество линейной регрессии не меняется."
   ]
  },
  {
   "cell_type": "markdown",
   "id": "7322b23b",
   "metadata": {},
   "source": [
    "Создадим произвольную матрицу"
   ]
  },
  {
   "cell_type": "code",
   "execution_count": 15,
   "id": "4aa63b59",
   "metadata": {},
   "outputs": [
    {
     "name": "stdout",
     "output_type": "stream",
     "text": [
      "[[67 60 38 41]\n",
      " [68 75 99 36]\n",
      " [95  1 67 55]\n",
      " [93  5 66 26]]\n"
     ]
    }
   ],
   "source": [
    "P = np.random.randint(100, size=(4,4))\n",
    "print(P)"
   ]
  },
  {
   "cell_type": "markdown",
   "id": "df14fb35",
   "metadata": {},
   "source": [
    "Проверим на обратимость матрицу.\n",
    "\n",
    "Умножим матрицу на обратную"
   ]
  },
  {
   "cell_type": "code",
   "execution_count": 16,
   "id": "e1349954",
   "metadata": {},
   "outputs": [
    {
     "data": {
      "text/plain": [
       "array([[ 1., -0., -0.,  0.],\n",
       "       [ 0.,  1.,  0.,  0.],\n",
       "       [ 0.,  0.,  1.,  0.],\n",
       "       [ 0., -0.,  0.,  1.]])"
      ]
     },
     "execution_count": 16,
     "metadata": {},
     "output_type": "execute_result"
    }
   ],
   "source": [
    "np.round(np.dot(P, np.linalg.inv(P)))"
   ]
  },
  {
   "cell_type": "markdown",
   "id": "3dad5073",
   "metadata": {},
   "source": [
    "Получили единичную матрицу, что свидетельствует то матрица  обратимая"
   ]
  },
  {
   "cell_type": "markdown",
   "id": "00b73f1d",
   "metadata": {},
   "source": [
    "### Пункт 3"
   ]
  },
  {
   "cell_type": "markdown",
   "id": "b3e3e582",
   "metadata": {},
   "source": [
    "Выделем признаки и целевой признак:"
   ]
  },
  {
   "cell_type": "code",
   "execution_count": 17,
   "id": "aeecd1b9",
   "metadata": {},
   "outputs": [],
   "source": [
    "X = df.drop('insurance_payments', axis=1)\n",
    "y = df['insurance_payments']"
   ]
  },
  {
   "cell_type": "markdown",
   "id": "6d6819e9",
   "metadata": {},
   "source": [
    "скалируем признаки"
   ]
  },
  {
   "cell_type": "code",
   "execution_count": 18,
   "id": "25dc5687",
   "metadata": {},
   "outputs": [
    {
     "data": {
      "text/plain": [
       "StandardScaler()"
      ]
     },
     "execution_count": 18,
     "metadata": {},
     "output_type": "execute_result"
    }
   ],
   "source": [
    "scaler = StandardScaler()\n",
    "scaler.fit(X)\n",
    "\n"
   ]
  },
  {
   "cell_type": "code",
   "execution_count": 19,
   "id": "82522bd4",
   "metadata": {},
   "outputs": [],
   "source": [
    "X = scaler.transform(X)\n"
   ]
  },
  {
   "cell_type": "markdown",
   "id": "7e05d0ea",
   "metadata": {},
   "source": [
    "По формуле вектора предсказания нам необходимо вычислить веса и подставить в формулу для поиска вектора предсказания. Затем сравнить эти вектора  исходной матрицы и матрицы перемноженной на обратимую матрицу"
   ]
  },
  {
   "cell_type": "code",
   "execution_count": 20,
   "id": "86054e1a",
   "metadata": {},
   "outputs": [],
   "source": [
    "w = np.linalg.inv(np.dot(X.T, X)).dot(X.T).dot(y)"
   ]
  },
  {
   "cell_type": "code",
   "execution_count": 21,
   "id": "b27878dc",
   "metadata": {},
   "outputs": [],
   "source": [
    "a = X.dot(w)"
   ]
  },
  {
   "cell_type": "code",
   "execution_count": 22,
   "id": "f017437c",
   "metadata": {},
   "outputs": [],
   "source": [
    "X_P = X.dot(P)"
   ]
  },
  {
   "cell_type": "code",
   "execution_count": 23,
   "id": "e23d3519",
   "metadata": {},
   "outputs": [],
   "source": [
    "w_xp = np.linalg.inv(np.dot(X_P.T, X_P)).dot(X_P.T).dot(y)"
   ]
  },
  {
   "cell_type": "code",
   "execution_count": 24,
   "id": "ba6b90a3",
   "metadata": {},
   "outputs": [],
   "source": [
    "a_xp = X_P.dot(w_xp)"
   ]
  },
  {
   "cell_type": "code",
   "execution_count": 25,
   "id": "3f315052",
   "metadata": {},
   "outputs": [
    {
     "name": "stdout",
     "output_type": "stream",
     "text": [
      " Разница векторов предсказаний равна: 0.0\n"
     ]
    }
   ],
   "source": [
    "print(' Разница векторов предсказаний равна:',np.round(a-a_xp).sum())"
   ]
  },
  {
   "cell_type": "markdown",
   "id": "dee39f0b",
   "metadata": {},
   "source": [
    "На практиеской задаче доказали что при умножении признаков на обратимую матрицу качество линейной регрессии не меняется."
   ]
  },
  {
   "cell_type": "markdown",
   "id": "870b9750",
   "metadata": {},
   "source": [
    "### Пункт 4"
   ]
  },
  {
   "cell_type": "markdown",
   "id": "4e6db3f8",
   "metadata": {},
   "source": [
    "Создадим модель линейной регрессии и обучим ее на данных датасета"
   ]
  },
  {
   "cell_type": "code",
   "execution_count": 26,
   "id": "ad8c93de",
   "metadata": {},
   "outputs": [],
   "source": [
    "def line_rg (X, y):\n",
    "    model = LinearRegression()\n",
    "    model.fit(X, y)\n",
    "    predictions = model.predict(X)\n",
    "    return r2_score(y, predictions)"
   ]
  },
  {
   "cell_type": "markdown",
   "id": "0c2bb26e",
   "metadata": {},
   "source": [
    "Получили следующую метрику качества r2_score из первоначальной матрицы признаков:"
   ]
  },
  {
   "cell_type": "code",
   "execution_count": 27,
   "id": "d28b0bf6",
   "metadata": {},
   "outputs": [
    {
     "name": "stdout",
     "output_type": "stream",
     "text": [
      "метрикa качества r2_score:  0.4302\n"
     ]
    }
   ],
   "source": [
    "print('метрикa качества r2_score: ', round(line_rg(X,y), 4))"
   ]
  },
  {
   "cell_type": "markdown",
   "id": "b3bdf6fb",
   "metadata": {},
   "source": [
    "Получили следующую метрику качества r2_score из первоначальной матрицы признаков умноженную на обратимую матрицу:"
   ]
  },
  {
   "cell_type": "code",
   "execution_count": 28,
   "id": "e22be05c",
   "metadata": {},
   "outputs": [
    {
     "name": "stdout",
     "output_type": "stream",
     "text": [
      "метрикa качества r2_score перемноженных матриц:  0.4302\n"
     ]
    }
   ],
   "source": [
    "print('метрикa качества r2_score перемноженных матриц: ',round(line_rg(X_P, y),4))"
   ]
  },
  {
   "cell_type": "markdown",
   "id": "f3de710f",
   "metadata": {},
   "source": [
    "Проверяем равенство значений метрик"
   ]
  },
  {
   "cell_type": "code",
   "execution_count": 29,
   "id": "4340e78b",
   "metadata": {},
   "outputs": [
    {
     "name": "stdout",
     "output_type": "stream",
     "text": [
      "Метрики верны\n"
     ]
    }
   ],
   "source": [
    "if round(line_rg(X,y), 4) == round(line_rg(X_P, y),4):\n",
    "    print('Метрики верны')\n",
    "else:\n",
    "    print('Ментики не равны')"
   ]
  },
  {
   "cell_type": "code",
   "execution_count": 30,
   "id": "d93e7c36",
   "metadata": {},
   "outputs": [],
   "source": [
    "#Код ревьюера\n",
    "def line_rg (X, y):\n",
    "    model = LinearRegression()\n",
    "    model.fit(X, y)\n",
    "    predictions = model.predict(X)\n",
    "    return r2_score(y, predictions)"
   ]
  },
  {
   "cell_type": "code",
   "execution_count": 31,
   "id": "5c6a55fb",
   "metadata": {},
   "outputs": [
    {
     "name": "stdout",
     "output_type": "stream",
     "text": [
      "метрикa качества r2_score:  0.4302\n"
     ]
    }
   ],
   "source": [
    "#Код ревьюера\n",
    "print('метрикa качества r2_score: ', round(line_rg(X,y), 4))"
   ]
  },
  {
   "cell_type": "markdown",
   "id": "b3a772a7",
   "metadata": {},
   "source": [
    "## Вывод"
   ]
  },
  {
   "cell_type": "markdown",
   "id": "a4a89698",
   "metadata": {},
   "source": [
    "Были загружены и изучены данные.\n",
    "\n",
    "Дан ответ на вопрос и обосновано решение:\n",
    "\n",
    "Признаки умножают на обратимую матрицу. Изменится ли качество линейной регрессии? \n",
    "\n",
    "  -  Не изменится. Укажите, как связаны параметры линейной регрессии в исходной задаче и в преобразованной.\n",
    "  \n",
    "Дл преобразования данных для решения задачи выбран метод умнажения матрицы признаков на  обратимую матрицу, тк качество линейной регрессии не поменяется.\n",
    "\n",
    "Запрограммировали этот алгоритм, применив матричные операции. Проверили, что качество линейной регрессии не отличается до и после преобразования.\n",
    "\n",
    "Применили метрику R2 для оценки качества моделей."
   ]
  }
 ],
 "metadata": {
  "ExecuteTimeLog": [
   {
    "duration": 1357,
    "start_time": "2022-05-05T14:52:09.104Z"
   },
   {
    "duration": 132,
    "start_time": "2022-05-05T14:52:10.463Z"
   },
   {
    "duration": 14,
    "start_time": "2022-05-05T14:52:10.597Z"
   },
   {
    "duration": 20,
    "start_time": "2022-05-05T14:52:10.612Z"
   },
   {
    "duration": 136,
    "start_time": "2022-05-05T14:52:10.634Z"
   },
   {
    "duration": 0,
    "start_time": "2022-05-05T14:52:10.773Z"
   },
   {
    "duration": 0,
    "start_time": "2022-05-05T14:52:10.774Z"
   },
   {
    "duration": 0,
    "start_time": "2022-05-05T14:52:10.775Z"
   },
   {
    "duration": 0,
    "start_time": "2022-05-05T14:52:10.776Z"
   },
   {
    "duration": 0,
    "start_time": "2022-05-05T14:52:10.777Z"
   },
   {
    "duration": 0,
    "start_time": "2022-05-05T14:52:10.778Z"
   },
   {
    "duration": 0,
    "start_time": "2022-05-05T14:52:10.779Z"
   },
   {
    "duration": 0,
    "start_time": "2022-05-05T14:52:10.780Z"
   },
   {
    "duration": 0,
    "start_time": "2022-05-05T14:52:10.780Z"
   },
   {
    "duration": 0,
    "start_time": "2022-05-05T14:52:10.781Z"
   },
   {
    "duration": 0,
    "start_time": "2022-05-05T14:52:10.783Z"
   },
   {
    "duration": 0,
    "start_time": "2022-05-05T14:52:10.784Z"
   },
   {
    "duration": 0,
    "start_time": "2022-05-05T14:52:10.785Z"
   },
   {
    "duration": 0,
    "start_time": "2022-05-05T14:52:10.786Z"
   },
   {
    "duration": 0,
    "start_time": "2022-05-05T14:52:10.787Z"
   },
   {
    "duration": 0,
    "start_time": "2022-05-05T14:52:10.788Z"
   },
   {
    "duration": 0,
    "start_time": "2022-05-05T14:52:10.789Z"
   },
   {
    "duration": 0,
    "start_time": "2022-05-05T14:52:10.789Z"
   },
   {
    "duration": 0,
    "start_time": "2022-05-05T14:52:10.791Z"
   },
   {
    "duration": 0,
    "start_time": "2022-05-05T14:52:10.792Z"
   },
   {
    "duration": 0,
    "start_time": "2022-05-05T14:52:10.793Z"
   },
   {
    "duration": 0,
    "start_time": "2022-05-05T14:52:10.794Z"
   },
   {
    "duration": 0,
    "start_time": "2022-05-05T14:52:10.795Z"
   },
   {
    "duration": 0,
    "start_time": "2022-05-05T14:52:10.796Z"
   },
   {
    "duration": 0,
    "start_time": "2022-05-05T14:52:10.797Z"
   },
   {
    "duration": 0,
    "start_time": "2022-05-05T14:52:10.798Z"
   },
   {
    "duration": 0,
    "start_time": "2022-05-05T14:52:10.799Z"
   },
   {
    "duration": 2226,
    "start_time": "2022-05-05T14:56:09.388Z"
   },
   {
    "duration": 65,
    "start_time": "2022-05-05T14:56:11.616Z"
   },
   {
    "duration": 13,
    "start_time": "2022-05-05T14:56:11.683Z"
   },
   {
    "duration": 18,
    "start_time": "2022-05-05T14:56:11.699Z"
   },
   {
    "duration": 12,
    "start_time": "2022-05-05T14:56:11.719Z"
   },
   {
    "duration": 15,
    "start_time": "2022-05-05T14:56:11.733Z"
   },
   {
    "duration": 8,
    "start_time": "2022-05-05T14:56:11.774Z"
   },
   {
    "duration": 9,
    "start_time": "2022-05-05T14:56:11.783Z"
   },
   {
    "duration": 6,
    "start_time": "2022-05-05T14:56:11.794Z"
   },
   {
    "duration": 9,
    "start_time": "2022-05-05T14:56:11.803Z"
   },
   {
    "duration": 14,
    "start_time": "2022-05-05T14:56:11.814Z"
   },
   {
    "duration": 43,
    "start_time": "2022-05-05T14:56:11.830Z"
   },
   {
    "duration": 6,
    "start_time": "2022-05-05T14:56:11.876Z"
   },
   {
    "duration": 36,
    "start_time": "2022-05-05T14:56:11.884Z"
   },
   {
    "duration": 4,
    "start_time": "2022-05-05T14:56:11.922Z"
   },
   {
    "duration": 51,
    "start_time": "2022-05-05T14:56:11.928Z"
   },
   {
    "duration": 13,
    "start_time": "2022-05-05T14:56:11.982Z"
   },
   {
    "duration": 87,
    "start_time": "2022-05-05T14:56:11.997Z"
   },
   {
    "duration": 7,
    "start_time": "2022-05-05T14:56:12.086Z"
   },
   {
    "duration": 8,
    "start_time": "2022-05-05T14:56:12.095Z"
   },
   {
    "duration": 67,
    "start_time": "2022-05-05T14:56:12.106Z"
   },
   {
    "duration": 93,
    "start_time": "2022-05-05T14:56:12.180Z"
   },
   {
    "duration": 7,
    "start_time": "2022-05-05T14:56:12.275Z"
   },
   {
    "duration": 9,
    "start_time": "2022-05-05T14:56:12.284Z"
   },
   {
    "duration": 89,
    "start_time": "2022-05-05T14:56:12.295Z"
   },
   {
    "duration": 99,
    "start_time": "2022-05-05T14:56:12.387Z"
   },
   {
    "duration": 11,
    "start_time": "2022-05-05T14:56:12.488Z"
   },
   {
    "duration": 82,
    "start_time": "2022-05-05T14:56:12.504Z"
   },
   {
    "duration": 107,
    "start_time": "2022-05-05T14:56:12.674Z"
   },
   {
    "duration": 103,
    "start_time": "2022-05-05T14:56:12.783Z"
   },
   {
    "duration": 8,
    "start_time": "2022-05-05T14:56:12.974Z"
   }
  ],
  "kernelspec": {
   "display_name": "Python 3 (ipykernel)",
   "language": "python",
   "name": "python3"
  },
  "language_info": {
   "codemirror_mode": {
    "name": "ipython",
    "version": 3
   },
   "file_extension": ".py",
   "mimetype": "text/x-python",
   "name": "python",
   "nbconvert_exporter": "python",
   "pygments_lexer": "ipython3",
   "version": "3.9.7"
  },
  "toc": {
   "base_numbering": 1,
   "nav_menu": {},
   "number_sections": true,
   "sideBar": true,
   "skip_h1_title": true,
   "title_cell": "Table of Contents",
   "title_sidebar": "Contents",
   "toc_cell": false,
   "toc_position": {},
   "toc_section_display": true,
   "toc_window_display": false
  }
 },
 "nbformat": 4,
 "nbformat_minor": 5
}
