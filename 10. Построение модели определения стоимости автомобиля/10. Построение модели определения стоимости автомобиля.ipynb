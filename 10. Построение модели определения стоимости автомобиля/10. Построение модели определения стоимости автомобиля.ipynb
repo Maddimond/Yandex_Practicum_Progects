{
 "cells": [
  {
   "cell_type": "markdown",
   "id": "f7f557fd",
   "metadata": {},
   "source": [
    "## Определение стоимости автомобилей"
   ]
  },
  {
   "cell_type": "markdown",
   "id": "ede771b7",
   "metadata": {},
   "source": [
    "Сервис по продаже автомобилей с пробегом «Не бит, не крашен» разрабатывает приложение для привлечения новых клиентов. В нём можно быстро узнать рыночную стоимость своего автомобиля. В распоряжении исторические данные: технические характеристики, комплектации и цены автомобилей. Нужно построить модель для определения стоимости.\n",
    "\n",
    "Заказчику важны:\n",
    "  - качество предсказания;\n",
    "  - скорость предсказания;\n",
    "  - время обучения."
   ]
  },
  {
   "cell_type": "markdown",
   "id": "1a30d95e",
   "metadata": {},
   "source": [
    "### Описание проекта"
   ]
  },
  {
   "cell_type": "markdown",
   "id": "7d43b3e0",
   "metadata": {},
   "source": [
    "Необходимо обучить разные модели. Для каждой попробовать различные гиперпараметры. <br>Проанализируйте скорость работы и качество моделей.<br>\n",
    "Примечания:<br>\n",
    "Для оценки качества моделей нужно применить метрику RMSE.<br>\n"
   ]
  },
  {
   "cell_type": "markdown",
   "id": "abb6b57b",
   "metadata": {},
   "source": [
    "#### 1. Загрузка и подготовка данных"
   ]
  },
  {
   "cell_type": "markdown",
   "id": "35cc33ca",
   "metadata": {},
   "source": [
    "Импрртируем библиотеки"
   ]
  },
  {
   "cell_type": "code",
   "execution_count": 1,
   "id": "01aa4299",
   "metadata": {},
   "outputs": [],
   "source": [
    "import pandas as pd\n",
    "import numpy as np\n",
    "import warnings\n",
    "from sklearn.preprocessing import OrdinalEncoder\n",
    "from sklearn.preprocessing import OneHotEncoder\n",
    "from sklearn.model_selection import train_test_split\n",
    "from sklearn.metrics import mean_squared_error\n",
    "from sklearn.metrics import accuracy_score\n",
    "from sklearn.model_selection import cross_val_score\n",
    "from sklearn.preprocessing import StandardScaler\n",
    "from sklearn.model_selection import RepeatedKFold\n",
    "from sklearn.tree import DecisionTreeRegressor\n",
    "from sklearn.ensemble import RandomForestRegressor\n",
    "from sklearn.linear_model import LinearRegression\n",
    "from lightgbm import LGBMRegressor\n",
    "warnings.filterwarnings(\"ignore\")"
   ]
  },
  {
   "cell_type": "markdown",
   "id": "711c8423",
   "metadata": {},
   "source": [
    "Загружаем данные"
   ]
  },
  {
   "cell_type": "code",
   "execution_count": 2,
   "id": "f3b5714c",
   "metadata": {},
   "outputs": [],
   "source": [
    "import os\n",
    "\n",
    "pth1 = 'autos.csv'\n",
    "pth2 = '/datasets/autos.csv'\n",
    "\n",
    "if os.path.exists(pth1):\n",
    "    df = pd.read_csv(pth1)\n",
    "elif os.path.exists(pth2):\n",
    "    df = pd.read_csv(pth2)\n",
    "else:\n",
    "    print('Something is wrong')"
   ]
  },
  {
   "cell_type": "markdown",
   "id": "af61664b",
   "metadata": {},
   "source": [
    "изучаем размер датасета и информацию по нему"
   ]
  },
  {
   "cell_type": "code",
   "execution_count": 3,
   "id": "3f6726a7",
   "metadata": {},
   "outputs": [
    {
     "data": {
      "text/plain": [
       "(354369, 16)"
      ]
     },
     "execution_count": 3,
     "metadata": {},
     "output_type": "execute_result"
    }
   ],
   "source": [
    "df.shape"
   ]
  },
  {
   "cell_type": "code",
   "execution_count": 4,
   "id": "88778dc3",
   "metadata": {},
   "outputs": [
    {
     "name": "stdout",
     "output_type": "stream",
     "text": [
      "<class 'pandas.core.frame.DataFrame'>\n",
      "RangeIndex: 354369 entries, 0 to 354368\n",
      "Data columns (total 16 columns):\n",
      " #   Column             Non-Null Count   Dtype \n",
      "---  ------             --------------   ----- \n",
      " 0   DateCrawled        354369 non-null  object\n",
      " 1   Price              354369 non-null  int64 \n",
      " 2   VehicleType        316879 non-null  object\n",
      " 3   RegistrationYear   354369 non-null  int64 \n",
      " 4   Gearbox            334536 non-null  object\n",
      " 5   Power              354369 non-null  int64 \n",
      " 6   Model              334664 non-null  object\n",
      " 7   Kilometer          354369 non-null  int64 \n",
      " 8   RegistrationMonth  354369 non-null  int64 \n",
      " 9   FuelType           321474 non-null  object\n",
      " 10  Brand              354369 non-null  object\n",
      " 11  NotRepaired        283215 non-null  object\n",
      " 12  DateCreated        354369 non-null  object\n",
      " 13  NumberOfPictures   354369 non-null  int64 \n",
      " 14  PostalCode         354369 non-null  int64 \n",
      " 15  LastSeen           354369 non-null  object\n",
      "dtypes: int64(7), object(9)\n",
      "memory usage: 43.3+ MB\n"
     ]
    }
   ],
   "source": [
    "df.info()"
   ]
  },
  {
   "cell_type": "code",
   "execution_count": 5,
   "id": "bbe26499",
   "metadata": {
    "scrolled": true
   },
   "outputs": [
    {
     "data": {
      "text/html": [
       "<div>\n",
       "<style scoped>\n",
       "    .dataframe tbody tr th:only-of-type {\n",
       "        vertical-align: middle;\n",
       "    }\n",
       "\n",
       "    .dataframe tbody tr th {\n",
       "        vertical-align: top;\n",
       "    }\n",
       "\n",
       "    .dataframe thead th {\n",
       "        text-align: right;\n",
       "    }\n",
       "</style>\n",
       "<table border=\"1\" class=\"dataframe\">\n",
       "  <thead>\n",
       "    <tr style=\"text-align: right;\">\n",
       "      <th></th>\n",
       "      <th>DateCrawled</th>\n",
       "      <th>Price</th>\n",
       "      <th>VehicleType</th>\n",
       "      <th>RegistrationYear</th>\n",
       "      <th>Gearbox</th>\n",
       "      <th>Power</th>\n",
       "      <th>Model</th>\n",
       "      <th>Kilometer</th>\n",
       "      <th>RegistrationMonth</th>\n",
       "      <th>FuelType</th>\n",
       "      <th>Brand</th>\n",
       "      <th>NotRepaired</th>\n",
       "      <th>DateCreated</th>\n",
       "      <th>NumberOfPictures</th>\n",
       "      <th>PostalCode</th>\n",
       "      <th>LastSeen</th>\n",
       "    </tr>\n",
       "  </thead>\n",
       "  <tbody>\n",
       "    <tr>\n",
       "      <th>0</th>\n",
       "      <td>2016-03-24 11:52:17</td>\n",
       "      <td>480</td>\n",
       "      <td>NaN</td>\n",
       "      <td>1993</td>\n",
       "      <td>manual</td>\n",
       "      <td>0</td>\n",
       "      <td>golf</td>\n",
       "      <td>150000</td>\n",
       "      <td>0</td>\n",
       "      <td>petrol</td>\n",
       "      <td>volkswagen</td>\n",
       "      <td>NaN</td>\n",
       "      <td>2016-03-24 00:00:00</td>\n",
       "      <td>0</td>\n",
       "      <td>70435</td>\n",
       "      <td>2016-04-07 03:16:57</td>\n",
       "    </tr>\n",
       "    <tr>\n",
       "      <th>1</th>\n",
       "      <td>2016-03-24 10:58:45</td>\n",
       "      <td>18300</td>\n",
       "      <td>coupe</td>\n",
       "      <td>2011</td>\n",
       "      <td>manual</td>\n",
       "      <td>190</td>\n",
       "      <td>NaN</td>\n",
       "      <td>125000</td>\n",
       "      <td>5</td>\n",
       "      <td>gasoline</td>\n",
       "      <td>audi</td>\n",
       "      <td>yes</td>\n",
       "      <td>2016-03-24 00:00:00</td>\n",
       "      <td>0</td>\n",
       "      <td>66954</td>\n",
       "      <td>2016-04-07 01:46:50</td>\n",
       "    </tr>\n",
       "    <tr>\n",
       "      <th>2</th>\n",
       "      <td>2016-03-14 12:52:21</td>\n",
       "      <td>9800</td>\n",
       "      <td>suv</td>\n",
       "      <td>2004</td>\n",
       "      <td>auto</td>\n",
       "      <td>163</td>\n",
       "      <td>grand</td>\n",
       "      <td>125000</td>\n",
       "      <td>8</td>\n",
       "      <td>gasoline</td>\n",
       "      <td>jeep</td>\n",
       "      <td>NaN</td>\n",
       "      <td>2016-03-14 00:00:00</td>\n",
       "      <td>0</td>\n",
       "      <td>90480</td>\n",
       "      <td>2016-04-05 12:47:46</td>\n",
       "    </tr>\n",
       "    <tr>\n",
       "      <th>3</th>\n",
       "      <td>2016-03-17 16:54:04</td>\n",
       "      <td>1500</td>\n",
       "      <td>small</td>\n",
       "      <td>2001</td>\n",
       "      <td>manual</td>\n",
       "      <td>75</td>\n",
       "      <td>golf</td>\n",
       "      <td>150000</td>\n",
       "      <td>6</td>\n",
       "      <td>petrol</td>\n",
       "      <td>volkswagen</td>\n",
       "      <td>no</td>\n",
       "      <td>2016-03-17 00:00:00</td>\n",
       "      <td>0</td>\n",
       "      <td>91074</td>\n",
       "      <td>2016-03-17 17:40:17</td>\n",
       "    </tr>\n",
       "    <tr>\n",
       "      <th>4</th>\n",
       "      <td>2016-03-31 17:25:20</td>\n",
       "      <td>3600</td>\n",
       "      <td>small</td>\n",
       "      <td>2008</td>\n",
       "      <td>manual</td>\n",
       "      <td>69</td>\n",
       "      <td>fabia</td>\n",
       "      <td>90000</td>\n",
       "      <td>7</td>\n",
       "      <td>gasoline</td>\n",
       "      <td>skoda</td>\n",
       "      <td>no</td>\n",
       "      <td>2016-03-31 00:00:00</td>\n",
       "      <td>0</td>\n",
       "      <td>60437</td>\n",
       "      <td>2016-04-06 10:17:21</td>\n",
       "    </tr>\n",
       "  </tbody>\n",
       "</table>\n",
       "</div>"
      ],
      "text/plain": [
       "           DateCrawled  Price VehicleType  RegistrationYear Gearbox  Power  \\\n",
       "0  2016-03-24 11:52:17    480         NaN              1993  manual      0   \n",
       "1  2016-03-24 10:58:45  18300       coupe              2011  manual    190   \n",
       "2  2016-03-14 12:52:21   9800         suv              2004    auto    163   \n",
       "3  2016-03-17 16:54:04   1500       small              2001  manual     75   \n",
       "4  2016-03-31 17:25:20   3600       small              2008  manual     69   \n",
       "\n",
       "   Model  Kilometer  RegistrationMonth  FuelType       Brand NotRepaired  \\\n",
       "0   golf     150000                  0    petrol  volkswagen         NaN   \n",
       "1    NaN     125000                  5  gasoline        audi         yes   \n",
       "2  grand     125000                  8  gasoline        jeep         NaN   \n",
       "3   golf     150000                  6    petrol  volkswagen          no   \n",
       "4  fabia      90000                  7  gasoline       skoda          no   \n",
       "\n",
       "           DateCreated  NumberOfPictures  PostalCode             LastSeen  \n",
       "0  2016-03-24 00:00:00                 0       70435  2016-04-07 03:16:57  \n",
       "1  2016-03-24 00:00:00                 0       66954  2016-04-07 01:46:50  \n",
       "2  2016-03-14 00:00:00                 0       90480  2016-04-05 12:47:46  \n",
       "3  2016-03-17 00:00:00                 0       91074  2016-03-17 17:40:17  \n",
       "4  2016-03-31 00:00:00                 0       60437  2016-04-06 10:17:21  "
      ]
     },
     "execution_count": 5,
     "metadata": {},
     "output_type": "execute_result"
    }
   ],
   "source": [
    "df.head(5)"
   ]
  },
  {
   "cell_type": "markdown",
   "id": "420634a5",
   "metadata": {},
   "source": [
    "Переводим названия столбцов в нижний регистр"
   ]
  },
  {
   "cell_type": "code",
   "execution_count": 6,
   "id": "a83243e4",
   "metadata": {},
   "outputs": [],
   "source": [
    "df.columns = df.columns.str.lower()"
   ]
  },
  {
   "cell_type": "markdown",
   "id": "52471030",
   "metadata": {},
   "source": [
    "заполняем пропуски - 'unknown'"
   ]
  },
  {
   "cell_type": "code",
   "execution_count": 7,
   "id": "e98eaaca",
   "metadata": {},
   "outputs": [],
   "source": [
    "df = df.fillna('unknown')"
   ]
  },
  {
   "cell_type": "markdown",
   "id": "ed718e2c",
   "metadata": {},
   "source": [
    "Проверяем"
   ]
  },
  {
   "cell_type": "code",
   "execution_count": 8,
   "id": "c29a02c5",
   "metadata": {
    "scrolled": true
   },
   "outputs": [
    {
     "data": {
      "text/html": [
       "<div>\n",
       "<style scoped>\n",
       "    .dataframe tbody tr th:only-of-type {\n",
       "        vertical-align: middle;\n",
       "    }\n",
       "\n",
       "    .dataframe tbody tr th {\n",
       "        vertical-align: top;\n",
       "    }\n",
       "\n",
       "    .dataframe thead th {\n",
       "        text-align: right;\n",
       "    }\n",
       "</style>\n",
       "<table border=\"1\" class=\"dataframe\">\n",
       "  <thead>\n",
       "    <tr style=\"text-align: right;\">\n",
       "      <th></th>\n",
       "      <th>datecrawled</th>\n",
       "      <th>price</th>\n",
       "      <th>vehicletype</th>\n",
       "      <th>registrationyear</th>\n",
       "      <th>gearbox</th>\n",
       "      <th>power</th>\n",
       "      <th>model</th>\n",
       "      <th>kilometer</th>\n",
       "      <th>registrationmonth</th>\n",
       "      <th>fueltype</th>\n",
       "      <th>brand</th>\n",
       "      <th>notrepaired</th>\n",
       "      <th>datecreated</th>\n",
       "      <th>numberofpictures</th>\n",
       "      <th>postalcode</th>\n",
       "      <th>lastseen</th>\n",
       "    </tr>\n",
       "  </thead>\n",
       "  <tbody>\n",
       "    <tr>\n",
       "      <th>0</th>\n",
       "      <td>2016-03-24 11:52:17</td>\n",
       "      <td>480</td>\n",
       "      <td>unknown</td>\n",
       "      <td>1993</td>\n",
       "      <td>manual</td>\n",
       "      <td>0</td>\n",
       "      <td>golf</td>\n",
       "      <td>150000</td>\n",
       "      <td>0</td>\n",
       "      <td>petrol</td>\n",
       "      <td>volkswagen</td>\n",
       "      <td>unknown</td>\n",
       "      <td>2016-03-24 00:00:00</td>\n",
       "      <td>0</td>\n",
       "      <td>70435</td>\n",
       "      <td>2016-04-07 03:16:57</td>\n",
       "    </tr>\n",
       "    <tr>\n",
       "      <th>1</th>\n",
       "      <td>2016-03-24 10:58:45</td>\n",
       "      <td>18300</td>\n",
       "      <td>coupe</td>\n",
       "      <td>2011</td>\n",
       "      <td>manual</td>\n",
       "      <td>190</td>\n",
       "      <td>unknown</td>\n",
       "      <td>125000</td>\n",
       "      <td>5</td>\n",
       "      <td>gasoline</td>\n",
       "      <td>audi</td>\n",
       "      <td>yes</td>\n",
       "      <td>2016-03-24 00:00:00</td>\n",
       "      <td>0</td>\n",
       "      <td>66954</td>\n",
       "      <td>2016-04-07 01:46:50</td>\n",
       "    </tr>\n",
       "    <tr>\n",
       "      <th>2</th>\n",
       "      <td>2016-03-14 12:52:21</td>\n",
       "      <td>9800</td>\n",
       "      <td>suv</td>\n",
       "      <td>2004</td>\n",
       "      <td>auto</td>\n",
       "      <td>163</td>\n",
       "      <td>grand</td>\n",
       "      <td>125000</td>\n",
       "      <td>8</td>\n",
       "      <td>gasoline</td>\n",
       "      <td>jeep</td>\n",
       "      <td>unknown</td>\n",
       "      <td>2016-03-14 00:00:00</td>\n",
       "      <td>0</td>\n",
       "      <td>90480</td>\n",
       "      <td>2016-04-05 12:47:46</td>\n",
       "    </tr>\n",
       "    <tr>\n",
       "      <th>3</th>\n",
       "      <td>2016-03-17 16:54:04</td>\n",
       "      <td>1500</td>\n",
       "      <td>small</td>\n",
       "      <td>2001</td>\n",
       "      <td>manual</td>\n",
       "      <td>75</td>\n",
       "      <td>golf</td>\n",
       "      <td>150000</td>\n",
       "      <td>6</td>\n",
       "      <td>petrol</td>\n",
       "      <td>volkswagen</td>\n",
       "      <td>no</td>\n",
       "      <td>2016-03-17 00:00:00</td>\n",
       "      <td>0</td>\n",
       "      <td>91074</td>\n",
       "      <td>2016-03-17 17:40:17</td>\n",
       "    </tr>\n",
       "    <tr>\n",
       "      <th>4</th>\n",
       "      <td>2016-03-31 17:25:20</td>\n",
       "      <td>3600</td>\n",
       "      <td>small</td>\n",
       "      <td>2008</td>\n",
       "      <td>manual</td>\n",
       "      <td>69</td>\n",
       "      <td>fabia</td>\n",
       "      <td>90000</td>\n",
       "      <td>7</td>\n",
       "      <td>gasoline</td>\n",
       "      <td>skoda</td>\n",
       "      <td>no</td>\n",
       "      <td>2016-03-31 00:00:00</td>\n",
       "      <td>0</td>\n",
       "      <td>60437</td>\n",
       "      <td>2016-04-06 10:17:21</td>\n",
       "    </tr>\n",
       "  </tbody>\n",
       "</table>\n",
       "</div>"
      ],
      "text/plain": [
       "           datecrawled  price vehicletype  registrationyear gearbox  power  \\\n",
       "0  2016-03-24 11:52:17    480     unknown              1993  manual      0   \n",
       "1  2016-03-24 10:58:45  18300       coupe              2011  manual    190   \n",
       "2  2016-03-14 12:52:21   9800         suv              2004    auto    163   \n",
       "3  2016-03-17 16:54:04   1500       small              2001  manual     75   \n",
       "4  2016-03-31 17:25:20   3600       small              2008  manual     69   \n",
       "\n",
       "     model  kilometer  registrationmonth  fueltype       brand notrepaired  \\\n",
       "0     golf     150000                  0    petrol  volkswagen     unknown   \n",
       "1  unknown     125000                  5  gasoline        audi         yes   \n",
       "2    grand     125000                  8  gasoline        jeep     unknown   \n",
       "3     golf     150000                  6    petrol  volkswagen          no   \n",
       "4    fabia      90000                  7  gasoline       skoda          no   \n",
       "\n",
       "           datecreated  numberofpictures  postalcode             lastseen  \n",
       "0  2016-03-24 00:00:00                 0       70435  2016-04-07 03:16:57  \n",
       "1  2016-03-24 00:00:00                 0       66954  2016-04-07 01:46:50  \n",
       "2  2016-03-14 00:00:00                 0       90480  2016-04-05 12:47:46  \n",
       "3  2016-03-17 00:00:00                 0       91074  2016-03-17 17:40:17  \n",
       "4  2016-03-31 00:00:00                 0       60437  2016-04-06 10:17:21  "
      ]
     },
     "execution_count": 8,
     "metadata": {},
     "output_type": "execute_result"
    }
   ],
   "source": [
    "df.head(5)"
   ]
  },
  {
   "cell_type": "markdown",
   "id": "c610b54e",
   "metadata": {},
   "source": [
    "проверяем наличие дубликатов"
   ]
  },
  {
   "cell_type": "code",
   "execution_count": 9,
   "id": "780a232f",
   "metadata": {},
   "outputs": [
    {
     "data": {
      "text/plain": [
       "4"
      ]
     },
     "execution_count": 9,
     "metadata": {},
     "output_type": "execute_result"
    }
   ],
   "source": [
    "df.duplicated().sum()"
   ]
  },
  {
   "cell_type": "markdown",
   "id": "4d925679",
   "metadata": {},
   "source": [
    "удаляем дубликаты"
   ]
  },
  {
   "cell_type": "code",
   "execution_count": 10,
   "id": "9dc91b11",
   "metadata": {},
   "outputs": [],
   "source": [
    "df = df.drop_duplicates()"
   ]
  },
  {
   "cell_type": "markdown",
   "id": "3c32bb56",
   "metadata": {},
   "source": [
    "Проверем"
   ]
  },
  {
   "cell_type": "code",
   "execution_count": 11,
   "id": "9fca4402",
   "metadata": {},
   "outputs": [
    {
     "data": {
      "text/plain": [
       "0"
      ]
     },
     "execution_count": 11,
     "metadata": {},
     "output_type": "execute_result"
    }
   ],
   "source": [
    "df.duplicated().sum()"
   ]
  },
  {
   "cell_type": "markdown",
   "id": "b5f9fcfb",
   "metadata": {},
   "source": [
    "Изучаем уникальные значения в датасете"
   ]
  },
  {
   "cell_type": "code",
   "execution_count": 12,
   "id": "55e721f4",
   "metadata": {},
   "outputs": [
    {
     "data": {
      "text/plain": [
       "array([1993, 2011, 2004, 2001, 2008, 1995, 1980, 2014, 1998, 2005, 1910,\n",
       "       2016, 2007, 2009, 2002, 2018, 1997, 1990, 2017, 1981, 2003, 1994,\n",
       "       1991, 1984, 2006, 1999, 2012, 2010, 2000, 1992, 2013, 1996, 1985,\n",
       "       1989, 2015, 1982, 1976, 1983, 1973, 1111, 1969, 1971, 1987, 1986,\n",
       "       1988, 1970, 1965, 1945, 1925, 1974, 1979, 1955, 1978, 1972, 1968,\n",
       "       1977, 1961, 1960, 1966, 1975, 1963, 1964, 5000, 1954, 1958, 1967,\n",
       "       1959, 9999, 1956, 3200, 1000, 1941, 8888, 1500, 2200, 4100, 1962,\n",
       "       1929, 1957, 1940, 3000, 2066, 1949, 2019, 1937, 1951, 1800, 1953,\n",
       "       1234, 8000, 5300, 9000, 2900, 6000, 5900, 5911, 1933, 1400, 1950,\n",
       "       4000, 1948, 1952, 1200, 8500, 1932, 1255, 3700, 3800, 4800, 1942,\n",
       "       7000, 1935, 1936, 6500, 1923, 2290, 2500, 1930, 1001, 9450, 1944,\n",
       "       1943, 1934, 1938, 1688, 2800, 1253, 1928, 1919, 5555, 5600, 1600,\n",
       "       2222, 1039, 9996, 1300, 8455, 1931, 1915, 4500, 1920, 1602, 7800,\n",
       "       9229, 1947, 1927, 7100, 8200, 1946, 7500, 3500], dtype=int64)"
      ]
     },
     "execution_count": 12,
     "metadata": {},
     "output_type": "execute_result"
    }
   ],
   "source": [
    "df['registrationyear'].unique()"
   ]
  },
  {
   "cell_type": "markdown",
   "id": "29a3adb8",
   "metadata": {},
   "source": [
    "Видно что имеются не корректные года"
   ]
  },
  {
   "cell_type": "code",
   "execution_count": 13,
   "id": "61001c23",
   "metadata": {},
   "outputs": [
    {
     "data": {
      "text/plain": [
       "array(['volkswagen', 'audi', 'jeep', 'skoda', 'bmw', 'peugeot', 'ford',\n",
       "       'mazda', 'nissan', 'renault', 'mercedes_benz', 'opel', 'seat',\n",
       "       'citroen', 'honda', 'fiat', 'mini', 'smart', 'hyundai',\n",
       "       'sonstige_autos', 'alfa_romeo', 'subaru', 'volvo', 'mitsubishi',\n",
       "       'kia', 'suzuki', 'lancia', 'toyota', 'chevrolet', 'dacia',\n",
       "       'daihatsu', 'trabant', 'saab', 'chrysler', 'jaguar', 'daewoo',\n",
       "       'porsche', 'rover', 'land_rover', 'lada'], dtype=object)"
      ]
     },
     "execution_count": 13,
     "metadata": {},
     "output_type": "execute_result"
    }
   ],
   "source": [
    "df['brand'].unique()"
   ]
  },
  {
   "cell_type": "code",
   "execution_count": 14,
   "id": "b246a5bb",
   "metadata": {},
   "outputs": [
    {
     "data": {
      "text/plain": [
       "array([ 0,  5,  8,  6,  7, 10, 12, 11,  2,  3,  1,  4,  9], dtype=int64)"
      ]
     },
     "execution_count": 14,
     "metadata": {},
     "output_type": "execute_result"
    }
   ],
   "source": [
    "df['registrationmonth'].unique()"
   ]
  },
  {
   "cell_type": "code",
   "execution_count": 15,
   "id": "36b04c58",
   "metadata": {},
   "outputs": [
    {
     "data": {
      "text/plain": [
       "array([0], dtype=int64)"
      ]
     },
     "execution_count": 15,
     "metadata": {},
     "output_type": "execute_result"
    }
   ],
   "source": [
    "df['numberofpictures'].unique()"
   ]
  },
  {
   "cell_type": "code",
   "execution_count": 16,
   "id": "1f78df96",
   "metadata": {},
   "outputs": [
    {
     "data": {
      "text/plain": [
       "array([150000, 125000,  90000,  40000,  30000,  70000,   5000, 100000,\n",
       "        60000,  20000,  80000,  50000,  10000], dtype=int64)"
      ]
     },
     "execution_count": 16,
     "metadata": {},
     "output_type": "execute_result"
    }
   ],
   "source": [
    "df['kilometer'].unique()"
   ]
  },
  {
   "cell_type": "code",
   "execution_count": 17,
   "id": "9a4db495",
   "metadata": {},
   "outputs": [
    {
     "data": {
      "text/plain": [
       "array(['unknown', 'coupe', 'suv', 'small', 'sedan', 'convertible', 'bus',\n",
       "       'wagon', 'other'], dtype=object)"
      ]
     },
     "execution_count": 17,
     "metadata": {},
     "output_type": "execute_result"
    }
   ],
   "source": [
    "df['vehicletype'].unique()"
   ]
  },
  {
   "cell_type": "code",
   "execution_count": 18,
   "id": "8764afd8",
   "metadata": {},
   "outputs": [
    {
     "data": {
      "text/plain": [
       "array(['manual', 'auto', 'unknown'], dtype=object)"
      ]
     },
     "execution_count": 18,
     "metadata": {},
     "output_type": "execute_result"
    }
   ],
   "source": [
    "df['gearbox'].unique()"
   ]
  },
  {
   "cell_type": "code",
   "execution_count": 19,
   "id": "1669bd23",
   "metadata": {},
   "outputs": [
    {
     "data": {
      "text/plain": [
       "array(['golf', 'unknown', 'grand', 'fabia', '3er', '2_reihe', 'other',\n",
       "       'c_max', '3_reihe', 'passat', 'navara', 'ka', 'polo', 'twingo',\n",
       "       'a_klasse', 'scirocco', '5er', 'meriva', 'arosa', 'c4', 'civic',\n",
       "       'transporter', 'punto', 'e_klasse', 'clio', 'kadett', 'kangoo',\n",
       "       'corsa', 'one', 'fortwo', '1er', 'b_klasse', 'signum', 'astra',\n",
       "       'a8', 'jetta', 'fiesta', 'c_klasse', 'micra', 'vito', 'sprinter',\n",
       "       '156', 'escort', 'forester', 'xc_reihe', 'scenic', 'a4', 'a1',\n",
       "       'insignia', 'combo', 'focus', 'tt', 'a6', 'jazz', 'omega', 'slk',\n",
       "       '7er', '80', '147', '100', 'z_reihe', 'sportage', 'sorento', 'v40',\n",
       "       'ibiza', 'mustang', 'eos', 'touran', 'getz', 'a3', 'almera',\n",
       "       'megane', 'lupo', 'r19', 'zafira', 'caddy', 'mondeo', 'cordoba',\n",
       "       'colt', 'impreza', 'vectra', 'berlingo', 'tiguan', 'i_reihe',\n",
       "       'espace', 'sharan', '6_reihe', 'panda', 'up', 'seicento', 'ceed',\n",
       "       '5_reihe', 'yeti', 'octavia', 'mii', 'rx_reihe', '6er', 'modus',\n",
       "       'fox', 'matiz', 'beetle', 'c1', 'rio', 'touareg', 'logan',\n",
       "       'spider', 'cuore', 's_max', 'a2', 'galaxy', 'c3', 'viano',\n",
       "       's_klasse', '1_reihe', 'avensis', 'roomster', 'sl', 'kaefer',\n",
       "       'santa', 'cooper', 'leon', '4_reihe', 'a5', '500', 'laguna',\n",
       "       'ptcruiser', 'clk', 'primera', 'x_reihe', 'exeo', '159', 'transit',\n",
       "       'juke', 'qashqai', 'carisma', 'accord', 'corolla', 'lanos',\n",
       "       'phaeton', 'verso', 'swift', 'rav', 'picanto', 'boxster', 'kalos',\n",
       "       'superb', 'stilo', 'alhambra', 'mx_reihe', 'roadster', 'ypsilon',\n",
       "       'cayenne', 'galant', 'justy', '90', 'sirion', 'crossfire', 'agila',\n",
       "       'duster', 'cr_reihe', 'v50', 'c_reihe', 'v_klasse', 'm_klasse',\n",
       "       'yaris', 'c5', 'aygo', 'cc', 'carnival', 'fusion', '911', 'bora',\n",
       "       'forfour', 'm_reihe', 'cl', 'tigra', '300c', 'spark', 'v70',\n",
       "       'kuga', 'x_type', 'ducato', 's_type', 'x_trail', 'toledo', 'altea',\n",
       "       'voyager', 'calibra', 'bravo', 'antara', 'tucson', 'citigo',\n",
       "       'jimny', 'wrangler', 'lybra', 'q7', 'lancer', 'captiva', 'c2',\n",
       "       'discovery', 'freelander', 'sandero', 'note', '900', 'cherokee',\n",
       "       'clubman', 'samara', 'defender', '601', 'cx_reihe', 'legacy',\n",
       "       'pajero', 'auris', 'niva', 's60', 'nubira', 'vivaro', 'g_klasse',\n",
       "       'lodgy', '850', 'range_rover', 'q3', 'serie_2', 'glk', 'charade',\n",
       "       'croma', 'outlander', 'doblo', 'musa', 'move', '9000', 'v60',\n",
       "       '145', 'aveo', '200', 'b_max', 'range_rover_sport', 'terios',\n",
       "       'rangerover', 'q5', 'range_rover_evoque', 'materia', 'delta', 'gl',\n",
       "       'kalina', 'amarok', 'elefantino', 'i3', 'kappa', 'serie_3',\n",
       "       'serie_1'], dtype=object)"
      ]
     },
     "execution_count": 19,
     "metadata": {},
     "output_type": "execute_result"
    }
   ],
   "source": [
    "df['model'].unique()"
   ]
  },
  {
   "cell_type": "code",
   "execution_count": 20,
   "id": "18d36beb",
   "metadata": {},
   "outputs": [
    {
     "data": {
      "text/plain": [
       "array(['petrol', 'gasoline', 'unknown', 'lpg', 'other', 'hybrid', 'cng',\n",
       "       'electric'], dtype=object)"
      ]
     },
     "execution_count": 20,
     "metadata": {},
     "output_type": "execute_result"
    }
   ],
   "source": [
    "df['fueltype'].unique()"
   ]
  },
  {
   "cell_type": "markdown",
   "id": "03069b39",
   "metadata": {},
   "source": [
    "В столбце - Год регистрации авто - попадаются некорректные года. Это может бытьсвязано как с ошибками автовладельцев заполнявшими данными, так и с ошибками возникшими при выгрузке.\n",
    "\n",
    "Можно предположить то авто выставленные на продажу скорее всего использовались в повседневной жизни и скорее всего машина не могла ездить меньше 5 000 км в  год, тк максимальный пробег авто составляет - 150 000 км.  По этому можно сделать вывод что автомобиль не может быть старше 30 лет в пригодном состоянии. К тому же вряд ли найдется авто старше 30 лет который будет продаваться не на специализированных плащадках для ретро автомобилей."
   ]
  },
  {
   "cell_type": "code",
   "execution_count": 21,
   "id": "788be3e5",
   "metadata": {
    "scrolled": false
   },
   "outputs": [
    {
     "data": {
      "text/html": [
       "<div>\n",
       "<style scoped>\n",
       "    .dataframe tbody tr th:only-of-type {\n",
       "        vertical-align: middle;\n",
       "    }\n",
       "\n",
       "    .dataframe tbody tr th {\n",
       "        vertical-align: top;\n",
       "    }\n",
       "\n",
       "    .dataframe thead th {\n",
       "        text-align: right;\n",
       "    }\n",
       "</style>\n",
       "<table border=\"1\" class=\"dataframe\">\n",
       "  <thead>\n",
       "    <tr style=\"text-align: right;\">\n",
       "      <th></th>\n",
       "      <th>datecrawled</th>\n",
       "      <th>price</th>\n",
       "      <th>vehicletype</th>\n",
       "      <th>registrationyear</th>\n",
       "      <th>gearbox</th>\n",
       "      <th>power</th>\n",
       "      <th>model</th>\n",
       "      <th>kilometer</th>\n",
       "      <th>registrationmonth</th>\n",
       "      <th>fueltype</th>\n",
       "      <th>brand</th>\n",
       "      <th>notrepaired</th>\n",
       "      <th>datecreated</th>\n",
       "      <th>numberofpictures</th>\n",
       "      <th>postalcode</th>\n",
       "      <th>lastseen</th>\n",
       "    </tr>\n",
       "  </thead>\n",
       "  <tbody>\n",
       "    <tr>\n",
       "      <th>46741</th>\n",
       "      <td>2016-03-12 07:36:23</td>\n",
       "      <td>5000</td>\n",
       "      <td>unknown</td>\n",
       "      <td>2900</td>\n",
       "      <td>manual</td>\n",
       "      <td>120</td>\n",
       "      <td>corsa</td>\n",
       "      <td>5000</td>\n",
       "      <td>9</td>\n",
       "      <td>petrol</td>\n",
       "      <td>opel</td>\n",
       "      <td>unknown</td>\n",
       "      <td>2016-03-12 00:00:00</td>\n",
       "      <td>0</td>\n",
       "      <td>9326</td>\n",
       "      <td>2016-04-05 23:18:26</td>\n",
       "    </tr>\n",
       "  </tbody>\n",
       "</table>\n",
       "</div>"
      ],
      "text/plain": [
       "               datecrawled  price vehicletype  registrationyear gearbox  \\\n",
       "46741  2016-03-12 07:36:23   5000     unknown              2900  manual   \n",
       "\n",
       "       power  model  kilometer  registrationmonth fueltype brand notrepaired  \\\n",
       "46741    120  corsa       5000                  9   petrol  opel     unknown   \n",
       "\n",
       "               datecreated  numberofpictures  postalcode             lastseen  \n",
       "46741  2016-03-12 00:00:00                 0        9326  2016-04-05 23:18:26  "
      ]
     },
     "metadata": {},
     "output_type": "display_data"
    }
   ],
   "source": [
    "display(df[df['registrationyear'] == 2900])"
   ]
  },
  {
   "cell_type": "markdown",
   "id": "694fba42",
   "metadata": {},
   "source": [
    "Делаем срез датасета по авто у которых стоит год регистрации больше 2016"
   ]
  },
  {
   "cell_type": "code",
   "execution_count": 22,
   "id": "3bfe27af",
   "metadata": {},
   "outputs": [
    {
     "data": {
      "text/html": [
       "<div>\n",
       "<style scoped>\n",
       "    .dataframe tbody tr th:only-of-type {\n",
       "        vertical-align: middle;\n",
       "    }\n",
       "\n",
       "    .dataframe tbody tr th {\n",
       "        vertical-align: top;\n",
       "    }\n",
       "\n",
       "    .dataframe thead th {\n",
       "        text-align: right;\n",
       "    }\n",
       "</style>\n",
       "<table border=\"1\" class=\"dataframe\">\n",
       "  <thead>\n",
       "    <tr style=\"text-align: right;\">\n",
       "      <th></th>\n",
       "      <th>datecrawled</th>\n",
       "      <th>price</th>\n",
       "      <th>vehicletype</th>\n",
       "      <th>registrationyear</th>\n",
       "      <th>gearbox</th>\n",
       "      <th>power</th>\n",
       "      <th>model</th>\n",
       "      <th>kilometer</th>\n",
       "      <th>registrationmonth</th>\n",
       "      <th>fueltype</th>\n",
       "      <th>brand</th>\n",
       "      <th>notrepaired</th>\n",
       "      <th>datecreated</th>\n",
       "      <th>numberofpictures</th>\n",
       "      <th>postalcode</th>\n",
       "      <th>lastseen</th>\n",
       "    </tr>\n",
       "  </thead>\n",
       "  <tbody>\n",
       "    <tr>\n",
       "      <th>22</th>\n",
       "      <td>2016-03-23 14:52:51</td>\n",
       "      <td>2900</td>\n",
       "      <td>unknown</td>\n",
       "      <td>2018</td>\n",
       "      <td>manual</td>\n",
       "      <td>90</td>\n",
       "      <td>meriva</td>\n",
       "      <td>150000</td>\n",
       "      <td>5</td>\n",
       "      <td>petrol</td>\n",
       "      <td>opel</td>\n",
       "      <td>no</td>\n",
       "      <td>2016-03-23 00:00:00</td>\n",
       "      <td>0</td>\n",
       "      <td>49716</td>\n",
       "      <td>2016-03-31 01:16:33</td>\n",
       "    </tr>\n",
       "    <tr>\n",
       "      <th>26</th>\n",
       "      <td>2016-03-10 19:38:18</td>\n",
       "      <td>5555</td>\n",
       "      <td>unknown</td>\n",
       "      <td>2017</td>\n",
       "      <td>manual</td>\n",
       "      <td>125</td>\n",
       "      <td>c4</td>\n",
       "      <td>125000</td>\n",
       "      <td>4</td>\n",
       "      <td>unknown</td>\n",
       "      <td>citroen</td>\n",
       "      <td>no</td>\n",
       "      <td>2016-03-10 00:00:00</td>\n",
       "      <td>0</td>\n",
       "      <td>31139</td>\n",
       "      <td>2016-03-16 09:16:46</td>\n",
       "    </tr>\n",
       "    <tr>\n",
       "      <th>48</th>\n",
       "      <td>2016-03-25 14:40:12</td>\n",
       "      <td>7750</td>\n",
       "      <td>unknown</td>\n",
       "      <td>2017</td>\n",
       "      <td>manual</td>\n",
       "      <td>80</td>\n",
       "      <td>golf</td>\n",
       "      <td>100000</td>\n",
       "      <td>1</td>\n",
       "      <td>petrol</td>\n",
       "      <td>volkswagen</td>\n",
       "      <td>unknown</td>\n",
       "      <td>2016-03-25 00:00:00</td>\n",
       "      <td>0</td>\n",
       "      <td>48499</td>\n",
       "      <td>2016-03-31 21:47:44</td>\n",
       "    </tr>\n",
       "    <tr>\n",
       "      <th>51</th>\n",
       "      <td>2016-03-07 18:57:08</td>\n",
       "      <td>2000</td>\n",
       "      <td>unknown</td>\n",
       "      <td>2017</td>\n",
       "      <td>manual</td>\n",
       "      <td>90</td>\n",
       "      <td>punto</td>\n",
       "      <td>150000</td>\n",
       "      <td>11</td>\n",
       "      <td>gasoline</td>\n",
       "      <td>fiat</td>\n",
       "      <td>yes</td>\n",
       "      <td>2016-03-07 00:00:00</td>\n",
       "      <td>0</td>\n",
       "      <td>66115</td>\n",
       "      <td>2016-03-07 18:57:08</td>\n",
       "    </tr>\n",
       "    <tr>\n",
       "      <th>57</th>\n",
       "      <td>2016-03-10 20:53:19</td>\n",
       "      <td>2399</td>\n",
       "      <td>unknown</td>\n",
       "      <td>2018</td>\n",
       "      <td>manual</td>\n",
       "      <td>64</td>\n",
       "      <td>other</td>\n",
       "      <td>125000</td>\n",
       "      <td>3</td>\n",
       "      <td>unknown</td>\n",
       "      <td>seat</td>\n",
       "      <td>no</td>\n",
       "      <td>2016-03-10 00:00:00</td>\n",
       "      <td>0</td>\n",
       "      <td>33397</td>\n",
       "      <td>2016-03-25 10:17:37</td>\n",
       "    </tr>\n",
       "  </tbody>\n",
       "</table>\n",
       "</div>"
      ],
      "text/plain": [
       "            datecrawled  price vehicletype  registrationyear gearbox  power  \\\n",
       "22  2016-03-23 14:52:51   2900     unknown              2018  manual     90   \n",
       "26  2016-03-10 19:38:18   5555     unknown              2017  manual    125   \n",
       "48  2016-03-25 14:40:12   7750     unknown              2017  manual     80   \n",
       "51  2016-03-07 18:57:08   2000     unknown              2017  manual     90   \n",
       "57  2016-03-10 20:53:19   2399     unknown              2018  manual     64   \n",
       "\n",
       "     model  kilometer  registrationmonth  fueltype       brand notrepaired  \\\n",
       "22  meriva     150000                  5    petrol        opel          no   \n",
       "26      c4     125000                  4   unknown     citroen          no   \n",
       "48    golf     100000                  1    petrol  volkswagen     unknown   \n",
       "51   punto     150000                 11  gasoline        fiat         yes   \n",
       "57   other     125000                  3   unknown        seat          no   \n",
       "\n",
       "            datecreated  numberofpictures  postalcode             lastseen  \n",
       "22  2016-03-23 00:00:00                 0       49716  2016-03-31 01:16:33  \n",
       "26  2016-03-10 00:00:00                 0       31139  2016-03-16 09:16:46  \n",
       "48  2016-03-25 00:00:00                 0       48499  2016-03-31 21:47:44  \n",
       "51  2016-03-07 00:00:00                 0       66115  2016-03-07 18:57:08  \n",
       "57  2016-03-10 00:00:00                 0       33397  2016-03-25 10:17:37  "
      ]
     },
     "execution_count": 22,
     "metadata": {},
     "output_type": "execute_result"
    }
   ],
   "source": [
    "over_2016 = df.query('registrationyear > 2016')\n",
    "over_2016.head(5)\n"
   ]
  },
  {
   "cell_type": "code",
   "execution_count": 23,
   "id": "30e4bf70",
   "metadata": {},
   "outputs": [
    {
     "data": {
      "text/plain": [
       "(14530, 16)"
      ]
     },
     "execution_count": 23,
     "metadata": {},
     "output_type": "execute_result"
    }
   ],
   "source": [
    "over_2016.shape"
   ]
  },
  {
   "cell_type": "markdown",
   "id": "522658b9",
   "metadata": {},
   "source": [
    "создаем список годов которыми мы будем заполнять те ячейки в которых года больше 2016"
   ]
  },
  {
   "cell_type": "code",
   "execution_count": 24,
   "id": "c77e4883",
   "metadata": {},
   "outputs": [
    {
     "name": "stdout",
     "output_type": "stream",
     "text": [
      "[2010, 2011, 2012, 2013, 2014, 2015, 2016]\n"
     ]
    }
   ],
   "source": [
    "import random\n",
    "list_over_2016 = []\n",
    "for i in range(2010,2017):\n",
    "     list_over_2016.append(i)\n",
    "print(list_over_2016)\n"
   ]
  },
  {
   "cell_type": "markdown",
   "id": "b8a4f40b",
   "metadata": {},
   "source": [
    "при помощи лямбда функции заполняем столбец 'registrationyear' по условию"
   ]
  },
  {
   "cell_type": "code",
   "execution_count": 25,
   "id": "2db87b44",
   "metadata": {},
   "outputs": [],
   "source": [
    "df['registrationyear'] = df['registrationyear'].map(lambda x: np.random.choice(list_over_2016) if x > 2016 else x)"
   ]
  },
  {
   "cell_type": "markdown",
   "id": "3a8c09a8",
   "metadata": {},
   "source": [
    "Делаем срез датасета по авто у которых стоит год регистрации меньше 1990"
   ]
  },
  {
   "cell_type": "code",
   "execution_count": 26,
   "id": "e3b8a989",
   "metadata": {},
   "outputs": [
    {
     "data": {
      "text/html": [
       "<div>\n",
       "<style scoped>\n",
       "    .dataframe tbody tr th:only-of-type {\n",
       "        vertical-align: middle;\n",
       "    }\n",
       "\n",
       "    .dataframe tbody tr th {\n",
       "        vertical-align: top;\n",
       "    }\n",
       "\n",
       "    .dataframe thead th {\n",
       "        text-align: right;\n",
       "    }\n",
       "</style>\n",
       "<table border=\"1\" class=\"dataframe\">\n",
       "  <thead>\n",
       "    <tr style=\"text-align: right;\">\n",
       "      <th></th>\n",
       "      <th>datecrawled</th>\n",
       "      <th>price</th>\n",
       "      <th>vehicletype</th>\n",
       "      <th>registrationyear</th>\n",
       "      <th>gearbox</th>\n",
       "      <th>power</th>\n",
       "      <th>model</th>\n",
       "      <th>kilometer</th>\n",
       "      <th>registrationmonth</th>\n",
       "      <th>fueltype</th>\n",
       "      <th>brand</th>\n",
       "      <th>notrepaired</th>\n",
       "      <th>datecreated</th>\n",
       "      <th>numberofpictures</th>\n",
       "      <th>postalcode</th>\n",
       "      <th>lastseen</th>\n",
       "    </tr>\n",
       "  </thead>\n",
       "  <tbody>\n",
       "    <tr>\n",
       "      <th>7</th>\n",
       "      <td>2016-03-21 18:54:38</td>\n",
       "      <td>0</td>\n",
       "      <td>sedan</td>\n",
       "      <td>1980</td>\n",
       "      <td>manual</td>\n",
       "      <td>50</td>\n",
       "      <td>other</td>\n",
       "      <td>40000</td>\n",
       "      <td>7</td>\n",
       "      <td>petrol</td>\n",
       "      <td>volkswagen</td>\n",
       "      <td>no</td>\n",
       "      <td>2016-03-21 00:00:00</td>\n",
       "      <td>0</td>\n",
       "      <td>19348</td>\n",
       "      <td>2016-03-25 16:47:58</td>\n",
       "    </tr>\n",
       "    <tr>\n",
       "      <th>15</th>\n",
       "      <td>2016-03-11 21:39:15</td>\n",
       "      <td>450</td>\n",
       "      <td>small</td>\n",
       "      <td>1910</td>\n",
       "      <td>unknown</td>\n",
       "      <td>0</td>\n",
       "      <td>ka</td>\n",
       "      <td>5000</td>\n",
       "      <td>0</td>\n",
       "      <td>petrol</td>\n",
       "      <td>ford</td>\n",
       "      <td>unknown</td>\n",
       "      <td>2016-03-11 00:00:00</td>\n",
       "      <td>0</td>\n",
       "      <td>24148</td>\n",
       "      <td>2016-03-19 08:46:47</td>\n",
       "    </tr>\n",
       "    <tr>\n",
       "      <th>28</th>\n",
       "      <td>2016-03-09 11:56:38</td>\n",
       "      <td>1990</td>\n",
       "      <td>bus</td>\n",
       "      <td>1981</td>\n",
       "      <td>manual</td>\n",
       "      <td>50</td>\n",
       "      <td>transporter</td>\n",
       "      <td>5000</td>\n",
       "      <td>1</td>\n",
       "      <td>petrol</td>\n",
       "      <td>volkswagen</td>\n",
       "      <td>no</td>\n",
       "      <td>2016-03-09 00:00:00</td>\n",
       "      <td>0</td>\n",
       "      <td>87471</td>\n",
       "      <td>2016-03-10 07:44:33</td>\n",
       "    </tr>\n",
       "    <tr>\n",
       "      <th>39</th>\n",
       "      <td>2016-03-25 15:50:30</td>\n",
       "      <td>1500</td>\n",
       "      <td>bus</td>\n",
       "      <td>1984</td>\n",
       "      <td>manual</td>\n",
       "      <td>70</td>\n",
       "      <td>other</td>\n",
       "      <td>150000</td>\n",
       "      <td>8</td>\n",
       "      <td>gasoline</td>\n",
       "      <td>mercedes_benz</td>\n",
       "      <td>no</td>\n",
       "      <td>2016-03-25 00:00:00</td>\n",
       "      <td>0</td>\n",
       "      <td>22767</td>\n",
       "      <td>2016-03-27 03:17:02</td>\n",
       "    </tr>\n",
       "    <tr>\n",
       "      <th>91</th>\n",
       "      <td>2016-04-02 23:25:25</td>\n",
       "      <td>1222</td>\n",
       "      <td>sedan</td>\n",
       "      <td>1984</td>\n",
       "      <td>auto</td>\n",
       "      <td>180</td>\n",
       "      <td>other</td>\n",
       "      <td>150000</td>\n",
       "      <td>3</td>\n",
       "      <td>petrol</td>\n",
       "      <td>opel</td>\n",
       "      <td>unknown</td>\n",
       "      <td>2016-04-02 00:00:00</td>\n",
       "      <td>0</td>\n",
       "      <td>57290</td>\n",
       "      <td>2016-04-06 14:44:57</td>\n",
       "    </tr>\n",
       "  </tbody>\n",
       "</table>\n",
       "</div>"
      ],
      "text/plain": [
       "            datecrawled  price vehicletype  registrationyear  gearbox  power  \\\n",
       "7   2016-03-21 18:54:38      0       sedan              1980   manual     50   \n",
       "15  2016-03-11 21:39:15    450       small              1910  unknown      0   \n",
       "28  2016-03-09 11:56:38   1990         bus              1981   manual     50   \n",
       "39  2016-03-25 15:50:30   1500         bus              1984   manual     70   \n",
       "91  2016-04-02 23:25:25   1222       sedan              1984     auto    180   \n",
       "\n",
       "          model  kilometer  registrationmonth  fueltype          brand  \\\n",
       "7         other      40000                  7    petrol     volkswagen   \n",
       "15           ka       5000                  0    petrol           ford   \n",
       "28  transporter       5000                  1    petrol     volkswagen   \n",
       "39        other     150000                  8  gasoline  mercedes_benz   \n",
       "91        other     150000                  3    petrol           opel   \n",
       "\n",
       "   notrepaired          datecreated  numberofpictures  postalcode  \\\n",
       "7           no  2016-03-21 00:00:00                 0       19348   \n",
       "15     unknown  2016-03-11 00:00:00                 0       24148   \n",
       "28          no  2016-03-09 00:00:00                 0       87471   \n",
       "39          no  2016-03-25 00:00:00                 0       22767   \n",
       "91     unknown  2016-04-02 00:00:00                 0       57290   \n",
       "\n",
       "               lastseen  \n",
       "7   2016-03-25 16:47:58  \n",
       "15  2016-03-19 08:46:47  \n",
       "28  2016-03-10 07:44:33  \n",
       "39  2016-03-27 03:17:02  \n",
       "91  2016-04-06 14:44:57  "
      ]
     },
     "execution_count": 26,
     "metadata": {},
     "output_type": "execute_result"
    }
   ],
   "source": [
    "less_1990 = df.query('registrationyear < 1990')\n",
    "less_1990.head(5)\n"
   ]
  },
  {
   "cell_type": "markdown",
   "id": "fe3c6883",
   "metadata": {},
   "source": [
    "создаем список годов в интервале 1986 до 1990"
   ]
  },
  {
   "cell_type": "code",
   "execution_count": 27,
   "id": "53159eb3",
   "metadata": {},
   "outputs": [
    {
     "name": "stdout",
     "output_type": "stream",
     "text": [
      "[1986, 1987, 1988, 1989, 1990]\n"
     ]
    }
   ],
   "source": [
    "import random\n",
    "list_less_1990 = []\n",
    "for i in range(1986,1991):\n",
    "     list_less_1990.append(i)\n",
    "print(list_less_1990)\n"
   ]
  },
  {
   "cell_type": "markdown",
   "id": "3a701d83",
   "metadata": {},
   "source": [
    "при помощи лямбда функции заполняем столбец 'registrationyear' по условию"
   ]
  },
  {
   "cell_type": "code",
   "execution_count": 28,
   "id": "4269cc88",
   "metadata": {},
   "outputs": [],
   "source": [
    "df['registrationyear'] = df['registrationyear'].map(lambda x: np.random.choice(list_less_1990) if x<1990 else x)"
   ]
  },
  {
   "cell_type": "markdown",
   "id": "05618ffd",
   "metadata": {},
   "source": [
    "Проверем"
   ]
  },
  {
   "cell_type": "code",
   "execution_count": 29,
   "id": "4dd2e5db",
   "metadata": {},
   "outputs": [
    {
     "data": {
      "text/html": [
       "<div>\n",
       "<style scoped>\n",
       "    .dataframe tbody tr th:only-of-type {\n",
       "        vertical-align: middle;\n",
       "    }\n",
       "\n",
       "    .dataframe tbody tr th {\n",
       "        vertical-align: top;\n",
       "    }\n",
       "\n",
       "    .dataframe thead th {\n",
       "        text-align: right;\n",
       "    }\n",
       "</style>\n",
       "<table border=\"1\" class=\"dataframe\">\n",
       "  <thead>\n",
       "    <tr style=\"text-align: right;\">\n",
       "      <th></th>\n",
       "      <th>datecrawled</th>\n",
       "      <th>price</th>\n",
       "      <th>vehicletype</th>\n",
       "      <th>registrationyear</th>\n",
       "      <th>gearbox</th>\n",
       "      <th>power</th>\n",
       "      <th>model</th>\n",
       "      <th>kilometer</th>\n",
       "      <th>registrationmonth</th>\n",
       "      <th>fueltype</th>\n",
       "      <th>brand</th>\n",
       "      <th>notrepaired</th>\n",
       "      <th>datecreated</th>\n",
       "      <th>numberofpictures</th>\n",
       "      <th>postalcode</th>\n",
       "      <th>lastseen</th>\n",
       "    </tr>\n",
       "  </thead>\n",
       "  <tbody>\n",
       "  </tbody>\n",
       "</table>\n",
       "</div>"
      ],
      "text/plain": [
       "Empty DataFrame\n",
       "Columns: [datecrawled, price, vehicletype, registrationyear, gearbox, power, model, kilometer, registrationmonth, fueltype, brand, notrepaired, datecreated, numberofpictures, postalcode, lastseen]\n",
       "Index: []"
      ]
     },
     "metadata": {},
     "output_type": "display_data"
    }
   ],
   "source": [
    "display(df.query('1990 < registrationyear > 2016'))"
   ]
  },
  {
   "cell_type": "code",
   "execution_count": 30,
   "id": "a44c7bec",
   "metadata": {},
   "outputs": [
    {
     "data": {
      "text/plain": [
       "(354365, 16)"
      ]
     },
     "execution_count": 30,
     "metadata": {},
     "output_type": "execute_result"
    }
   ],
   "source": [
    "df.shape"
   ]
  },
  {
   "cell_type": "code",
   "execution_count": 31,
   "id": "1eb8dc1e",
   "metadata": {},
   "outputs": [
    {
     "data": {
      "text/html": [
       "<div>\n",
       "<style scoped>\n",
       "    .dataframe tbody tr th:only-of-type {\n",
       "        vertical-align: middle;\n",
       "    }\n",
       "\n",
       "    .dataframe tbody tr th {\n",
       "        vertical-align: top;\n",
       "    }\n",
       "\n",
       "    .dataframe thead th {\n",
       "        text-align: right;\n",
       "    }\n",
       "</style>\n",
       "<table border=\"1\" class=\"dataframe\">\n",
       "  <thead>\n",
       "    <tr style=\"text-align: right;\">\n",
       "      <th></th>\n",
       "      <th>datecrawled</th>\n",
       "      <th>price</th>\n",
       "      <th>vehicletype</th>\n",
       "      <th>registrationyear</th>\n",
       "      <th>gearbox</th>\n",
       "      <th>power</th>\n",
       "      <th>model</th>\n",
       "      <th>kilometer</th>\n",
       "      <th>registrationmonth</th>\n",
       "      <th>fueltype</th>\n",
       "      <th>brand</th>\n",
       "      <th>notrepaired</th>\n",
       "      <th>datecreated</th>\n",
       "      <th>numberofpictures</th>\n",
       "      <th>postalcode</th>\n",
       "      <th>lastseen</th>\n",
       "    </tr>\n",
       "  </thead>\n",
       "  <tbody>\n",
       "    <tr>\n",
       "      <th>0</th>\n",
       "      <td>2016-03-24 11:52:17</td>\n",
       "      <td>480</td>\n",
       "      <td>unknown</td>\n",
       "      <td>1993</td>\n",
       "      <td>manual</td>\n",
       "      <td>0</td>\n",
       "      <td>golf</td>\n",
       "      <td>150000</td>\n",
       "      <td>0</td>\n",
       "      <td>petrol</td>\n",
       "      <td>volkswagen</td>\n",
       "      <td>unknown</td>\n",
       "      <td>2016-03-24 00:00:00</td>\n",
       "      <td>0</td>\n",
       "      <td>70435</td>\n",
       "      <td>2016-04-07 03:16:57</td>\n",
       "    </tr>\n",
       "    <tr>\n",
       "      <th>1</th>\n",
       "      <td>2016-03-24 10:58:45</td>\n",
       "      <td>18300</td>\n",
       "      <td>coupe</td>\n",
       "      <td>2011</td>\n",
       "      <td>manual</td>\n",
       "      <td>190</td>\n",
       "      <td>unknown</td>\n",
       "      <td>125000</td>\n",
       "      <td>5</td>\n",
       "      <td>gasoline</td>\n",
       "      <td>audi</td>\n",
       "      <td>yes</td>\n",
       "      <td>2016-03-24 00:00:00</td>\n",
       "      <td>0</td>\n",
       "      <td>66954</td>\n",
       "      <td>2016-04-07 01:46:50</td>\n",
       "    </tr>\n",
       "    <tr>\n",
       "      <th>2</th>\n",
       "      <td>2016-03-14 12:52:21</td>\n",
       "      <td>9800</td>\n",
       "      <td>suv</td>\n",
       "      <td>2004</td>\n",
       "      <td>auto</td>\n",
       "      <td>163</td>\n",
       "      <td>grand</td>\n",
       "      <td>125000</td>\n",
       "      <td>8</td>\n",
       "      <td>gasoline</td>\n",
       "      <td>jeep</td>\n",
       "      <td>unknown</td>\n",
       "      <td>2016-03-14 00:00:00</td>\n",
       "      <td>0</td>\n",
       "      <td>90480</td>\n",
       "      <td>2016-04-05 12:47:46</td>\n",
       "    </tr>\n",
       "    <tr>\n",
       "      <th>3</th>\n",
       "      <td>2016-03-17 16:54:04</td>\n",
       "      <td>1500</td>\n",
       "      <td>small</td>\n",
       "      <td>2001</td>\n",
       "      <td>manual</td>\n",
       "      <td>75</td>\n",
       "      <td>golf</td>\n",
       "      <td>150000</td>\n",
       "      <td>6</td>\n",
       "      <td>petrol</td>\n",
       "      <td>volkswagen</td>\n",
       "      <td>no</td>\n",
       "      <td>2016-03-17 00:00:00</td>\n",
       "      <td>0</td>\n",
       "      <td>91074</td>\n",
       "      <td>2016-03-17 17:40:17</td>\n",
       "    </tr>\n",
       "    <tr>\n",
       "      <th>4</th>\n",
       "      <td>2016-03-31 17:25:20</td>\n",
       "      <td>3600</td>\n",
       "      <td>small</td>\n",
       "      <td>2008</td>\n",
       "      <td>manual</td>\n",
       "      <td>69</td>\n",
       "      <td>fabia</td>\n",
       "      <td>90000</td>\n",
       "      <td>7</td>\n",
       "      <td>gasoline</td>\n",
       "      <td>skoda</td>\n",
       "      <td>no</td>\n",
       "      <td>2016-03-31 00:00:00</td>\n",
       "      <td>0</td>\n",
       "      <td>60437</td>\n",
       "      <td>2016-04-06 10:17:21</td>\n",
       "    </tr>\n",
       "  </tbody>\n",
       "</table>\n",
       "</div>"
      ],
      "text/plain": [
       "           datecrawled  price vehicletype  registrationyear gearbox  power  \\\n",
       "0  2016-03-24 11:52:17    480     unknown              1993  manual      0   \n",
       "1  2016-03-24 10:58:45  18300       coupe              2011  manual    190   \n",
       "2  2016-03-14 12:52:21   9800         suv              2004    auto    163   \n",
       "3  2016-03-17 16:54:04   1500       small              2001  manual     75   \n",
       "4  2016-03-31 17:25:20   3600       small              2008  manual     69   \n",
       "\n",
       "     model  kilometer  registrationmonth  fueltype       brand notrepaired  \\\n",
       "0     golf     150000                  0    petrol  volkswagen     unknown   \n",
       "1  unknown     125000                  5  gasoline        audi         yes   \n",
       "2    grand     125000                  8  gasoline        jeep     unknown   \n",
       "3     golf     150000                  6    petrol  volkswagen          no   \n",
       "4    fabia      90000                  7  gasoline       skoda          no   \n",
       "\n",
       "           datecreated  numberofpictures  postalcode             lastseen  \n",
       "0  2016-03-24 00:00:00                 0       70435  2016-04-07 03:16:57  \n",
       "1  2016-03-24 00:00:00                 0       66954  2016-04-07 01:46:50  \n",
       "2  2016-03-14 00:00:00                 0       90480  2016-04-05 12:47:46  \n",
       "3  2016-03-17 00:00:00                 0       91074  2016-03-17 17:40:17  \n",
       "4  2016-03-31 00:00:00                 0       60437  2016-04-06 10:17:21  "
      ]
     },
     "execution_count": 31,
     "metadata": {},
     "output_type": "execute_result"
    }
   ],
   "source": [
    "df.head(5)"
   ]
  },
  {
   "cell_type": "markdown",
   "id": "5e0eefc0",
   "metadata": {},
   "source": [
    "меняем значение на 1, тк нам не принципиален месяц регистрации. Он не влияетна стоимость авто"
   ]
  },
  {
   "cell_type": "markdown",
   "id": "471e8adb",
   "metadata": {},
   "source": [
    "удаляем столбцы: datecrawled, datecreated, lastseen, numberofpictures тк эти столбцы не нужны для построения модели предсказания стоимости автомобиля"
   ]
  },
  {
   "cell_type": "code",
   "execution_count": 32,
   "id": "b4d99178",
   "metadata": {},
   "outputs": [],
   "source": [
    "df = df.drop(['datecrawled', 'datecreated', 'numberofpictures', 'lastseen', 'postalcode','registrationmonth'], axis=1)"
   ]
  },
  {
   "cell_type": "code",
   "execution_count": 33,
   "id": "ad4ab229",
   "metadata": {},
   "outputs": [],
   "source": [
    "df = df.iloc[1:]"
   ]
  },
  {
   "cell_type": "code",
   "execution_count": 34,
   "id": "11957923",
   "metadata": {},
   "outputs": [
    {
     "data": {
      "text/html": [
       "<div>\n",
       "<style scoped>\n",
       "    .dataframe tbody tr th:only-of-type {\n",
       "        vertical-align: middle;\n",
       "    }\n",
       "\n",
       "    .dataframe tbody tr th {\n",
       "        vertical-align: top;\n",
       "    }\n",
       "\n",
       "    .dataframe thead th {\n",
       "        text-align: right;\n",
       "    }\n",
       "</style>\n",
       "<table border=\"1\" class=\"dataframe\">\n",
       "  <thead>\n",
       "    <tr style=\"text-align: right;\">\n",
       "      <th></th>\n",
       "      <th>price</th>\n",
       "      <th>vehicletype</th>\n",
       "      <th>registrationyear</th>\n",
       "      <th>gearbox</th>\n",
       "      <th>power</th>\n",
       "      <th>model</th>\n",
       "      <th>kilometer</th>\n",
       "      <th>fueltype</th>\n",
       "      <th>brand</th>\n",
       "      <th>notrepaired</th>\n",
       "    </tr>\n",
       "  </thead>\n",
       "  <tbody>\n",
       "    <tr>\n",
       "      <th>1</th>\n",
       "      <td>18300</td>\n",
       "      <td>coupe</td>\n",
       "      <td>2011</td>\n",
       "      <td>manual</td>\n",
       "      <td>190</td>\n",
       "      <td>unknown</td>\n",
       "      <td>125000</td>\n",
       "      <td>gasoline</td>\n",
       "      <td>audi</td>\n",
       "      <td>yes</td>\n",
       "    </tr>\n",
       "    <tr>\n",
       "      <th>2</th>\n",
       "      <td>9800</td>\n",
       "      <td>suv</td>\n",
       "      <td>2004</td>\n",
       "      <td>auto</td>\n",
       "      <td>163</td>\n",
       "      <td>grand</td>\n",
       "      <td>125000</td>\n",
       "      <td>gasoline</td>\n",
       "      <td>jeep</td>\n",
       "      <td>unknown</td>\n",
       "    </tr>\n",
       "    <tr>\n",
       "      <th>3</th>\n",
       "      <td>1500</td>\n",
       "      <td>small</td>\n",
       "      <td>2001</td>\n",
       "      <td>manual</td>\n",
       "      <td>75</td>\n",
       "      <td>golf</td>\n",
       "      <td>150000</td>\n",
       "      <td>petrol</td>\n",
       "      <td>volkswagen</td>\n",
       "      <td>no</td>\n",
       "    </tr>\n",
       "    <tr>\n",
       "      <th>4</th>\n",
       "      <td>3600</td>\n",
       "      <td>small</td>\n",
       "      <td>2008</td>\n",
       "      <td>manual</td>\n",
       "      <td>69</td>\n",
       "      <td>fabia</td>\n",
       "      <td>90000</td>\n",
       "      <td>gasoline</td>\n",
       "      <td>skoda</td>\n",
       "      <td>no</td>\n",
       "    </tr>\n",
       "    <tr>\n",
       "      <th>5</th>\n",
       "      <td>650</td>\n",
       "      <td>sedan</td>\n",
       "      <td>1995</td>\n",
       "      <td>manual</td>\n",
       "      <td>102</td>\n",
       "      <td>3er</td>\n",
       "      <td>150000</td>\n",
       "      <td>petrol</td>\n",
       "      <td>bmw</td>\n",
       "      <td>yes</td>\n",
       "    </tr>\n",
       "  </tbody>\n",
       "</table>\n",
       "</div>"
      ],
      "text/plain": [
       "   price vehicletype  registrationyear gearbox  power    model  kilometer  \\\n",
       "1  18300       coupe              2011  manual    190  unknown     125000   \n",
       "2   9800         suv              2004    auto    163    grand     125000   \n",
       "3   1500       small              2001  manual     75     golf     150000   \n",
       "4   3600       small              2008  manual     69    fabia      90000   \n",
       "5    650       sedan              1995  manual    102      3er     150000   \n",
       "\n",
       "   fueltype       brand notrepaired  \n",
       "1  gasoline        audi         yes  \n",
       "2  gasoline        jeep     unknown  \n",
       "3    petrol  volkswagen          no  \n",
       "4  gasoline       skoda          no  \n",
       "5    petrol         bmw         yes  "
      ]
     },
     "execution_count": 34,
     "metadata": {},
     "output_type": "execute_result"
    }
   ],
   "source": [
    "df.head(5)"
   ]
  },
  {
   "cell_type": "code",
   "execution_count": 35,
   "id": "eb2dd730",
   "metadata": {},
   "outputs": [
    {
     "name": "stdout",
     "output_type": "stream",
     "text": [
      "40224\n"
     ]
    }
   ],
   "source": [
    "print(df[df['power']==0]['price'].count())"
   ]
  },
  {
   "cell_type": "code",
   "execution_count": 36,
   "id": "33a39068",
   "metadata": {},
   "outputs": [],
   "source": [
    "df = df.loc[df['power']!=0]"
   ]
  },
  {
   "cell_type": "code",
   "execution_count": 37,
   "id": "67939132",
   "metadata": {},
   "outputs": [
    {
     "name": "stdout",
     "output_type": "stream",
     "text": [
      "0\n"
     ]
    }
   ],
   "source": [
    "print(df[df['power']==0]['price'].count())"
   ]
  },
  {
   "cell_type": "code",
   "execution_count": 38,
   "id": "3dea240a",
   "metadata": {},
   "outputs": [
    {
     "name": "stdout",
     "output_type": "stream",
     "text": [
      "6907\n"
     ]
    }
   ],
   "source": [
    "print(df[df['price']==0]['power'].count())"
   ]
  },
  {
   "cell_type": "code",
   "execution_count": 39,
   "id": "43ec9cbf",
   "metadata": {},
   "outputs": [],
   "source": [
    "df = df.loc[df['price']!=0]"
   ]
  },
  {
   "cell_type": "code",
   "execution_count": 40,
   "id": "8b3b9670",
   "metadata": {},
   "outputs": [
    {
     "name": "stdout",
     "output_type": "stream",
     "text": [
      "0\n"
     ]
    }
   ],
   "source": [
    "print(df[df['price']==0]['power'].count())"
   ]
  },
  {
   "cell_type": "markdown",
   "id": "11de219d",
   "metadata": {},
   "source": [
    "#### Вывод "
   ]
  },
  {
   "cell_type": "markdown",
   "id": "e75aa88b",
   "metadata": {},
   "source": [
    "Загрузили данные.<br>\n",
    "Перевели названия столбцов в нижний регистр. <br>\n",
    "Заполнили пропуски - 'unknown'<br>\n",
    "Проверили наличие дубликатов - 4 шт <br>\n",
    "Удалили дубликаты<br>\n",
    "Изучили уникальные значения в датасете<\n",
    "\n",
    "В столбце - Год регистрации авто - попадаются некорректные года. Это может бытьсвязано как с ошибками автовладельцев заполнявшими данными, так и с ошибками возникшими при выгрузке.\n",
    "\n",
    "Предположили что автомобиль не может быть старше 30 лет в пригодном состоянии. \n",
    "\n",
    "По этому сделали срез датасета по авто у которых стоит год регистрации больше 2016 и меньше 1990\n",
    "При помощи лямбда функции заполнили столбец 'registrationyear' по условию\n",
    "\n",
    "Удалили столбцы: datecrawled, datecreated, lastseen, numberofpictures тк эти столбцы не нужны для построения модели предсказания стоимости автомобиля\n",
    "\n",
    "Для построения моделей перевели все предметные признаки в числовые при помощи  OrdinalEncoder"
   ]
  },
  {
   "cell_type": "markdown",
   "id": "69c736b1",
   "metadata": {},
   "source": [
    "#### 2. Обучение моделей"
   ]
  },
  {
   "cell_type": "markdown",
   "id": "adc5cb45",
   "metadata": {},
   "source": [
    "Кодирование OrdinalEncoder"
   ]
  },
  {
   "cell_type": "code",
   "execution_count": 41,
   "id": "e7590efc",
   "metadata": {},
   "outputs": [],
   "source": [
    "categories = ['vehicletype', 'gearbox', 'model', 'fueltype', 'brand', 'notrepaired']\n",
    "df_oe = df.copy()\n",
    "encoder = OrdinalEncoder()\n",
    "encoder.fit(df[categories])\n",
    "df_oe[categories] = encoder.transform(df_oe[categories])\n",
    "\n",
    "features_oe = df_oe.drop('price', axis=1)\n",
    "target_oe = df_oe['price']\n",
    "features_train_oe, features_test_oe, target_train_oe, target_test_oe = train_test_split(\n",
    "    features_oe, target_oe, test_size=0.3, random_state=123)\n",
    "\n"
   ]
  },
  {
   "cell_type": "markdown",
   "id": "c6204431",
   "metadata": {},
   "source": [
    "кодирование OHE"
   ]
  },
  {
   "cell_type": "code",
   "execution_count": 42,
   "id": "ee9891fe",
   "metadata": {},
   "outputs": [],
   "source": [
    "cat_col = ['vehicletype', 'gearbox','model', 'fueltype', 'brand', 'notrepaired']\n",
    "df[cat_col] = df[cat_col].astype('category')\n",
    "\n",
    "features_categorial = pd.get_dummies(df, drop_first=True)\n",
    "\n",
    "\n",
    "features_cat = features_categorial.drop('price', axis=1)\n",
    "target_cat = features_categorial['price']\n",
    "features_train_cat, features_test_cat, target_train_cat, target_test_cat = train_test_split(\n",
    "    features_cat, target_cat, test_size=0.3, random_state=123)"
   ]
  },
  {
   "cell_type": "markdown",
   "id": "ca39a381",
   "metadata": {},
   "source": [
    "Выделяем: признаки и целевой признак"
   ]
  },
  {
   "cell_type": "code",
   "execution_count": 43,
   "id": "2295ee05",
   "metadata": {},
   "outputs": [],
   "source": [
    "target = df['price']\n",
    "features = df.drop('price', axis=1)\n"
   ]
  },
  {
   "cell_type": "code",
   "execution_count": null,
   "id": "31435bd8",
   "metadata": {},
   "outputs": [],
   "source": []
  },
  {
   "cell_type": "markdown",
   "id": "e677a396",
   "metadata": {},
   "source": [
    "Разбиваем выборку на обучающую и валидную "
   ]
  },
  {
   "cell_type": "code",
   "execution_count": 44,
   "id": "dd3e6b38",
   "metadata": {},
   "outputs": [],
   "source": [
    "features_train, features_test, target_train, target_test = train_test_split(\n",
    "    features, target, test_size=0.30, random_state=12345)"
   ]
  },
  {
   "cell_type": "code",
   "execution_count": 45,
   "id": "efc1efad",
   "metadata": {},
   "outputs": [
    {
     "name": "stdout",
     "output_type": "stream",
     "text": [
      "Размер обучающей выборки 215063, от общего количества данных 70.0%\n",
      "Размер тестовой выборки 92170, от общего количества данных 30.0%\n"
     ]
    }
   ],
   "source": [
    "print('Размер обучающей выборки {}, от общего количества данных {:.1%}'.format(\n",
    "    len(features_train), len(features_train)/features.shape[0]))\n",
    "\n",
    "print('Размер тестовой выборки {}, от общего количества данных {:.1%}'.format(\n",
    "    len(features_test), len(features_test)/features.shape[0]))"
   ]
  },
  {
   "cell_type": "code",
   "execution_count": 46,
   "id": "5eeb543f",
   "metadata": {},
   "outputs": [],
   "source": [
    "cv = RepeatedKFold(n_splits=10, n_repeats=3, random_state=1)"
   ]
  },
  {
   "cell_type": "code",
   "execution_count": null,
   "id": "a7be1d7b",
   "metadata": {},
   "outputs": [],
   "source": []
  },
  {
   "cell_type": "markdown",
   "id": "8bcfd7a7",
   "metadata": {},
   "source": [
    "<b>Дерево решений</b>"
   ]
  },
  {
   "cell_type": "markdown",
   "id": "758b810c",
   "metadata": {},
   "source": [
    "создаем функцию дя обучения модели Дерево Решений. Используем кросс-валидацию, в качестве оценки используем RMSE"
   ]
  },
  {
   "cell_type": "code",
   "execution_count": 47,
   "id": "84d57c6c",
   "metadata": {},
   "outputs": [],
   "source": [
    "def tree_decision(features, target):\n",
    "        \n",
    "    for depth in range(1, 10):\n",
    "        model = DecisionTreeRegressor(random_state=12345, max_depth=depth) \n",
    "        score = cross_val_score(model, features, target, cv=cv, scoring='neg_mean_absolute_error').mean()\n",
    "        \n",
    "                    \n",
    "    return score\n",
    "                    \n",
    "    "
   ]
  },
  {
   "cell_type": "markdown",
   "id": "f30aaf00",
   "metadata": {},
   "source": [
    "Время работы модели:"
   ]
  },
  {
   "cell_type": "code",
   "execution_count": 48,
   "id": "bbdc3de1",
   "metadata": {},
   "outputs": [
    {
     "name": "stdout",
     "output_type": "stream",
     "text": [
      "Wall time: 1min 36s\n"
     ]
    }
   ],
   "source": [
    "%%time\n",
    "result_tree_decision = tree_decision(features_train_oe, target_train_oe)"
   ]
  },
  {
   "cell_type": "code",
   "execution_count": 49,
   "id": "6643309e",
   "metadata": {},
   "outputs": [
    {
     "name": "stdout",
     "output_type": "stream",
     "text": [
      "Знаение RMSE Дерева Решений -  1378.22\n"
     ]
    }
   ],
   "source": [
    "print('Знаение RMSE Дерева Решений - ', round(abs(result_tree_decision), 2))"
   ]
  },
  {
   "cell_type": "markdown",
   "id": "665df246",
   "metadata": {},
   "source": [
    "<b>Линейная Регрессия</b>"
   ]
  },
  {
   "cell_type": "markdown",
   "id": "a90c733b",
   "metadata": {},
   "source": [
    "создаем функцию дя обучения модели Линейной Регрессии. Используем кросс-валидацию, в качестве оценки используем RMSE"
   ]
  },
  {
   "cell_type": "code",
   "execution_count": 50,
   "id": "4b198d9f",
   "metadata": {},
   "outputs": [],
   "source": [
    "def regression(features, target):\n",
    "\n",
    "    model = LinearRegression()\n",
    "    score = cross_val_score(model, features, target, cv=cv, scoring='neg_mean_absolute_error').mean()\n",
    "    return score"
   ]
  },
  {
   "cell_type": "markdown",
   "id": "83100e2b",
   "metadata": {},
   "source": [
    "Врем работы модели:"
   ]
  },
  {
   "cell_type": "code",
   "execution_count": 51,
   "id": "ebaa3e5f",
   "metadata": {},
   "outputs": [
    {
     "name": "stdout",
     "output_type": "stream",
     "text": [
      "Wall time: 2min 40s\n"
     ]
    }
   ],
   "source": [
    "%%time\n",
    "result = regression(features_train_cat, target_train_cat)\n"
   ]
  },
  {
   "cell_type": "code",
   "execution_count": 52,
   "id": "f129e3f7",
   "metadata": {},
   "outputs": [
    {
     "name": "stdout",
     "output_type": "stream",
     "text": [
      "Знаение RMSE Линейной Регрессии -  1865.93\n"
     ]
    }
   ],
   "source": [
    "print('Знаение RMSE Линейной Регрессии - ', round(abs(result),2))"
   ]
  },
  {
   "cell_type": "markdown",
   "id": "3ea4d55c",
   "metadata": {},
   "source": [
    "Модель Случайного леса"
   ]
  },
  {
   "cell_type": "code",
   "execution_count": 53,
   "id": "3fbcea55",
   "metadata": {},
   "outputs": [],
   "source": [
    "def random_forest(features, target):\n",
    "    \n",
    "       \n",
    "    for estimators in range(1, 5):\n",
    "        for depth in range(1, 10):\n",
    "            model = RandomForestRegressor(random_state=12345, n_estimators=estimators,  max_depth=depth)\n",
    "            score = cross_val_score(model, features, target, cv=cv, scoring='neg_mean_absolute_error').mean()\n",
    "                        \n",
    "    return  score    "
   ]
  },
  {
   "cell_type": "markdown",
   "id": "4f3cb505",
   "metadata": {},
   "source": [
    "Время работы модели:"
   ]
  },
  {
   "cell_type": "code",
   "execution_count": 54,
   "id": "01d62567",
   "metadata": {},
   "outputs": [
    {
     "name": "stdout",
     "output_type": "stream",
     "text": [
      "Wall time: 11min 15s\n"
     ]
    }
   ],
   "source": [
    "%%time\n",
    "result_rf = random_forest(features_train_oe, target_train_oe)\n"
   ]
  },
  {
   "cell_type": "code",
   "execution_count": 55,
   "id": "a02c1307",
   "metadata": {},
   "outputs": [
    {
     "name": "stdout",
     "output_type": "stream",
     "text": [
      "Знаение RMSE Случайного леса - 1334.93\n"
     ]
    }
   ],
   "source": [
    "print('Знаение RMSE Случайного леса -', round(abs(result_rf), 2))"
   ]
  },
  {
   "cell_type": "markdown",
   "id": "dba488cf",
   "metadata": {},
   "source": [
    "<b>Проверяем модель которая показала себя луше всего - Случайный лес</b>"
   ]
  },
  {
   "cell_type": "code",
   "execution_count": 69,
   "id": "db8cbd6b",
   "metadata": {},
   "outputs": [
    {
     "name": "stdout",
     "output_type": "stream",
     "text": [
      "Wall time: 4min 23s\n"
     ]
    }
   ],
   "source": [
    "%%time\n",
    "result_rf_test = random_forest(features_test_oe, target_test_oe)"
   ]
  },
  {
   "cell_type": "code",
   "execution_count": 70,
   "id": "06d8606a",
   "metadata": {},
   "outputs": [
    {
     "name": "stdout",
     "output_type": "stream",
     "text": [
      "Знаение RMSE модели Случайного леса на валидных данных - 1340.6\n"
     ]
    }
   ],
   "source": [
    "print('Знаение RMSE модели Случайного леса на валидных данных -', round(abs(result_rf_test), 2))"
   ]
  },
  {
   "cell_type": "code",
   "execution_count": null,
   "id": "58378715",
   "metadata": {},
   "outputs": [],
   "source": []
  },
  {
   "cell_type": "markdown",
   "id": "a1c03677",
   "metadata": {},
   "source": [
    "Использование библиотеки LightGBM"
   ]
  },
  {
   "cell_type": "code",
   "execution_count": 56,
   "id": "db767a29",
   "metadata": {},
   "outputs": [],
   "source": [
    "def lgbmregress(features, target):\n",
    "    model = LGBMRegressor(boosting_type='gbdt', categorial_feature = ['vehicletype', 'gearbox', 'model', 'fueltype', 'brand', 'notrepaired'],num_leaves=31, max_depth=- 1, learning_rate=0.1, n_estimators=100)\n",
    "    score = cross_val_score(model, features, target, cv=cv, scoring='neg_mean_absolute_error', n_jobs=-1, error_score='raise').mean()\n",
    "    return score"
   ]
  },
  {
   "cell_type": "markdown",
   "id": "9943b346",
   "metadata": {},
   "source": [
    "Время работы модели:"
   ]
  },
  {
   "cell_type": "code",
   "execution_count": 57,
   "id": "bbbc33a1",
   "metadata": {},
   "outputs": [
    {
     "name": "stdout",
     "output_type": "stream",
     "text": [
      "Wall time: 36.4 s\n"
     ]
    }
   ],
   "source": [
    "%%time\n",
    "result_lgbmr = lgbmregress(features_train, target_train)"
   ]
  },
  {
   "cell_type": "code",
   "execution_count": 58,
   "id": "2f47ea4f",
   "metadata": {},
   "outputs": [
    {
     "name": "stdout",
     "output_type": "stream",
     "text": [
      "Знаение RMSE модели с использованием библиотеки LightGBM - 1049.02\n"
     ]
    }
   ],
   "source": [
    "print('Знаение RMSE модели с использованием библиотеки LightGBM -', round(abs(result_lgbmr),2))"
   ]
  },
  {
   "cell_type": "markdown",
   "id": "5120bf04",
   "metadata": {},
   "source": [
    "Проверяем модель с использованием библиотеки LightGBM и тестируем модель"
   ]
  },
  {
   "cell_type": "code",
   "execution_count": 72,
   "id": "0c0eef0a",
   "metadata": {},
   "outputs": [
    {
     "name": "stdout",
     "output_type": "stream",
     "text": [
      "Знаение RMSE модели с использованием библиотеки LightGBM - 1066.31\n",
      "Wall time: 36.6 s\n"
     ]
    }
   ],
   "source": [
    "%%time\n",
    "result_lgbmr = lgbmregress(features_test, target_test)\n",
    "print('Знаение RMSE модели с использованием библиотеки LightGBM -', round(abs(result_lgbmr),2))"
   ]
  },
  {
   "cell_type": "markdown",
   "id": "892aea49",
   "metadata": {},
   "source": [
    "#### Вывод"
   ]
  },
  {
   "cell_type": "markdown",
   "id": "a8facd1f",
   "metadata": {},
   "source": [
    "Обучили модели на тренировочных данных.<br>\n",
    "В качестве функции потерь мы используем показатель RMSE. <br>\n",
    "Быстрее всего обучается Модель Дерево решений   - около полутора минут, но при этом выдает не лучший результат - 1378.22 <br>\n",
    "Модель Линейная регрессия обучается медленее - приблизительно 3  минуты, но дает хучший результат  - 1865.93  <br>\n",
    "Модель Случайный лес обучается дольше всего - порядка 11 минут, при том выдает лучший лучший результат - 1334.93\n",
    "\n",
    "Использование библиотеки LightGBM дает лучший результат - 1049.02 при небольшом затраченом времени на обучение - около 40 секунд .\n",
    "\n",
    "Тестируем лучшую модель и используем библиотеку LightGBM<br>\n",
    "Случайный лес дает хороший результат на тестовых данных - 1340.6, но при этом обучается  долго - 4 с половиной минуты <br>\n",
    "Модель с библиотекой LightGBM показывает лучший результат - 1066.31 при недольшом затраченном времени около 40 секунд. "
   ]
  },
  {
   "cell_type": "markdown",
   "id": "2fd094f5",
   "metadata": {},
   "source": [
    "## Итоговый Вывод"
   ]
  },
  {
   "cell_type": "markdown",
   "id": "ef081959",
   "metadata": {},
   "source": [
    "Сервис по продаже автомобилей с пробегом «Не бит, не крашен» разрабатывает приложение для привлечения новых клиентов. В нём можно быстро узнать рыночную стоимость своего автомобиля. В распоряжении исторические данные: технические характеристики, комплектации и цены автомобилей. Нужно построить модель для определения стоимости.\n",
    "Нам было необходимо было создать модель дя определения стоимости автомобилей.\n",
    "\n",
    "Перед нами были поставлены следующие задачи для модели:\n",
    "\n",
    "качество предсказания;\n",
    "скорость предсказания;\n",
    "время обучения.\n",
    "\n",
    "\n",
    "   Обучил разные модели. Для каждой попробовал различные гиперпараметры.\n",
    "Проанализировал скорость работы и качество моделей.\n",
    "\n",
    "   Были импортированы все необходимые библиотеки и модули.<br>\n",
    "Загружены и изучены данные.<br>\n",
    "Привели названия столбцов в нижнийрегистр для удобства.<br>\n",
    "Были найдены и удалены дубликаты. Были обнаружены пропуски и заменены на 'unknown'.<br>\n",
    "Изучены уникальные значения датафрейма.\n",
    "\n",
    "   В столбце - Год регистрации авто - попадаются некорректные года. Это может бытьсвязано как с ошибками автовладельцев заполнявшими данными, так и с ошибками возникшими при выгрузке.<br>\n",
    "   Можно предположить то авто выставленные на продажу скорее всего использовались в повседневной жизни и скорее всего машина не могла ездить меньше 5 000 км в год, тк максимальный пробег авто составляет - 150 000 км. По этому можно сделать вывод что автомобиль не может быть старше 30 лет в пригодном состоянии. К тому же вряд ли найдется авто старше 30 лет который будет продаваться не на специализированных плащадках для ретро автомобилей.<br>\n",
    "   По этому сделали срез датасета по авто у которых стоит год регистрации больше 2016 и меньше 1990 При помощи лямбда функции заполнили столбец 'registrationyear' по условию.\n",
    "\n",
    "Удалили столбцы: datecrawled, datecreated, lastseen, numberofpictures тк эти столбцы не нужны для построения модели. предсказания стоимости автомобиля\n",
    "\n",
    "Для построения моделей перевели все предметные признаки в числовые при помощи OrdinalEncoder.\n",
    " \n",
    " Выделили признаки и целевой признак\n",
    "\n",
    "Обучили модели на тренировочных данных.<br>\n",
    "В качестве функции потерь мы используем показатель RMSE. <br>\n",
    "Быстрее всего обучается Модель Дерево решений   - около полутора минут, но при этом выдает не лучший результат - 1378.22 <br>\n",
    "Модель Линейная регрессия обучается медленее - приблизительно 3  минуты, но дает хучший результат  - 1865.93  <br>\n",
    "Модель Случайный лес обучается дольше всего - порядка 11 минут, при том выдает лучший лучший результат - 1334.93\n",
    "\n",
    "Использование библиотеки LightGBM дает лучший результат - 1049.02 при небольшом затраченом времени на обучение - около 40 секунд .\n",
    "\n",
    "Тестируем лучшую модель и используем библиотеку LightGBM<br>\n",
    "Случайный лес дает хороший результат на тестовых данных - 1340.6, но при этом обучается  долго - 4 с половиной минуты <br>\n",
    "Модель с библиотекой LightGBM показывает лучший результат - 1066.31 при недольшом затраченном времени около 40 секунд. \n",
    "   \n",
    "В Итоге мы поучили рабочую модель которая минимизирует ошибки и дает высокую точность результатов"
   ]
  },
  {
   "cell_type": "code",
   "execution_count": null,
   "id": "563069bf",
   "metadata": {},
   "outputs": [],
   "source": []
  }
 ],
 "metadata": {
  "ExecuteTimeLog": [
   {
    "duration": 984,
    "start_time": "2022-05-21T18:07:13.351Z"
   },
   {
    "duration": 3092,
    "start_time": "2022-05-21T18:07:14.337Z"
   },
   {
    "duration": 8,
    "start_time": "2022-05-21T18:07:17.430Z"
   },
   {
    "duration": 126,
    "start_time": "2022-05-21T18:07:17.440Z"
   },
   {
    "duration": 13,
    "start_time": "2022-05-21T18:07:17.568Z"
   },
   {
    "duration": 7,
    "start_time": "2022-05-21T18:07:17.582Z"
   },
   {
    "duration": 180,
    "start_time": "2022-05-21T18:07:17.590Z"
   },
   {
    "duration": 15,
    "start_time": "2022-05-21T18:07:17.773Z"
   },
   {
    "duration": 426,
    "start_time": "2022-05-21T18:07:17.790Z"
   },
   {
    "duration": 537,
    "start_time": "2022-05-21T18:07:18.219Z"
   },
   {
    "duration": 406,
    "start_time": "2022-05-21T18:07:18.759Z"
   },
   {
    "duration": 5,
    "start_time": "2022-05-21T18:07:19.166Z"
   },
   {
    "duration": 40,
    "start_time": "2022-05-21T18:07:19.173Z"
   },
   {
    "duration": 11,
    "start_time": "2022-05-21T18:07:19.214Z"
   },
   {
    "duration": 21,
    "start_time": "2022-05-21T18:07:19.227Z"
   },
   {
    "duration": 13,
    "start_time": "2022-05-21T18:07:19.249Z"
   },
   {
    "duration": 38,
    "start_time": "2022-05-21T18:07:19.264Z"
   },
   {
    "duration": 26,
    "start_time": "2022-05-21T18:07:19.303Z"
   },
   {
    "duration": 38,
    "start_time": "2022-05-21T18:07:19.330Z"
   },
   {
    "duration": 20,
    "start_time": "2022-05-21T18:07:19.370Z"
   },
   {
    "duration": 13,
    "start_time": "2022-05-21T18:07:19.392Z"
   },
   {
    "duration": 38,
    "start_time": "2022-05-21T18:07:19.406Z"
   },
   {
    "duration": 5,
    "start_time": "2022-05-21T18:07:19.446Z"
   },
   {
    "duration": 42,
    "start_time": "2022-05-21T18:07:19.452Z"
   },
   {
    "duration": 259,
    "start_time": "2022-05-21T18:07:19.676Z"
   },
   {
    "duration": 21,
    "start_time": "2022-05-21T18:07:20.269Z"
   },
   {
    "duration": 4,
    "start_time": "2022-05-21T18:07:20.603Z"
   },
   {
    "duration": 241,
    "start_time": "2022-05-21T18:07:20.947Z"
   },
   {
    "duration": 12,
    "start_time": "2022-05-21T18:07:21.253Z"
   },
   {
    "duration": 3,
    "start_time": "2022-05-21T18:07:21.416Z"
   },
   {
    "duration": 17,
    "start_time": "2022-05-21T18:07:21.581Z"
   },
   {
    "duration": 6,
    "start_time": "2022-05-21T18:07:21.899Z"
   },
   {
    "duration": 6,
    "start_time": "2022-05-21T18:07:22.060Z"
   },
   {
    "duration": 20,
    "start_time": "2022-05-21T18:07:22.379Z"
   },
   {
    "duration": 2,
    "start_time": "2022-05-21T18:07:22.543Z"
   },
   {
    "duration": 9,
    "start_time": "2022-05-21T18:07:22.708Z"
   },
   {
    "duration": 1032,
    "start_time": "2022-05-21T18:07:23.046Z"
   },
   {
    "duration": 16,
    "start_time": "2022-05-21T18:07:24.079Z"
   },
   {
    "duration": 155,
    "start_time": "2022-05-21T18:13:25.650Z"
   }
  ],
  "kernelspec": {
   "display_name": "Python 3 (ipykernel)",
   "language": "python",
   "name": "python3"
  },
  "language_info": {
   "codemirror_mode": {
    "name": "ipython",
    "version": 3
   },
   "file_extension": ".py",
   "mimetype": "text/x-python",
   "name": "python",
   "nbconvert_exporter": "python",
   "pygments_lexer": "ipython3",
   "version": "3.9.7"
  },
  "toc": {
   "base_numbering": 1,
   "nav_menu": {},
   "number_sections": true,
   "sideBar": true,
   "skip_h1_title": true,
   "title_cell": "Table of Contents",
   "title_sidebar": "Contents",
   "toc_cell": false,
   "toc_position": {},
   "toc_section_display": true,
   "toc_window_display": false
  }
 },
 "nbformat": 4,
 "nbformat_minor": 5
}
