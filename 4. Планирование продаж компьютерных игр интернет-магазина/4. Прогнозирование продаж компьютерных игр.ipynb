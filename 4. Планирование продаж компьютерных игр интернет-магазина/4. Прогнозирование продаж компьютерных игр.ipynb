{
 "cells": [
  {
   "cell_type": "markdown",
   "id": "82abfb18",
   "metadata": {},
   "source": [
    "# Сводный проспект"
   ]
  },
  {
   "cell_type": "markdown",
   "id": "0a8fc101",
   "metadata": {},
   "source": [
    "В распоряжении данные  до 2016 года интернет-магазина «Стримчик», который продаёт по всему миру компьютерные игры. Из открытых источников доступны исторические данные о продажах игр, оценки пользователей и экспертов, жанры и платформы (например, Xbox или PlayStation). Вам нужно выявить определяющие успешность игры закономерности. Это позволит сделать ставку на потенциально популярный продукт и спланировать рекламные кампании.\n"
   ]
  },
  {
   "cell_type": "markdown",
   "id": "a767c7e7",
   "metadata": {},
   "source": [
    "Описание данных:\n",
    "\n",
    "Name — название игры\n",
    "\n",
    "Platform — платформа\n",
    "\n",
    "Year_of_Release — год выпуска\n",
    "\n",
    "Genre — жанр игры\n",
    "\n",
    "NA_sales — продажи в Северной Америке (миллионы проданных копий)\n",
    "\n",
    "EU_sales — продажи в Европе (миллионы проданных копий)\n",
    "\n",
    "JP_sales — продажи в Японии (миллионы проданных копий\n",
    "\n",
    "Other_sales — продажи в других странах (миллионы проданных копий)\n",
    "\n",
    "Critic_Score — оценка критиков (максимум 100)\n",
    "\n",
    "User_Score — оценка пользователей (максимум 10)\n",
    "\n",
    "Rating — рейтинг от организации ESRB (англ. Entertainment Software Rating Board). Эта ассоциация определяет рейтинг компьютерных игр и присваивает им подходящую возрастную категорию."
   ]
  },
  {
   "cell_type": "markdown",
   "id": "8272df2a",
   "metadata": {},
   "source": [
    "Импортируем библиотеки"
   ]
  },
  {
   "cell_type": "code",
   "execution_count": 1,
   "id": "92872911",
   "metadata": {},
   "outputs": [],
   "source": [
    "import pandas as pd\n",
    "import numpy as np\n",
    "import matplotlib.pyplot as plt\n",
    "from scipy import stats as st\n",
    "import seaborn as sns"
   ]
  },
  {
   "cell_type": "markdown",
   "id": "a09abbb9",
   "metadata": {},
   "source": [
    "Изучаем данные"
   ]
  },
  {
   "cell_type": "code",
   "execution_count": 2,
   "id": "6873f434",
   "metadata": {},
   "outputs": [],
   "source": [
    "import os\n",
    "\n",
    "pth1 = 'games.csv'\n",
    "pth2 = '/datasets/games.csv'\n",
    "\n",
    "if os.path.exists(pth1):\n",
    "    df = pd.read_csv(pth1)\n",
    "elif os.path.exists(pth2):\n",
    "    df = pd.read_csv(pth2)\n",
    "else:\n",
    "    print('Something is wrong')"
   ]
  },
  {
   "cell_type": "code",
   "execution_count": 5,
   "id": "eb8a8b9d",
   "metadata": {},
   "outputs": [
    {
     "data": {
      "text/html": [
       "<div>\n",
       "<style scoped>\n",
       "    .dataframe tbody tr th:only-of-type {\n",
       "        vertical-align: middle;\n",
       "    }\n",
       "\n",
       "    .dataframe tbody tr th {\n",
       "        vertical-align: top;\n",
       "    }\n",
       "\n",
       "    .dataframe thead th {\n",
       "        text-align: right;\n",
       "    }\n",
       "</style>\n",
       "<table border=\"1\" class=\"dataframe\">\n",
       "  <thead>\n",
       "    <tr style=\"text-align: right;\">\n",
       "      <th></th>\n",
       "      <th>Name</th>\n",
       "      <th>Platform</th>\n",
       "      <th>Year_of_Release</th>\n",
       "      <th>Genre</th>\n",
       "      <th>NA_sales</th>\n",
       "      <th>EU_sales</th>\n",
       "      <th>JP_sales</th>\n",
       "      <th>Other_sales</th>\n",
       "      <th>Critic_Score</th>\n",
       "      <th>User_Score</th>\n",
       "      <th>Rating</th>\n",
       "    </tr>\n",
       "  </thead>\n",
       "  <tbody>\n",
       "    <tr>\n",
       "      <td>0</td>\n",
       "      <td>Wii Sports</td>\n",
       "      <td>Wii</td>\n",
       "      <td>2006.0</td>\n",
       "      <td>Sports</td>\n",
       "      <td>41.36</td>\n",
       "      <td>28.96</td>\n",
       "      <td>3.77</td>\n",
       "      <td>8.45</td>\n",
       "      <td>76.0</td>\n",
       "      <td>8</td>\n",
       "      <td>E</td>\n",
       "    </tr>\n",
       "    <tr>\n",
       "      <td>1</td>\n",
       "      <td>Super Mario Bros.</td>\n",
       "      <td>NES</td>\n",
       "      <td>1985.0</td>\n",
       "      <td>Platform</td>\n",
       "      <td>29.08</td>\n",
       "      <td>3.58</td>\n",
       "      <td>6.81</td>\n",
       "      <td>0.77</td>\n",
       "      <td>NaN</td>\n",
       "      <td>NaN</td>\n",
       "      <td>NaN</td>\n",
       "    </tr>\n",
       "    <tr>\n",
       "      <td>2</td>\n",
       "      <td>Mario Kart Wii</td>\n",
       "      <td>Wii</td>\n",
       "      <td>2008.0</td>\n",
       "      <td>Racing</td>\n",
       "      <td>15.68</td>\n",
       "      <td>12.76</td>\n",
       "      <td>3.79</td>\n",
       "      <td>3.29</td>\n",
       "      <td>82.0</td>\n",
       "      <td>8.3</td>\n",
       "      <td>E</td>\n",
       "    </tr>\n",
       "    <tr>\n",
       "      <td>3</td>\n",
       "      <td>Wii Sports Resort</td>\n",
       "      <td>Wii</td>\n",
       "      <td>2009.0</td>\n",
       "      <td>Sports</td>\n",
       "      <td>15.61</td>\n",
       "      <td>10.93</td>\n",
       "      <td>3.28</td>\n",
       "      <td>2.95</td>\n",
       "      <td>80.0</td>\n",
       "      <td>8</td>\n",
       "      <td>E</td>\n",
       "    </tr>\n",
       "    <tr>\n",
       "      <td>4</td>\n",
       "      <td>Pokemon Red/Pokemon Blue</td>\n",
       "      <td>GB</td>\n",
       "      <td>1996.0</td>\n",
       "      <td>Role-Playing</td>\n",
       "      <td>11.27</td>\n",
       "      <td>8.89</td>\n",
       "      <td>10.22</td>\n",
       "      <td>1.00</td>\n",
       "      <td>NaN</td>\n",
       "      <td>NaN</td>\n",
       "      <td>NaN</td>\n",
       "    </tr>\n",
       "  </tbody>\n",
       "</table>\n",
       "</div>"
      ],
      "text/plain": [
       "                       Name Platform  Year_of_Release         Genre  NA_sales  \\\n",
       "0                Wii Sports      Wii           2006.0        Sports     41.36   \n",
       "1         Super Mario Bros.      NES           1985.0      Platform     29.08   \n",
       "2            Mario Kart Wii      Wii           2008.0        Racing     15.68   \n",
       "3         Wii Sports Resort      Wii           2009.0        Sports     15.61   \n",
       "4  Pokemon Red/Pokemon Blue       GB           1996.0  Role-Playing     11.27   \n",
       "\n",
       "   EU_sales  JP_sales  Other_sales  Critic_Score User_Score Rating  \n",
       "0     28.96      3.77         8.45          76.0          8      E  \n",
       "1      3.58      6.81         0.77           NaN        NaN    NaN  \n",
       "2     12.76      3.79         3.29          82.0        8.3      E  \n",
       "3     10.93      3.28         2.95          80.0          8      E  \n",
       "4      8.89     10.22         1.00           NaN        NaN    NaN  "
      ]
     },
     "execution_count": 5,
     "metadata": {},
     "output_type": "execute_result"
    }
   ],
   "source": [
    "df.head(5)"
   ]
  },
  {
   "cell_type": "code",
   "execution_count": 6,
   "id": "ae9e67e0",
   "metadata": {},
   "outputs": [
    {
     "name": "stdout",
     "output_type": "stream",
     "text": [
      "<class 'pandas.core.frame.DataFrame'>\n",
      "RangeIndex: 16715 entries, 0 to 16714\n",
      "Data columns (total 11 columns):\n",
      "Name               16713 non-null object\n",
      "Platform           16715 non-null object\n",
      "Year_of_Release    16446 non-null float64\n",
      "Genre              16713 non-null object\n",
      "NA_sales           16715 non-null float64\n",
      "EU_sales           16715 non-null float64\n",
      "JP_sales           16715 non-null float64\n",
      "Other_sales        16715 non-null float64\n",
      "Critic_Score       8137 non-null float64\n",
      "User_Score         10014 non-null object\n",
      "Rating             9949 non-null object\n",
      "dtypes: float64(6), object(5)\n",
      "memory usage: 1.4+ MB\n"
     ]
    }
   ],
   "source": [
    "df.info()"
   ]
  },
  {
   "cell_type": "code",
   "execution_count": 7,
   "id": "4fb64306",
   "metadata": {},
   "outputs": [
    {
     "data": {
      "text/plain": [
       "0"
      ]
     },
     "execution_count": 7,
     "metadata": {},
     "output_type": "execute_result"
    }
   ],
   "source": [
    "df.duplicated().sum()"
   ]
  },
  {
   "cell_type": "markdown",
   "id": "f881937c",
   "metadata": {},
   "source": [
    "<b><p style=\"font-size: 20px;\">Подготовка данных.</p></b>"
   ]
  },
  {
   "cell_type": "code",
   "execution_count": 8,
   "id": "40509947",
   "metadata": {},
   "outputs": [],
   "source": [
    "df.columns = [x.lower() for x in df.columns]"
   ]
  },
  {
   "cell_type": "code",
   "execution_count": 9,
   "id": "5789f4d2",
   "metadata": {},
   "outputs": [
    {
     "data": {
      "text/html": [
       "<div>\n",
       "<style scoped>\n",
       "    .dataframe tbody tr th:only-of-type {\n",
       "        vertical-align: middle;\n",
       "    }\n",
       "\n",
       "    .dataframe tbody tr th {\n",
       "        vertical-align: top;\n",
       "    }\n",
       "\n",
       "    .dataframe thead th {\n",
       "        text-align: right;\n",
       "    }\n",
       "</style>\n",
       "<table border=\"1\" class=\"dataframe\">\n",
       "  <thead>\n",
       "    <tr style=\"text-align: right;\">\n",
       "      <th></th>\n",
       "      <th>name</th>\n",
       "      <th>platform</th>\n",
       "      <th>year_of_release</th>\n",
       "      <th>genre</th>\n",
       "      <th>na_sales</th>\n",
       "      <th>eu_sales</th>\n",
       "      <th>jp_sales</th>\n",
       "      <th>other_sales</th>\n",
       "      <th>critic_score</th>\n",
       "      <th>user_score</th>\n",
       "      <th>rating</th>\n",
       "    </tr>\n",
       "  </thead>\n",
       "  <tbody>\n",
       "    <tr>\n",
       "      <td>0</td>\n",
       "      <td>Wii Sports</td>\n",
       "      <td>Wii</td>\n",
       "      <td>2006.0</td>\n",
       "      <td>Sports</td>\n",
       "      <td>41.36</td>\n",
       "      <td>28.96</td>\n",
       "      <td>3.77</td>\n",
       "      <td>8.45</td>\n",
       "      <td>76.0</td>\n",
       "      <td>8</td>\n",
       "      <td>E</td>\n",
       "    </tr>\n",
       "    <tr>\n",
       "      <td>1</td>\n",
       "      <td>Super Mario Bros.</td>\n",
       "      <td>NES</td>\n",
       "      <td>1985.0</td>\n",
       "      <td>Platform</td>\n",
       "      <td>29.08</td>\n",
       "      <td>3.58</td>\n",
       "      <td>6.81</td>\n",
       "      <td>0.77</td>\n",
       "      <td>NaN</td>\n",
       "      <td>NaN</td>\n",
       "      <td>NaN</td>\n",
       "    </tr>\n",
       "    <tr>\n",
       "      <td>2</td>\n",
       "      <td>Mario Kart Wii</td>\n",
       "      <td>Wii</td>\n",
       "      <td>2008.0</td>\n",
       "      <td>Racing</td>\n",
       "      <td>15.68</td>\n",
       "      <td>12.76</td>\n",
       "      <td>3.79</td>\n",
       "      <td>3.29</td>\n",
       "      <td>82.0</td>\n",
       "      <td>8.3</td>\n",
       "      <td>E</td>\n",
       "    </tr>\n",
       "    <tr>\n",
       "      <td>3</td>\n",
       "      <td>Wii Sports Resort</td>\n",
       "      <td>Wii</td>\n",
       "      <td>2009.0</td>\n",
       "      <td>Sports</td>\n",
       "      <td>15.61</td>\n",
       "      <td>10.93</td>\n",
       "      <td>3.28</td>\n",
       "      <td>2.95</td>\n",
       "      <td>80.0</td>\n",
       "      <td>8</td>\n",
       "      <td>E</td>\n",
       "    </tr>\n",
       "    <tr>\n",
       "      <td>4</td>\n",
       "      <td>Pokemon Red/Pokemon Blue</td>\n",
       "      <td>GB</td>\n",
       "      <td>1996.0</td>\n",
       "      <td>Role-Playing</td>\n",
       "      <td>11.27</td>\n",
       "      <td>8.89</td>\n",
       "      <td>10.22</td>\n",
       "      <td>1.00</td>\n",
       "      <td>NaN</td>\n",
       "      <td>NaN</td>\n",
       "      <td>NaN</td>\n",
       "    </tr>\n",
       "  </tbody>\n",
       "</table>\n",
       "</div>"
      ],
      "text/plain": [
       "                       name platform  year_of_release         genre  na_sales  \\\n",
       "0                Wii Sports      Wii           2006.0        Sports     41.36   \n",
       "1         Super Mario Bros.      NES           1985.0      Platform     29.08   \n",
       "2            Mario Kart Wii      Wii           2008.0        Racing     15.68   \n",
       "3         Wii Sports Resort      Wii           2009.0        Sports     15.61   \n",
       "4  Pokemon Red/Pokemon Blue       GB           1996.0  Role-Playing     11.27   \n",
       "\n",
       "   eu_sales  jp_sales  other_sales  critic_score user_score rating  \n",
       "0     28.96      3.77         8.45          76.0          8      E  \n",
       "1      3.58      6.81         0.77           NaN        NaN    NaN  \n",
       "2     12.76      3.79         3.29          82.0        8.3      E  \n",
       "3     10.93      3.28         2.95          80.0          8      E  \n",
       "4      8.89     10.22         1.00           NaN        NaN    NaN  "
      ]
     },
     "execution_count": 9,
     "metadata": {},
     "output_type": "execute_result"
    }
   ],
   "source": [
    "df.head(5)"
   ]
  },
  {
   "cell_type": "code",
   "execution_count": 10,
   "id": "8399a83a",
   "metadata": {},
   "outputs": [
    {
     "name": "stdout",
     "output_type": "stream",
     "text": [
      "['Wii' 'NES' 'GB' 'DS' 'X360' 'PS3' 'PS2' 'SNES' 'GBA' 'PS4' '3DS' 'N64'\n",
      " 'PS' 'XB' 'PC' '2600' 'PSP' 'XOne' 'WiiU' 'GC' 'GEN' 'DC' 'PSV' 'SAT'\n",
      " 'SCD' 'WS' 'NG' 'TG16' '3DO' 'GG' 'PCFX']\n"
     ]
    }
   ],
   "source": [
    "print(df['platform'].unique())"
   ]
  },
  {
   "cell_type": "code",
   "execution_count": 11,
   "id": "f95e7148",
   "metadata": {},
   "outputs": [
    {
     "name": "stdout",
     "output_type": "stream",
     "text": [
      "['E' nan 'M' 'T' 'E10+' 'K-A' 'AO' 'EC' 'RP']\n"
     ]
    }
   ],
   "source": [
    "print(df['rating'].unique())"
   ]
  },
  {
   "cell_type": "code",
   "execution_count": 12,
   "id": "8b098f21",
   "metadata": {},
   "outputs": [
    {
     "name": "stdout",
     "output_type": "stream",
     "text": [
      "[76. nan 82. 80. 89. 58. 87. 91. 61. 97. 95. 77. 88. 83. 94. 93. 85. 86.\n",
      " 98. 96. 90. 84. 73. 74. 78. 92. 71. 72. 68. 62. 49. 67. 81. 66. 56. 79.\n",
      " 70. 59. 64. 75. 60. 63. 69. 50. 25. 42. 44. 55. 48. 57. 29. 47. 65. 54.\n",
      " 20. 53. 37. 38. 33. 52. 30. 32. 43. 45. 51. 40. 46. 39. 34. 35. 41. 36.\n",
      " 28. 31. 27. 26. 19. 23. 24. 21. 17. 22. 13.]\n"
     ]
    }
   ],
   "source": [
    "print(df['critic_score'].unique())"
   ]
  },
  {
   "cell_type": "code",
   "execution_count": 13,
   "id": "8ea18d47",
   "metadata": {},
   "outputs": [
    {
     "name": "stdout",
     "output_type": "stream",
     "text": [
      "['8' nan '8.3' '8.5' '6.6' '8.4' '8.6' '7.7' '6.3' '7.4' '8.2' '9' '7.9'\n",
      " '8.1' '8.7' '7.1' '3.4' '5.3' '4.8' '3.2' '8.9' '6.4' '7.8' '7.5' '2.6'\n",
      " '7.2' '9.2' '7' '7.3' '4.3' '7.6' '5.7' '5' '9.1' '6.5' 'tbd' '8.8' '6.9'\n",
      " '9.4' '6.8' '6.1' '6.7' '5.4' '4' '4.9' '4.5' '9.3' '6.2' '4.2' '6' '3.7'\n",
      " '4.1' '5.8' '5.6' '5.5' '4.4' '4.6' '5.9' '3.9' '3.1' '2.9' '5.2' '3.3'\n",
      " '4.7' '5.1' '3.5' '2.5' '1.9' '3' '2.7' '2.2' '2' '9.5' '2.1' '3.6' '2.8'\n",
      " '1.8' '3.8' '0' '1.6' '9.6' '2.4' '1.7' '1.1' '0.3' '1.5' '0.7' '1.2'\n",
      " '2.3' '0.5' '1.3' '0.2' '0.6' '1.4' '0.9' '1' '9.7']\n"
     ]
    }
   ],
   "source": [
    "print(df['user_score'].unique())"
   ]
  },
  {
   "cell_type": "code",
   "execution_count": 14,
   "id": "2274d162",
   "metadata": {},
   "outputs": [
    {
     "name": "stdout",
     "output_type": "stream",
     "text": [
      "['E' nan 'M' 'T' 'E10+' 'K-A' 'AO' 'EC' 'RP']\n"
     ]
    }
   ],
   "source": [
    "print(df['rating'].unique())"
   ]
  },
  {
   "cell_type": "markdown",
   "id": "e2ae9d27",
   "metadata": {},
   "source": [
    "Проверем нуливые значения вдатасете"
   ]
  },
  {
   "cell_type": "code",
   "execution_count": 15,
   "id": "3af2321d",
   "metadata": {},
   "outputs": [
    {
     "data": {
      "text/plain": [
       "name                  2\n",
       "platform              0\n",
       "year_of_release     269\n",
       "genre                 2\n",
       "na_sales              0\n",
       "eu_sales              0\n",
       "jp_sales              0\n",
       "other_sales           0\n",
       "critic_score       8578\n",
       "user_score         6701\n",
       "rating             6766\n",
       "dtype: int64"
      ]
     },
     "execution_count": 15,
     "metadata": {},
     "output_type": "execute_result"
    }
   ],
   "source": [
    "df.isnull().sum()"
   ]
  },
  {
   "cell_type": "code",
   "execution_count": null,
   "id": "55898666",
   "metadata": {},
   "outputs": [],
   "source": []
  },
  {
   "cell_type": "markdown",
   "id": "a77ea124",
   "metadata": {},
   "source": [
    "Удаляем пропуски"
   ]
  },
  {
   "cell_type": "code",
   "execution_count": 16,
   "id": "3fa3aacc",
   "metadata": {},
   "outputs": [],
   "source": [
    "df = df.drop_duplicates().reset_index(drop=True)"
   ]
  },
  {
   "cell_type": "code",
   "execution_count": 17,
   "id": "66acff9b",
   "metadata": {
    "scrolled": true
   },
   "outputs": [
    {
     "name": "stdout",
     "output_type": "stream",
     "text": [
      "2424\n"
     ]
    }
   ],
   "source": [
    "print(df[df['user_score'] == 'tbd']['user_score'].count())"
   ]
  },
  {
   "cell_type": "markdown",
   "id": "73d7f246",
   "metadata": {},
   "source": [
    "Аббревиатура 'tbd'  означает, что на момент выгрузки датафрейма рейтинг не был определен. соответственно его имеет смысл заполнить пропусками, тк строки с этим значением превышают 10% от датафрейма - удалять их не стоит, что позволит в дальнейшем проводить корректный анализ"
   ]
  },
  {
   "cell_type": "markdown",
   "id": "eb1201c6",
   "metadata": {},
   "source": [
    "переводим столбец 'user_score' в цифровой формат. По этому прописываем errors='coerce' чтобы некорректные значения принудительно заменялись на NaN"
   ]
  },
  {
   "cell_type": "code",
   "execution_count": 18,
   "id": "2c69336f",
   "metadata": {},
   "outputs": [],
   "source": [
    "df['user_score'] = pd.to_numeric(df['user_score'], errors='coerce')"
   ]
  },
  {
   "cell_type": "code",
   "execution_count": 19,
   "id": "ae4c751a",
   "metadata": {},
   "outputs": [
    {
     "name": "stdout",
     "output_type": "stream",
     "text": [
      "False\n"
     ]
    }
   ],
   "source": [
    "print('tbd' in df['user_score'].to_list())"
   ]
  },
  {
   "cell_type": "markdown",
   "id": "3f64dce3",
   "metadata": {},
   "source": [
    " Столбцец 'year_of_release' заполняем нулями и переводим в целочисленный формат"
   ]
  },
  {
   "cell_type": "code",
   "execution_count": 20,
   "id": "bf61dc0c",
   "metadata": {},
   "outputs": [],
   "source": [
    "df['year_of_release'] = df['year_of_release'].fillna(0)"
   ]
  },
  {
   "cell_type": "code",
   "execution_count": 21,
   "id": "cd110e34",
   "metadata": {},
   "outputs": [],
   "source": [
    "df['year_of_release'] = df['year_of_release'].astype('int')"
   ]
  },
  {
   "cell_type": "code",
   "execution_count": 22,
   "id": "3bde3831",
   "metadata": {},
   "outputs": [
    {
     "name": "stdout",
     "output_type": "stream",
     "text": [
      "name - 0.01%\n",
      "platform - 0.0%\n",
      "year_of_release - 0.0%\n",
      "genre - 0.01%\n",
      "na_sales - 0.0%\n",
      "eu_sales - 0.0%\n",
      "jp_sales - 0.0%\n",
      "other_sales - 0.0%\n",
      "critic_score - 51.32%\n",
      "user_score - 54.59%\n",
      "rating - 40.48%\n"
     ]
    }
   ],
   "source": [
    "for col in df.columns:\n",
    "    pct_missing = np.mean(df[col].isna())\n",
    "    print('{} - {}%'.format(col, round(pct_missing*100,2)))"
   ]
  },
  {
   "cell_type": "markdown",
   "id": "11326b36",
   "metadata": {},
   "source": [
    "Проверяем формат данных в датасете"
   ]
  },
  {
   "cell_type": "code",
   "execution_count": 23,
   "id": "b7f3e39b",
   "metadata": {},
   "outputs": [
    {
     "data": {
      "text/plain": [
       "name                object\n",
       "platform            object\n",
       "year_of_release      int64\n",
       "genre               object\n",
       "na_sales           float64\n",
       "eu_sales           float64\n",
       "jp_sales           float64\n",
       "other_sales        float64\n",
       "critic_score       float64\n",
       "user_score         float64\n",
       "rating              object\n",
       "dtype: object"
      ]
     },
     "execution_count": 23,
     "metadata": {},
     "output_type": "execute_result"
    }
   ],
   "source": [
    "df.dtypes"
   ]
  },
  {
   "cell_type": "markdown",
   "id": "7ed0557f",
   "metadata": {},
   "source": [
    "считаем общие продажи по всем регионам и добавляем в новый столбец 'total_sale'"
   ]
  },
  {
   "cell_type": "code",
   "execution_count": 24,
   "id": "b6482b97",
   "metadata": {},
   "outputs": [],
   "source": [
    "df['total_sale'] = df['na_sales'] + df['eu_sales'] + df['jp_sales'] + df['other_sales']"
   ]
  },
  {
   "cell_type": "code",
   "execution_count": 25,
   "id": "3abfd434",
   "metadata": {},
   "outputs": [
    {
     "data": {
      "text/html": [
       "<div>\n",
       "<style scoped>\n",
       "    .dataframe tbody tr th:only-of-type {\n",
       "        vertical-align: middle;\n",
       "    }\n",
       "\n",
       "    .dataframe tbody tr th {\n",
       "        vertical-align: top;\n",
       "    }\n",
       "\n",
       "    .dataframe thead th {\n",
       "        text-align: right;\n",
       "    }\n",
       "</style>\n",
       "<table border=\"1\" class=\"dataframe\">\n",
       "  <thead>\n",
       "    <tr style=\"text-align: right;\">\n",
       "      <th></th>\n",
       "      <th>name</th>\n",
       "      <th>platform</th>\n",
       "      <th>year_of_release</th>\n",
       "      <th>genre</th>\n",
       "      <th>na_sales</th>\n",
       "      <th>eu_sales</th>\n",
       "      <th>jp_sales</th>\n",
       "      <th>other_sales</th>\n",
       "      <th>critic_score</th>\n",
       "      <th>user_score</th>\n",
       "      <th>rating</th>\n",
       "      <th>total_sale</th>\n",
       "    </tr>\n",
       "  </thead>\n",
       "  <tbody>\n",
       "    <tr>\n",
       "      <td>0</td>\n",
       "      <td>Wii Sports</td>\n",
       "      <td>Wii</td>\n",
       "      <td>2006</td>\n",
       "      <td>Sports</td>\n",
       "      <td>41.36</td>\n",
       "      <td>28.96</td>\n",
       "      <td>3.77</td>\n",
       "      <td>8.45</td>\n",
       "      <td>76.0</td>\n",
       "      <td>8.0</td>\n",
       "      <td>E</td>\n",
       "      <td>82.54</td>\n",
       "    </tr>\n",
       "    <tr>\n",
       "      <td>1</td>\n",
       "      <td>Super Mario Bros.</td>\n",
       "      <td>NES</td>\n",
       "      <td>1985</td>\n",
       "      <td>Platform</td>\n",
       "      <td>29.08</td>\n",
       "      <td>3.58</td>\n",
       "      <td>6.81</td>\n",
       "      <td>0.77</td>\n",
       "      <td>NaN</td>\n",
       "      <td>NaN</td>\n",
       "      <td>NaN</td>\n",
       "      <td>40.24</td>\n",
       "    </tr>\n",
       "    <tr>\n",
       "      <td>2</td>\n",
       "      <td>Mario Kart Wii</td>\n",
       "      <td>Wii</td>\n",
       "      <td>2008</td>\n",
       "      <td>Racing</td>\n",
       "      <td>15.68</td>\n",
       "      <td>12.76</td>\n",
       "      <td>3.79</td>\n",
       "      <td>3.29</td>\n",
       "      <td>82.0</td>\n",
       "      <td>8.3</td>\n",
       "      <td>E</td>\n",
       "      <td>35.52</td>\n",
       "    </tr>\n",
       "    <tr>\n",
       "      <td>3</td>\n",
       "      <td>Wii Sports Resort</td>\n",
       "      <td>Wii</td>\n",
       "      <td>2009</td>\n",
       "      <td>Sports</td>\n",
       "      <td>15.61</td>\n",
       "      <td>10.93</td>\n",
       "      <td>3.28</td>\n",
       "      <td>2.95</td>\n",
       "      <td>80.0</td>\n",
       "      <td>8.0</td>\n",
       "      <td>E</td>\n",
       "      <td>32.77</td>\n",
       "    </tr>\n",
       "    <tr>\n",
       "      <td>4</td>\n",
       "      <td>Pokemon Red/Pokemon Blue</td>\n",
       "      <td>GB</td>\n",
       "      <td>1996</td>\n",
       "      <td>Role-Playing</td>\n",
       "      <td>11.27</td>\n",
       "      <td>8.89</td>\n",
       "      <td>10.22</td>\n",
       "      <td>1.00</td>\n",
       "      <td>NaN</td>\n",
       "      <td>NaN</td>\n",
       "      <td>NaN</td>\n",
       "      <td>31.38</td>\n",
       "    </tr>\n",
       "  </tbody>\n",
       "</table>\n",
       "</div>"
      ],
      "text/plain": [
       "                       name platform  year_of_release         genre  na_sales  \\\n",
       "0                Wii Sports      Wii             2006        Sports     41.36   \n",
       "1         Super Mario Bros.      NES             1985      Platform     29.08   \n",
       "2            Mario Kart Wii      Wii             2008        Racing     15.68   \n",
       "3         Wii Sports Resort      Wii             2009        Sports     15.61   \n",
       "4  Pokemon Red/Pokemon Blue       GB             1996  Role-Playing     11.27   \n",
       "\n",
       "   eu_sales  jp_sales  other_sales  critic_score  user_score rating  \\\n",
       "0     28.96      3.77         8.45          76.0         8.0      E   \n",
       "1      3.58      6.81         0.77           NaN         NaN    NaN   \n",
       "2     12.76      3.79         3.29          82.0         8.3      E   \n",
       "3     10.93      3.28         2.95          80.0         8.0      E   \n",
       "4      8.89     10.22         1.00           NaN         NaN    NaN   \n",
       "\n",
       "   total_sale  \n",
       "0       82.54  \n",
       "1       40.24  \n",
       "2       35.52  \n",
       "3       32.77  \n",
       "4       31.38  "
      ]
     },
     "execution_count": 25,
     "metadata": {},
     "output_type": "execute_result"
    }
   ],
   "source": [
    "df.head(5)"
   ]
  },
  {
   "cell_type": "markdown",
   "id": "94d254ca",
   "metadata": {},
   "source": [
    "<b><p style=\"font-size: 20px;\">Исследовательский анализ данных</p></b>"
   ]
  },
  {
   "cell_type": "markdown",
   "id": "8bc2caab",
   "metadata": {},
   "source": [
    "Выявляем у скольки игр не указан год выпуска:"
   ]
  },
  {
   "cell_type": "code",
   "execution_count": 26,
   "id": "fcf98520",
   "metadata": {},
   "outputs": [
    {
     "name": "stdout",
     "output_type": "stream",
     "text": [
      "2008    1427\n",
      "2009    1426\n",
      "2010    1255\n",
      "2007    1197\n",
      "2011    1136\n",
      "2006    1006\n",
      "2005     939\n",
      "2002     829\n",
      "2003     775\n",
      "2004     762\n",
      "2012     653\n",
      "2015     606\n",
      "2014     581\n",
      "2013     544\n",
      "2016     502\n",
      "2001     482\n",
      "1998     379\n",
      "2000     350\n",
      "1999     338\n",
      "1997     289\n",
      "0        269\n",
      "1996     263\n",
      "1995     219\n",
      "1994     121\n",
      "1993      62\n",
      "1981      46\n",
      "1992      43\n",
      "1991      41\n",
      "1982      36\n",
      "1986      21\n",
      "1989      17\n",
      "1983      17\n",
      "1990      16\n",
      "1987      16\n",
      "1988      15\n",
      "1985      14\n",
      "1984      14\n",
      "1980       9\n",
      "Name: year_of_release, dtype: int64\n"
     ]
    }
   ],
   "source": [
    "print(df['year_of_release'].value_counts())"
   ]
  },
  {
   "cell_type": "markdown",
   "id": "10e101b3",
   "metadata": {},
   "source": [
    "Делаем срез по годам и изключаем строки с нулевыми годами, тк востановить в каком году были выпущены игры нет возможно"
   ]
  },
  {
   "cell_type": "code",
   "execution_count": 27,
   "id": "46e4ed1b",
   "metadata": {},
   "outputs": [],
   "source": [
    "df_game =df.query('year_of_release !=0')"
   ]
  },
  {
   "cell_type": "code",
   "execution_count": 28,
   "id": "ccf28f16",
   "metadata": {},
   "outputs": [
    {
     "data": {
      "text/plain": [
       "2008    1427\n",
       "2009    1426\n",
       "2010    1255\n",
       "2007    1197\n",
       "2011    1136\n",
       "2006    1006\n",
       "2005     939\n",
       "2002     829\n",
       "2003     775\n",
       "2004     762\n",
       "2012     653\n",
       "2015     606\n",
       "2014     581\n",
       "2013     544\n",
       "2016     502\n",
       "2001     482\n",
       "1998     379\n",
       "2000     350\n",
       "1999     338\n",
       "1997     289\n",
       "1996     263\n",
       "1995     219\n",
       "1994     121\n",
       "1993      62\n",
       "1981      46\n",
       "1992      43\n",
       "1991      41\n",
       "1982      36\n",
       "1986      21\n",
       "1983      17\n",
       "1989      17\n",
       "1987      16\n",
       "1990      16\n",
       "1988      15\n",
       "1984      14\n",
       "1985      14\n",
       "1980       9\n",
       "Name: year_of_release, dtype: int64"
      ]
     },
     "execution_count": 28,
     "metadata": {},
     "output_type": "execute_result"
    }
   ],
   "source": [
    "df_game['year_of_release'].value_counts()"
   ]
  },
  {
   "cell_type": "markdown",
   "id": "248378d5",
   "metadata": {},
   "source": [
    "Делаем сводную таблицу по платформам и продажам игр"
   ]
  },
  {
   "cell_type": "code",
   "execution_count": 29,
   "id": "ec0fa9f1",
   "metadata": {},
   "outputs": [],
   "source": [
    "game_range = df_game.pivot_table(index='platform', \n",
    "                            values='total_sale', aggfunc='count')"
   ]
  },
  {
   "cell_type": "code",
   "execution_count": 30,
   "id": "aeb61e43",
   "metadata": {},
   "outputs": [],
   "source": [
    "game_range = game_range.reset_index()\n",
    "columns=['platform', 'total_sale'] "
   ]
  },
  {
   "cell_type": "code",
   "execution_count": 31,
   "id": "57e445c5",
   "metadata": {},
   "outputs": [],
   "source": [
    "game_range = game_range.query('total_sale >100')"
   ]
  },
  {
   "cell_type": "markdown",
   "id": "c1049335",
   "metadata": {},
   "source": [
    "\n",
    "<div class=\"alert alert-block alert-info\">\n",
    "В данной сводной таблице мы сопоставяем платформы и количество проданных игр для этих платформ. затем огранииваем количество продаж - все что меньше 100млн, для того чтобы убрать платформы дл которых выпускается слишком мало игр\n",
    "    "
   ]
  },
  {
   "cell_type": "code",
   "execution_count": 32,
   "id": "92aa0870",
   "metadata": {},
   "outputs": [
    {
     "data": {
      "text/html": [
       "<div>\n",
       "<style scoped>\n",
       "    .dataframe tbody tr th:only-of-type {\n",
       "        vertical-align: middle;\n",
       "    }\n",
       "\n",
       "    .dataframe tbody tr th {\n",
       "        vertical-align: top;\n",
       "    }\n",
       "\n",
       "    .dataframe thead th {\n",
       "        text-align: right;\n",
       "    }\n",
       "</style>\n",
       "<table border=\"1\" class=\"dataframe\">\n",
       "  <thead>\n",
       "    <tr style=\"text-align: right;\">\n",
       "      <th></th>\n",
       "      <th>platform</th>\n",
       "      <th>total_sale</th>\n",
       "    </tr>\n",
       "  </thead>\n",
       "  <tbody>\n",
       "    <tr>\n",
       "      <td>0</td>\n",
       "      <td>2600</td>\n",
       "      <td>116</td>\n",
       "    </tr>\n",
       "    <tr>\n",
       "      <td>1</td>\n",
       "      <td>3DS</td>\n",
       "      <td>512</td>\n",
       "    </tr>\n",
       "    <tr>\n",
       "      <td>2</td>\n",
       "      <td>DS</td>\n",
       "      <td>2121</td>\n",
       "    </tr>\n",
       "    <tr>\n",
       "      <td>3</td>\n",
       "      <td>GBA</td>\n",
       "      <td>811</td>\n",
       "    </tr>\n",
       "    <tr>\n",
       "      <td>4</td>\n",
       "      <td>GC</td>\n",
       "      <td>542</td>\n",
       "    </tr>\n",
       "    <tr>\n",
       "      <td>5</td>\n",
       "      <td>N64</td>\n",
       "      <td>316</td>\n",
       "    </tr>\n",
       "    <tr>\n",
       "      <td>6</td>\n",
       "      <td>PC</td>\n",
       "      <td>957</td>\n",
       "    </tr>\n",
       "    <tr>\n",
       "      <td>7</td>\n",
       "      <td>PS</td>\n",
       "      <td>1190</td>\n",
       "    </tr>\n",
       "    <tr>\n",
       "      <td>8</td>\n",
       "      <td>PS2</td>\n",
       "      <td>2127</td>\n",
       "    </tr>\n",
       "    <tr>\n",
       "      <td>9</td>\n",
       "      <td>PS3</td>\n",
       "      <td>1306</td>\n",
       "    </tr>\n",
       "    <tr>\n",
       "      <td>10</td>\n",
       "      <td>PS4</td>\n",
       "      <td>392</td>\n",
       "    </tr>\n",
       "    <tr>\n",
       "      <td>11</td>\n",
       "      <td>PSP</td>\n",
       "      <td>1193</td>\n",
       "    </tr>\n",
       "    <tr>\n",
       "      <td>12</td>\n",
       "      <td>PSV</td>\n",
       "      <td>429</td>\n",
       "    </tr>\n",
       "    <tr>\n",
       "      <td>13</td>\n",
       "      <td>SAT</td>\n",
       "      <td>173</td>\n",
       "    </tr>\n",
       "    <tr>\n",
       "      <td>14</td>\n",
       "      <td>SNES</td>\n",
       "      <td>239</td>\n",
       "    </tr>\n",
       "    <tr>\n",
       "      <td>15</td>\n",
       "      <td>Wii</td>\n",
       "      <td>1286</td>\n",
       "    </tr>\n",
       "    <tr>\n",
       "      <td>16</td>\n",
       "      <td>WiiU</td>\n",
       "      <td>147</td>\n",
       "    </tr>\n",
       "    <tr>\n",
       "      <td>17</td>\n",
       "      <td>X360</td>\n",
       "      <td>1232</td>\n",
       "    </tr>\n",
       "    <tr>\n",
       "      <td>18</td>\n",
       "      <td>XB</td>\n",
       "      <td>803</td>\n",
       "    </tr>\n",
       "    <tr>\n",
       "      <td>19</td>\n",
       "      <td>XOne</td>\n",
       "      <td>247</td>\n",
       "    </tr>\n",
       "  </tbody>\n",
       "</table>\n",
       "</div>"
      ],
      "text/plain": [
       "   platform  total_sale\n",
       "0      2600         116\n",
       "1       3DS         512\n",
       "2        DS        2121\n",
       "3       GBA         811\n",
       "4        GC         542\n",
       "5       N64         316\n",
       "6        PC         957\n",
       "7        PS        1190\n",
       "8       PS2        2127\n",
       "9       PS3        1306\n",
       "10      PS4         392\n",
       "11      PSP        1193\n",
       "12      PSV         429\n",
       "13      SAT         173\n",
       "14     SNES         239\n",
       "15      Wii        1286\n",
       "16     WiiU         147\n",
       "17     X360        1232\n",
       "18       XB         803\n",
       "19     XOne         247"
      ]
     },
     "execution_count": 32,
     "metadata": {},
     "output_type": "execute_result"
    }
   ],
   "source": [
    "game_range.reset_index(drop=True, inplace=True)\n",
    "game_range"
   ]
  },
  {
   "cell_type": "markdown",
   "id": "1b9cf93d",
   "metadata": {},
   "source": [
    "Создаем список платформ:"
   ]
  },
  {
   "cell_type": "code",
   "execution_count": 33,
   "id": "ced1d959",
   "metadata": {},
   "outputs": [],
   "source": [
    "platform_list_1 = game_range['platform'].to_list()\n"
   ]
  },
  {
   "cell_type": "code",
   "execution_count": 34,
   "id": "e7135a3f",
   "metadata": {},
   "outputs": [
    {
     "data": {
      "text/plain": [
       "['2600',\n",
       " '3DS',\n",
       " 'DS',\n",
       " 'GBA',\n",
       " 'GC',\n",
       " 'N64',\n",
       " 'PC',\n",
       " 'PS',\n",
       " 'PS2',\n",
       " 'PS3',\n",
       " 'PS4',\n",
       " 'PSP',\n",
       " 'PSV',\n",
       " 'SAT',\n",
       " 'SNES',\n",
       " 'Wii',\n",
       " 'WiiU',\n",
       " 'X360',\n",
       " 'XB',\n",
       " 'XOne']"
      ]
     },
     "execution_count": 34,
     "metadata": {},
     "output_type": "execute_result"
    }
   ],
   "source": [
    "platform_list = []\n",
    "\n",
    "for i in game_range['platform']:\n",
    "    platform_list.append(i)\n",
    "platform_list    "
   ]
  },
  {
   "cell_type": "markdown",
   "id": "21bce2f6",
   "metadata": {},
   "source": [
    "создаем дублированный датасет по списку платформ"
   ]
  },
  {
   "cell_type": "code",
   "execution_count": 35,
   "id": "5740dbb4",
   "metadata": {},
   "outputs": [
    {
     "data": {
      "text/html": [
       "<div>\n",
       "<style scoped>\n",
       "    .dataframe tbody tr th:only-of-type {\n",
       "        vertical-align: middle;\n",
       "    }\n",
       "\n",
       "    .dataframe tbody tr th {\n",
       "        vertical-align: top;\n",
       "    }\n",
       "\n",
       "    .dataframe thead th {\n",
       "        text-align: right;\n",
       "    }\n",
       "</style>\n",
       "<table border=\"1\" class=\"dataframe\">\n",
       "  <thead>\n",
       "    <tr style=\"text-align: right;\">\n",
       "      <th></th>\n",
       "      <th>name</th>\n",
       "      <th>platform</th>\n",
       "      <th>year_of_release</th>\n",
       "      <th>genre</th>\n",
       "      <th>na_sales</th>\n",
       "      <th>eu_sales</th>\n",
       "      <th>jp_sales</th>\n",
       "      <th>other_sales</th>\n",
       "      <th>critic_score</th>\n",
       "      <th>user_score</th>\n",
       "      <th>rating</th>\n",
       "      <th>total_sale</th>\n",
       "    </tr>\n",
       "  </thead>\n",
       "  <tbody>\n",
       "    <tr>\n",
       "      <td>0</td>\n",
       "      <td>Wii Sports</td>\n",
       "      <td>Wii</td>\n",
       "      <td>2006</td>\n",
       "      <td>Sports</td>\n",
       "      <td>41.36</td>\n",
       "      <td>28.96</td>\n",
       "      <td>3.77</td>\n",
       "      <td>8.45</td>\n",
       "      <td>76.0</td>\n",
       "      <td>8.0</td>\n",
       "      <td>E</td>\n",
       "      <td>82.54</td>\n",
       "    </tr>\n",
       "    <tr>\n",
       "      <td>1</td>\n",
       "      <td>Mario Kart Wii</td>\n",
       "      <td>Wii</td>\n",
       "      <td>2008</td>\n",
       "      <td>Racing</td>\n",
       "      <td>15.68</td>\n",
       "      <td>12.76</td>\n",
       "      <td>3.79</td>\n",
       "      <td>3.29</td>\n",
       "      <td>82.0</td>\n",
       "      <td>8.3</td>\n",
       "      <td>E</td>\n",
       "      <td>35.52</td>\n",
       "    </tr>\n",
       "    <tr>\n",
       "      <td>2</td>\n",
       "      <td>Wii Sports Resort</td>\n",
       "      <td>Wii</td>\n",
       "      <td>2009</td>\n",
       "      <td>Sports</td>\n",
       "      <td>15.61</td>\n",
       "      <td>10.93</td>\n",
       "      <td>3.28</td>\n",
       "      <td>2.95</td>\n",
       "      <td>80.0</td>\n",
       "      <td>8.0</td>\n",
       "      <td>E</td>\n",
       "      <td>32.77</td>\n",
       "    </tr>\n",
       "    <tr>\n",
       "      <td>3</td>\n",
       "      <td>New Super Mario Bros.</td>\n",
       "      <td>DS</td>\n",
       "      <td>2006</td>\n",
       "      <td>Platform</td>\n",
       "      <td>11.28</td>\n",
       "      <td>9.14</td>\n",
       "      <td>6.50</td>\n",
       "      <td>2.88</td>\n",
       "      <td>89.0</td>\n",
       "      <td>8.5</td>\n",
       "      <td>E</td>\n",
       "      <td>29.80</td>\n",
       "    </tr>\n",
       "    <tr>\n",
       "      <td>4</td>\n",
       "      <td>Wii Play</td>\n",
       "      <td>Wii</td>\n",
       "      <td>2006</td>\n",
       "      <td>Misc</td>\n",
       "      <td>13.96</td>\n",
       "      <td>9.18</td>\n",
       "      <td>2.93</td>\n",
       "      <td>2.84</td>\n",
       "      <td>58.0</td>\n",
       "      <td>6.6</td>\n",
       "      <td>E</td>\n",
       "      <td>28.91</td>\n",
       "    </tr>\n",
       "    <tr>\n",
       "      <td>...</td>\n",
       "      <td>...</td>\n",
       "      <td>...</td>\n",
       "      <td>...</td>\n",
       "      <td>...</td>\n",
       "      <td>...</td>\n",
       "      <td>...</td>\n",
       "      <td>...</td>\n",
       "      <td>...</td>\n",
       "      <td>...</td>\n",
       "      <td>...</td>\n",
       "      <td>...</td>\n",
       "      <td>...</td>\n",
       "    </tr>\n",
       "    <tr>\n",
       "      <td>16134</td>\n",
       "      <td>Samurai Warriors: Sanada Maru</td>\n",
       "      <td>PS3</td>\n",
       "      <td>2016</td>\n",
       "      <td>Action</td>\n",
       "      <td>0.00</td>\n",
       "      <td>0.00</td>\n",
       "      <td>0.01</td>\n",
       "      <td>0.00</td>\n",
       "      <td>NaN</td>\n",
       "      <td>NaN</td>\n",
       "      <td>NaN</td>\n",
       "      <td>0.01</td>\n",
       "    </tr>\n",
       "    <tr>\n",
       "      <td>16135</td>\n",
       "      <td>LMA Manager 2007</td>\n",
       "      <td>X360</td>\n",
       "      <td>2006</td>\n",
       "      <td>Sports</td>\n",
       "      <td>0.00</td>\n",
       "      <td>0.01</td>\n",
       "      <td>0.00</td>\n",
       "      <td>0.00</td>\n",
       "      <td>NaN</td>\n",
       "      <td>NaN</td>\n",
       "      <td>NaN</td>\n",
       "      <td>0.01</td>\n",
       "    </tr>\n",
       "    <tr>\n",
       "      <td>16136</td>\n",
       "      <td>Haitaka no Psychedelica</td>\n",
       "      <td>PSV</td>\n",
       "      <td>2016</td>\n",
       "      <td>Adventure</td>\n",
       "      <td>0.00</td>\n",
       "      <td>0.00</td>\n",
       "      <td>0.01</td>\n",
       "      <td>0.00</td>\n",
       "      <td>NaN</td>\n",
       "      <td>NaN</td>\n",
       "      <td>NaN</td>\n",
       "      <td>0.01</td>\n",
       "    </tr>\n",
       "    <tr>\n",
       "      <td>16137</td>\n",
       "      <td>Spirits &amp; Spells</td>\n",
       "      <td>GBA</td>\n",
       "      <td>2003</td>\n",
       "      <td>Platform</td>\n",
       "      <td>0.01</td>\n",
       "      <td>0.00</td>\n",
       "      <td>0.00</td>\n",
       "      <td>0.00</td>\n",
       "      <td>NaN</td>\n",
       "      <td>NaN</td>\n",
       "      <td>NaN</td>\n",
       "      <td>0.01</td>\n",
       "    </tr>\n",
       "    <tr>\n",
       "      <td>16138</td>\n",
       "      <td>Winning Post 8 2016</td>\n",
       "      <td>PSV</td>\n",
       "      <td>2016</td>\n",
       "      <td>Simulation</td>\n",
       "      <td>0.00</td>\n",
       "      <td>0.00</td>\n",
       "      <td>0.01</td>\n",
       "      <td>0.00</td>\n",
       "      <td>NaN</td>\n",
       "      <td>NaN</td>\n",
       "      <td>NaN</td>\n",
       "      <td>0.01</td>\n",
       "    </tr>\n",
       "  </tbody>\n",
       "</table>\n",
       "<p>16139 rows × 12 columns</p>\n",
       "</div>"
      ],
      "text/plain": [
       "                                name platform  year_of_release       genre  \\\n",
       "0                         Wii Sports      Wii             2006      Sports   \n",
       "1                     Mario Kart Wii      Wii             2008      Racing   \n",
       "2                  Wii Sports Resort      Wii             2009      Sports   \n",
       "3              New Super Mario Bros.       DS             2006    Platform   \n",
       "4                           Wii Play      Wii             2006        Misc   \n",
       "...                              ...      ...              ...         ...   \n",
       "16134  Samurai Warriors: Sanada Maru      PS3             2016      Action   \n",
       "16135               LMA Manager 2007     X360             2006      Sports   \n",
       "16136        Haitaka no Psychedelica      PSV             2016   Adventure   \n",
       "16137               Spirits & Spells      GBA             2003    Platform   \n",
       "16138            Winning Post 8 2016      PSV             2016  Simulation   \n",
       "\n",
       "       na_sales  eu_sales  jp_sales  other_sales  critic_score  user_score  \\\n",
       "0         41.36     28.96      3.77         8.45          76.0         8.0   \n",
       "1         15.68     12.76      3.79         3.29          82.0         8.3   \n",
       "2         15.61     10.93      3.28         2.95          80.0         8.0   \n",
       "3         11.28      9.14      6.50         2.88          89.0         8.5   \n",
       "4         13.96      9.18      2.93         2.84          58.0         6.6   \n",
       "...         ...       ...       ...          ...           ...         ...   \n",
       "16134      0.00      0.00      0.01         0.00           NaN         NaN   \n",
       "16135      0.00      0.01      0.00         0.00           NaN         NaN   \n",
       "16136      0.00      0.00      0.01         0.00           NaN         NaN   \n",
       "16137      0.01      0.00      0.00         0.00           NaN         NaN   \n",
       "16138      0.00      0.00      0.01         0.00           NaN         NaN   \n",
       "\n",
       "      rating  total_sale  \n",
       "0          E       82.54  \n",
       "1          E       35.52  \n",
       "2          E       32.77  \n",
       "3          E       29.80  \n",
       "4          E       28.91  \n",
       "...      ...         ...  \n",
       "16134    NaN        0.01  \n",
       "16135    NaN        0.01  \n",
       "16136    NaN        0.01  \n",
       "16137    NaN        0.01  \n",
       "16138    NaN        0.01  \n",
       "\n",
       "[16139 rows x 12 columns]"
      ]
     },
     "execution_count": 35,
     "metadata": {},
     "output_type": "execute_result"
    }
   ],
   "source": [
    "df_game_over_20= df_game[df_game['platform'].isin(platform_list)]\n",
    "df_game_over_20.reset_index(drop=True, inplace=True)\n",
    "df_game_over_20"
   ]
  },
  {
   "cell_type": "markdown",
   "id": "ffcf6d60",
   "metadata": {},
   "source": [
    "<div class=\"alert alert-block alert-info\">\n",
    "Для того чтобы не учитывать непопулярные платформы, мы трансформируем датафрейм и оставляем 20 платформ по которым сумарные продажы более 100млн \n"
   ]
  },
  {
   "cell_type": "markdown",
   "id": "cf59bfa1",
   "metadata": {},
   "source": [
    "строим график по  количеству игр выходивших и выходящих на платформах"
   ]
  },
  {
   "cell_type": "code",
   "execution_count": 36,
   "id": "249fc85d",
   "metadata": {},
   "outputs": [
    {
     "data": {
      "image/png": "[encoded data removed]",
      "text/plain": [
       "<Figure size 1080x504 with 1 Axes>"
      ]
     },
     "metadata": {
      "needs_background": "light"
     },
     "output_type": "display_data"
    }
   ],
   "source": [
    "pivot_df = pd.pivot_table(df_game_over_20, index='year_of_release', columns='platform', values = 'name', aggfunc='count')\n",
    "\n",
    "fig, ax = plt.subplots()\n",
    "ax.plot(pivot_df)\n",
    "\n",
    "plt.title('количество игр выходивших и выходящих на платформах')\n",
    "ax.set_xlabel('год выхода ')\n",
    "ax.set_ylabel('количество')\n",
    "ax.legend(platform_list)\n",
    "fig.set_figwidth(15)\n",
    "fig.set_figheight(7)\n",
    "ax.grid()\n",
    "plt.show()"
   ]
  },
  {
   "attachments": {
    "screen_temp.JPG": {
     "image/jpeg": "[encoded data removed]"
    }
   },
   "cell_type": "markdown",
   "id": "be9c827f",
   "metadata": {},
   "source": [
    "![screen_temp.JPG](attachment:screen_temp.JPG)"
   ]
  },
  {
   "cell_type": "markdown",
   "id": "aff17aa0",
   "metadata": {},
   "source": [
    "на диаграммме видно платформа 2600 была самая первая платформа. Просуществовала чуть менее 10 лет. У большинства платформ заканчивается жизненный цикл, так как на этих платформах выускается все меньше и меньше игр. Самая актуальная платформа - РS4 так как все больше и больше игр начинают выпускать для этой платформе"
   ]
  },
  {
   "cell_type": "markdown",
   "id": "b2a6d593",
   "metadata": {},
   "source": [
    "определем жизненный цикл платформ "
   ]
  },
  {
   "cell_type": "code",
   "execution_count": 37,
   "id": "00b5db38",
   "metadata": {},
   "outputs": [
    {
     "data": {
      "text/html": [
       "<div>\n",
       "<style scoped>\n",
       "    .dataframe tbody tr th:only-of-type {\n",
       "        vertical-align: middle;\n",
       "    }\n",
       "\n",
       "    .dataframe tbody tr th {\n",
       "        vertical-align: top;\n",
       "    }\n",
       "\n",
       "    .dataframe thead th {\n",
       "        text-align: right;\n",
       "    }\n",
       "</style>\n",
       "<table border=\"1\" class=\"dataframe\">\n",
       "  <thead>\n",
       "    <tr style=\"text-align: right;\">\n",
       "      <th></th>\n",
       "      <th>platform</th>\n",
       "      <th>release</th>\n",
       "      <th>current_status</th>\n",
       "    </tr>\n",
       "  </thead>\n",
       "  <tbody>\n",
       "    <tr>\n",
       "      <td>0</td>\n",
       "      <td>2600</td>\n",
       "      <td>1980</td>\n",
       "      <td>1989</td>\n",
       "    </tr>\n",
       "    <tr>\n",
       "      <td>1</td>\n",
       "      <td>3DS</td>\n",
       "      <td>2011</td>\n",
       "      <td>2016</td>\n",
       "    </tr>\n",
       "    <tr>\n",
       "      <td>2</td>\n",
       "      <td>DS</td>\n",
       "      <td>1985</td>\n",
       "      <td>2013</td>\n",
       "    </tr>\n",
       "    <tr>\n",
       "      <td>3</td>\n",
       "      <td>GBA</td>\n",
       "      <td>2000</td>\n",
       "      <td>2007</td>\n",
       "    </tr>\n",
       "    <tr>\n",
       "      <td>4</td>\n",
       "      <td>GC</td>\n",
       "      <td>2001</td>\n",
       "      <td>2007</td>\n",
       "    </tr>\n",
       "    <tr>\n",
       "      <td>5</td>\n",
       "      <td>N64</td>\n",
       "      <td>1996</td>\n",
       "      <td>2002</td>\n",
       "    </tr>\n",
       "    <tr>\n",
       "      <td>6</td>\n",
       "      <td>PC</td>\n",
       "      <td>1985</td>\n",
       "      <td>2016</td>\n",
       "    </tr>\n",
       "    <tr>\n",
       "      <td>7</td>\n",
       "      <td>PS</td>\n",
       "      <td>1994</td>\n",
       "      <td>2003</td>\n",
       "    </tr>\n",
       "    <tr>\n",
       "      <td>8</td>\n",
       "      <td>PS2</td>\n",
       "      <td>2000</td>\n",
       "      <td>2011</td>\n",
       "    </tr>\n",
       "    <tr>\n",
       "      <td>9</td>\n",
       "      <td>PS3</td>\n",
       "      <td>2006</td>\n",
       "      <td>2016</td>\n",
       "    </tr>\n",
       "    <tr>\n",
       "      <td>10</td>\n",
       "      <td>PS4</td>\n",
       "      <td>2013</td>\n",
       "      <td>2016</td>\n",
       "    </tr>\n",
       "    <tr>\n",
       "      <td>11</td>\n",
       "      <td>PSP</td>\n",
       "      <td>2004</td>\n",
       "      <td>2015</td>\n",
       "    </tr>\n",
       "    <tr>\n",
       "      <td>12</td>\n",
       "      <td>PSV</td>\n",
       "      <td>2011</td>\n",
       "      <td>2016</td>\n",
       "    </tr>\n",
       "    <tr>\n",
       "      <td>13</td>\n",
       "      <td>SAT</td>\n",
       "      <td>1994</td>\n",
       "      <td>1999</td>\n",
       "    </tr>\n",
       "    <tr>\n",
       "      <td>14</td>\n",
       "      <td>SNES</td>\n",
       "      <td>1990</td>\n",
       "      <td>1999</td>\n",
       "    </tr>\n",
       "    <tr>\n",
       "      <td>15</td>\n",
       "      <td>Wii</td>\n",
       "      <td>2006</td>\n",
       "      <td>2016</td>\n",
       "    </tr>\n",
       "    <tr>\n",
       "      <td>16</td>\n",
       "      <td>WiiU</td>\n",
       "      <td>2012</td>\n",
       "      <td>2016</td>\n",
       "    </tr>\n",
       "    <tr>\n",
       "      <td>17</td>\n",
       "      <td>X360</td>\n",
       "      <td>2005</td>\n",
       "      <td>2016</td>\n",
       "    </tr>\n",
       "    <tr>\n",
       "      <td>18</td>\n",
       "      <td>XB</td>\n",
       "      <td>2000</td>\n",
       "      <td>2008</td>\n",
       "    </tr>\n",
       "    <tr>\n",
       "      <td>19</td>\n",
       "      <td>XOne</td>\n",
       "      <td>2013</td>\n",
       "      <td>2016</td>\n",
       "    </tr>\n",
       "  </tbody>\n",
       "</table>\n",
       "</div>"
      ],
      "text/plain": [
       "   platform  release  current_status\n",
       "0      2600     1980            1989\n",
       "1       3DS     2011            2016\n",
       "2        DS     1985            2013\n",
       "3       GBA     2000            2007\n",
       "4        GC     2001            2007\n",
       "5       N64     1996            2002\n",
       "6        PC     1985            2016\n",
       "7        PS     1994            2003\n",
       "8       PS2     2000            2011\n",
       "9       PS3     2006            2016\n",
       "10      PS4     2013            2016\n",
       "11      PSP     2004            2015\n",
       "12      PSV     2011            2016\n",
       "13      SAT     1994            1999\n",
       "14     SNES     1990            1999\n",
       "15      Wii     2006            2016\n",
       "16     WiiU     2012            2016\n",
       "17     X360     2005            2016\n",
       "18       XB     2000            2008\n",
       "19     XOne     2013            2016"
      ]
     },
     "execution_count": 37,
     "metadata": {},
     "output_type": "execute_result"
    }
   ],
   "source": [
    "game_life = df_game_over_20.pivot_table(index='platform', values='year_of_release', aggfunc=['min', 'max'])\n",
    "\n",
    "game_life = game_life.reset_index()\n",
    "game_life.columns=['platform', 'release', 'current_status'] \n",
    "game_life "
   ]
  },
  {
   "cell_type": "code",
   "execution_count": 38,
   "id": "6c48aac4",
   "metadata": {},
   "outputs": [
    {
     "data": {
      "text/html": [
       "<div>\n",
       "<style scoped>\n",
       "    .dataframe tbody tr th:only-of-type {\n",
       "        vertical-align: middle;\n",
       "    }\n",
       "\n",
       "    .dataframe tbody tr th {\n",
       "        vertical-align: top;\n",
       "    }\n",
       "\n",
       "    .dataframe thead th {\n",
       "        text-align: right;\n",
       "    }\n",
       "</style>\n",
       "<table border=\"1\" class=\"dataframe\">\n",
       "  <thead>\n",
       "    <tr style=\"text-align: right;\">\n",
       "      <th></th>\n",
       "      <th>platform</th>\n",
       "      <th>release</th>\n",
       "      <th>current_status</th>\n",
       "      <th>lifecycle</th>\n",
       "    </tr>\n",
       "  </thead>\n",
       "  <tbody>\n",
       "    <tr>\n",
       "      <td>0</td>\n",
       "      <td>2600</td>\n",
       "      <td>1980</td>\n",
       "      <td>1989</td>\n",
       "      <td>9</td>\n",
       "    </tr>\n",
       "    <tr>\n",
       "      <td>1</td>\n",
       "      <td>3DS</td>\n",
       "      <td>2011</td>\n",
       "      <td>2016</td>\n",
       "      <td>5</td>\n",
       "    </tr>\n",
       "    <tr>\n",
       "      <td>2</td>\n",
       "      <td>DS</td>\n",
       "      <td>1985</td>\n",
       "      <td>2013</td>\n",
       "      <td>28</td>\n",
       "    </tr>\n",
       "    <tr>\n",
       "      <td>3</td>\n",
       "      <td>GBA</td>\n",
       "      <td>2000</td>\n",
       "      <td>2007</td>\n",
       "      <td>7</td>\n",
       "    </tr>\n",
       "    <tr>\n",
       "      <td>4</td>\n",
       "      <td>GC</td>\n",
       "      <td>2001</td>\n",
       "      <td>2007</td>\n",
       "      <td>6</td>\n",
       "    </tr>\n",
       "    <tr>\n",
       "      <td>5</td>\n",
       "      <td>N64</td>\n",
       "      <td>1996</td>\n",
       "      <td>2002</td>\n",
       "      <td>6</td>\n",
       "    </tr>\n",
       "    <tr>\n",
       "      <td>6</td>\n",
       "      <td>PC</td>\n",
       "      <td>1985</td>\n",
       "      <td>2016</td>\n",
       "      <td>31</td>\n",
       "    </tr>\n",
       "    <tr>\n",
       "      <td>7</td>\n",
       "      <td>PS</td>\n",
       "      <td>1994</td>\n",
       "      <td>2003</td>\n",
       "      <td>9</td>\n",
       "    </tr>\n",
       "    <tr>\n",
       "      <td>8</td>\n",
       "      <td>PS2</td>\n",
       "      <td>2000</td>\n",
       "      <td>2011</td>\n",
       "      <td>11</td>\n",
       "    </tr>\n",
       "    <tr>\n",
       "      <td>9</td>\n",
       "      <td>PS3</td>\n",
       "      <td>2006</td>\n",
       "      <td>2016</td>\n",
       "      <td>10</td>\n",
       "    </tr>\n",
       "    <tr>\n",
       "      <td>10</td>\n",
       "      <td>PS4</td>\n",
       "      <td>2013</td>\n",
       "      <td>2016</td>\n",
       "      <td>3</td>\n",
       "    </tr>\n",
       "    <tr>\n",
       "      <td>11</td>\n",
       "      <td>PSP</td>\n",
       "      <td>2004</td>\n",
       "      <td>2015</td>\n",
       "      <td>11</td>\n",
       "    </tr>\n",
       "    <tr>\n",
       "      <td>12</td>\n",
       "      <td>PSV</td>\n",
       "      <td>2011</td>\n",
       "      <td>2016</td>\n",
       "      <td>5</td>\n",
       "    </tr>\n",
       "    <tr>\n",
       "      <td>13</td>\n",
       "      <td>SAT</td>\n",
       "      <td>1994</td>\n",
       "      <td>1999</td>\n",
       "      <td>5</td>\n",
       "    </tr>\n",
       "    <tr>\n",
       "      <td>14</td>\n",
       "      <td>SNES</td>\n",
       "      <td>1990</td>\n",
       "      <td>1999</td>\n",
       "      <td>9</td>\n",
       "    </tr>\n",
       "    <tr>\n",
       "      <td>15</td>\n",
       "      <td>Wii</td>\n",
       "      <td>2006</td>\n",
       "      <td>2016</td>\n",
       "      <td>10</td>\n",
       "    </tr>\n",
       "    <tr>\n",
       "      <td>16</td>\n",
       "      <td>WiiU</td>\n",
       "      <td>2012</td>\n",
       "      <td>2016</td>\n",
       "      <td>4</td>\n",
       "    </tr>\n",
       "    <tr>\n",
       "      <td>17</td>\n",
       "      <td>X360</td>\n",
       "      <td>2005</td>\n",
       "      <td>2016</td>\n",
       "      <td>11</td>\n",
       "    </tr>\n",
       "    <tr>\n",
       "      <td>18</td>\n",
       "      <td>XB</td>\n",
       "      <td>2000</td>\n",
       "      <td>2008</td>\n",
       "      <td>8</td>\n",
       "    </tr>\n",
       "    <tr>\n",
       "      <td>19</td>\n",
       "      <td>XOne</td>\n",
       "      <td>2013</td>\n",
       "      <td>2016</td>\n",
       "      <td>3</td>\n",
       "    </tr>\n",
       "  </tbody>\n",
       "</table>\n",
       "</div>"
      ],
      "text/plain": [
       "   platform  release  current_status  lifecycle\n",
       "0      2600     1980            1989          9\n",
       "1       3DS     2011            2016          5\n",
       "2        DS     1985            2013         28\n",
       "3       GBA     2000            2007          7\n",
       "4        GC     2001            2007          6\n",
       "5       N64     1996            2002          6\n",
       "6        PC     1985            2016         31\n",
       "7        PS     1994            2003          9\n",
       "8       PS2     2000            2011         11\n",
       "9       PS3     2006            2016         10\n",
       "10      PS4     2013            2016          3\n",
       "11      PSP     2004            2015         11\n",
       "12      PSV     2011            2016          5\n",
       "13      SAT     1994            1999          5\n",
       "14     SNES     1990            1999          9\n",
       "15      Wii     2006            2016         10\n",
       "16     WiiU     2012            2016          4\n",
       "17     X360     2005            2016         11\n",
       "18       XB     2000            2008          8\n",
       "19     XOne     2013            2016          3"
      ]
     },
     "execution_count": 38,
     "metadata": {},
     "output_type": "execute_result"
    }
   ],
   "source": [
    "game_life['lifecycle']= game_life['current_status'] - game_life['release']\n",
    "game_life"
   ]
  },
  {
   "cell_type": "markdown",
   "id": "ae5ad1ca",
   "metadata": {},
   "source": [
    "средний жизненный цикл платформы"
   ]
  },
  {
   "cell_type": "code",
   "execution_count": 39,
   "id": "cd505695",
   "metadata": {},
   "outputs": [
    {
     "name": "stdout",
     "output_type": "stream",
     "text": [
      "8.5\n"
     ]
    }
   ],
   "source": [
    "print(game_life['lifecycle'].median())\n"
   ]
  },
  {
   "cell_type": "code",
   "execution_count": 40,
   "id": "37f6bc6d",
   "metadata": {},
   "outputs": [
    {
     "data": {
      "text/html": [
       "<div>\n",
       "<style scoped>\n",
       "    .dataframe tbody tr th:only-of-type {\n",
       "        vertical-align: middle;\n",
       "    }\n",
       "\n",
       "    .dataframe tbody tr th {\n",
       "        vertical-align: top;\n",
       "    }\n",
       "\n",
       "    .dataframe thead th {\n",
       "        text-align: right;\n",
       "    }\n",
       "</style>\n",
       "<table border=\"1\" class=\"dataframe\">\n",
       "  <thead>\n",
       "    <tr style=\"text-align: right;\">\n",
       "      <th></th>\n",
       "      <th></th>\n",
       "      <th>current_status</th>\n",
       "      <th>lifecycle</th>\n",
       "    </tr>\n",
       "    <tr>\n",
       "      <th>release</th>\n",
       "      <th>platform</th>\n",
       "      <th></th>\n",
       "      <th></th>\n",
       "    </tr>\n",
       "  </thead>\n",
       "  <tbody>\n",
       "    <tr>\n",
       "      <td>1980</td>\n",
       "      <td>2600</td>\n",
       "      <td>1989</td>\n",
       "      <td>9</td>\n",
       "    </tr>\n",
       "    <tr>\n",
       "      <td rowspan=\"2\" valign=\"top\">1985</td>\n",
       "      <td>DS</td>\n",
       "      <td>2013</td>\n",
       "      <td>28</td>\n",
       "    </tr>\n",
       "    <tr>\n",
       "      <td>PC</td>\n",
       "      <td>2016</td>\n",
       "      <td>31</td>\n",
       "    </tr>\n",
       "    <tr>\n",
       "      <td>1990</td>\n",
       "      <td>SNES</td>\n",
       "      <td>1999</td>\n",
       "      <td>9</td>\n",
       "    </tr>\n",
       "    <tr>\n",
       "      <td rowspan=\"2\" valign=\"top\">1994</td>\n",
       "      <td>PS</td>\n",
       "      <td>2003</td>\n",
       "      <td>9</td>\n",
       "    </tr>\n",
       "    <tr>\n",
       "      <td>SAT</td>\n",
       "      <td>1999</td>\n",
       "      <td>5</td>\n",
       "    </tr>\n",
       "    <tr>\n",
       "      <td>1996</td>\n",
       "      <td>N64</td>\n",
       "      <td>2002</td>\n",
       "      <td>6</td>\n",
       "    </tr>\n",
       "    <tr>\n",
       "      <td rowspan=\"3\" valign=\"top\">2000</td>\n",
       "      <td>PS2</td>\n",
       "      <td>2011</td>\n",
       "      <td>11</td>\n",
       "    </tr>\n",
       "    <tr>\n",
       "      <td>XB</td>\n",
       "      <td>2008</td>\n",
       "      <td>8</td>\n",
       "    </tr>\n",
       "    <tr>\n",
       "      <td>GBA</td>\n",
       "      <td>2007</td>\n",
       "      <td>7</td>\n",
       "    </tr>\n",
       "    <tr>\n",
       "      <td>2001</td>\n",
       "      <td>GC</td>\n",
       "      <td>2007</td>\n",
       "      <td>6</td>\n",
       "    </tr>\n",
       "    <tr>\n",
       "      <td>2004</td>\n",
       "      <td>PSP</td>\n",
       "      <td>2015</td>\n",
       "      <td>11</td>\n",
       "    </tr>\n",
       "    <tr>\n",
       "      <td>2005</td>\n",
       "      <td>X360</td>\n",
       "      <td>2016</td>\n",
       "      <td>11</td>\n",
       "    </tr>\n",
       "    <tr>\n",
       "      <td rowspan=\"2\" valign=\"top\">2006</td>\n",
       "      <td>PS3</td>\n",
       "      <td>2016</td>\n",
       "      <td>10</td>\n",
       "    </tr>\n",
       "    <tr>\n",
       "      <td>Wii</td>\n",
       "      <td>2016</td>\n",
       "      <td>10</td>\n",
       "    </tr>\n",
       "    <tr>\n",
       "      <td rowspan=\"2\" valign=\"top\">2011</td>\n",
       "      <td>3DS</td>\n",
       "      <td>2016</td>\n",
       "      <td>5</td>\n",
       "    </tr>\n",
       "    <tr>\n",
       "      <td>PSV</td>\n",
       "      <td>2016</td>\n",
       "      <td>5</td>\n",
       "    </tr>\n",
       "    <tr>\n",
       "      <td>2012</td>\n",
       "      <td>WiiU</td>\n",
       "      <td>2016</td>\n",
       "      <td>4</td>\n",
       "    </tr>\n",
       "    <tr>\n",
       "      <td rowspan=\"2\" valign=\"top\">2013</td>\n",
       "      <td>PS4</td>\n",
       "      <td>2016</td>\n",
       "      <td>3</td>\n",
       "    </tr>\n",
       "    <tr>\n",
       "      <td>XOne</td>\n",
       "      <td>2016</td>\n",
       "      <td>3</td>\n",
       "    </tr>\n",
       "  </tbody>\n",
       "</table>\n",
       "</div>"
      ],
      "text/plain": [
       "                  current_status  lifecycle\n",
       "release platform                           \n",
       "1980    2600                1989          9\n",
       "1985    DS                  2013         28\n",
       "        PC                  2016         31\n",
       "1990    SNES                1999          9\n",
       "1994    PS                  2003          9\n",
       "        SAT                 1999          5\n",
       "1996    N64                 2002          6\n",
       "2000    PS2                 2011         11\n",
       "        XB                  2008          8\n",
       "        GBA                 2007          7\n",
       "2001    GC                  2007          6\n",
       "2004    PSP                 2015         11\n",
       "2005    X360                2016         11\n",
       "2006    PS3                 2016         10\n",
       "        Wii                 2016         10\n",
       "2011    3DS                 2016          5\n",
       "        PSV                 2016          5\n",
       "2012    WiiU                2016          4\n",
       "2013    PS4                 2016          3\n",
       "        XOne                2016          3"
      ]
     },
     "execution_count": 40,
     "metadata": {},
     "output_type": "execute_result"
    }
   ],
   "source": [
    "game_life_pivot = game_life.pivot_table( index=['release', 'platform'] ).sort_values(by='release')\n",
    "game_life_pivot"
   ]
  },
  {
   "cell_type": "markdown",
   "id": "859178ea",
   "metadata": {},
   "source": [
    "Актуальный срок берем: по играм вышедшим на платформах с 2014 года:"
   ]
  },
  {
   "cell_type": "code",
   "execution_count": 41,
   "id": "7569a8b2",
   "metadata": {},
   "outputs": [
    {
     "data": {
      "text/html": [
       "<div>\n",
       "<style scoped>\n",
       "    .dataframe tbody tr th:only-of-type {\n",
       "        vertical-align: middle;\n",
       "    }\n",
       "\n",
       "    .dataframe tbody tr th {\n",
       "        vertical-align: top;\n",
       "    }\n",
       "\n",
       "    .dataframe thead th {\n",
       "        text-align: right;\n",
       "    }\n",
       "</style>\n",
       "<table border=\"1\" class=\"dataframe\">\n",
       "  <thead>\n",
       "    <tr style=\"text-align: right;\">\n",
       "      <th></th>\n",
       "      <th>name</th>\n",
       "      <th>platform</th>\n",
       "      <th>year_of_release</th>\n",
       "      <th>genre</th>\n",
       "      <th>na_sales</th>\n",
       "      <th>eu_sales</th>\n",
       "      <th>jp_sales</th>\n",
       "      <th>other_sales</th>\n",
       "      <th>critic_score</th>\n",
       "      <th>user_score</th>\n",
       "      <th>rating</th>\n",
       "      <th>total_sale</th>\n",
       "    </tr>\n",
       "  </thead>\n",
       "  <tbody>\n",
       "    <tr>\n",
       "      <td>23</td>\n",
       "      <td>Call of Duty: Black Ops 3</td>\n",
       "      <td>PS4</td>\n",
       "      <td>2015</td>\n",
       "      <td>Shooter</td>\n",
       "      <td>6.03</td>\n",
       "      <td>5.86</td>\n",
       "      <td>0.36</td>\n",
       "      <td>2.38</td>\n",
       "      <td>NaN</td>\n",
       "      <td>NaN</td>\n",
       "      <td>NaN</td>\n",
       "      <td>14.63</td>\n",
       "    </tr>\n",
       "    <tr>\n",
       "      <td>34</td>\n",
       "      <td>Grand Theft Auto V</td>\n",
       "      <td>PS4</td>\n",
       "      <td>2014</td>\n",
       "      <td>Action</td>\n",
       "      <td>3.96</td>\n",
       "      <td>6.31</td>\n",
       "      <td>0.38</td>\n",
       "      <td>1.97</td>\n",
       "      <td>97.0</td>\n",
       "      <td>8.3</td>\n",
       "      <td>M</td>\n",
       "      <td>12.62</td>\n",
       "    </tr>\n",
       "    <tr>\n",
       "      <td>39</td>\n",
       "      <td>Pokemon Omega Ruby/Pokemon Alpha Sapphire</td>\n",
       "      <td>3DS</td>\n",
       "      <td>2014</td>\n",
       "      <td>Role-Playing</td>\n",
       "      <td>4.35</td>\n",
       "      <td>3.49</td>\n",
       "      <td>3.10</td>\n",
       "      <td>0.74</td>\n",
       "      <td>NaN</td>\n",
       "      <td>NaN</td>\n",
       "      <td>NaN</td>\n",
       "      <td>11.68</td>\n",
       "    </tr>\n",
       "    <tr>\n",
       "      <td>68</td>\n",
       "      <td>FIFA 16</td>\n",
       "      <td>PS4</td>\n",
       "      <td>2015</td>\n",
       "      <td>Sports</td>\n",
       "      <td>1.12</td>\n",
       "      <td>6.12</td>\n",
       "      <td>0.06</td>\n",
       "      <td>1.28</td>\n",
       "      <td>82.0</td>\n",
       "      <td>4.3</td>\n",
       "      <td>E</td>\n",
       "      <td>8.58</td>\n",
       "    </tr>\n",
       "    <tr>\n",
       "      <td>78</td>\n",
       "      <td>Star Wars Battlefront (2015)</td>\n",
       "      <td>PS4</td>\n",
       "      <td>2015</td>\n",
       "      <td>Shooter</td>\n",
       "      <td>2.99</td>\n",
       "      <td>3.49</td>\n",
       "      <td>0.22</td>\n",
       "      <td>1.28</td>\n",
       "      <td>NaN</td>\n",
       "      <td>NaN</td>\n",
       "      <td>NaN</td>\n",
       "      <td>7.98</td>\n",
       "    </tr>\n",
       "    <tr>\n",
       "      <td>...</td>\n",
       "      <td>...</td>\n",
       "      <td>...</td>\n",
       "      <td>...</td>\n",
       "      <td>...</td>\n",
       "      <td>...</td>\n",
       "      <td>...</td>\n",
       "      <td>...</td>\n",
       "      <td>...</td>\n",
       "      <td>...</td>\n",
       "      <td>...</td>\n",
       "      <td>...</td>\n",
       "      <td>...</td>\n",
       "    </tr>\n",
       "    <tr>\n",
       "      <td>16127</td>\n",
       "      <td>Strawberry Nauts</td>\n",
       "      <td>PSV</td>\n",
       "      <td>2016</td>\n",
       "      <td>Adventure</td>\n",
       "      <td>0.00</td>\n",
       "      <td>0.00</td>\n",
       "      <td>0.01</td>\n",
       "      <td>0.00</td>\n",
       "      <td>NaN</td>\n",
       "      <td>NaN</td>\n",
       "      <td>NaN</td>\n",
       "      <td>0.01</td>\n",
       "    </tr>\n",
       "    <tr>\n",
       "      <td>16131</td>\n",
       "      <td>Aiyoku no Eustia</td>\n",
       "      <td>PSV</td>\n",
       "      <td>2014</td>\n",
       "      <td>Misc</td>\n",
       "      <td>0.00</td>\n",
       "      <td>0.00</td>\n",
       "      <td>0.01</td>\n",
       "      <td>0.00</td>\n",
       "      <td>NaN</td>\n",
       "      <td>NaN</td>\n",
       "      <td>NaN</td>\n",
       "      <td>0.01</td>\n",
       "    </tr>\n",
       "    <tr>\n",
       "      <td>16134</td>\n",
       "      <td>Samurai Warriors: Sanada Maru</td>\n",
       "      <td>PS3</td>\n",
       "      <td>2016</td>\n",
       "      <td>Action</td>\n",
       "      <td>0.00</td>\n",
       "      <td>0.00</td>\n",
       "      <td>0.01</td>\n",
       "      <td>0.00</td>\n",
       "      <td>NaN</td>\n",
       "      <td>NaN</td>\n",
       "      <td>NaN</td>\n",
       "      <td>0.01</td>\n",
       "    </tr>\n",
       "    <tr>\n",
       "      <td>16136</td>\n",
       "      <td>Haitaka no Psychedelica</td>\n",
       "      <td>PSV</td>\n",
       "      <td>2016</td>\n",
       "      <td>Adventure</td>\n",
       "      <td>0.00</td>\n",
       "      <td>0.00</td>\n",
       "      <td>0.01</td>\n",
       "      <td>0.00</td>\n",
       "      <td>NaN</td>\n",
       "      <td>NaN</td>\n",
       "      <td>NaN</td>\n",
       "      <td>0.01</td>\n",
       "    </tr>\n",
       "    <tr>\n",
       "      <td>16138</td>\n",
       "      <td>Winning Post 8 2016</td>\n",
       "      <td>PSV</td>\n",
       "      <td>2016</td>\n",
       "      <td>Simulation</td>\n",
       "      <td>0.00</td>\n",
       "      <td>0.00</td>\n",
       "      <td>0.01</td>\n",
       "      <td>0.00</td>\n",
       "      <td>NaN</td>\n",
       "      <td>NaN</td>\n",
       "      <td>NaN</td>\n",
       "      <td>0.01</td>\n",
       "    </tr>\n",
       "  </tbody>\n",
       "</table>\n",
       "<p>1689 rows × 12 columns</p>\n",
       "</div>"
      ],
      "text/plain": [
       "                                            name platform  year_of_release  \\\n",
       "23                     Call of Duty: Black Ops 3      PS4             2015   \n",
       "34                            Grand Theft Auto V      PS4             2014   \n",
       "39     Pokemon Omega Ruby/Pokemon Alpha Sapphire      3DS             2014   \n",
       "68                                       FIFA 16      PS4             2015   \n",
       "78                  Star Wars Battlefront (2015)      PS4             2015   \n",
       "...                                          ...      ...              ...   \n",
       "16127                           Strawberry Nauts      PSV             2016   \n",
       "16131                           Aiyoku no Eustia      PSV             2014   \n",
       "16134              Samurai Warriors: Sanada Maru      PS3             2016   \n",
       "16136                    Haitaka no Psychedelica      PSV             2016   \n",
       "16138                        Winning Post 8 2016      PSV             2016   \n",
       "\n",
       "              genre  na_sales  eu_sales  jp_sales  other_sales  critic_score  \\\n",
       "23          Shooter      6.03      5.86      0.36         2.38           NaN   \n",
       "34           Action      3.96      6.31      0.38         1.97          97.0   \n",
       "39     Role-Playing      4.35      3.49      3.10         0.74           NaN   \n",
       "68           Sports      1.12      6.12      0.06         1.28          82.0   \n",
       "78          Shooter      2.99      3.49      0.22         1.28           NaN   \n",
       "...             ...       ...       ...       ...          ...           ...   \n",
       "16127     Adventure      0.00      0.00      0.01         0.00           NaN   \n",
       "16131          Misc      0.00      0.00      0.01         0.00           NaN   \n",
       "16134        Action      0.00      0.00      0.01         0.00           NaN   \n",
       "16136     Adventure      0.00      0.00      0.01         0.00           NaN   \n",
       "16138    Simulation      0.00      0.00      0.01         0.00           NaN   \n",
       "\n",
       "       user_score rating  total_sale  \n",
       "23            NaN    NaN       14.63  \n",
       "34            8.3      M       12.62  \n",
       "39            NaN    NaN       11.68  \n",
       "68            4.3      E        8.58  \n",
       "78            NaN    NaN        7.98  \n",
       "...           ...    ...         ...  \n",
       "16127         NaN    NaN        0.01  \n",
       "16131         NaN    NaN        0.01  \n",
       "16134         NaN    NaN        0.01  \n",
       "16136         NaN    NaN        0.01  \n",
       "16138         NaN    NaN        0.01  \n",
       "\n",
       "[1689 rows x 12 columns]"
      ]
     },
     "execution_count": 41,
     "metadata": {},
     "output_type": "execute_result"
    }
   ],
   "source": [
    "\n",
    "current_platform = df_game_over_20.query('year_of_release >= 2014')\n",
    "\n",
    "current_platform"
   ]
  },
  {
   "cell_type": "code",
   "execution_count": 42,
   "id": "48739b6a",
   "metadata": {},
   "outputs": [
    {
     "name": "stderr",
     "output_type": "stream",
     "text": [
      "/opt/conda/lib/python3.7/site-packages/ipykernel_launcher.py:1: SettingWithCopyWarning: \n",
      "A value is trying to be set on a copy of a slice from a DataFrame.\n",
      "Try using .loc[row_indexer,col_indexer] = value instead\n",
      "\n",
      "See the caveats in the documentation: http://pandas.pydata.org/pandas-docs/stable/user_guide/indexing.html#returning-a-view-versus-a-copy\n",
      "  \"\"\"Entry point for launching an IPython kernel.\n"
     ]
    },
    {
     "data": {
      "text/html": [
       "<div>\n",
       "<style scoped>\n",
       "    .dataframe tbody tr th:only-of-type {\n",
       "        vertical-align: middle;\n",
       "    }\n",
       "\n",
       "    .dataframe tbody tr th {\n",
       "        vertical-align: top;\n",
       "    }\n",
       "\n",
       "    .dataframe thead th {\n",
       "        text-align: right;\n",
       "    }\n",
       "</style>\n",
       "<table border=\"1\" class=\"dataframe\">\n",
       "  <thead>\n",
       "    <tr style=\"text-align: right;\">\n",
       "      <th></th>\n",
       "      <th>name</th>\n",
       "      <th>platform</th>\n",
       "      <th>year_of_release</th>\n",
       "      <th>genre</th>\n",
       "      <th>na_sales</th>\n",
       "      <th>eu_sales</th>\n",
       "      <th>jp_sales</th>\n",
       "      <th>other_sales</th>\n",
       "      <th>critic_score</th>\n",
       "      <th>user_score</th>\n",
       "      <th>rating</th>\n",
       "      <th>total_sale</th>\n",
       "    </tr>\n",
       "  </thead>\n",
       "  <tbody>\n",
       "    <tr>\n",
       "      <td>23</td>\n",
       "      <td>Call of Duty: Black Ops 3</td>\n",
       "      <td>PS4</td>\n",
       "      <td>2015</td>\n",
       "      <td>Shooter</td>\n",
       "      <td>6.03</td>\n",
       "      <td>5.86</td>\n",
       "      <td>0.36</td>\n",
       "      <td>2.38</td>\n",
       "      <td>NaN</td>\n",
       "      <td>NaN</td>\n",
       "      <td>unknown</td>\n",
       "      <td>14.63</td>\n",
       "    </tr>\n",
       "    <tr>\n",
       "      <td>34</td>\n",
       "      <td>Grand Theft Auto V</td>\n",
       "      <td>PS4</td>\n",
       "      <td>2014</td>\n",
       "      <td>Action</td>\n",
       "      <td>3.96</td>\n",
       "      <td>6.31</td>\n",
       "      <td>0.38</td>\n",
       "      <td>1.97</td>\n",
       "      <td>97.0</td>\n",
       "      <td>8.3</td>\n",
       "      <td>M</td>\n",
       "      <td>12.62</td>\n",
       "    </tr>\n",
       "    <tr>\n",
       "      <td>39</td>\n",
       "      <td>Pokemon Omega Ruby/Pokemon Alpha Sapphire</td>\n",
       "      <td>3DS</td>\n",
       "      <td>2014</td>\n",
       "      <td>Role-Playing</td>\n",
       "      <td>4.35</td>\n",
       "      <td>3.49</td>\n",
       "      <td>3.10</td>\n",
       "      <td>0.74</td>\n",
       "      <td>NaN</td>\n",
       "      <td>NaN</td>\n",
       "      <td>unknown</td>\n",
       "      <td>11.68</td>\n",
       "    </tr>\n",
       "    <tr>\n",
       "      <td>68</td>\n",
       "      <td>FIFA 16</td>\n",
       "      <td>PS4</td>\n",
       "      <td>2015</td>\n",
       "      <td>Sports</td>\n",
       "      <td>1.12</td>\n",
       "      <td>6.12</td>\n",
       "      <td>0.06</td>\n",
       "      <td>1.28</td>\n",
       "      <td>82.0</td>\n",
       "      <td>4.3</td>\n",
       "      <td>E</td>\n",
       "      <td>8.58</td>\n",
       "    </tr>\n",
       "    <tr>\n",
       "      <td>78</td>\n",
       "      <td>Star Wars Battlefront (2015)</td>\n",
       "      <td>PS4</td>\n",
       "      <td>2015</td>\n",
       "      <td>Shooter</td>\n",
       "      <td>2.99</td>\n",
       "      <td>3.49</td>\n",
       "      <td>0.22</td>\n",
       "      <td>1.28</td>\n",
       "      <td>NaN</td>\n",
       "      <td>NaN</td>\n",
       "      <td>unknown</td>\n",
       "      <td>7.98</td>\n",
       "    </tr>\n",
       "    <tr>\n",
       "      <td>...</td>\n",
       "      <td>...</td>\n",
       "      <td>...</td>\n",
       "      <td>...</td>\n",
       "      <td>...</td>\n",
       "      <td>...</td>\n",
       "      <td>...</td>\n",
       "      <td>...</td>\n",
       "      <td>...</td>\n",
       "      <td>...</td>\n",
       "      <td>...</td>\n",
       "      <td>...</td>\n",
       "      <td>...</td>\n",
       "    </tr>\n",
       "    <tr>\n",
       "      <td>16127</td>\n",
       "      <td>Strawberry Nauts</td>\n",
       "      <td>PSV</td>\n",
       "      <td>2016</td>\n",
       "      <td>Adventure</td>\n",
       "      <td>0.00</td>\n",
       "      <td>0.00</td>\n",
       "      <td>0.01</td>\n",
       "      <td>0.00</td>\n",
       "      <td>NaN</td>\n",
       "      <td>NaN</td>\n",
       "      <td>unknown</td>\n",
       "      <td>0.01</td>\n",
       "    </tr>\n",
       "    <tr>\n",
       "      <td>16131</td>\n",
       "      <td>Aiyoku no Eustia</td>\n",
       "      <td>PSV</td>\n",
       "      <td>2014</td>\n",
       "      <td>Misc</td>\n",
       "      <td>0.00</td>\n",
       "      <td>0.00</td>\n",
       "      <td>0.01</td>\n",
       "      <td>0.00</td>\n",
       "      <td>NaN</td>\n",
       "      <td>NaN</td>\n",
       "      <td>unknown</td>\n",
       "      <td>0.01</td>\n",
       "    </tr>\n",
       "    <tr>\n",
       "      <td>16134</td>\n",
       "      <td>Samurai Warriors: Sanada Maru</td>\n",
       "      <td>PS3</td>\n",
       "      <td>2016</td>\n",
       "      <td>Action</td>\n",
       "      <td>0.00</td>\n",
       "      <td>0.00</td>\n",
       "      <td>0.01</td>\n",
       "      <td>0.00</td>\n",
       "      <td>NaN</td>\n",
       "      <td>NaN</td>\n",
       "      <td>unknown</td>\n",
       "      <td>0.01</td>\n",
       "    </tr>\n",
       "    <tr>\n",
       "      <td>16136</td>\n",
       "      <td>Haitaka no Psychedelica</td>\n",
       "      <td>PSV</td>\n",
       "      <td>2016</td>\n",
       "      <td>Adventure</td>\n",
       "      <td>0.00</td>\n",
       "      <td>0.00</td>\n",
       "      <td>0.01</td>\n",
       "      <td>0.00</td>\n",
       "      <td>NaN</td>\n",
       "      <td>NaN</td>\n",
       "      <td>unknown</td>\n",
       "      <td>0.01</td>\n",
       "    </tr>\n",
       "    <tr>\n",
       "      <td>16138</td>\n",
       "      <td>Winning Post 8 2016</td>\n",
       "      <td>PSV</td>\n",
       "      <td>2016</td>\n",
       "      <td>Simulation</td>\n",
       "      <td>0.00</td>\n",
       "      <td>0.00</td>\n",
       "      <td>0.01</td>\n",
       "      <td>0.00</td>\n",
       "      <td>NaN</td>\n",
       "      <td>NaN</td>\n",
       "      <td>unknown</td>\n",
       "      <td>0.01</td>\n",
       "    </tr>\n",
       "  </tbody>\n",
       "</table>\n",
       "<p>1689 rows × 12 columns</p>\n",
       "</div>"
      ],
      "text/plain": [
       "                                            name platform  year_of_release  \\\n",
       "23                     Call of Duty: Black Ops 3      PS4             2015   \n",
       "34                            Grand Theft Auto V      PS4             2014   \n",
       "39     Pokemon Omega Ruby/Pokemon Alpha Sapphire      3DS             2014   \n",
       "68                                       FIFA 16      PS4             2015   \n",
       "78                  Star Wars Battlefront (2015)      PS4             2015   \n",
       "...                                          ...      ...              ...   \n",
       "16127                           Strawberry Nauts      PSV             2016   \n",
       "16131                           Aiyoku no Eustia      PSV             2014   \n",
       "16134              Samurai Warriors: Sanada Maru      PS3             2016   \n",
       "16136                    Haitaka no Psychedelica      PSV             2016   \n",
       "16138                        Winning Post 8 2016      PSV             2016   \n",
       "\n",
       "              genre  na_sales  eu_sales  jp_sales  other_sales  critic_score  \\\n",
       "23          Shooter      6.03      5.86      0.36         2.38           NaN   \n",
       "34           Action      3.96      6.31      0.38         1.97          97.0   \n",
       "39     Role-Playing      4.35      3.49      3.10         0.74           NaN   \n",
       "68           Sports      1.12      6.12      0.06         1.28          82.0   \n",
       "78          Shooter      2.99      3.49      0.22         1.28           NaN   \n",
       "...             ...       ...       ...       ...          ...           ...   \n",
       "16127     Adventure      0.00      0.00      0.01         0.00           NaN   \n",
       "16131          Misc      0.00      0.00      0.01         0.00           NaN   \n",
       "16134        Action      0.00      0.00      0.01         0.00           NaN   \n",
       "16136     Adventure      0.00      0.00      0.01         0.00           NaN   \n",
       "16138    Simulation      0.00      0.00      0.01         0.00           NaN   \n",
       "\n",
       "       user_score   rating  total_sale  \n",
       "23            NaN  unknown       14.63  \n",
       "34            8.3        M       12.62  \n",
       "39            NaN  unknown       11.68  \n",
       "68            4.3        E        8.58  \n",
       "78            NaN  unknown        7.98  \n",
       "...           ...      ...         ...  \n",
       "16127         NaN  unknown        0.01  \n",
       "16131         NaN  unknown        0.01  \n",
       "16134         NaN  unknown        0.01  \n",
       "16136         NaN  unknown        0.01  \n",
       "16138         NaN  unknown        0.01  \n",
       "\n",
       "[1689 rows x 12 columns]"
      ]
     },
     "execution_count": 42,
     "metadata": {},
     "output_type": "execute_result"
    }
   ],
   "source": [
    "current_platform['rating'] = current_platform['rating'].fillna('unknown')\n",
    "current_platform"
   ]
  },
  {
   "cell_type": "markdown",
   "id": "d3fe5ea4",
   "metadata": {},
   "source": [
    "группируем данные по лидирующим патформам и  продажам по эти платформам"
   ]
  },
  {
   "cell_type": "code",
   "execution_count": 43,
   "id": "e9345e43",
   "metadata": {},
   "outputs": [
    {
     "data": {
      "text/html": [
       "<div>\n",
       "<style scoped>\n",
       "    .dataframe tbody tr th:only-of-type {\n",
       "        vertical-align: middle;\n",
       "    }\n",
       "\n",
       "    .dataframe tbody tr th {\n",
       "        vertical-align: top;\n",
       "    }\n",
       "\n",
       "    .dataframe thead th {\n",
       "        text-align: right;\n",
       "    }\n",
       "</style>\n",
       "<table border=\"1\" class=\"dataframe\">\n",
       "  <thead>\n",
       "    <tr style=\"text-align: right;\">\n",
       "      <th></th>\n",
       "      <th>platform</th>\n",
       "      <th>total_sale</th>\n",
       "    </tr>\n",
       "  </thead>\n",
       "  <tbody>\n",
       "    <tr>\n",
       "      <td>0</td>\n",
       "      <td>PS4</td>\n",
       "      <td>288.15</td>\n",
       "    </tr>\n",
       "    <tr>\n",
       "      <td>1</td>\n",
       "      <td>XOne</td>\n",
       "      <td>140.36</td>\n",
       "    </tr>\n",
       "    <tr>\n",
       "      <td>2</td>\n",
       "      <td>3DS</td>\n",
       "      <td>86.68</td>\n",
       "    </tr>\n",
       "    <tr>\n",
       "      <td>3</td>\n",
       "      <td>PS3</td>\n",
       "      <td>68.18</td>\n",
       "    </tr>\n",
       "    <tr>\n",
       "      <td>4</td>\n",
       "      <td>X360</td>\n",
       "      <td>48.22</td>\n",
       "    </tr>\n",
       "    <tr>\n",
       "      <td>5</td>\n",
       "      <td>WiiU</td>\n",
       "      <td>42.98</td>\n",
       "    </tr>\n",
       "    <tr>\n",
       "      <td>6</td>\n",
       "      <td>PC</td>\n",
       "      <td>27.05</td>\n",
       "    </tr>\n",
       "    <tr>\n",
       "      <td>7</td>\n",
       "      <td>PSV</td>\n",
       "      <td>22.40</td>\n",
       "    </tr>\n",
       "    <tr>\n",
       "      <td>8</td>\n",
       "      <td>Wii</td>\n",
       "      <td>5.07</td>\n",
       "    </tr>\n",
       "    <tr>\n",
       "      <td>9</td>\n",
       "      <td>PSP</td>\n",
       "      <td>0.36</td>\n",
       "    </tr>\n",
       "  </tbody>\n",
       "</table>\n",
       "</div>"
      ],
      "text/plain": [
       "  platform  total_sale\n",
       "0      PS4      288.15\n",
       "1     XOne      140.36\n",
       "2      3DS       86.68\n",
       "3      PS3       68.18\n",
       "4     X360       48.22\n",
       "5     WiiU       42.98\n",
       "6       PC       27.05\n",
       "7      PSV       22.40\n",
       "8      Wii        5.07\n",
       "9      PSP        0.36"
      ]
     },
     "execution_count": 43,
     "metadata": {},
     "output_type": "execute_result"
    }
   ],
   "source": [
    "leader_game_platform_range_top = current_platform.pivot_table(index='platform',\n",
    "                            values='total_sale', aggfunc='sum').sort_values(by= 'total_sale', ascending=False).reset_index()\n",
    "leader_game_platform_range_top"
   ]
  },
  {
   "cell_type": "markdown",
   "id": "c9b5ed45",
   "metadata": {},
   "source": [
    "формируем датафрейм с учетом выбранных топ платформ"
   ]
  },
  {
   "cell_type": "code",
   "execution_count": 44,
   "id": "aab8a0fd",
   "metadata": {},
   "outputs": [
    {
     "data": {
      "text/html": [
       "<div>\n",
       "<style scoped>\n",
       "    .dataframe tbody tr th:only-of-type {\n",
       "        vertical-align: middle;\n",
       "    }\n",
       "\n",
       "    .dataframe tbody tr th {\n",
       "        vertical-align: top;\n",
       "    }\n",
       "\n",
       "    .dataframe thead th {\n",
       "        text-align: right;\n",
       "    }\n",
       "</style>\n",
       "<table border=\"1\" class=\"dataframe\">\n",
       "  <thead>\n",
       "    <tr style=\"text-align: right;\">\n",
       "      <th></th>\n",
       "      <th>name</th>\n",
       "      <th>platform</th>\n",
       "      <th>year_of_release</th>\n",
       "      <th>genre</th>\n",
       "      <th>na_sales</th>\n",
       "      <th>eu_sales</th>\n",
       "      <th>jp_sales</th>\n",
       "      <th>other_sales</th>\n",
       "      <th>critic_score</th>\n",
       "      <th>user_score</th>\n",
       "      <th>rating</th>\n",
       "      <th>total_sale</th>\n",
       "    </tr>\n",
       "  </thead>\n",
       "  <tbody>\n",
       "    <tr>\n",
       "      <td>23</td>\n",
       "      <td>Call of Duty: Black Ops 3</td>\n",
       "      <td>PS4</td>\n",
       "      <td>2015</td>\n",
       "      <td>Shooter</td>\n",
       "      <td>6.03</td>\n",
       "      <td>5.86</td>\n",
       "      <td>0.36</td>\n",
       "      <td>2.38</td>\n",
       "      <td>NaN</td>\n",
       "      <td>NaN</td>\n",
       "      <td>unknown</td>\n",
       "      <td>14.63</td>\n",
       "    </tr>\n",
       "    <tr>\n",
       "      <td>34</td>\n",
       "      <td>Grand Theft Auto V</td>\n",
       "      <td>PS4</td>\n",
       "      <td>2014</td>\n",
       "      <td>Action</td>\n",
       "      <td>3.96</td>\n",
       "      <td>6.31</td>\n",
       "      <td>0.38</td>\n",
       "      <td>1.97</td>\n",
       "      <td>9.7</td>\n",
       "      <td>8.3</td>\n",
       "      <td>M</td>\n",
       "      <td>12.62</td>\n",
       "    </tr>\n",
       "    <tr>\n",
       "      <td>39</td>\n",
       "      <td>Pokemon Omega Ruby/Pokemon Alpha Sapphire</td>\n",
       "      <td>3DS</td>\n",
       "      <td>2014</td>\n",
       "      <td>Role-Playing</td>\n",
       "      <td>4.35</td>\n",
       "      <td>3.49</td>\n",
       "      <td>3.10</td>\n",
       "      <td>0.74</td>\n",
       "      <td>NaN</td>\n",
       "      <td>NaN</td>\n",
       "      <td>unknown</td>\n",
       "      <td>11.68</td>\n",
       "    </tr>\n",
       "    <tr>\n",
       "      <td>68</td>\n",
       "      <td>FIFA 16</td>\n",
       "      <td>PS4</td>\n",
       "      <td>2015</td>\n",
       "      <td>Sports</td>\n",
       "      <td>1.12</td>\n",
       "      <td>6.12</td>\n",
       "      <td>0.06</td>\n",
       "      <td>1.28</td>\n",
       "      <td>8.2</td>\n",
       "      <td>4.3</td>\n",
       "      <td>E</td>\n",
       "      <td>8.58</td>\n",
       "    </tr>\n",
       "    <tr>\n",
       "      <td>78</td>\n",
       "      <td>Star Wars Battlefront (2015)</td>\n",
       "      <td>PS4</td>\n",
       "      <td>2015</td>\n",
       "      <td>Shooter</td>\n",
       "      <td>2.99</td>\n",
       "      <td>3.49</td>\n",
       "      <td>0.22</td>\n",
       "      <td>1.28</td>\n",
       "      <td>NaN</td>\n",
       "      <td>NaN</td>\n",
       "      <td>unknown</td>\n",
       "      <td>7.98</td>\n",
       "    </tr>\n",
       "    <tr>\n",
       "      <td>...</td>\n",
       "      <td>...</td>\n",
       "      <td>...</td>\n",
       "      <td>...</td>\n",
       "      <td>...</td>\n",
       "      <td>...</td>\n",
       "      <td>...</td>\n",
       "      <td>...</td>\n",
       "      <td>...</td>\n",
       "      <td>...</td>\n",
       "      <td>...</td>\n",
       "      <td>...</td>\n",
       "      <td>...</td>\n",
       "    </tr>\n",
       "    <tr>\n",
       "      <td>16127</td>\n",
       "      <td>Strawberry Nauts</td>\n",
       "      <td>PSV</td>\n",
       "      <td>2016</td>\n",
       "      <td>Adventure</td>\n",
       "      <td>0.00</td>\n",
       "      <td>0.00</td>\n",
       "      <td>0.01</td>\n",
       "      <td>0.00</td>\n",
       "      <td>NaN</td>\n",
       "      <td>NaN</td>\n",
       "      <td>unknown</td>\n",
       "      <td>0.01</td>\n",
       "    </tr>\n",
       "    <tr>\n",
       "      <td>16131</td>\n",
       "      <td>Aiyoku no Eustia</td>\n",
       "      <td>PSV</td>\n",
       "      <td>2014</td>\n",
       "      <td>Misc</td>\n",
       "      <td>0.00</td>\n",
       "      <td>0.00</td>\n",
       "      <td>0.01</td>\n",
       "      <td>0.00</td>\n",
       "      <td>NaN</td>\n",
       "      <td>NaN</td>\n",
       "      <td>unknown</td>\n",
       "      <td>0.01</td>\n",
       "    </tr>\n",
       "    <tr>\n",
       "      <td>16134</td>\n",
       "      <td>Samurai Warriors: Sanada Maru</td>\n",
       "      <td>PS3</td>\n",
       "      <td>2016</td>\n",
       "      <td>Action</td>\n",
       "      <td>0.00</td>\n",
       "      <td>0.00</td>\n",
       "      <td>0.01</td>\n",
       "      <td>0.00</td>\n",
       "      <td>NaN</td>\n",
       "      <td>NaN</td>\n",
       "      <td>unknown</td>\n",
       "      <td>0.01</td>\n",
       "    </tr>\n",
       "    <tr>\n",
       "      <td>16136</td>\n",
       "      <td>Haitaka no Psychedelica</td>\n",
       "      <td>PSV</td>\n",
       "      <td>2016</td>\n",
       "      <td>Adventure</td>\n",
       "      <td>0.00</td>\n",
       "      <td>0.00</td>\n",
       "      <td>0.01</td>\n",
       "      <td>0.00</td>\n",
       "      <td>NaN</td>\n",
       "      <td>NaN</td>\n",
       "      <td>unknown</td>\n",
       "      <td>0.01</td>\n",
       "    </tr>\n",
       "    <tr>\n",
       "      <td>16138</td>\n",
       "      <td>Winning Post 8 2016</td>\n",
       "      <td>PSV</td>\n",
       "      <td>2016</td>\n",
       "      <td>Simulation</td>\n",
       "      <td>0.00</td>\n",
       "      <td>0.00</td>\n",
       "      <td>0.01</td>\n",
       "      <td>0.00</td>\n",
       "      <td>NaN</td>\n",
       "      <td>NaN</td>\n",
       "      <td>unknown</td>\n",
       "      <td>0.01</td>\n",
       "    </tr>\n",
       "  </tbody>\n",
       "</table>\n",
       "<p>1689 rows × 12 columns</p>\n",
       "</div>"
      ],
      "text/plain": [
       "                                            name platform  year_of_release  \\\n",
       "23                     Call of Duty: Black Ops 3      PS4             2015   \n",
       "34                            Grand Theft Auto V      PS4             2014   \n",
       "39     Pokemon Omega Ruby/Pokemon Alpha Sapphire      3DS             2014   \n",
       "68                                       FIFA 16      PS4             2015   \n",
       "78                  Star Wars Battlefront (2015)      PS4             2015   \n",
       "...                                          ...      ...              ...   \n",
       "16127                           Strawberry Nauts      PSV             2016   \n",
       "16131                           Aiyoku no Eustia      PSV             2014   \n",
       "16134              Samurai Warriors: Sanada Maru      PS3             2016   \n",
       "16136                    Haitaka no Psychedelica      PSV             2016   \n",
       "16138                        Winning Post 8 2016      PSV             2016   \n",
       "\n",
       "              genre  na_sales  eu_sales  jp_sales  other_sales  critic_score  \\\n",
       "23          Shooter      6.03      5.86      0.36         2.38           NaN   \n",
       "34           Action      3.96      6.31      0.38         1.97           9.7   \n",
       "39     Role-Playing      4.35      3.49      3.10         0.74           NaN   \n",
       "68           Sports      1.12      6.12      0.06         1.28           8.2   \n",
       "78          Shooter      2.99      3.49      0.22         1.28           NaN   \n",
       "...             ...       ...       ...       ...          ...           ...   \n",
       "16127     Adventure      0.00      0.00      0.01         0.00           NaN   \n",
       "16131          Misc      0.00      0.00      0.01         0.00           NaN   \n",
       "16134        Action      0.00      0.00      0.01         0.00           NaN   \n",
       "16136     Adventure      0.00      0.00      0.01         0.00           NaN   \n",
       "16138    Simulation      0.00      0.00      0.01         0.00           NaN   \n",
       "\n",
       "       user_score   rating  total_sale  \n",
       "23            NaN  unknown       14.63  \n",
       "34            8.3        M       12.62  \n",
       "39            NaN  unknown       11.68  \n",
       "68            4.3        E        8.58  \n",
       "78            NaN  unknown        7.98  \n",
       "...           ...      ...         ...  \n",
       "16127         NaN  unknown        0.01  \n",
       "16131         NaN  unknown        0.01  \n",
       "16134         NaN  unknown        0.01  \n",
       "16136         NaN  unknown        0.01  \n",
       "16138         NaN  unknown        0.01  \n",
       "\n",
       "[1689 rows x 12 columns]"
      ]
     },
     "execution_count": 44,
     "metadata": {},
     "output_type": "execute_result"
    }
   ],
   "source": [
    "leader_game_platforms_sale = current_platform[current_platform['platform'].isin(leader_game_platform_range_top['platform'])]\n",
    "leader_game_platforms_sale['critic_score'] = leader_game_platforms_sale['critic_score'] / 10\n",
    "\n",
    "leader_game_platforms_sale"
   ]
  },
  {
   "cell_type": "code",
   "execution_count": null,
   "id": "c5189b17",
   "metadata": {},
   "outputs": [],
   "source": []
  },
  {
   "cell_type": "code",
   "execution_count": 45,
   "id": "486c340b",
   "metadata": {},
   "outputs": [
    {
     "data": {
      "text/plain": [
       "array(['unknown', 'M', 'E', 'T', 'E10+'], dtype=object)"
      ]
     },
     "execution_count": 45,
     "metadata": {},
     "output_type": "execute_result"
    }
   ],
   "source": [
    "leader_game_platforms_sale['rating'].unique()"
   ]
  },
  {
   "cell_type": "markdown",
   "id": "cf93d762",
   "metadata": {},
   "source": [
    "По данным топ платформ строим график «ящик с усами» по глобальным продажам игр в разбивке по платформам"
   ]
  },
  {
   "cell_type": "code",
   "execution_count": 46,
   "id": "bf63a345",
   "metadata": {},
   "outputs": [],
   "source": [
    "profitable_platforms_actual = leader_game_platforms_sale.pivot_table(index=['platform','year_of_release'], values='total_sale',\n",
    "                                                                    ).reset_index()\n"
   ]
  },
  {
   "cell_type": "code",
   "execution_count": 47,
   "id": "00726c5f",
   "metadata": {},
   "outputs": [
    {
     "data": {
      "image/png": "[encoded data removed]",
      "text/plain": [
       "<Figure size 1080x576 with 1 Axes>"
      ]
     },
     "metadata": {
      "needs_background": "light"
     },
     "output_type": "display_data"
    }
   ],
   "source": [
    "fig, ax = plt.subplots(figsize=(15,8))\n",
    "sns.boxplot(data=profitable_platforms_actual, x='total_sale', y='platform')\n",
    "plt.title('Распределение по глобальным продажам в разбивке по платформам')\n",
    "plt.xlabel=('Платформы')\n",
    "plt.ylabel=('глобальные продажи')\n",
    "\n"
   ]
  },
  {
   "cell_type": "markdown",
   "id": "92b94732",
   "metadata": {},
   "source": [
    "На графике видно для каких платформ было больше всего продано игр. Самая популярная платформа -  PS4. Вторая по полулрности - XOne. Затем идет WiiU  "
   ]
  },
  {
   "cell_type": "markdown",
   "id": "60d0bcaa",
   "metadata": {},
   "source": [
    "<b>Определяем влияние оценок критиков и пользователей на продажи по разным платформам </b>"
   ]
  },
  {
   "cell_type": "code",
   "execution_count": 48,
   "id": "1b9ff687",
   "metadata": {},
   "outputs": [],
   "source": [
    "influence_on_platform = leader_game_platforms_sale.pivot_table(index=['platform', 'total_sale'], \n",
    "                                                               values=['critic_score','user_score']).reset_index()\n",
    "# influence_on_platform_3DS = influence_on_platform[influence_on_platform['platform'] == '3DS']\n",
    "# influence_on_platform_3DS"
   ]
  },
  {
   "cell_type": "code",
   "execution_count": 49,
   "id": "d37e7b45",
   "metadata": {},
   "outputs": [
    {
     "data": {
      "text/html": [
       "<div>\n",
       "<style scoped>\n",
       "    .dataframe tbody tr th:only-of-type {\n",
       "        vertical-align: middle;\n",
       "    }\n",
       "\n",
       "    .dataframe tbody tr th {\n",
       "        vertical-align: top;\n",
       "    }\n",
       "\n",
       "    .dataframe thead th {\n",
       "        text-align: right;\n",
       "    }\n",
       "</style>\n",
       "<table border=\"1\" class=\"dataframe\">\n",
       "  <thead>\n",
       "    <tr style=\"text-align: right;\">\n",
       "      <th></th>\n",
       "      <th>platform</th>\n",
       "      <th>total_sale</th>\n",
       "      <th>critic_score</th>\n",
       "      <th>user_score</th>\n",
       "    </tr>\n",
       "  </thead>\n",
       "  <tbody>\n",
       "    <tr>\n",
       "      <td>168</td>\n",
       "      <td>PS4</td>\n",
       "      <td>0.01</td>\n",
       "      <td>5.700000</td>\n",
       "      <td>5.777778</td>\n",
       "    </tr>\n",
       "    <tr>\n",
       "      <td>169</td>\n",
       "      <td>PS4</td>\n",
       "      <td>0.02</td>\n",
       "      <td>6.364286</td>\n",
       "      <td>6.713333</td>\n",
       "    </tr>\n",
       "    <tr>\n",
       "      <td>170</td>\n",
       "      <td>PS4</td>\n",
       "      <td>0.03</td>\n",
       "      <td>6.971429</td>\n",
       "      <td>7.083333</td>\n",
       "    </tr>\n",
       "    <tr>\n",
       "      <td>171</td>\n",
       "      <td>PS4</td>\n",
       "      <td>0.04</td>\n",
       "      <td>7.471429</td>\n",
       "      <td>7.425000</td>\n",
       "    </tr>\n",
       "    <tr>\n",
       "      <td>172</td>\n",
       "      <td>PS4</td>\n",
       "      <td>0.05</td>\n",
       "      <td>6.690909</td>\n",
       "      <td>6.818182</td>\n",
       "    </tr>\n",
       "    <tr>\n",
       "      <td>...</td>\n",
       "      <td>...</td>\n",
       "      <td>...</td>\n",
       "      <td>...</td>\n",
       "      <td>...</td>\n",
       "    </tr>\n",
       "    <tr>\n",
       "      <td>294</td>\n",
       "      <td>PS4</td>\n",
       "      <td>7.17</td>\n",
       "      <td>8.700000</td>\n",
       "      <td>6.500000</td>\n",
       "    </tr>\n",
       "    <tr>\n",
       "      <td>295</td>\n",
       "      <td>PS4</td>\n",
       "      <td>7.60</td>\n",
       "      <td>8.500000</td>\n",
       "      <td>5.000000</td>\n",
       "    </tr>\n",
       "    <tr>\n",
       "      <td>296</td>\n",
       "      <td>PS4</td>\n",
       "      <td>7.66</td>\n",
       "      <td>8.300000</td>\n",
       "      <td>5.700000</td>\n",
       "    </tr>\n",
       "    <tr>\n",
       "      <td>297</td>\n",
       "      <td>PS4</td>\n",
       "      <td>8.58</td>\n",
       "      <td>8.200000</td>\n",
       "      <td>4.300000</td>\n",
       "    </tr>\n",
       "    <tr>\n",
       "      <td>298</td>\n",
       "      <td>PS4</td>\n",
       "      <td>12.62</td>\n",
       "      <td>9.700000</td>\n",
       "      <td>8.300000</td>\n",
       "    </tr>\n",
       "  </tbody>\n",
       "</table>\n",
       "<p>131 rows × 4 columns</p>\n",
       "</div>"
      ],
      "text/plain": [
       "    platform  total_sale  critic_score  user_score\n",
       "168      PS4        0.01      5.700000    5.777778\n",
       "169      PS4        0.02      6.364286    6.713333\n",
       "170      PS4        0.03      6.971429    7.083333\n",
       "171      PS4        0.04      7.471429    7.425000\n",
       "172      PS4        0.05      6.690909    6.818182\n",
       "..       ...         ...           ...         ...\n",
       "294      PS4        7.17      8.700000    6.500000\n",
       "295      PS4        7.60      8.500000    5.000000\n",
       "296      PS4        7.66      8.300000    5.700000\n",
       "297      PS4        8.58      8.200000    4.300000\n",
       "298      PS4       12.62      9.700000    8.300000\n",
       "\n",
       "[131 rows x 4 columns]"
      ]
     },
     "execution_count": 49,
     "metadata": {},
     "output_type": "execute_result"
    }
   ],
   "source": [
    "influence_on_platform_PS4 = influence_on_platform[influence_on_platform['platform'] == 'PS4']\n",
    "influence_on_platform_PS4"
   ]
  },
  {
   "cell_type": "code",
   "execution_count": 50,
   "id": "84bc9c6c",
   "metadata": {},
   "outputs": [
    {
     "data": {
      "image/png": "[encoded data removed]",
      "text/plain": [
       "<Figure size 1296x432 with 2 Axes>"
      ]
     },
     "metadata": {
      "needs_background": "light"
     },
     "output_type": "display_data"
    }
   ],
   "source": [
    "fig, (ax1, ax2) = plt.subplots(1, 2, figsize=(20, 6))\n",
    "ax1.scatter(x = influence_on_platform_PS4['critic_score'], y = influence_on_platform_PS4['total_sale'])\n",
    "ax1.set_title('влияние критиков на продажи')\n",
    "ax1.set_xlabel('рейтинг критиков')\n",
    "ax1.set_ylabel('продажи')\n",
    "\n",
    "ax2.scatter(x = influence_on_platform_PS4['user_score'], y = influence_on_platform_PS4['total_sale'])\n",
    "ax2.set_title('влияние оценок пользователей на продажи')\n",
    "ax2.set_xlabel('рейтинг оценок пользователей')\n",
    "ax2.set_ylabel('продажи')\n",
    "fig.set_figwidth(18)\n",
    "fig.set_figheight(6)\n",
    "plt.show()"
   ]
  },
  {
   "cell_type": "code",
   "execution_count": 51,
   "id": "249cbb73",
   "metadata": {},
   "outputs": [
    {
     "name": "stdout",
     "output_type": "stream",
     "text": [
      "Коэффицент корреляции Пирсона влияния  оценок критиков на продажи игр на платформе PS4 0.5041821882208588\n",
      "Коэффицент корреляции Пирсона влияния  оценок пользователей на продажи игр на платформе PS4 -0.10775614805770269\n"
     ]
    }
   ],
   "source": [
    "print('Коэффицент корреляции Пирсона влияния  оценок критиков на продажи игр на платформе PS4 {}'.format(influence_on_platform_PS4['critic_score'].corr(influence_on_platform_PS4['total_sale'])))\n",
    "print('Коэффицент корреляции Пирсона влияния  оценок пользователей на продажи игр на платформе PS4 {}'.format(influence_on_platform_PS4['user_score'].corr(influence_on_platform_PS4['total_sale'])))"
   ]
  },
  {
   "cell_type": "markdown",
   "id": "8f183ff1",
   "metadata": {},
   "source": [
    " Из расчета коэфициентов Пирсона видно, что оценки критиков  влияют на продажи игр на платформе PS4. оценки пользователей не  влияют на продажи игр на этой платформе   "
   ]
  },
  {
   "cell_type": "code",
   "execution_count": 52,
   "id": "4da38a52",
   "metadata": {},
   "outputs": [
    {
     "data": {
      "text/html": [
       "<div>\n",
       "<style scoped>\n",
       "    .dataframe tbody tr th:only-of-type {\n",
       "        vertical-align: middle;\n",
       "    }\n",
       "\n",
       "    .dataframe tbody tr th {\n",
       "        vertical-align: top;\n",
       "    }\n",
       "\n",
       "    .dataframe thead th {\n",
       "        text-align: right;\n",
       "    }\n",
       "</style>\n",
       "<table border=\"1\" class=\"dataframe\">\n",
       "  <thead>\n",
       "    <tr style=\"text-align: right;\">\n",
       "      <th></th>\n",
       "      <th>platform</th>\n",
       "      <th>total_sale</th>\n",
       "      <th>critic_score</th>\n",
       "      <th>user_score</th>\n",
       "    </tr>\n",
       "  </thead>\n",
       "  <tbody>\n",
       "    <tr>\n",
       "      <td>341</td>\n",
       "      <td>WiiU</td>\n",
       "      <td>0.01</td>\n",
       "      <td>7.50</td>\n",
       "      <td>6.820000</td>\n",
       "    </tr>\n",
       "    <tr>\n",
       "      <td>342</td>\n",
       "      <td>WiiU</td>\n",
       "      <td>0.03</td>\n",
       "      <td>4.80</td>\n",
       "      <td>5.566667</td>\n",
       "    </tr>\n",
       "    <tr>\n",
       "      <td>343</td>\n",
       "      <td>WiiU</td>\n",
       "      <td>0.06</td>\n",
       "      <td>6.60</td>\n",
       "      <td>7.800000</td>\n",
       "    </tr>\n",
       "    <tr>\n",
       "      <td>344</td>\n",
       "      <td>WiiU</td>\n",
       "      <td>0.07</td>\n",
       "      <td>4.30</td>\n",
       "      <td>6.750000</td>\n",
       "    </tr>\n",
       "    <tr>\n",
       "      <td>345</td>\n",
       "      <td>WiiU</td>\n",
       "      <td>0.09</td>\n",
       "      <td>4.70</td>\n",
       "      <td>4.900000</td>\n",
       "    </tr>\n",
       "    <tr>\n",
       "      <td>346</td>\n",
       "      <td>WiiU</td>\n",
       "      <td>0.10</td>\n",
       "      <td>8.80</td>\n",
       "      <td>8.300000</td>\n",
       "    </tr>\n",
       "    <tr>\n",
       "      <td>347</td>\n",
       "      <td>WiiU</td>\n",
       "      <td>0.11</td>\n",
       "      <td>6.70</td>\n",
       "      <td>7.600000</td>\n",
       "    </tr>\n",
       "    <tr>\n",
       "      <td>348</td>\n",
       "      <td>WiiU</td>\n",
       "      <td>0.12</td>\n",
       "      <td>4.50</td>\n",
       "      <td>6.500000</td>\n",
       "    </tr>\n",
       "    <tr>\n",
       "      <td>349</td>\n",
       "      <td>WiiU</td>\n",
       "      <td>0.13</td>\n",
       "      <td>6.20</td>\n",
       "      <td>6.400000</td>\n",
       "    </tr>\n",
       "    <tr>\n",
       "      <td>350</td>\n",
       "      <td>WiiU</td>\n",
       "      <td>0.15</td>\n",
       "      <td>7.40</td>\n",
       "      <td>8.000000</td>\n",
       "    </tr>\n",
       "    <tr>\n",
       "      <td>351</td>\n",
       "      <td>WiiU</td>\n",
       "      <td>0.19</td>\n",
       "      <td>8.00</td>\n",
       "      <td>6.100000</td>\n",
       "    </tr>\n",
       "    <tr>\n",
       "      <td>352</td>\n",
       "      <td>WiiU</td>\n",
       "      <td>0.22</td>\n",
       "      <td>NaN</td>\n",
       "      <td>7.800000</td>\n",
       "    </tr>\n",
       "    <tr>\n",
       "      <td>353</td>\n",
       "      <td>WiiU</td>\n",
       "      <td>0.24</td>\n",
       "      <td>6.90</td>\n",
       "      <td>6.800000</td>\n",
       "    </tr>\n",
       "    <tr>\n",
       "      <td>354</td>\n",
       "      <td>WiiU</td>\n",
       "      <td>0.27</td>\n",
       "      <td>7.10</td>\n",
       "      <td>7.100000</td>\n",
       "    </tr>\n",
       "    <tr>\n",
       "      <td>355</td>\n",
       "      <td>WiiU</td>\n",
       "      <td>0.31</td>\n",
       "      <td>3.20</td>\n",
       "      <td>3.600000</td>\n",
       "    </tr>\n",
       "    <tr>\n",
       "      <td>356</td>\n",
       "      <td>WiiU</td>\n",
       "      <td>0.37</td>\n",
       "      <td>6.90</td>\n",
       "      <td>7.400000</td>\n",
       "    </tr>\n",
       "    <tr>\n",
       "      <td>357</td>\n",
       "      <td>WiiU</td>\n",
       "      <td>0.38</td>\n",
       "      <td>6.80</td>\n",
       "      <td>7.000000</td>\n",
       "    </tr>\n",
       "    <tr>\n",
       "      <td>358</td>\n",
       "      <td>WiiU</td>\n",
       "      <td>0.42</td>\n",
       "      <td>6.05</td>\n",
       "      <td>5.600000</td>\n",
       "    </tr>\n",
       "    <tr>\n",
       "      <td>359</td>\n",
       "      <td>WiiU</td>\n",
       "      <td>0.44</td>\n",
       "      <td>5.80</td>\n",
       "      <td>5.300000</td>\n",
       "    </tr>\n",
       "    <tr>\n",
       "      <td>360</td>\n",
       "      <td>WiiU</td>\n",
       "      <td>0.46</td>\n",
       "      <td>NaN</td>\n",
       "      <td>7.000000</td>\n",
       "    </tr>\n",
       "    <tr>\n",
       "      <td>361</td>\n",
       "      <td>WiiU</td>\n",
       "      <td>0.48</td>\n",
       "      <td>8.70</td>\n",
       "      <td>5.600000</td>\n",
       "    </tr>\n",
       "    <tr>\n",
       "      <td>362</td>\n",
       "      <td>WiiU</td>\n",
       "      <td>0.51</td>\n",
       "      <td>7.30</td>\n",
       "      <td>8.000000</td>\n",
       "    </tr>\n",
       "    <tr>\n",
       "      <td>363</td>\n",
       "      <td>WiiU</td>\n",
       "      <td>0.52</td>\n",
       "      <td>7.10</td>\n",
       "      <td>8.100000</td>\n",
       "    </tr>\n",
       "    <tr>\n",
       "      <td>364</td>\n",
       "      <td>WiiU</td>\n",
       "      <td>0.53</td>\n",
       "      <td>6.20</td>\n",
       "      <td>6.500000</td>\n",
       "    </tr>\n",
       "    <tr>\n",
       "      <td>365</td>\n",
       "      <td>WiiU</td>\n",
       "      <td>0.57</td>\n",
       "      <td>7.30</td>\n",
       "      <td>6.900000</td>\n",
       "    </tr>\n",
       "    <tr>\n",
       "      <td>366</td>\n",
       "      <td>WiiU</td>\n",
       "      <td>0.64</td>\n",
       "      <td>6.80</td>\n",
       "      <td>7.700000</td>\n",
       "    </tr>\n",
       "    <tr>\n",
       "      <td>367</td>\n",
       "      <td>WiiU</td>\n",
       "      <td>0.70</td>\n",
       "      <td>8.60</td>\n",
       "      <td>7.100000</td>\n",
       "    </tr>\n",
       "    <tr>\n",
       "      <td>368</td>\n",
       "      <td>WiiU</td>\n",
       "      <td>0.73</td>\n",
       "      <td>7.50</td>\n",
       "      <td>6.600000</td>\n",
       "    </tr>\n",
       "    <tr>\n",
       "      <td>369</td>\n",
       "      <td>WiiU</td>\n",
       "      <td>0.76</td>\n",
       "      <td>9.10</td>\n",
       "      <td>8.200000</td>\n",
       "    </tr>\n",
       "    <tr>\n",
       "      <td>370</td>\n",
       "      <td>WiiU</td>\n",
       "      <td>0.84</td>\n",
       "      <td>8.40</td>\n",
       "      <td>8.900000</td>\n",
       "    </tr>\n",
       "    <tr>\n",
       "      <td>371</td>\n",
       "      <td>WiiU</td>\n",
       "      <td>1.01</td>\n",
       "      <td>7.60</td>\n",
       "      <td>8.000000</td>\n",
       "    </tr>\n",
       "    <tr>\n",
       "      <td>372</td>\n",
       "      <td>WiiU</td>\n",
       "      <td>1.03</td>\n",
       "      <td>8.60</td>\n",
       "      <td>8.400000</td>\n",
       "    </tr>\n",
       "    <tr>\n",
       "      <td>373</td>\n",
       "      <td>WiiU</td>\n",
       "      <td>1.19</td>\n",
       "      <td>8.10</td>\n",
       "      <td>8.600000</td>\n",
       "    </tr>\n",
       "    <tr>\n",
       "      <td>374</td>\n",
       "      <td>WiiU</td>\n",
       "      <td>1.23</td>\n",
       "      <td>7.60</td>\n",
       "      <td>8.300000</td>\n",
       "    </tr>\n",
       "    <tr>\n",
       "      <td>375</td>\n",
       "      <td>WiiU</td>\n",
       "      <td>1.30</td>\n",
       "      <td>7.80</td>\n",
       "      <td>8.500000</td>\n",
       "    </tr>\n",
       "    <tr>\n",
       "      <td>376</td>\n",
       "      <td>WiiU</td>\n",
       "      <td>1.53</td>\n",
       "      <td>8.30</td>\n",
       "      <td>8.900000</td>\n",
       "    </tr>\n",
       "    <tr>\n",
       "      <td>377</td>\n",
       "      <td>WiiU</td>\n",
       "      <td>1.58</td>\n",
       "      <td>6.60</td>\n",
       "      <td>6.500000</td>\n",
       "    </tr>\n",
       "    <tr>\n",
       "      <td>378</td>\n",
       "      <td>WiiU</td>\n",
       "      <td>3.21</td>\n",
       "      <td>8.80</td>\n",
       "      <td>8.700000</td>\n",
       "    </tr>\n",
       "    <tr>\n",
       "      <td>379</td>\n",
       "      <td>WiiU</td>\n",
       "      <td>4.44</td>\n",
       "      <td>8.10</td>\n",
       "      <td>8.500000</td>\n",
       "    </tr>\n",
       "    <tr>\n",
       "      <td>380</td>\n",
       "      <td>WiiU</td>\n",
       "      <td>7.09</td>\n",
       "      <td>8.80</td>\n",
       "      <td>9.100000</td>\n",
       "    </tr>\n",
       "  </tbody>\n",
       "</table>\n",
       "</div>"
      ],
      "text/plain": [
       "    platform  total_sale  critic_score  user_score\n",
       "341     WiiU        0.01          7.50    6.820000\n",
       "342     WiiU        0.03          4.80    5.566667\n",
       "343     WiiU        0.06          6.60    7.800000\n",
       "344     WiiU        0.07          4.30    6.750000\n",
       "345     WiiU        0.09          4.70    4.900000\n",
       "346     WiiU        0.10          8.80    8.300000\n",
       "347     WiiU        0.11          6.70    7.600000\n",
       "348     WiiU        0.12          4.50    6.500000\n",
       "349     WiiU        0.13          6.20    6.400000\n",
       "350     WiiU        0.15          7.40    8.000000\n",
       "351     WiiU        0.19          8.00    6.100000\n",
       "352     WiiU        0.22           NaN    7.800000\n",
       "353     WiiU        0.24          6.90    6.800000\n",
       "354     WiiU        0.27          7.10    7.100000\n",
       "355     WiiU        0.31          3.20    3.600000\n",
       "356     WiiU        0.37          6.90    7.400000\n",
       "357     WiiU        0.38          6.80    7.000000\n",
       "358     WiiU        0.42          6.05    5.600000\n",
       "359     WiiU        0.44          5.80    5.300000\n",
       "360     WiiU        0.46           NaN    7.000000\n",
       "361     WiiU        0.48          8.70    5.600000\n",
       "362     WiiU        0.51          7.30    8.000000\n",
       "363     WiiU        0.52          7.10    8.100000\n",
       "364     WiiU        0.53          6.20    6.500000\n",
       "365     WiiU        0.57          7.30    6.900000\n",
       "366     WiiU        0.64          6.80    7.700000\n",
       "367     WiiU        0.70          8.60    7.100000\n",
       "368     WiiU        0.73          7.50    6.600000\n",
       "369     WiiU        0.76          9.10    8.200000\n",
       "370     WiiU        0.84          8.40    8.900000\n",
       "371     WiiU        1.01          7.60    8.000000\n",
       "372     WiiU        1.03          8.60    8.400000\n",
       "373     WiiU        1.19          8.10    8.600000\n",
       "374     WiiU        1.23          7.60    8.300000\n",
       "375     WiiU        1.30          7.80    8.500000\n",
       "376     WiiU        1.53          8.30    8.900000\n",
       "377     WiiU        1.58          6.60    6.500000\n",
       "378     WiiU        3.21          8.80    8.700000\n",
       "379     WiiU        4.44          8.10    8.500000\n",
       "380     WiiU        7.09          8.80    9.100000"
      ]
     },
     "execution_count": 52,
     "metadata": {},
     "output_type": "execute_result"
    }
   ],
   "source": [
    "influence_on_platform_WiiU = influence_on_platform[influence_on_platform['platform'] == 'WiiU']\n",
    "influence_on_platform_WiiU"
   ]
  },
  {
   "cell_type": "code",
   "execution_count": 53,
   "id": "9bc376f1",
   "metadata": {},
   "outputs": [
    {
     "data": {
      "image/png": "[encoded data removed]",
      "text/plain": [
       "<Figure size 1296x432 with 2 Axes>"
      ]
     },
     "metadata": {
      "needs_background": "light"
     },
     "output_type": "display_data"
    }
   ],
   "source": [
    "fig, (ax1, ax2) = plt.subplots(1, 2, figsize=(20, 6))\n",
    "ax1.scatter(x = influence_on_platform_WiiU['critic_score'], y = influence_on_platform_WiiU['total_sale'])\n",
    "ax1.set_title('влияние критиков на продажи')\n",
    "ax1.set_xlabel('рейтинг критиков')\n",
    "ax1.set_ylabel('продажи')\n",
    "\n",
    "ax2.scatter(x = influence_on_platform_WiiU['user_score'], y = influence_on_platform_WiiU['total_sale'])\n",
    "ax2.set_title('влияние оценок пользователей на продажи')\n",
    "ax2.set_xlabel('рейтинг оценок пользователей')\n",
    "ax2.set_ylabel('продажи')\n",
    "fig.set_figwidth(18)\n",
    "fig.set_figheight(6)\n",
    "\n",
    "plt.show()"
   ]
  },
  {
   "cell_type": "code",
   "execution_count": 54,
   "id": "594eb6dd",
   "metadata": {},
   "outputs": [
    {
     "name": "stdout",
     "output_type": "stream",
     "text": [
      "Коэффицент корреляции Пирсона влияния  оценок критиков на продажи игр на платформе WiiU 0.4146950305981556\n",
      "Коэффицент корреляции Пирсона влияния  оценок пользователей на продажи игр на платформе WiiU 0.4633299846993938\n"
     ]
    }
   ],
   "source": [
    "print('Коэффицент корреляции Пирсона влияния  оценок критиков на продажи игр на платформе WiiU {}'.format(influence_on_platform_WiiU['critic_score'].corr(influence_on_platform_WiiU['total_sale'])))\n",
    "print('Коэффицент корреляции Пирсона влияния  оценок пользователей на продажи игр на платформе WiiU {}'.format(influence_on_platform_WiiU['user_score'].corr(influence_on_platform_WiiU['total_sale'])))"
   ]
  },
  {
   "cell_type": "markdown",
   "id": "d89b5809",
   "metadata": {},
   "source": [
    "Исходя из расчетов видно что оценки пользователей немного больше влияют на продажи игр  на платформе WiiU чем оценки критиков"
   ]
  },
  {
   "cell_type": "code",
   "execution_count": 55,
   "id": "57c27657",
   "metadata": {},
   "outputs": [
    {
     "data": {
      "text/html": [
       "<div>\n",
       "<style scoped>\n",
       "    .dataframe tbody tr th:only-of-type {\n",
       "        vertical-align: middle;\n",
       "    }\n",
       "\n",
       "    .dataframe tbody tr th {\n",
       "        vertical-align: top;\n",
       "    }\n",
       "\n",
       "    .dataframe thead th {\n",
       "        text-align: right;\n",
       "    }\n",
       "</style>\n",
       "<table border=\"1\" class=\"dataframe\">\n",
       "  <thead>\n",
       "    <tr style=\"text-align: right;\">\n",
       "      <th></th>\n",
       "      <th>platform</th>\n",
       "      <th>total_sale</th>\n",
       "      <th>critic_score</th>\n",
       "      <th>user_score</th>\n",
       "    </tr>\n",
       "  </thead>\n",
       "  <tbody>\n",
       "    <tr>\n",
       "      <td>437</td>\n",
       "      <td>XOne</td>\n",
       "      <td>0.01</td>\n",
       "      <td>6.611111</td>\n",
       "      <td>6.931250</td>\n",
       "    </tr>\n",
       "    <tr>\n",
       "      <td>438</td>\n",
       "      <td>XOne</td>\n",
       "      <td>0.02</td>\n",
       "      <td>6.171429</td>\n",
       "      <td>6.300000</td>\n",
       "    </tr>\n",
       "    <tr>\n",
       "      <td>439</td>\n",
       "      <td>XOne</td>\n",
       "      <td>0.03</td>\n",
       "      <td>6.950000</td>\n",
       "      <td>5.480000</td>\n",
       "    </tr>\n",
       "    <tr>\n",
       "      <td>440</td>\n",
       "      <td>XOne</td>\n",
       "      <td>0.04</td>\n",
       "      <td>7.616667</td>\n",
       "      <td>7.183333</td>\n",
       "    </tr>\n",
       "    <tr>\n",
       "      <td>441</td>\n",
       "      <td>XOne</td>\n",
       "      <td>0.05</td>\n",
       "      <td>5.000000</td>\n",
       "      <td>5.733333</td>\n",
       "    </tr>\n",
       "    <tr>\n",
       "      <td>...</td>\n",
       "      <td>...</td>\n",
       "      <td>...</td>\n",
       "      <td>...</td>\n",
       "      <td>...</td>\n",
       "    </tr>\n",
       "    <tr>\n",
       "      <td>535</td>\n",
       "      <td>XOne</td>\n",
       "      <td>3.50</td>\n",
       "      <td>7.200000</td>\n",
       "      <td>4.100000</td>\n",
       "    </tr>\n",
       "    <tr>\n",
       "      <td>536</td>\n",
       "      <td>XOne</td>\n",
       "      <td>4.22</td>\n",
       "      <td>8.800000</td>\n",
       "      <td>6.200000</td>\n",
       "    </tr>\n",
       "    <tr>\n",
       "      <td>537</td>\n",
       "      <td>XOne</td>\n",
       "      <td>4.49</td>\n",
       "      <td>8.400000</td>\n",
       "      <td>6.400000</td>\n",
       "    </tr>\n",
       "    <tr>\n",
       "      <td>538</td>\n",
       "      <td>XOne</td>\n",
       "      <td>5.26</td>\n",
       "      <td>8.100000</td>\n",
       "      <td>5.400000</td>\n",
       "    </tr>\n",
       "    <tr>\n",
       "      <td>539</td>\n",
       "      <td>XOne</td>\n",
       "      <td>5.47</td>\n",
       "      <td>9.700000</td>\n",
       "      <td>7.900000</td>\n",
       "    </tr>\n",
       "  </tbody>\n",
       "</table>\n",
       "<p>103 rows × 4 columns</p>\n",
       "</div>"
      ],
      "text/plain": [
       "    platform  total_sale  critic_score  user_score\n",
       "437     XOne        0.01      6.611111    6.931250\n",
       "438     XOne        0.02      6.171429    6.300000\n",
       "439     XOne        0.03      6.950000    5.480000\n",
       "440     XOne        0.04      7.616667    7.183333\n",
       "441     XOne        0.05      5.000000    5.733333\n",
       "..       ...         ...           ...         ...\n",
       "535     XOne        3.50      7.200000    4.100000\n",
       "536     XOne        4.22      8.800000    6.200000\n",
       "537     XOne        4.49      8.400000    6.400000\n",
       "538     XOne        5.26      8.100000    5.400000\n",
       "539     XOne        5.47      9.700000    7.900000\n",
       "\n",
       "[103 rows x 4 columns]"
      ]
     },
     "execution_count": 55,
     "metadata": {},
     "output_type": "execute_result"
    }
   ],
   "source": [
    "influence_on_platform_XOne = influence_on_platform[influence_on_platform['platform'] == 'XOne']\n",
    "influence_on_platform_XOne"
   ]
  },
  {
   "cell_type": "code",
   "execution_count": 56,
   "id": "dfb4720d",
   "metadata": {},
   "outputs": [
    {
     "data": {
      "image/png": "[encoded data removed]",
      "text/plain": [
       "<Figure size 1296x432 with 2 Axes>"
      ]
     },
     "metadata": {
      "needs_background": "light"
     },
     "output_type": "display_data"
    }
   ],
   "source": [
    "fig, (ax1, ax2) = plt.subplots(1, 2, figsize=(20, 6))\n",
    "ax1.scatter(x = influence_on_platform_XOne['critic_score'], y = influence_on_platform_XOne['total_sale'])\n",
    "ax1.set_title('влияние критиков на продажи')\n",
    "ax1.set_xlabel('рейтинг критиков')\n",
    "ax1.set_ylabel('продажи')\n",
    "\n",
    "ax2.scatter(x = influence_on_platform_XOne['user_score'], y = influence_on_platform_XOne['total_sale'])\n",
    "ax2.set_title('влияние оценок пользователей на продажи')\n",
    "ax2.set_xlabel('рейтинг оценок пользователей')\n",
    "ax2.set_ylabel('продажи')\n",
    "fig.set_figwidth(18)\n",
    "fig.set_figheight(6)\n",
    "plt.show()"
   ]
  },
  {
   "cell_type": "code",
   "execution_count": 57,
   "id": "69e3984b",
   "metadata": {},
   "outputs": [
    {
     "name": "stdout",
     "output_type": "stream",
     "text": [
      "Коэффицент корреляции Пирсона влияния  оценок критиков на продажи игр на платформе XOne 0.46241089806976915\n",
      "Коэффицент корреляции Пирсона влияния оценок пользователей на продажи игр на платформе XOne -0.07609195365431025\n"
     ]
    }
   ],
   "source": [
    "print('Коэффицент корреляции Пирсона влияния  оценок критиков на продажи игр на платформе XOne {}'.format(influence_on_platform_XOne['critic_score'].corr(influence_on_platform_XOne['total_sale'])))\n",
    "print('Коэффицент корреляции Пирсона влияния оценок пользователей на продажи игр на платформе XOne {}'.format(influence_on_platform_XOne['user_score'].corr(influence_on_platform_XOne['total_sale'])))"
   ]
  },
  {
   "cell_type": "markdown",
   "id": "3d792776",
   "metadata": {},
   "source": [
    "Коэффицент корреляции Пирсона показываетчто оценки критиков  влияют на продажи игр на платформе Х360, а оценки пользователей не влияют на продажи"
   ]
  },
  {
   "cell_type": "markdown",
   "id": "b448d16d",
   "metadata": {},
   "source": [
    "<b>Рейтинг жанров</b>"
   ]
  },
  {
   "cell_type": "code",
   "execution_count": 58,
   "id": "e7337ed2",
   "metadata": {},
   "outputs": [
    {
     "data": {
      "text/html": [
       "<div>\n",
       "<style scoped>\n",
       "    .dataframe tbody tr th:only-of-type {\n",
       "        vertical-align: middle;\n",
       "    }\n",
       "\n",
       "    .dataframe tbody tr th {\n",
       "        vertical-align: top;\n",
       "    }\n",
       "\n",
       "    .dataframe thead th {\n",
       "        text-align: right;\n",
       "    }\n",
       "</style>\n",
       "<table border=\"1\" class=\"dataframe\">\n",
       "  <thead>\n",
       "    <tr style=\"text-align: right;\">\n",
       "      <th></th>\n",
       "      <th>genre</th>\n",
       "      <th>total_sale</th>\n",
       "    </tr>\n",
       "  </thead>\n",
       "  <tbody>\n",
       "    <tr>\n",
       "      <td>0</td>\n",
       "      <td>Action</td>\n",
       "      <td>199.36</td>\n",
       "    </tr>\n",
       "    <tr>\n",
       "      <td>1</td>\n",
       "      <td>Shooter</td>\n",
       "      <td>170.94</td>\n",
       "    </tr>\n",
       "    <tr>\n",
       "      <td>2</td>\n",
       "      <td>Sports</td>\n",
       "      <td>109.48</td>\n",
       "    </tr>\n",
       "    <tr>\n",
       "      <td>3</td>\n",
       "      <td>Role-Playing</td>\n",
       "      <td>101.44</td>\n",
       "    </tr>\n",
       "    <tr>\n",
       "      <td>4</td>\n",
       "      <td>Misc</td>\n",
       "      <td>37.55</td>\n",
       "    </tr>\n",
       "    <tr>\n",
       "      <td>5</td>\n",
       "      <td>Fighting</td>\n",
       "      <td>28.22</td>\n",
       "    </tr>\n",
       "    <tr>\n",
       "      <td>6</td>\n",
       "      <td>Racing</td>\n",
       "      <td>27.52</td>\n",
       "    </tr>\n",
       "    <tr>\n",
       "      <td>7</td>\n",
       "      <td>Platform</td>\n",
       "      <td>18.09</td>\n",
       "    </tr>\n",
       "    <tr>\n",
       "      <td>8</td>\n",
       "      <td>Adventure</td>\n",
       "      <td>17.55</td>\n",
       "    </tr>\n",
       "    <tr>\n",
       "      <td>9</td>\n",
       "      <td>Simulation</td>\n",
       "      <td>13.13</td>\n",
       "    </tr>\n",
       "    <tr>\n",
       "      <td>10</td>\n",
       "      <td>Strategy</td>\n",
       "      <td>3.96</td>\n",
       "    </tr>\n",
       "    <tr>\n",
       "      <td>11</td>\n",
       "      <td>Puzzle</td>\n",
       "      <td>2.21</td>\n",
       "    </tr>\n",
       "  </tbody>\n",
       "</table>\n",
       "</div>"
      ],
      "text/plain": [
       "           genre  total_sale\n",
       "0         Action      199.36\n",
       "1        Shooter      170.94\n",
       "2         Sports      109.48\n",
       "3   Role-Playing      101.44\n",
       "4           Misc       37.55\n",
       "5       Fighting       28.22\n",
       "6         Racing       27.52\n",
       "7       Platform       18.09\n",
       "8      Adventure       17.55\n",
       "9     Simulation       13.13\n",
       "10      Strategy        3.96\n",
       "11        Puzzle        2.21"
      ]
     },
     "execution_count": 58,
     "metadata": {},
     "output_type": "execute_result"
    }
   ],
   "source": [
    "top_genre_games = leader_game_platforms_sale.pivot_table(index='genre', values='total_sale', \n",
    "                                                         aggfunc='sum').sort_values(by='total_sale', ascending=False).reset_index()\n",
    "top_genre_games"
   ]
  },
  {
   "cell_type": "markdown",
   "id": "93586e8b",
   "metadata": {},
   "source": [
    "Построили сводную таблицу  жанров игр. Самые полулярные игры: экшен, шутеры и спортивные игры. не популярные - приключени, стратегии и пазлы"
   ]
  },
  {
   "cell_type": "markdown",
   "id": "f854907a",
   "metadata": {},
   "source": [
    "<b><p style=\"font-size: 20px;\">Портрет пользователя каждого региона.</p></b>\n"
   ]
  },
  {
   "cell_type": "markdown",
   "id": "7c1162e5",
   "metadata": {},
   "source": [
    "<b>топ 5 полатформ для 3-х регионов</b>"
   ]
  },
  {
   "cell_type": "code",
   "execution_count": 59,
   "id": "6b2f04f3",
   "metadata": {},
   "outputs": [],
   "source": [
    "na_top_platforms = leader_game_platforms_sale.pivot_table(index='platform', values='na_sales', \n",
    "                                                    aggfunc='sum').sort_values(by='na_sales', ascending=False).reset_index()\n"
   ]
  },
  {
   "cell_type": "code",
   "execution_count": 60,
   "id": "343c20eb",
   "metadata": {},
   "outputs": [
    {
     "data": {
      "text/html": [
       "<div>\n",
       "<style scoped>\n",
       "    .dataframe tbody tr th:only-of-type {\n",
       "        vertical-align: middle;\n",
       "    }\n",
       "\n",
       "    .dataframe tbody tr th {\n",
       "        vertical-align: top;\n",
       "    }\n",
       "\n",
       "    .dataframe thead th {\n",
       "        text-align: right;\n",
       "    }\n",
       "</style>\n",
       "<table border=\"1\" class=\"dataframe\">\n",
       "  <thead>\n",
       "    <tr style=\"text-align: right;\">\n",
       "      <th></th>\n",
       "      <th>platform</th>\n",
       "      <th>na_sales</th>\n",
       "    </tr>\n",
       "  </thead>\n",
       "  <tbody>\n",
       "    <tr>\n",
       "      <td>0</td>\n",
       "      <td>PS4</td>\n",
       "      <td>98.61</td>\n",
       "    </tr>\n",
       "    <tr>\n",
       "      <td>1</td>\n",
       "      <td>XOne</td>\n",
       "      <td>81.27</td>\n",
       "    </tr>\n",
       "    <tr>\n",
       "      <td>2</td>\n",
       "      <td>X360</td>\n",
       "      <td>28.30</td>\n",
       "    </tr>\n",
       "    <tr>\n",
       "      <td>3</td>\n",
       "      <td>3DS</td>\n",
       "      <td>22.64</td>\n",
       "    </tr>\n",
       "    <tr>\n",
       "      <td>4</td>\n",
       "      <td>PS3</td>\n",
       "      <td>22.05</td>\n",
       "    </tr>\n",
       "  </tbody>\n",
       "</table>\n",
       "</div>"
      ],
      "text/plain": [
       "  platform  na_sales\n",
       "0      PS4     98.61\n",
       "1     XOne     81.27\n",
       "2     X360     28.30\n",
       "3      3DS     22.64\n",
       "4      PS3     22.05"
      ]
     },
     "execution_count": 60,
     "metadata": {},
     "output_type": "execute_result"
    }
   ],
   "source": [
    "na_top5_platforms = na_top_platforms.query('index<5')\n",
    "na_top5_platforms"
   ]
  },
  {
   "cell_type": "code",
   "execution_count": 61,
   "id": "91c1d707",
   "metadata": {},
   "outputs": [
    {
     "data": {
      "text/html": [
       "<div>\n",
       "<style scoped>\n",
       "    .dataframe tbody tr th:only-of-type {\n",
       "        vertical-align: middle;\n",
       "    }\n",
       "\n",
       "    .dataframe tbody tr th {\n",
       "        vertical-align: top;\n",
       "    }\n",
       "\n",
       "    .dataframe thead th {\n",
       "        text-align: right;\n",
       "    }\n",
       "</style>\n",
       "<table border=\"1\" class=\"dataframe\">\n",
       "  <thead>\n",
       "    <tr style=\"text-align: right;\">\n",
       "      <th></th>\n",
       "      <th>platform</th>\n",
       "      <th>na_sales</th>\n",
       "      <th>ratio</th>\n",
       "    </tr>\n",
       "  </thead>\n",
       "  <tbody>\n",
       "    <tr>\n",
       "      <td>0</td>\n",
       "      <td>PS4</td>\n",
       "      <td>98.61</td>\n",
       "      <td>34.71</td>\n",
       "    </tr>\n",
       "    <tr>\n",
       "      <td>1</td>\n",
       "      <td>XOne</td>\n",
       "      <td>81.27</td>\n",
       "      <td>28.61</td>\n",
       "    </tr>\n",
       "    <tr>\n",
       "      <td>2</td>\n",
       "      <td>X360</td>\n",
       "      <td>28.30</td>\n",
       "      <td>9.96</td>\n",
       "    </tr>\n",
       "    <tr>\n",
       "      <td>3</td>\n",
       "      <td>3DS</td>\n",
       "      <td>22.64</td>\n",
       "      <td>7.97</td>\n",
       "    </tr>\n",
       "    <tr>\n",
       "      <td>4</td>\n",
       "      <td>PS3</td>\n",
       "      <td>22.05</td>\n",
       "      <td>7.76</td>\n",
       "    </tr>\n",
       "  </tbody>\n",
       "</table>\n",
       "</div>"
      ],
      "text/plain": [
       "  platform  na_sales  ratio\n",
       "0      PS4     98.61  34.71\n",
       "1     XOne     81.27  28.61\n",
       "2     X360     28.30   9.96\n",
       "3      3DS     22.64   7.97\n",
       "4      PS3     22.05   7.76"
      ]
     },
     "execution_count": 61,
     "metadata": {},
     "output_type": "execute_result"
    }
   ],
   "source": [
    "pd.set_option('mode.chained_assignment', None)\n",
    "na_top5_platforms['ratio'] = (na_top5_platforms['na_sales'] / current_platform['na_sales'].sum())*100\n",
    "na_top5_platforms.round(decimals=2)\n"
   ]
  },
  {
   "cell_type": "markdown",
   "id": "f1a31438",
   "metadata": {},
   "source": [
    "Построили сводную таблицу по Северной Америке. Самые популярные платформы: PS4, Xone, X360. На них прсходится более 70% продаж"
   ]
  },
  {
   "cell_type": "code",
   "execution_count": 62,
   "id": "0713ae5b",
   "metadata": {},
   "outputs": [],
   "source": [
    "eu_top_platforms = leader_game_platforms_sale.pivot_table(index='platform', values='eu_sales', \n",
    "                                                    aggfunc='sum').sort_values(by='eu_sales', ascending=False).reset_index()"
   ]
  },
  {
   "cell_type": "code",
   "execution_count": 63,
   "id": "470d3f02",
   "metadata": {},
   "outputs": [
    {
     "data": {
      "text/html": [
       "<div>\n",
       "<style scoped>\n",
       "    .dataframe tbody tr th:only-of-type {\n",
       "        vertical-align: middle;\n",
       "    }\n",
       "\n",
       "    .dataframe tbody tr th {\n",
       "        vertical-align: top;\n",
       "    }\n",
       "\n",
       "    .dataframe thead th {\n",
       "        text-align: right;\n",
       "    }\n",
       "</style>\n",
       "<table border=\"1\" class=\"dataframe\">\n",
       "  <thead>\n",
       "    <tr style=\"text-align: right;\">\n",
       "      <th></th>\n",
       "      <th>platform</th>\n",
       "      <th>eu_sales</th>\n",
       "    </tr>\n",
       "  </thead>\n",
       "  <tbody>\n",
       "    <tr>\n",
       "      <td>0</td>\n",
       "      <td>PS4</td>\n",
       "      <td>130.04</td>\n",
       "    </tr>\n",
       "    <tr>\n",
       "      <td>1</td>\n",
       "      <td>XOne</td>\n",
       "      <td>46.25</td>\n",
       "    </tr>\n",
       "    <tr>\n",
       "      <td>2</td>\n",
       "      <td>PS3</td>\n",
       "      <td>25.54</td>\n",
       "    </tr>\n",
       "    <tr>\n",
       "      <td>3</td>\n",
       "      <td>PC</td>\n",
       "      <td>17.97</td>\n",
       "    </tr>\n",
       "    <tr>\n",
       "      <td>4</td>\n",
       "      <td>3DS</td>\n",
       "      <td>16.12</td>\n",
       "    </tr>\n",
       "  </tbody>\n",
       "</table>\n",
       "</div>"
      ],
      "text/plain": [
       "  platform  eu_sales\n",
       "0      PS4    130.04\n",
       "1     XOne     46.25\n",
       "2      PS3     25.54\n",
       "3       PC     17.97\n",
       "4      3DS     16.12"
      ]
     },
     "execution_count": 63,
     "metadata": {},
     "output_type": "execute_result"
    }
   ],
   "source": [
    "eu_top5_platforms = eu_top_platforms.query('index<5')\n",
    "eu_top5_platforms\n"
   ]
  },
  {
   "cell_type": "code",
   "execution_count": 64,
   "id": "95d5e9fc",
   "metadata": {},
   "outputs": [
    {
     "data": {
      "text/html": [
       "<div>\n",
       "<style scoped>\n",
       "    .dataframe tbody tr th:only-of-type {\n",
       "        vertical-align: middle;\n",
       "    }\n",
       "\n",
       "    .dataframe tbody tr th {\n",
       "        vertical-align: top;\n",
       "    }\n",
       "\n",
       "    .dataframe thead th {\n",
       "        text-align: right;\n",
       "    }\n",
       "</style>\n",
       "<table border=\"1\" class=\"dataframe\">\n",
       "  <thead>\n",
       "    <tr style=\"text-align: right;\">\n",
       "      <th></th>\n",
       "      <th>platform</th>\n",
       "      <th>eu_sales</th>\n",
       "      <th>ratio</th>\n",
       "    </tr>\n",
       "  </thead>\n",
       "  <tbody>\n",
       "    <tr>\n",
       "      <td>0</td>\n",
       "      <td>PS4</td>\n",
       "      <td>130.04</td>\n",
       "      <td>48.04</td>\n",
       "    </tr>\n",
       "    <tr>\n",
       "      <td>1</td>\n",
       "      <td>XOne</td>\n",
       "      <td>46.25</td>\n",
       "      <td>17.09</td>\n",
       "    </tr>\n",
       "    <tr>\n",
       "      <td>2</td>\n",
       "      <td>PS3</td>\n",
       "      <td>25.54</td>\n",
       "      <td>9.44</td>\n",
       "    </tr>\n",
       "    <tr>\n",
       "      <td>3</td>\n",
       "      <td>PC</td>\n",
       "      <td>17.97</td>\n",
       "      <td>6.64</td>\n",
       "    </tr>\n",
       "    <tr>\n",
       "      <td>4</td>\n",
       "      <td>3DS</td>\n",
       "      <td>16.12</td>\n",
       "      <td>5.96</td>\n",
       "    </tr>\n",
       "  </tbody>\n",
       "</table>\n",
       "</div>"
      ],
      "text/plain": [
       "  platform  eu_sales  ratio\n",
       "0      PS4    130.04  48.04\n",
       "1     XOne     46.25  17.09\n",
       "2      PS3     25.54   9.44\n",
       "3       PC     17.97   6.64\n",
       "4      3DS     16.12   5.96"
      ]
     },
     "execution_count": 64,
     "metadata": {},
     "output_type": "execute_result"
    }
   ],
   "source": [
    "pd.set_option('mode.chained_assignment', None)\n",
    "eu_top5_platforms['ratio'] = (eu_top5_platforms['eu_sales'] / leader_game_platforms_sale['eu_sales'].sum())*100\n",
    "eu_top5_platforms.round(decimals=2)\n",
    "\n"
   ]
  },
  {
   "cell_type": "markdown",
   "id": "fe1ef73a",
   "metadata": {},
   "source": [
    " В Европе самые поgулярные платформы: PS4, XOne, PS3. На них приходится более 74% продаж"
   ]
  },
  {
   "cell_type": "code",
   "execution_count": 65,
   "id": "b4f514b2",
   "metadata": {},
   "outputs": [],
   "source": [
    "jp_top_platforms = leader_game_platforms_sale.pivot_table(index='platform', values='jp_sales', \n",
    "                                                    aggfunc='sum').sort_values(by='jp_sales', ascending=False).reset_index()"
   ]
  },
  {
   "cell_type": "code",
   "execution_count": 66,
   "id": "bd561d36",
   "metadata": {},
   "outputs": [
    {
     "data": {
      "text/html": [
       "<div>\n",
       "<style scoped>\n",
       "    .dataframe tbody tr th:only-of-type {\n",
       "        vertical-align: middle;\n",
       "    }\n",
       "\n",
       "    .dataframe tbody tr th {\n",
       "        vertical-align: top;\n",
       "    }\n",
       "\n",
       "    .dataframe thead th {\n",
       "        text-align: right;\n",
       "    }\n",
       "</style>\n",
       "<table border=\"1\" class=\"dataframe\">\n",
       "  <thead>\n",
       "    <tr style=\"text-align: right;\">\n",
       "      <th></th>\n",
       "      <th>platform</th>\n",
       "      <th>jp_sales</th>\n",
       "    </tr>\n",
       "  </thead>\n",
       "  <tbody>\n",
       "    <tr>\n",
       "      <td>0</td>\n",
       "      <td>3DS</td>\n",
       "      <td>44.24</td>\n",
       "    </tr>\n",
       "    <tr>\n",
       "      <td>1</td>\n",
       "      <td>PS4</td>\n",
       "      <td>15.02</td>\n",
       "    </tr>\n",
       "    <tr>\n",
       "      <td>2</td>\n",
       "      <td>PSV</td>\n",
       "      <td>14.54</td>\n",
       "    </tr>\n",
       "    <tr>\n",
       "      <td>3</td>\n",
       "      <td>PS3</td>\n",
       "      <td>11.22</td>\n",
       "    </tr>\n",
       "    <tr>\n",
       "      <td>4</td>\n",
       "      <td>WiiU</td>\n",
       "      <td>7.31</td>\n",
       "    </tr>\n",
       "  </tbody>\n",
       "</table>\n",
       "</div>"
      ],
      "text/plain": [
       "  platform  jp_sales\n",
       "0      3DS     44.24\n",
       "1      PS4     15.02\n",
       "2      PSV     14.54\n",
       "3      PS3     11.22\n",
       "4     WiiU      7.31"
      ]
     },
     "execution_count": 66,
     "metadata": {},
     "output_type": "execute_result"
    }
   ],
   "source": [
    "jp_top5_platforms = jp_top_platforms.query('index<5')\n",
    "jp_top5_platforms"
   ]
  },
  {
   "cell_type": "code",
   "execution_count": 67,
   "id": "0fe757ca",
   "metadata": {},
   "outputs": [
    {
     "data": {
      "text/html": [
       "<div>\n",
       "<style scoped>\n",
       "    .dataframe tbody tr th:only-of-type {\n",
       "        vertical-align: middle;\n",
       "    }\n",
       "\n",
       "    .dataframe tbody tr th {\n",
       "        vertical-align: top;\n",
       "    }\n",
       "\n",
       "    .dataframe thead th {\n",
       "        text-align: right;\n",
       "    }\n",
       "</style>\n",
       "<table border=\"1\" class=\"dataframe\">\n",
       "  <thead>\n",
       "    <tr style=\"text-align: right;\">\n",
       "      <th></th>\n",
       "      <th>platform</th>\n",
       "      <th>jp_sales</th>\n",
       "      <th>ratio</th>\n",
       "    </tr>\n",
       "  </thead>\n",
       "  <tbody>\n",
       "    <tr>\n",
       "      <td>0</td>\n",
       "      <td>3DS</td>\n",
       "      <td>44.24</td>\n",
       "      <td>47.52</td>\n",
       "    </tr>\n",
       "    <tr>\n",
       "      <td>1</td>\n",
       "      <td>PS4</td>\n",
       "      <td>15.02</td>\n",
       "      <td>16.13</td>\n",
       "    </tr>\n",
       "    <tr>\n",
       "      <td>2</td>\n",
       "      <td>PSV</td>\n",
       "      <td>14.54</td>\n",
       "      <td>15.62</td>\n",
       "    </tr>\n",
       "    <tr>\n",
       "      <td>3</td>\n",
       "      <td>PS3</td>\n",
       "      <td>11.22</td>\n",
       "      <td>12.05</td>\n",
       "    </tr>\n",
       "    <tr>\n",
       "      <td>4</td>\n",
       "      <td>WiiU</td>\n",
       "      <td>7.31</td>\n",
       "      <td>7.85</td>\n",
       "    </tr>\n",
       "  </tbody>\n",
       "</table>\n",
       "</div>"
      ],
      "text/plain": [
       "  platform  jp_sales  ratio\n",
       "0      3DS     44.24  47.52\n",
       "1      PS4     15.02  16.13\n",
       "2      PSV     14.54  15.62\n",
       "3      PS3     11.22  12.05\n",
       "4     WiiU      7.31   7.85"
      ]
     },
     "execution_count": 67,
     "metadata": {},
     "output_type": "execute_result"
    }
   ],
   "source": [
    "pd.set_option('mode.chained_assignment', None)\n",
    "jp_top5_platforms['ratio'] = (jp_top5_platforms['jp_sales'] / leader_game_platforms_sale['jp_sales'].sum())*100\n",
    "jp_top5_platforms.round(decimals=2)\n"
   ]
  },
  {
   "cell_type": "markdown",
   "id": "cd4f5f67",
   "metadata": {},
   "source": [
    "В Японии самые популярные платформы: 3DS, PS4, PSV. На них приходится щколо 80% продаж"
   ]
  },
  {
   "cell_type": "markdown",
   "id": "4cf418a3",
   "metadata": {},
   "source": [
    "Платформы PS4 и XOne являются самыми популярными платформами в Северной Америке и  в Европе. В Японии  популярны: 3DC и PS4\n",
    " "
   ]
  },
  {
   "cell_type": "markdown",
   "id": "fa7fb0d9",
   "metadata": {},
   "source": [
    "<b>топ 5 жанров игр для 3-х регионов</b>"
   ]
  },
  {
   "cell_type": "code",
   "execution_count": 68,
   "id": "93a6f873",
   "metadata": {},
   "outputs": [
    {
     "data": {
      "text/html": [
       "<div>\n",
       "<style scoped>\n",
       "    .dataframe tbody tr th:only-of-type {\n",
       "        vertical-align: middle;\n",
       "    }\n",
       "\n",
       "    .dataframe tbody tr th {\n",
       "        vertical-align: top;\n",
       "    }\n",
       "\n",
       "    .dataframe thead th {\n",
       "        text-align: right;\n",
       "    }\n",
       "</style>\n",
       "<table border=\"1\" class=\"dataframe\">\n",
       "  <thead>\n",
       "    <tr style=\"text-align: right;\">\n",
       "      <th></th>\n",
       "      <th>name</th>\n",
       "      <th>platform</th>\n",
       "      <th>year_of_release</th>\n",
       "      <th>genre</th>\n",
       "      <th>na_sales</th>\n",
       "      <th>eu_sales</th>\n",
       "      <th>jp_sales</th>\n",
       "      <th>other_sales</th>\n",
       "      <th>critic_score</th>\n",
       "      <th>user_score</th>\n",
       "      <th>rating</th>\n",
       "      <th>total_sale</th>\n",
       "      <th>mean_rating</th>\n",
       "    </tr>\n",
       "  </thead>\n",
       "  <tbody>\n",
       "    <tr>\n",
       "      <td>23</td>\n",
       "      <td>Call of Duty: Black Ops 3</td>\n",
       "      <td>PS4</td>\n",
       "      <td>2015</td>\n",
       "      <td>Shooter</td>\n",
       "      <td>6.03</td>\n",
       "      <td>5.86</td>\n",
       "      <td>0.36</td>\n",
       "      <td>2.38</td>\n",
       "      <td>NaN</td>\n",
       "      <td>NaN</td>\n",
       "      <td>unknown</td>\n",
       "      <td>14.63</td>\n",
       "      <td>NaN</td>\n",
       "    </tr>\n",
       "    <tr>\n",
       "      <td>34</td>\n",
       "      <td>Grand Theft Auto V</td>\n",
       "      <td>PS4</td>\n",
       "      <td>2014</td>\n",
       "      <td>Action</td>\n",
       "      <td>3.96</td>\n",
       "      <td>6.31</td>\n",
       "      <td>0.38</td>\n",
       "      <td>1.97</td>\n",
       "      <td>9.7</td>\n",
       "      <td>8.3</td>\n",
       "      <td>M</td>\n",
       "      <td>12.62</td>\n",
       "      <td>9.00</td>\n",
       "    </tr>\n",
       "    <tr>\n",
       "      <td>39</td>\n",
       "      <td>Pokemon Omega Ruby/Pokemon Alpha Sapphire</td>\n",
       "      <td>3DS</td>\n",
       "      <td>2014</td>\n",
       "      <td>Role-Playing</td>\n",
       "      <td>4.35</td>\n",
       "      <td>3.49</td>\n",
       "      <td>3.10</td>\n",
       "      <td>0.74</td>\n",
       "      <td>NaN</td>\n",
       "      <td>NaN</td>\n",
       "      <td>unknown</td>\n",
       "      <td>11.68</td>\n",
       "      <td>NaN</td>\n",
       "    </tr>\n",
       "    <tr>\n",
       "      <td>68</td>\n",
       "      <td>FIFA 16</td>\n",
       "      <td>PS4</td>\n",
       "      <td>2015</td>\n",
       "      <td>Sports</td>\n",
       "      <td>1.12</td>\n",
       "      <td>6.12</td>\n",
       "      <td>0.06</td>\n",
       "      <td>1.28</td>\n",
       "      <td>8.2</td>\n",
       "      <td>4.3</td>\n",
       "      <td>E</td>\n",
       "      <td>8.58</td>\n",
       "      <td>6.25</td>\n",
       "    </tr>\n",
       "    <tr>\n",
       "      <td>78</td>\n",
       "      <td>Star Wars Battlefront (2015)</td>\n",
       "      <td>PS4</td>\n",
       "      <td>2015</td>\n",
       "      <td>Shooter</td>\n",
       "      <td>2.99</td>\n",
       "      <td>3.49</td>\n",
       "      <td>0.22</td>\n",
       "      <td>1.28</td>\n",
       "      <td>NaN</td>\n",
       "      <td>NaN</td>\n",
       "      <td>unknown</td>\n",
       "      <td>7.98</td>\n",
       "      <td>NaN</td>\n",
       "    </tr>\n",
       "    <tr>\n",
       "      <td>...</td>\n",
       "      <td>...</td>\n",
       "      <td>...</td>\n",
       "      <td>...</td>\n",
       "      <td>...</td>\n",
       "      <td>...</td>\n",
       "      <td>...</td>\n",
       "      <td>...</td>\n",
       "      <td>...</td>\n",
       "      <td>...</td>\n",
       "      <td>...</td>\n",
       "      <td>...</td>\n",
       "      <td>...</td>\n",
       "      <td>...</td>\n",
       "    </tr>\n",
       "    <tr>\n",
       "      <td>16127</td>\n",
       "      <td>Strawberry Nauts</td>\n",
       "      <td>PSV</td>\n",
       "      <td>2016</td>\n",
       "      <td>Adventure</td>\n",
       "      <td>0.00</td>\n",
       "      <td>0.00</td>\n",
       "      <td>0.01</td>\n",
       "      <td>0.00</td>\n",
       "      <td>NaN</td>\n",
       "      <td>NaN</td>\n",
       "      <td>unknown</td>\n",
       "      <td>0.01</td>\n",
       "      <td>NaN</td>\n",
       "    </tr>\n",
       "    <tr>\n",
       "      <td>16131</td>\n",
       "      <td>Aiyoku no Eustia</td>\n",
       "      <td>PSV</td>\n",
       "      <td>2014</td>\n",
       "      <td>Misc</td>\n",
       "      <td>0.00</td>\n",
       "      <td>0.00</td>\n",
       "      <td>0.01</td>\n",
       "      <td>0.00</td>\n",
       "      <td>NaN</td>\n",
       "      <td>NaN</td>\n",
       "      <td>unknown</td>\n",
       "      <td>0.01</td>\n",
       "      <td>NaN</td>\n",
       "    </tr>\n",
       "    <tr>\n",
       "      <td>16134</td>\n",
       "      <td>Samurai Warriors: Sanada Maru</td>\n",
       "      <td>PS3</td>\n",
       "      <td>2016</td>\n",
       "      <td>Action</td>\n",
       "      <td>0.00</td>\n",
       "      <td>0.00</td>\n",
       "      <td>0.01</td>\n",
       "      <td>0.00</td>\n",
       "      <td>NaN</td>\n",
       "      <td>NaN</td>\n",
       "      <td>unknown</td>\n",
       "      <td>0.01</td>\n",
       "      <td>NaN</td>\n",
       "    </tr>\n",
       "    <tr>\n",
       "      <td>16136</td>\n",
       "      <td>Haitaka no Psychedelica</td>\n",
       "      <td>PSV</td>\n",
       "      <td>2016</td>\n",
       "      <td>Adventure</td>\n",
       "      <td>0.00</td>\n",
       "      <td>0.00</td>\n",
       "      <td>0.01</td>\n",
       "      <td>0.00</td>\n",
       "      <td>NaN</td>\n",
       "      <td>NaN</td>\n",
       "      <td>unknown</td>\n",
       "      <td>0.01</td>\n",
       "      <td>NaN</td>\n",
       "    </tr>\n",
       "    <tr>\n",
       "      <td>16138</td>\n",
       "      <td>Winning Post 8 2016</td>\n",
       "      <td>PSV</td>\n",
       "      <td>2016</td>\n",
       "      <td>Simulation</td>\n",
       "      <td>0.00</td>\n",
       "      <td>0.00</td>\n",
       "      <td>0.01</td>\n",
       "      <td>0.00</td>\n",
       "      <td>NaN</td>\n",
       "      <td>NaN</td>\n",
       "      <td>unknown</td>\n",
       "      <td>0.01</td>\n",
       "      <td>NaN</td>\n",
       "    </tr>\n",
       "  </tbody>\n",
       "</table>\n",
       "<p>1689 rows × 13 columns</p>\n",
       "</div>"
      ],
      "text/plain": [
       "                                            name platform  year_of_release  \\\n",
       "23                     Call of Duty: Black Ops 3      PS4             2015   \n",
       "34                            Grand Theft Auto V      PS4             2014   \n",
       "39     Pokemon Omega Ruby/Pokemon Alpha Sapphire      3DS             2014   \n",
       "68                                       FIFA 16      PS4             2015   \n",
       "78                  Star Wars Battlefront (2015)      PS4             2015   \n",
       "...                                          ...      ...              ...   \n",
       "16127                           Strawberry Nauts      PSV             2016   \n",
       "16131                           Aiyoku no Eustia      PSV             2014   \n",
       "16134              Samurai Warriors: Sanada Maru      PS3             2016   \n",
       "16136                    Haitaka no Psychedelica      PSV             2016   \n",
       "16138                        Winning Post 8 2016      PSV             2016   \n",
       "\n",
       "              genre  na_sales  eu_sales  jp_sales  other_sales  critic_score  \\\n",
       "23          Shooter      6.03      5.86      0.36         2.38           NaN   \n",
       "34           Action      3.96      6.31      0.38         1.97           9.7   \n",
       "39     Role-Playing      4.35      3.49      3.10         0.74           NaN   \n",
       "68           Sports      1.12      6.12      0.06         1.28           8.2   \n",
       "78          Shooter      2.99      3.49      0.22         1.28           NaN   \n",
       "...             ...       ...       ...       ...          ...           ...   \n",
       "16127     Adventure      0.00      0.00      0.01         0.00           NaN   \n",
       "16131          Misc      0.00      0.00      0.01         0.00           NaN   \n",
       "16134        Action      0.00      0.00      0.01         0.00           NaN   \n",
       "16136     Adventure      0.00      0.00      0.01         0.00           NaN   \n",
       "16138    Simulation      0.00      0.00      0.01         0.00           NaN   \n",
       "\n",
       "       user_score   rating  total_sale  mean_rating  \n",
       "23            NaN  unknown       14.63          NaN  \n",
       "34            8.3        M       12.62         9.00  \n",
       "39            NaN  unknown       11.68          NaN  \n",
       "68            4.3        E        8.58         6.25  \n",
       "78            NaN  unknown        7.98          NaN  \n",
       "...           ...      ...         ...          ...  \n",
       "16127         NaN  unknown        0.01          NaN  \n",
       "16131         NaN  unknown        0.01          NaN  \n",
       "16134         NaN  unknown        0.01          NaN  \n",
       "16136         NaN  unknown        0.01          NaN  \n",
       "16138         NaN  unknown        0.01          NaN  \n",
       "\n",
       "[1689 rows x 13 columns]"
      ]
     },
     "execution_count": 68,
     "metadata": {},
     "output_type": "execute_result"
    }
   ],
   "source": [
    "leader_game_platforms_sale['mean_rating'] = (leader_game_platforms_sale['critic_score'] + leader_game_platforms_sale['user_score'])/2\n",
    "\n",
    "leader_game_platforms_sale"
   ]
  },
  {
   "cell_type": "code",
   "execution_count": 69,
   "id": "d4c5df87",
   "metadata": {},
   "outputs": [
    {
     "data": {
      "text/html": [
       "<div>\n",
       "<style scoped>\n",
       "    .dataframe tbody tr th:only-of-type {\n",
       "        vertical-align: middle;\n",
       "    }\n",
       "\n",
       "    .dataframe tbody tr th {\n",
       "        vertical-align: top;\n",
       "    }\n",
       "\n",
       "    .dataframe thead th {\n",
       "        text-align: right;\n",
       "    }\n",
       "</style>\n",
       "<table border=\"1\" class=\"dataframe\">\n",
       "  <thead>\n",
       "    <tr style=\"text-align: right;\">\n",
       "      <th></th>\n",
       "      <th>genre</th>\n",
       "      <th>mean_rating</th>\n",
       "      <th>na_sales</th>\n",
       "    </tr>\n",
       "  </thead>\n",
       "  <tbody>\n",
       "    <tr>\n",
       "      <td>0</td>\n",
       "      <td>Shooter</td>\n",
       "      <td>7.087931</td>\n",
       "      <td>0.617344</td>\n",
       "    </tr>\n",
       "    <tr>\n",
       "      <td>1</td>\n",
       "      <td>Sports</td>\n",
       "      <td>6.368072</td>\n",
       "      <td>0.286522</td>\n",
       "    </tr>\n",
       "    <tr>\n",
       "      <td>2</td>\n",
       "      <td>Fighting</td>\n",
       "      <td>7.019355</td>\n",
       "      <td>0.207167</td>\n",
       "    </tr>\n",
       "    <tr>\n",
       "      <td>3</td>\n",
       "      <td>Platform</td>\n",
       "      <td>7.273077</td>\n",
       "      <td>0.178684</td>\n",
       "    </tr>\n",
       "    <tr>\n",
       "      <td>4</td>\n",
       "      <td>Role-Playing</td>\n",
       "      <td>7.403093</td>\n",
       "      <td>0.151448</td>\n",
       "    </tr>\n",
       "  </tbody>\n",
       "</table>\n",
       "</div>"
      ],
      "text/plain": [
       "          genre  mean_rating  na_sales\n",
       "0       Shooter     7.087931  0.617344\n",
       "1        Sports     6.368072  0.286522\n",
       "2      Fighting     7.019355  0.207167\n",
       "3      Platform     7.273077  0.178684\n",
       "4  Role-Playing     7.403093  0.151448"
      ]
     },
     "execution_count": 69,
     "metadata": {},
     "output_type": "execute_result"
    }
   ],
   "source": [
    "na_top_genres = leader_game_platforms_sale.pivot_table(index='genre', values= ['na_sales', 'mean_rating'], \n",
    "                                        aggfunc='mean').sort_values(by='na_sales', ascending=False).reset_index()\n",
    "\n",
    "na_top5_genres = na_top_genres.query('index<5')\n",
    "na_top5_genres                                    "
   ]
  },
  {
   "cell_type": "markdown",
   "id": "8d823e99",
   "metadata": {},
   "source": [
    "Строим сводную таблицу по топ 5 жанров популярных  в Европе."
   ]
  },
  {
   "cell_type": "code",
   "execution_count": 70,
   "id": "9be57a60",
   "metadata": {},
   "outputs": [
    {
     "data": {
      "text/html": [
       "<div>\n",
       "<style scoped>\n",
       "    .dataframe tbody tr th:only-of-type {\n",
       "        vertical-align: middle;\n",
       "    }\n",
       "\n",
       "    .dataframe tbody tr th {\n",
       "        vertical-align: top;\n",
       "    }\n",
       "\n",
       "    .dataframe thead th {\n",
       "        text-align: right;\n",
       "    }\n",
       "</style>\n",
       "<table border=\"1\" class=\"dataframe\">\n",
       "  <thead>\n",
       "    <tr style=\"text-align: right;\">\n",
       "      <th></th>\n",
       "      <th>genre</th>\n",
       "      <th>eu_sales</th>\n",
       "      <th>mean_rating</th>\n",
       "    </tr>\n",
       "  </thead>\n",
       "  <tbody>\n",
       "    <tr>\n",
       "      <td>0</td>\n",
       "      <td>Shooter</td>\n",
       "      <td>0.511875</td>\n",
       "      <td>7.087931</td>\n",
       "    </tr>\n",
       "    <tr>\n",
       "      <td>1</td>\n",
       "      <td>Sports</td>\n",
       "      <td>0.284037</td>\n",
       "      <td>6.368072</td>\n",
       "    </tr>\n",
       "    <tr>\n",
       "      <td>2</td>\n",
       "      <td>Racing</td>\n",
       "      <td>0.204783</td>\n",
       "      <td>6.811111</td>\n",
       "    </tr>\n",
       "    <tr>\n",
       "      <td>3</td>\n",
       "      <td>Platform</td>\n",
       "      <td>0.178947</td>\n",
       "      <td>7.273077</td>\n",
       "    </tr>\n",
       "    <tr>\n",
       "      <td>4</td>\n",
       "      <td>Simulation</td>\n",
       "      <td>0.165909</td>\n",
       "      <td>6.792500</td>\n",
       "    </tr>\n",
       "  </tbody>\n",
       "</table>\n",
       "</div>"
      ],
      "text/plain": [
       "        genre  eu_sales  mean_rating\n",
       "0     Shooter  0.511875     7.087931\n",
       "1      Sports  0.284037     6.368072\n",
       "2      Racing  0.204783     6.811111\n",
       "3    Platform  0.178947     7.273077\n",
       "4  Simulation  0.165909     6.792500"
      ]
     },
     "execution_count": 70,
     "metadata": {},
     "output_type": "execute_result"
    }
   ],
   "source": [
    "eu_top_genres = leader_game_platforms_sale.pivot_table(index='genre', values=['eu_sales','mean_rating'], \n",
    "                                        aggfunc='mean').sort_values(by='eu_sales', ascending=False).reset_index()\n",
    "\n",
    "\n",
    "eu_top5_genres = eu_top_genres.query('index<5')\n",
    "eu_top5_genres   "
   ]
  },
  {
   "cell_type": "markdown",
   "id": "cfc6fffc",
   "metadata": {},
   "source": [
    "Строим сводную таблицу по топ 5 популярных жанров в Японии."
   ]
  },
  {
   "cell_type": "code",
   "execution_count": 71,
   "id": "d1e74c1e",
   "metadata": {},
   "outputs": [
    {
     "data": {
      "text/html": [
       "<div>\n",
       "<style scoped>\n",
       "    .dataframe tbody tr th:only-of-type {\n",
       "        vertical-align: middle;\n",
       "    }\n",
       "\n",
       "    .dataframe tbody tr th {\n",
       "        vertical-align: top;\n",
       "    }\n",
       "\n",
       "    .dataframe thead th {\n",
       "        text-align: right;\n",
       "    }\n",
       "</style>\n",
       "<table border=\"1\" class=\"dataframe\">\n",
       "  <thead>\n",
       "    <tr style=\"text-align: right;\">\n",
       "      <th></th>\n",
       "      <th>genre</th>\n",
       "      <th>jp_sales</th>\n",
       "      <th>mean_rating</th>\n",
       "    </tr>\n",
       "  </thead>\n",
       "  <tbody>\n",
       "    <tr>\n",
       "      <td>0</td>\n",
       "      <td>Role-Playing</td>\n",
       "      <td>0.05</td>\n",
       "      <td>7.650</td>\n",
       "    </tr>\n",
       "    <tr>\n",
       "      <td>1</td>\n",
       "      <td>Fighting</td>\n",
       "      <td>0.03</td>\n",
       "      <td>7.050</td>\n",
       "    </tr>\n",
       "    <tr>\n",
       "      <td>2</td>\n",
       "      <td>Puzzle</td>\n",
       "      <td>0.03</td>\n",
       "      <td>7.800</td>\n",
       "    </tr>\n",
       "    <tr>\n",
       "      <td>3</td>\n",
       "      <td>Action</td>\n",
       "      <td>0.01</td>\n",
       "      <td>7.150</td>\n",
       "    </tr>\n",
       "    <tr>\n",
       "      <td>4</td>\n",
       "      <td>Adventure</td>\n",
       "      <td>0.01</td>\n",
       "      <td>7.575</td>\n",
       "    </tr>\n",
       "  </tbody>\n",
       "</table>\n",
       "</div>"
      ],
      "text/plain": [
       "          genre  jp_sales  mean_rating\n",
       "0  Role-Playing      0.05        7.650\n",
       "1      Fighting      0.03        7.050\n",
       "2        Puzzle      0.03        7.800\n",
       "3        Action      0.01        7.150\n",
       "4     Adventure      0.01        7.575"
      ]
     },
     "execution_count": 71,
     "metadata": {},
     "output_type": "execute_result"
    }
   ],
   "source": [
    "jp_top_genres = leader_game_platforms_sale.pivot_table(index='genre', values=['jp_sales', 'mean_rating'], \n",
    "                                        aggfunc='median').sort_values(by='jp_sales', ascending=False).reset_index()\n",
    "jp_top5_genres = jp_top_genres.query('index<5')\n",
    "jp_top5_genres   "
   ]
  },
  {
   "cell_type": "markdown",
   "id": "3b49e332",
   "metadata": {},
   "source": [
    "Самыми популярными игровыми жанрами  в Северной Америке являются: Shooter, Platform, Fighting.\t  \n",
    " \n",
    "Европе популярными игровыми жанрами являются: Shooter, Sport, Racing.\n",
    "\n",
    "В Японии популярными игровыми жанрами является: Role-Playing, Fighting, Puzzle."
   ]
  },
  {
   "cell_type": "markdown",
   "id": "1971824c",
   "metadata": {},
   "source": [
    "Строим сводную таблицу  по рейтингу игр и продажам по регионам"
   ]
  },
  {
   "cell_type": "code",
   "execution_count": 72,
   "id": "4f27a825",
   "metadata": {},
   "outputs": [
    {
     "data": {
      "text/html": [
       "<div>\n",
       "<style scoped>\n",
       "    .dataframe tbody tr th:only-of-type {\n",
       "        vertical-align: middle;\n",
       "    }\n",
       "\n",
       "    .dataframe tbody tr th {\n",
       "        vertical-align: top;\n",
       "    }\n",
       "\n",
       "    .dataframe thead th {\n",
       "        text-align: right;\n",
       "    }\n",
       "</style>\n",
       "<table border=\"1\" class=\"dataframe\">\n",
       "  <thead>\n",
       "    <tr style=\"text-align: right;\">\n",
       "      <th></th>\n",
       "      <th>rating</th>\n",
       "      <th>europe</th>\n",
       "      <th>japan</th>\n",
       "      <th>nothern_america</th>\n",
       "    </tr>\n",
       "  </thead>\n",
       "  <tbody>\n",
       "    <tr>\n",
       "      <td>0</td>\n",
       "      <td>E</td>\n",
       "      <td>0.05</td>\n",
       "      <td>0.00</td>\n",
       "      <td>0.05</td>\n",
       "    </tr>\n",
       "    <tr>\n",
       "      <td>1</td>\n",
       "      <td>E10+</td>\n",
       "      <td>0.09</td>\n",
       "      <td>0.00</td>\n",
       "      <td>0.10</td>\n",
       "    </tr>\n",
       "    <tr>\n",
       "      <td>2</td>\n",
       "      <td>M</td>\n",
       "      <td>0.12</td>\n",
       "      <td>0.00</td>\n",
       "      <td>0.12</td>\n",
       "    </tr>\n",
       "    <tr>\n",
       "      <td>3</td>\n",
       "      <td>T</td>\n",
       "      <td>0.04</td>\n",
       "      <td>0.01</td>\n",
       "      <td>0.03</td>\n",
       "    </tr>\n",
       "    <tr>\n",
       "      <td>4</td>\n",
       "      <td>unknown</td>\n",
       "      <td>0.00</td>\n",
       "      <td>0.02</td>\n",
       "      <td>0.00</td>\n",
       "    </tr>\n",
       "  </tbody>\n",
       "</table>\n",
       "</div>"
      ],
      "text/plain": [
       "    rating  europe  japan  nothern_america\n",
       "0        E    0.05   0.00             0.05\n",
       "1     E10+    0.09   0.00             0.10\n",
       "2        M    0.12   0.00             0.12\n",
       "3        T    0.04   0.01             0.03\n",
       "4  unknown    0.00   0.02             0.00"
      ]
     },
     "execution_count": 72,
     "metadata": {},
     "output_type": "execute_result"
    }
   ],
   "source": [
    "rating_per_region = leader_game_platforms_sale.pivot_table(index='rating', values=['na_sales','eu_sales', 'jp_sales'], aggfunc='median').reset_index()\n",
    "rating_per_region.rename(columns={'eu_sales': 'europe', 'jp_sales': 'japan', 'na_sales':'nothern_america'}, inplace=True)   \n",
    "rating_per_region\n",
    "\n"
   ]
  },
  {
   "cell_type": "code",
   "execution_count": null,
   "id": "c8bce632",
   "metadata": {},
   "outputs": [],
   "source": []
  },
  {
   "cell_type": "markdown",
   "id": "72f194eb",
   "metadata": {},
   "source": [
    "Строим диаграмы продаж в Северной Америке по ретингам"
   ]
  },
  {
   "cell_type": "code",
   "execution_count": 73,
   "id": "19092ab4",
   "metadata": {},
   "outputs": [
    {
     "data": {
      "image/png": "[encoded data removed]",
      "text/plain": [
       "<Figure size 432x288 with 1 Axes>"
      ]
     },
     "metadata": {
      "needs_background": "light"
     },
     "output_type": "display_data"
    }
   ],
   "source": [
    "fig = plt.figure()\n",
    "\n",
    "sns.barplot(data=rating_per_region, x=\"rating\", y=\"nothern_america\")\n",
    "\n",
    "plt.show()"
   ]
  },
  {
   "cell_type": "markdown",
   "id": "a76a02ae",
   "metadata": {},
   "source": [
    "В Северной Америке больше всего продается игр рейтингов: М, E10+. "
   ]
  },
  {
   "cell_type": "code",
   "execution_count": 74,
   "id": "baaaaa4b",
   "metadata": {},
   "outputs": [
    {
     "data": {
      "image/png": "[encoded data removed]",
      "text/plain": [
       "<Figure size 432x288 with 1 Axes>"
      ]
     },
     "metadata": {
      "needs_background": "light"
     },
     "output_type": "display_data"
    }
   ],
   "source": [
    "fig = plt.figure()\n",
    "\n",
    "sns.barplot(data=rating_per_region, x=\"rating\", y=\"europe\" )\n",
    "plt.show()"
   ]
  },
  {
   "cell_type": "markdown",
   "id": "b561f557",
   "metadata": {},
   "source": [
    "В Европе самыми популярными рейтингами игр являются: M, E10+"
   ]
  },
  {
   "cell_type": "code",
   "execution_count": 76,
   "id": "d2c8b09b",
   "metadata": {},
   "outputs": [
    {
     "data": {
      "image/png": "[encoded data removed]",
      "text/plain": [
       "<Figure size 432x288 with 1 Axes>"
      ]
     },
     "metadata": {
      "needs_background": "light"
     },
     "output_type": "display_data"
    }
   ],
   "source": [
    "fig = plt.figure()\n",
    "\n",
    "sns.barplot(data=rating_per_region, x=\"rating\", y=\"japan\")\n",
    "plt.show()"
   ]
  },
  {
   "cell_type": "markdown",
   "id": "dbd0f4df",
   "metadata": {},
   "source": [
    "В Японии самые популярные игры с неопределенным жанром"
   ]
  },
  {
   "cell_type": "code",
   "execution_count": 77,
   "id": "4fc212bf",
   "metadata": {},
   "outputs": [
    {
     "data": {
      "image/png": "[encoded data removed]",
      "text/plain": [
       "<Figure size 432x288 with 1 Axes>"
      ]
     },
     "metadata": {
      "needs_background": "light"
     },
     "output_type": "display_data"
    }
   ],
   "source": [
    "fig = plt.figure()\n",
    "\n",
    "sns.barplot(data=rating_per_region, x=\"rating\", y=\"europe\" )\n",
    "plt.show()"
   ]
  },
  {
   "cell_type": "markdown",
   "id": "de8800b5",
   "metadata": {},
   "source": [
    "В Европе самыми популярными играми являются с рейтингами: Т и популярны игры с неопределенным жанром"
   ]
  },
  {
   "cell_type": "markdown",
   "id": "0ecd70b8",
   "metadata": {},
   "source": [
    "Европа и Америка  спохожи в своих предпонинях. \n",
    "\n",
    "В Японии самые популярные игры неопределенным жанром"
   ]
  },
  {
   "cell_type": "markdown",
   "id": "d14129a2",
   "metadata": {},
   "source": [
    "<b><p style=\"font-size: 20px;\"> Проверка гипотезы</p></b>"
   ]
  },
  {
   "cell_type": "markdown",
   "id": "32a8eabd",
   "metadata": {},
   "source": [
    "Формулируем нулевую гипотезу: Средние пользовательские рейтинги платформ Xbox One и PC одинаковые\n",
    "    "
   ]
  },
  {
   "cell_type": "markdown",
   "id": "b12c21d0",
   "metadata": {},
   "source": [
    "Формулируем альтернативную гипотезу: Средние пользовательские рейтинги платформ Xbox One и PC неодинаковые"
   ]
  },
  {
   "cell_type": "code",
   "execution_count": 80,
   "id": "c527933c",
   "metadata": {},
   "outputs": [],
   "source": [
    "\n",
    "current_platform.dropna(subset = ['user_score'],inplace = True)\n",
    "x_one_platform = current_platform.query('platform == \"XOne\"')\n",
    "x_one_platform= x_one_platform['user_score']\n",
    "pc_platform = current_platform.query('platform == \"PC\"')\n",
    "pc_platform= pc_platform['user_score']\n",
    "\n"
   ]
  },
  {
   "cell_type": "code",
   "execution_count": 81,
   "id": "84a21250",
   "metadata": {},
   "outputs": [
    {
     "name": "stdout",
     "output_type": "stream",
     "text": [
      "p-значение: 0.10451\n",
      "Не получилось отвергнуть нулевую гипотезу\n"
     ]
    }
   ],
   "source": [
    "\n",
    "alpha = .05 # критический уровень статистической значимости\n",
    "# если p-value окажется меньше него - отвегнем гипотезу\n",
    "\n",
    "results = st.ttest_ind(\n",
    "    x_one_platform, \n",
    "    pc_platform)\n",
    "\n",
    "print('p-значение: {:.5f}'.format(results.pvalue))\n",
    "\n",
    "if results.pvalue < alpha:\n",
    "    print(\"Отвергаем нулевую гипотезу\")\n",
    "else:\n",
    "    print(\"Не получилось отвергнуть нулевую гипотезу\")  "
   ]
  },
  {
   "cell_type": "markdown",
   "id": "9b54aadf",
   "metadata": {},
   "source": [
    "исходя из значения p-value можно сделать вывод - Средние пользовательские рейтинги платформ Xbox One и PC неодинаковые"
   ]
  },
  {
   "cell_type": "markdown",
   "id": "1572ac07",
   "metadata": {},
   "source": [
    "Формулируем нулевую гипотезу: Средние пользовательские рейтинги жанров Action и Sports одинаковые."
   ]
  },
  {
   "cell_type": "markdown",
   "id": "afdb29eb",
   "metadata": {},
   "source": [
    "Формулируем альтернативную гипотезу: Средние пользовательские рейтинги жанров Action и Sports  не одинаковые."
   ]
  },
  {
   "cell_type": "code",
   "execution_count": 83,
   "id": "74f6a067",
   "metadata": {},
   "outputs": [],
   "source": [
    "mean_top_genres_Action = current_platform.query('genre == \"Action\"')\n",
    "mean_top_genres_Action = mean_top_genres_Action['user_score']\n",
    "mean_top_genres_Sports = current_platform.query('genre == \"Sports\"')\n",
    "mean_top_genres_Sports = mean_top_genres_Sports['user_score']\n"
   ]
  },
  {
   "cell_type": "code",
   "execution_count": 84,
   "id": "81111e4c",
   "metadata": {},
   "outputs": [
    {
     "name": "stdout",
     "output_type": "stream",
     "text": [
      "p-значение: 0.00000\n",
      "Отвергаем нулевую гипотезу\n"
     ]
    }
   ],
   "source": [
    "alpha = .05 # критический уровень статистической значимости\n",
    "# если p-value окажется меньше него - отвегнем гипотезу\n",
    "\n",
    "results = st.ttest_ind(\n",
    "    mean_top_genres_Action, \n",
    "    mean_top_genres_Sports)\n",
    "\n",
    "print('p-значение: {:.5f}' .format(results.pvalue))\n",
    "\n",
    "if results.pvalue < alpha:\n",
    "    print(\"Отвергаем нулевую гипотезу\")\n",
    "else:\n",
    "    print(\"Не получилось отвергнуть нулевую гипотезу\") "
   ]
  },
  {
   "cell_type": "markdown",
   "id": "0b926db4",
   "metadata": {},
   "source": [
    "исходя из значения p-value можно сделать вывод - Средние пользовательские рейтинги жанров Action и Sports не одинаковые."
   ]
  },
  {
   "cell_type": "markdown",
   "id": "fce9d8f0",
   "metadata": {},
   "source": [
    "<b><p style=\"font-size: 20px;\"> Выводы</p></b>"
   ]
  },
  {
   "cell_type": "markdown",
   "id": "93c4ff04",
   "metadata": {},
   "source": [
    "При анализе предоставленных данных были изучены предпочтения игроков для выявления потенциально популярных продуктов и спланировать рекламные кампании.\n",
    "\n",
    "Были изучены данные из датасета. Названия столбцов были приведены к нижнему регистру.\n",
    "Были определены пустые значения в датасете.\n",
    "в столбце 'user score' было найденозначение 'tbd'.\n",
    "Аббревиатура 'tbd' означает, что на момент выгрузки датафрейма рейтинг не был определен. соответственно его имеет смысл заполнить пропусками, тк строки с этим значением превышают 10% от датафрейма - удалять их не стоит, что позволит в дальнейшем проводить корректный анализ\n",
    "\n",
    "тк тип данных в 'user score' - не численный, по этому переводим в цифровой фармат.\n",
    "Добавляем новый столбец 'total_sale' и считаем общие продажи по каждой игре.\n",
    "Выяляем нулевые значения в столбце 'year_of_release'. И исключаем их из датасета, тк эти игры могут быть еще не выпущены в релиз.\n",
    "\n",
    "Строим график, в котором отображаем жизненный цикл игровых платформ .\n",
    "\n",
    "на диаграммме видно платформа 2600 была самая первая платформа. Просуществовала чуть менее 10 лет. У большинства платформ заканчивается жизненный цикл, так как на этих платформах выускается все меньше и меньше игр. Самая актуальная платформа - РS4 так как все больше и больше игр начинают выпускать для этой платформе \n",
    "Выбираем актуальный период для игровых платформ - все платформы дя которых выпускаются игры на2016 год.\n",
    "\n",
    "Выявляем самые прибыльные платформы: X360, PS3, Wii\n",
    "\n",
    "Строим график Распределение по глобальным продажам в разбивке по платформам. На графике видно для каких платформ было больше всено продано игр. Самые погкпаемые игры для платформ: Wii, X360, PS3. меньше всего игр было куплено игр для платформ РС. Это говорит о том что игровые платформы получили бурный рост по сравнению с играми ля ПК.\n",
    "\n",
    "Определяем влияние оценок критиков и пользователей на объем продаж по 6 самым прибольным платформам.\n",
    "\n",
    "Определяем самые популярные жанры игр. Самые полулярные игры: экшен, шутеры и спортивные игры. не популярные - приключени, стратегии и пазлы.\n",
    "\n",
    "Определяем портрет  пользователя каждого региона.\n",
    "\n",
    "Платформа Х360 является самой популярной платформой в Северной Америке и воро по популярности в Европе. В Японии эта платформа не популярна\n",
    "\n",
    "Платформы Wii, PS3 является популярной во всех регионах.\n",
    "\n",
    "Самыми популярными платформами в Северной Америке и Европе являются: Экшн, Шутеры, Спорт. В Японии самой популярной платформой является ролевые игры, затем идут Экшн, и шутеры.\n",
    "\n",
    "Исходя из этого видно что самыми популярными жанрами в 3-х регионах являются Экшн и спорт.\n",
    "\n",
    "Определяем жанры самых популярных игр. Во всех регионах популярные игры имеют одинаковые рейтинги:  Е, М, Т.\n",
    "\n",
    "На этапе проверки гипотез мы сформулировали нулевые и альтернативные гипотизы.\n",
    "\n",
    "При проверке гипотиз использовал значение alpha =0.05 - критический уровень статистической значимости, тк выборка позволяет использовать менее строгий уровень значимости.\n",
    "\n",
    "Формулируем  первую нулевую гипотезу: Средние пользовательские рейтинги платформ Xbox One и PC одинаковые\n",
    "\n",
    "Формулируем первую альтернативную гипотезу: Средние пользовательские рейтинги платформ Xbox One и PC неодинаковые\n",
    "\n",
    "p-значение: 0.00001\n",
    "\n",
    "Отвергаем нулевую гипотезу\n",
    "\n",
    "исходя из значения p-value можно сделать вывод - Средние пользовательские рейтинги платформ Xbox One и PC неодинаковые\n",
    "\n",
    "\n",
    "Формулируем вторую нулевую гипотезу: Средние пользовательские рейтинги жанров Action и Sports одинаковые.\n",
    "\n",
    "Формулируем вторую альтернативную гипотезу: Средние пользовательские рейтинги жанров Action и Sports не одинаковые.\n",
    "\n",
    "p-значение: 0.04477\n",
    "\n",
    "Отвергаем нулевую гипотезу\n",
    "\n",
    "исходя из значения p-value можно сделать вывод - Средние пользовательские рейтинги жанров Action и Sports не одинаковые."
   ]
  }
 ],
 "metadata": {
  "ExecuteTimeLog": [
   {
    "duration": 1472,
    "start_time": "2022-03-07T16:48:22.969Z"
   },
   {
    "duration": 1735,
    "start_time": "2022-03-07T16:48:24.444Z"
   },
   {
    "duration": -42,
    "start_time": "2022-03-07T16:48:26.228Z"
   },
   {
    "duration": -51,
    "start_time": "2022-03-07T16:48:26.238Z"
   },
   {
    "duration": -56,
    "start_time": "2022-03-07T16:48:26.244Z"
   },
   {
    "duration": -62,
    "start_time": "2022-03-07T16:48:26.251Z"
   },
   {
    "duration": -66,
    "start_time": "2022-03-07T16:48:26.257Z"
   },
   {
    "duration": -72,
    "start_time": "2022-03-07T16:48:26.264Z"
   },
   {
    "duration": -89,
    "start_time": "2022-03-07T16:48:26.282Z"
   },
   {
    "duration": -95,
    "start_time": "2022-03-07T16:48:26.289Z"
   },
   {
    "duration": -98,
    "start_time": "2022-03-07T16:48:26.293Z"
   },
   {
    "duration": -101,
    "start_time": "2022-03-07T16:48:26.298Z"
   },
   {
    "duration": -104,
    "start_time": "2022-03-07T16:48:26.302Z"
   },
   {
    "duration": -108,
    "start_time": "2022-03-07T16:48:26.307Z"
   },
   {
    "duration": -110,
    "start_time": "2022-03-07T16:48:26.310Z"
   },
   {
    "duration": -113,
    "start_time": "2022-03-07T16:48:26.315Z"
   },
   {
    "duration": -116,
    "start_time": "2022-03-07T16:48:26.319Z"
   },
   {
    "duration": -120,
    "start_time": "2022-03-07T16:48:26.324Z"
   },
   {
    "duration": -123,
    "start_time": "2022-03-07T16:48:26.328Z"
   },
   {
    "duration": -127,
    "start_time": "2022-03-07T16:48:26.333Z"
   },
   {
    "duration": -130,
    "start_time": "2022-03-07T16:48:26.337Z"
   },
   {
    "duration": -132,
    "start_time": "2022-03-07T16:48:26.341Z"
   },
   {
    "duration": -134,
    "start_time": "2022-03-07T16:48:26.344Z"
   },
   {
    "duration": -137,
    "start_time": "2022-03-07T16:48:26.348Z"
   },
   {
    "duration": -140,
    "start_time": "2022-03-07T16:48:26.352Z"
   },
   {
    "duration": -143,
    "start_time": "2022-03-07T16:48:26.357Z"
   },
   {
    "duration": -147,
    "start_time": "2022-03-07T16:48:26.362Z"
   },
   {
    "duration": -159,
    "start_time": "2022-03-07T16:48:26.375Z"
   },
   {
    "duration": -164,
    "start_time": "2022-03-07T16:48:26.381Z"
   },
   {
    "duration": -169,
    "start_time": "2022-03-07T16:48:26.388Z"
   },
   {
    "duration": -172,
    "start_time": "2022-03-07T16:48:26.392Z"
   },
   {
    "duration": -176,
    "start_time": "2022-03-07T16:48:26.398Z"
   },
   {
    "duration": -180,
    "start_time": "2022-03-07T16:48:26.403Z"
   },
   {
    "duration": -184,
    "start_time": "2022-03-07T16:48:26.408Z"
   },
   {
    "duration": -186,
    "start_time": "2022-03-07T16:48:26.412Z"
   },
   {
    "duration": -189,
    "start_time": "2022-03-07T16:48:26.416Z"
   },
   {
    "duration": -191,
    "start_time": "2022-03-07T16:48:26.419Z"
   },
   {
    "duration": -195,
    "start_time": "2022-03-07T16:48:26.424Z"
   },
   {
    "duration": -140,
    "start_time": "2022-03-07T16:48:26.427Z"
   },
   {
    "duration": -142,
    "start_time": "2022-03-07T16:48:26.431Z"
   },
   {
    "duration": -145,
    "start_time": "2022-03-07T16:48:26.435Z"
   },
   {
    "duration": -148,
    "start_time": "2022-03-07T16:48:26.440Z"
   },
   {
    "duration": -150,
    "start_time": "2022-03-07T16:48:26.444Z"
   },
   {
    "duration": -164,
    "start_time": "2022-03-07T16:48:26.459Z"
   },
   {
    "duration": -222,
    "start_time": "2022-03-07T16:48:26.519Z"
   },
   {
    "duration": -225,
    "start_time": "2022-03-07T16:48:26.523Z"
   },
   {
    "duration": -239,
    "start_time": "2022-03-07T16:48:26.538Z"
   },
   {
    "duration": -242,
    "start_time": "2022-03-07T16:48:26.543Z"
   },
   {
    "duration": -245,
    "start_time": "2022-03-07T16:48:26.547Z"
   },
   {
    "duration": -249,
    "start_time": "2022-03-07T16:48:26.553Z"
   },
   {
    "duration": -261,
    "start_time": "2022-03-07T16:48:26.566Z"
   },
   {
    "duration": -267,
    "start_time": "2022-03-07T16:48:26.573Z"
   },
   {
    "duration": -270,
    "start_time": "2022-03-07T16:48:26.578Z"
   },
   {
    "duration": -292,
    "start_time": "2022-03-07T16:48:26.601Z"
   },
   {
    "duration": -296,
    "start_time": "2022-03-07T16:48:26.606Z"
   },
   {
    "duration": -301,
    "start_time": "2022-03-07T16:48:26.612Z"
   },
   {
    "duration": -311,
    "start_time": "2022-03-07T16:48:26.624Z"
   },
   {
    "duration": -315,
    "start_time": "2022-03-07T16:48:26.629Z"
   },
   {
    "duration": -354,
    "start_time": "2022-03-07T16:48:26.670Z"
   },
   {
    "duration": -431,
    "start_time": "2022-03-07T16:48:26.748Z"
   },
   {
    "duration": -476,
    "start_time": "2022-03-07T16:48:26.794Z"
   },
   {
    "duration": -498,
    "start_time": "2022-03-07T16:48:26.818Z"
   },
   {
    "duration": -501,
    "start_time": "2022-03-07T16:48:26.822Z"
   },
   {
    "duration": -503,
    "start_time": "2022-03-07T16:48:26.825Z"
   },
   {
    "duration": -506,
    "start_time": "2022-03-07T16:48:26.829Z"
   },
   {
    "duration": -509,
    "start_time": "2022-03-07T16:48:26.834Z"
   },
   {
    "duration": -512,
    "start_time": "2022-03-07T16:48:26.838Z"
   },
   {
    "duration": -452,
    "start_time": "2022-03-07T16:48:26.842Z"
   },
   {
    "duration": -453,
    "start_time": "2022-03-07T16:48:26.846Z"
   },
   {
    "duration": -455,
    "start_time": "2022-03-07T16:48:26.850Z"
   },
   {
    "duration": -457,
    "start_time": "2022-03-07T16:48:26.854Z"
   },
   {
    "duration": -459,
    "start_time": "2022-03-07T16:48:26.858Z"
   },
   {
    "duration": -461,
    "start_time": "2022-03-07T16:48:26.862Z"
   },
   {
    "duration": -463,
    "start_time": "2022-03-07T16:48:26.866Z"
   },
   {
    "duration": -464,
    "start_time": "2022-03-07T16:48:26.869Z"
   },
   {
    "duration": -466,
    "start_time": "2022-03-07T16:48:26.873Z"
   },
   {
    "duration": -468,
    "start_time": "2022-03-07T16:48:26.877Z"
   },
   {
    "duration": -470,
    "start_time": "2022-03-07T16:48:26.882Z"
   },
   {
    "duration": -471,
    "start_time": "2022-03-07T16:48:26.885Z"
   },
   {
    "duration": -473,
    "start_time": "2022-03-07T16:48:26.889Z"
   },
   {
    "duration": -474,
    "start_time": "2022-03-07T16:48:26.892Z"
   },
   {
    "duration": -476,
    "start_time": "2022-03-07T16:48:26.896Z"
   },
   {
    "duration": -413,
    "start_time": "2022-03-07T16:48:26.899Z"
   },
   {
    "duration": -416,
    "start_time": "2022-03-07T16:48:26.904Z"
   },
   {
    "duration": -423,
    "start_time": "2022-03-07T16:48:26.913Z"
   },
   {
    "duration": 75,
    "start_time": "2022-03-07T17:08:29.188Z"
   },
   {
    "duration": 4,
    "start_time": "2022-03-07T17:08:56.291Z"
   },
   {
    "duration": 43,
    "start_time": "2022-03-07T17:09:03.096Z"
   },
   {
    "duration": 42,
    "start_time": "2022-03-07T17:14:29.007Z"
   },
   {
    "duration": 22,
    "start_time": "2022-03-07T17:14:29.052Z"
   },
   {
    "duration": 22,
    "start_time": "2022-03-07T17:14:29.076Z"
   },
   {
    "duration": 4,
    "start_time": "2022-03-07T17:14:29.100Z"
   },
   {
    "duration": 20,
    "start_time": "2022-03-07T17:14:29.106Z"
   },
   {
    "duration": 7,
    "start_time": "2022-03-07T17:14:29.128Z"
   },
   {
    "duration": 10,
    "start_time": "2022-03-07T17:14:29.137Z"
   },
   {
    "duration": 6,
    "start_time": "2022-03-07T17:14:29.189Z"
   },
   {
    "duration": 8,
    "start_time": "2022-03-07T17:14:29.198Z"
   },
   {
    "duration": 13,
    "start_time": "2022-03-07T17:14:29.209Z"
   },
   {
    "duration": 67,
    "start_time": "2022-03-07T17:14:29.225Z"
   },
   {
    "duration": 8,
    "start_time": "2022-03-07T17:14:29.295Z"
   },
   {
    "duration": 14,
    "start_time": "2022-03-07T17:14:29.305Z"
   },
   {
    "duration": 12,
    "start_time": "2022-03-07T17:14:29.321Z"
   },
   {
    "duration": 54,
    "start_time": "2022-03-07T17:14:29.336Z"
   },
   {
    "duration": 11,
    "start_time": "2022-03-07T17:14:29.393Z"
   },
   {
    "duration": 9,
    "start_time": "2022-03-07T17:14:29.406Z"
   },
   {
    "duration": 14,
    "start_time": "2022-03-07T17:14:29.418Z"
   },
   {
    "duration": 22,
    "start_time": "2022-03-07T17:14:29.435Z"
   },
   {
    "duration": 7,
    "start_time": "2022-03-07T17:14:29.488Z"
   },
   {
    "duration": 14,
    "start_time": "2022-03-07T17:14:29.498Z"
   },
   {
    "duration": 9,
    "start_time": "2022-03-07T17:14:29.515Z"
   },
   {
    "duration": 14,
    "start_time": "2022-03-07T17:14:29.530Z"
   },
   {
    "duration": 42,
    "start_time": "2022-03-07T17:14:29.549Z"
   },
   {
    "duration": 18,
    "start_time": "2022-03-07T17:14:29.594Z"
   },
   {
    "duration": 13,
    "start_time": "2022-03-07T17:14:29.614Z"
   },
   {
    "duration": 11,
    "start_time": "2022-03-07T17:14:29.630Z"
   },
   {
    "duration": 67,
    "start_time": "2022-03-07T17:14:29.643Z"
   },
   {
    "duration": 1532,
    "start_time": "2022-03-07T17:14:29.713Z"
   },
   {
    "duration": 60,
    "start_time": "2022-03-07T17:14:31.248Z"
   },
   {
    "duration": 13,
    "start_time": "2022-03-07T17:14:31.311Z"
   },
   {
    "duration": 64,
    "start_time": "2022-03-07T17:14:31.327Z"
   },
   {
    "duration": 18,
    "start_time": "2022-03-07T17:14:31.393Z"
   },
   {
    "duration": 83,
    "start_time": "2022-03-07T17:14:31.413Z"
   },
   {
    "duration": 30,
    "start_time": "2022-03-07T17:14:31.498Z"
   },
   {
    "duration": 73,
    "start_time": "2022-03-07T17:14:31.530Z"
   },
   {
    "duration": 12,
    "start_time": "2022-03-07T17:14:31.605Z"
   },
   {
    "duration": 44,
    "start_time": "2022-03-07T17:14:31.619Z"
   },
   {
    "duration": 34,
    "start_time": "2022-03-07T17:14:31.665Z"
   },
   {
    "duration": 566,
    "start_time": "2022-03-07T17:14:31.702Z"
   },
   {
    "duration": 38,
    "start_time": "2022-03-07T17:14:32.270Z"
   },
   {
    "duration": 903,
    "start_time": "2022-03-07T17:14:32.310Z"
   },
   {
    "duration": 6,
    "start_time": "2022-03-07T17:14:33.215Z"
   },
   {
    "duration": 19,
    "start_time": "2022-03-07T17:14:33.224Z"
   },
   {
    "duration": 799,
    "start_time": "2022-03-07T17:14:33.246Z"
   },
   {
    "duration": 7,
    "start_time": "2022-03-07T17:14:34.048Z"
   },
   {
    "duration": 36,
    "start_time": "2022-03-07T17:14:34.057Z"
   },
   {
    "duration": 700,
    "start_time": "2022-03-07T17:14:34.095Z"
   },
   {
    "duration": 7,
    "start_time": "2022-03-07T17:14:34.797Z"
   },
   {
    "duration": 19,
    "start_time": "2022-03-07T17:14:34.807Z"
   },
   {
    "duration": 782,
    "start_time": "2022-03-07T17:14:34.829Z"
   },
   {
    "duration": 7,
    "start_time": "2022-03-07T17:14:35.613Z"
   },
   {
    "duration": 37,
    "start_time": "2022-03-07T17:14:35.622Z"
   },
   {
    "duration": 858,
    "start_time": "2022-03-07T17:14:35.661Z"
   },
   {
    "duration": 7,
    "start_time": "2022-03-07T17:14:36.521Z"
   },
   {
    "duration": 23,
    "start_time": "2022-03-07T17:14:36.530Z"
   },
   {
    "duration": 741,
    "start_time": "2022-03-07T17:14:36.556Z"
   },
   {
    "duration": 7,
    "start_time": "2022-03-07T17:14:37.299Z"
   },
   {
    "duration": 19,
    "start_time": "2022-03-07T17:14:37.308Z"
   },
   {
    "duration": 797,
    "start_time": "2022-03-07T17:14:37.330Z"
   },
   {
    "duration": 8,
    "start_time": "2022-03-07T17:14:38.129Z"
   },
   {
    "duration": 22,
    "start_time": "2022-03-07T17:14:38.139Z"
   },
   {
    "duration": 34,
    "start_time": "2022-03-07T17:14:38.163Z"
   },
   {
    "duration": 11,
    "start_time": "2022-03-07T17:14:38.199Z"
   },
   {
    "duration": 16,
    "start_time": "2022-03-07T17:14:38.213Z"
   },
   {
    "duration": 16,
    "start_time": "2022-03-07T17:14:38.232Z"
   },
   {
    "duration": 48,
    "start_time": "2022-03-07T17:14:38.251Z"
   },
   {
    "duration": 15,
    "start_time": "2022-03-07T17:14:38.308Z"
   },
   {
    "duration": 17,
    "start_time": "2022-03-07T17:14:38.327Z"
   },
   {
    "duration": 51,
    "start_time": "2022-03-07T17:14:38.346Z"
   },
   {
    "duration": 17,
    "start_time": "2022-03-07T17:14:38.400Z"
   },
   {
    "duration": 68,
    "start_time": "2022-03-07T17:14:38.419Z"
   },
   {
    "duration": 23,
    "start_time": "2022-03-07T17:14:38.490Z"
   },
   {
    "duration": 25,
    "start_time": "2022-03-07T17:14:38.515Z"
   },
   {
    "duration": 53,
    "start_time": "2022-03-07T17:14:38.543Z"
   },
   {
    "duration": 27,
    "start_time": "2022-03-07T17:14:38.599Z"
   },
   {
    "duration": 374,
    "start_time": "2022-03-07T17:14:38.629Z"
   },
   {
    "duration": -37,
    "start_time": "2022-03-07T17:14:39.044Z"
   },
   {
    "duration": -39,
    "start_time": "2022-03-07T17:14:39.048Z"
   },
   {
    "duration": -44,
    "start_time": "2022-03-07T17:14:39.055Z"
   },
   {
    "duration": -46,
    "start_time": "2022-03-07T17:14:39.060Z"
   },
   {
    "duration": -48,
    "start_time": "2022-03-07T17:14:39.064Z"
   },
   {
    "duration": -52,
    "start_time": "2022-03-07T17:14:39.070Z"
   },
   {
    "duration": 4,
    "start_time": "2022-03-07T18:48:46.623Z"
   },
   {
    "duration": 894,
    "start_time": "2022-03-07T18:48:50.363Z"
   },
   {
    "duration": 1523,
    "start_time": "2022-03-07T18:49:28.042Z"
   },
   {
    "duration": 3,
    "start_time": "2022-03-07T18:49:29.567Z"
   },
   {
    "duration": 59,
    "start_time": "2022-03-07T18:49:29.573Z"
   },
   {
    "duration": 23,
    "start_time": "2022-03-07T18:49:29.635Z"
   },
   {
    "duration": 28,
    "start_time": "2022-03-07T18:49:29.660Z"
   },
   {
    "duration": 3,
    "start_time": "2022-03-07T18:49:29.691Z"
   },
   {
    "duration": 30,
    "start_time": "2022-03-07T18:49:29.697Z"
   },
   {
    "duration": 6,
    "start_time": "2022-03-07T18:49:29.729Z"
   },
   {
    "duration": 5,
    "start_time": "2022-03-07T18:49:29.740Z"
   },
   {
    "duration": 39,
    "start_time": "2022-03-07T18:49:29.748Z"
   },
   {
    "duration": 6,
    "start_time": "2022-03-07T18:49:29.789Z"
   },
   {
    "duration": 18,
    "start_time": "2022-03-07T18:49:29.798Z"
   },
   {
    "duration": 30,
    "start_time": "2022-03-07T18:49:29.818Z"
   },
   {
    "duration": 9,
    "start_time": "2022-03-07T18:49:29.851Z"
   },
   {
    "duration": 12,
    "start_time": "2022-03-07T18:49:29.888Z"
   },
   {
    "duration": 11,
    "start_time": "2022-03-07T18:49:29.902Z"
   },
   {
    "duration": 4,
    "start_time": "2022-03-07T18:49:29.916Z"
   },
   {
    "duration": 6,
    "start_time": "2022-03-07T18:49:29.922Z"
   },
   {
    "duration": 7,
    "start_time": "2022-03-07T18:49:29.932Z"
   },
   {
    "duration": 48,
    "start_time": "2022-03-07T18:49:29.941Z"
   },
   {
    "duration": 19,
    "start_time": "2022-03-07T18:49:29.992Z"
   },
   {
    "duration": 17,
    "start_time": "2022-03-07T18:49:30.013Z"
   },
   {
    "duration": 15,
    "start_time": "2022-03-07T18:49:30.033Z"
   },
   {
    "duration": 7,
    "start_time": "2022-03-07T18:49:30.051Z"
   },
   {
    "duration": 40,
    "start_time": "2022-03-07T18:49:30.060Z"
   },
   {
    "duration": 6,
    "start_time": "2022-03-07T18:49:30.102Z"
   },
   {
    "duration": 7,
    "start_time": "2022-03-07T18:49:30.117Z"
   },
   {
    "duration": 12,
    "start_time": "2022-03-07T18:49:30.129Z"
   },
   {
    "duration": 45,
    "start_time": "2022-03-07T18:49:30.143Z"
   },
   {
    "duration": 34,
    "start_time": "2022-03-07T18:49:30.191Z"
   },
   {
    "duration": 1490,
    "start_time": "2022-03-07T18:49:30.228Z"
   },
   {
    "duration": 80,
    "start_time": "2022-03-07T18:49:31.720Z"
   },
   {
    "duration": 13,
    "start_time": "2022-03-07T18:49:31.803Z"
   },
   {
    "duration": 16,
    "start_time": "2022-03-07T18:49:31.818Z"
   },
   {
    "duration": 14,
    "start_time": "2022-03-07T18:49:31.887Z"
   },
   {
    "duration": 86,
    "start_time": "2022-03-07T18:49:31.903Z"
   },
   {
    "duration": 27,
    "start_time": "2022-03-07T18:49:31.991Z"
   },
   {
    "duration": 24,
    "start_time": "2022-03-07T18:49:32.020Z"
   },
   {
    "duration": 49,
    "start_time": "2022-03-07T18:49:32.047Z"
   },
   {
    "duration": 38,
    "start_time": "2022-03-07T18:49:32.098Z"
   },
   {
    "duration": 16,
    "start_time": "2022-03-07T18:49:32.138Z"
   },
   {
    "duration": 584,
    "start_time": "2022-03-07T18:49:32.156Z"
   },
   {
    "duration": 45,
    "start_time": "2022-03-07T18:49:32.743Z"
   },
   {
    "duration": 746,
    "start_time": "2022-03-07T18:49:32.791Z"
   },
   {
    "duration": 6,
    "start_time": "2022-03-07T18:49:33.540Z"
   },
   {
    "duration": 19,
    "start_time": "2022-03-07T18:49:33.548Z"
   },
   {
    "duration": 793,
    "start_time": "2022-03-07T18:49:33.586Z"
   },
   {
    "duration": 8,
    "start_time": "2022-03-07T18:49:34.386Z"
   },
   {
    "duration": 28,
    "start_time": "2022-03-07T18:49:34.396Z"
   },
   {
    "duration": 876,
    "start_time": "2022-03-07T18:49:34.426Z"
   },
   {
    "duration": 7,
    "start_time": "2022-03-07T18:49:35.305Z"
   },
   {
    "duration": 27,
    "start_time": "2022-03-07T18:49:35.314Z"
   },
   {
    "duration": 818,
    "start_time": "2022-03-07T18:49:35.343Z"
   },
   {
    "duration": 6,
    "start_time": "2022-03-07T18:49:36.164Z"
   },
   {
    "duration": 19,
    "start_time": "2022-03-07T18:49:36.187Z"
   },
   {
    "duration": 818,
    "start_time": "2022-03-07T18:49:36.209Z"
   },
   {
    "duration": 6,
    "start_time": "2022-03-07T18:49:37.030Z"
   },
   {
    "duration": 23,
    "start_time": "2022-03-07T18:49:37.039Z"
   },
   {
    "duration": 814,
    "start_time": "2022-03-07T18:49:37.065Z"
   },
   {
    "duration": 8,
    "start_time": "2022-03-07T18:49:37.882Z"
   },
   {
    "duration": 20,
    "start_time": "2022-03-07T18:49:37.893Z"
   },
   {
    "duration": 999,
    "start_time": "2022-03-07T18:49:37.915Z"
   },
   {
    "duration": 7,
    "start_time": "2022-03-07T18:49:38.917Z"
   },
   {
    "duration": 26,
    "start_time": "2022-03-07T18:49:38.927Z"
   },
   {
    "duration": 40,
    "start_time": "2022-03-07T18:49:38.955Z"
   },
   {
    "duration": 12,
    "start_time": "2022-03-07T18:49:38.997Z"
   },
   {
    "duration": 15,
    "start_time": "2022-03-07T18:49:39.011Z"
   },
   {
    "duration": 17,
    "start_time": "2022-03-07T18:49:39.028Z"
   },
   {
    "duration": 41,
    "start_time": "2022-03-07T18:49:39.048Z"
   },
   {
    "duration": 17,
    "start_time": "2022-03-07T18:49:39.091Z"
   },
   {
    "duration": 15,
    "start_time": "2022-03-07T18:49:39.110Z"
   },
   {
    "duration": 16,
    "start_time": "2022-03-07T18:49:39.127Z"
   },
   {
    "duration": 52,
    "start_time": "2022-03-07T18:49:39.146Z"
   },
   {
    "duration": 34,
    "start_time": "2022-03-07T18:49:39.200Z"
   },
   {
    "duration": 50,
    "start_time": "2022-03-07T18:49:39.237Z"
   },
   {
    "duration": 24,
    "start_time": "2022-03-07T18:49:39.290Z"
   },
   {
    "duration": 26,
    "start_time": "2022-03-07T18:49:39.316Z"
   },
   {
    "duration": 58,
    "start_time": "2022-03-07T18:49:39.344Z"
   },
   {
    "duration": 510,
    "start_time": "2022-03-07T18:49:39.405Z"
   },
   {
    "duration": -636,
    "start_time": "2022-03-07T18:49:40.553Z"
   },
   {
    "duration": -645,
    "start_time": "2022-03-07T18:49:40.564Z"
   },
   {
    "duration": -654,
    "start_time": "2022-03-07T18:49:40.574Z"
   },
   {
    "duration": -657,
    "start_time": "2022-03-07T18:49:40.579Z"
   },
   {
    "duration": -660,
    "start_time": "2022-03-07T18:49:40.583Z"
   },
   {
    "duration": -664,
    "start_time": "2022-03-07T18:49:40.589Z"
   },
   {
    "duration": 252,
    "start_time": "2022-03-08T15:57:09.162Z"
   },
   {
    "duration": 1311,
    "start_time": "2022-03-08T15:57:18.407Z"
   },
   {
    "duration": 122,
    "start_time": "2022-03-08T15:57:19.720Z"
   },
   {
    "duration": 3,
    "start_time": "2022-03-08T15:57:19.844Z"
   },
   {
    "duration": 7,
    "start_time": "2022-03-08T15:57:19.849Z"
   },
   {
    "duration": 23,
    "start_time": "2022-03-08T15:57:19.858Z"
   },
   {
    "duration": 14,
    "start_time": "2022-03-08T15:57:19.883Z"
   },
   {
    "duration": 23,
    "start_time": "2022-03-08T15:57:19.899Z"
   },
   {
    "duration": 3,
    "start_time": "2022-03-08T15:57:19.925Z"
   },
   {
    "duration": 16,
    "start_time": "2022-03-08T15:57:19.930Z"
   },
   {
    "duration": 8,
    "start_time": "2022-03-08T15:57:19.948Z"
   },
   {
    "duration": 8,
    "start_time": "2022-03-08T15:57:19.958Z"
   },
   {
    "duration": 8,
    "start_time": "2022-03-08T15:57:19.968Z"
   },
   {
    "duration": 25,
    "start_time": "2022-03-08T15:57:19.978Z"
   },
   {
    "duration": 13,
    "start_time": "2022-03-08T15:57:20.005Z"
   },
   {
    "duration": 26,
    "start_time": "2022-03-08T15:57:20.020Z"
   },
   {
    "duration": 7,
    "start_time": "2022-03-08T15:57:20.048Z"
   },
   {
    "duration": 17,
    "start_time": "2022-03-08T15:57:20.057Z"
   },
   {
    "duration": 29,
    "start_time": "2022-03-08T15:57:20.076Z"
   },
   {
    "duration": 6,
    "start_time": "2022-03-08T15:57:20.108Z"
   },
   {
    "duration": 8,
    "start_time": "2022-03-08T15:57:20.115Z"
   },
   {
    "duration": 27,
    "start_time": "2022-03-08T15:57:20.124Z"
   },
   {
    "duration": 5,
    "start_time": "2022-03-08T15:57:20.153Z"
   },
   {
    "duration": 11,
    "start_time": "2022-03-08T15:57:20.162Z"
   },
   {
    "duration": 35,
    "start_time": "2022-03-08T15:57:20.176Z"
   },
   {
    "duration": 7,
    "start_time": "2022-03-08T15:57:20.213Z"
   },
   {
    "duration": 8,
    "start_time": "2022-03-08T15:57:20.222Z"
   },
   {
    "duration": 11,
    "start_time": "2022-03-08T15:57:20.232Z"
   },
   {
    "duration": 13,
    "start_time": "2022-03-08T15:57:20.245Z"
   },
   {
    "duration": 6,
    "start_time": "2022-03-08T15:57:20.260Z"
   },
   {
    "duration": 34,
    "start_time": "2022-03-08T15:57:20.268Z"
   },
   {
    "duration": 12,
    "start_time": "2022-03-08T15:57:20.304Z"
   },
   {
    "duration": 8,
    "start_time": "2022-03-08T15:57:20.318Z"
   },
   {
    "duration": 13,
    "start_time": "2022-03-08T15:57:20.328Z"
   },
   {
    "duration": 29,
    "start_time": "2022-03-08T15:57:20.342Z"
   },
   {
    "duration": 332,
    "start_time": "2022-03-08T15:57:20.373Z"
   },
   {
    "duration": 25,
    "start_time": "2022-03-08T15:57:20.707Z"
   },
   {
    "duration": 10,
    "start_time": "2022-03-08T15:57:20.734Z"
   },
   {
    "duration": 9,
    "start_time": "2022-03-08T15:57:20.746Z"
   },
   {
    "duration": 13,
    "start_time": "2022-03-08T15:57:20.757Z"
   },
   {
    "duration": 48,
    "start_time": "2022-03-08T15:57:20.772Z"
   },
   {
    "duration": 20,
    "start_time": "2022-03-08T15:57:20.821Z"
   },
   {
    "duration": 15,
    "start_time": "2022-03-08T15:57:20.842Z"
   },
   {
    "duration": 43,
    "start_time": "2022-03-08T15:57:20.858Z"
   },
   {
    "duration": 23,
    "start_time": "2022-03-08T15:57:20.903Z"
   },
   {
    "duration": 14,
    "start_time": "2022-03-08T15:57:20.928Z"
   },
   {
    "duration": 392,
    "start_time": "2022-03-08T15:57:20.945Z"
   },
   {
    "duration": 25,
    "start_time": "2022-03-08T15:57:21.339Z"
   },
   {
    "duration": 557,
    "start_time": "2022-03-08T15:57:21.366Z"
   },
   {
    "duration": 5,
    "start_time": "2022-03-08T15:57:21.925Z"
   },
   {
    "duration": 29,
    "start_time": "2022-03-08T15:57:21.932Z"
   },
   {
    "duration": 572,
    "start_time": "2022-03-08T15:57:21.963Z"
   },
   {
    "duration": 5,
    "start_time": "2022-03-08T15:57:22.537Z"
   },
   {
    "duration": 22,
    "start_time": "2022-03-08T15:57:22.544Z"
   },
   {
    "duration": 575,
    "start_time": "2022-03-08T15:57:22.568Z"
   },
   {
    "duration": 5,
    "start_time": "2022-03-08T15:57:23.145Z"
   },
   {
    "duration": 19,
    "start_time": "2022-03-08T15:57:23.152Z"
   },
   {
    "duration": 539,
    "start_time": "2022-03-08T15:57:23.173Z"
   },
   {
    "duration": 5,
    "start_time": "2022-03-08T15:57:23.714Z"
   },
   {
    "duration": 20,
    "start_time": "2022-03-08T15:57:23.721Z"
   },
   {
    "duration": 562,
    "start_time": "2022-03-08T15:57:23.744Z"
   },
   {
    "duration": 6,
    "start_time": "2022-03-08T15:57:24.308Z"
   },
   {
    "duration": 24,
    "start_time": "2022-03-08T15:57:24.315Z"
   },
   {
    "duration": 521,
    "start_time": "2022-03-08T15:57:24.341Z"
   },
   {
    "duration": 5,
    "start_time": "2022-03-08T15:57:24.865Z"
   },
   {
    "duration": 30,
    "start_time": "2022-03-08T15:57:24.872Z"
   },
   {
    "duration": 623,
    "start_time": "2022-03-08T15:57:24.904Z"
   },
   {
    "duration": 5,
    "start_time": "2022-03-08T15:57:25.529Z"
   },
   {
    "duration": 32,
    "start_time": "2022-03-08T15:57:25.539Z"
   },
   {
    "duration": 11,
    "start_time": "2022-03-08T15:57:25.574Z"
   },
   {
    "duration": 21,
    "start_time": "2022-03-08T15:57:25.587Z"
   },
   {
    "duration": 19,
    "start_time": "2022-03-08T15:57:25.610Z"
   },
   {
    "duration": 15,
    "start_time": "2022-03-08T15:57:25.630Z"
   },
   {
    "duration": 16,
    "start_time": "2022-03-08T15:57:25.647Z"
   },
   {
    "duration": 38,
    "start_time": "2022-03-08T15:57:25.665Z"
   },
   {
    "duration": 21,
    "start_time": "2022-03-08T15:57:25.704Z"
   },
   {
    "duration": 17,
    "start_time": "2022-03-08T15:57:25.727Z"
   },
   {
    "duration": 30,
    "start_time": "2022-03-08T15:57:25.746Z"
   },
   {
    "duration": 36,
    "start_time": "2022-03-08T15:57:25.778Z"
   },
   {
    "duration": 17,
    "start_time": "2022-03-08T15:57:25.815Z"
   },
   {
    "duration": 17,
    "start_time": "2022-03-08T15:57:25.834Z"
   },
   {
    "duration": 17,
    "start_time": "2022-03-08T15:57:25.853Z"
   },
   {
    "duration": 44,
    "start_time": "2022-03-08T15:57:25.872Z"
   },
   {
    "duration": 323,
    "start_time": "2022-03-08T15:57:25.918Z"
   },
   {
    "duration": 387,
    "start_time": "2022-03-08T15:57:25.857Z"
   },
   {
    "duration": 378,
    "start_time": "2022-03-08T15:57:25.867Z"
   },
   {
    "duration": 373,
    "start_time": "2022-03-08T15:57:25.874Z"
   },
   {
    "duration": 369,
    "start_time": "2022-03-08T15:57:25.879Z"
   },
   {
    "duration": 365,
    "start_time": "2022-03-08T15:57:25.885Z"
   },
   {
    "duration": 362,
    "start_time": "2022-03-08T15:57:25.890Z"
   },
   {
    "duration": 175,
    "start_time": "2022-03-08T16:00:13.722Z"
   },
   {
    "duration": 273,
    "start_time": "2022-03-08T16:00:13.901Z"
   },
   {
    "duration": 382,
    "start_time": "2022-03-08T16:00:13.795Z"
   },
   {
    "duration": 359,
    "start_time": "2022-03-08T16:00:13.819Z"
   },
   {
    "duration": 352,
    "start_time": "2022-03-08T16:00:13.827Z"
   },
   {
    "duration": 347,
    "start_time": "2022-03-08T16:00:13.833Z"
   },
   {
    "duration": 341,
    "start_time": "2022-03-08T16:00:13.840Z"
   },
   {
    "duration": 171,
    "start_time": "2022-03-08T16:41:55.854Z"
   },
   {
    "duration": 183,
    "start_time": "2022-03-08T16:41:56.027Z"
   },
   {
    "duration": 343,
    "start_time": "2022-03-08T16:41:56.213Z"
   },
   {
    "duration": 13,
    "start_time": "2022-03-08T16:41:56.558Z"
   },
   {
    "duration": 4,
    "start_time": "2022-03-08T16:41:56.573Z"
   },
   {
    "duration": 30,
    "start_time": "2022-03-08T16:41:56.579Z"
   },
   {
    "duration": 6,
    "start_time": "2022-03-08T16:41:56.611Z"
   },
   {
    "duration": 5,
    "start_time": "2022-03-08T17:00:49.622Z"
   },
   {
    "duration": 7,
    "start_time": "2022-03-08T17:25:33.178Z"
   },
   {
    "duration": 5,
    "start_time": "2022-03-08T17:29:08.522Z"
   },
   {
    "duration": 5,
    "start_time": "2022-03-08T17:29:25.041Z"
   },
   {
    "duration": 3,
    "start_time": "2022-03-08T17:30:02.861Z"
   },
   {
    "duration": 5,
    "start_time": "2022-03-08T17:30:13.588Z"
   },
   {
    "duration": 3,
    "start_time": "2022-03-08T17:36:49.726Z"
   },
   {
    "duration": 4,
    "start_time": "2022-03-08T17:37:26.815Z"
   },
   {
    "duration": 4,
    "start_time": "2022-03-08T17:37:33.661Z"
   },
   {
    "duration": 4,
    "start_time": "2022-03-08T17:37:50.243Z"
   },
   {
    "duration": 4,
    "start_time": "2022-03-08T17:38:10.480Z"
   },
   {
    "duration": 4,
    "start_time": "2022-03-08T17:38:15.082Z"
   },
   {
    "duration": 4,
    "start_time": "2022-03-08T17:38:28.454Z"
   },
   {
    "duration": 5,
    "start_time": "2022-03-08T17:38:57.026Z"
   },
   {
    "duration": 4,
    "start_time": "2022-03-08T17:39:30.158Z"
   },
   {
    "duration": 367,
    "start_time": "2022-03-08T17:49:41.770Z"
   },
   {
    "duration": 1102,
    "start_time": "2022-03-08T17:49:56.601Z"
   },
   {
    "duration": 139,
    "start_time": "2022-03-08T17:49:57.704Z"
   },
   {
    "duration": 2,
    "start_time": "2022-03-08T17:49:57.845Z"
   },
   {
    "duration": 3,
    "start_time": "2022-03-08T17:49:57.849Z"
   },
   {
    "duration": 15,
    "start_time": "2022-03-08T17:49:57.853Z"
   },
   {
    "duration": 8,
    "start_time": "2022-03-08T17:49:57.869Z"
   },
   {
    "duration": 16,
    "start_time": "2022-03-08T17:49:57.878Z"
   },
   {
    "duration": 2,
    "start_time": "2022-03-08T17:49:57.896Z"
   },
   {
    "duration": 13,
    "start_time": "2022-03-08T17:49:57.900Z"
   },
   {
    "duration": 5,
    "start_time": "2022-03-08T17:49:57.914Z"
   },
   {
    "duration": 5,
    "start_time": "2022-03-08T17:49:57.920Z"
   },
   {
    "duration": 8,
    "start_time": "2022-03-08T17:49:57.926Z"
   },
   {
    "duration": 7,
    "start_time": "2022-03-08T17:49:57.935Z"
   },
   {
    "duration": 11,
    "start_time": "2022-03-08T17:49:57.944Z"
   },
   {
    "duration": 16,
    "start_time": "2022-03-08T17:49:57.956Z"
   },
   {
    "duration": 4,
    "start_time": "2022-03-08T17:49:57.974Z"
   },
   {
    "duration": 25,
    "start_time": "2022-03-08T17:49:57.979Z"
   },
   {
    "duration": 5,
    "start_time": "2022-03-08T17:49:58.005Z"
   },
   {
    "duration": 5,
    "start_time": "2022-03-08T17:49:58.011Z"
   },
   {
    "duration": 9,
    "start_time": "2022-03-08T17:49:58.018Z"
   },
   {
    "duration": 15,
    "start_time": "2022-03-08T17:49:58.028Z"
   },
   {
    "duration": 4,
    "start_time": "2022-03-08T17:49:58.044Z"
   },
   {
    "duration": 6,
    "start_time": "2022-03-08T17:49:58.051Z"
   },
   {
    "duration": 13,
    "start_time": "2022-03-08T17:49:58.059Z"
   },
   {
    "duration": 3,
    "start_time": "2022-03-08T17:49:58.073Z"
   },
   {
    "duration": 5,
    "start_time": "2022-03-08T17:49:58.101Z"
   },
   {
    "duration": 4,
    "start_time": "2022-03-08T17:49:58.108Z"
   },
   {
    "duration": 9,
    "start_time": "2022-03-08T17:49:58.113Z"
   },
   {
    "duration": 6,
    "start_time": "2022-03-08T17:49:58.124Z"
   },
   {
    "duration": 9,
    "start_time": "2022-03-08T17:49:58.131Z"
   },
   {
    "duration": 12,
    "start_time": "2022-03-08T17:49:58.141Z"
   },
   {
    "duration": 6,
    "start_time": "2022-03-08T17:49:58.155Z"
   },
   {
    "duration": 9,
    "start_time": "2022-03-08T17:49:58.162Z"
   },
   {
    "duration": 30,
    "start_time": "2022-03-08T17:49:58.172Z"
   },
   {
    "duration": 285,
    "start_time": "2022-03-08T17:49:58.204Z"
   },
   {
    "duration": 29,
    "start_time": "2022-03-08T17:49:58.490Z"
   },
   {
    "duration": 8,
    "start_time": "2022-03-08T17:49:58.520Z"
   },
   {
    "duration": 6,
    "start_time": "2022-03-08T17:49:58.529Z"
   },
   {
    "duration": 9,
    "start_time": "2022-03-08T17:49:58.536Z"
   },
   {
    "duration": 18,
    "start_time": "2022-03-08T17:49:58.546Z"
   },
   {
    "duration": 45,
    "start_time": "2022-03-08T17:49:58.565Z"
   },
   {
    "duration": 12,
    "start_time": "2022-03-08T17:49:58.611Z"
   },
   {
    "duration": 8,
    "start_time": "2022-03-08T17:49:58.624Z"
   },
   {
    "duration": 18,
    "start_time": "2022-03-08T17:49:58.634Z"
   },
   {
    "duration": 10,
    "start_time": "2022-03-08T17:49:58.653Z"
   },
   {
    "duration": 316,
    "start_time": "2022-03-08T17:49:58.664Z"
   },
   {
    "duration": 27,
    "start_time": "2022-03-08T17:49:58.982Z"
   },
   {
    "duration": 455,
    "start_time": "2022-03-08T17:49:59.010Z"
   },
   {
    "duration": 4,
    "start_time": "2022-03-08T17:49:59.467Z"
   },
   {
    "duration": 28,
    "start_time": "2022-03-08T17:49:59.473Z"
   },
   {
    "duration": 476,
    "start_time": "2022-03-08T17:49:59.503Z"
   },
   {
    "duration": 6,
    "start_time": "2022-03-08T17:49:59.981Z"
   },
   {
    "duration": 11,
    "start_time": "2022-03-08T17:50:00.001Z"
   },
   {
    "duration": 536,
    "start_time": "2022-03-08T17:50:00.014Z"
   },
   {
    "duration": 5,
    "start_time": "2022-03-08T17:50:00.552Z"
   },
   {
    "duration": 17,
    "start_time": "2022-03-08T17:50:00.559Z"
   },
   {
    "duration": 493,
    "start_time": "2022-03-08T17:50:00.578Z"
   },
   {
    "duration": 5,
    "start_time": "2022-03-08T17:50:01.073Z"
   },
   {
    "duration": 23,
    "start_time": "2022-03-08T17:50:01.080Z"
   },
   {
    "duration": 578,
    "start_time": "2022-03-08T17:50:01.105Z"
   },
   {
    "duration": 5,
    "start_time": "2022-03-08T17:50:01.684Z"
   },
   {
    "duration": 18,
    "start_time": "2022-03-08T17:50:01.691Z"
   },
   {
    "duration": 467,
    "start_time": "2022-03-08T17:50:01.711Z"
   },
   {
    "duration": 5,
    "start_time": "2022-03-08T17:50:02.180Z"
   },
   {
    "duration": 21,
    "start_time": "2022-03-08T17:50:02.186Z"
   },
   {
    "duration": 468,
    "start_time": "2022-03-08T17:50:02.208Z"
   },
   {
    "duration": 5,
    "start_time": "2022-03-08T17:50:02.678Z"
   },
   {
    "duration": 14,
    "start_time": "2022-03-08T17:50:02.701Z"
   },
   {
    "duration": 9,
    "start_time": "2022-03-08T17:50:02.717Z"
   },
   {
    "duration": 10,
    "start_time": "2022-03-08T17:50:02.727Z"
   },
   {
    "duration": 10,
    "start_time": "2022-03-08T17:50:02.738Z"
   },
   {
    "duration": 10,
    "start_time": "2022-03-08T17:50:02.750Z"
   },
   {
    "duration": 11,
    "start_time": "2022-03-08T17:50:02.762Z"
   },
   {
    "duration": 31,
    "start_time": "2022-03-08T17:50:02.775Z"
   },
   {
    "duration": 12,
    "start_time": "2022-03-08T17:50:02.807Z"
   },
   {
    "duration": 8,
    "start_time": "2022-03-08T17:50:02.821Z"
   },
   {
    "duration": 17,
    "start_time": "2022-03-08T17:50:02.830Z"
   },
   {
    "duration": 19,
    "start_time": "2022-03-08T17:50:02.848Z"
   },
   {
    "duration": 44,
    "start_time": "2022-03-08T17:50:02.868Z"
   },
   {
    "duration": 13,
    "start_time": "2022-03-08T17:50:02.913Z"
   },
   {
    "duration": 13,
    "start_time": "2022-03-08T17:50:02.928Z"
   },
   {
    "duration": 13,
    "start_time": "2022-03-08T17:50:02.942Z"
   },
   {
    "duration": 159,
    "start_time": "2022-03-08T17:50:02.956Z"
   },
   {
    "duration": 149,
    "start_time": "2022-03-08T17:50:03.116Z"
   },
   {
    "duration": 149,
    "start_time": "2022-03-08T17:50:03.266Z"
   },
   {
    "duration": 10,
    "start_time": "2022-03-08T17:50:03.417Z"
   },
   {
    "duration": 5,
    "start_time": "2022-03-08T17:50:03.428Z"
   },
   {
    "duration": 6,
    "start_time": "2022-03-08T17:50:03.434Z"
   },
   {
    "duration": 5,
    "start_time": "2022-03-08T17:50:03.442Z"
   },
   {
    "duration": 279,
    "start_time": "2022-03-08T17:52:44.746Z"
   },
   {
    "duration": 275,
    "start_time": "2022-03-08T17:54:50.444Z"
   },
   {
    "duration": 7590,
    "start_time": "2022-03-08T17:55:34.727Z"
   },
   {
    "duration": 281,
    "start_time": "2022-03-08T17:55:46.024Z"
   },
   {
    "duration": 504,
    "start_time": "2022-03-08T18:01:23.151Z"
   },
   {
    "duration": 275,
    "start_time": "2022-03-08T18:01:31.003Z"
   },
   {
    "duration": 340,
    "start_time": "2022-03-08T18:03:04.612Z"
   },
   {
    "duration": 108,
    "start_time": "2022-03-08T18:04:38.445Z"
   },
   {
    "duration": 7,
    "start_time": "2022-03-08T18:14:25.758Z"
   },
   {
    "duration": 9,
    "start_time": "2022-03-08T18:14:53.323Z"
   },
   {
    "duration": 100,
    "start_time": "2022-03-08T18:15:11.782Z"
   },
   {
    "duration": 8,
    "start_time": "2022-03-08T18:15:17.374Z"
   },
   {
    "duration": 9,
    "start_time": "2022-03-08T18:15:43.701Z"
   },
   {
    "duration": 12,
    "start_time": "2022-03-08T18:19:53.945Z"
   },
   {
    "duration": 8,
    "start_time": "2022-03-08T18:20:08.670Z"
   },
   {
    "duration": 8,
    "start_time": "2022-03-08T18:38:59.117Z"
   },
   {
    "duration": 320,
    "start_time": "2022-03-08T18:39:18.613Z"
   },
   {
    "duration": 20,
    "start_time": "2022-03-08T18:39:32.131Z"
   },
   {
    "duration": 7,
    "start_time": "2022-03-08T18:39:41.648Z"
   },
   {
    "duration": 6,
    "start_time": "2022-03-08T18:39:49.988Z"
   },
   {
    "duration": 15,
    "start_time": "2022-03-08T18:39:51.503Z"
   },
   {
    "duration": 13,
    "start_time": "2022-03-08T18:39:52.988Z"
   },
   {
    "duration": 15,
    "start_time": "2022-03-08T18:39:54.285Z"
   },
   {
    "duration": 17,
    "start_time": "2022-03-08T18:39:56.335Z"
   },
   {
    "duration": 127,
    "start_time": "2022-03-08T18:39:59.327Z"
   },
   {
    "duration": 142,
    "start_time": "2022-03-08T18:40:02.626Z"
   },
   {
    "duration": 133,
    "start_time": "2022-03-08T18:40:04.700Z"
   },
   {
    "duration": 1067,
    "start_time": "2022-03-08T19:08:40.959Z"
   },
   {
    "duration": 154,
    "start_time": "2022-03-08T19:08:42.027Z"
   },
   {
    "duration": 2,
    "start_time": "2022-03-08T19:08:42.183Z"
   },
   {
    "duration": 4,
    "start_time": "2022-03-08T19:08:42.187Z"
   },
   {
    "duration": 16,
    "start_time": "2022-03-08T19:08:42.192Z"
   },
   {
    "duration": 9,
    "start_time": "2022-03-08T19:08:42.210Z"
   },
   {
    "duration": 13,
    "start_time": "2022-03-08T19:08:42.221Z"
   },
   {
    "duration": 2,
    "start_time": "2022-03-08T19:08:42.236Z"
   },
   {
    "duration": 12,
    "start_time": "2022-03-08T19:08:42.240Z"
   },
   {
    "duration": 6,
    "start_time": "2022-03-08T19:08:42.254Z"
   },
   {
    "duration": 8,
    "start_time": "2022-03-08T19:08:42.261Z"
   },
   {
    "duration": 31,
    "start_time": "2022-03-08T19:08:42.270Z"
   },
   {
    "duration": 4,
    "start_time": "2022-03-08T19:08:42.302Z"
   },
   {
    "duration": 14,
    "start_time": "2022-03-08T19:08:42.307Z"
   },
   {
    "duration": 16,
    "start_time": "2022-03-08T19:08:42.322Z"
   },
   {
    "duration": 5,
    "start_time": "2022-03-08T19:08:42.340Z"
   },
   {
    "duration": 11,
    "start_time": "2022-03-08T19:08:42.346Z"
   },
   {
    "duration": 10,
    "start_time": "2022-03-08T19:08:42.358Z"
   },
   {
    "duration": 9,
    "start_time": "2022-03-08T19:08:42.369Z"
   },
   {
    "duration": 22,
    "start_time": "2022-03-08T19:08:42.380Z"
   },
   {
    "duration": 12,
    "start_time": "2022-03-08T19:08:42.403Z"
   },
   {
    "duration": 4,
    "start_time": "2022-03-08T19:08:42.416Z"
   },
   {
    "duration": 7,
    "start_time": "2022-03-08T19:08:42.424Z"
   },
   {
    "duration": 14,
    "start_time": "2022-03-08T19:08:42.433Z"
   },
   {
    "duration": 9,
    "start_time": "2022-03-08T19:08:42.449Z"
   },
   {
    "duration": 11,
    "start_time": "2022-03-08T19:08:42.460Z"
   },
   {
    "duration": 8,
    "start_time": "2022-03-08T19:08:42.473Z"
   },
   {
    "duration": 26,
    "start_time": "2022-03-08T19:08:42.482Z"
   },
   {
    "duration": 3,
    "start_time": "2022-03-08T19:08:42.510Z"
   },
   {
    "duration": 8,
    "start_time": "2022-03-08T19:08:42.515Z"
   },
   {
    "duration": 12,
    "start_time": "2022-03-08T19:08:42.525Z"
   },
   {
    "duration": 6,
    "start_time": "2022-03-08T19:08:42.538Z"
   },
   {
    "duration": 9,
    "start_time": "2022-03-08T19:08:42.545Z"
   },
   {
    "duration": 23,
    "start_time": "2022-03-08T19:08:42.555Z"
   },
   {
    "duration": 357,
    "start_time": "2022-03-08T19:08:42.579Z"
   },
   {
    "duration": 22,
    "start_time": "2022-03-08T19:08:42.937Z"
   },
   {
    "duration": 8,
    "start_time": "2022-03-08T19:08:42.960Z"
   },
   {
    "duration": 7,
    "start_time": "2022-03-08T19:08:42.969Z"
   },
   {
    "duration": 32,
    "start_time": "2022-03-08T19:08:42.977Z"
   },
   {
    "duration": 20,
    "start_time": "2022-03-08T19:08:43.010Z"
   },
   {
    "duration": 17,
    "start_time": "2022-03-08T19:08:43.031Z"
   },
   {
    "duration": 15,
    "start_time": "2022-03-08T19:08:43.049Z"
   },
   {
    "duration": 8,
    "start_time": "2022-03-08T19:08:43.065Z"
   },
   {
    "duration": 44,
    "start_time": "2022-03-08T19:08:43.074Z"
   },
   {
    "duration": 11,
    "start_time": "2022-03-08T19:08:43.119Z"
   },
   {
    "duration": 390,
    "start_time": "2022-03-08T19:08:43.131Z"
   },
   {
    "duration": 19,
    "start_time": "2022-03-08T19:08:43.523Z"
   },
   {
    "duration": 438,
    "start_time": "2022-03-08T19:08:43.544Z"
   },
   {
    "duration": 4,
    "start_time": "2022-03-08T19:08:43.983Z"
   },
   {
    "duration": 16,
    "start_time": "2022-03-08T19:08:43.988Z"
   },
   {
    "duration": 471,
    "start_time": "2022-03-08T19:08:44.006Z"
   },
   {
    "duration": 6,
    "start_time": "2022-03-08T19:08:44.479Z"
   },
   {
    "duration": 26,
    "start_time": "2022-03-08T19:08:44.486Z"
   },
   {
    "duration": 553,
    "start_time": "2022-03-08T19:08:44.514Z"
   },
   {
    "duration": 4,
    "start_time": "2022-03-08T19:08:45.069Z"
   },
   {
    "duration": 12,
    "start_time": "2022-03-08T19:08:45.075Z"
   },
   {
    "duration": 493,
    "start_time": "2022-03-08T19:08:45.088Z"
   },
   {
    "duration": 5,
    "start_time": "2022-03-08T19:08:45.582Z"
   },
   {
    "duration": 22,
    "start_time": "2022-03-08T19:08:45.588Z"
   },
   {
    "duration": 470,
    "start_time": "2022-03-08T19:08:45.611Z"
   },
   {
    "duration": 5,
    "start_time": "2022-03-08T19:08:46.082Z"
   },
   {
    "duration": 17,
    "start_time": "2022-03-08T19:08:46.088Z"
   },
   {
    "duration": 480,
    "start_time": "2022-03-08T19:08:46.106Z"
   },
   {
    "duration": 5,
    "start_time": "2022-03-08T19:08:46.587Z"
   },
   {
    "duration": 11,
    "start_time": "2022-03-08T19:08:46.601Z"
   },
   {
    "duration": 487,
    "start_time": "2022-03-08T19:08:46.614Z"
   },
   {
    "duration": 5,
    "start_time": "2022-03-08T19:08:47.102Z"
   },
   {
    "duration": 13,
    "start_time": "2022-03-08T19:08:47.111Z"
   },
   {
    "duration": 14,
    "start_time": "2022-03-08T19:08:47.126Z"
   },
   {
    "duration": 7,
    "start_time": "2022-03-08T19:08:47.141Z"
   },
   {
    "duration": 10,
    "start_time": "2022-03-08T19:08:47.150Z"
   },
   {
    "duration": 9,
    "start_time": "2022-03-08T19:08:47.161Z"
   },
   {
    "duration": 33,
    "start_time": "2022-03-08T19:08:47.171Z"
   },
   {
    "duration": 9,
    "start_time": "2022-03-08T19:08:47.205Z"
   },
   {
    "duration": 9,
    "start_time": "2022-03-08T19:08:47.215Z"
   },
   {
    "duration": 8,
    "start_time": "2022-03-08T19:08:47.225Z"
   },
   {
    "duration": 14,
    "start_time": "2022-03-08T19:08:47.235Z"
   },
   {
    "duration": 18,
    "start_time": "2022-03-08T19:08:47.250Z"
   },
   {
    "duration": 40,
    "start_time": "2022-03-08T19:08:47.270Z"
   },
   {
    "duration": 21,
    "start_time": "2022-03-08T19:08:47.311Z"
   },
   {
    "duration": 20,
    "start_time": "2022-03-08T19:08:47.334Z"
   },
   {
    "duration": 20,
    "start_time": "2022-03-08T19:08:47.355Z"
   },
   {
    "duration": 36,
    "start_time": "2022-03-08T19:08:47.376Z"
   },
   {
    "duration": 154,
    "start_time": "2022-03-08T19:08:47.414Z"
   },
   {
    "duration": 164,
    "start_time": "2022-03-08T19:08:47.570Z"
   },
   {
    "duration": 163,
    "start_time": "2022-03-08T19:08:47.736Z"
   },
   {
    "duration": 11,
    "start_time": "2022-03-08T19:08:47.900Z"
   },
   {
    "duration": 4,
    "start_time": "2022-03-08T19:08:47.913Z"
   },
   {
    "duration": 7,
    "start_time": "2022-03-08T19:08:47.918Z"
   },
   {
    "duration": 4,
    "start_time": "2022-03-08T19:08:47.926Z"
   },
   {
    "duration": 18,
    "start_time": "2022-03-08T19:10:05.388Z"
   },
   {
    "duration": 16,
    "start_time": "2022-03-08T19:10:52.747Z"
   },
   {
    "duration": 1104,
    "start_time": "2022-03-08T19:11:21.693Z"
   },
   {
    "duration": 129,
    "start_time": "2022-03-08T19:11:22.799Z"
   },
   {
    "duration": 2,
    "start_time": "2022-03-08T19:11:22.930Z"
   },
   {
    "duration": 7,
    "start_time": "2022-03-08T19:11:22.933Z"
   },
   {
    "duration": 15,
    "start_time": "2022-03-08T19:11:22.942Z"
   },
   {
    "duration": 10,
    "start_time": "2022-03-08T19:11:22.958Z"
   },
   {
    "duration": 14,
    "start_time": "2022-03-08T19:11:22.970Z"
   },
   {
    "duration": 17,
    "start_time": "2022-03-08T19:11:22.987Z"
   },
   {
    "duration": 12,
    "start_time": "2022-03-08T19:11:23.006Z"
   },
   {
    "duration": 4,
    "start_time": "2022-03-08T19:11:23.020Z"
   },
   {
    "duration": 6,
    "start_time": "2022-03-08T19:11:23.025Z"
   },
   {
    "duration": 9,
    "start_time": "2022-03-08T19:11:23.032Z"
   },
   {
    "duration": 8,
    "start_time": "2022-03-08T19:11:23.042Z"
   },
   {
    "duration": 12,
    "start_time": "2022-03-08T19:11:23.051Z"
   },
   {
    "duration": 39,
    "start_time": "2022-03-08T19:11:23.065Z"
   },
   {
    "duration": 5,
    "start_time": "2022-03-08T19:11:23.106Z"
   },
   {
    "duration": 8,
    "start_time": "2022-03-08T19:11:23.113Z"
   },
   {
    "duration": 12,
    "start_time": "2022-03-08T19:11:23.122Z"
   },
   {
    "duration": 9,
    "start_time": "2022-03-08T19:11:23.135Z"
   },
   {
    "duration": 9,
    "start_time": "2022-03-08T19:11:23.146Z"
   },
   {
    "duration": 16,
    "start_time": "2022-03-08T19:11:23.156Z"
   },
   {
    "duration": 4,
    "start_time": "2022-03-08T19:11:23.173Z"
   },
   {
    "duration": 8,
    "start_time": "2022-03-08T19:11:23.180Z"
   },
   {
    "duration": 10,
    "start_time": "2022-03-08T19:11:23.201Z"
   },
   {
    "duration": 7,
    "start_time": "2022-03-08T19:11:23.213Z"
   },
   {
    "duration": 12,
    "start_time": "2022-03-08T19:11:23.221Z"
   },
   {
    "duration": 6,
    "start_time": "2022-03-08T19:11:23.235Z"
   },
   {
    "duration": 11,
    "start_time": "2022-03-08T19:11:23.243Z"
   },
   {
    "duration": 6,
    "start_time": "2022-03-08T19:11:23.256Z"
   },
   {
    "duration": 9,
    "start_time": "2022-03-08T19:11:23.263Z"
   },
   {
    "duration": 11,
    "start_time": "2022-03-08T19:11:23.274Z"
   },
   {
    "duration": 14,
    "start_time": "2022-03-08T19:11:23.287Z"
   },
   {
    "duration": 9,
    "start_time": "2022-03-08T19:11:23.303Z"
   },
   {
    "duration": 21,
    "start_time": "2022-03-08T19:11:23.313Z"
   },
   {
    "duration": 352,
    "start_time": "2022-03-08T19:11:23.336Z"
   },
   {
    "duration": 25,
    "start_time": "2022-03-08T19:11:23.690Z"
   },
   {
    "duration": 8,
    "start_time": "2022-03-08T19:11:23.717Z"
   },
   {
    "duration": 8,
    "start_time": "2022-03-08T19:11:23.726Z"
   },
   {
    "duration": 8,
    "start_time": "2022-03-08T19:11:23.736Z"
   },
   {
    "duration": 19,
    "start_time": "2022-03-08T19:11:23.746Z"
   },
   {
    "duration": 46,
    "start_time": "2022-03-08T19:11:23.766Z"
   },
   {
    "duration": 14,
    "start_time": "2022-03-08T19:11:23.814Z"
   },
   {
    "duration": 8,
    "start_time": "2022-03-08T19:11:23.829Z"
   },
   {
    "duration": 19,
    "start_time": "2022-03-08T19:11:23.839Z"
   },
   {
    "duration": 11,
    "start_time": "2022-03-08T19:11:23.859Z"
   },
   {
    "duration": 410,
    "start_time": "2022-03-08T19:11:23.871Z"
   },
   {
    "duration": 29,
    "start_time": "2022-03-08T19:11:24.283Z"
   },
   {
    "duration": 461,
    "start_time": "2022-03-08T19:11:24.313Z"
   },
   {
    "duration": 5,
    "start_time": "2022-03-08T19:11:24.775Z"
   },
   {
    "duration": 21,
    "start_time": "2022-03-08T19:11:24.781Z"
   },
   {
    "duration": 485,
    "start_time": "2022-03-08T19:11:24.804Z"
   },
   {
    "duration": 4,
    "start_time": "2022-03-08T19:11:25.290Z"
   },
   {
    "duration": 11,
    "start_time": "2022-03-08T19:11:25.301Z"
   },
   {
    "duration": 535,
    "start_time": "2022-03-08T19:11:25.314Z"
   },
   {
    "duration": 6,
    "start_time": "2022-03-08T19:11:25.851Z"
   },
   {
    "duration": 13,
    "start_time": "2022-03-08T19:11:25.858Z"
   },
   {
    "duration": 509,
    "start_time": "2022-03-08T19:11:25.873Z"
   },
   {
    "duration": 4,
    "start_time": "2022-03-08T19:11:26.384Z"
   },
   {
    "duration": 10,
    "start_time": "2022-03-08T19:11:26.401Z"
   },
   {
    "duration": 478,
    "start_time": "2022-03-08T19:11:26.413Z"
   },
   {
    "duration": 10,
    "start_time": "2022-03-08T19:11:26.893Z"
   },
   {
    "duration": 13,
    "start_time": "2022-03-08T19:11:26.905Z"
   },
   {
    "duration": 460,
    "start_time": "2022-03-08T19:11:26.919Z"
   },
   {
    "duration": 5,
    "start_time": "2022-03-08T19:11:27.381Z"
   },
   {
    "duration": 21,
    "start_time": "2022-03-08T19:11:27.387Z"
   },
   {
    "duration": 494,
    "start_time": "2022-03-08T19:11:27.410Z"
   },
   {
    "duration": 5,
    "start_time": "2022-03-08T19:11:27.906Z"
   },
   {
    "duration": 14,
    "start_time": "2022-03-08T19:11:27.916Z"
   },
   {
    "duration": 9,
    "start_time": "2022-03-08T19:11:27.932Z"
   },
   {
    "duration": 7,
    "start_time": "2022-03-08T19:11:27.942Z"
   },
   {
    "duration": 10,
    "start_time": "2022-03-08T19:11:27.951Z"
   },
   {
    "duration": 38,
    "start_time": "2022-03-08T19:11:27.963Z"
   },
   {
    "duration": 7,
    "start_time": "2022-03-08T19:11:28.003Z"
   },
   {
    "duration": 13,
    "start_time": "2022-03-08T19:11:28.011Z"
   },
   {
    "duration": 10,
    "start_time": "2022-03-08T19:11:28.025Z"
   },
   {
    "duration": 8,
    "start_time": "2022-03-08T19:11:28.036Z"
   },
   {
    "duration": 12,
    "start_time": "2022-03-08T19:11:28.045Z"
   },
   {
    "duration": 24,
    "start_time": "2022-03-08T19:11:28.058Z"
   },
   {
    "duration": 27,
    "start_time": "2022-03-08T19:11:28.083Z"
   },
   {
    "duration": 13,
    "start_time": "2022-03-08T19:11:28.111Z"
   },
   {
    "duration": 13,
    "start_time": "2022-03-08T19:11:28.126Z"
   },
   {
    "duration": 13,
    "start_time": "2022-03-08T19:11:28.141Z"
   },
   {
    "duration": 15,
    "start_time": "2022-03-08T19:11:28.155Z"
   },
   {
    "duration": 182,
    "start_time": "2022-03-08T19:11:28.171Z"
   },
   {
    "duration": 167,
    "start_time": "2022-03-08T19:11:28.355Z"
   },
   {
    "duration": 150,
    "start_time": "2022-03-08T19:11:28.524Z"
   },
   {
    "duration": 25,
    "start_time": "2022-03-08T19:11:28.676Z"
   },
   {
    "duration": 5,
    "start_time": "2022-03-08T19:11:28.703Z"
   },
   {
    "duration": 9,
    "start_time": "2022-03-08T19:11:28.710Z"
   },
   {
    "duration": 5,
    "start_time": "2022-03-08T19:11:28.721Z"
   },
   {
    "duration": 11,
    "start_time": "2022-03-08T19:12:56.218Z"
   },
   {
    "duration": 8,
    "start_time": "2022-03-08T19:16:28.810Z"
   },
   {
    "duration": 21,
    "start_time": "2022-03-08T19:16:30.647Z"
   },
   {
    "duration": 12,
    "start_time": "2022-03-08T19:16:32.268Z"
   },
   {
    "duration": 265,
    "start_time": "2022-03-08T19:16:33.038Z"
   },
   {
    "duration": 9,
    "start_time": "2022-03-08T19:17:15.968Z"
   },
   {
    "duration": 20,
    "start_time": "2022-03-08T19:17:18.796Z"
   },
   {
    "duration": 12,
    "start_time": "2022-03-08T19:17:20.295Z"
   },
   {
    "duration": 429,
    "start_time": "2022-03-08T19:17:20.966Z"
   },
   {
    "duration": 20,
    "start_time": "2022-03-08T19:17:29.371Z"
   },
   {
    "duration": 487,
    "start_time": "2022-03-08T19:17:29.589Z"
   },
   {
    "duration": 5,
    "start_time": "2022-03-08T19:17:30.079Z"
   },
   {
    "duration": 13,
    "start_time": "2022-03-08T19:17:30.345Z"
   },
   {
    "duration": 517,
    "start_time": "2022-03-08T19:17:30.586Z"
   },
   {
    "duration": 5,
    "start_time": "2022-03-08T19:17:31.105Z"
   },
   {
    "duration": 11,
    "start_time": "2022-03-08T19:17:31.510Z"
   },
   {
    "duration": 434,
    "start_time": "2022-03-08T19:17:31.717Z"
   },
   {
    "duration": 4,
    "start_time": "2022-03-08T19:17:32.153Z"
   },
   {
    "duration": 12,
    "start_time": "2022-03-08T19:17:32.619Z"
   },
   {
    "duration": 457,
    "start_time": "2022-03-08T19:17:32.821Z"
   },
   {
    "duration": 5,
    "start_time": "2022-03-08T19:17:33.280Z"
   },
   {
    "duration": 11,
    "start_time": "2022-03-08T19:17:33.700Z"
   },
   {
    "duration": 456,
    "start_time": "2022-03-08T19:17:33.924Z"
   },
   {
    "duration": 4,
    "start_time": "2022-03-08T19:17:34.382Z"
   },
   {
    "duration": 13,
    "start_time": "2022-03-08T19:17:34.604Z"
   },
   {
    "duration": 438,
    "start_time": "2022-03-08T19:17:34.819Z"
   },
   {
    "duration": 5,
    "start_time": "2022-03-08T19:17:35.690Z"
   },
   {
    "duration": 7,
    "start_time": "2022-03-08T19:17:36.198Z"
   },
   {
    "duration": 505,
    "start_time": "2022-03-08T19:17:37.384Z"
   },
   {
    "duration": 1141,
    "start_time": "2022-03-08T19:17:42.308Z"
   },
   {
    "duration": 178,
    "start_time": "2022-03-08T19:17:43.451Z"
   },
   {
    "duration": 2,
    "start_time": "2022-03-08T19:17:43.631Z"
   },
   {
    "duration": 4,
    "start_time": "2022-03-08T19:17:43.635Z"
   },
   {
    "duration": 16,
    "start_time": "2022-03-08T19:17:43.641Z"
   },
   {
    "duration": 10,
    "start_time": "2022-03-08T19:17:43.658Z"
   },
   {
    "duration": 14,
    "start_time": "2022-03-08T19:17:43.669Z"
   },
   {
    "duration": 16,
    "start_time": "2022-03-08T19:17:43.685Z"
   },
   {
    "duration": 15,
    "start_time": "2022-03-08T19:17:43.703Z"
   },
   {
    "duration": 4,
    "start_time": "2022-03-08T19:17:43.720Z"
   },
   {
    "duration": 9,
    "start_time": "2022-03-08T19:17:43.726Z"
   },
   {
    "duration": 11,
    "start_time": "2022-03-08T19:17:43.737Z"
   },
   {
    "duration": 6,
    "start_time": "2022-03-08T19:17:43.749Z"
   },
   {
    "duration": 14,
    "start_time": "2022-03-08T19:17:43.757Z"
   },
   {
    "duration": 40,
    "start_time": "2022-03-08T19:17:43.772Z"
   },
   {
    "duration": 6,
    "start_time": "2022-03-08T19:17:43.814Z"
   },
   {
    "duration": 13,
    "start_time": "2022-03-08T19:17:43.822Z"
   },
   {
    "duration": 5,
    "start_time": "2022-03-08T19:17:43.837Z"
   },
   {
    "duration": 7,
    "start_time": "2022-03-08T19:17:43.843Z"
   },
   {
    "duration": 9,
    "start_time": "2022-03-08T19:17:43.852Z"
   },
   {
    "duration": 18,
    "start_time": "2022-03-08T19:17:43.862Z"
   },
   {
    "duration": 22,
    "start_time": "2022-03-08T19:17:43.881Z"
   },
   {
    "duration": 6,
    "start_time": "2022-03-08T19:17:43.907Z"
   },
   {
    "duration": 13,
    "start_time": "2022-03-08T19:17:43.915Z"
   },
   {
    "duration": 6,
    "start_time": "2022-03-08T19:17:43.930Z"
   },
   {
    "duration": 13,
    "start_time": "2022-03-08T19:17:43.938Z"
   },
   {
    "duration": 7,
    "start_time": "2022-03-08T19:17:43.953Z"
   },
   {
    "duration": 11,
    "start_time": "2022-03-08T19:17:43.961Z"
   },
   {
    "duration": 28,
    "start_time": "2022-03-08T19:17:43.973Z"
   },
   {
    "duration": 4,
    "start_time": "2022-03-08T19:17:44.002Z"
   },
   {
    "duration": 11,
    "start_time": "2022-03-08T19:17:44.008Z"
   },
   {
    "duration": 7,
    "start_time": "2022-03-08T19:17:44.020Z"
   },
   {
    "duration": 10,
    "start_time": "2022-03-08T19:17:44.028Z"
   },
   {
    "duration": 28,
    "start_time": "2022-03-08T19:17:44.039Z"
   },
   {
    "duration": 399,
    "start_time": "2022-03-08T19:17:44.069Z"
   },
   {
    "duration": 37,
    "start_time": "2022-03-08T19:17:44.469Z"
   },
   {
    "duration": 9,
    "start_time": "2022-03-08T19:17:44.508Z"
   },
   {
    "duration": 12,
    "start_time": "2022-03-08T19:17:44.519Z"
   },
   {
    "duration": 11,
    "start_time": "2022-03-08T19:17:44.533Z"
   },
   {
    "duration": 28,
    "start_time": "2022-03-08T19:17:44.545Z"
   },
   {
    "duration": 43,
    "start_time": "2022-03-08T19:17:44.575Z"
   },
   {
    "duration": 13,
    "start_time": "2022-03-08T19:17:44.620Z"
   },
   {
    "duration": 8,
    "start_time": "2022-03-08T19:17:44.634Z"
   },
   {
    "duration": 19,
    "start_time": "2022-03-08T19:17:44.644Z"
   },
   {
    "duration": 39,
    "start_time": "2022-03-08T19:17:44.665Z"
   },
   {
    "duration": 361,
    "start_time": "2022-03-08T19:17:44.706Z"
   },
   {
    "duration": 21,
    "start_time": "2022-03-08T19:17:45.068Z"
   },
   {
    "duration": 470,
    "start_time": "2022-03-08T19:17:45.090Z"
   },
   {
    "duration": 4,
    "start_time": "2022-03-08T19:17:45.561Z"
   },
   {
    "duration": 14,
    "start_time": "2022-03-08T19:17:45.567Z"
   },
   {
    "duration": 507,
    "start_time": "2022-03-08T19:17:45.583Z"
   },
   {
    "duration": 4,
    "start_time": "2022-03-08T19:17:46.092Z"
   },
   {
    "duration": 11,
    "start_time": "2022-03-08T19:17:46.101Z"
   },
   {
    "duration": 548,
    "start_time": "2022-03-08T19:17:46.113Z"
   },
   {
    "duration": 5,
    "start_time": "2022-03-08T19:17:46.662Z"
   },
   {
    "duration": 14,
    "start_time": "2022-03-08T19:17:46.668Z"
   },
   {
    "duration": 491,
    "start_time": "2022-03-08T19:17:46.683Z"
   },
   {
    "duration": 4,
    "start_time": "2022-03-08T19:17:47.176Z"
   },
   {
    "duration": 20,
    "start_time": "2022-03-08T19:17:47.182Z"
   },
   {
    "duration": 474,
    "start_time": "2022-03-08T19:17:47.203Z"
   },
   {
    "duration": 5,
    "start_time": "2022-03-08T19:17:47.679Z"
   },
   {
    "duration": 22,
    "start_time": "2022-03-08T19:17:47.686Z"
   },
   {
    "duration": 452,
    "start_time": "2022-03-08T19:17:47.710Z"
   },
   {
    "duration": 4,
    "start_time": "2022-03-08T19:17:48.164Z"
   },
   {
    "duration": 7,
    "start_time": "2022-03-08T19:17:48.170Z"
   },
   {
    "duration": 443,
    "start_time": "2022-03-08T19:17:48.179Z"
   },
   {
    "duration": 4,
    "start_time": "2022-03-08T19:17:48.623Z"
   },
   {
    "duration": 15,
    "start_time": "2022-03-08T19:17:48.632Z"
   },
   {
    "duration": 9,
    "start_time": "2022-03-08T19:17:48.648Z"
   },
   {
    "duration": 7,
    "start_time": "2022-03-08T19:17:48.659Z"
   },
   {
    "duration": 38,
    "start_time": "2022-03-08T19:17:48.667Z"
   },
   {
    "duration": 10,
    "start_time": "2022-03-08T19:17:48.706Z"
   },
   {
    "duration": 9,
    "start_time": "2022-03-08T19:17:48.717Z"
   },
   {
    "duration": 10,
    "start_time": "2022-03-08T19:17:48.727Z"
   },
   {
    "duration": 12,
    "start_time": "2022-03-08T19:17:48.738Z"
   },
   {
    "duration": 9,
    "start_time": "2022-03-08T19:17:48.751Z"
   },
   {
    "duration": 11,
    "start_time": "2022-03-08T19:17:48.762Z"
   },
   {
    "duration": 43,
    "start_time": "2022-03-08T19:17:48.775Z"
   },
   {
    "duration": 10,
    "start_time": "2022-03-08T19:17:48.820Z"
   },
   {
    "duration": 14,
    "start_time": "2022-03-08T19:17:48.831Z"
   },
   {
    "duration": 14,
    "start_time": "2022-03-08T19:17:48.846Z"
   },
   {
    "duration": 48,
    "start_time": "2022-03-08T19:17:48.862Z"
   },
   {
    "duration": 17,
    "start_time": "2022-03-08T19:17:48.911Z"
   },
   {
    "duration": 156,
    "start_time": "2022-03-08T19:17:48.930Z"
   },
   {
    "duration": 164,
    "start_time": "2022-03-08T19:17:49.088Z"
   },
   {
    "duration": 151,
    "start_time": "2022-03-08T19:17:49.253Z"
   },
   {
    "duration": 11,
    "start_time": "2022-03-08T19:17:49.406Z"
   },
   {
    "duration": 4,
    "start_time": "2022-03-08T19:17:49.418Z"
   },
   {
    "duration": 8,
    "start_time": "2022-03-08T19:17:49.423Z"
   },
   {
    "duration": 5,
    "start_time": "2022-03-08T19:17:49.432Z"
   },
   {
    "duration": 7,
    "start_time": "2022-03-08T19:18:40.716Z"
   },
   {
    "duration": 325,
    "start_time": "2022-03-08T19:18:41.948Z"
   },
   {
    "duration": 10,
    "start_time": "2022-03-08T19:19:33.540Z"
   },
   {
    "duration": 1045,
    "start_time": "2022-03-08T19:19:38.812Z"
   },
   {
    "duration": 128,
    "start_time": "2022-03-08T19:19:39.858Z"
   },
   {
    "duration": 2,
    "start_time": "2022-03-08T19:19:39.988Z"
   },
   {
    "duration": 3,
    "start_time": "2022-03-08T19:19:39.993Z"
   },
   {
    "duration": 15,
    "start_time": "2022-03-08T19:19:39.998Z"
   },
   {
    "duration": 9,
    "start_time": "2022-03-08T19:19:40.015Z"
   },
   {
    "duration": 16,
    "start_time": "2022-03-08T19:19:40.026Z"
   },
   {
    "duration": 2,
    "start_time": "2022-03-08T19:19:40.045Z"
   },
   {
    "duration": 12,
    "start_time": "2022-03-08T19:19:40.050Z"
   },
   {
    "duration": 4,
    "start_time": "2022-03-08T19:19:40.064Z"
   },
   {
    "duration": 4,
    "start_time": "2022-03-08T19:19:40.101Z"
   },
   {
    "duration": 6,
    "start_time": "2022-03-08T19:19:40.106Z"
   },
   {
    "duration": 6,
    "start_time": "2022-03-08T19:19:40.114Z"
   },
   {
    "duration": 12,
    "start_time": "2022-03-08T19:19:40.121Z"
   },
   {
    "duration": 17,
    "start_time": "2022-03-08T19:19:40.135Z"
   },
   {
    "duration": 5,
    "start_time": "2022-03-08T19:19:40.154Z"
   },
   {
    "duration": 13,
    "start_time": "2022-03-08T19:19:40.160Z"
   },
   {
    "duration": 9,
    "start_time": "2022-03-08T19:19:40.174Z"
   },
   {
    "duration": 4,
    "start_time": "2022-03-08T19:19:40.201Z"
   },
   {
    "duration": 8,
    "start_time": "2022-03-08T19:19:40.206Z"
   },
   {
    "duration": 17,
    "start_time": "2022-03-08T19:19:40.216Z"
   },
   {
    "duration": 10,
    "start_time": "2022-03-08T19:19:40.235Z"
   },
   {
    "duration": 9,
    "start_time": "2022-03-08T19:19:40.249Z"
   },
   {
    "duration": 12,
    "start_time": "2022-03-08T19:19:40.260Z"
   },
   {
    "duration": 8,
    "start_time": "2022-03-08T19:19:40.274Z"
   },
   {
    "duration": 21,
    "start_time": "2022-03-08T19:19:40.283Z"
   },
   {
    "duration": 6,
    "start_time": "2022-03-08T19:19:40.306Z"
   },
   {
    "duration": 12,
    "start_time": "2022-03-08T19:19:40.313Z"
   },
   {
    "duration": 6,
    "start_time": "2022-03-08T19:19:40.326Z"
   },
   {
    "duration": 9,
    "start_time": "2022-03-08T19:19:40.333Z"
   },
   {
    "duration": 12,
    "start_time": "2022-03-08T19:19:40.343Z"
   },
   {
    "duration": 7,
    "start_time": "2022-03-08T19:19:40.356Z"
   },
   {
    "duration": 9,
    "start_time": "2022-03-08T19:19:40.365Z"
   },
   {
    "duration": 28,
    "start_time": "2022-03-08T19:19:40.375Z"
   },
   {
    "duration": 353,
    "start_time": "2022-03-08T19:19:40.404Z"
   },
   {
    "duration": 20,
    "start_time": "2022-03-08T19:19:40.758Z"
   },
   {
    "duration": 24,
    "start_time": "2022-03-08T19:19:40.780Z"
   },
   {
    "duration": 5,
    "start_time": "2022-03-08T19:19:40.805Z"
   },
   {
    "duration": 10,
    "start_time": "2022-03-08T19:19:40.812Z"
   },
   {
    "duration": 19,
    "start_time": "2022-03-08T19:19:40.823Z"
   },
   {
    "duration": 18,
    "start_time": "2022-03-08T19:19:40.843Z"
   },
   {
    "duration": 42,
    "start_time": "2022-03-08T19:19:40.863Z"
   },
   {
    "duration": 7,
    "start_time": "2022-03-08T19:19:40.907Z"
   },
   {
    "duration": 19,
    "start_time": "2022-03-08T19:19:40.916Z"
   },
   {
    "duration": 12,
    "start_time": "2022-03-08T19:19:40.937Z"
   },
   {
    "duration": 405,
    "start_time": "2022-03-08T19:19:40.950Z"
   },
   {
    "duration": 20,
    "start_time": "2022-03-08T19:19:41.357Z"
   },
   {
    "duration": 493,
    "start_time": "2022-03-08T19:19:41.378Z"
   },
   {
    "duration": 5,
    "start_time": "2022-03-08T19:19:41.873Z"
   },
   {
    "duration": 23,
    "start_time": "2022-03-08T19:19:41.879Z"
   },
   {
    "duration": 639,
    "start_time": "2022-03-08T19:19:41.904Z"
   },
   {
    "duration": 6,
    "start_time": "2022-03-08T19:19:42.546Z"
   },
   {
    "duration": 12,
    "start_time": "2022-03-08T19:19:42.554Z"
   },
   {
    "duration": 523,
    "start_time": "2022-03-08T19:19:42.568Z"
   },
   {
    "duration": 10,
    "start_time": "2022-03-08T19:19:43.093Z"
   },
   {
    "duration": 13,
    "start_time": "2022-03-08T19:19:43.105Z"
   },
   {
    "duration": 488,
    "start_time": "2022-03-08T19:19:43.120Z"
   },
   {
    "duration": 5,
    "start_time": "2022-03-08T19:19:43.609Z"
   },
   {
    "duration": 12,
    "start_time": "2022-03-08T19:19:43.615Z"
   },
   {
    "duration": 476,
    "start_time": "2022-03-08T19:19:43.628Z"
   },
   {
    "duration": 5,
    "start_time": "2022-03-08T19:19:44.106Z"
   },
   {
    "duration": 15,
    "start_time": "2022-03-08T19:19:44.113Z"
   },
   {
    "duration": 534,
    "start_time": "2022-03-08T19:19:44.130Z"
   },
   {
    "duration": 5,
    "start_time": "2022-03-08T19:19:44.666Z"
   },
   {
    "duration": 15,
    "start_time": "2022-03-08T19:19:44.672Z"
   },
   {
    "duration": 487,
    "start_time": "2022-03-08T19:19:44.688Z"
   },
   {
    "duration": 4,
    "start_time": "2022-03-08T19:19:45.177Z"
   },
   {
    "duration": 25,
    "start_time": "2022-03-08T19:19:45.186Z"
   },
   {
    "duration": 9,
    "start_time": "2022-03-08T19:19:45.213Z"
   },
   {
    "duration": 7,
    "start_time": "2022-03-08T19:19:45.223Z"
   },
   {
    "duration": 9,
    "start_time": "2022-03-08T19:19:45.232Z"
   },
   {
    "duration": 10,
    "start_time": "2022-03-08T19:19:45.243Z"
   },
   {
    "duration": 9,
    "start_time": "2022-03-08T19:19:45.254Z"
   },
   {
    "duration": 43,
    "start_time": "2022-03-08T19:19:45.265Z"
   },
   {
    "duration": 11,
    "start_time": "2022-03-08T19:19:45.310Z"
   },
   {
    "duration": 8,
    "start_time": "2022-03-08T19:19:45.322Z"
   },
   {
    "duration": 11,
    "start_time": "2022-03-08T19:19:45.331Z"
   },
   {
    "duration": 22,
    "start_time": "2022-03-08T19:19:45.344Z"
   },
   {
    "duration": 36,
    "start_time": "2022-03-08T19:19:45.367Z"
   },
   {
    "duration": 16,
    "start_time": "2022-03-08T19:19:45.405Z"
   },
   {
    "duration": 15,
    "start_time": "2022-03-08T19:19:45.423Z"
   },
   {
    "duration": 13,
    "start_time": "2022-03-08T19:19:45.439Z"
   },
   {
    "duration": 14,
    "start_time": "2022-03-08T19:19:45.454Z"
   },
   {
    "duration": 149,
    "start_time": "2022-03-08T19:19:45.502Z"
   },
   {
    "duration": 155,
    "start_time": "2022-03-08T19:19:45.652Z"
   },
   {
    "duration": 151,
    "start_time": "2022-03-08T19:19:45.809Z"
   },
   {
    "duration": 11,
    "start_time": "2022-03-08T19:19:45.961Z"
   },
   {
    "duration": 17,
    "start_time": "2022-03-08T19:19:45.974Z"
   },
   {
    "duration": 19,
    "start_time": "2022-03-08T19:19:45.992Z"
   },
   {
    "duration": 9,
    "start_time": "2022-03-08T19:19:46.012Z"
   },
   {
    "duration": 9,
    "start_time": "2022-03-08T19:20:47.875Z"
   },
   {
    "duration": 1121,
    "start_time": "2022-03-08T19:22:29.329Z"
   },
   {
    "duration": 146,
    "start_time": "2022-03-08T19:22:30.452Z"
   },
   {
    "duration": 3,
    "start_time": "2022-03-08T19:22:30.601Z"
   },
   {
    "duration": 20,
    "start_time": "2022-03-08T19:22:30.606Z"
   },
   {
    "duration": 22,
    "start_time": "2022-03-08T19:22:30.628Z"
   },
   {
    "duration": 12,
    "start_time": "2022-03-08T19:22:30.653Z"
   },
   {
    "duration": 21,
    "start_time": "2022-03-08T19:22:30.667Z"
   },
   {
    "duration": 24,
    "start_time": "2022-03-08T19:22:30.691Z"
   },
   {
    "duration": 23,
    "start_time": "2022-03-08T19:22:30.718Z"
   },
   {
    "duration": 7,
    "start_time": "2022-03-08T19:22:30.743Z"
   },
   {
    "duration": 30,
    "start_time": "2022-03-08T19:22:30.752Z"
   },
   {
    "duration": 23,
    "start_time": "2022-03-08T19:22:30.784Z"
   },
   {
    "duration": 16,
    "start_time": "2022-03-08T19:22:30.810Z"
   },
   {
    "duration": 33,
    "start_time": "2022-03-08T19:22:30.829Z"
   },
   {
    "duration": 24,
    "start_time": "2022-03-08T19:22:30.865Z"
   },
   {
    "duration": 7,
    "start_time": "2022-03-08T19:22:30.891Z"
   },
   {
    "duration": 16,
    "start_time": "2022-03-08T19:22:30.900Z"
   },
   {
    "duration": 10,
    "start_time": "2022-03-08T19:22:30.918Z"
   },
   {
    "duration": 13,
    "start_time": "2022-03-08T19:22:30.930Z"
   },
   {
    "duration": 18,
    "start_time": "2022-03-08T19:22:30.944Z"
   },
   {
    "duration": 16,
    "start_time": "2022-03-08T19:22:30.963Z"
   },
   {
    "duration": 11,
    "start_time": "2022-03-08T19:22:30.980Z"
   },
   {
    "duration": 11,
    "start_time": "2022-03-08T19:22:30.995Z"
   },
   {
    "duration": 18,
    "start_time": "2022-03-08T19:22:31.008Z"
   },
   {
    "duration": 8,
    "start_time": "2022-03-08T19:22:31.028Z"
   },
   {
    "duration": 12,
    "start_time": "2022-03-08T19:22:31.038Z"
   },
   {
    "duration": 7,
    "start_time": "2022-03-08T19:22:31.052Z"
   },
   {
    "duration": 10,
    "start_time": "2022-03-08T19:22:31.060Z"
   },
   {
    "duration": 4,
    "start_time": "2022-03-08T19:22:31.072Z"
   },
   {
    "duration": 10,
    "start_time": "2022-03-08T19:22:31.078Z"
   },
   {
    "duration": 14,
    "start_time": "2022-03-08T19:22:31.090Z"
   },
   {
    "duration": 8,
    "start_time": "2022-03-08T19:22:31.106Z"
   },
   {
    "duration": 9,
    "start_time": "2022-03-08T19:22:31.115Z"
   },
   {
    "duration": 26,
    "start_time": "2022-03-08T19:22:31.125Z"
   },
   {
    "duration": 361,
    "start_time": "2022-03-08T19:22:31.153Z"
   },
   {
    "duration": 21,
    "start_time": "2022-03-08T19:22:31.515Z"
   },
   {
    "duration": 8,
    "start_time": "2022-03-08T19:22:31.537Z"
   },
   {
    "duration": 9,
    "start_time": "2022-03-08T19:22:31.546Z"
   },
   {
    "duration": 17,
    "start_time": "2022-03-08T19:22:31.556Z"
   },
   {
    "duration": 43,
    "start_time": "2022-03-08T19:22:31.574Z"
   },
   {
    "duration": 18,
    "start_time": "2022-03-08T19:22:31.618Z"
   },
   {
    "duration": 14,
    "start_time": "2022-03-08T19:22:31.637Z"
   },
   {
    "duration": 7,
    "start_time": "2022-03-08T19:22:31.652Z"
   },
   {
    "duration": 46,
    "start_time": "2022-03-08T19:22:31.660Z"
   },
   {
    "duration": 10,
    "start_time": "2022-03-08T19:22:31.707Z"
   },
   {
    "duration": 291,
    "start_time": "2022-03-08T19:22:31.719Z"
   },
   {
    "duration": 16,
    "start_time": "2022-03-08T19:22:32.011Z"
   },
   {
    "duration": 356,
    "start_time": "2022-03-08T19:22:32.028Z"
   },
   {
    "duration": 4,
    "start_time": "2022-03-08T19:22:32.386Z"
   },
   {
    "duration": 6,
    "start_time": "2022-03-08T19:22:32.401Z"
   },
   {
    "duration": 545,
    "start_time": "2022-03-08T19:22:32.409Z"
   },
   {
    "duration": 5,
    "start_time": "2022-03-08T19:22:32.956Z"
   },
   {
    "duration": 15,
    "start_time": "2022-03-08T19:22:32.963Z"
   },
   {
    "duration": 495,
    "start_time": "2022-03-08T19:22:32.979Z"
   },
   {
    "duration": 5,
    "start_time": "2022-03-08T19:22:33.476Z"
   },
   {
    "duration": 20,
    "start_time": "2022-03-08T19:22:33.482Z"
   },
   {
    "duration": 375,
    "start_time": "2022-03-08T19:22:33.504Z"
   },
   {
    "duration": 5,
    "start_time": "2022-03-08T19:22:33.881Z"
   },
   {
    "duration": 22,
    "start_time": "2022-03-08T19:22:33.888Z"
   },
   {
    "duration": 609,
    "start_time": "2022-03-08T19:22:33.912Z"
   },
   {
    "duration": 5,
    "start_time": "2022-03-08T19:22:34.522Z"
   },
   {
    "duration": 13,
    "start_time": "2022-03-08T19:22:34.528Z"
   },
   {
    "duration": 455,
    "start_time": "2022-03-08T19:22:34.542Z"
   },
   {
    "duration": 4,
    "start_time": "2022-03-08T19:22:35.002Z"
   },
   {
    "duration": 11,
    "start_time": "2022-03-08T19:22:35.008Z"
   },
   {
    "duration": 345,
    "start_time": "2022-03-08T19:22:35.020Z"
   },
   {
    "duration": 4,
    "start_time": "2022-03-08T19:22:35.367Z"
   },
   {
    "duration": 27,
    "start_time": "2022-03-08T19:22:35.375Z"
   },
   {
    "duration": 10,
    "start_time": "2022-03-08T19:22:35.404Z"
   },
   {
    "duration": 8,
    "start_time": "2022-03-08T19:22:35.416Z"
   },
   {
    "duration": 14,
    "start_time": "2022-03-08T19:22:35.426Z"
   },
   {
    "duration": 11,
    "start_time": "2022-03-08T19:22:35.441Z"
   },
   {
    "duration": 8,
    "start_time": "2022-03-08T19:22:35.453Z"
   },
   {
    "duration": 12,
    "start_time": "2022-03-08T19:22:35.462Z"
   },
   {
    "duration": 10,
    "start_time": "2022-03-08T19:22:35.502Z"
   },
   {
    "duration": 8,
    "start_time": "2022-03-08T19:22:35.514Z"
   },
   {
    "duration": 13,
    "start_time": "2022-03-08T19:22:35.523Z"
   },
   {
    "duration": 21,
    "start_time": "2022-03-08T19:22:35.538Z"
   },
   {
    "duration": 8,
    "start_time": "2022-03-08T19:22:35.561Z"
   },
   {
    "duration": 45,
    "start_time": "2022-03-08T19:22:35.571Z"
   },
   {
    "duration": 15,
    "start_time": "2022-03-08T19:22:35.618Z"
   },
   {
    "duration": 15,
    "start_time": "2022-03-08T19:22:35.635Z"
   },
   {
    "duration": 17,
    "start_time": "2022-03-08T19:22:35.652Z"
   },
   {
    "duration": 163,
    "start_time": "2022-03-08T19:22:35.671Z"
   },
   {
    "duration": 137,
    "start_time": "2022-03-08T19:22:35.835Z"
   },
   {
    "duration": 137,
    "start_time": "2022-03-08T19:22:35.974Z"
   },
   {
    "duration": 11,
    "start_time": "2022-03-08T19:22:36.113Z"
   },
   {
    "duration": 18,
    "start_time": "2022-03-08T19:22:36.126Z"
   },
   {
    "duration": 18,
    "start_time": "2022-03-08T19:22:36.145Z"
   },
   {
    "duration": 13,
    "start_time": "2022-03-08T19:22:36.165Z"
   },
   {
    "duration": 21,
    "start_time": "2022-03-08T19:24:12.116Z"
   },
   {
    "duration": 483,
    "start_time": "2022-03-08T19:24:12.987Z"
   },
   {
    "duration": 19,
    "start_time": "2022-03-08T19:24:54.070Z"
   },
   {
    "duration": 10,
    "start_time": "2022-03-08T19:26:58.312Z"
   },
   {
    "duration": 19,
    "start_time": "2022-03-08T19:27:01.082Z"
   },
   {
    "duration": 19,
    "start_time": "2022-03-08T19:27:01.866Z"
   },
   {
    "duration": 15,
    "start_time": "2022-03-08T19:27:03.414Z"
   },
   {
    "duration": 8,
    "start_time": "2022-03-08T19:27:04.573Z"
   },
   {
    "duration": 21,
    "start_time": "2022-03-08T19:27:05.916Z"
   },
   {
    "duration": 12,
    "start_time": "2022-03-08T19:27:07.059Z"
   },
   {
    "duration": 281,
    "start_time": "2022-03-08T19:27:07.684Z"
   },
   {
    "duration": 482,
    "start_time": "2022-03-08T19:29:44.142Z"
   },
   {
    "duration": 6,
    "start_time": "2022-03-08T19:30:04.650Z"
   },
   {
    "duration": 12,
    "start_time": "2022-03-08T19:31:07.419Z"
   },
   {
    "duration": 495,
    "start_time": "2022-03-08T19:31:29.876Z"
   },
   {
    "duration": 6,
    "start_time": "2022-03-08T19:32:04.305Z"
   },
   {
    "duration": 11,
    "start_time": "2022-03-08T19:32:49.956Z"
   },
   {
    "duration": 462,
    "start_time": "2022-03-08T19:32:51.544Z"
   },
   {
    "duration": 11,
    "start_time": "2022-03-08T19:33:49.662Z"
   },
   {
    "duration": 844,
    "start_time": "2022-03-08T19:34:22.405Z"
   },
   {
    "duration": 518,
    "start_time": "2022-03-08T19:34:30.169Z"
   },
   {
    "duration": 5,
    "start_time": "2022-03-08T19:35:13.723Z"
   },
   {
    "duration": 12,
    "start_time": "2022-03-08T19:35:29.516Z"
   },
   {
    "duration": 496,
    "start_time": "2022-03-08T19:35:30.390Z"
   },
   {
    "duration": 5,
    "start_time": "2022-03-08T19:35:31.652Z"
   },
   {
    "duration": 9,
    "start_time": "2022-03-08T19:36:06.163Z"
   },
   {
    "duration": 8,
    "start_time": "2022-03-08T19:36:17.031Z"
   },
   {
    "duration": 9,
    "start_time": "2022-03-08T19:37:06.073Z"
   },
   {
    "duration": 9,
    "start_time": "2022-03-08T19:37:36.904Z"
   },
   {
    "duration": 18,
    "start_time": "2022-03-08T19:37:37.318Z"
   },
   {
    "duration": 12,
    "start_time": "2022-03-08T19:37:37.709Z"
   },
   {
    "duration": 290,
    "start_time": "2022-03-08T19:37:37.914Z"
   },
   {
    "duration": 497,
    "start_time": "2022-03-08T19:37:52.593Z"
   },
   {
    "duration": 5,
    "start_time": "2022-03-08T19:37:53.186Z"
   },
   {
    "duration": 12,
    "start_time": "2022-03-08T19:37:53.813Z"
   },
   {
    "duration": 469,
    "start_time": "2022-03-08T19:37:54.107Z"
   },
   {
    "duration": 5,
    "start_time": "2022-03-08T19:37:54.578Z"
   },
   {
    "duration": 12,
    "start_time": "2022-03-08T19:37:55.012Z"
   },
   {
    "duration": 480,
    "start_time": "2022-03-08T19:37:55.297Z"
   },
   {
    "duration": 5,
    "start_time": "2022-03-08T19:37:55.778Z"
   },
   {
    "duration": 11,
    "start_time": "2022-03-08T19:37:56.200Z"
   },
   {
    "duration": 421,
    "start_time": "2022-03-08T19:37:56.436Z"
   },
   {
    "duration": 5,
    "start_time": "2022-03-08T19:37:56.858Z"
   },
   {
    "duration": 12,
    "start_time": "2022-03-08T19:37:57.283Z"
   },
   {
    "duration": 473,
    "start_time": "2022-03-08T19:37:57.505Z"
   },
   {
    "duration": 6,
    "start_time": "2022-03-08T19:37:58.241Z"
   },
   {
    "duration": 7,
    "start_time": "2022-03-08T19:39:53.360Z"
   },
   {
    "duration": 331,
    "start_time": "2022-03-08T19:40:19.960Z"
   },
   {
    "duration": 7,
    "start_time": "2022-03-08T19:40:42.693Z"
   },
   {
    "duration": 410,
    "start_time": "2022-03-08T19:41:01.621Z"
   },
   {
    "duration": 8,
    "start_time": "2022-03-08T19:41:21.957Z"
   },
   {
    "duration": 20,
    "start_time": "2022-03-08T19:41:22.353Z"
   },
   {
    "duration": 11,
    "start_time": "2022-03-08T19:41:22.762Z"
   },
   {
    "duration": 301,
    "start_time": "2022-03-08T19:41:22.983Z"
   },
   {
    "duration": 19,
    "start_time": "2022-03-08T19:41:23.852Z"
   },
   {
    "duration": 472,
    "start_time": "2022-03-08T19:41:24.150Z"
   },
   {
    "duration": 4,
    "start_time": "2022-03-08T19:41:24.624Z"
   },
   {
    "duration": 12,
    "start_time": "2022-03-08T19:41:24.844Z"
   },
   {
    "duration": 486,
    "start_time": "2022-03-08T19:41:25.081Z"
   },
   {
    "duration": 5,
    "start_time": "2022-03-08T19:41:25.569Z"
   },
   {
    "duration": 11,
    "start_time": "2022-03-08T19:41:26.026Z"
   },
   {
    "duration": 455,
    "start_time": "2022-03-08T19:41:26.246Z"
   },
   {
    "duration": 4,
    "start_time": "2022-03-08T19:41:26.703Z"
   },
   {
    "duration": 12,
    "start_time": "2022-03-08T19:41:27.223Z"
   },
   {
    "duration": 479,
    "start_time": "2022-03-08T19:41:28.099Z"
   },
   {
    "duration": 5,
    "start_time": "2022-03-08T19:41:29.005Z"
   },
   {
    "duration": 11,
    "start_time": "2022-03-08T19:41:31.707Z"
   },
   {
    "duration": 433,
    "start_time": "2022-03-08T19:41:32.333Z"
   },
   {
    "duration": 5,
    "start_time": "2022-03-08T19:41:33.157Z"
   },
   {
    "duration": 11,
    "start_time": "2022-03-08T19:41:34.881Z"
   },
   {
    "duration": 501,
    "start_time": "2022-03-08T19:41:35.787Z"
   },
   {
    "duration": 5,
    "start_time": "2022-03-08T19:42:30.187Z"
   },
   {
    "duration": 7,
    "start_time": "2022-03-08T19:42:51.085Z"
   },
   {
    "duration": 10,
    "start_time": "2022-03-08T19:43:11.455Z"
   },
   {
    "duration": 610,
    "start_time": "2022-03-08T19:43:39.994Z"
   },
   {
    "duration": 11,
    "start_time": "2022-03-08T19:44:10.762Z"
   },
   {
    "duration": 441,
    "start_time": "2022-03-08T19:44:11.527Z"
   },
   {
    "duration": 5,
    "start_time": "2022-03-08T19:44:44.182Z"
   },
   {
    "duration": 15,
    "start_time": "2022-03-08T19:46:46.017Z"
   },
   {
    "duration": 10,
    "start_time": "2022-03-08T19:46:47.959Z"
   },
   {
    "duration": 8,
    "start_time": "2022-03-08T19:46:48.243Z"
   },
   {
    "duration": 10,
    "start_time": "2022-03-08T19:46:48.526Z"
   },
   {
    "duration": 9,
    "start_time": "2022-03-08T19:46:49.031Z"
   },
   {
    "duration": 10,
    "start_time": "2022-03-08T19:46:49.297Z"
   },
   {
    "duration": 92,
    "start_time": "2022-03-08T19:46:49.581Z"
   },
   {
    "duration": 10,
    "start_time": "2022-03-08T19:46:50.071Z"
   },
   {
    "duration": 8,
    "start_time": "2022-03-08T19:46:50.338Z"
   },
   {
    "duration": 10,
    "start_time": "2022-03-08T19:46:50.591Z"
   },
   {
    "duration": 21,
    "start_time": "2022-03-08T19:46:51.568Z"
   },
   {
    "duration": 9,
    "start_time": "2022-03-08T19:46:51.881Z"
   },
   {
    "duration": 15,
    "start_time": "2022-03-08T19:46:52.791Z"
   },
   {
    "duration": 15,
    "start_time": "2022-03-08T19:46:53.574Z"
   },
   {
    "duration": 14,
    "start_time": "2022-03-08T19:46:54.065Z"
   },
   {
    "duration": 15,
    "start_time": "2022-03-08T19:46:54.761Z"
   },
   {
    "duration": 131,
    "start_time": "2022-03-08T19:46:55.484Z"
   },
   {
    "duration": 1127,
    "start_time": "2022-03-08T19:47:05.955Z"
   },
   {
    "duration": 126,
    "start_time": "2022-03-08T19:47:07.084Z"
   },
   {
    "duration": 2,
    "start_time": "2022-03-08T19:47:07.212Z"
   },
   {
    "duration": 4,
    "start_time": "2022-03-08T19:47:07.215Z"
   },
   {
    "duration": 14,
    "start_time": "2022-03-08T19:47:07.221Z"
   },
   {
    "duration": 8,
    "start_time": "2022-03-08T19:47:07.237Z"
   },
   {
    "duration": 13,
    "start_time": "2022-03-08T19:47:07.247Z"
   },
   {
    "duration": 3,
    "start_time": "2022-03-08T19:47:07.262Z"
   },
   {
    "duration": 34,
    "start_time": "2022-03-08T19:47:07.267Z"
   },
   {
    "duration": 3,
    "start_time": "2022-03-08T19:47:07.303Z"
   },
   {
    "duration": 5,
    "start_time": "2022-03-08T19:47:07.308Z"
   },
   {
    "duration": 9,
    "start_time": "2022-03-08T19:47:07.314Z"
   },
   {
    "duration": 7,
    "start_time": "2022-03-08T19:47:07.325Z"
   },
   {
    "duration": 13,
    "start_time": "2022-03-08T19:47:07.334Z"
   },
   {
    "duration": 17,
    "start_time": "2022-03-08T19:47:07.349Z"
   },
   {
    "duration": 5,
    "start_time": "2022-03-08T19:47:07.367Z"
   },
   {
    "duration": 29,
    "start_time": "2022-03-08T19:47:07.373Z"
   },
   {
    "duration": 4,
    "start_time": "2022-03-08T19:47:07.403Z"
   },
   {
    "duration": 5,
    "start_time": "2022-03-08T19:47:07.409Z"
   },
   {
    "duration": 9,
    "start_time": "2022-03-08T19:47:07.416Z"
   },
   {
    "duration": 16,
    "start_time": "2022-03-08T19:47:07.426Z"
   },
   {
    "duration": 5,
    "start_time": "2022-03-08T19:47:07.443Z"
   },
   {
    "duration": 8,
    "start_time": "2022-03-08T19:47:07.451Z"
   },
   {
    "duration": 12,
    "start_time": "2022-03-08T19:47:07.461Z"
   },
   {
    "duration": 4,
    "start_time": "2022-03-08T19:47:07.474Z"
   },
   {
    "duration": 27,
    "start_time": "2022-03-08T19:47:07.480Z"
   },
   {
    "duration": 5,
    "start_time": "2022-03-08T19:47:07.508Z"
   },
   {
    "duration": 13,
    "start_time": "2022-03-08T19:47:07.515Z"
   },
   {
    "duration": 6,
    "start_time": "2022-03-08T19:47:07.529Z"
   },
   {
    "duration": 10,
    "start_time": "2022-03-08T19:47:07.536Z"
   },
   {
    "duration": 99,
    "start_time": "2022-03-08T19:47:07.547Z"
   },
   {
    "duration": 10,
    "start_time": "2022-03-08T19:47:07.647Z"
   },
   {
    "duration": 12,
    "start_time": "2022-03-08T19:47:07.658Z"
   },
   {
    "duration": 23,
    "start_time": "2022-03-08T19:47:07.671Z"
   },
   {
    "duration": 329,
    "start_time": "2022-03-08T19:47:07.695Z"
   },
   {
    "duration": 20,
    "start_time": "2022-03-08T19:47:08.026Z"
   },
   {
    "duration": 8,
    "start_time": "2022-03-08T19:47:08.047Z"
   },
   {
    "duration": 6,
    "start_time": "2022-03-08T19:47:08.056Z"
   },
   {
    "duration": 9,
    "start_time": "2022-03-08T19:47:08.063Z"
   },
   {
    "duration": 18,
    "start_time": "2022-03-08T19:47:08.101Z"
   },
   {
    "duration": 16,
    "start_time": "2022-03-08T19:47:08.121Z"
   },
   {
    "duration": 12,
    "start_time": "2022-03-08T19:47:08.139Z"
   },
   {
    "duration": 7,
    "start_time": "2022-03-08T19:47:08.152Z"
   },
   {
    "duration": 44,
    "start_time": "2022-03-08T19:47:08.161Z"
   },
   {
    "duration": 11,
    "start_time": "2022-03-08T19:47:08.207Z"
   },
   {
    "duration": 317,
    "start_time": "2022-03-08T19:47:08.220Z"
   },
   {
    "duration": 20,
    "start_time": "2022-03-08T19:47:08.539Z"
   },
   {
    "duration": 513,
    "start_time": "2022-03-08T19:47:08.561Z"
   },
   {
    "duration": 5,
    "start_time": "2022-03-08T19:47:09.075Z"
   },
   {
    "duration": 21,
    "start_time": "2022-03-08T19:47:09.081Z"
   },
   {
    "duration": 480,
    "start_time": "2022-03-08T19:47:09.103Z"
   },
   {
    "duration": 4,
    "start_time": "2022-03-08T19:47:09.585Z"
   },
   {
    "duration": 11,
    "start_time": "2022-03-08T19:47:09.601Z"
   },
   {
    "duration": 532,
    "start_time": "2022-03-08T19:47:09.614Z"
   },
   {
    "duration": 4,
    "start_time": "2022-03-08T19:47:10.148Z"
   },
   {
    "duration": 12,
    "start_time": "2022-03-08T19:47:10.154Z"
   },
   {
    "duration": 487,
    "start_time": "2022-03-08T19:47:10.167Z"
   },
   {
    "duration": 5,
    "start_time": "2022-03-08T19:47:10.656Z"
   },
   {
    "duration": 14,
    "start_time": "2022-03-08T19:47:10.662Z"
   },
   {
    "duration": 480,
    "start_time": "2022-03-08T19:47:10.678Z"
   },
   {
    "duration": 4,
    "start_time": "2022-03-08T19:47:11.160Z"
   },
   {
    "duration": 13,
    "start_time": "2022-03-08T19:47:11.165Z"
   },
   {
    "duration": 474,
    "start_time": "2022-03-08T19:47:11.180Z"
   },
   {
    "duration": 5,
    "start_time": "2022-03-08T19:47:11.656Z"
   },
   {
    "duration": 10,
    "start_time": "2022-03-08T19:47:11.663Z"
   },
   {
    "duration": 480,
    "start_time": "2022-03-08T19:47:11.675Z"
   },
   {
    "duration": 4,
    "start_time": "2022-03-08T19:47:12.157Z"
   },
   {
    "duration": 14,
    "start_time": "2022-03-08T19:47:12.166Z"
   },
   {
    "duration": 21,
    "start_time": "2022-03-08T19:47:12.182Z"
   },
   {
    "duration": 7,
    "start_time": "2022-03-08T19:47:12.205Z"
   },
   {
    "duration": 10,
    "start_time": "2022-03-08T19:47:12.213Z"
   },
   {
    "duration": 9,
    "start_time": "2022-03-08T19:47:12.225Z"
   },
   {
    "duration": 7,
    "start_time": "2022-03-08T19:47:12.235Z"
   },
   {
    "duration": 10,
    "start_time": "2022-03-08T19:47:12.244Z"
   },
   {
    "duration": 14,
    "start_time": "2022-03-08T19:47:12.255Z"
   },
   {
    "duration": 37,
    "start_time": "2022-03-08T19:47:12.270Z"
   },
   {
    "duration": 9,
    "start_time": "2022-03-08T19:47:12.308Z"
   },
   {
    "duration": 18,
    "start_time": "2022-03-08T19:47:12.319Z"
   },
   {
    "duration": 8,
    "start_time": "2022-03-08T19:47:12.338Z"
   },
   {
    "duration": 14,
    "start_time": "2022-03-08T19:47:12.348Z"
   },
   {
    "duration": 43,
    "start_time": "2022-03-08T19:47:12.363Z"
   },
   {
    "duration": 15,
    "start_time": "2022-03-08T19:47:12.407Z"
   },
   {
    "duration": 14,
    "start_time": "2022-03-08T19:47:12.423Z"
   },
   {
    "duration": 149,
    "start_time": "2022-03-08T19:47:12.439Z"
   },
   {
    "duration": 137,
    "start_time": "2022-03-08T19:47:12.589Z"
   },
   {
    "duration": 135,
    "start_time": "2022-03-08T19:47:12.728Z"
   },
   {
    "duration": 10,
    "start_time": "2022-03-08T19:47:12.865Z"
   },
   {
    "duration": 5,
    "start_time": "2022-03-08T19:47:12.876Z"
   },
   {
    "duration": 22,
    "start_time": "2022-03-08T19:47:12.882Z"
   },
   {
    "duration": 4,
    "start_time": "2022-03-08T19:47:12.906Z"
   },
   {
    "duration": 11,
    "start_time": "2022-03-08T19:52:24.738Z"
   },
   {
    "duration": 4,
    "start_time": "2022-03-08T19:52:25.526Z"
   },
   {
    "duration": 7311,
    "start_time": "2022-03-08T19:53:44.136Z"
   },
   {
    "duration": 229,
    "start_time": "2022-03-08T19:53:51.220Z"
   },
   {
    "duration": 8,
    "start_time": "2022-03-08T19:56:00.684Z"
   },
   {
    "duration": 5,
    "start_time": "2022-03-08T19:56:01.606Z"
   },
   {
    "duration": 21,
    "start_time": "2022-03-08T19:57:09.381Z"
   },
   {
    "duration": 287,
    "start_time": "2022-03-08T19:58:43.784Z"
   },
   {
    "duration": 308,
    "start_time": "2022-03-08T19:59:03.429Z"
   },
   {
    "duration": 8,
    "start_time": "2022-03-08T19:59:36.822Z"
   },
   {
    "duration": 1108,
    "start_time": "2022-03-08T20:02:15.224Z"
   },
   {
    "duration": 161,
    "start_time": "2022-03-08T20:02:16.334Z"
   },
   {
    "duration": 2,
    "start_time": "2022-03-08T20:02:16.497Z"
   },
   {
    "duration": 4,
    "start_time": "2022-03-08T20:02:16.501Z"
   },
   {
    "duration": 16,
    "start_time": "2022-03-08T20:02:16.506Z"
   },
   {
    "duration": 8,
    "start_time": "2022-03-08T20:02:16.523Z"
   },
   {
    "duration": 14,
    "start_time": "2022-03-08T20:02:16.533Z"
   },
   {
    "duration": 3,
    "start_time": "2022-03-08T20:02:16.548Z"
   },
   {
    "duration": 15,
    "start_time": "2022-03-08T20:02:16.553Z"
   },
   {
    "duration": 6,
    "start_time": "2022-03-08T20:02:16.570Z"
   },
   {
    "duration": 26,
    "start_time": "2022-03-08T20:02:16.577Z"
   },
   {
    "duration": 7,
    "start_time": "2022-03-08T20:02:16.605Z"
   },
   {
    "duration": 8,
    "start_time": "2022-03-08T20:02:16.613Z"
   },
   {
    "duration": 13,
    "start_time": "2022-03-08T20:02:16.623Z"
   },
   {
    "duration": 18,
    "start_time": "2022-03-08T20:02:16.638Z"
   },
   {
    "duration": 6,
    "start_time": "2022-03-08T20:02:16.658Z"
   },
   {
    "duration": 11,
    "start_time": "2022-03-08T20:02:16.665Z"
   },
   {
    "duration": 9,
    "start_time": "2022-03-08T20:02:16.677Z"
   },
   {
    "duration": 3,
    "start_time": "2022-03-08T20:02:16.701Z"
   },
   {
    "duration": 6,
    "start_time": "2022-03-08T20:02:16.705Z"
   },
   {
    "duration": 15,
    "start_time": "2022-03-08T20:02:16.714Z"
   },
   {
    "duration": 5,
    "start_time": "2022-03-08T20:02:16.730Z"
   },
   {
    "duration": 8,
    "start_time": "2022-03-08T20:02:16.737Z"
   },
   {
    "duration": 17,
    "start_time": "2022-03-08T20:02:16.746Z"
   },
   {
    "duration": 8,
    "start_time": "2022-03-08T20:02:16.764Z"
   },
   {
    "duration": 12,
    "start_time": "2022-03-08T20:02:16.773Z"
   },
   {
    "duration": 5,
    "start_time": "2022-03-08T20:02:16.803Z"
   },
   {
    "duration": 10,
    "start_time": "2022-03-08T20:02:16.810Z"
   },
   {
    "duration": 5,
    "start_time": "2022-03-08T20:02:16.821Z"
   },
   {
    "duration": 10,
    "start_time": "2022-03-08T20:02:16.828Z"
   },
   {
    "duration": 12,
    "start_time": "2022-03-08T20:02:16.839Z"
   },
   {
    "duration": 6,
    "start_time": "2022-03-08T20:02:16.853Z"
   },
   {
    "duration": 10,
    "start_time": "2022-03-08T20:02:16.860Z"
   },
   {
    "duration": 33,
    "start_time": "2022-03-08T20:02:16.871Z"
   },
   {
    "duration": 359,
    "start_time": "2022-03-08T20:02:16.905Z"
   },
   {
    "duration": 21,
    "start_time": "2022-03-08T20:02:17.266Z"
   },
   {
    "duration": 17,
    "start_time": "2022-03-08T20:02:17.289Z"
   },
   {
    "duration": 6,
    "start_time": "2022-03-08T20:02:17.308Z"
   },
   {
    "duration": 9,
    "start_time": "2022-03-08T20:02:17.315Z"
   },
   {
    "duration": 21,
    "start_time": "2022-03-08T20:02:17.325Z"
   },
   {
    "duration": 17,
    "start_time": "2022-03-08T20:02:17.348Z"
   },
   {
    "duration": 46,
    "start_time": "2022-03-08T20:02:17.366Z"
   },
   {
    "duration": 7,
    "start_time": "2022-03-08T20:02:17.413Z"
   },
   {
    "duration": 18,
    "start_time": "2022-03-08T20:02:17.422Z"
   },
   {
    "duration": 11,
    "start_time": "2022-03-08T20:02:17.441Z"
   },
   {
    "duration": 330,
    "start_time": "2022-03-08T20:02:17.453Z"
   },
   {
    "duration": 27,
    "start_time": "2022-03-08T20:02:17.785Z"
   },
   {
    "duration": 489,
    "start_time": "2022-03-08T20:02:17.814Z"
   },
   {
    "duration": 5,
    "start_time": "2022-03-08T20:02:18.304Z"
   },
   {
    "duration": 13,
    "start_time": "2022-03-08T20:02:18.310Z"
   },
   {
    "duration": 456,
    "start_time": "2022-03-08T20:02:18.325Z"
   },
   {
    "duration": 4,
    "start_time": "2022-03-08T20:02:18.784Z"
   },
   {
    "duration": 11,
    "start_time": "2022-03-08T20:02:18.802Z"
   },
   {
    "duration": 537,
    "start_time": "2022-03-08T20:02:18.815Z"
   },
   {
    "duration": 5,
    "start_time": "2022-03-08T20:02:19.354Z"
   },
   {
    "duration": 14,
    "start_time": "2022-03-08T20:02:19.361Z"
   },
   {
    "duration": 480,
    "start_time": "2022-03-08T20:02:19.377Z"
   },
   {
    "duration": 5,
    "start_time": "2022-03-08T20:02:19.859Z"
   },
   {
    "duration": 14,
    "start_time": "2022-03-08T20:02:19.865Z"
   },
   {
    "duration": 475,
    "start_time": "2022-03-08T20:02:19.880Z"
   },
   {
    "duration": 4,
    "start_time": "2022-03-08T20:02:20.356Z"
   },
   {
    "duration": 13,
    "start_time": "2022-03-08T20:02:20.362Z"
   },
   {
    "duration": 482,
    "start_time": "2022-03-08T20:02:20.376Z"
   },
   {
    "duration": 5,
    "start_time": "2022-03-08T20:02:20.860Z"
   },
   {
    "duration": 12,
    "start_time": "2022-03-08T20:02:20.866Z"
   },
   {
    "duration": 484,
    "start_time": "2022-03-08T20:02:20.880Z"
   },
   {
    "duration": 4,
    "start_time": "2022-03-08T20:02:21.366Z"
   },
   {
    "duration": 24,
    "start_time": "2022-03-08T20:02:21.371Z"
   },
   {
    "duration": 11,
    "start_time": "2022-03-08T20:02:21.396Z"
   },
   {
    "duration": 7,
    "start_time": "2022-03-08T20:02:21.409Z"
   },
   {
    "duration": 9,
    "start_time": "2022-03-08T20:02:21.417Z"
   },
   {
    "duration": 9,
    "start_time": "2022-03-08T20:02:21.428Z"
   },
   {
    "duration": 8,
    "start_time": "2022-03-08T20:02:21.438Z"
   },
   {
    "duration": 12,
    "start_time": "2022-03-08T20:02:21.447Z"
   },
   {
    "duration": 41,
    "start_time": "2022-03-08T20:02:21.460Z"
   },
   {
    "duration": 8,
    "start_time": "2022-03-08T20:02:21.502Z"
   },
   {
    "duration": 15,
    "start_time": "2022-03-08T20:02:21.511Z"
   },
   {
    "duration": 19,
    "start_time": "2022-03-08T20:02:21.527Z"
   },
   {
    "duration": 10,
    "start_time": "2022-03-08T20:02:21.548Z"
   },
   {
    "duration": 42,
    "start_time": "2022-03-08T20:02:21.560Z"
   },
   {
    "duration": 17,
    "start_time": "2022-03-08T20:02:21.604Z"
   },
   {
    "duration": 16,
    "start_time": "2022-03-08T20:02:21.622Z"
   },
   {
    "duration": 17,
    "start_time": "2022-03-08T20:02:21.640Z"
   },
   {
    "duration": 160,
    "start_time": "2022-03-08T20:02:21.659Z"
   },
   {
    "duration": 138,
    "start_time": "2022-03-08T20:02:21.821Z"
   },
   {
    "duration": 136,
    "start_time": "2022-03-08T20:02:21.960Z"
   },
   {
    "duration": 7,
    "start_time": "2022-03-08T20:02:22.101Z"
   },
   {
    "duration": 9,
    "start_time": "2022-03-08T20:02:22.109Z"
   },
   {
    "duration": 4,
    "start_time": "2022-03-08T20:02:22.120Z"
   },
   {
    "duration": 8,
    "start_time": "2022-03-08T20:02:22.125Z"
   },
   {
    "duration": 4,
    "start_time": "2022-03-08T20:02:22.134Z"
   },
   {
    "duration": 21,
    "start_time": "2022-03-08T20:03:29.663Z"
   },
   {
    "duration": 31,
    "start_time": "2022-03-08T20:04:02.015Z"
   },
   {
    "duration": 29,
    "start_time": "2022-03-08T20:04:09.012Z"
   },
   {
    "duration": 18,
    "start_time": "2022-03-08T20:04:16.674Z"
   },
   {
    "duration": 18,
    "start_time": "2022-03-08T20:04:23.237Z"
   },
   {
    "duration": 1143,
    "start_time": "2022-03-08T20:04:31.789Z"
   },
   {
    "duration": 139,
    "start_time": "2022-03-08T20:04:32.934Z"
   },
   {
    "duration": 3,
    "start_time": "2022-03-08T20:04:33.074Z"
   },
   {
    "duration": 4,
    "start_time": "2022-03-08T20:04:33.078Z"
   },
   {
    "duration": 16,
    "start_time": "2022-03-08T20:04:33.083Z"
   },
   {
    "duration": 9,
    "start_time": "2022-03-08T20:04:33.100Z"
   },
   {
    "duration": 14,
    "start_time": "2022-03-08T20:04:33.111Z"
   },
   {
    "duration": 2,
    "start_time": "2022-03-08T20:04:33.127Z"
   },
   {
    "duration": 17,
    "start_time": "2022-03-08T20:04:33.131Z"
   },
   {
    "duration": 6,
    "start_time": "2022-03-08T20:04:33.149Z"
   },
   {
    "duration": 9,
    "start_time": "2022-03-08T20:04:33.156Z"
   },
   {
    "duration": 10,
    "start_time": "2022-03-08T20:04:33.166Z"
   },
   {
    "duration": 24,
    "start_time": "2022-03-08T20:04:33.178Z"
   },
   {
    "duration": 10,
    "start_time": "2022-03-08T20:04:33.204Z"
   },
   {
    "duration": 17,
    "start_time": "2022-03-08T20:04:33.216Z"
   },
   {
    "duration": 6,
    "start_time": "2022-03-08T20:04:33.235Z"
   },
   {
    "duration": 11,
    "start_time": "2022-03-08T20:04:33.243Z"
   },
   {
    "duration": 9,
    "start_time": "2022-03-08T20:04:33.255Z"
   },
   {
    "duration": 8,
    "start_time": "2022-03-08T20:04:33.265Z"
   },
   {
    "duration": 26,
    "start_time": "2022-03-08T20:04:33.275Z"
   },
   {
    "duration": 11,
    "start_time": "2022-03-08T20:04:33.303Z"
   },
   {
    "duration": 4,
    "start_time": "2022-03-08T20:04:33.318Z"
   },
   {
    "duration": 17,
    "start_time": "2022-03-08T20:04:33.324Z"
   },
   {
    "duration": 24,
    "start_time": "2022-03-08T20:04:33.342Z"
   },
   {
    "duration": 30,
    "start_time": "2022-03-08T20:04:33.368Z"
   },
   {
    "duration": 25,
    "start_time": "2022-03-08T20:04:33.400Z"
   },
   {
    "duration": 10,
    "start_time": "2022-03-08T20:04:33.427Z"
   },
   {
    "duration": 14,
    "start_time": "2022-03-08T20:04:33.438Z"
   },
   {
    "duration": 14,
    "start_time": "2022-03-08T20:04:33.453Z"
   },
   {
    "duration": 25,
    "start_time": "2022-03-08T20:04:33.469Z"
   },
   {
    "duration": 12,
    "start_time": "2022-03-08T20:04:33.495Z"
   },
   {
    "duration": 13,
    "start_time": "2022-03-08T20:04:33.509Z"
   },
   {
    "duration": 25,
    "start_time": "2022-03-08T20:04:33.523Z"
   },
   {
    "duration": 45,
    "start_time": "2022-03-08T20:04:33.549Z"
   },
   {
    "duration": 342,
    "start_time": "2022-03-08T20:04:33.595Z"
   },
   {
    "duration": 20,
    "start_time": "2022-03-08T20:04:33.938Z"
   },
   {
    "duration": 9,
    "start_time": "2022-03-08T20:04:33.960Z"
   },
   {
    "duration": 20,
    "start_time": "2022-03-08T20:04:33.971Z"
   },
   {
    "duration": 15,
    "start_time": "2022-03-08T20:04:33.993Z"
   },
   {
    "duration": 37,
    "start_time": "2022-03-08T20:04:34.010Z"
   },
   {
    "duration": 17,
    "start_time": "2022-03-08T20:04:34.049Z"
   },
   {
    "duration": 12,
    "start_time": "2022-03-08T20:04:34.068Z"
   },
   {
    "duration": 12,
    "start_time": "2022-03-08T20:04:34.082Z"
   },
   {
    "duration": 48,
    "start_time": "2022-03-08T20:04:34.096Z"
   },
   {
    "duration": 21,
    "start_time": "2022-03-08T20:04:34.145Z"
   },
   {
    "duration": 312,
    "start_time": "2022-03-08T20:04:34.168Z"
   },
   {
    "duration": 25,
    "start_time": "2022-03-08T20:04:34.481Z"
   },
   {
    "duration": 487,
    "start_time": "2022-03-08T20:04:34.508Z"
   },
   {
    "duration": 4,
    "start_time": "2022-03-08T20:04:35.001Z"
   },
   {
    "duration": 22,
    "start_time": "2022-03-08T20:04:35.007Z"
   },
   {
    "duration": 451,
    "start_time": "2022-03-08T20:04:35.030Z"
   },
   {
    "duration": 4,
    "start_time": "2022-03-08T20:04:35.483Z"
   },
   {
    "duration": 20,
    "start_time": "2022-03-08T20:04:35.489Z"
   },
   {
    "duration": 543,
    "start_time": "2022-03-08T20:04:35.511Z"
   },
   {
    "duration": 5,
    "start_time": "2022-03-08T20:04:36.055Z"
   },
   {
    "duration": 12,
    "start_time": "2022-03-08T20:04:36.061Z"
   },
   {
    "duration": 493,
    "start_time": "2022-03-08T20:04:36.075Z"
   },
   {
    "duration": 6,
    "start_time": "2022-03-08T20:04:36.570Z"
   },
   {
    "duration": 25,
    "start_time": "2022-03-08T20:04:36.577Z"
   },
   {
    "duration": 467,
    "start_time": "2022-03-08T20:04:36.604Z"
   },
   {
    "duration": 5,
    "start_time": "2022-03-08T20:04:37.073Z"
   },
   {
    "duration": 26,
    "start_time": "2022-03-08T20:04:37.080Z"
   },
   {
    "duration": 470,
    "start_time": "2022-03-08T20:04:37.108Z"
   },
   {
    "duration": 6,
    "start_time": "2022-03-08T20:04:37.580Z"
   },
   {
    "duration": 20,
    "start_time": "2022-03-08T20:04:37.588Z"
   },
   {
    "duration": 449,
    "start_time": "2022-03-08T20:04:37.610Z"
   },
   {
    "duration": 4,
    "start_time": "2022-03-08T20:04:38.065Z"
   },
   {
    "duration": 14,
    "start_time": "2022-03-08T20:04:38.072Z"
   },
   {
    "duration": 9,
    "start_time": "2022-03-08T20:04:38.101Z"
   },
   {
    "duration": 7,
    "start_time": "2022-03-08T20:04:38.112Z"
   },
   {
    "duration": 10,
    "start_time": "2022-03-08T20:04:38.121Z"
   },
   {
    "duration": 10,
    "start_time": "2022-03-08T20:04:38.132Z"
   },
   {
    "duration": 8,
    "start_time": "2022-03-08T20:04:38.143Z"
   },
   {
    "duration": 10,
    "start_time": "2022-03-08T20:04:38.153Z"
   },
   {
    "duration": 11,
    "start_time": "2022-03-08T20:04:38.201Z"
   },
   {
    "duration": 9,
    "start_time": "2022-03-08T20:04:38.214Z"
   },
   {
    "duration": 13,
    "start_time": "2022-03-08T20:04:38.224Z"
   },
   {
    "duration": 21,
    "start_time": "2022-03-08T20:04:38.238Z"
   },
   {
    "duration": 47,
    "start_time": "2022-03-08T20:04:38.261Z"
   },
   {
    "duration": 15,
    "start_time": "2022-03-08T20:04:38.310Z"
   },
   {
    "duration": 14,
    "start_time": "2022-03-08T20:04:38.327Z"
   },
   {
    "duration": 15,
    "start_time": "2022-03-08T20:04:38.343Z"
   },
   {
    "duration": 45,
    "start_time": "2022-03-08T20:04:38.360Z"
   },
   {
    "duration": 143,
    "start_time": "2022-03-08T20:04:38.406Z"
   },
   {
    "duration": 150,
    "start_time": "2022-03-08T20:04:38.551Z"
   },
   {
    "duration": 135,
    "start_time": "2022-03-08T20:04:38.703Z"
   },
   {
    "duration": 7,
    "start_time": "2022-03-08T20:04:38.840Z"
   },
   {
    "duration": 17,
    "start_time": "2022-03-08T20:04:38.849Z"
   },
   {
    "duration": 4,
    "start_time": "2022-03-08T20:04:38.868Z"
   },
   {
    "duration": 8,
    "start_time": "2022-03-08T20:04:38.873Z"
   },
   {
    "duration": 20,
    "start_time": "2022-03-08T20:04:38.882Z"
   },
   {
    "duration": 5,
    "start_time": "2022-03-08T20:05:21.639Z"
   },
   {
    "duration": 13,
    "start_time": "2022-03-08T20:05:57.440Z"
   },
   {
    "duration": 4,
    "start_time": "2022-03-08T20:05:58.400Z"
   },
   {
    "duration": 9,
    "start_time": "2022-03-08T20:06:42.601Z"
   },
   {
    "duration": 5,
    "start_time": "2022-03-08T20:06:43.297Z"
   },
   {
    "duration": 8,
    "start_time": "2022-03-08T20:07:04.061Z"
   },
   {
    "duration": 5,
    "start_time": "2022-03-08T20:07:05.078Z"
   },
   {
    "duration": 7,
    "start_time": "2022-03-08T20:07:08.305Z"
   },
   {
    "duration": 5,
    "start_time": "2022-03-08T20:07:09.056Z"
   },
   {
    "duration": 1112,
    "start_time": "2022-03-08T20:07:14.015Z"
   },
   {
    "duration": 128,
    "start_time": "2022-03-08T20:07:15.129Z"
   },
   {
    "duration": 3,
    "start_time": "2022-03-08T20:07:15.259Z"
   },
   {
    "duration": 5,
    "start_time": "2022-03-08T20:07:15.263Z"
   },
   {
    "duration": 15,
    "start_time": "2022-03-08T20:07:15.269Z"
   },
   {
    "duration": 9,
    "start_time": "2022-03-08T20:07:15.285Z"
   },
   {
    "duration": 13,
    "start_time": "2022-03-08T20:07:15.296Z"
   },
   {
    "duration": 3,
    "start_time": "2022-03-08T20:07:15.311Z"
   },
   {
    "duration": 12,
    "start_time": "2022-03-08T20:07:15.315Z"
   },
   {
    "duration": 3,
    "start_time": "2022-03-08T20:07:15.328Z"
   },
   {
    "duration": 7,
    "start_time": "2022-03-08T20:07:15.333Z"
   },
   {
    "duration": 13,
    "start_time": "2022-03-08T20:07:15.342Z"
   },
   {
    "duration": 10,
    "start_time": "2022-03-08T20:07:15.356Z"
   },
   {
    "duration": 12,
    "start_time": "2022-03-08T20:07:15.368Z"
   },
   {
    "duration": 31,
    "start_time": "2022-03-08T20:07:15.381Z"
   },
   {
    "duration": 6,
    "start_time": "2022-03-08T20:07:15.413Z"
   },
   {
    "duration": 8,
    "start_time": "2022-03-08T20:07:15.420Z"
   },
   {
    "duration": 8,
    "start_time": "2022-03-08T20:07:15.430Z"
   },
   {
    "duration": 8,
    "start_time": "2022-03-08T20:07:15.440Z"
   },
   {
    "duration": 10,
    "start_time": "2022-03-08T20:07:15.450Z"
   },
   {
    "duration": 17,
    "start_time": "2022-03-08T20:07:15.461Z"
   },
   {
    "duration": 4,
    "start_time": "2022-03-08T20:07:15.480Z"
   },
   {
    "duration": 17,
    "start_time": "2022-03-08T20:07:15.487Z"
   },
   {
    "duration": 14,
    "start_time": "2022-03-08T20:07:15.507Z"
   },
   {
    "duration": 8,
    "start_time": "2022-03-08T20:07:15.522Z"
   },
   {
    "duration": 14,
    "start_time": "2022-03-08T20:07:15.532Z"
   },
   {
    "duration": 9,
    "start_time": "2022-03-08T20:07:15.547Z"
   },
   {
    "duration": 13,
    "start_time": "2022-03-08T20:07:15.557Z"
   },
   {
    "duration": 9,
    "start_time": "2022-03-08T20:07:15.572Z"
   },
   {
    "duration": 11,
    "start_time": "2022-03-08T20:07:15.582Z"
   },
   {
    "duration": 13,
    "start_time": "2022-03-08T20:07:15.595Z"
   },
   {
    "duration": 6,
    "start_time": "2022-03-08T20:07:15.609Z"
   },
   {
    "duration": 9,
    "start_time": "2022-03-08T20:07:15.616Z"
   },
   {
    "duration": 24,
    "start_time": "2022-03-08T20:07:15.627Z"
   },
   {
    "duration": 369,
    "start_time": "2022-03-08T20:07:15.653Z"
   },
   {
    "duration": 22,
    "start_time": "2022-03-08T20:07:16.024Z"
   },
   {
    "duration": 8,
    "start_time": "2022-03-08T20:07:16.047Z"
   },
   {
    "duration": 7,
    "start_time": "2022-03-08T20:07:16.057Z"
   },
   {
    "duration": 9,
    "start_time": "2022-03-08T20:07:16.066Z"
   },
   {
    "duration": 19,
    "start_time": "2022-03-08T20:07:16.102Z"
   },
   {
    "duration": 18,
    "start_time": "2022-03-08T20:07:16.123Z"
   },
   {
    "duration": 13,
    "start_time": "2022-03-08T20:07:16.142Z"
   },
   {
    "duration": 8,
    "start_time": "2022-03-08T20:07:16.156Z"
   },
   {
    "duration": 49,
    "start_time": "2022-03-08T20:07:16.165Z"
   },
   {
    "duration": 11,
    "start_time": "2022-03-08T20:07:16.215Z"
   },
   {
    "duration": 316,
    "start_time": "2022-03-08T20:07:16.227Z"
   },
   {
    "duration": 20,
    "start_time": "2022-03-08T20:07:16.545Z"
   },
   {
    "duration": 509,
    "start_time": "2022-03-08T20:07:16.566Z"
   },
   {
    "duration": 5,
    "start_time": "2022-03-08T20:07:17.079Z"
   },
   {
    "duration": 23,
    "start_time": "2022-03-08T20:07:17.085Z"
   },
   {
    "duration": 455,
    "start_time": "2022-03-08T20:07:17.110Z"
   },
   {
    "duration": 5,
    "start_time": "2022-03-08T20:07:17.566Z"
   },
   {
    "duration": 14,
    "start_time": "2022-03-08T20:07:17.573Z"
   },
   {
    "duration": 561,
    "start_time": "2022-03-08T20:07:17.589Z"
   },
   {
    "duration": 4,
    "start_time": "2022-03-08T20:07:18.152Z"
   },
   {
    "duration": 14,
    "start_time": "2022-03-08T20:07:18.157Z"
   },
   {
    "duration": 482,
    "start_time": "2022-03-08T20:07:18.173Z"
   },
   {
    "duration": 6,
    "start_time": "2022-03-08T20:07:18.657Z"
   },
   {
    "duration": 12,
    "start_time": "2022-03-08T20:07:18.664Z"
   },
   {
    "duration": 472,
    "start_time": "2022-03-08T20:07:18.678Z"
   },
   {
    "duration": 5,
    "start_time": "2022-03-08T20:07:19.152Z"
   },
   {
    "duration": 14,
    "start_time": "2022-03-08T20:07:19.159Z"
   },
   {
    "duration": 490,
    "start_time": "2022-03-08T20:07:19.175Z"
   },
   {
    "duration": 5,
    "start_time": "2022-03-08T20:07:19.666Z"
   },
   {
    "duration": 16,
    "start_time": "2022-03-08T20:07:19.672Z"
   },
   {
    "duration": 485,
    "start_time": "2022-03-08T20:07:19.702Z"
   },
   {
    "duration": 5,
    "start_time": "2022-03-08T20:07:20.188Z"
   },
   {
    "duration": 14,
    "start_time": "2022-03-08T20:07:20.205Z"
   },
   {
    "duration": 9,
    "start_time": "2022-03-08T20:07:20.220Z"
   },
   {
    "duration": 11,
    "start_time": "2022-03-08T20:07:20.230Z"
   },
   {
    "duration": 9,
    "start_time": "2022-03-08T20:07:20.243Z"
   },
   {
    "duration": 9,
    "start_time": "2022-03-08T20:07:20.253Z"
   },
   {
    "duration": 39,
    "start_time": "2022-03-08T20:07:20.263Z"
   },
   {
    "duration": 9,
    "start_time": "2022-03-08T20:07:20.304Z"
   },
   {
    "duration": 10,
    "start_time": "2022-03-08T20:07:20.315Z"
   },
   {
    "duration": 7,
    "start_time": "2022-03-08T20:07:20.326Z"
   },
   {
    "duration": 12,
    "start_time": "2022-03-08T20:07:20.335Z"
   },
   {
    "duration": 26,
    "start_time": "2022-03-08T20:07:20.348Z"
   },
   {
    "duration": 38,
    "start_time": "2022-03-08T20:07:20.376Z"
   },
   {
    "duration": 13,
    "start_time": "2022-03-08T20:07:20.416Z"
   },
   {
    "duration": 15,
    "start_time": "2022-03-08T20:07:20.431Z"
   },
   {
    "duration": 13,
    "start_time": "2022-03-08T20:07:20.447Z"
   },
   {
    "duration": 39,
    "start_time": "2022-03-08T20:07:20.462Z"
   },
   {
    "duration": 137,
    "start_time": "2022-03-08T20:07:20.503Z"
   },
   {
    "duration": 140,
    "start_time": "2022-03-08T20:07:20.642Z"
   },
   {
    "duration": 136,
    "start_time": "2022-03-08T20:07:20.784Z"
   },
   {
    "duration": 7,
    "start_time": "2022-03-08T20:07:20.921Z"
   },
   {
    "duration": 8,
    "start_time": "2022-03-08T20:07:20.930Z"
   },
   {
    "duration": 4,
    "start_time": "2022-03-08T20:07:20.939Z"
   },
   {
    "duration": 12,
    "start_time": "2022-03-08T20:07:20.944Z"
   },
   {
    "duration": 4,
    "start_time": "2022-03-08T20:07:20.957Z"
   },
   {
    "duration": 12,
    "start_time": "2022-03-08T20:08:05.213Z"
   },
   {
    "duration": 5,
    "start_time": "2022-03-08T20:08:06.027Z"
   },
   {
    "duration": 8,
    "start_time": "2022-03-08T20:08:09.439Z"
   },
   {
    "duration": 5,
    "start_time": "2022-03-08T20:08:10.514Z"
   },
   {
    "duration": 19,
    "start_time": "2022-03-08T20:10:45.911Z"
   },
   {
    "duration": 17,
    "start_time": "2022-03-08T20:10:57.609Z"
   },
   {
    "duration": 5,
    "start_time": "2022-03-08T20:11:32.981Z"
   },
   {
    "duration": 381,
    "start_time": "2022-03-08T20:12:51.952Z"
   },
   {
    "duration": 5,
    "start_time": "2022-03-08T20:13:21.867Z"
   },
   {
    "duration": 4,
    "start_time": "2022-03-08T20:15:04.677Z"
   },
   {
    "duration": 5,
    "start_time": "2022-03-08T20:15:35.028Z"
   },
   {
    "duration": 5,
    "start_time": "2022-03-08T20:17:32.209Z"
   },
   {
    "duration": 339,
    "start_time": "2022-03-08T20:19:59.744Z"
   },
   {
    "duration": 9,
    "start_time": "2022-03-08T20:20:14.852Z"
   },
   {
    "duration": 9257,
    "start_time": "2022-03-08T20:20:17.256Z"
   },
   {
    "duration": 307,
    "start_time": "2022-03-08T20:21:47.383Z"
   },
   {
    "duration": 4,
    "start_time": "2022-03-08T20:22:02.321Z"
   },
   {
    "duration": 20,
    "start_time": "2022-03-08T20:22:52.961Z"
   },
   {
    "duration": 5,
    "start_time": "2022-03-08T20:23:37.899Z"
   },
   {
    "duration": 5,
    "start_time": "2022-03-08T20:26:28.451Z"
   },
   {
    "duration": 19,
    "start_time": "2022-03-08T20:26:41.087Z"
   },
   {
    "duration": 1065,
    "start_time": "2022-03-08T20:28:13.267Z"
   },
   {
    "duration": 129,
    "start_time": "2022-03-08T20:28:14.334Z"
   },
   {
    "duration": 3,
    "start_time": "2022-03-08T20:28:14.466Z"
   },
   {
    "duration": 4,
    "start_time": "2022-03-08T20:28:14.471Z"
   },
   {
    "duration": 21,
    "start_time": "2022-03-08T20:28:14.477Z"
   },
   {
    "duration": 9,
    "start_time": "2022-03-08T20:28:14.500Z"
   },
   {
    "duration": 14,
    "start_time": "2022-03-08T20:28:14.511Z"
   },
   {
    "duration": 3,
    "start_time": "2022-03-08T20:28:14.528Z"
   },
   {
    "duration": 15,
    "start_time": "2022-03-08T20:28:14.534Z"
   },
   {
    "duration": 5,
    "start_time": "2022-03-08T20:28:14.551Z"
   },
   {
    "duration": 10,
    "start_time": "2022-03-08T20:28:14.558Z"
   },
   {
    "duration": 31,
    "start_time": "2022-03-08T20:28:14.570Z"
   },
   {
    "duration": 5,
    "start_time": "2022-03-08T20:28:14.603Z"
   },
   {
    "duration": 8,
    "start_time": "2022-03-08T20:28:14.609Z"
   },
   {
    "duration": 19,
    "start_time": "2022-03-08T20:28:14.618Z"
   },
   {
    "duration": 6,
    "start_time": "2022-03-08T20:28:14.638Z"
   },
   {
    "duration": 12,
    "start_time": "2022-03-08T20:28:14.645Z"
   },
   {
    "duration": 10,
    "start_time": "2022-03-08T20:28:14.658Z"
   },
   {
    "duration": 9,
    "start_time": "2022-03-08T20:28:14.669Z"
   },
   {
    "duration": 21,
    "start_time": "2022-03-08T20:28:14.680Z"
   },
   {
    "duration": 19,
    "start_time": "2022-03-08T20:28:14.703Z"
   },
   {
    "duration": 4,
    "start_time": "2022-03-08T20:28:14.724Z"
   },
   {
    "duration": 5,
    "start_time": "2022-03-08T20:28:14.732Z"
   },
   {
    "duration": 13,
    "start_time": "2022-03-08T20:28:14.739Z"
   },
   {
    "duration": 7,
    "start_time": "2022-03-08T20:28:14.753Z"
   },
   {
    "duration": 11,
    "start_time": "2022-03-08T20:28:14.762Z"
   },
   {
    "duration": 8,
    "start_time": "2022-03-08T20:28:14.774Z"
   },
   {
    "duration": 23,
    "start_time": "2022-03-08T20:28:14.784Z"
   },
   {
    "duration": 3,
    "start_time": "2022-03-08T20:28:14.808Z"
   },
   {
    "duration": 7,
    "start_time": "2022-03-08T20:28:14.813Z"
   },
   {
    "duration": 11,
    "start_time": "2022-03-08T20:28:14.821Z"
   },
   {
    "duration": 6,
    "start_time": "2022-03-08T20:28:14.833Z"
   },
   {
    "duration": 8,
    "start_time": "2022-03-08T20:28:14.840Z"
   },
   {
    "duration": 22,
    "start_time": "2022-03-08T20:28:14.850Z"
   },
   {
    "duration": 354,
    "start_time": "2022-03-08T20:28:14.874Z"
   },
   {
    "duration": 22,
    "start_time": "2022-03-08T20:28:15.229Z"
   },
   {
    "duration": 7,
    "start_time": "2022-03-08T20:28:15.253Z"
   },
   {
    "duration": 7,
    "start_time": "2022-03-08T20:28:15.261Z"
   },
   {
    "duration": 8,
    "start_time": "2022-03-08T20:28:15.269Z"
   },
   {
    "duration": 17,
    "start_time": "2022-03-08T20:28:15.301Z"
   },
   {
    "duration": 18,
    "start_time": "2022-03-08T20:28:15.320Z"
   },
   {
    "duration": 17,
    "start_time": "2022-03-08T20:28:15.340Z"
   },
   {
    "duration": 43,
    "start_time": "2022-03-08T20:28:15.359Z"
   },
   {
    "duration": 8,
    "start_time": "2022-03-08T20:28:15.404Z"
   },
   {
    "duration": 20,
    "start_time": "2022-03-08T20:28:15.414Z"
   },
   {
    "duration": 11,
    "start_time": "2022-03-08T20:28:15.436Z"
   },
   {
    "duration": 322,
    "start_time": "2022-03-08T20:28:15.449Z"
   },
   {
    "duration": 28,
    "start_time": "2022-03-08T20:28:15.773Z"
   },
   {
    "duration": 496,
    "start_time": "2022-03-08T20:28:15.802Z"
   },
   {
    "duration": 4,
    "start_time": "2022-03-08T20:28:16.301Z"
   },
   {
    "duration": 13,
    "start_time": "2022-03-08T20:28:16.307Z"
   },
   {
    "duration": 461,
    "start_time": "2022-03-08T20:28:16.321Z"
   },
   {
    "duration": 18,
    "start_time": "2022-03-08T20:28:16.784Z"
   },
   {
    "duration": 11,
    "start_time": "2022-03-08T20:28:16.803Z"
   },
   {
    "duration": 534,
    "start_time": "2022-03-08T20:28:16.816Z"
   },
   {
    "duration": 5,
    "start_time": "2022-03-08T20:28:17.351Z"
   },
   {
    "duration": 12,
    "start_time": "2022-03-08T20:28:17.357Z"
   },
   {
    "duration": 485,
    "start_time": "2022-03-08T20:28:17.370Z"
   },
   {
    "duration": 4,
    "start_time": "2022-03-08T20:28:17.856Z"
   },
   {
    "duration": 14,
    "start_time": "2022-03-08T20:28:17.862Z"
   },
   {
    "duration": 499,
    "start_time": "2022-03-08T20:28:17.877Z"
   },
   {
    "duration": 4,
    "start_time": "2022-03-08T20:28:18.377Z"
   },
   {
    "duration": 20,
    "start_time": "2022-03-08T20:28:18.383Z"
   },
   {
    "duration": 455,
    "start_time": "2022-03-08T20:28:18.404Z"
   },
   {
    "duration": 4,
    "start_time": "2022-03-08T20:28:18.861Z"
   },
   {
    "duration": 12,
    "start_time": "2022-03-08T20:28:18.867Z"
   },
   {
    "duration": 470,
    "start_time": "2022-03-08T20:28:18.880Z"
   },
   {
    "duration": 4,
    "start_time": "2022-03-08T20:28:19.356Z"
   },
   {
    "duration": 16,
    "start_time": "2022-03-08T20:28:19.362Z"
   },
   {
    "duration": 21,
    "start_time": "2022-03-08T20:28:19.380Z"
   },
   {
    "duration": 7,
    "start_time": "2022-03-08T20:28:19.402Z"
   },
   {
    "duration": 9,
    "start_time": "2022-03-08T20:28:19.411Z"
   },
   {
    "duration": 9,
    "start_time": "2022-03-08T20:28:19.421Z"
   },
   {
    "duration": 8,
    "start_time": "2022-03-08T20:28:19.431Z"
   },
   {
    "duration": 15,
    "start_time": "2022-03-08T20:28:19.440Z"
   },
   {
    "duration": 9,
    "start_time": "2022-03-08T20:28:19.457Z"
   },
   {
    "duration": 33,
    "start_time": "2022-03-08T20:28:19.468Z"
   },
   {
    "duration": 9,
    "start_time": "2022-03-08T20:28:19.502Z"
   },
   {
    "duration": 18,
    "start_time": "2022-03-08T20:28:19.513Z"
   },
   {
    "duration": 20,
    "start_time": "2022-03-08T20:28:19.533Z"
   },
   {
    "duration": 13,
    "start_time": "2022-03-08T20:28:19.555Z"
   },
   {
    "duration": 39,
    "start_time": "2022-03-08T20:28:19.570Z"
   },
   {
    "duration": 13,
    "start_time": "2022-03-08T20:28:19.611Z"
   },
   {
    "duration": 14,
    "start_time": "2022-03-08T20:28:19.625Z"
   },
   {
    "duration": 157,
    "start_time": "2022-03-08T20:28:19.641Z"
   },
   {
    "duration": 129,
    "start_time": "2022-03-08T20:28:19.801Z"
   },
   {
    "duration": 141,
    "start_time": "2022-03-08T20:28:19.932Z"
   },
   {
    "duration": 7,
    "start_time": "2022-03-08T20:28:20.075Z"
   },
   {
    "duration": 25,
    "start_time": "2022-03-08T20:28:20.083Z"
   },
   {
    "duration": 4,
    "start_time": "2022-03-08T20:28:20.109Z"
   },
   {
    "duration": 8,
    "start_time": "2022-03-08T20:28:20.115Z"
   },
   {
    "duration": 5,
    "start_time": "2022-03-08T20:28:20.124Z"
   },
   {
    "duration": 7,
    "start_time": "2022-03-08T20:34:09.541Z"
   },
   {
    "duration": 12,
    "start_time": "2022-03-08T20:34:10.417Z"
   },
   {
    "duration": 4,
    "start_time": "2022-03-08T20:34:14.381Z"
   },
   {
    "duration": 12,
    "start_time": "2022-03-08T20:34:37.591Z"
   },
   {
    "duration": 5,
    "start_time": "2022-03-08T20:34:38.240Z"
   },
   {
    "duration": 8,
    "start_time": "2022-03-08T20:34:41.574Z"
   },
   {
    "duration": 5,
    "start_time": "2022-03-08T20:34:42.313Z"
   },
   {
    "duration": 9,
    "start_time": "2022-03-08T20:34:52.353Z"
   },
   {
    "duration": 5,
    "start_time": "2022-03-08T20:34:53.164Z"
   },
   {
    "duration": 8,
    "start_time": "2022-03-08T20:34:56.778Z"
   },
   {
    "duration": 4,
    "start_time": "2022-03-08T20:34:57.604Z"
   },
   {
    "duration": 1255,
    "start_time": "2022-03-08T20:35:03.887Z"
   },
   {
    "duration": 753,
    "start_time": "2022-03-08T20:35:05.144Z"
   },
   {
    "duration": 2,
    "start_time": "2022-03-08T20:35:05.899Z"
   },
   {
    "duration": 4,
    "start_time": "2022-03-08T20:35:05.903Z"
   },
   {
    "duration": 16,
    "start_time": "2022-03-08T20:35:05.908Z"
   },
   {
    "duration": 9,
    "start_time": "2022-03-08T20:35:05.926Z"
   },
   {
    "duration": 14,
    "start_time": "2022-03-08T20:35:05.936Z"
   },
   {
    "duration": 2,
    "start_time": "2022-03-08T20:35:05.952Z"
   },
   {
    "duration": 13,
    "start_time": "2022-03-08T20:35:05.956Z"
   },
   {
    "duration": 31,
    "start_time": "2022-03-08T20:35:05.970Z"
   },
   {
    "duration": 4,
    "start_time": "2022-03-08T20:35:06.003Z"
   },
   {
    "duration": 5,
    "start_time": "2022-03-08T20:35:06.009Z"
   },
   {
    "duration": 7,
    "start_time": "2022-03-08T20:35:06.015Z"
   },
   {
    "duration": 12,
    "start_time": "2022-03-08T20:35:06.023Z"
   },
   {
    "duration": 17,
    "start_time": "2022-03-08T20:35:06.036Z"
   },
   {
    "duration": 5,
    "start_time": "2022-03-08T20:35:06.055Z"
   },
   {
    "duration": 8,
    "start_time": "2022-03-08T20:35:06.062Z"
   },
   {
    "duration": 29,
    "start_time": "2022-03-08T20:35:06.072Z"
   },
   {
    "duration": 5,
    "start_time": "2022-03-08T20:35:06.103Z"
   },
   {
    "duration": 9,
    "start_time": "2022-03-08T20:35:06.110Z"
   },
   {
    "duration": 18,
    "start_time": "2022-03-08T20:35:06.120Z"
   },
   {
    "duration": 4,
    "start_time": "2022-03-08T20:35:06.139Z"
   },
   {
    "duration": 11,
    "start_time": "2022-03-08T20:35:06.146Z"
   },
   {
    "duration": 13,
    "start_time": "2022-03-08T20:35:06.159Z"
   },
   {
    "duration": 8,
    "start_time": "2022-03-08T20:35:06.174Z"
   },
   {
    "duration": 7,
    "start_time": "2022-03-08T20:35:06.201Z"
   },
   {
    "duration": 6,
    "start_time": "2022-03-08T20:35:06.210Z"
   },
   {
    "duration": 11,
    "start_time": "2022-03-08T20:35:06.218Z"
   },
   {
    "duration": 9,
    "start_time": "2022-03-08T20:35:06.230Z"
   },
   {
    "duration": 10,
    "start_time": "2022-03-08T20:35:06.240Z"
   },
   {
    "duration": 12,
    "start_time": "2022-03-08T20:35:06.251Z"
   },
   {
    "duration": 7,
    "start_time": "2022-03-08T20:35:06.265Z"
   },
   {
    "duration": 9,
    "start_time": "2022-03-08T20:35:06.273Z"
   },
   {
    "duration": 27,
    "start_time": "2022-03-08T20:35:06.284Z"
   },
   {
    "duration": 350,
    "start_time": "2022-03-08T20:35:06.313Z"
   },
   {
    "duration": 20,
    "start_time": "2022-03-08T20:35:06.665Z"
   },
   {
    "duration": 21,
    "start_time": "2022-03-08T20:35:06.686Z"
   },
   {
    "duration": 6,
    "start_time": "2022-03-08T20:35:06.709Z"
   },
   {
    "duration": 9,
    "start_time": "2022-03-08T20:35:06.716Z"
   },
   {
    "duration": 19,
    "start_time": "2022-03-08T20:35:06.726Z"
   },
   {
    "duration": 17,
    "start_time": "2022-03-08T20:35:06.746Z"
   },
   {
    "duration": 45,
    "start_time": "2022-03-08T20:35:06.765Z"
   },
   {
    "duration": 13,
    "start_time": "2022-03-08T20:35:06.811Z"
   },
   {
    "duration": 7,
    "start_time": "2022-03-08T20:35:06.826Z"
   },
   {
    "duration": 20,
    "start_time": "2022-03-08T20:35:06.835Z"
   },
   {
    "duration": 11,
    "start_time": "2022-03-08T20:35:06.856Z"
   },
   {
    "duration": 326,
    "start_time": "2022-03-08T20:35:06.868Z"
   },
   {
    "duration": 20,
    "start_time": "2022-03-08T20:35:07.201Z"
   },
   {
    "duration": 473,
    "start_time": "2022-03-08T20:35:07.223Z"
   },
   {
    "duration": 5,
    "start_time": "2022-03-08T20:35:07.701Z"
   },
   {
    "duration": 22,
    "start_time": "2022-03-08T20:35:07.707Z"
   },
   {
    "duration": 450,
    "start_time": "2022-03-08T20:35:07.730Z"
   },
   {
    "duration": 6,
    "start_time": "2022-03-08T20:35:08.182Z"
   },
   {
    "duration": 23,
    "start_time": "2022-03-08T20:35:08.189Z"
   },
   {
    "duration": 530,
    "start_time": "2022-03-08T20:35:08.214Z"
   },
   {
    "duration": 6,
    "start_time": "2022-03-08T20:35:08.746Z"
   },
   {
    "duration": 12,
    "start_time": "2022-03-08T20:35:08.753Z"
   },
   {
    "duration": 491,
    "start_time": "2022-03-08T20:35:08.767Z"
   },
   {
    "duration": 5,
    "start_time": "2022-03-08T20:35:09.260Z"
   },
   {
    "duration": 11,
    "start_time": "2022-03-08T20:35:09.267Z"
   },
   {
    "duration": 499,
    "start_time": "2022-03-08T20:35:09.279Z"
   },
   {
    "duration": 4,
    "start_time": "2022-03-08T20:35:09.780Z"
   },
   {
    "duration": 22,
    "start_time": "2022-03-08T20:35:09.786Z"
   },
   {
    "duration": 481,
    "start_time": "2022-03-08T20:35:09.809Z"
   },
   {
    "duration": 10,
    "start_time": "2022-03-08T20:35:10.292Z"
   },
   {
    "duration": 11,
    "start_time": "2022-03-08T20:35:10.303Z"
   },
   {
    "duration": 465,
    "start_time": "2022-03-08T20:35:10.315Z"
   },
   {
    "duration": 4,
    "start_time": "2022-03-08T20:35:10.784Z"
   },
   {
    "duration": 13,
    "start_time": "2022-03-08T20:35:10.802Z"
   },
   {
    "duration": 8,
    "start_time": "2022-03-08T20:35:10.817Z"
   },
   {
    "duration": 7,
    "start_time": "2022-03-08T20:35:10.827Z"
   },
   {
    "duration": 15,
    "start_time": "2022-03-08T20:35:10.835Z"
   },
   {
    "duration": 15,
    "start_time": "2022-03-08T20:35:10.852Z"
   },
   {
    "duration": 13,
    "start_time": "2022-03-08T20:35:10.868Z"
   },
   {
    "duration": 20,
    "start_time": "2022-03-08T20:35:10.883Z"
   },
   {
    "duration": 21,
    "start_time": "2022-03-08T20:35:10.904Z"
   },
   {
    "duration": 13,
    "start_time": "2022-03-08T20:35:10.927Z"
   },
   {
    "duration": 17,
    "start_time": "2022-03-08T20:35:10.942Z"
   },
   {
    "duration": 22,
    "start_time": "2022-03-08T20:35:10.961Z"
   },
   {
    "duration": 21,
    "start_time": "2022-03-08T20:35:10.984Z"
   },
   {
    "duration": 14,
    "start_time": "2022-03-08T20:35:11.006Z"
   },
   {
    "duration": 13,
    "start_time": "2022-03-08T20:35:11.021Z"
   },
   {
    "duration": 13,
    "start_time": "2022-03-08T20:35:11.035Z"
   },
   {
    "duration": 16,
    "start_time": "2022-03-08T20:35:11.049Z"
   },
   {
    "duration": 153,
    "start_time": "2022-03-08T20:35:11.067Z"
   },
   {
    "duration": 135,
    "start_time": "2022-03-08T20:35:11.221Z"
   },
   {
    "duration": 129,
    "start_time": "2022-03-08T20:35:11.357Z"
   },
   {
    "duration": 14,
    "start_time": "2022-03-08T20:35:11.487Z"
   },
   {
    "duration": 5,
    "start_time": "2022-03-08T20:35:11.503Z"
   },
   {
    "duration": 9,
    "start_time": "2022-03-08T20:35:11.509Z"
   },
   {
    "duration": 4,
    "start_time": "2022-03-08T20:35:11.519Z"
   },
   {
    "duration": 9,
    "start_time": "2022-03-08T20:35:29.919Z"
   },
   {
    "duration": 5,
    "start_time": "2022-03-08T20:35:30.615Z"
   },
   {
    "duration": 8,
    "start_time": "2022-03-08T20:35:33.556Z"
   },
   {
    "duration": 5,
    "start_time": "2022-03-08T20:35:34.323Z"
   },
   {
    "duration": 425,
    "start_time": "2022-03-08T20:38:28.995Z"
   },
   {
    "duration": 6,
    "start_time": "2022-03-08T20:38:30.012Z"
   },
   {
    "duration": 12,
    "start_time": "2022-03-08T20:39:25.924Z"
   },
   {
    "duration": 4,
    "start_time": "2022-03-08T20:39:26.754Z"
   },
   {
    "duration": 8,
    "start_time": "2022-03-08T20:39:30.086Z"
   },
   {
    "duration": 5,
    "start_time": "2022-03-08T20:39:30.636Z"
   },
   {
    "duration": 19,
    "start_time": "2022-03-08T20:40:40.905Z"
   },
   {
    "duration": 4,
    "start_time": "2022-03-08T20:41:06.531Z"
   },
   {
    "duration": 20,
    "start_time": "2022-03-08T20:41:10.862Z"
   },
   {
    "duration": 7,
    "start_time": "2022-03-08T20:41:11.581Z"
   },
   {
    "duration": 1137,
    "start_time": "2022-03-08T20:41:17.691Z"
   },
   {
    "duration": 138,
    "start_time": "2022-03-08T20:41:18.829Z"
   },
   {
    "duration": 3,
    "start_time": "2022-03-08T20:41:18.969Z"
   },
   {
    "duration": 4,
    "start_time": "2022-03-08T20:41:18.974Z"
   },
   {
    "duration": 21,
    "start_time": "2022-03-08T20:41:18.980Z"
   },
   {
    "duration": 12,
    "start_time": "2022-03-08T20:41:19.003Z"
   },
   {
    "duration": 19,
    "start_time": "2022-03-08T20:41:19.017Z"
   },
   {
    "duration": 3,
    "start_time": "2022-03-08T20:41:19.039Z"
   },
   {
    "duration": 17,
    "start_time": "2022-03-08T20:41:19.045Z"
   },
   {
    "duration": 5,
    "start_time": "2022-03-08T20:41:19.064Z"
   },
   {
    "duration": 32,
    "start_time": "2022-03-08T20:41:19.070Z"
   },
   {
    "duration": 7,
    "start_time": "2022-03-08T20:41:19.104Z"
   },
   {
    "duration": 6,
    "start_time": "2022-03-08T20:41:19.112Z"
   },
   {
    "duration": 13,
    "start_time": "2022-03-08T20:41:19.120Z"
   },
   {
    "duration": 19,
    "start_time": "2022-03-08T20:41:19.134Z"
   },
   {
    "duration": 7,
    "start_time": "2022-03-08T20:41:19.155Z"
   },
   {
    "duration": 9,
    "start_time": "2022-03-08T20:41:19.164Z"
   },
   {
    "duration": 29,
    "start_time": "2022-03-08T20:41:19.175Z"
   },
   {
    "duration": 4,
    "start_time": "2022-03-08T20:41:19.205Z"
   },
   {
    "duration": 9,
    "start_time": "2022-03-08T20:41:19.211Z"
   },
   {
    "duration": 14,
    "start_time": "2022-03-08T20:41:19.222Z"
   },
   {
    "duration": 4,
    "start_time": "2022-03-08T20:41:19.238Z"
   },
   {
    "duration": 7,
    "start_time": "2022-03-08T20:41:19.245Z"
   },
   {
    "duration": 16,
    "start_time": "2022-03-08T20:41:19.255Z"
   },
   {
    "duration": 29,
    "start_time": "2022-03-08T20:41:19.273Z"
   },
   {
    "duration": 7,
    "start_time": "2022-03-08T20:41:19.304Z"
   },
   {
    "duration": 5,
    "start_time": "2022-03-08T20:41:19.314Z"
   },
   {
    "duration": 13,
    "start_time": "2022-03-08T20:41:19.321Z"
   },
   {
    "duration": 5,
    "start_time": "2022-03-08T20:41:19.335Z"
   },
   {
    "duration": 12,
    "start_time": "2022-03-08T20:41:19.341Z"
   },
   {
    "duration": 12,
    "start_time": "2022-03-08T20:41:19.354Z"
   },
   {
    "duration": 7,
    "start_time": "2022-03-08T20:41:19.367Z"
   },
   {
    "duration": 10,
    "start_time": "2022-03-08T20:41:19.375Z"
   },
   {
    "duration": 31,
    "start_time": "2022-03-08T20:41:19.387Z"
   },
   {
    "duration": 364,
    "start_time": "2022-03-08T20:41:19.420Z"
   },
   {
    "duration": 38,
    "start_time": "2022-03-08T20:41:19.786Z"
   },
   {
    "duration": 11,
    "start_time": "2022-03-08T20:41:19.826Z"
   },
   {
    "duration": 8,
    "start_time": "2022-03-08T20:41:19.840Z"
   },
   {
    "duration": 12,
    "start_time": "2022-03-08T20:41:19.849Z"
   },
   {
    "duration": 54,
    "start_time": "2022-03-08T20:41:19.863Z"
   },
   {
    "duration": 4,
    "start_time": "2022-03-08T20:41:19.919Z"
   },
   {
    "duration": 20,
    "start_time": "2022-03-08T20:41:19.925Z"
   },
   {
    "duration": 13,
    "start_time": "2022-03-08T20:41:19.947Z"
   },
   {
    "duration": 8,
    "start_time": "2022-03-08T20:41:19.962Z"
   },
   {
    "duration": 42,
    "start_time": "2022-03-08T20:41:19.972Z"
   },
   {
    "duration": 11,
    "start_time": "2022-03-08T20:41:20.016Z"
   },
   {
    "duration": 333,
    "start_time": "2022-03-08T20:41:20.029Z"
   },
   {
    "duration": 21,
    "start_time": "2022-03-08T20:41:20.363Z"
   },
   {
    "duration": 502,
    "start_time": "2022-03-08T20:41:20.386Z"
   },
   {
    "duration": 12,
    "start_time": "2022-03-08T20:41:20.890Z"
   },
   {
    "duration": 14,
    "start_time": "2022-03-08T20:41:20.904Z"
   },
   {
    "duration": 607,
    "start_time": "2022-03-08T20:41:20.920Z"
   },
   {
    "duration": 5,
    "start_time": "2022-03-08T20:41:21.529Z"
   },
   {
    "duration": 16,
    "start_time": "2022-03-08T20:41:21.536Z"
   },
   {
    "duration": 530,
    "start_time": "2022-03-08T20:41:21.554Z"
   },
   {
    "duration": 5,
    "start_time": "2022-03-08T20:41:22.085Z"
   },
   {
    "duration": 19,
    "start_time": "2022-03-08T20:41:22.091Z"
   },
   {
    "duration": 483,
    "start_time": "2022-03-08T20:41:22.112Z"
   },
   {
    "duration": 8,
    "start_time": "2022-03-08T20:41:22.597Z"
   },
   {
    "duration": 19,
    "start_time": "2022-03-08T20:41:22.607Z"
   },
   {
    "duration": 460,
    "start_time": "2022-03-08T20:41:22.627Z"
   },
   {
    "duration": 4,
    "start_time": "2022-03-08T20:41:23.089Z"
   },
   {
    "duration": 10,
    "start_time": "2022-03-08T20:41:23.102Z"
   },
   {
    "duration": 477,
    "start_time": "2022-03-08T20:41:23.114Z"
   },
   {
    "duration": 11,
    "start_time": "2022-03-08T20:41:23.592Z"
   },
   {
    "duration": 12,
    "start_time": "2022-03-08T20:41:23.604Z"
   },
   {
    "duration": 453,
    "start_time": "2022-03-08T20:41:23.617Z"
   },
   {
    "duration": 5,
    "start_time": "2022-03-08T20:41:24.076Z"
   },
   {
    "duration": 28,
    "start_time": "2022-03-08T20:41:24.083Z"
   },
   {
    "duration": 11,
    "start_time": "2022-03-08T20:41:24.113Z"
   },
   {
    "duration": 8,
    "start_time": "2022-03-08T20:41:24.125Z"
   },
   {
    "duration": 10,
    "start_time": "2022-03-08T20:41:24.135Z"
   },
   {
    "duration": 11,
    "start_time": "2022-03-08T20:41:24.146Z"
   },
   {
    "duration": 7,
    "start_time": "2022-03-08T20:41:24.158Z"
   },
   {
    "duration": 39,
    "start_time": "2022-03-08T20:41:24.167Z"
   },
   {
    "duration": 9,
    "start_time": "2022-03-08T20:41:24.208Z"
   },
   {
    "duration": 7,
    "start_time": "2022-03-08T20:41:24.218Z"
   },
   {
    "duration": 16,
    "start_time": "2022-03-08T20:41:24.227Z"
   },
   {
    "duration": 21,
    "start_time": "2022-03-08T20:41:24.245Z"
   },
   {
    "duration": 49,
    "start_time": "2022-03-08T20:41:24.268Z"
   },
   {
    "duration": 22,
    "start_time": "2022-03-08T20:41:24.318Z"
   },
   {
    "duration": 20,
    "start_time": "2022-03-08T20:41:24.342Z"
   },
   {
    "duration": 45,
    "start_time": "2022-03-08T20:41:24.364Z"
   },
   {
    "duration": 23,
    "start_time": "2022-03-08T20:41:24.411Z"
   },
   {
    "duration": 237,
    "start_time": "2022-03-08T20:41:24.436Z"
   },
   {
    "duration": 145,
    "start_time": "2022-03-08T20:41:24.676Z"
   },
   {
    "duration": 156,
    "start_time": "2022-03-08T20:41:24.822Z"
   },
   {
    "duration": 22,
    "start_time": "2022-03-08T20:41:24.980Z"
   },
   {
    "duration": 6,
    "start_time": "2022-03-08T20:41:25.004Z"
   },
   {
    "duration": 7,
    "start_time": "2022-03-08T20:41:25.012Z"
   },
   {
    "duration": 4,
    "start_time": "2022-03-08T20:41:25.021Z"
   },
   {
    "duration": 366,
    "start_time": "2022-03-08T20:44:05.207Z"
   },
   {
    "duration": 4,
    "start_time": "2022-03-08T20:44:27.840Z"
   },
   {
    "duration": 1099,
    "start_time": "2022-03-08T20:44:34.439Z"
   },
   {
    "duration": 139,
    "start_time": "2022-03-08T20:44:35.540Z"
   },
   {
    "duration": 3,
    "start_time": "2022-03-08T20:44:35.683Z"
   },
   {
    "duration": 6,
    "start_time": "2022-03-08T20:44:35.687Z"
   },
   {
    "duration": 17,
    "start_time": "2022-03-08T20:44:35.694Z"
   },
   {
    "duration": 9,
    "start_time": "2022-03-08T20:44:35.712Z"
   },
   {
    "duration": 16,
    "start_time": "2022-03-08T20:44:35.724Z"
   },
   {
    "duration": 2,
    "start_time": "2022-03-08T20:44:35.742Z"
   },
   {
    "duration": 14,
    "start_time": "2022-03-08T20:44:35.746Z"
   },
   {
    "duration": 40,
    "start_time": "2022-03-08T20:44:35.762Z"
   },
   {
    "duration": 9,
    "start_time": "2022-03-08T20:44:35.804Z"
   },
   {
    "duration": 7,
    "start_time": "2022-03-08T20:44:35.814Z"
   },
   {
    "duration": 7,
    "start_time": "2022-03-08T20:44:35.823Z"
   },
   {
    "duration": 11,
    "start_time": "2022-03-08T20:44:35.832Z"
   },
   {
    "duration": 16,
    "start_time": "2022-03-08T20:44:35.845Z"
   },
   {
    "duration": 5,
    "start_time": "2022-03-08T20:44:35.862Z"
   },
   {
    "duration": 9,
    "start_time": "2022-03-08T20:44:35.869Z"
   },
   {
    "duration": 22,
    "start_time": "2022-03-08T20:44:35.880Z"
   },
   {
    "duration": 4,
    "start_time": "2022-03-08T20:44:35.903Z"
   },
   {
    "duration": 10,
    "start_time": "2022-03-08T20:44:35.909Z"
   },
   {
    "duration": 15,
    "start_time": "2022-03-08T20:44:35.921Z"
   },
   {
    "duration": 5,
    "start_time": "2022-03-08T20:44:35.939Z"
   },
   {
    "duration": 12,
    "start_time": "2022-03-08T20:44:35.946Z"
   },
   {
    "duration": 16,
    "start_time": "2022-03-08T20:44:35.959Z"
   },
   {
    "duration": 23,
    "start_time": "2022-03-08T20:44:35.977Z"
   },
   {
    "duration": 9,
    "start_time": "2022-03-08T20:44:36.002Z"
   },
   {
    "duration": 8,
    "start_time": "2022-03-08T20:44:36.012Z"
   },
   {
    "duration": 10,
    "start_time": "2022-03-08T20:44:36.022Z"
   },
   {
    "duration": 5,
    "start_time": "2022-03-08T20:44:36.034Z"
   },
   {
    "duration": 13,
    "start_time": "2022-03-08T20:44:36.041Z"
   },
   {
    "duration": 12,
    "start_time": "2022-03-08T20:44:36.056Z"
   },
   {
    "duration": 6,
    "start_time": "2022-03-08T20:44:36.070Z"
   },
   {
    "duration": 24,
    "start_time": "2022-03-08T20:44:36.077Z"
   },
   {
    "duration": 20,
    "start_time": "2022-03-08T20:44:36.102Z"
   },
   {
    "duration": 362,
    "start_time": "2022-03-08T20:44:36.124Z"
   },
   {
    "duration": 32,
    "start_time": "2022-03-08T20:44:36.488Z"
   },
   {
    "duration": 8,
    "start_time": "2022-03-08T20:44:36.522Z"
   },
   {
    "duration": 7,
    "start_time": "2022-03-08T20:44:36.531Z"
   },
   {
    "duration": 13,
    "start_time": "2022-03-08T20:44:36.540Z"
   },
   {
    "duration": 20,
    "start_time": "2022-03-08T20:44:36.555Z"
   },
   {
    "duration": 4,
    "start_time": "2022-03-08T20:44:36.602Z"
   },
   {
    "duration": 20,
    "start_time": "2022-03-08T20:44:36.607Z"
   },
   {
    "duration": 15,
    "start_time": "2022-03-08T20:44:36.628Z"
   },
   {
    "duration": 7,
    "start_time": "2022-03-08T20:44:36.645Z"
   },
   {
    "duration": 19,
    "start_time": "2022-03-08T20:44:36.654Z"
   },
   {
    "duration": 12,
    "start_time": "2022-03-08T20:44:36.702Z"
   },
   {
    "duration": 316,
    "start_time": "2022-03-08T20:44:36.715Z"
   },
   {
    "duration": 20,
    "start_time": "2022-03-08T20:44:37.033Z"
   },
   {
    "duration": 535,
    "start_time": "2022-03-08T20:44:37.055Z"
   },
   {
    "duration": 5,
    "start_time": "2022-03-08T20:44:37.591Z"
   },
   {
    "duration": 14,
    "start_time": "2022-03-08T20:44:37.597Z"
   },
   {
    "duration": 463,
    "start_time": "2022-03-08T20:44:37.613Z"
   },
   {
    "duration": 4,
    "start_time": "2022-03-08T20:44:38.078Z"
   },
   {
    "duration": 20,
    "start_time": "2022-03-08T20:44:38.084Z"
   },
   {
    "duration": 565,
    "start_time": "2022-03-08T20:44:38.106Z"
   },
   {
    "duration": 5,
    "start_time": "2022-03-08T20:44:38.672Z"
   },
   {
    "duration": 11,
    "start_time": "2022-03-08T20:44:38.678Z"
   },
   {
    "duration": 482,
    "start_time": "2022-03-08T20:44:38.701Z"
   },
   {
    "duration": 4,
    "start_time": "2022-03-08T20:44:39.184Z"
   },
   {
    "duration": 20,
    "start_time": "2022-03-08T20:44:39.190Z"
   },
   {
    "duration": 475,
    "start_time": "2022-03-08T20:44:39.212Z"
   },
   {
    "duration": 5,
    "start_time": "2022-03-08T20:44:39.688Z"
   },
   {
    "duration": 13,
    "start_time": "2022-03-08T20:44:39.695Z"
   },
   {
    "duration": 461,
    "start_time": "2022-03-08T20:44:39.710Z"
   },
   {
    "duration": 5,
    "start_time": "2022-03-08T20:44:40.172Z"
   },
   {
    "duration": 12,
    "start_time": "2022-03-08T20:44:40.178Z"
   },
   {
    "duration": 566,
    "start_time": "2022-03-08T20:44:40.200Z"
   },
   {
    "duration": 5,
    "start_time": "2022-03-08T20:44:40.768Z"
   },
   {
    "duration": 21,
    "start_time": "2022-03-08T20:44:40.774Z"
   },
   {
    "duration": 11,
    "start_time": "2022-03-08T20:44:40.796Z"
   },
   {
    "duration": 7,
    "start_time": "2022-03-08T20:44:40.808Z"
   },
   {
    "duration": 10,
    "start_time": "2022-03-08T20:44:40.817Z"
   },
   {
    "duration": 9,
    "start_time": "2022-03-08T20:44:40.828Z"
   },
   {
    "duration": 8,
    "start_time": "2022-03-08T20:44:40.839Z"
   },
   {
    "duration": 53,
    "start_time": "2022-03-08T20:44:40.848Z"
   },
   {
    "duration": 9,
    "start_time": "2022-03-08T20:44:40.903Z"
   },
   {
    "duration": 7,
    "start_time": "2022-03-08T20:44:40.914Z"
   },
   {
    "duration": 9,
    "start_time": "2022-03-08T20:44:40.922Z"
   },
   {
    "duration": 21,
    "start_time": "2022-03-08T20:44:40.932Z"
   },
   {
    "duration": 61,
    "start_time": "2022-03-08T20:44:40.955Z"
   },
   {
    "duration": 15,
    "start_time": "2022-03-08T20:44:41.017Z"
   },
   {
    "duration": 13,
    "start_time": "2022-03-08T20:44:41.033Z"
   },
   {
    "duration": 67,
    "start_time": "2022-03-08T20:44:41.047Z"
   },
   {
    "duration": 15,
    "start_time": "2022-03-08T20:44:41.116Z"
   },
   {
    "duration": 148,
    "start_time": "2022-03-08T20:44:41.132Z"
   },
   {
    "duration": 143,
    "start_time": "2022-03-08T20:44:41.282Z"
   },
   {
    "duration": 132,
    "start_time": "2022-03-08T20:44:41.426Z"
   },
   {
    "duration": 11,
    "start_time": "2022-03-08T20:44:41.559Z"
   },
   {
    "duration": 4,
    "start_time": "2022-03-08T20:44:41.571Z"
   },
   {
    "duration": 25,
    "start_time": "2022-03-08T20:44:41.576Z"
   },
   {
    "duration": 4,
    "start_time": "2022-03-08T20:44:41.602Z"
   },
   {
    "duration": 4,
    "start_time": "2022-03-08T20:45:50.441Z"
   },
   {
    "duration": 20,
    "start_time": "2022-03-08T20:45:55.913Z"
   },
   {
    "duration": 1142,
    "start_time": "2022-03-08T20:46:07.993Z"
   },
   {
    "duration": 136,
    "start_time": "2022-03-08T20:46:09.137Z"
   },
   {
    "duration": 2,
    "start_time": "2022-03-08T20:46:09.275Z"
   },
   {
    "duration": 4,
    "start_time": "2022-03-08T20:46:09.279Z"
   },
   {
    "duration": 16,
    "start_time": "2022-03-08T20:46:09.284Z"
   },
   {
    "duration": 8,
    "start_time": "2022-03-08T20:46:09.302Z"
   },
   {
    "duration": 18,
    "start_time": "2022-03-08T20:46:09.312Z"
   },
   {
    "duration": 2,
    "start_time": "2022-03-08T20:46:09.332Z"
   },
   {
    "duration": 12,
    "start_time": "2022-03-08T20:46:09.336Z"
   },
   {
    "duration": 4,
    "start_time": "2022-03-08T20:46:09.350Z"
   },
   {
    "duration": 8,
    "start_time": "2022-03-08T20:46:09.356Z"
   },
   {
    "duration": 9,
    "start_time": "2022-03-08T20:46:09.365Z"
   },
   {
    "duration": 27,
    "start_time": "2022-03-08T20:46:09.376Z"
   },
   {
    "duration": 9,
    "start_time": "2022-03-08T20:46:09.404Z"
   },
   {
    "duration": 17,
    "start_time": "2022-03-08T20:46:09.414Z"
   },
   {
    "duration": 5,
    "start_time": "2022-03-08T20:46:09.432Z"
   },
   {
    "duration": 12,
    "start_time": "2022-03-08T20:46:09.438Z"
   },
   {
    "duration": 13,
    "start_time": "2022-03-08T20:46:09.452Z"
   },
   {
    "duration": 9,
    "start_time": "2022-03-08T20:46:09.466Z"
   },
   {
    "duration": 10,
    "start_time": "2022-03-08T20:46:09.476Z"
   },
   {
    "duration": 15,
    "start_time": "2022-03-08T20:46:09.487Z"
   },
   {
    "duration": 5,
    "start_time": "2022-03-08T20:46:09.503Z"
   },
   {
    "duration": 7,
    "start_time": "2022-03-08T20:46:09.511Z"
   },
   {
    "duration": 12,
    "start_time": "2022-03-08T20:46:09.520Z"
   },
   {
    "duration": 4,
    "start_time": "2022-03-08T20:46:09.534Z"
   },
   {
    "duration": 11,
    "start_time": "2022-03-08T20:46:09.539Z"
   },
   {
    "duration": 9,
    "start_time": "2022-03-08T20:46:09.551Z"
   },
   {
    "duration": 9,
    "start_time": "2022-03-08T20:46:09.562Z"
   },
   {
    "duration": 6,
    "start_time": "2022-03-08T20:46:09.572Z"
   },
   {
    "duration": 25,
    "start_time": "2022-03-08T20:46:09.579Z"
   },
   {
    "duration": 10,
    "start_time": "2022-03-08T20:46:09.605Z"
   },
   {
    "duration": 5,
    "start_time": "2022-03-08T20:46:09.617Z"
   },
   {
    "duration": 12,
    "start_time": "2022-03-08T20:46:09.623Z"
   },
   {
    "duration": 25,
    "start_time": "2022-03-08T20:46:09.637Z"
   },
   {
    "duration": 353,
    "start_time": "2022-03-08T20:46:09.663Z"
   },
   {
    "duration": 22,
    "start_time": "2022-03-08T20:46:10.018Z"
   },
   {
    "duration": 8,
    "start_time": "2022-03-08T20:46:10.042Z"
   },
   {
    "duration": 6,
    "start_time": "2022-03-08T20:46:10.051Z"
   },
   {
    "duration": 9,
    "start_time": "2022-03-08T20:46:10.058Z"
   },
   {
    "duration": 45,
    "start_time": "2022-03-08T20:46:10.069Z"
   },
   {
    "duration": 4,
    "start_time": "2022-03-08T20:46:10.115Z"
   },
   {
    "duration": 17,
    "start_time": "2022-03-08T20:46:10.120Z"
   },
   {
    "duration": 11,
    "start_time": "2022-03-08T20:46:10.139Z"
   },
   {
    "duration": 7,
    "start_time": "2022-03-08T20:46:10.151Z"
   },
   {
    "duration": 44,
    "start_time": "2022-03-08T20:46:10.159Z"
   },
   {
    "duration": 10,
    "start_time": "2022-03-08T20:46:10.204Z"
   },
   {
    "duration": 309,
    "start_time": "2022-03-08T20:46:10.216Z"
   },
   {
    "duration": 21,
    "start_time": "2022-03-08T20:46:10.527Z"
   },
   {
    "duration": 517,
    "start_time": "2022-03-08T20:46:10.549Z"
   },
   {
    "duration": 5,
    "start_time": "2022-03-08T20:46:11.068Z"
   },
   {
    "duration": 26,
    "start_time": "2022-03-08T20:46:11.075Z"
   },
   {
    "duration": 447,
    "start_time": "2022-03-08T20:46:11.102Z"
   },
   {
    "duration": 6,
    "start_time": "2022-03-08T20:46:11.550Z"
   },
   {
    "duration": 12,
    "start_time": "2022-03-08T20:46:11.557Z"
   },
   {
    "duration": 510,
    "start_time": "2022-03-08T20:46:11.570Z"
   },
   {
    "duration": 6,
    "start_time": "2022-03-08T20:46:12.082Z"
   },
   {
    "duration": 22,
    "start_time": "2022-03-08T20:46:12.089Z"
   },
   {
    "duration": 459,
    "start_time": "2022-03-08T20:46:12.112Z"
   },
   {
    "duration": 5,
    "start_time": "2022-03-08T20:46:12.573Z"
   },
   {
    "duration": 22,
    "start_time": "2022-03-08T20:46:12.580Z"
   },
   {
    "duration": 449,
    "start_time": "2022-03-08T20:46:12.604Z"
   },
   {
    "duration": 5,
    "start_time": "2022-03-08T20:46:13.055Z"
   },
   {
    "duration": 12,
    "start_time": "2022-03-08T20:46:13.062Z"
   },
   {
    "duration": 474,
    "start_time": "2022-03-08T20:46:13.076Z"
   },
   {
    "duration": 6,
    "start_time": "2022-03-08T20:46:13.552Z"
   },
   {
    "duration": 12,
    "start_time": "2022-03-08T20:46:13.559Z"
   },
   {
    "duration": 485,
    "start_time": "2022-03-08T20:46:13.572Z"
   },
   {
    "duration": 4,
    "start_time": "2022-03-08T20:46:14.063Z"
   },
   {
    "duration": 15,
    "start_time": "2022-03-08T20:46:14.069Z"
   },
   {
    "duration": 22,
    "start_time": "2022-03-08T20:46:14.086Z"
   },
   {
    "duration": 7,
    "start_time": "2022-03-08T20:46:14.109Z"
   },
   {
    "duration": 10,
    "start_time": "2022-03-08T20:46:14.117Z"
   },
   {
    "duration": 10,
    "start_time": "2022-03-08T20:46:14.128Z"
   },
   {
    "duration": 7,
    "start_time": "2022-03-08T20:46:14.140Z"
   },
   {
    "duration": 11,
    "start_time": "2022-03-08T20:46:14.149Z"
   },
   {
    "duration": 40,
    "start_time": "2022-03-08T20:46:14.161Z"
   },
   {
    "duration": 8,
    "start_time": "2022-03-08T20:46:14.202Z"
   },
   {
    "duration": 11,
    "start_time": "2022-03-08T20:46:14.211Z"
   },
   {
    "duration": 19,
    "start_time": "2022-03-08T20:46:14.223Z"
   },
   {
    "duration": 20,
    "start_time": "2022-03-08T20:46:14.243Z"
   },
   {
    "duration": 44,
    "start_time": "2022-03-08T20:46:14.264Z"
   },
   {
    "duration": 14,
    "start_time": "2022-03-08T20:46:14.309Z"
   },
   {
    "duration": 14,
    "start_time": "2022-03-08T20:46:14.324Z"
   },
   {
    "duration": 14,
    "start_time": "2022-03-08T20:46:14.339Z"
   },
   {
    "duration": 167,
    "start_time": "2022-03-08T20:46:14.355Z"
   },
   {
    "duration": 143,
    "start_time": "2022-03-08T20:46:14.524Z"
   },
   {
    "duration": 131,
    "start_time": "2022-03-08T20:46:14.668Z"
   },
   {
    "duration": 11,
    "start_time": "2022-03-08T20:46:14.800Z"
   },
   {
    "duration": 4,
    "start_time": "2022-03-08T20:46:14.813Z"
   },
   {
    "duration": 8,
    "start_time": "2022-03-08T20:46:14.818Z"
   },
   {
    "duration": 5,
    "start_time": "2022-03-08T20:46:14.827Z"
   },
   {
    "duration": 367,
    "start_time": "2022-03-08T20:46:53.538Z"
   },
   {
    "duration": 281,
    "start_time": "2022-03-08T20:50:52.722Z"
   },
   {
    "duration": 4,
    "start_time": "2022-03-08T20:51:01.601Z"
   },
   {
    "duration": 21,
    "start_time": "2022-03-08T20:51:05.887Z"
   },
   {
    "duration": 3,
    "start_time": "2022-03-08T20:51:10.495Z"
   },
   {
    "duration": 366,
    "start_time": "2022-03-08T20:51:20.263Z"
   },
   {
    "duration": 285,
    "start_time": "2022-03-08T20:51:56.063Z"
   },
   {
    "duration": 297,
    "start_time": "2022-03-08T20:52:33.144Z"
   },
   {
    "duration": 355,
    "start_time": "2022-03-08T20:53:03.538Z"
   },
   {
    "duration": 294,
    "start_time": "2022-03-08T20:53:08.760Z"
   },
   {
    "duration": 3810,
    "start_time": "2022-03-08T20:53:54.349Z"
   },
   {
    "duration": 329,
    "start_time": "2022-03-08T20:53:57.832Z"
   },
   {
    "duration": 22,
    "start_time": "2022-03-08T20:54:10.700Z"
   },
   {
    "duration": 323,
    "start_time": "2022-03-08T20:54:12.198Z"
   },
   {
    "duration": 21,
    "start_time": "2022-03-08T20:54:22.715Z"
   },
   {
    "duration": 4,
    "start_time": "2022-03-08T20:56:37.829Z"
   },
   {
    "duration": 5,
    "start_time": "2022-03-08T20:56:56.932Z"
   },
   {
    "duration": 10,
    "start_time": "2022-03-08T20:56:58.788Z"
   },
   {
    "duration": 19,
    "start_time": "2022-03-08T20:57:19.138Z"
   },
   {
    "duration": 305,
    "start_time": "2022-03-08T20:57:20.137Z"
   },
   {
    "duration": 19,
    "start_time": "2022-03-08T20:57:45.604Z"
   },
   {
    "duration": 18,
    "start_time": "2022-03-08T20:57:52.699Z"
   },
   {
    "duration": 1150,
    "start_time": "2022-03-08T20:58:07.289Z"
   },
   {
    "duration": 139,
    "start_time": "2022-03-08T20:58:08.441Z"
   },
   {
    "duration": 3,
    "start_time": "2022-03-08T20:58:08.582Z"
   },
   {
    "duration": 4,
    "start_time": "2022-03-08T20:58:08.586Z"
   },
   {
    "duration": 14,
    "start_time": "2022-03-08T20:58:08.592Z"
   },
   {
    "duration": 9,
    "start_time": "2022-03-08T20:58:08.607Z"
   },
   {
    "duration": 13,
    "start_time": "2022-03-08T20:58:08.618Z"
   },
   {
    "duration": 3,
    "start_time": "2022-03-08T20:58:08.634Z"
   },
   {
    "duration": 12,
    "start_time": "2022-03-08T20:58:08.639Z"
   },
   {
    "duration": 6,
    "start_time": "2022-03-08T20:58:08.653Z"
   },
   {
    "duration": 9,
    "start_time": "2022-03-08T20:58:08.661Z"
   },
   {
    "duration": 32,
    "start_time": "2022-03-08T20:58:08.671Z"
   },
   {
    "duration": 5,
    "start_time": "2022-03-08T20:58:08.705Z"
   },
   {
    "duration": 9,
    "start_time": "2022-03-08T20:58:08.712Z"
   },
   {
    "duration": 16,
    "start_time": "2022-03-08T20:58:08.723Z"
   },
   {
    "duration": 5,
    "start_time": "2022-03-08T20:58:08.741Z"
   },
   {
    "duration": 11,
    "start_time": "2022-03-08T20:58:08.748Z"
   },
   {
    "duration": 8,
    "start_time": "2022-03-08T20:58:08.760Z"
   },
   {
    "duration": 33,
    "start_time": "2022-03-08T20:58:08.770Z"
   },
   {
    "duration": 5,
    "start_time": "2022-03-08T20:58:08.804Z"
   },
   {
    "duration": 13,
    "start_time": "2022-03-08T20:58:08.810Z"
   },
   {
    "duration": 5,
    "start_time": "2022-03-08T20:58:08.825Z"
   },
   {
    "duration": 7,
    "start_time": "2022-03-08T20:58:08.834Z"
   },
   {
    "duration": 17,
    "start_time": "2022-03-08T20:58:08.843Z"
   },
   {
    "duration": 5,
    "start_time": "2022-03-08T20:58:08.862Z"
   },
   {
    "duration": 35,
    "start_time": "2022-03-08T20:58:08.869Z"
   },
   {
    "duration": 6,
    "start_time": "2022-03-08T20:58:08.905Z"
   },
   {
    "duration": 13,
    "start_time": "2022-03-08T20:58:08.912Z"
   },
   {
    "duration": 5,
    "start_time": "2022-03-08T20:58:08.927Z"
   },
   {
    "duration": 10,
    "start_time": "2022-03-08T20:58:08.933Z"
   },
   {
    "duration": 11,
    "start_time": "2022-03-08T20:58:08.945Z"
   },
   {
    "duration": 6,
    "start_time": "2022-03-08T20:58:08.958Z"
   },
   {
    "duration": 12,
    "start_time": "2022-03-08T20:58:08.965Z"
   },
   {
    "duration": 24,
    "start_time": "2022-03-08T20:58:08.979Z"
   },
   {
    "duration": 350,
    "start_time": "2022-03-08T20:58:09.005Z"
   },
   {
    "duration": 20,
    "start_time": "2022-03-08T20:58:09.357Z"
   },
   {
    "duration": 8,
    "start_time": "2022-03-08T20:58:09.379Z"
   },
   {
    "duration": 384,
    "start_time": "2022-03-08T20:58:09.388Z"
   },
   {
    "duration": 136,
    "start_time": "2022-03-08T20:58:09.638Z"
   },
   {
    "duration": 130,
    "start_time": "2022-03-08T20:58:09.645Z"
   },
   {
    "duration": 125,
    "start_time": "2022-03-08T20:58:09.651Z"
   },
   {
    "duration": 120,
    "start_time": "2022-03-08T20:58:09.657Z"
   },
   {
    "duration": 115,
    "start_time": "2022-03-08T20:58:09.663Z"
   },
   {
    "duration": 110,
    "start_time": "2022-03-08T20:58:09.669Z"
   },
   {
    "duration": 105,
    "start_time": "2022-03-08T20:58:09.675Z"
   },
   {
    "duration": 100,
    "start_time": "2022-03-08T20:58:09.681Z"
   },
   {
    "duration": 96,
    "start_time": "2022-03-08T20:58:09.686Z"
   },
   {
    "duration": 90,
    "start_time": "2022-03-08T20:58:09.693Z"
   },
   {
    "duration": 84,
    "start_time": "2022-03-08T20:58:09.699Z"
   },
   {
    "duration": 79,
    "start_time": "2022-03-08T20:58:09.705Z"
   },
   {
    "duration": 74,
    "start_time": "2022-03-08T20:58:09.711Z"
   },
   {
    "duration": 69,
    "start_time": "2022-03-08T20:58:09.717Z"
   },
   {
    "duration": 65,
    "start_time": "2022-03-08T20:58:09.722Z"
   },
   {
    "duration": 48,
    "start_time": "2022-03-08T20:58:09.740Z"
   },
   {
    "duration": 43,
    "start_time": "2022-03-08T20:58:09.746Z"
   },
   {
    "duration": 36,
    "start_time": "2022-03-08T20:58:09.753Z"
   },
   {
    "duration": 32,
    "start_time": "2022-03-08T20:58:09.758Z"
   },
   {
    "duration": 26,
    "start_time": "2022-03-08T20:58:09.765Z"
   },
   {
    "duration": 21,
    "start_time": "2022-03-08T20:58:09.771Z"
   },
   {
    "duration": 15,
    "start_time": "2022-03-08T20:58:09.778Z"
   },
   {
    "duration": 11,
    "start_time": "2022-03-08T20:58:09.783Z"
   },
   {
    "duration": 6,
    "start_time": "2022-03-08T20:58:09.789Z"
   },
   {
    "duration": 0,
    "start_time": "2022-03-08T20:58:09.795Z"
   },
   {
    "duration": -5,
    "start_time": "2022-03-08T20:58:09.801Z"
   },
   {
    "duration": -10,
    "start_time": "2022-03-08T20:58:09.807Z"
   },
   {
    "duration": -15,
    "start_time": "2022-03-08T20:58:09.813Z"
   },
   {
    "duration": -19,
    "start_time": "2022-03-08T20:58:09.818Z"
   },
   {
    "duration": -25,
    "start_time": "2022-03-08T20:58:09.825Z"
   },
   {
    "duration": -30,
    "start_time": "2022-03-08T20:58:09.831Z"
   },
   {
    "duration": -35,
    "start_time": "2022-03-08T20:58:09.837Z"
   },
   {
    "duration": -50,
    "start_time": "2022-03-08T20:58:09.853Z"
   },
   {
    "duration": -56,
    "start_time": "2022-03-08T20:58:09.860Z"
   },
   {
    "duration": -61,
    "start_time": "2022-03-08T20:58:09.866Z"
   },
   {
    "duration": -66,
    "start_time": "2022-03-08T20:58:09.872Z"
   },
   {
    "duration": -71,
    "start_time": "2022-03-08T20:58:09.878Z"
   },
   {
    "duration": -77,
    "start_time": "2022-03-08T20:58:09.884Z"
   },
   {
    "duration": -82,
    "start_time": "2022-03-08T20:58:09.890Z"
   },
   {
    "duration": -87,
    "start_time": "2022-03-08T20:58:09.896Z"
   },
   {
    "duration": -92,
    "start_time": "2022-03-08T20:58:09.902Z"
   },
   {
    "duration": -99,
    "start_time": "2022-03-08T20:58:09.910Z"
   },
   {
    "duration": -104,
    "start_time": "2022-03-08T20:58:09.916Z"
   },
   {
    "duration": -109,
    "start_time": "2022-03-08T20:58:09.922Z"
   },
   {
    "duration": -114,
    "start_time": "2022-03-08T20:58:09.928Z"
   },
   {
    "duration": -119,
    "start_time": "2022-03-08T20:58:09.934Z"
   },
   {
    "duration": -124,
    "start_time": "2022-03-08T20:58:09.940Z"
   },
   {
    "duration": -129,
    "start_time": "2022-03-08T20:58:09.946Z"
   },
   {
    "duration": -134,
    "start_time": "2022-03-08T20:58:09.951Z"
   },
   {
    "duration": -152,
    "start_time": "2022-03-08T20:58:09.970Z"
   },
   {
    "duration": -157,
    "start_time": "2022-03-08T20:58:09.976Z"
   },
   {
    "duration": -162,
    "start_time": "2022-03-08T20:58:09.982Z"
   },
   {
    "duration": -168,
    "start_time": "2022-03-08T20:58:09.988Z"
   },
   {
    "duration": 3,
    "start_time": "2022-03-08T20:59:37.876Z"
   },
   {
    "duration": 4,
    "start_time": "2022-03-08T20:59:57.377Z"
   },
   {
    "duration": 1206,
    "start_time": "2022-03-08T21:00:07.031Z"
   },
   {
    "duration": 154,
    "start_time": "2022-03-08T21:00:08.239Z"
   },
   {
    "duration": 3,
    "start_time": "2022-03-08T21:00:08.395Z"
   },
   {
    "duration": 6,
    "start_time": "2022-03-08T21:00:08.400Z"
   },
   {
    "duration": 15,
    "start_time": "2022-03-08T21:00:08.408Z"
   },
   {
    "duration": 11,
    "start_time": "2022-03-08T21:00:08.425Z"
   },
   {
    "duration": 14,
    "start_time": "2022-03-08T21:00:08.438Z"
   },
   {
    "duration": 3,
    "start_time": "2022-03-08T21:00:08.454Z"
   },
   {
    "duration": 32,
    "start_time": "2022-03-08T21:00:08.459Z"
   },
   {
    "duration": 8,
    "start_time": "2022-03-08T21:00:08.493Z"
   },
   {
    "duration": 7,
    "start_time": "2022-03-08T21:00:08.502Z"
   },
   {
    "duration": 8,
    "start_time": "2022-03-08T21:00:08.511Z"
   },
   {
    "duration": 9,
    "start_time": "2022-03-08T21:00:08.521Z"
   },
   {
    "duration": 13,
    "start_time": "2022-03-08T21:00:08.531Z"
   },
   {
    "duration": 19,
    "start_time": "2022-03-08T21:00:08.546Z"
   },
   {
    "duration": 6,
    "start_time": "2022-03-08T21:00:08.566Z"
   },
   {
    "duration": 28,
    "start_time": "2022-03-08T21:00:08.573Z"
   },
   {
    "duration": 4,
    "start_time": "2022-03-08T21:00:08.603Z"
   },
   {
    "duration": 7,
    "start_time": "2022-03-08T21:00:08.608Z"
   },
   {
    "duration": 9,
    "start_time": "2022-03-08T21:00:08.616Z"
   },
   {
    "duration": 15,
    "start_time": "2022-03-08T21:00:08.627Z"
   },
   {
    "duration": 5,
    "start_time": "2022-03-08T21:00:08.643Z"
   },
   {
    "duration": 8,
    "start_time": "2022-03-08T21:00:08.651Z"
   },
   {
    "duration": 13,
    "start_time": "2022-03-08T21:00:08.661Z"
   },
   {
    "duration": 10,
    "start_time": "2022-03-08T21:00:08.675Z"
   },
   {
    "duration": 18,
    "start_time": "2022-03-08T21:00:08.687Z"
   },
   {
    "duration": 7,
    "start_time": "2022-03-08T21:00:08.707Z"
   },
   {
    "duration": 11,
    "start_time": "2022-03-08T21:00:08.715Z"
   },
   {
    "duration": 6,
    "start_time": "2022-03-08T21:00:08.727Z"
   },
   {
    "duration": 9,
    "start_time": "2022-03-08T21:00:08.734Z"
   },
   {
    "duration": 12,
    "start_time": "2022-03-08T21:00:08.744Z"
   },
   {
    "duration": 6,
    "start_time": "2022-03-08T21:00:08.758Z"
   },
   {
    "duration": 10,
    "start_time": "2022-03-08T21:00:08.765Z"
   },
   {
    "duration": 29,
    "start_time": "2022-03-08T21:00:08.776Z"
   },
   {
    "duration": 374,
    "start_time": "2022-03-08T21:00:08.807Z"
   },
   {
    "duration": 38,
    "start_time": "2022-03-08T21:00:09.182Z"
   },
   {
    "duration": 9,
    "start_time": "2022-03-08T21:00:09.221Z"
   },
   {
    "duration": 6,
    "start_time": "2022-03-08T21:00:09.232Z"
   },
   {
    "duration": 11,
    "start_time": "2022-03-08T21:00:09.240Z"
   },
   {
    "duration": 21,
    "start_time": "2022-03-08T21:00:09.253Z"
   },
   {
    "duration": 42,
    "start_time": "2022-03-08T21:00:09.276Z"
   },
   {
    "duration": 20,
    "start_time": "2022-03-08T21:00:09.320Z"
   },
   {
    "duration": 12,
    "start_time": "2022-03-08T21:00:09.342Z"
   },
   {
    "duration": 7,
    "start_time": "2022-03-08T21:00:09.356Z"
   },
   {
    "duration": 54,
    "start_time": "2022-03-08T21:00:09.365Z"
   },
   {
    "duration": 17,
    "start_time": "2022-03-08T21:00:09.421Z"
   },
   {
    "duration": 387,
    "start_time": "2022-03-08T21:00:09.440Z"
   },
   {
    "duration": 20,
    "start_time": "2022-03-08T21:00:09.828Z"
   },
   {
    "duration": 508,
    "start_time": "2022-03-08T21:00:09.850Z"
   },
   {
    "duration": 5,
    "start_time": "2022-03-08T21:00:10.359Z"
   },
   {
    "duration": 15,
    "start_time": "2022-03-08T21:00:10.366Z"
   },
   {
    "duration": 500,
    "start_time": "2022-03-08T21:00:10.382Z"
   },
   {
    "duration": 5,
    "start_time": "2022-03-08T21:00:10.884Z"
   },
   {
    "duration": 12,
    "start_time": "2022-03-08T21:00:10.901Z"
   },
   {
    "duration": 559,
    "start_time": "2022-03-08T21:00:10.914Z"
   },
   {
    "duration": 5,
    "start_time": "2022-03-08T21:00:11.474Z"
   },
   {
    "duration": 21,
    "start_time": "2022-03-08T21:00:11.481Z"
   },
   {
    "duration": 466,
    "start_time": "2022-03-08T21:00:11.503Z"
   },
   {
    "duration": 5,
    "start_time": "2022-03-08T21:00:11.970Z"
   },
   {
    "duration": 15,
    "start_time": "2022-03-08T21:00:11.976Z"
   },
   {
    "duration": 474,
    "start_time": "2022-03-08T21:00:11.992Z"
   },
   {
    "duration": 5,
    "start_time": "2022-03-08T21:00:12.467Z"
   },
   {
    "duration": 14,
    "start_time": "2022-03-08T21:00:12.473Z"
   },
   {
    "duration": 486,
    "start_time": "2022-03-08T21:00:12.488Z"
   },
   {
    "duration": 5,
    "start_time": "2022-03-08T21:00:12.976Z"
   },
   {
    "duration": 26,
    "start_time": "2022-03-08T21:00:12.982Z"
   },
   {
    "duration": 457,
    "start_time": "2022-03-08T21:00:13.010Z"
   },
   {
    "duration": 5,
    "start_time": "2022-03-08T21:00:13.473Z"
   },
   {
    "duration": 24,
    "start_time": "2022-03-08T21:00:13.480Z"
   },
   {
    "duration": 10,
    "start_time": "2022-03-08T21:00:13.505Z"
   },
   {
    "duration": 7,
    "start_time": "2022-03-08T21:00:13.517Z"
   },
   {
    "duration": 10,
    "start_time": "2022-03-08T21:00:13.526Z"
   },
   {
    "duration": 9,
    "start_time": "2022-03-08T21:00:13.538Z"
   },
   {
    "duration": 8,
    "start_time": "2022-03-08T21:00:13.548Z"
   },
   {
    "duration": 10,
    "start_time": "2022-03-08T21:00:13.558Z"
   },
   {
    "duration": 40,
    "start_time": "2022-03-08T21:00:13.569Z"
   },
   {
    "duration": 7,
    "start_time": "2022-03-08T21:00:13.611Z"
   },
   {
    "duration": 15,
    "start_time": "2022-03-08T21:00:13.620Z"
   },
   {
    "duration": 22,
    "start_time": "2022-03-08T21:00:13.636Z"
   },
   {
    "duration": 43,
    "start_time": "2022-03-08T21:00:13.659Z"
   },
   {
    "duration": 14,
    "start_time": "2022-03-08T21:00:13.704Z"
   },
   {
    "duration": 14,
    "start_time": "2022-03-08T21:00:13.720Z"
   },
   {
    "duration": 14,
    "start_time": "2022-03-08T21:00:13.735Z"
   },
   {
    "duration": 15,
    "start_time": "2022-03-08T21:00:13.750Z"
   },
   {
    "duration": 157,
    "start_time": "2022-03-08T21:00:13.766Z"
   },
   {
    "duration": 136,
    "start_time": "2022-03-08T21:00:13.925Z"
   },
   {
    "duration": 133,
    "start_time": "2022-03-08T21:00:14.063Z"
   },
   {
    "duration": 11,
    "start_time": "2022-03-08T21:00:14.201Z"
   },
   {
    "duration": 4,
    "start_time": "2022-03-08T21:00:14.214Z"
   },
   {
    "duration": 7,
    "start_time": "2022-03-08T21:00:14.220Z"
   },
   {
    "duration": 4,
    "start_time": "2022-03-08T21:00:14.228Z"
   },
   {
    "duration": 503,
    "start_time": "2022-03-08T21:01:54.238Z"
   },
   {
    "duration": 18,
    "start_time": "2022-03-08T21:02:06.335Z"
   },
   {
    "duration": 1102,
    "start_time": "2022-03-08T21:02:20.232Z"
   },
   {
    "duration": 135,
    "start_time": "2022-03-08T21:02:21.336Z"
   },
   {
    "duration": 3,
    "start_time": "2022-03-08T21:02:21.474Z"
   },
   {
    "duration": 3,
    "start_time": "2022-03-08T21:02:21.479Z"
   },
   {
    "duration": 16,
    "start_time": "2022-03-08T21:02:21.484Z"
   },
   {
    "duration": 10,
    "start_time": "2022-03-08T21:02:21.501Z"
   },
   {
    "duration": 15,
    "start_time": "2022-03-08T21:02:21.513Z"
   },
   {
    "duration": 3,
    "start_time": "2022-03-08T21:02:21.531Z"
   },
   {
    "duration": 18,
    "start_time": "2022-03-08T21:02:21.536Z"
   },
   {
    "duration": 5,
    "start_time": "2022-03-08T21:02:21.556Z"
   },
   {
    "duration": 10,
    "start_time": "2022-03-08T21:02:21.562Z"
   },
   {
    "duration": 30,
    "start_time": "2022-03-08T21:02:21.574Z"
   },
   {
    "duration": 8,
    "start_time": "2022-03-08T21:02:21.605Z"
   },
   {
    "duration": 12,
    "start_time": "2022-03-08T21:02:21.614Z"
   },
   {
    "duration": 19,
    "start_time": "2022-03-08T21:02:21.627Z"
   },
   {
    "duration": 6,
    "start_time": "2022-03-08T21:02:21.647Z"
   },
   {
    "duration": 14,
    "start_time": "2022-03-08T21:02:21.654Z"
   },
   {
    "duration": 9,
    "start_time": "2022-03-08T21:02:21.669Z"
   },
   {
    "duration": 22,
    "start_time": "2022-03-08T21:02:21.679Z"
   },
   {
    "duration": 4,
    "start_time": "2022-03-08T21:02:21.703Z"
   },
   {
    "duration": 15,
    "start_time": "2022-03-08T21:02:21.708Z"
   },
   {
    "duration": 5,
    "start_time": "2022-03-08T21:02:21.724Z"
   },
   {
    "duration": 10,
    "start_time": "2022-03-08T21:02:21.732Z"
   },
   {
    "duration": 13,
    "start_time": "2022-03-08T21:02:21.744Z"
   },
   {
    "duration": 15,
    "start_time": "2022-03-08T21:02:21.758Z"
   },
   {
    "duration": 12,
    "start_time": "2022-03-08T21:02:21.775Z"
   },
   {
    "duration": 15,
    "start_time": "2022-03-08T21:02:21.789Z"
   },
   {
    "duration": 10,
    "start_time": "2022-03-08T21:02:21.806Z"
   },
   {
    "duration": 8,
    "start_time": "2022-03-08T21:02:21.818Z"
   },
   {
    "duration": 9,
    "start_time": "2022-03-08T21:02:21.828Z"
   },
   {
    "duration": 15,
    "start_time": "2022-03-08T21:02:21.839Z"
   },
   {
    "duration": 5,
    "start_time": "2022-03-08T21:02:21.856Z"
   },
   {
    "duration": 15,
    "start_time": "2022-03-08T21:02:21.862Z"
   },
   {
    "duration": 27,
    "start_time": "2022-03-08T21:02:21.879Z"
   },
   {
    "duration": 359,
    "start_time": "2022-03-08T21:02:21.907Z"
   },
   {
    "duration": 35,
    "start_time": "2022-03-08T21:02:22.267Z"
   },
   {
    "duration": 8,
    "start_time": "2022-03-08T21:02:22.303Z"
   },
   {
    "duration": 5,
    "start_time": "2022-03-08T21:02:22.312Z"
   },
   {
    "duration": 11,
    "start_time": "2022-03-08T21:02:22.318Z"
   },
   {
    "duration": 20,
    "start_time": "2022-03-08T21:02:22.330Z"
   },
   {
    "duration": 18,
    "start_time": "2022-03-08T21:02:22.351Z"
   },
   {
    "duration": 46,
    "start_time": "2022-03-08T21:02:22.371Z"
   },
   {
    "duration": 13,
    "start_time": "2022-03-08T21:02:22.418Z"
   },
   {
    "duration": 7,
    "start_time": "2022-03-08T21:02:22.432Z"
   },
   {
    "duration": 19,
    "start_time": "2022-03-08T21:02:22.441Z"
   },
   {
    "duration": 11,
    "start_time": "2022-03-08T21:02:22.461Z"
   },
   {
    "duration": 341,
    "start_time": "2022-03-08T21:02:22.473Z"
   },
   {
    "duration": 20,
    "start_time": "2022-03-08T21:02:22.816Z"
   },
   {
    "duration": 464,
    "start_time": "2022-03-08T21:02:22.837Z"
   },
   {
    "duration": 4,
    "start_time": "2022-03-08T21:02:23.303Z"
   },
   {
    "duration": 14,
    "start_time": "2022-03-08T21:02:23.308Z"
   },
   {
    "duration": 440,
    "start_time": "2022-03-08T21:02:23.324Z"
   },
   {
    "duration": 4,
    "start_time": "2022-03-08T21:02:23.766Z"
   },
   {
    "duration": 11,
    "start_time": "2022-03-08T21:02:23.772Z"
   },
   {
    "duration": 542,
    "start_time": "2022-03-08T21:02:23.801Z"
   },
   {
    "duration": 5,
    "start_time": "2022-03-08T21:02:24.345Z"
   },
   {
    "duration": 12,
    "start_time": "2022-03-08T21:02:24.352Z"
   },
   {
    "duration": 486,
    "start_time": "2022-03-08T21:02:24.366Z"
   },
   {
    "duration": 5,
    "start_time": "2022-03-08T21:02:24.854Z"
   },
   {
    "duration": 15,
    "start_time": "2022-03-08T21:02:24.861Z"
   },
   {
    "duration": 478,
    "start_time": "2022-03-08T21:02:24.877Z"
   },
   {
    "duration": 5,
    "start_time": "2022-03-08T21:02:25.357Z"
   },
   {
    "duration": 12,
    "start_time": "2022-03-08T21:02:25.364Z"
   },
   {
    "duration": 486,
    "start_time": "2022-03-08T21:02:25.377Z"
   },
   {
    "duration": 6,
    "start_time": "2022-03-08T21:02:25.864Z"
   },
   {
    "duration": 13,
    "start_time": "2022-03-08T21:02:25.871Z"
   },
   {
    "duration": 487,
    "start_time": "2022-03-08T21:02:25.900Z"
   },
   {
    "duration": 11,
    "start_time": "2022-03-08T21:02:26.392Z"
   },
   {
    "duration": 16,
    "start_time": "2022-03-08T21:02:26.405Z"
   },
   {
    "duration": 8,
    "start_time": "2022-03-08T21:02:26.423Z"
   },
   {
    "duration": 7,
    "start_time": "2022-03-08T21:02:26.433Z"
   },
   {
    "duration": 9,
    "start_time": "2022-03-08T21:02:26.441Z"
   },
   {
    "duration": 9,
    "start_time": "2022-03-08T21:02:26.452Z"
   },
   {
    "duration": 7,
    "start_time": "2022-03-08T21:02:26.463Z"
   },
   {
    "duration": 38,
    "start_time": "2022-03-08T21:02:26.472Z"
   },
   {
    "duration": 10,
    "start_time": "2022-03-08T21:02:26.511Z"
   },
   {
    "duration": 7,
    "start_time": "2022-03-08T21:02:26.523Z"
   },
   {
    "duration": 16,
    "start_time": "2022-03-08T21:02:26.532Z"
   },
   {
    "duration": 22,
    "start_time": "2022-03-08T21:02:26.550Z"
   },
   {
    "duration": 46,
    "start_time": "2022-03-08T21:02:26.574Z"
   },
   {
    "duration": 15,
    "start_time": "2022-03-08T21:02:26.622Z"
   },
   {
    "duration": 15,
    "start_time": "2022-03-08T21:02:26.639Z"
   },
   {
    "duration": 15,
    "start_time": "2022-03-08T21:02:26.655Z"
   },
   {
    "duration": 45,
    "start_time": "2022-03-08T21:02:26.671Z"
   },
   {
    "duration": 141,
    "start_time": "2022-03-08T21:02:26.717Z"
   },
   {
    "duration": 139,
    "start_time": "2022-03-08T21:02:26.860Z"
   },
   {
    "duration": 132,
    "start_time": "2022-03-08T21:02:27.001Z"
   },
   {
    "duration": 11,
    "start_time": "2022-03-08T21:02:27.135Z"
   },
   {
    "duration": 4,
    "start_time": "2022-03-08T21:02:27.148Z"
   },
   {
    "duration": 8,
    "start_time": "2022-03-08T21:02:27.154Z"
   },
   {
    "duration": 4,
    "start_time": "2022-03-08T21:02:27.163Z"
   },
   {
    "duration": 385,
    "start_time": "2022-03-08T21:08:58.564Z"
   },
   {
    "duration": 21,
    "start_time": "2022-03-08T21:09:07.622Z"
   },
   {
    "duration": 100,
    "start_time": "2022-03-08T21:09:15.937Z"
   },
   {
    "duration": 21,
    "start_time": "2022-03-08T21:09:22.594Z"
   },
   {
    "duration": 22,
    "start_time": "2022-03-08T21:12:47.537Z"
   },
   {
    "duration": 4,
    "start_time": "2022-03-08T21:17:06.226Z"
   },
   {
    "duration": 98,
    "start_time": "2022-03-08T21:18:12.631Z"
   },
   {
    "duration": 297,
    "start_time": "2022-03-08T21:18:33.718Z"
   },
   {
    "duration": 272,
    "start_time": "2022-03-08T21:18:40.655Z"
   },
   {
    "duration": 19,
    "start_time": "2022-03-08T21:18:48.277Z"
   },
   {
    "duration": 1098,
    "start_time": "2022-03-08T21:20:16.337Z"
   },
   {
    "duration": 221,
    "start_time": "2022-03-08T21:20:17.437Z"
   },
   {
    "duration": 2,
    "start_time": "2022-03-08T21:20:17.660Z"
   },
   {
    "duration": 4,
    "start_time": "2022-03-08T21:20:17.664Z"
   },
   {
    "duration": 16,
    "start_time": "2022-03-08T21:20:17.669Z"
   },
   {
    "duration": 9,
    "start_time": "2022-03-08T21:20:17.686Z"
   },
   {
    "duration": 14,
    "start_time": "2022-03-08T21:20:17.697Z"
   },
   {
    "duration": 3,
    "start_time": "2022-03-08T21:20:17.714Z"
   },
   {
    "duration": 12,
    "start_time": "2022-03-08T21:20:17.719Z"
   },
   {
    "duration": 6,
    "start_time": "2022-03-08T21:20:17.732Z"
   },
   {
    "duration": 8,
    "start_time": "2022-03-08T21:20:17.740Z"
   },
   {
    "duration": 10,
    "start_time": "2022-03-08T21:20:17.749Z"
   },
   {
    "duration": 7,
    "start_time": "2022-03-08T21:20:17.761Z"
   },
   {
    "duration": 8,
    "start_time": "2022-03-08T21:20:17.770Z"
   },
   {
    "duration": 22,
    "start_time": "2022-03-08T21:20:17.780Z"
   },
   {
    "duration": 14,
    "start_time": "2022-03-08T21:20:17.803Z"
   },
   {
    "duration": 4,
    "start_time": "2022-03-08T21:20:17.819Z"
   },
   {
    "duration": 11,
    "start_time": "2022-03-08T21:20:17.825Z"
   },
   {
    "duration": 12,
    "start_time": "2022-03-08T21:20:17.837Z"
   },
   {
    "duration": 9,
    "start_time": "2022-03-08T21:20:17.851Z"
   },
   {
    "duration": 8,
    "start_time": "2022-03-08T21:20:17.861Z"
   },
   {
    "duration": 16,
    "start_time": "2022-03-08T21:20:17.870Z"
   },
   {
    "duration": 12,
    "start_time": "2022-03-08T21:20:17.889Z"
   },
   {
    "duration": 4,
    "start_time": "2022-03-08T21:20:17.903Z"
   },
   {
    "duration": 13,
    "start_time": "2022-03-08T21:20:17.909Z"
   },
   {
    "duration": 9,
    "start_time": "2022-03-08T21:20:17.923Z"
   },
   {
    "duration": 11,
    "start_time": "2022-03-08T21:20:17.934Z"
   },
   {
    "duration": 6,
    "start_time": "2022-03-08T21:20:17.946Z"
   },
   {
    "duration": 12,
    "start_time": "2022-03-08T21:20:17.954Z"
   },
   {
    "duration": 6,
    "start_time": "2022-03-08T21:20:17.967Z"
   },
   {
    "duration": 10,
    "start_time": "2022-03-08T21:20:17.974Z"
   },
   {
    "duration": 18,
    "start_time": "2022-03-08T21:20:17.985Z"
   },
   {
    "duration": 8,
    "start_time": "2022-03-08T21:20:18.004Z"
   },
   {
    "duration": 14,
    "start_time": "2022-03-08T21:20:18.013Z"
   },
   {
    "duration": 27,
    "start_time": "2022-03-08T21:20:18.029Z"
   },
   {
    "duration": 338,
    "start_time": "2022-03-08T21:20:18.057Z"
   },
   {
    "duration": 23,
    "start_time": "2022-03-08T21:20:18.396Z"
   },
   {
    "duration": 9,
    "start_time": "2022-03-08T21:20:18.420Z"
   },
   {
    "duration": 5,
    "start_time": "2022-03-08T21:20:18.431Z"
   },
   {
    "duration": 10,
    "start_time": "2022-03-08T21:20:18.438Z"
   },
   {
    "duration": 52,
    "start_time": "2022-03-08T21:20:18.450Z"
   },
   {
    "duration": 18,
    "start_time": "2022-03-08T21:20:18.504Z"
   },
   {
    "duration": 13,
    "start_time": "2022-03-08T21:20:18.524Z"
   },
   {
    "duration": 8,
    "start_time": "2022-03-08T21:20:18.539Z"
   },
   {
    "duration": 20,
    "start_time": "2022-03-08T21:20:18.549Z"
   },
   {
    "duration": 8394,
    "start_time": "2022-03-08T21:20:18.601Z"
   },
   {
    "duration": 339,
    "start_time": "2022-03-08T21:20:26.659Z"
   },
   {
    "duration": 333,
    "start_time": "2022-03-08T21:20:26.667Z"
   },
   {
    "duration": 326,
    "start_time": "2022-03-08T21:20:26.675Z"
   },
   {
    "duration": 317,
    "start_time": "2022-03-08T21:20:26.685Z"
   },
   {
    "duration": 310,
    "start_time": "2022-03-08T21:20:26.694Z"
   },
   {
    "duration": 300,
    "start_time": "2022-03-08T21:20:26.705Z"
   },
   {
    "duration": 289,
    "start_time": "2022-03-08T21:20:26.717Z"
   },
   {
    "duration": 278,
    "start_time": "2022-03-08T21:20:26.729Z"
   },
   {
    "duration": 270,
    "start_time": "2022-03-08T21:20:26.739Z"
   },
   {
    "duration": 240,
    "start_time": "2022-03-08T21:20:26.770Z"
   },
   {
    "duration": 234,
    "start_time": "2022-03-08T21:20:26.777Z"
   },
   {
    "duration": 227,
    "start_time": "2022-03-08T21:20:26.786Z"
   },
   {
    "duration": 221,
    "start_time": "2022-03-08T21:20:26.793Z"
   },
   {
    "duration": 212,
    "start_time": "2022-03-08T21:20:26.803Z"
   },
   {
    "duration": 207,
    "start_time": "2022-03-08T21:20:26.810Z"
   },
   {
    "duration": 199,
    "start_time": "2022-03-08T21:20:26.819Z"
   },
   {
    "duration": 194,
    "start_time": "2022-03-08T21:20:26.826Z"
   },
   {
    "duration": 186,
    "start_time": "2022-03-08T21:20:26.835Z"
   },
   {
    "duration": 180,
    "start_time": "2022-03-08T21:20:26.842Z"
   },
   {
    "duration": 172,
    "start_time": "2022-03-08T21:20:26.851Z"
   },
   {
    "duration": 156,
    "start_time": "2022-03-08T21:20:26.869Z"
   },
   {
    "duration": 129,
    "start_time": "2022-03-08T21:20:26.897Z"
   },
   {
    "duration": 122,
    "start_time": "2022-03-08T21:20:26.905Z"
   },
   {
    "duration": 116,
    "start_time": "2022-03-08T21:20:26.913Z"
   },
   {
    "duration": 108,
    "start_time": "2022-03-08T21:20:26.922Z"
   },
   {
    "duration": 101,
    "start_time": "2022-03-08T21:20:26.930Z"
   },
   {
    "duration": 95,
    "start_time": "2022-03-08T21:20:26.937Z"
   },
   {
    "duration": 90,
    "start_time": "2022-03-08T21:20:26.944Z"
   },
   {
    "duration": 84,
    "start_time": "2022-03-08T21:20:26.951Z"
   },
   {
    "duration": 77,
    "start_time": "2022-03-08T21:20:26.959Z"
   },
   {
    "duration": 73,
    "start_time": "2022-03-08T21:20:26.965Z"
   },
   {
    "duration": 66,
    "start_time": "2022-03-08T21:20:26.973Z"
   },
   {
    "duration": 60,
    "start_time": "2022-03-08T21:20:26.980Z"
   },
   {
    "duration": 54,
    "start_time": "2022-03-08T21:20:26.987Z"
   },
   {
    "duration": 35,
    "start_time": "2022-03-08T21:20:27.008Z"
   },
   {
    "duration": 29,
    "start_time": "2022-03-08T21:20:27.015Z"
   },
   {
    "duration": 22,
    "start_time": "2022-03-08T21:20:27.023Z"
   },
   {
    "duration": 15,
    "start_time": "2022-03-08T21:20:27.031Z"
   },
   {
    "duration": 60,
    "start_time": "2022-03-08T21:20:27.042Z"
   },
   {
    "duration": 47,
    "start_time": "2022-03-08T21:20:27.056Z"
   },
   {
    "duration": 40,
    "start_time": "2022-03-08T21:20:27.064Z"
   },
   {
    "duration": 33,
    "start_time": "2022-03-08T21:20:27.072Z"
   },
   {
    "duration": 29,
    "start_time": "2022-03-08T21:20:27.078Z"
   },
   {
    "duration": 22,
    "start_time": "2022-03-08T21:20:27.086Z"
   },
   {
    "duration": 17,
    "start_time": "2022-03-08T21:20:27.092Z"
   },
   {
    "duration": 11,
    "start_time": "2022-03-08T21:20:27.099Z"
   },
   {
    "duration": 6,
    "start_time": "2022-03-08T21:20:27.106Z"
   },
   {
    "duration": -12,
    "start_time": "2022-03-08T21:20:27.125Z"
   },
   {
    "duration": -18,
    "start_time": "2022-03-08T21:20:27.132Z"
   },
   {
    "duration": 4,
    "start_time": "2022-03-08T21:21:19.877Z"
   },
   {
    "duration": 297,
    "start_time": "2022-03-08T21:22:41.663Z"
   },
   {
    "duration": 38,
    "start_time": "2022-03-08T21:22:52.015Z"
   },
   {
    "duration": 293,
    "start_time": "2022-03-08T21:24:54.921Z"
   },
   {
    "duration": 32,
    "start_time": "2022-03-08T21:25:01.313Z"
   },
   {
    "duration": 306,
    "start_time": "2022-03-08T21:25:28.717Z"
   },
   {
    "duration": 343,
    "start_time": "2022-03-08T21:25:44.927Z"
   },
   {
    "duration": 338,
    "start_time": "2022-03-08T21:26:26.025Z"
   },
   {
    "duration": 96,
    "start_time": "2022-03-08T21:29:25.715Z"
   },
   {
    "duration": 350,
    "start_time": "2022-03-08T21:29:40.367Z"
   },
   {
    "duration": 20,
    "start_time": "2022-03-08T21:37:06.649Z"
   },
   {
    "duration": 1072,
    "start_time": "2022-03-08T21:37:23.155Z"
   },
   {
    "duration": 128,
    "start_time": "2022-03-08T21:37:24.229Z"
   },
   {
    "duration": 3,
    "start_time": "2022-03-08T21:37:24.358Z"
   },
   {
    "duration": 4,
    "start_time": "2022-03-08T21:37:24.362Z"
   },
   {
    "duration": 15,
    "start_time": "2022-03-08T21:37:24.367Z"
   },
   {
    "duration": 8,
    "start_time": "2022-03-08T21:37:24.383Z"
   },
   {
    "duration": 13,
    "start_time": "2022-03-08T21:37:24.393Z"
   },
   {
    "duration": 3,
    "start_time": "2022-03-08T21:37:24.408Z"
   },
   {
    "duration": 12,
    "start_time": "2022-03-08T21:37:24.412Z"
   },
   {
    "duration": 6,
    "start_time": "2022-03-08T21:37:24.426Z"
   },
   {
    "duration": 9,
    "start_time": "2022-03-08T21:37:24.434Z"
   },
   {
    "duration": 10,
    "start_time": "2022-03-08T21:37:24.444Z"
   },
   {
    "duration": 7,
    "start_time": "2022-03-08T21:37:24.455Z"
   },
   {
    "duration": 9,
    "start_time": "2022-03-08T21:37:24.464Z"
   },
   {
    "duration": 13,
    "start_time": "2022-03-08T21:37:24.474Z"
   },
   {
    "duration": 27,
    "start_time": "2022-03-08T21:37:24.488Z"
   },
   {
    "duration": 4,
    "start_time": "2022-03-08T21:37:24.517Z"
   },
   {
    "duration": 11,
    "start_time": "2022-03-08T21:37:24.523Z"
   },
   {
    "duration": 9,
    "start_time": "2022-03-08T21:37:24.536Z"
   },
   {
    "duration": 11,
    "start_time": "2022-03-08T21:37:24.546Z"
   },
   {
    "duration": 8,
    "start_time": "2022-03-08T21:37:24.558Z"
   },
   {
    "duration": 17,
    "start_time": "2022-03-08T21:37:24.567Z"
   },
   {
    "duration": 14,
    "start_time": "2022-03-08T21:37:24.588Z"
   },
   {
    "duration": 6,
    "start_time": "2022-03-08T21:37:24.604Z"
   },
   {
    "duration": 16,
    "start_time": "2022-03-08T21:37:24.612Z"
   },
   {
    "duration": 9,
    "start_time": "2022-03-08T21:37:24.630Z"
   },
   {
    "duration": 11,
    "start_time": "2022-03-08T21:37:24.640Z"
   },
   {
    "duration": 7,
    "start_time": "2022-03-08T21:37:24.653Z"
   },
   {
    "duration": 11,
    "start_time": "2022-03-08T21:37:24.662Z"
   },
   {
    "duration": 9,
    "start_time": "2022-03-08T21:37:24.675Z"
   },
   {
    "duration": 15,
    "start_time": "2022-03-08T21:37:24.686Z"
   },
   {
    "duration": 14,
    "start_time": "2022-03-08T21:37:24.703Z"
   },
   {
    "duration": 6,
    "start_time": "2022-03-08T21:37:24.719Z"
   },
   {
    "duration": 10,
    "start_time": "2022-03-08T21:37:24.727Z"
   },
   {
    "duration": 24,
    "start_time": "2022-03-08T21:37:24.738Z"
   },
   {
    "duration": 341,
    "start_time": "2022-03-08T21:37:24.763Z"
   },
   {
    "duration": 20,
    "start_time": "2022-03-08T21:37:25.106Z"
   },
   {
    "duration": 7,
    "start_time": "2022-03-08T21:37:25.128Z"
   },
   {
    "duration": 4,
    "start_time": "2022-03-08T21:37:25.137Z"
   },
   {
    "duration": 10,
    "start_time": "2022-03-08T21:37:25.142Z"
   },
   {
    "duration": 18,
    "start_time": "2022-03-08T21:37:25.153Z"
   },
   {
    "duration": 16,
    "start_time": "2022-03-08T21:37:25.201Z"
   },
   {
    "duration": 17,
    "start_time": "2022-03-08T21:37:25.219Z"
   },
   {
    "duration": 12,
    "start_time": "2022-03-08T21:37:25.237Z"
   },
   {
    "duration": 7,
    "start_time": "2022-03-08T21:37:25.251Z"
   },
   {
    "duration": 47,
    "start_time": "2022-03-08T21:37:25.259Z"
   },
   {
    "duration": 4,
    "start_time": "2022-03-08T21:37:25.307Z"
   },
   {
    "duration": 11,
    "start_time": "2022-03-08T21:37:25.313Z"
   },
   {
    "duration": 311,
    "start_time": "2022-03-08T21:37:25.325Z"
   },
   {
    "duration": 21,
    "start_time": "2022-03-08T21:37:25.638Z"
   },
   {
    "duration": 520,
    "start_time": "2022-03-08T21:37:25.660Z"
   },
   {
    "duration": 5,
    "start_time": "2022-03-08T21:37:26.182Z"
   },
   {
    "duration": 22,
    "start_time": "2022-03-08T21:37:26.188Z"
   },
   {
    "duration": 458,
    "start_time": "2022-03-08T21:37:26.211Z"
   },
   {
    "duration": 5,
    "start_time": "2022-03-08T21:37:26.671Z"
   },
   {
    "duration": 24,
    "start_time": "2022-03-08T21:37:26.678Z"
   },
   {
    "duration": 542,
    "start_time": "2022-03-08T21:37:26.703Z"
   },
   {
    "duration": 4,
    "start_time": "2022-03-08T21:37:27.247Z"
   },
   {
    "duration": 12,
    "start_time": "2022-03-08T21:37:27.253Z"
   },
   {
    "duration": 489,
    "start_time": "2022-03-08T21:37:27.266Z"
   },
   {
    "duration": 4,
    "start_time": "2022-03-08T21:37:27.757Z"
   },
   {
    "duration": 12,
    "start_time": "2022-03-08T21:37:27.763Z"
   },
   {
    "duration": 483,
    "start_time": "2022-03-08T21:37:27.777Z"
   },
   {
    "duration": 5,
    "start_time": "2022-03-08T21:37:28.261Z"
   },
   {
    "duration": 14,
    "start_time": "2022-03-08T21:37:28.267Z"
   },
   {
    "duration": 477,
    "start_time": "2022-03-08T21:37:28.283Z"
   },
   {
    "duration": 4,
    "start_time": "2022-03-08T21:37:28.761Z"
   },
   {
    "duration": 11,
    "start_time": "2022-03-08T21:37:28.770Z"
   },
   {
    "duration": 471,
    "start_time": "2022-03-08T21:37:28.782Z"
   },
   {
    "duration": 5,
    "start_time": "2022-03-08T21:37:29.254Z"
   },
   {
    "duration": 15,
    "start_time": "2022-03-08T21:37:29.260Z"
   },
   {
    "duration": 25,
    "start_time": "2022-03-08T21:37:29.276Z"
   },
   {
    "duration": 6,
    "start_time": "2022-03-08T21:37:29.303Z"
   },
   {
    "duration": 9,
    "start_time": "2022-03-08T21:37:29.311Z"
   },
   {
    "duration": 10,
    "start_time": "2022-03-08T21:37:29.321Z"
   },
   {
    "duration": 7,
    "start_time": "2022-03-08T21:37:29.332Z"
   },
   {
    "duration": 10,
    "start_time": "2022-03-08T21:37:29.341Z"
   },
   {
    "duration": 11,
    "start_time": "2022-03-08T21:37:29.352Z"
   },
   {
    "duration": 10,
    "start_time": "2022-03-08T21:37:29.364Z"
   },
   {
    "duration": 9,
    "start_time": "2022-03-08T21:37:29.401Z"
   },
   {
    "duration": 22,
    "start_time": "2022-03-08T21:37:29.411Z"
   },
   {
    "duration": 22,
    "start_time": "2022-03-08T21:37:29.435Z"
   },
   {
    "duration": 4,
    "start_time": "2022-03-08T21:37:29.459Z"
   },
   {
    "duration": 48,
    "start_time": "2022-03-08T21:37:29.465Z"
   },
   {
    "duration": 4,
    "start_time": "2022-03-08T21:37:29.515Z"
   },
   {
    "duration": 14,
    "start_time": "2022-03-08T21:37:29.520Z"
   },
   {
    "duration": 12,
    "start_time": "2022-03-08T21:37:29.536Z"
   },
   {
    "duration": 13,
    "start_time": "2022-03-08T21:37:29.550Z"
   },
   {
    "duration": 161,
    "start_time": "2022-03-08T21:37:29.565Z"
   },
   {
    "duration": 140,
    "start_time": "2022-03-08T21:37:29.727Z"
   },
   {
    "duration": 133,
    "start_time": "2022-03-08T21:37:29.868Z"
   },
   {
    "duration": 11,
    "start_time": "2022-03-08T21:37:30.002Z"
   },
   {
    "duration": 4,
    "start_time": "2022-03-08T21:37:30.015Z"
   },
   {
    "duration": 15,
    "start_time": "2022-03-08T21:37:30.020Z"
   },
   {
    "duration": 4,
    "start_time": "2022-03-08T21:37:30.037Z"
   },
   {
    "duration": 18,
    "start_time": "2022-03-08T21:38:06.755Z"
   },
   {
    "duration": 380,
    "start_time": "2022-03-08T21:38:21.525Z"
   },
   {
    "duration": 328,
    "start_time": "2022-03-08T21:38:30.838Z"
   },
   {
    "duration": 20,
    "start_time": "2022-03-08T21:38:40.972Z"
   },
   {
    "duration": 986,
    "start_time": "2022-03-08T21:38:48.146Z"
   },
   {
    "duration": 141,
    "start_time": "2022-03-08T21:38:49.134Z"
   },
   {
    "duration": 2,
    "start_time": "2022-03-08T21:38:49.277Z"
   },
   {
    "duration": 5,
    "start_time": "2022-03-08T21:38:49.281Z"
   },
   {
    "duration": 15,
    "start_time": "2022-03-08T21:38:49.287Z"
   },
   {
    "duration": 8,
    "start_time": "2022-03-08T21:38:49.303Z"
   },
   {
    "duration": 14,
    "start_time": "2022-03-08T21:38:49.312Z"
   },
   {
    "duration": 2,
    "start_time": "2022-03-08T21:38:49.328Z"
   },
   {
    "duration": 13,
    "start_time": "2022-03-08T21:38:49.331Z"
   },
   {
    "duration": 7,
    "start_time": "2022-03-08T21:38:49.345Z"
   },
   {
    "duration": 9,
    "start_time": "2022-03-08T21:38:49.353Z"
   },
   {
    "duration": 10,
    "start_time": "2022-03-08T21:38:49.363Z"
   },
   {
    "duration": 9,
    "start_time": "2022-03-08T21:38:49.374Z"
   },
   {
    "duration": 4,
    "start_time": "2022-03-08T21:38:49.402Z"
   },
   {
    "duration": 12,
    "start_time": "2022-03-08T21:38:49.408Z"
   },
   {
    "duration": 18,
    "start_time": "2022-03-08T21:38:49.422Z"
   },
   {
    "duration": 6,
    "start_time": "2022-03-08T21:38:49.442Z"
   },
   {
    "duration": 9,
    "start_time": "2022-03-08T21:38:49.450Z"
   },
   {
    "duration": 7,
    "start_time": "2022-03-08T21:38:49.461Z"
   },
   {
    "duration": 10,
    "start_time": "2022-03-08T21:38:49.470Z"
   },
   {
    "duration": 23,
    "start_time": "2022-03-08T21:38:49.481Z"
   },
   {
    "duration": 13,
    "start_time": "2022-03-08T21:38:49.505Z"
   },
   {
    "duration": 4,
    "start_time": "2022-03-08T21:38:49.522Z"
   },
   {
    "duration": 9,
    "start_time": "2022-03-08T21:38:49.528Z"
   },
   {
    "duration": 13,
    "start_time": "2022-03-08T21:38:49.538Z"
   },
   {
    "duration": 4,
    "start_time": "2022-03-08T21:38:49.552Z"
   },
   {
    "duration": 11,
    "start_time": "2022-03-08T21:38:49.558Z"
   },
   {
    "duration": 8,
    "start_time": "2022-03-08T21:38:49.570Z"
   },
   {
    "duration": 27,
    "start_time": "2022-03-08T21:38:49.580Z"
   },
   {
    "duration": 3,
    "start_time": "2022-03-08T21:38:49.609Z"
   },
   {
    "duration": 10,
    "start_time": "2022-03-08T21:38:49.613Z"
   },
   {
    "duration": 18,
    "start_time": "2022-03-08T21:38:49.624Z"
   },
   {
    "duration": 6,
    "start_time": "2022-03-08T21:38:49.644Z"
   },
   {
    "duration": 9,
    "start_time": "2022-03-08T21:38:49.652Z"
   },
   {
    "duration": 22,
    "start_time": "2022-03-08T21:38:49.662Z"
   },
   {
    "duration": 336,
    "start_time": "2022-03-08T21:38:49.686Z"
   },
   {
    "duration": 21,
    "start_time": "2022-03-08T21:38:50.024Z"
   },
   {
    "duration": 8,
    "start_time": "2022-03-08T21:38:50.047Z"
   },
   {
    "duration": 5,
    "start_time": "2022-03-08T21:38:50.056Z"
   },
   {
    "duration": 11,
    "start_time": "2022-03-08T21:38:50.062Z"
   },
   {
    "duration": 20,
    "start_time": "2022-03-08T21:38:50.101Z"
   },
   {
    "duration": 18,
    "start_time": "2022-03-08T21:38:50.122Z"
   },
   {
    "duration": 18,
    "start_time": "2022-03-08T21:38:50.141Z"
   },
   {
    "duration": 12,
    "start_time": "2022-03-08T21:38:50.160Z"
   },
   {
    "duration": 7,
    "start_time": "2022-03-08T21:38:50.201Z"
   },
   {
    "duration": 18,
    "start_time": "2022-03-08T21:38:50.209Z"
   },
   {
    "duration": 3,
    "start_time": "2022-03-08T21:38:50.228Z"
   },
   {
    "duration": 11,
    "start_time": "2022-03-08T21:38:50.233Z"
   },
   {
    "duration": 311,
    "start_time": "2022-03-08T21:38:50.245Z"
   },
   {
    "duration": 19,
    "start_time": "2022-03-08T21:38:50.557Z"
   },
   {
    "duration": 512,
    "start_time": "2022-03-08T21:38:50.577Z"
   },
   {
    "duration": 10,
    "start_time": "2022-03-08T21:38:51.091Z"
   },
   {
    "duration": 11,
    "start_time": "2022-03-08T21:38:51.102Z"
   },
   {
    "duration": 455,
    "start_time": "2022-03-08T21:38:51.114Z"
   },
   {
    "duration": 4,
    "start_time": "2022-03-08T21:38:51.570Z"
   },
   {
    "duration": 11,
    "start_time": "2022-03-08T21:38:51.576Z"
   },
   {
    "duration": 517,
    "start_time": "2022-03-08T21:38:51.588Z"
   },
   {
    "duration": 4,
    "start_time": "2022-03-08T21:38:52.107Z"
   },
   {
    "duration": 13,
    "start_time": "2022-03-08T21:38:52.113Z"
   },
   {
    "duration": 464,
    "start_time": "2022-03-08T21:38:52.128Z"
   },
   {
    "duration": 9,
    "start_time": "2022-03-08T21:38:52.594Z"
   },
   {
    "duration": 13,
    "start_time": "2022-03-08T21:38:52.605Z"
   },
   {
    "duration": 462,
    "start_time": "2022-03-08T21:38:52.619Z"
   },
   {
    "duration": 5,
    "start_time": "2022-03-08T21:38:53.083Z"
   },
   {
    "duration": 12,
    "start_time": "2022-03-08T21:38:53.101Z"
   },
   {
    "duration": 450,
    "start_time": "2022-03-08T21:38:53.115Z"
   },
   {
    "duration": 6,
    "start_time": "2022-03-08T21:38:53.567Z"
   },
   {
    "duration": 24,
    "start_time": "2022-03-08T21:38:53.578Z"
   },
   {
    "duration": 452,
    "start_time": "2022-03-08T21:38:53.604Z"
   },
   {
    "duration": 5,
    "start_time": "2022-03-08T21:38:54.057Z"
   },
   {
    "duration": 15,
    "start_time": "2022-03-08T21:38:54.063Z"
   },
   {
    "duration": 21,
    "start_time": "2022-03-08T21:38:54.080Z"
   },
   {
    "duration": 8,
    "start_time": "2022-03-08T21:38:54.102Z"
   },
   {
    "duration": 10,
    "start_time": "2022-03-08T21:38:54.111Z"
   },
   {
    "duration": 9,
    "start_time": "2022-03-08T21:38:54.122Z"
   },
   {
    "duration": 7,
    "start_time": "2022-03-08T21:38:54.133Z"
   },
   {
    "duration": 13,
    "start_time": "2022-03-08T21:38:54.141Z"
   },
   {
    "duration": 12,
    "start_time": "2022-03-08T21:38:54.156Z"
   },
   {
    "duration": 33,
    "start_time": "2022-03-08T21:38:54.169Z"
   },
   {
    "duration": 10,
    "start_time": "2022-03-08T21:38:54.204Z"
   },
   {
    "duration": 22,
    "start_time": "2022-03-08T21:38:54.215Z"
   },
   {
    "duration": 20,
    "start_time": "2022-03-08T21:38:54.239Z"
   },
   {
    "duration": 4,
    "start_time": "2022-03-08T21:38:54.261Z"
   },
   {
    "duration": 39,
    "start_time": "2022-03-08T21:38:54.267Z"
   },
   {
    "duration": 5,
    "start_time": "2022-03-08T21:38:54.308Z"
   },
   {
    "duration": 15,
    "start_time": "2022-03-08T21:38:54.314Z"
   },
   {
    "duration": 14,
    "start_time": "2022-03-08T21:38:54.331Z"
   },
   {
    "duration": 15,
    "start_time": "2022-03-08T21:38:54.347Z"
   },
   {
    "duration": 158,
    "start_time": "2022-03-08T21:38:54.363Z"
   },
   {
    "duration": 131,
    "start_time": "2022-03-08T21:38:54.522Z"
   },
   {
    "duration": 133,
    "start_time": "2022-03-08T21:38:54.655Z"
   },
   {
    "duration": 15,
    "start_time": "2022-03-08T21:38:54.790Z"
   },
   {
    "duration": 4,
    "start_time": "2022-03-08T21:38:54.806Z"
   },
   {
    "duration": 9,
    "start_time": "2022-03-08T21:38:54.812Z"
   },
   {
    "duration": 8,
    "start_time": "2022-03-08T21:38:54.823Z"
   },
   {
    "duration": 19,
    "start_time": "2022-03-08T21:45:19.363Z"
   },
   {
    "duration": 4,
    "start_time": "2022-03-08T21:46:00.833Z"
   },
   {
    "duration": 20,
    "start_time": "2022-03-08T21:47:30.168Z"
   },
   {
    "duration": 21,
    "start_time": "2022-03-08T21:47:32.603Z"
   },
   {
    "duration": 20,
    "start_time": "2022-03-08T21:47:50.204Z"
   },
   {
    "duration": 18,
    "start_time": "2022-03-08T21:47:52.375Z"
   },
   {
    "duration": 1165,
    "start_time": "2022-03-08T21:48:04.569Z"
   },
   {
    "duration": 129,
    "start_time": "2022-03-08T21:48:05.737Z"
   },
   {
    "duration": 3,
    "start_time": "2022-03-08T21:48:05.868Z"
   },
   {
    "duration": 4,
    "start_time": "2022-03-08T21:48:05.873Z"
   },
   {
    "duration": 16,
    "start_time": "2022-03-08T21:48:05.878Z"
   },
   {
    "duration": 10,
    "start_time": "2022-03-08T21:48:05.896Z"
   },
   {
    "duration": 14,
    "start_time": "2022-03-08T21:48:05.908Z"
   },
   {
    "duration": 3,
    "start_time": "2022-03-08T21:48:05.924Z"
   },
   {
    "duration": 12,
    "start_time": "2022-03-08T21:48:05.929Z"
   },
   {
    "duration": 6,
    "start_time": "2022-03-08T21:48:05.943Z"
   },
   {
    "duration": 8,
    "start_time": "2022-03-08T21:48:05.950Z"
   },
   {
    "duration": 9,
    "start_time": "2022-03-08T21:48:05.959Z"
   },
   {
    "duration": 6,
    "start_time": "2022-03-08T21:48:05.970Z"
   },
   {
    "duration": 3,
    "start_time": "2022-03-08T21:48:06.001Z"
   },
   {
    "duration": 8,
    "start_time": "2022-03-08T21:48:06.006Z"
   },
   {
    "duration": 17,
    "start_time": "2022-03-08T21:48:06.016Z"
   },
   {
    "duration": 5,
    "start_time": "2022-03-08T21:48:06.034Z"
   },
   {
    "duration": 10,
    "start_time": "2022-03-08T21:48:06.041Z"
   },
   {
    "duration": 6,
    "start_time": "2022-03-08T21:48:06.053Z"
   },
   {
    "duration": 7,
    "start_time": "2022-03-08T21:48:06.061Z"
   },
   {
    "duration": 7,
    "start_time": "2022-03-08T21:48:06.070Z"
   },
   {
    "duration": 34,
    "start_time": "2022-03-08T21:48:06.079Z"
   },
   {
    "duration": 6,
    "start_time": "2022-03-08T21:48:06.117Z"
   },
   {
    "duration": 10,
    "start_time": "2022-03-08T21:48:06.125Z"
   },
   {
    "duration": 13,
    "start_time": "2022-03-08T21:48:06.136Z"
   },
   {
    "duration": 9,
    "start_time": "2022-03-08T21:48:06.150Z"
   },
   {
    "duration": 11,
    "start_time": "2022-03-08T21:48:06.160Z"
   },
   {
    "duration": 30,
    "start_time": "2022-03-08T21:48:06.172Z"
   },
   {
    "duration": 9,
    "start_time": "2022-03-08T21:48:06.203Z"
   },
   {
    "duration": 3,
    "start_time": "2022-03-08T21:48:06.213Z"
   },
   {
    "duration": 9,
    "start_time": "2022-03-08T21:48:06.218Z"
   },
   {
    "duration": 12,
    "start_time": "2022-03-08T21:48:06.228Z"
   },
   {
    "duration": 5,
    "start_time": "2022-03-08T21:48:06.241Z"
   },
   {
    "duration": 10,
    "start_time": "2022-03-08T21:48:06.247Z"
   },
   {
    "duration": 27,
    "start_time": "2022-03-08T21:48:06.259Z"
   },
   {
    "duration": 368,
    "start_time": "2022-03-08T21:48:06.287Z"
   },
   {
    "duration": 27,
    "start_time": "2022-03-08T21:48:06.657Z"
   },
   {
    "duration": 21,
    "start_time": "2022-03-08T21:48:06.686Z"
   },
   {
    "duration": 4,
    "start_time": "2022-03-08T21:48:06.709Z"
   },
   {
    "duration": 10,
    "start_time": "2022-03-08T21:48:06.715Z"
   },
   {
    "duration": 19,
    "start_time": "2022-03-08T21:48:06.726Z"
   },
   {
    "duration": 17,
    "start_time": "2022-03-08T21:48:06.747Z"
   },
   {
    "duration": 52,
    "start_time": "2022-03-08T21:48:06.765Z"
   },
   {
    "duration": 15,
    "start_time": "2022-03-08T21:48:06.819Z"
   },
   {
    "duration": 7,
    "start_time": "2022-03-08T21:48:06.836Z"
   },
   {
    "duration": 21,
    "start_time": "2022-03-08T21:48:06.845Z"
   },
   {
    "duration": 4,
    "start_time": "2022-03-08T21:48:06.868Z"
   },
   {
    "duration": 12,
    "start_time": "2022-03-08T21:48:06.901Z"
   },
   {
    "duration": 311,
    "start_time": "2022-03-08T21:48:06.914Z"
   },
   {
    "duration": 21,
    "start_time": "2022-03-08T21:48:07.226Z"
   },
   {
    "duration": 524,
    "start_time": "2022-03-08T21:48:07.248Z"
   },
   {
    "duration": 4,
    "start_time": "2022-03-08T21:48:07.773Z"
   },
   {
    "duration": 22,
    "start_time": "2022-03-08T21:48:07.779Z"
   },
   {
    "duration": 455,
    "start_time": "2022-03-08T21:48:07.802Z"
   },
   {
    "duration": 5,
    "start_time": "2022-03-08T21:48:08.259Z"
   },
   {
    "duration": 13,
    "start_time": "2022-03-08T21:48:08.265Z"
   },
   {
    "duration": 496,
    "start_time": "2022-03-08T21:48:08.279Z"
   },
   {
    "duration": 5,
    "start_time": "2022-03-08T21:48:08.777Z"
   },
   {
    "duration": 27,
    "start_time": "2022-03-08T21:48:08.784Z"
   },
   {
    "duration": 452,
    "start_time": "2022-03-08T21:48:08.813Z"
   },
   {
    "duration": 6,
    "start_time": "2022-03-08T21:48:09.267Z"
   },
   {
    "duration": 12,
    "start_time": "2022-03-08T21:48:09.275Z"
   },
   {
    "duration": 556,
    "start_time": "2022-03-08T21:48:09.301Z"
   },
   {
    "duration": 5,
    "start_time": "2022-03-08T21:48:09.859Z"
   },
   {
    "duration": 11,
    "start_time": "2022-03-08T21:48:09.866Z"
   },
   {
    "duration": 482,
    "start_time": "2022-03-08T21:48:09.879Z"
   },
   {
    "duration": 6,
    "start_time": "2022-03-08T21:48:10.363Z"
   },
   {
    "duration": 27,
    "start_time": "2022-03-08T21:48:10.375Z"
   },
   {
    "duration": 454,
    "start_time": "2022-03-08T21:48:10.404Z"
   },
   {
    "duration": 4,
    "start_time": "2022-03-08T21:48:10.859Z"
   },
   {
    "duration": 15,
    "start_time": "2022-03-08T21:48:10.865Z"
   },
   {
    "duration": 20,
    "start_time": "2022-03-08T21:48:10.881Z"
   },
   {
    "duration": 6,
    "start_time": "2022-03-08T21:48:10.903Z"
   },
   {
    "duration": 8,
    "start_time": "2022-03-08T21:48:10.911Z"
   },
   {
    "duration": 9,
    "start_time": "2022-03-08T21:48:10.921Z"
   },
   {
    "duration": 7,
    "start_time": "2022-03-08T21:48:10.931Z"
   },
   {
    "duration": 10,
    "start_time": "2022-03-08T21:48:10.940Z"
   },
   {
    "duration": 10,
    "start_time": "2022-03-08T21:48:10.951Z"
   },
   {
    "duration": 42,
    "start_time": "2022-03-08T21:48:10.963Z"
   },
   {
    "duration": 10,
    "start_time": "2022-03-08T21:48:11.006Z"
   },
   {
    "duration": 20,
    "start_time": "2022-03-08T21:48:11.018Z"
   },
   {
    "duration": 20,
    "start_time": "2022-03-08T21:48:11.039Z"
   },
   {
    "duration": 4,
    "start_time": "2022-03-08T21:48:11.061Z"
   },
   {
    "duration": 45,
    "start_time": "2022-03-08T21:48:11.067Z"
   },
   {
    "duration": 5,
    "start_time": "2022-03-08T21:48:11.114Z"
   },
   {
    "duration": 14,
    "start_time": "2022-03-08T21:48:11.120Z"
   },
   {
    "duration": 13,
    "start_time": "2022-03-08T21:48:11.136Z"
   },
   {
    "duration": 14,
    "start_time": "2022-03-08T21:48:11.151Z"
   },
   {
    "duration": 165,
    "start_time": "2022-03-08T21:48:11.166Z"
   },
   {
    "duration": 135,
    "start_time": "2022-03-08T21:48:11.333Z"
   },
   {
    "duration": 144,
    "start_time": "2022-03-08T21:48:11.470Z"
   },
   {
    "duration": 10,
    "start_time": "2022-03-08T21:48:11.616Z"
   },
   {
    "duration": 4,
    "start_time": "2022-03-08T21:48:11.628Z"
   },
   {
    "duration": 7,
    "start_time": "2022-03-08T21:48:11.633Z"
   },
   {
    "duration": 4,
    "start_time": "2022-03-08T21:48:11.642Z"
   },
   {
    "duration": 12,
    "start_time": "2022-03-08T21:48:49.646Z"
   },
   {
    "duration": 5,
    "start_time": "2022-03-08T21:48:50.474Z"
   },
   {
    "duration": 8,
    "start_time": "2022-03-08T21:48:54.337Z"
   },
   {
    "duration": 4,
    "start_time": "2022-03-08T21:48:55.338Z"
   },
   {
    "duration": 1109,
    "start_time": "2022-03-08T21:49:14.975Z"
   },
   {
    "duration": 133,
    "start_time": "2022-03-08T21:49:16.086Z"
   },
   {
    "duration": 3,
    "start_time": "2022-03-08T21:49:16.221Z"
   },
   {
    "duration": 4,
    "start_time": "2022-03-08T21:49:16.225Z"
   },
   {
    "duration": 16,
    "start_time": "2022-03-08T21:49:16.231Z"
   },
   {
    "duration": 11,
    "start_time": "2022-03-08T21:49:16.248Z"
   },
   {
    "duration": 14,
    "start_time": "2022-03-08T21:49:16.260Z"
   },
   {
    "duration": 3,
    "start_time": "2022-03-08T21:49:16.276Z"
   },
   {
    "duration": 10,
    "start_time": "2022-03-08T21:49:16.301Z"
   },
   {
    "duration": 11,
    "start_time": "2022-03-08T21:49:16.312Z"
   },
   {
    "duration": 12,
    "start_time": "2022-03-08T21:49:16.324Z"
   },
   {
    "duration": 18,
    "start_time": "2022-03-08T21:49:16.337Z"
   },
   {
    "duration": 8,
    "start_time": "2022-03-08T21:49:16.356Z"
   },
   {
    "duration": 8,
    "start_time": "2022-03-08T21:49:16.366Z"
   },
   {
    "duration": 16,
    "start_time": "2022-03-08T21:49:16.376Z"
   },
   {
    "duration": 17,
    "start_time": "2022-03-08T21:49:16.394Z"
   },
   {
    "duration": 4,
    "start_time": "2022-03-08T21:49:16.413Z"
   },
   {
    "duration": 11,
    "start_time": "2022-03-08T21:49:16.419Z"
   },
   {
    "duration": 9,
    "start_time": "2022-03-08T21:49:16.431Z"
   },
   {
    "duration": 7,
    "start_time": "2022-03-08T21:49:16.442Z"
   },
   {
    "duration": 8,
    "start_time": "2022-03-08T21:49:16.451Z"
   },
   {
    "duration": 16,
    "start_time": "2022-03-08T21:49:16.461Z"
   },
   {
    "duration": 5,
    "start_time": "2022-03-08T21:49:16.481Z"
   },
   {
    "duration": 4,
    "start_time": "2022-03-08T21:49:16.501Z"
   },
   {
    "duration": 13,
    "start_time": "2022-03-08T21:49:16.507Z"
   },
   {
    "duration": 7,
    "start_time": "2022-03-08T21:49:16.522Z"
   },
   {
    "duration": 9,
    "start_time": "2022-03-08T21:49:16.531Z"
   },
   {
    "duration": 7,
    "start_time": "2022-03-08T21:49:16.542Z"
   },
   {
    "duration": 14,
    "start_time": "2022-03-08T21:49:16.550Z"
   },
   {
    "duration": 6,
    "start_time": "2022-03-08T21:49:16.565Z"
   },
   {
    "duration": 10,
    "start_time": "2022-03-08T21:49:16.573Z"
   },
   {
    "duration": 23,
    "start_time": "2022-03-08T21:49:16.584Z"
   },
   {
    "duration": 8,
    "start_time": "2022-03-08T21:49:16.609Z"
   },
   {
    "duration": 10,
    "start_time": "2022-03-08T21:49:16.619Z"
   },
   {
    "duration": 24,
    "start_time": "2022-03-08T21:49:16.631Z"
   },
   {
    "duration": 356,
    "start_time": "2022-03-08T21:49:16.657Z"
   },
   {
    "duration": 23,
    "start_time": "2022-03-08T21:49:17.015Z"
   },
   {
    "duration": 7,
    "start_time": "2022-03-08T21:49:17.040Z"
   },
   {
    "duration": 4,
    "start_time": "2022-03-08T21:49:17.049Z"
   },
   {
    "duration": 9,
    "start_time": "2022-03-08T21:49:17.055Z"
   },
   {
    "duration": 47,
    "start_time": "2022-03-08T21:49:17.066Z"
   },
   {
    "duration": 19,
    "start_time": "2022-03-08T21:49:17.114Z"
   },
   {
    "duration": 18,
    "start_time": "2022-03-08T21:49:17.134Z"
   },
   {
    "duration": 13,
    "start_time": "2022-03-08T21:49:17.153Z"
   },
   {
    "duration": 36,
    "start_time": "2022-03-08T21:49:17.167Z"
   },
   {
    "duration": 19,
    "start_time": "2022-03-08T21:49:17.204Z"
   },
   {
    "duration": 4,
    "start_time": "2022-03-08T21:49:17.224Z"
   },
   {
    "duration": 12,
    "start_time": "2022-03-08T21:49:17.229Z"
   },
   {
    "duration": 321,
    "start_time": "2022-03-08T21:49:17.242Z"
   },
   {
    "duration": 22,
    "start_time": "2022-03-08T21:49:17.565Z"
   },
   {
    "duration": 486,
    "start_time": "2022-03-08T21:49:17.588Z"
   },
   {
    "duration": 5,
    "start_time": "2022-03-08T21:49:18.076Z"
   },
   {
    "duration": 25,
    "start_time": "2022-03-08T21:49:18.083Z"
   },
   {
    "duration": 443,
    "start_time": "2022-03-08T21:49:18.110Z"
   },
   {
    "duration": 6,
    "start_time": "2022-03-08T21:49:18.554Z"
   },
   {
    "duration": 12,
    "start_time": "2022-03-08T21:49:18.562Z"
   },
   {
    "duration": 516,
    "start_time": "2022-03-08T21:49:18.575Z"
   },
   {
    "duration": 11,
    "start_time": "2022-03-08T21:49:19.092Z"
   },
   {
    "duration": 13,
    "start_time": "2022-03-08T21:49:19.105Z"
   },
   {
    "duration": 444,
    "start_time": "2022-03-08T21:49:19.119Z"
   },
   {
    "duration": 5,
    "start_time": "2022-03-08T21:49:19.565Z"
   },
   {
    "duration": 12,
    "start_time": "2022-03-08T21:49:19.572Z"
   },
   {
    "duration": 474,
    "start_time": "2022-03-08T21:49:19.585Z"
   },
   {
    "duration": 4,
    "start_time": "2022-03-08T21:49:20.061Z"
   },
   {
    "duration": 12,
    "start_time": "2022-03-08T21:49:20.067Z"
   },
   {
    "duration": 484,
    "start_time": "2022-03-08T21:49:20.080Z"
   },
   {
    "duration": 4,
    "start_time": "2022-03-08T21:49:20.566Z"
   },
   {
    "duration": 13,
    "start_time": "2022-03-08T21:49:20.575Z"
   },
   {
    "duration": 459,
    "start_time": "2022-03-08T21:49:20.602Z"
   },
   {
    "duration": 4,
    "start_time": "2022-03-08T21:49:21.063Z"
   },
   {
    "duration": 16,
    "start_time": "2022-03-08T21:49:21.069Z"
   },
   {
    "duration": 22,
    "start_time": "2022-03-08T21:49:21.086Z"
   },
   {
    "duration": 7,
    "start_time": "2022-03-08T21:49:21.109Z"
   },
   {
    "duration": 10,
    "start_time": "2022-03-08T21:49:21.118Z"
   },
   {
    "duration": 11,
    "start_time": "2022-03-08T21:49:21.130Z"
   },
   {
    "duration": 8,
    "start_time": "2022-03-08T21:49:21.143Z"
   },
   {
    "duration": 10,
    "start_time": "2022-03-08T21:49:21.152Z"
   },
   {
    "duration": 43,
    "start_time": "2022-03-08T21:49:21.164Z"
   },
   {
    "duration": 8,
    "start_time": "2022-03-08T21:49:21.209Z"
   },
   {
    "duration": 10,
    "start_time": "2022-03-08T21:49:21.219Z"
   },
   {
    "duration": 21,
    "start_time": "2022-03-08T21:49:21.230Z"
   },
   {
    "duration": 52,
    "start_time": "2022-03-08T21:49:21.253Z"
   },
   {
    "duration": 6,
    "start_time": "2022-03-08T21:49:21.307Z"
   },
   {
    "duration": 17,
    "start_time": "2022-03-08T21:49:21.314Z"
   },
   {
    "duration": 6,
    "start_time": "2022-03-08T21:49:21.333Z"
   },
   {
    "duration": 15,
    "start_time": "2022-03-08T21:49:21.340Z"
   },
   {
    "duration": 52,
    "start_time": "2022-03-08T21:49:21.357Z"
   },
   {
    "duration": 14,
    "start_time": "2022-03-08T21:49:21.411Z"
   },
   {
    "duration": 153,
    "start_time": "2022-03-08T21:49:21.427Z"
   },
   {
    "duration": 134,
    "start_time": "2022-03-08T21:49:21.581Z"
   },
   {
    "duration": 144,
    "start_time": "2022-03-08T21:49:21.717Z"
   },
   {
    "duration": 11,
    "start_time": "2022-03-08T21:49:21.863Z"
   },
   {
    "duration": 4,
    "start_time": "2022-03-08T21:49:21.875Z"
   },
   {
    "duration": 23,
    "start_time": "2022-03-08T21:49:21.880Z"
   },
   {
    "duration": 4,
    "start_time": "2022-03-08T21:49:21.904Z"
   },
   {
    "duration": 265,
    "start_time": "2022-03-09T19:53:06.862Z"
   },
   {
    "duration": 1139,
    "start_time": "2022-03-09T19:53:13.473Z"
   },
   {
    "duration": 99,
    "start_time": "2022-03-09T19:53:14.613Z"
   },
   {
    "duration": 2,
    "start_time": "2022-03-09T19:53:14.717Z"
   },
   {
    "duration": 7,
    "start_time": "2022-03-09T19:53:14.721Z"
   },
   {
    "duration": 18,
    "start_time": "2022-03-09T19:53:14.729Z"
   },
   {
    "duration": 9,
    "start_time": "2022-03-09T19:53:14.749Z"
   },
   {
    "duration": 15,
    "start_time": "2022-03-09T19:53:14.761Z"
   },
   {
    "duration": 3,
    "start_time": "2022-03-09T19:53:14.778Z"
   },
   {
    "duration": 16,
    "start_time": "2022-03-09T19:53:14.783Z"
   },
   {
    "duration": 5,
    "start_time": "2022-03-09T19:53:14.801Z"
   },
   {
    "duration": 5,
    "start_time": "2022-03-09T19:53:14.808Z"
   },
   {
    "duration": 9,
    "start_time": "2022-03-09T19:53:14.814Z"
   },
   {
    "duration": 5,
    "start_time": "2022-03-09T19:53:14.824Z"
   },
   {
    "duration": 33,
    "start_time": "2022-03-09T19:53:14.831Z"
   },
   {
    "duration": 11,
    "start_time": "2022-03-09T19:53:14.866Z"
   },
   {
    "duration": 19,
    "start_time": "2022-03-09T19:53:14.878Z"
   },
   {
    "duration": 5,
    "start_time": "2022-03-09T19:53:14.899Z"
   },
   {
    "duration": 9,
    "start_time": "2022-03-09T19:53:14.905Z"
   },
   {
    "duration": 5,
    "start_time": "2022-03-09T19:53:14.915Z"
   },
   {
    "duration": 3,
    "start_time": "2022-03-09T19:53:14.923Z"
   },
   {
    "duration": 4,
    "start_time": "2022-03-09T19:53:14.928Z"
   },
   {
    "duration": 36,
    "start_time": "2022-03-09T19:53:14.936Z"
   },
   {
    "duration": 4,
    "start_time": "2022-03-09T19:53:14.975Z"
   },
   {
    "duration": 8,
    "start_time": "2022-03-09T19:53:14.980Z"
   },
   {
    "duration": 10,
    "start_time": "2022-03-09T19:53:14.990Z"
   },
   {
    "duration": 10,
    "start_time": "2022-03-09T19:53:15.002Z"
   },
   {
    "duration": 29,
    "start_time": "2022-03-09T19:53:15.014Z"
   },
   {
    "duration": 19,
    "start_time": "2022-03-09T19:53:15.045Z"
   },
   {
    "duration": 9,
    "start_time": "2022-03-09T19:53:15.066Z"
   },
   {
    "duration": 6,
    "start_time": "2022-03-09T19:53:15.077Z"
   },
   {
    "duration": 8,
    "start_time": "2022-03-09T19:53:15.084Z"
   },
   {
    "duration": 10,
    "start_time": "2022-03-09T19:53:15.094Z"
   },
   {
    "duration": 5,
    "start_time": "2022-03-09T19:53:15.105Z"
   },
   {
    "duration": 7,
    "start_time": "2022-03-09T19:53:15.112Z"
   },
   {
    "duration": 44,
    "start_time": "2022-03-09T19:53:15.121Z"
   },
   {
    "duration": 382,
    "start_time": "2022-03-09T19:53:15.167Z"
   },
   {
    "duration": 25,
    "start_time": "2022-03-09T19:53:15.551Z"
   },
   {
    "duration": 8,
    "start_time": "2022-03-09T19:53:15.578Z"
   },
   {
    "duration": 5,
    "start_time": "2022-03-09T19:53:15.588Z"
   },
   {
    "duration": 10,
    "start_time": "2022-03-09T19:53:15.595Z"
   },
   {
    "duration": 20,
    "start_time": "2022-03-09T19:53:15.606Z"
   },
   {
    "duration": 50,
    "start_time": "2022-03-09T19:53:15.627Z"
   },
   {
    "duration": 18,
    "start_time": "2022-03-09T19:53:15.679Z"
   },
   {
    "duration": 12,
    "start_time": "2022-03-09T19:53:15.699Z"
   },
   {
    "duration": 7,
    "start_time": "2022-03-09T19:53:15.713Z"
   },
   {
    "duration": 50,
    "start_time": "2022-03-09T19:53:15.721Z"
   },
   {
    "duration": 4,
    "start_time": "2022-03-09T19:53:15.772Z"
   },
   {
    "duration": 20,
    "start_time": "2022-03-09T19:53:15.777Z"
   },
   {
    "duration": 278,
    "start_time": "2022-03-09T19:53:15.799Z"
   },
   {
    "duration": 16,
    "start_time": "2022-03-09T19:53:16.079Z"
   },
   {
    "duration": 358,
    "start_time": "2022-03-09T19:53:16.097Z"
   },
   {
    "duration": 8,
    "start_time": "2022-03-09T19:53:16.456Z"
   },
   {
    "duration": 15,
    "start_time": "2022-03-09T19:53:16.466Z"
   },
   {
    "duration": 450,
    "start_time": "2022-03-09T19:53:16.483Z"
   },
   {
    "duration": 3,
    "start_time": "2022-03-09T19:53:16.935Z"
   },
   {
    "duration": 14,
    "start_time": "2022-03-09T19:53:16.940Z"
   },
   {
    "duration": 466,
    "start_time": "2022-03-09T19:53:16.963Z"
   },
   {
    "duration": 5,
    "start_time": "2022-03-09T19:53:17.430Z"
   },
   {
    "duration": 17,
    "start_time": "2022-03-09T19:53:17.436Z"
   },
   {
    "duration": 513,
    "start_time": "2022-03-09T19:53:17.454Z"
   },
   {
    "duration": 5,
    "start_time": "2022-03-09T19:53:17.969Z"
   },
   {
    "duration": 15,
    "start_time": "2022-03-09T19:53:17.975Z"
   },
   {
    "duration": 561,
    "start_time": "2022-03-09T19:53:17.992Z"
   },
   {
    "duration": 11,
    "start_time": "2022-03-09T19:53:18.554Z"
   },
   {
    "duration": 14,
    "start_time": "2022-03-09T19:53:18.566Z"
   },
   {
    "duration": 490,
    "start_time": "2022-03-09T19:53:18.581Z"
   },
   {
    "duration": 5,
    "start_time": "2022-03-09T19:53:19.076Z"
   },
   {
    "duration": 9,
    "start_time": "2022-03-09T19:53:19.083Z"
   },
   {
    "duration": 364,
    "start_time": "2022-03-09T19:53:19.094Z"
   },
   {
    "duration": 4,
    "start_time": "2022-03-09T19:53:19.462Z"
   },
   {
    "duration": 19,
    "start_time": "2022-03-09T19:53:19.468Z"
   },
   {
    "duration": 10,
    "start_time": "2022-03-09T19:53:19.488Z"
   },
   {
    "duration": 9,
    "start_time": "2022-03-09T19:53:19.500Z"
   },
   {
    "duration": 9,
    "start_time": "2022-03-09T19:53:19.510Z"
   },
   {
    "duration": 42,
    "start_time": "2022-03-09T19:53:19.521Z"
   },
   {
    "duration": 9,
    "start_time": "2022-03-09T19:53:19.564Z"
   },
   {
    "duration": 11,
    "start_time": "2022-03-09T19:53:19.575Z"
   },
   {
    "duration": 11,
    "start_time": "2022-03-09T19:53:19.588Z"
   },
   {
    "duration": 8,
    "start_time": "2022-03-09T19:53:19.600Z"
   },
   {
    "duration": 12,
    "start_time": "2022-03-09T19:53:19.610Z"
   },
   {
    "duration": 46,
    "start_time": "2022-03-09T19:53:19.624Z"
   },
   {
    "duration": 21,
    "start_time": "2022-03-09T19:53:19.672Z"
   },
   {
    "duration": 4,
    "start_time": "2022-03-09T19:53:19.695Z"
   },
   {
    "duration": 17,
    "start_time": "2022-03-09T19:53:19.700Z"
   },
   {
    "duration": 4,
    "start_time": "2022-03-09T19:53:19.719Z"
   },
   {
    "duration": 48,
    "start_time": "2022-03-09T19:53:19.724Z"
   },
   {
    "duration": 13,
    "start_time": "2022-03-09T19:53:19.774Z"
   },
   {
    "duration": 17,
    "start_time": "2022-03-09T19:53:19.789Z"
   },
   {
    "duration": 162,
    "start_time": "2022-03-09T19:53:19.808Z"
   },
   {
    "duration": 161,
    "start_time": "2022-03-09T19:53:19.971Z"
   },
   {
    "duration": 151,
    "start_time": "2022-03-09T19:53:20.134Z"
   },
   {
    "duration": 11,
    "start_time": "2022-03-09T19:53:20.287Z"
   },
   {
    "duration": 5,
    "start_time": "2022-03-09T19:53:20.300Z"
   },
   {
    "duration": 11,
    "start_time": "2022-03-09T19:53:20.307Z"
   },
   {
    "duration": 7,
    "start_time": "2022-03-09T19:53:20.319Z"
   },
   {
    "duration": 11,
    "start_time": "2022-03-09T19:55:20.510Z"
   },
   {
    "duration": 11,
    "start_time": "2022-03-09T19:55:55.557Z"
   },
   {
    "duration": 9,
    "start_time": "2022-03-09T19:56:15.424Z"
   },
   {
    "duration": 9,
    "start_time": "2022-03-09T19:56:48.971Z"
   },
   {
    "duration": 82,
    "start_time": "2022-03-09T19:57:22.902Z"
   },
   {
    "duration": 9,
    "start_time": "2022-03-09T19:57:48.612Z"
   },
   {
    "duration": 8,
    "start_time": "2022-03-09T19:58:17.451Z"
   },
   {
    "duration": 8,
    "start_time": "2022-03-09T19:58:23.032Z"
   },
   {
    "duration": 9,
    "start_time": "2022-03-09T19:58:28.084Z"
   },
   {
    "duration": 9,
    "start_time": "2022-03-09T19:58:33.086Z"
   },
   {
    "duration": 9,
    "start_time": "2022-03-09T19:58:37.687Z"
   },
   {
    "duration": 13,
    "start_time": "2022-03-09T19:58:52.361Z"
   },
   {
    "duration": 8,
    "start_time": "2022-03-09T19:59:05.307Z"
   },
   {
    "duration": 9,
    "start_time": "2022-03-09T19:59:21.125Z"
   },
   {
    "duration": 27,
    "start_time": "2022-03-09T20:00:09.048Z"
   },
   {
    "duration": 19,
    "start_time": "2022-03-09T20:00:20.540Z"
   },
   {
    "duration": 18,
    "start_time": "2022-03-09T20:00:46.238Z"
   },
   {
    "duration": 13,
    "start_time": "2022-03-09T20:00:58.352Z"
   },
   {
    "duration": 8,
    "start_time": "2022-03-09T20:01:05.544Z"
   },
   {
    "duration": 20,
    "start_time": "2022-03-09T20:01:33.469Z"
   },
   {
    "duration": 4,
    "start_time": "2022-03-09T20:01:43.689Z"
   },
   {
    "duration": 11,
    "start_time": "2022-03-09T20:01:48.855Z"
   },
   {
    "duration": 223,
    "start_time": "2022-03-09T20:01:49.667Z"
   },
   {
    "duration": 219,
    "start_time": "2022-03-09T20:03:23.418Z"
   },
   {
    "duration": 10,
    "start_time": "2022-03-09T20:04:55.427Z"
   },
   {
    "duration": 244,
    "start_time": "2022-03-09T20:04:56.252Z"
   },
   {
    "duration": 12,
    "start_time": "2022-03-09T20:06:00.159Z"
   },
   {
    "duration": 240,
    "start_time": "2022-03-09T20:06:00.854Z"
   },
   {
    "duration": 14,
    "start_time": "2022-03-09T20:06:19.566Z"
   },
   {
    "duration": 21,
    "start_time": "2022-03-09T20:06:21.854Z"
   },
   {
    "duration": 20,
    "start_time": "2022-03-09T20:06:55.759Z"
   },
   {
    "duration": 4,
    "start_time": "2022-03-09T20:07:03.372Z"
   },
   {
    "duration": 11,
    "start_time": "2022-03-09T20:07:04.975Z"
   },
   {
    "duration": 267,
    "start_time": "2022-03-09T20:07:05.762Z"
   },
   {
    "duration": 309,
    "start_time": "2022-03-09T20:07:35.251Z"
   },
   {
    "duration": 11,
    "start_time": "2022-03-09T20:22:03.759Z"
   },
   {
    "duration": 10,
    "start_time": "2022-03-09T20:25:05.688Z"
   },
   {
    "duration": 369,
    "start_time": "2022-03-09T20:33:32.919Z"
   },
   {
    "duration": 9,
    "start_time": "2022-03-09T20:36:41.632Z"
   },
   {
    "duration": 296,
    "start_time": "2022-03-10T17:29:43.683Z"
   },
   {
    "duration": 267,
    "start_time": "2022-03-10T17:29:46.960Z"
   },
   {
    "duration": 1250,
    "start_time": "2022-03-10T17:29:55.451Z"
   },
   {
    "duration": 138,
    "start_time": "2022-03-10T17:29:56.703Z"
   },
   {
    "duration": 3,
    "start_time": "2022-03-10T17:29:56.843Z"
   },
   {
    "duration": 6,
    "start_time": "2022-03-10T17:29:56.848Z"
   },
   {
    "duration": 20,
    "start_time": "2022-03-10T17:29:56.855Z"
   },
   {
    "duration": 10,
    "start_time": "2022-03-10T17:29:56.877Z"
   },
   {
    "duration": 19,
    "start_time": "2022-03-10T17:29:56.889Z"
   },
   {
    "duration": 3,
    "start_time": "2022-03-10T17:29:56.911Z"
   },
   {
    "duration": 15,
    "start_time": "2022-03-10T17:29:56.916Z"
   },
   {
    "duration": 7,
    "start_time": "2022-03-10T17:29:56.933Z"
   },
   {
    "duration": 35,
    "start_time": "2022-03-10T17:29:56.942Z"
   },
   {
    "duration": 5,
    "start_time": "2022-03-10T17:29:56.979Z"
   },
   {
    "duration": 6,
    "start_time": "2022-03-10T17:29:56.986Z"
   },
   {
    "duration": 6,
    "start_time": "2022-03-10T17:29:56.994Z"
   },
   {
    "duration": 10,
    "start_time": "2022-03-10T17:29:57.002Z"
   },
   {
    "duration": 17,
    "start_time": "2022-03-10T17:29:57.014Z"
   },
   {
    "duration": 6,
    "start_time": "2022-03-10T17:29:57.033Z"
   },
   {
    "duration": 43,
    "start_time": "2022-03-10T17:29:57.041Z"
   },
   {
    "duration": 6,
    "start_time": "2022-03-10T17:29:57.086Z"
   },
   {
    "duration": 7,
    "start_time": "2022-03-10T17:29:57.093Z"
   },
   {
    "duration": 9,
    "start_time": "2022-03-10T17:29:57.101Z"
   },
   {
    "duration": 21,
    "start_time": "2022-03-10T17:29:57.112Z"
   },
   {
    "duration": 5,
    "start_time": "2022-03-10T17:29:57.137Z"
   },
   {
    "duration": 8,
    "start_time": "2022-03-10T17:29:57.145Z"
   },
   {
    "duration": 35,
    "start_time": "2022-03-10T17:29:57.154Z"
   },
   {
    "duration": 6,
    "start_time": "2022-03-10T17:29:57.191Z"
   },
   {
    "duration": 8,
    "start_time": "2022-03-10T17:29:57.199Z"
   },
   {
    "duration": 5,
    "start_time": "2022-03-10T17:29:57.209Z"
   },
   {
    "duration": 11,
    "start_time": "2022-03-10T17:29:57.215Z"
   },
   {
    "duration": 3,
    "start_time": "2022-03-10T17:29:57.227Z"
   },
   {
    "duration": 8,
    "start_time": "2022-03-10T17:29:57.232Z"
   },
   {
    "duration": 7,
    "start_time": "2022-03-10T17:29:57.278Z"
   },
   {
    "duration": 4,
    "start_time": "2022-03-10T17:29:57.287Z"
   },
   {
    "duration": 7,
    "start_time": "2022-03-10T17:29:57.292Z"
   },
   {
    "duration": 28,
    "start_time": "2022-03-10T17:29:57.301Z"
   },
   {
    "duration": 472,
    "start_time": "2022-03-10T17:29:57.331Z"
   },
   {
    "duration": 24,
    "start_time": "2022-03-10T17:29:57.805Z"
   },
   {
    "duration": 9,
    "start_time": "2022-03-10T17:29:57.830Z"
   },
   {
    "duration": 7,
    "start_time": "2022-03-10T17:29:57.840Z"
   },
   {
    "duration": 35,
    "start_time": "2022-03-10T17:29:57.848Z"
   },
   {
    "duration": 22,
    "start_time": "2022-03-10T17:29:57.885Z"
   },
   {
    "duration": 21,
    "start_time": "2022-03-10T17:29:57.909Z"
   },
   {
    "duration": 49,
    "start_time": "2022-03-10T17:29:57.932Z"
   },
   {
    "duration": 14,
    "start_time": "2022-03-10T17:29:57.983Z"
   },
   {
    "duration": 21,
    "start_time": "2022-03-10T17:29:57.999Z"
   },
   {
    "duration": 4,
    "start_time": "2022-03-10T17:29:58.022Z"
   },
   {
    "duration": 14,
    "start_time": "2022-03-10T17:29:58.028Z"
   },
   {
    "duration": 433,
    "start_time": "2022-03-10T17:29:58.044Z"
   },
   {
    "duration": 17,
    "start_time": "2022-03-10T17:29:58.479Z"
   },
   {
    "duration": 431,
    "start_time": "2022-03-10T17:29:58.498Z"
   },
   {
    "duration": 4,
    "start_time": "2022-03-10T17:29:58.931Z"
   },
   {
    "duration": 11,
    "start_time": "2022-03-10T17:29:58.937Z"
   },
   {
    "duration": 455,
    "start_time": "2022-03-10T17:29:58.950Z"
   },
   {
    "duration": 4,
    "start_time": "2022-03-10T17:29:59.407Z"
   },
   {
    "duration": 33,
    "start_time": "2022-03-10T17:29:59.413Z"
   },
   {
    "duration": 609,
    "start_time": "2022-03-10T17:29:59.448Z"
   },
   {
    "duration": 17,
    "start_time": "2022-03-10T17:30:00.059Z"
   },
   {
    "duration": 19,
    "start_time": "2022-03-10T17:30:00.079Z"
   },
   {
    "duration": 694,
    "start_time": "2022-03-10T17:30:00.100Z"
   },
   {
    "duration": 7,
    "start_time": "2022-03-10T17:30:00.797Z"
   },
   {
    "duration": 64,
    "start_time": "2022-03-10T17:30:00.806Z"
   },
   {
    "duration": 587,
    "start_time": "2022-03-10T17:30:00.872Z"
   },
   {
    "duration": 6,
    "start_time": "2022-03-10T17:30:01.461Z"
   },
   {
    "duration": 19,
    "start_time": "2022-03-10T17:30:01.469Z"
   },
   {
    "duration": 552,
    "start_time": "2022-03-10T17:30:01.490Z"
   },
   {
    "duration": 5,
    "start_time": "2022-03-10T17:30:02.044Z"
   },
   {
    "duration": 26,
    "start_time": "2022-03-10T17:30:02.051Z"
   },
   {
    "duration": 464,
    "start_time": "2022-03-10T17:30:02.083Z"
   },
   {
    "duration": 4,
    "start_time": "2022-03-10T17:30:02.549Z"
   },
   {
    "duration": 33,
    "start_time": "2022-03-10T17:30:02.554Z"
   },
   {
    "duration": 11,
    "start_time": "2022-03-10T17:30:02.589Z"
   },
   {
    "duration": 14,
    "start_time": "2022-03-10T17:30:02.602Z"
   },
   {
    "duration": 20,
    "start_time": "2022-03-10T17:30:02.618Z"
   },
   {
    "duration": 18,
    "start_time": "2022-03-10T17:30:02.640Z"
   },
   {
    "duration": 23,
    "start_time": "2022-03-10T17:30:02.660Z"
   },
   {
    "duration": 24,
    "start_time": "2022-03-10T17:30:02.685Z"
   },
   {
    "duration": 15,
    "start_time": "2022-03-10T17:30:02.711Z"
   },
   {
    "duration": 12,
    "start_time": "2022-03-10T17:30:02.728Z"
   },
   {
    "duration": 26,
    "start_time": "2022-03-10T17:30:02.741Z"
   },
   {
    "duration": 32,
    "start_time": "2022-03-10T17:30:02.768Z"
   },
   {
    "duration": 30,
    "start_time": "2022-03-10T17:30:02.803Z"
   },
   {
    "duration": 7,
    "start_time": "2022-03-10T17:30:02.835Z"
   },
   {
    "duration": 45,
    "start_time": "2022-03-10T17:30:02.844Z"
   },
   {
    "duration": 5,
    "start_time": "2022-03-10T17:30:02.890Z"
   },
   {
    "duration": 23,
    "start_time": "2022-03-10T17:30:02.897Z"
   },
   {
    "duration": 27,
    "start_time": "2022-03-10T17:30:02.921Z"
   },
   {
    "duration": 31,
    "start_time": "2022-03-10T17:30:02.950Z"
   },
   {
    "duration": 216,
    "start_time": "2022-03-10T17:30:02.982Z"
   },
   {
    "duration": 203,
    "start_time": "2022-03-10T17:30:03.200Z"
   },
   {
    "duration": 231,
    "start_time": "2022-03-10T17:30:03.405Z"
   },
   {
    "duration": 12,
    "start_time": "2022-03-10T17:30:03.638Z"
   },
   {
    "duration": 6,
    "start_time": "2022-03-10T17:30:03.652Z"
   },
   {
    "duration": 28,
    "start_time": "2022-03-10T17:30:03.662Z"
   },
   {
    "duration": 14,
    "start_time": "2022-03-10T17:30:03.692Z"
   },
   {
    "duration": 9,
    "start_time": "2022-03-10T17:53:34.871Z"
   },
   {
    "duration": 6506,
    "start_time": "2022-03-10T17:57:13.473Z"
   },
   {
    "duration": 24,
    "start_time": "2022-03-10T17:57:39.898Z"
   },
   {
    "duration": 10,
    "start_time": "2022-03-10T17:57:45.268Z"
   },
   {
    "duration": 10,
    "start_time": "2022-03-10T17:58:07.475Z"
   },
   {
    "duration": 263,
    "start_time": "2022-03-10T18:01:47.481Z"
   },
   {
    "duration": 13,
    "start_time": "2022-03-10T18:03:10.040Z"
   },
   {
    "duration": 17,
    "start_time": "2022-03-10T18:03:21.080Z"
   },
   {
    "duration": 10,
    "start_time": "2022-03-10T18:07:13.434Z"
   },
   {
    "duration": 292,
    "start_time": "2022-03-10T18:14:26.993Z"
   },
   {
    "duration": 259,
    "start_time": "2022-03-10T18:14:31.557Z"
   },
   {
    "duration": 6,
    "start_time": "2022-03-10T18:17:05.308Z"
   },
   {
    "duration": 10,
    "start_time": "2022-03-10T18:17:19.576Z"
   },
   {
    "duration": 262,
    "start_time": "2022-03-10T18:18:18.544Z"
   },
   {
    "duration": 9,
    "start_time": "2022-03-10T18:18:28.660Z"
   },
   {
    "duration": 10,
    "start_time": "2022-03-10T18:18:56.297Z"
   },
   {
    "duration": 23,
    "start_time": "2022-03-10T18:18:58.248Z"
   },
   {
    "duration": 23,
    "start_time": "2022-03-10T18:19:05.381Z"
   },
   {
    "duration": 22,
    "start_time": "2022-03-10T18:19:13.921Z"
   },
   {
    "duration": 22,
    "start_time": "2022-03-10T18:19:22.755Z"
   },
   {
    "duration": 15,
    "start_time": "2022-03-10T18:19:24.718Z"
   },
   {
    "duration": 25,
    "start_time": "2022-03-10T18:20:24.083Z"
   },
   {
    "duration": 22,
    "start_time": "2022-03-10T18:21:11.272Z"
   },
   {
    "duration": 262,
    "start_time": "2022-03-10T18:22:17.255Z"
   },
   {
    "duration": 11,
    "start_time": "2022-03-10T18:22:44.216Z"
   },
   {
    "duration": 1179,
    "start_time": "2022-03-10T18:22:59.473Z"
   },
   {
    "duration": 136,
    "start_time": "2022-03-10T18:23:00.654Z"
   },
   {
    "duration": 3,
    "start_time": "2022-03-10T18:23:00.793Z"
   },
   {
    "duration": 38,
    "start_time": "2022-03-10T18:23:00.798Z"
   },
   {
    "duration": 45,
    "start_time": "2022-03-10T18:23:00.838Z"
   },
   {
    "duration": 23,
    "start_time": "2022-03-10T18:23:00.885Z"
   },
   {
    "duration": 31,
    "start_time": "2022-03-10T18:23:00.910Z"
   },
   {
    "duration": 3,
    "start_time": "2022-03-10T18:23:00.944Z"
   },
   {
    "duration": 20,
    "start_time": "2022-03-10T18:23:00.950Z"
   },
   {
    "duration": 11,
    "start_time": "2022-03-10T18:23:00.977Z"
   },
   {
    "duration": 14,
    "start_time": "2022-03-10T18:23:00.990Z"
   },
   {
    "duration": 22,
    "start_time": "2022-03-10T18:23:01.007Z"
   },
   {
    "duration": 7,
    "start_time": "2022-03-10T18:23:01.032Z"
   },
   {
    "duration": 7,
    "start_time": "2022-03-10T18:23:01.041Z"
   },
   {
    "duration": 13,
    "start_time": "2022-03-10T18:23:01.050Z"
   },
   {
    "duration": 21,
    "start_time": "2022-03-10T18:23:01.077Z"
   },
   {
    "duration": 7,
    "start_time": "2022-03-10T18:23:01.101Z"
   },
   {
    "duration": 27,
    "start_time": "2022-03-10T18:23:01.110Z"
   },
   {
    "duration": 17,
    "start_time": "2022-03-10T18:23:01.139Z"
   },
   {
    "duration": 11,
    "start_time": "2022-03-10T18:23:01.158Z"
   },
   {
    "duration": 9,
    "start_time": "2022-03-10T18:23:01.170Z"
   },
   {
    "duration": 33,
    "start_time": "2022-03-10T18:23:01.181Z"
   },
   {
    "duration": 5,
    "start_time": "2022-03-10T18:23:01.219Z"
   },
   {
    "duration": 12,
    "start_time": "2022-03-10T18:23:01.227Z"
   },
   {
    "duration": 16,
    "start_time": "2022-03-10T18:23:01.241Z"
   },
   {
    "duration": 8,
    "start_time": "2022-03-10T18:23:01.259Z"
   },
   {
    "duration": 8,
    "start_time": "2022-03-10T18:23:01.277Z"
   },
   {
    "duration": 18,
    "start_time": "2022-03-10T18:23:01.287Z"
   },
   {
    "duration": 48,
    "start_time": "2022-03-10T18:23:01.307Z"
   },
   {
    "duration": 33,
    "start_time": "2022-03-10T18:23:01.357Z"
   },
   {
    "duration": 40,
    "start_time": "2022-03-10T18:23:01.392Z"
   },
   {
    "duration": 34,
    "start_time": "2022-03-10T18:23:01.434Z"
   },
   {
    "duration": 37,
    "start_time": "2022-03-10T18:23:01.470Z"
   },
   {
    "duration": 17,
    "start_time": "2022-03-10T18:23:01.508Z"
   },
   {
    "duration": 45,
    "start_time": "2022-03-10T18:23:01.527Z"
   },
   {
    "duration": 458,
    "start_time": "2022-03-10T18:23:01.575Z"
   },
   {
    "duration": 25,
    "start_time": "2022-03-10T18:23:02.035Z"
   },
   {
    "duration": 25,
    "start_time": "2022-03-10T18:23:02.061Z"
   },
   {
    "duration": 26,
    "start_time": "2022-03-10T18:23:02.088Z"
   },
   {
    "duration": 33,
    "start_time": "2022-03-10T18:23:02.116Z"
   },
   {
    "duration": 19,
    "start_time": "2022-03-10T18:23:02.150Z"
   },
   {
    "duration": 16,
    "start_time": "2022-03-10T18:23:02.170Z"
   },
   {
    "duration": 26,
    "start_time": "2022-03-10T18:23:02.188Z"
   },
   {
    "duration": 25,
    "start_time": "2022-03-10T18:23:02.216Z"
   },
   {
    "duration": 365,
    "start_time": "2022-03-10T18:23:02.242Z"
   },
   {
    "duration": -244,
    "start_time": "2022-03-10T18:23:02.854Z"
   },
   {
    "duration": -250,
    "start_time": "2022-03-10T18:23:02.860Z"
   },
   {
    "duration": -256,
    "start_time": "2022-03-10T18:23:02.867Z"
   },
   {
    "duration": -261,
    "start_time": "2022-03-10T18:23:02.873Z"
   },
   {
    "duration": -267,
    "start_time": "2022-03-10T18:23:02.880Z"
   },
   {
    "duration": -272,
    "start_time": "2022-03-10T18:23:02.886Z"
   },
   {
    "duration": -277,
    "start_time": "2022-03-10T18:23:02.892Z"
   },
   {
    "duration": -282,
    "start_time": "2022-03-10T18:23:02.898Z"
   },
   {
    "duration": -288,
    "start_time": "2022-03-10T18:23:02.905Z"
   },
   {
    "duration": -294,
    "start_time": "2022-03-10T18:23:02.912Z"
   },
   {
    "duration": -300,
    "start_time": "2022-03-10T18:23:02.919Z"
   },
   {
    "duration": -306,
    "start_time": "2022-03-10T18:23:02.926Z"
   },
   {
    "duration": -311,
    "start_time": "2022-03-10T18:23:02.932Z"
   },
   {
    "duration": -316,
    "start_time": "2022-03-10T18:23:02.938Z"
   },
   {
    "duration": -322,
    "start_time": "2022-03-10T18:23:02.945Z"
   },
   {
    "duration": -338,
    "start_time": "2022-03-10T18:23:02.962Z"
   },
   {
    "duration": -345,
    "start_time": "2022-03-10T18:23:02.970Z"
   },
   {
    "duration": -350,
    "start_time": "2022-03-10T18:23:02.976Z"
   },
   {
    "duration": -357,
    "start_time": "2022-03-10T18:23:02.984Z"
   },
   {
    "duration": -363,
    "start_time": "2022-03-10T18:23:02.991Z"
   },
   {
    "duration": -370,
    "start_time": "2022-03-10T18:23:02.999Z"
   },
   {
    "duration": -376,
    "start_time": "2022-03-10T18:23:03.006Z"
   },
   {
    "duration": -382,
    "start_time": "2022-03-10T18:23:03.013Z"
   },
   {
    "duration": -417,
    "start_time": "2022-03-10T18:23:03.049Z"
   },
   {
    "duration": -423,
    "start_time": "2022-03-10T18:23:03.056Z"
   },
   {
    "duration": -440,
    "start_time": "2022-03-10T18:23:03.074Z"
   },
   {
    "duration": -447,
    "start_time": "2022-03-10T18:23:03.082Z"
   },
   {
    "duration": -452,
    "start_time": "2022-03-10T18:23:03.088Z"
   },
   {
    "duration": -457,
    "start_time": "2022-03-10T18:23:03.095Z"
   },
   {
    "duration": -463,
    "start_time": "2022-03-10T18:23:03.102Z"
   },
   {
    "duration": -467,
    "start_time": "2022-03-10T18:23:03.109Z"
   },
   {
    "duration": -473,
    "start_time": "2022-03-10T18:23:03.116Z"
   },
   {
    "duration": -479,
    "start_time": "2022-03-10T18:23:03.123Z"
   },
   {
    "duration": -453,
    "start_time": "2022-03-10T18:23:03.130Z"
   },
   {
    "duration": -458,
    "start_time": "2022-03-10T18:23:03.137Z"
   },
   {
    "duration": -463,
    "start_time": "2022-03-10T18:23:03.143Z"
   },
   {
    "duration": -468,
    "start_time": "2022-03-10T18:23:03.149Z"
   },
   {
    "duration": -473,
    "start_time": "2022-03-10T18:23:03.155Z"
   },
   {
    "duration": -479,
    "start_time": "2022-03-10T18:23:03.162Z"
   },
   {
    "duration": -483,
    "start_time": "2022-03-10T18:23:03.167Z"
   },
   {
    "duration": -500,
    "start_time": "2022-03-10T18:23:03.186Z"
   },
   {
    "duration": -506,
    "start_time": "2022-03-10T18:23:03.193Z"
   },
   {
    "duration": -511,
    "start_time": "2022-03-10T18:23:03.199Z"
   },
   {
    "duration": -517,
    "start_time": "2022-03-10T18:23:03.206Z"
   },
   {
    "duration": -522,
    "start_time": "2022-03-10T18:23:03.212Z"
   },
   {
    "duration": -527,
    "start_time": "2022-03-10T18:23:03.218Z"
   },
   {
    "duration": -531,
    "start_time": "2022-03-10T18:23:03.224Z"
   },
   {
    "duration": -536,
    "start_time": "2022-03-10T18:23:03.230Z"
   },
   {
    "duration": -542,
    "start_time": "2022-03-10T18:23:03.237Z"
   },
   {
    "duration": -547,
    "start_time": "2022-03-10T18:23:03.243Z"
   },
   {
    "duration": -552,
    "start_time": "2022-03-10T18:23:03.249Z"
   },
   {
    "duration": 24,
    "start_time": "2022-03-10T18:23:54.118Z"
   },
   {
    "duration": 24,
    "start_time": "2022-03-10T18:24:25.529Z"
   },
   {
    "duration": 23,
    "start_time": "2022-03-10T18:24:27.854Z"
   },
   {
    "duration": 262,
    "start_time": "2022-03-10T18:24:35.588Z"
   },
   {
    "duration": 23,
    "start_time": "2022-03-10T18:25:02.408Z"
   },
   {
    "duration": 23,
    "start_time": "2022-03-10T18:25:07.740Z"
   },
   {
    "duration": 295,
    "start_time": "2022-03-10T18:27:18.926Z"
   },
   {
    "duration": 23,
    "start_time": "2022-03-10T18:27:26.379Z"
   },
   {
    "duration": 22,
    "start_time": "2022-03-10T18:27:44.386Z"
   },
   {
    "duration": 22,
    "start_time": "2022-03-10T18:27:54.075Z"
   },
   {
    "duration": 23,
    "start_time": "2022-03-10T18:28:00.192Z"
   },
   {
    "duration": 18,
    "start_time": "2022-03-10T18:28:32.405Z"
   },
   {
    "duration": 22,
    "start_time": "2022-03-10T18:29:01.721Z"
   },
   {
    "duration": 16,
    "start_time": "2022-03-10T18:29:18.625Z"
   },
   {
    "duration": 15,
    "start_time": "2022-03-10T18:30:25.574Z"
   },
   {
    "duration": 15,
    "start_time": "2022-03-10T18:30:58.555Z"
   },
   {
    "duration": 23,
    "start_time": "2022-03-10T18:30:59.963Z"
   },
   {
    "duration": 5,
    "start_time": "2022-03-10T18:31:08.796Z"
   },
   {
    "duration": 14,
    "start_time": "2022-03-10T18:31:14.945Z"
   },
   {
    "duration": 351,
    "start_time": "2022-03-10T18:31:15.837Z"
   },
   {
    "duration": 370,
    "start_time": "2022-03-10T18:31:29.184Z"
   },
   {
    "duration": 355,
    "start_time": "2022-03-10T18:31:36.380Z"
   },
   {
    "duration": 367,
    "start_time": "2022-03-10T18:31:47.566Z"
   },
   {
    "duration": 18,
    "start_time": "2022-03-10T18:33:19.855Z"
   },
   {
    "duration": 22,
    "start_time": "2022-03-10T18:33:46.671Z"
   },
   {
    "duration": 646,
    "start_time": "2022-03-10T18:34:05.081Z"
   },
   {
    "duration": 6,
    "start_time": "2022-03-10T18:34:31.626Z"
   },
   {
    "duration": 761,
    "start_time": "2022-03-10T18:36:47.700Z"
   },
   {
    "duration": 14,
    "start_time": "2022-03-10T18:37:13.617Z"
   },
   {
    "duration": 580,
    "start_time": "2022-03-10T18:37:13.633Z"
   },
   {
    "duration": 5,
    "start_time": "2022-03-10T18:37:51.032Z"
   },
   {
    "duration": 13,
    "start_time": "2022-03-10T18:39:30.132Z"
   },
   {
    "duration": 562,
    "start_time": "2022-03-10T18:39:31.158Z"
   },
   {
    "duration": 270,
    "start_time": "2022-03-10T18:39:31.954Z"
   },
   {
    "duration": 5,
    "start_time": "2022-03-10T18:39:58.227Z"
   },
   {
    "duration": 632,
    "start_time": "2022-03-10T18:42:28.489Z"
   },
   {
    "duration": 13,
    "start_time": "2022-03-10T18:42:31.585Z"
   },
   {
    "duration": 584,
    "start_time": "2022-03-10T18:42:32.244Z"
   },
   {
    "duration": 6,
    "start_time": "2022-03-10T18:43:14.671Z"
   },
   {
    "duration": 103,
    "start_time": "2022-03-10T18:44:10.827Z"
   },
   {
    "duration": 15,
    "start_time": "2022-03-10T18:45:44.157Z"
   },
   {
    "duration": 600,
    "start_time": "2022-03-10T18:45:45.244Z"
   },
   {
    "duration": 6,
    "start_time": "2022-03-10T18:46:11.186Z"
   },
   {
    "duration": 13,
    "start_time": "2022-03-10T18:47:59.424Z"
   },
   {
    "duration": 552,
    "start_time": "2022-03-10T18:48:25.333Z"
   },
   {
    "duration": 6,
    "start_time": "2022-03-10T18:48:59.226Z"
   },
   {
    "duration": 16,
    "start_time": "2022-03-10T18:49:54.228Z"
   },
   {
    "duration": 11,
    "start_time": "2022-03-10T18:50:09.753Z"
   },
   {
    "duration": 10,
    "start_time": "2022-03-10T18:50:11.445Z"
   },
   {
    "duration": 12,
    "start_time": "2022-03-10T18:50:40.617Z"
   },
   {
    "duration": 11,
    "start_time": "2022-03-10T18:52:24.194Z"
   },
   {
    "duration": 10,
    "start_time": "2022-03-10T18:52:25.329Z"
   },
   {
    "duration": 88,
    "start_time": "2022-03-10T18:52:32.883Z"
   },
   {
    "duration": 12,
    "start_time": "2022-03-10T18:53:53.403Z"
   },
   {
    "duration": 9,
    "start_time": "2022-03-10T18:53:54.154Z"
   },
   {
    "duration": 11,
    "start_time": "2022-03-10T18:53:57.842Z"
   },
   {
    "duration": 24,
    "start_time": "2022-03-10T18:57:00.127Z"
   },
   {
    "duration": 24,
    "start_time": "2022-03-10T18:57:01.794Z"
   },
   {
    "duration": 5,
    "start_time": "2022-03-10T18:57:06.185Z"
   },
   {
    "duration": 5,
    "start_time": "2022-03-10T18:58:44.848Z"
   },
   {
    "duration": 18,
    "start_time": "2022-03-10T18:58:46.031Z"
   },
   {
    "duration": 17,
    "start_time": "2022-03-10T18:58:55.338Z"
   },
   {
    "duration": 26,
    "start_time": "2022-03-10T18:59:30.883Z"
   },
   {
    "duration": 18,
    "start_time": "2022-03-10T18:59:32.819Z"
   },
   {
    "duration": 88,
    "start_time": "2022-03-10T19:00:21.021Z"
   },
   {
    "duration": 18,
    "start_time": "2022-03-10T19:00:27.531Z"
   },
   {
    "duration": 17,
    "start_time": "2022-03-10T19:00:32.479Z"
   },
   {
    "duration": 18,
    "start_time": "2022-03-10T19:00:34.045Z"
   },
   {
    "duration": 18,
    "start_time": "2022-03-10T19:01:42.867Z"
   },
   {
    "duration": 19,
    "start_time": "2022-03-10T19:01:50.087Z"
   },
   {
    "duration": 199,
    "start_time": "2022-03-10T19:01:59.886Z"
   },
   {
    "duration": 183,
    "start_time": "2022-03-10T19:02:58.987Z"
   },
   {
    "duration": 259,
    "start_time": "2022-03-10T19:03:16.058Z"
   },
   {
    "duration": 195,
    "start_time": "2022-03-10T19:03:29.056Z"
   },
   {
    "duration": 187,
    "start_time": "2022-03-10T19:03:38.516Z"
   },
   {
    "duration": 189,
    "start_time": "2022-03-10T19:04:30.063Z"
   },
   {
    "duration": 82,
    "start_time": "2022-03-10T19:06:48.654Z"
   },
   {
    "duration": 12,
    "start_time": "2022-03-10T19:07:03.601Z"
   },
   {
    "duration": 6,
    "start_time": "2022-03-10T19:07:04.490Z"
   },
   {
    "duration": 9,
    "start_time": "2022-03-10T19:07:15.776Z"
   },
   {
    "duration": 5,
    "start_time": "2022-03-10T19:07:16.745Z"
   },
   {
    "duration": 9,
    "start_time": "2022-03-10T19:09:04.045Z"
   },
   {
    "duration": 5,
    "start_time": "2022-03-10T19:09:05.046Z"
   },
   {
    "duration": 1089,
    "start_time": "2022-03-12T12:25:30.949Z"
   },
   {
    "duration": 151,
    "start_time": "2022-03-12T12:25:32.039Z"
   },
   {
    "duration": 3,
    "start_time": "2022-03-12T12:25:32.192Z"
   },
   {
    "duration": 4,
    "start_time": "2022-03-12T12:25:32.196Z"
   },
   {
    "duration": 15,
    "start_time": "2022-03-12T12:25:32.202Z"
   },
   {
    "duration": 8,
    "start_time": "2022-03-12T12:25:32.219Z"
   },
   {
    "duration": 14,
    "start_time": "2022-03-12T12:25:32.229Z"
   },
   {
    "duration": 3,
    "start_time": "2022-03-12T12:25:32.246Z"
   },
   {
    "duration": 12,
    "start_time": "2022-03-12T12:25:32.251Z"
   },
   {
    "duration": 36,
    "start_time": "2022-03-12T12:25:32.265Z"
   },
   {
    "duration": 5,
    "start_time": "2022-03-12T12:25:32.302Z"
   },
   {
    "duration": 7,
    "start_time": "2022-03-12T12:25:32.308Z"
   },
   {
    "duration": 5,
    "start_time": "2022-03-12T12:25:32.316Z"
   },
   {
    "duration": 6,
    "start_time": "2022-03-12T12:25:32.322Z"
   },
   {
    "duration": 11,
    "start_time": "2022-03-12T12:25:32.330Z"
   },
   {
    "duration": 16,
    "start_time": "2022-03-12T12:25:32.342Z"
   },
   {
    "duration": 7,
    "start_time": "2022-03-12T12:25:32.359Z"
   },
   {
    "duration": 8,
    "start_time": "2022-03-12T12:25:32.401Z"
   },
   {
    "duration": 5,
    "start_time": "2022-03-12T12:25:32.410Z"
   },
   {
    "duration": 5,
    "start_time": "2022-03-12T12:25:32.417Z"
   },
   {
    "duration": 5,
    "start_time": "2022-03-12T12:25:32.423Z"
   },
   {
    "duration": 16,
    "start_time": "2022-03-12T12:25:32.429Z"
   },
   {
    "duration": 3,
    "start_time": "2022-03-12T12:25:32.449Z"
   },
   {
    "duration": 9,
    "start_time": "2022-03-12T12:25:32.454Z"
   },
   {
    "duration": 15,
    "start_time": "2022-03-12T12:25:32.464Z"
   },
   {
    "duration": 24,
    "start_time": "2022-03-12T12:25:32.480Z"
   },
   {
    "duration": 7,
    "start_time": "2022-03-12T12:25:32.506Z"
   },
   {
    "duration": 7,
    "start_time": "2022-03-12T12:25:32.514Z"
   },
   {
    "duration": 13,
    "start_time": "2022-03-12T12:25:32.523Z"
   },
   {
    "duration": 4,
    "start_time": "2022-03-12T12:25:32.538Z"
   },
   {
    "duration": 8,
    "start_time": "2022-03-12T12:25:32.544Z"
   },
   {
    "duration": 14,
    "start_time": "2022-03-12T12:25:32.554Z"
   },
   {
    "duration": 5,
    "start_time": "2022-03-12T12:25:32.569Z"
   },
   {
    "duration": 30,
    "start_time": "2022-03-12T12:25:32.575Z"
   },
   {
    "duration": 20,
    "start_time": "2022-03-12T12:25:32.606Z"
   },
   {
    "duration": 358,
    "start_time": "2022-03-12T12:25:32.627Z"
   },
   {
    "duration": 24,
    "start_time": "2022-03-12T12:25:32.987Z"
   },
   {
    "duration": 8,
    "start_time": "2022-03-12T12:25:33.012Z"
   },
   {
    "duration": 5,
    "start_time": "2022-03-12T12:25:33.021Z"
   },
   {
    "duration": 15,
    "start_time": "2022-03-12T12:25:33.027Z"
   },
   {
    "duration": 8,
    "start_time": "2022-03-12T12:25:33.043Z"
   },
   {
    "duration": 7,
    "start_time": "2022-03-12T12:25:33.053Z"
   },
   {
    "duration": 51,
    "start_time": "2022-03-12T12:25:33.062Z"
   },
   {
    "duration": 20,
    "start_time": "2022-03-12T12:25:33.115Z"
   },
   {
    "duration": 13,
    "start_time": "2022-03-12T12:25:33.136Z"
   },
   {
    "duration": 19,
    "start_time": "2022-03-12T12:25:33.151Z"
   },
   {
    "duration": 31,
    "start_time": "2022-03-12T12:25:33.172Z"
   },
   {
    "duration": 11,
    "start_time": "2022-03-12T12:25:33.205Z"
   },
   {
    "duration": 305,
    "start_time": "2022-03-12T12:25:33.218Z"
   },
   {
    "duration": 20,
    "start_time": "2022-03-12T12:25:33.525Z"
   },
   {
    "duration": 504,
    "start_time": "2022-03-12T12:25:33.547Z"
   },
   {
    "duration": 5,
    "start_time": "2022-03-12T12:25:34.053Z"
   },
   {
    "duration": 13,
    "start_time": "2022-03-12T12:25:34.060Z"
   },
   {
    "duration": 505,
    "start_time": "2022-03-12T12:25:34.075Z"
   },
   {
    "duration": 4,
    "start_time": "2022-03-12T12:25:34.582Z"
   },
   {
    "duration": 23,
    "start_time": "2022-03-12T12:25:34.588Z"
   },
   {
    "duration": 478,
    "start_time": "2022-03-12T12:25:34.613Z"
   },
   {
    "duration": 4,
    "start_time": "2022-03-12T12:25:35.101Z"
   },
   {
    "duration": 15,
    "start_time": "2022-03-12T12:25:35.107Z"
   },
   {
    "duration": 560,
    "start_time": "2022-03-12T12:25:35.123Z"
   },
   {
    "duration": 4,
    "start_time": "2022-03-12T12:25:35.685Z"
   },
   {
    "duration": 23,
    "start_time": "2022-03-12T12:25:35.690Z"
   },
   {
    "duration": 453,
    "start_time": "2022-03-12T12:25:35.714Z"
   },
   {
    "duration": 6,
    "start_time": "2022-03-12T12:25:36.169Z"
   },
   {
    "duration": 11,
    "start_time": "2022-03-12T12:25:36.176Z"
   },
   {
    "duration": 470,
    "start_time": "2022-03-12T12:25:36.201Z"
   },
   {
    "duration": 4,
    "start_time": "2022-03-12T12:25:36.672Z"
   },
   {
    "duration": 25,
    "start_time": "2022-03-12T12:25:36.681Z"
   },
   {
    "duration": 10,
    "start_time": "2022-03-12T12:25:36.708Z"
   },
   {
    "duration": 8,
    "start_time": "2022-03-12T12:25:36.719Z"
   },
   {
    "duration": 10,
    "start_time": "2022-03-12T12:25:36.729Z"
   },
   {
    "duration": 10,
    "start_time": "2022-03-12T12:25:36.741Z"
   },
   {
    "duration": 7,
    "start_time": "2022-03-12T12:25:36.753Z"
   },
   {
    "duration": 42,
    "start_time": "2022-03-12T12:25:36.762Z"
   },
   {
    "duration": 10,
    "start_time": "2022-03-12T12:25:36.806Z"
   },
   {
    "duration": 9,
    "start_time": "2022-03-12T12:25:36.817Z"
   },
   {
    "duration": 11,
    "start_time": "2022-03-12T12:25:36.828Z"
   },
   {
    "duration": 383,
    "start_time": "2022-03-12T12:25:36.840Z"
   },
   {
    "duration": -4249,
    "start_time": "2022-03-12T12:25:41.474Z"
   },
   {
    "duration": -4258,
    "start_time": "2022-03-12T12:25:41.484Z"
   },
   {
    "duration": -4269,
    "start_time": "2022-03-12T12:25:41.496Z"
   },
   {
    "duration": -4305,
    "start_time": "2022-03-12T12:25:41.533Z"
   },
   {
    "duration": -4312,
    "start_time": "2022-03-12T12:25:41.542Z"
   },
   {
    "duration": -4319,
    "start_time": "2022-03-12T12:25:41.550Z"
   },
   {
    "duration": -4324,
    "start_time": "2022-03-12T12:25:41.556Z"
   },
   {
    "duration": -4332,
    "start_time": "2022-03-12T12:25:41.565Z"
   },
   {
    "duration": -4341,
    "start_time": "2022-03-12T12:25:41.575Z"
   },
   {
    "duration": -4349,
    "start_time": "2022-03-12T12:25:41.584Z"
   },
   {
    "duration": 323,
    "start_time": "2022-03-12T12:29:53.128Z"
   },
   {
    "duration": 20,
    "start_time": "2022-03-12T12:31:48.710Z"
   },
   {
    "duration": 19,
    "start_time": "2022-03-12T12:31:53.387Z"
   },
   {
    "duration": 15,
    "start_time": "2022-03-12T12:31:54.934Z"
   },
   {
    "duration": 18,
    "start_time": "2022-03-12T12:31:56.587Z"
   },
   {
    "duration": 4,
    "start_time": "2022-03-12T12:31:58.088Z"
   },
   {
    "duration": 11,
    "start_time": "2022-03-12T12:31:59.634Z"
   },
   {
    "duration": 286,
    "start_time": "2022-03-12T12:32:00.416Z"
   },
   {
    "duration": 4,
    "start_time": "2022-03-12T12:32:17.762Z"
   },
   {
    "duration": 11,
    "start_time": "2022-03-12T12:32:19.844Z"
   },
   {
    "duration": 4,
    "start_time": "2022-03-12T12:32:52.388Z"
   },
   {
    "duration": 5,
    "start_time": "2022-03-12T12:33:00.444Z"
   },
   {
    "duration": 11,
    "start_time": "2022-03-12T12:33:02.049Z"
   },
   {
    "duration": 282,
    "start_time": "2022-03-12T12:33:02.880Z"
   },
   {
    "duration": 20,
    "start_time": "2022-03-12T12:33:04.210Z"
   },
   {
    "duration": 424,
    "start_time": "2022-03-12T12:33:04.431Z"
   },
   {
    "duration": 4,
    "start_time": "2022-03-12T12:33:04.857Z"
   },
   {
    "duration": 11,
    "start_time": "2022-03-12T12:33:05.606Z"
   },
   {
    "duration": 444,
    "start_time": "2022-03-12T12:33:06.247Z"
   },
   {
    "duration": 5,
    "start_time": "2022-03-12T12:33:07.182Z"
   },
   {
    "duration": 4,
    "start_time": "2022-03-12T12:33:35.737Z"
   },
   {
    "duration": 9,
    "start_time": "2022-03-12T12:34:07.287Z"
   },
   {
    "duration": 19,
    "start_time": "2022-03-12T12:34:12.142Z"
   },
   {
    "duration": 19,
    "start_time": "2022-03-12T12:34:13.848Z"
   },
   {
    "duration": 13,
    "start_time": "2022-03-12T12:34:17.332Z"
   },
   {
    "duration": 18,
    "start_time": "2022-03-12T12:34:37.581Z"
   },
   {
    "duration": 19,
    "start_time": "2022-03-12T12:34:40.148Z"
   },
   {
    "duration": 18,
    "start_time": "2022-03-12T12:34:41.617Z"
   },
   {
    "duration": 5,
    "start_time": "2022-03-12T12:34:42.532Z"
   },
   {
    "duration": 4,
    "start_time": "2022-03-12T12:34:43.254Z"
   },
   {
    "duration": 4,
    "start_time": "2022-03-12T12:34:52.600Z"
   },
   {
    "duration": 14,
    "start_time": "2022-03-12T12:34:53.828Z"
   },
   {
    "duration": 296,
    "start_time": "2022-03-12T12:34:54.519Z"
   },
   {
    "duration": 17,
    "start_time": "2022-03-12T12:34:58.621Z"
   },
   {
    "duration": 525,
    "start_time": "2022-03-12T12:35:01.081Z"
   },
   {
    "duration": 4,
    "start_time": "2022-03-12T12:35:01.626Z"
   },
   {
    "duration": 6,
    "start_time": "2022-03-12T12:35:02.789Z"
   },
   {
    "duration": 325,
    "start_time": "2022-03-12T12:35:03.413Z"
   },
   {
    "duration": 4,
    "start_time": "2022-03-12T12:35:04.068Z"
   },
   {
    "duration": 11,
    "start_time": "2022-03-12T12:35:34.271Z"
   },
   {
    "duration": 501,
    "start_time": "2022-03-12T12:35:35.048Z"
   },
   {
    "duration": 6,
    "start_time": "2022-03-12T12:35:35.552Z"
   },
   {
    "duration": 11,
    "start_time": "2022-03-12T12:35:35.975Z"
   },
   {
    "duration": 488,
    "start_time": "2022-03-12T12:35:36.197Z"
   },
   {
    "duration": 4,
    "start_time": "2022-03-12T12:35:36.687Z"
   },
   {
    "duration": 11,
    "start_time": "2022-03-12T12:35:36.824Z"
   },
   {
    "duration": 456,
    "start_time": "2022-03-12T12:35:37.040Z"
   },
   {
    "duration": 5,
    "start_time": "2022-03-12T12:35:37.498Z"
   },
   {
    "duration": 11,
    "start_time": "2022-03-12T12:35:37.716Z"
   },
   {
    "duration": 440,
    "start_time": "2022-03-12T12:35:37.952Z"
   },
   {
    "duration": 8,
    "start_time": "2022-03-12T12:35:38.403Z"
   },
   {
    "duration": 13,
    "start_time": "2022-03-12T12:35:40.374Z"
   },
   {
    "duration": 10,
    "start_time": "2022-03-12T12:36:28.277Z"
   },
   {
    "duration": 8,
    "start_time": "2022-03-12T12:36:29.296Z"
   },
   {
    "duration": 9,
    "start_time": "2022-03-12T12:36:31.195Z"
   },
   {
    "duration": 10,
    "start_time": "2022-03-12T12:36:33.280Z"
   },
   {
    "duration": 9,
    "start_time": "2022-03-12T12:36:34.143Z"
   },
   {
    "duration": 11,
    "start_time": "2022-03-12T12:36:34.893Z"
   },
   {
    "duration": 10,
    "start_time": "2022-03-12T12:36:36.345Z"
   },
   {
    "duration": 8,
    "start_time": "2022-03-12T12:36:37.049Z"
   },
   {
    "duration": 9,
    "start_time": "2022-03-12T12:36:37.784Z"
   },
   {
    "duration": 385,
    "start_time": "2022-03-12T12:36:41.655Z"
   },
   {
    "duration": 15,
    "start_time": "2022-03-12T12:36:49.698Z"
   },
   {
    "duration": 14,
    "start_time": "2022-03-12T12:36:58.146Z"
   },
   {
    "duration": 15,
    "start_time": "2022-03-12T12:37:09.153Z"
   },
   {
    "duration": 14,
    "start_time": "2022-03-12T12:37:56.092Z"
   },
   {
    "duration": 14,
    "start_time": "2022-03-12T12:38:13.588Z"
   },
   {
    "duration": 15,
    "start_time": "2022-03-12T12:38:32.711Z"
   },
   {
    "duration": 14,
    "start_time": "2022-03-12T12:38:38.275Z"
   },
   {
    "duration": 15,
    "start_time": "2022-03-12T12:38:42.072Z"
   },
   {
    "duration": 15,
    "start_time": "2022-03-12T12:39:09.734Z"
   },
   {
    "duration": 136,
    "start_time": "2022-03-12T12:39:13.926Z"
   },
   {
    "duration": 17,
    "start_time": "2022-03-12T12:40:32.212Z"
   },
   {
    "duration": 19,
    "start_time": "2022-03-12T12:41:05.330Z"
   },
   {
    "duration": 16,
    "start_time": "2022-03-12T12:41:09.488Z"
   },
   {
    "duration": 18,
    "start_time": "2022-03-12T12:41:10.520Z"
   },
   {
    "duration": 4,
    "start_time": "2022-03-12T12:41:10.898Z"
   },
   {
    "duration": 10,
    "start_time": "2022-03-12T12:41:11.278Z"
   },
   {
    "duration": 276,
    "start_time": "2022-03-12T12:41:11.469Z"
   },
   {
    "duration": 18,
    "start_time": "2022-03-12T12:41:12.302Z"
   },
   {
    "duration": 450,
    "start_time": "2022-03-12T12:41:12.514Z"
   },
   {
    "duration": 5,
    "start_time": "2022-03-12T12:41:12.965Z"
   },
   {
    "duration": 10,
    "start_time": "2022-03-12T12:41:13.298Z"
   },
   {
    "duration": 547,
    "start_time": "2022-03-12T12:41:13.504Z"
   },
   {
    "duration": 4,
    "start_time": "2022-03-12T12:41:14.053Z"
   },
   {
    "duration": 10,
    "start_time": "2022-03-12T12:41:14.169Z"
   },
   {
    "duration": 488,
    "start_time": "2022-03-12T12:41:14.401Z"
   },
   {
    "duration": 12,
    "start_time": "2022-03-12T12:41:14.891Z"
   },
   {
    "duration": 11,
    "start_time": "2022-03-12T12:41:15.036Z"
   },
   {
    "duration": 427,
    "start_time": "2022-03-12T12:41:15.230Z"
   },
   {
    "duration": 4,
    "start_time": "2022-03-12T12:41:15.659Z"
   },
   {
    "duration": 10,
    "start_time": "2022-03-12T12:41:15.860Z"
   },
   {
    "duration": 458,
    "start_time": "2022-03-12T12:41:16.062Z"
   },
   {
    "duration": 4,
    "start_time": "2022-03-12T12:41:16.522Z"
   },
   {
    "duration": 13,
    "start_time": "2022-03-12T12:41:17.212Z"
   },
   {
    "duration": 10,
    "start_time": "2022-03-12T12:41:18.428Z"
   },
   {
    "duration": 8,
    "start_time": "2022-03-12T12:41:18.674Z"
   },
   {
    "duration": 10,
    "start_time": "2022-03-12T12:41:18.896Z"
   },
   {
    "duration": 11,
    "start_time": "2022-03-12T12:41:19.469Z"
   },
   {
    "duration": 8,
    "start_time": "2022-03-12T12:41:19.682Z"
   },
   {
    "duration": 9,
    "start_time": "2022-03-12T12:41:19.903Z"
   },
   {
    "duration": 10,
    "start_time": "2022-03-12T12:41:20.328Z"
   },
   {
    "duration": 8,
    "start_time": "2022-03-12T12:41:20.550Z"
   },
   {
    "duration": 9,
    "start_time": "2022-03-12T12:41:20.788Z"
   },
   {
    "duration": 15,
    "start_time": "2022-03-12T12:41:22.335Z"
   },
   {
    "duration": 15,
    "start_time": "2022-03-12T12:41:23.118Z"
   },
   {
    "duration": 15,
    "start_time": "2022-03-12T12:41:23.780Z"
   },
   {
    "duration": 16,
    "start_time": "2022-03-12T12:41:24.726Z"
   },
   {
    "duration": 135,
    "start_time": "2022-03-12T12:41:25.465Z"
   },
   {
    "duration": 134,
    "start_time": "2022-03-12T12:41:27.790Z"
   },
   {
    "duration": 138,
    "start_time": "2022-03-12T12:41:28.416Z"
   },
   {
    "duration": 10,
    "start_time": "2022-03-12T12:41:33.377Z"
   },
   {
    "duration": 5,
    "start_time": "2022-03-12T12:41:33.632Z"
   },
   {
    "duration": 7,
    "start_time": "2022-03-12T12:41:35.251Z"
   },
   {
    "duration": 5,
    "start_time": "2022-03-12T12:41:35.477Z"
   },
   {
    "duration": 19,
    "start_time": "2022-03-12T12:48:48.930Z"
   },
   {
    "duration": 5,
    "start_time": "2022-03-12T12:48:54.284Z"
   },
   {
    "duration": 11,
    "start_time": "2022-03-12T12:48:54.650Z"
   },
   {
    "duration": 277,
    "start_time": "2022-03-12T12:48:54.839Z"
   },
   {
    "duration": 20,
    "start_time": "2022-03-12T12:48:55.378Z"
   },
   {
    "duration": 472,
    "start_time": "2022-03-12T12:48:55.582Z"
   },
   {
    "duration": 4,
    "start_time": "2022-03-12T12:48:56.056Z"
   },
   {
    "duration": 12,
    "start_time": "2022-03-12T12:48:56.348Z"
   },
   {
    "duration": 518,
    "start_time": "2022-03-12T12:48:56.564Z"
   },
   {
    "duration": 5,
    "start_time": "2022-03-12T12:48:57.333Z"
   },
   {
    "duration": 10,
    "start_time": "2022-03-12T12:48:57.726Z"
   },
   {
    "duration": 633,
    "start_time": "2022-03-12T12:48:57.916Z"
   },
   {
    "duration": 5,
    "start_time": "2022-03-12T12:48:58.551Z"
   },
   {
    "duration": 26,
    "start_time": "2022-03-12T12:48:58.559Z"
   },
   {
    "duration": 484,
    "start_time": "2022-03-12T12:48:58.685Z"
   },
   {
    "duration": 5,
    "start_time": "2022-03-12T12:48:59.171Z"
   },
   {
    "duration": 11,
    "start_time": "2022-03-12T12:48:59.244Z"
   },
   {
    "duration": 510,
    "start_time": "2022-03-12T12:48:59.452Z"
   },
   {
    "duration": 4,
    "start_time": "2022-03-12T12:48:59.964Z"
   },
   {
    "duration": 13,
    "start_time": "2022-03-12T12:49:00.456Z"
   },
   {
    "duration": 9,
    "start_time": "2022-03-12T12:49:01.391Z"
   },
   {
    "duration": 8,
    "start_time": "2022-03-12T12:49:01.614Z"
   },
   {
    "duration": 10,
    "start_time": "2022-03-12T12:49:01.896Z"
   },
   {
    "duration": 9,
    "start_time": "2022-03-12T12:49:07.134Z"
   },
   {
    "duration": 8,
    "start_time": "2022-03-12T12:49:07.368Z"
   },
   {
    "duration": 9,
    "start_time": "2022-03-12T12:49:07.603Z"
   },
   {
    "duration": 14,
    "start_time": "2022-03-12T12:49:08.116Z"
   },
   {
    "duration": 8,
    "start_time": "2022-03-12T12:49:08.576Z"
   },
   {
    "duration": 10,
    "start_time": "2022-03-12T12:49:09.061Z"
   },
   {
    "duration": 311,
    "start_time": "2022-03-12T12:52:45.657Z"
   },
   {
    "duration": 21,
    "start_time": "2022-03-12T12:53:03.295Z"
   },
   {
    "duration": 320,
    "start_time": "2022-03-12T12:53:34.896Z"
   },
   {
    "duration": 15,
    "start_time": "2022-03-12T12:54:03.519Z"
   },
   {
    "duration": 19,
    "start_time": "2022-03-12T12:54:43.498Z"
   },
   {
    "duration": 19,
    "start_time": "2022-03-12T12:55:11.945Z"
   },
   {
    "duration": 19,
    "start_time": "2022-03-12T12:55:32.483Z"
   },
   {
    "duration": 17,
    "start_time": "2022-03-12T12:55:36.520Z"
   },
   {
    "duration": 15,
    "start_time": "2022-03-12T12:55:58.675Z"
   },
   {
    "duration": 14,
    "start_time": "2022-03-12T12:56:27.877Z"
   },
   {
    "duration": 15,
    "start_time": "2022-03-12T12:56:30.682Z"
   },
   {
    "duration": 17,
    "start_time": "2022-03-12T12:57:24.518Z"
   },
   {
    "duration": 101,
    "start_time": "2022-03-12T12:58:33.753Z"
   },
   {
    "duration": 333,
    "start_time": "2022-03-12T12:58:38.980Z"
   },
   {
    "duration": 331,
    "start_time": "2022-03-12T12:59:19.832Z"
   },
   {
    "duration": 153,
    "start_time": "2022-03-12T13:00:02.808Z"
   },
   {
    "duration": 403,
    "start_time": "2022-03-12T13:00:09.448Z"
   },
   {
    "duration": 14,
    "start_time": "2022-03-12T13:00:23.515Z"
   },
   {
    "duration": 17,
    "start_time": "2022-03-12T13:01:00.376Z"
   },
   {
    "duration": 15,
    "start_time": "2022-03-12T13:06:02.425Z"
   },
   {
    "duration": 17,
    "start_time": "2022-03-12T13:06:31.937Z"
   },
   {
    "duration": 16,
    "start_time": "2022-03-12T13:06:48.007Z"
   },
   {
    "duration": 17,
    "start_time": "2022-03-12T13:07:02.171Z"
   },
   {
    "duration": 308,
    "start_time": "2022-03-12T13:09:01.834Z"
   },
   {
    "duration": 297,
    "start_time": "2022-03-12T13:09:26.361Z"
   },
   {
    "duration": 18,
    "start_time": "2022-03-12T13:09:37.992Z"
   },
   {
    "duration": 326,
    "start_time": "2022-03-12T13:10:10.448Z"
   },
   {
    "duration": 16,
    "start_time": "2022-03-12T13:10:21.447Z"
   },
   {
    "duration": 26,
    "start_time": "2022-03-12T13:11:55.091Z"
   },
   {
    "duration": 22,
    "start_time": "2022-03-12T13:12:08.594Z"
   },
   {
    "duration": 18,
    "start_time": "2022-03-12T13:12:20.361Z"
   },
   {
    "duration": 14,
    "start_time": "2022-03-12T13:12:34.903Z"
   },
   {
    "duration": 16,
    "start_time": "2022-03-12T13:13:03.612Z"
   },
   {
    "duration": 15,
    "start_time": "2022-03-12T13:13:16.690Z"
   },
   {
    "duration": 17,
    "start_time": "2022-03-12T13:14:30.764Z"
   },
   {
    "duration": 20,
    "start_time": "2022-03-12T13:15:49.172Z"
   },
   {
    "duration": 329,
    "start_time": "2022-03-12T13:16:47.278Z"
   },
   {
    "duration": 1367,
    "start_time": "2022-03-12T13:17:20.076Z"
   },
   {
    "duration": 14,
    "start_time": "2022-03-12T13:17:41.140Z"
   },
   {
    "duration": 323,
    "start_time": "2022-03-12T13:18:00.881Z"
   },
   {
    "duration": 12,
    "start_time": "2022-03-12T13:18:14.869Z"
   },
   {
    "duration": 15,
    "start_time": "2022-03-12T13:19:18.543Z"
   },
   {
    "duration": 16,
    "start_time": "2022-03-12T13:19:38.198Z"
   },
   {
    "duration": 21,
    "start_time": "2022-03-12T13:20:05.226Z"
   },
   {
    "duration": 839,
    "start_time": "2022-03-12T13:21:17.932Z"
   },
   {
    "duration": 23,
    "start_time": "2022-03-12T13:21:33.606Z"
   },
   {
    "duration": 18,
    "start_time": "2022-03-12T13:22:03.796Z"
   },
   {
    "duration": 352,
    "start_time": "2022-03-12T13:22:24.480Z"
   },
   {
    "duration": 17,
    "start_time": "2022-03-12T13:23:01.243Z"
   },
   {
    "duration": 16,
    "start_time": "2022-03-12T13:23:35.937Z"
   },
   {
    "duration": 15,
    "start_time": "2022-03-12T13:24:11.472Z"
   },
   {
    "duration": 1092,
    "start_time": "2022-03-12T13:24:20.733Z"
   },
   {
    "duration": 138,
    "start_time": "2022-03-12T13:24:21.827Z"
   },
   {
    "duration": 2,
    "start_time": "2022-03-12T13:24:21.967Z"
   },
   {
    "duration": 4,
    "start_time": "2022-03-12T13:24:21.971Z"
   },
   {
    "duration": 14,
    "start_time": "2022-03-12T13:24:21.977Z"
   },
   {
    "duration": 9,
    "start_time": "2022-03-12T13:24:21.992Z"
   },
   {
    "duration": 13,
    "start_time": "2022-03-12T13:24:22.002Z"
   },
   {
    "duration": 2,
    "start_time": "2022-03-12T13:24:22.017Z"
   },
   {
    "duration": 12,
    "start_time": "2022-03-12T13:24:22.021Z"
   },
   {
    "duration": 7,
    "start_time": "2022-03-12T13:24:22.034Z"
   },
   {
    "duration": 9,
    "start_time": "2022-03-12T13:24:22.043Z"
   },
   {
    "duration": 10,
    "start_time": "2022-03-12T13:24:22.053Z"
   },
   {
    "duration": 8,
    "start_time": "2022-03-12T13:24:22.065Z"
   },
   {
    "duration": 26,
    "start_time": "2022-03-12T13:24:22.075Z"
   },
   {
    "duration": 7,
    "start_time": "2022-03-12T13:24:22.103Z"
   },
   {
    "duration": 14,
    "start_time": "2022-03-12T13:24:22.112Z"
   },
   {
    "duration": 4,
    "start_time": "2022-03-12T13:24:22.128Z"
   },
   {
    "duration": 10,
    "start_time": "2022-03-12T13:24:22.134Z"
   },
   {
    "duration": 9,
    "start_time": "2022-03-12T13:24:22.145Z"
   },
   {
    "duration": 11,
    "start_time": "2022-03-12T13:24:22.155Z"
   },
   {
    "duration": 8,
    "start_time": "2022-03-12T13:24:22.167Z"
   },
   {
    "duration": 26,
    "start_time": "2022-03-12T13:24:22.177Z"
   },
   {
    "duration": 4,
    "start_time": "2022-03-12T13:24:22.205Z"
   },
   {
    "duration": 7,
    "start_time": "2022-03-12T13:24:22.210Z"
   },
   {
    "duration": 15,
    "start_time": "2022-03-12T13:24:22.218Z"
   },
   {
    "duration": 4,
    "start_time": "2022-03-12T13:24:22.234Z"
   },
   {
    "duration": 7,
    "start_time": "2022-03-12T13:24:22.242Z"
   },
   {
    "duration": 9,
    "start_time": "2022-03-12T13:24:22.251Z"
   },
   {
    "duration": 11,
    "start_time": "2022-03-12T13:24:22.261Z"
   },
   {
    "duration": 9,
    "start_time": "2022-03-12T13:24:22.273Z"
   },
   {
    "duration": 4,
    "start_time": "2022-03-12T13:24:22.300Z"
   },
   {
    "duration": 11,
    "start_time": "2022-03-12T13:24:22.306Z"
   },
   {
    "duration": 7,
    "start_time": "2022-03-12T13:24:22.318Z"
   },
   {
    "duration": 10,
    "start_time": "2022-03-12T13:24:22.326Z"
   },
   {
    "duration": 23,
    "start_time": "2022-03-12T13:24:22.337Z"
   },
   {
    "duration": 354,
    "start_time": "2022-03-12T13:24:22.361Z"
   },
   {
    "duration": 20,
    "start_time": "2022-03-12T13:24:22.717Z"
   },
   {
    "duration": 7,
    "start_time": "2022-03-12T13:24:22.739Z"
   },
   {
    "duration": 4,
    "start_time": "2022-03-12T13:24:22.747Z"
   },
   {
    "duration": 15,
    "start_time": "2022-03-12T13:24:22.753Z"
   },
   {
    "duration": 36,
    "start_time": "2022-03-12T13:24:22.769Z"
   },
   {
    "duration": 18,
    "start_time": "2022-03-12T13:24:22.806Z"
   },
   {
    "duration": 18,
    "start_time": "2022-03-12T13:24:22.826Z"
   },
   {
    "duration": 12,
    "start_time": "2022-03-12T13:24:22.845Z"
   },
   {
    "duration": 48,
    "start_time": "2022-03-12T13:24:22.859Z"
   },
   {
    "duration": 3,
    "start_time": "2022-03-12T13:24:22.909Z"
   },
   {
    "duration": 9,
    "start_time": "2022-03-12T13:24:22.914Z"
   },
   {
    "duration": 303,
    "start_time": "2022-03-12T13:24:22.925Z"
   },
   {
    "duration": 19,
    "start_time": "2022-03-12T13:24:23.229Z"
   },
   {
    "duration": 529,
    "start_time": "2022-03-12T13:24:23.250Z"
   },
   {
    "duration": 6,
    "start_time": "2022-03-12T13:24:23.781Z"
   },
   {
    "duration": 20,
    "start_time": "2022-03-12T13:24:23.788Z"
   },
   {
    "duration": 469,
    "start_time": "2022-03-12T13:24:23.810Z"
   },
   {
    "duration": 5,
    "start_time": "2022-03-12T13:24:24.280Z"
   },
   {
    "duration": 22,
    "start_time": "2022-03-12T13:24:24.286Z"
   },
   {
    "duration": 478,
    "start_time": "2022-03-12T13:24:24.309Z"
   },
   {
    "duration": 4,
    "start_time": "2022-03-12T13:24:24.789Z"
   },
   {
    "duration": 18,
    "start_time": "2022-03-12T13:24:24.794Z"
   },
   {
    "duration": 533,
    "start_time": "2022-03-12T13:24:24.813Z"
   },
   {
    "duration": 4,
    "start_time": "2022-03-12T13:24:25.348Z"
   },
   {
    "duration": 14,
    "start_time": "2022-03-12T13:24:25.353Z"
   },
   {
    "duration": 494,
    "start_time": "2022-03-12T13:24:25.368Z"
   },
   {
    "duration": 4,
    "start_time": "2022-03-12T13:24:25.864Z"
   },
   {
    "duration": 13,
    "start_time": "2022-03-12T13:24:25.870Z"
   },
   {
    "duration": 8,
    "start_time": "2022-03-12T13:24:25.901Z"
   },
   {
    "duration": 6,
    "start_time": "2022-03-12T13:24:25.911Z"
   },
   {
    "duration": 9,
    "start_time": "2022-03-12T13:24:25.919Z"
   },
   {
    "duration": 9,
    "start_time": "2022-03-12T13:24:25.929Z"
   },
   {
    "duration": 7,
    "start_time": "2022-03-12T13:24:25.939Z"
   },
   {
    "duration": 8,
    "start_time": "2022-03-12T13:24:25.947Z"
   },
   {
    "duration": 12,
    "start_time": "2022-03-12T13:24:25.957Z"
   },
   {
    "duration": 36,
    "start_time": "2022-03-12T13:24:25.971Z"
   },
   {
    "duration": 10,
    "start_time": "2022-03-12T13:24:26.009Z"
   },
   {
    "duration": 22,
    "start_time": "2022-03-12T13:24:26.021Z"
   },
   {
    "duration": 375,
    "start_time": "2022-03-12T13:24:26.045Z"
   },
   {
    "duration": -4272,
    "start_time": "2022-03-12T13:24:30.694Z"
   },
   {
    "duration": -4277,
    "start_time": "2022-03-12T13:24:30.700Z"
   },
   {
    "duration": -4282,
    "start_time": "2022-03-12T13:24:30.706Z"
   },
   {
    "duration": -4288,
    "start_time": "2022-03-12T13:24:30.713Z"
   },
   {
    "duration": -4293,
    "start_time": "2022-03-12T13:24:30.719Z"
   },
   {
    "duration": -4298,
    "start_time": "2022-03-12T13:24:30.725Z"
   },
   {
    "duration": -4303,
    "start_time": "2022-03-12T13:24:30.731Z"
   },
   {
    "duration": -4308,
    "start_time": "2022-03-12T13:24:30.737Z"
   },
   {
    "duration": -4313,
    "start_time": "2022-03-12T13:24:30.743Z"
   },
   {
    "duration": -4320,
    "start_time": "2022-03-12T13:24:30.750Z"
   },
   {
    "duration": 15,
    "start_time": "2022-03-12T13:25:03.009Z"
   },
   {
    "duration": 16,
    "start_time": "2022-03-12T13:25:18.987Z"
   },
   {
    "duration": 18,
    "start_time": "2022-03-12T13:25:20.348Z"
   },
   {
    "duration": 320,
    "start_time": "2022-03-12T13:26:32.844Z"
   },
   {
    "duration": 1258,
    "start_time": "2022-03-12T13:26:42.153Z"
   },
   {
    "duration": 18,
    "start_time": "2022-03-12T13:26:54.296Z"
   },
   {
    "duration": 11,
    "start_time": "2022-03-12T13:27:42.694Z"
   },
   {
    "duration": 12,
    "start_time": "2022-03-12T13:28:20.088Z"
   },
   {
    "duration": 12,
    "start_time": "2022-03-12T13:28:34.929Z"
   },
   {
    "duration": 11,
    "start_time": "2022-03-12T13:28:45.461Z"
   },
   {
    "duration": 17,
    "start_time": "2022-03-12T13:29:30.661Z"
   },
   {
    "duration": 18,
    "start_time": "2022-03-12T13:30:22.845Z"
   },
   {
    "duration": 361,
    "start_time": "2022-03-12T13:31:09.189Z"
   },
   {
    "duration": 15,
    "start_time": "2022-03-12T13:31:21.676Z"
   },
   {
    "duration": 17,
    "start_time": "2022-03-12T13:31:46.162Z"
   },
   {
    "duration": 16,
    "start_time": "2022-03-12T13:31:57.558Z"
   },
   {
    "duration": 17,
    "start_time": "2022-03-12T13:32:35.162Z"
   },
   {
    "duration": 16,
    "start_time": "2022-03-12T13:33:15.771Z"
   },
   {
    "duration": 16,
    "start_time": "2022-03-12T13:33:47.597Z"
   },
   {
    "duration": 15,
    "start_time": "2022-03-12T13:34:37.049Z"
   },
   {
    "duration": 17,
    "start_time": "2022-03-12T13:34:49.870Z"
   },
   {
    "duration": 15,
    "start_time": "2022-03-12T13:35:31.195Z"
   },
   {
    "duration": 18,
    "start_time": "2022-03-12T13:36:10.169Z"
   },
   {
    "duration": 16,
    "start_time": "2022-03-12T13:36:11.388Z"
   },
   {
    "duration": 1100,
    "start_time": "2022-03-12T13:36:28.325Z"
   },
   {
    "duration": 134,
    "start_time": "2022-03-12T13:36:29.427Z"
   },
   {
    "duration": 4,
    "start_time": "2022-03-12T13:36:29.563Z"
   },
   {
    "duration": 4,
    "start_time": "2022-03-12T13:36:29.569Z"
   },
   {
    "duration": 18,
    "start_time": "2022-03-12T13:36:29.575Z"
   },
   {
    "duration": 8,
    "start_time": "2022-03-12T13:36:29.595Z"
   },
   {
    "duration": 14,
    "start_time": "2022-03-12T13:36:29.605Z"
   },
   {
    "duration": 2,
    "start_time": "2022-03-12T13:36:29.622Z"
   },
   {
    "duration": 12,
    "start_time": "2022-03-12T13:36:29.626Z"
   },
   {
    "duration": 6,
    "start_time": "2022-03-12T13:36:29.640Z"
   },
   {
    "duration": 6,
    "start_time": "2022-03-12T13:36:29.648Z"
   },
   {
    "duration": 8,
    "start_time": "2022-03-12T13:36:29.656Z"
   },
   {
    "duration": 6,
    "start_time": "2022-03-12T13:36:29.665Z"
   },
   {
    "duration": 7,
    "start_time": "2022-03-12T13:36:29.673Z"
   },
   {
    "duration": 23,
    "start_time": "2022-03-12T13:36:29.682Z"
   },
   {
    "duration": 16,
    "start_time": "2022-03-12T13:36:29.707Z"
   },
   {
    "duration": 5,
    "start_time": "2022-03-12T13:36:29.725Z"
   },
   {
    "duration": 9,
    "start_time": "2022-03-12T13:36:29.732Z"
   },
   {
    "duration": 7,
    "start_time": "2022-03-12T13:36:29.743Z"
   },
   {
    "duration": 8,
    "start_time": "2022-03-12T13:36:29.752Z"
   },
   {
    "duration": 6,
    "start_time": "2022-03-12T13:36:29.761Z"
   },
   {
    "duration": 36,
    "start_time": "2022-03-12T13:36:29.768Z"
   },
   {
    "duration": 4,
    "start_time": "2022-03-12T13:36:29.808Z"
   },
   {
    "duration": 4,
    "start_time": "2022-03-12T13:36:29.814Z"
   },
   {
    "duration": 12,
    "start_time": "2022-03-12T13:36:29.819Z"
   },
   {
    "duration": 4,
    "start_time": "2022-03-12T13:36:29.832Z"
   },
   {
    "duration": 9,
    "start_time": "2022-03-12T13:36:29.837Z"
   },
   {
    "duration": 7,
    "start_time": "2022-03-12T13:36:29.848Z"
   },
   {
    "duration": 15,
    "start_time": "2022-03-12T13:36:29.856Z"
   },
   {
    "duration": 6,
    "start_time": "2022-03-12T13:36:29.872Z"
   },
   {
    "duration": 24,
    "start_time": "2022-03-12T13:36:29.879Z"
   },
   {
    "duration": 10,
    "start_time": "2022-03-12T13:36:29.905Z"
   },
   {
    "duration": 8,
    "start_time": "2022-03-12T13:36:29.916Z"
   },
   {
    "duration": 9,
    "start_time": "2022-03-12T13:36:29.926Z"
   },
   {
    "duration": 23,
    "start_time": "2022-03-12T13:36:29.936Z"
   },
   {
    "duration": 359,
    "start_time": "2022-03-12T13:36:29.961Z"
   },
   {
    "duration": 23,
    "start_time": "2022-03-12T13:36:30.322Z"
   },
   {
    "duration": 9,
    "start_time": "2022-03-12T13:36:30.347Z"
   },
   {
    "duration": 9,
    "start_time": "2022-03-12T13:36:30.357Z"
   },
   {
    "duration": 39,
    "start_time": "2022-03-12T13:36:30.368Z"
   },
   {
    "duration": 18,
    "start_time": "2022-03-12T13:36:30.409Z"
   },
   {
    "duration": 27,
    "start_time": "2022-03-12T13:36:30.429Z"
   },
   {
    "duration": 19,
    "start_time": "2022-03-12T13:36:30.458Z"
   },
   {
    "duration": 23,
    "start_time": "2022-03-12T13:36:30.478Z"
   },
   {
    "duration": 35,
    "start_time": "2022-03-12T13:36:30.503Z"
   },
   {
    "duration": 11,
    "start_time": "2022-03-12T13:36:30.539Z"
   },
   {
    "duration": 25,
    "start_time": "2022-03-12T13:36:30.551Z"
   },
   {
    "duration": 308,
    "start_time": "2022-03-12T13:36:30.578Z"
   },
   {
    "duration": 27,
    "start_time": "2022-03-12T13:36:30.887Z"
   },
   {
    "duration": 467,
    "start_time": "2022-03-12T13:36:30.916Z"
   },
   {
    "duration": 5,
    "start_time": "2022-03-12T13:36:31.384Z"
   },
   {
    "duration": 17,
    "start_time": "2022-03-12T13:36:31.391Z"
   },
   {
    "duration": 452,
    "start_time": "2022-03-12T13:36:31.410Z"
   },
   {
    "duration": 5,
    "start_time": "2022-03-12T13:36:31.864Z"
   },
   {
    "duration": 16,
    "start_time": "2022-03-12T13:36:31.871Z"
   },
   {
    "duration": 491,
    "start_time": "2022-03-12T13:36:31.888Z"
   },
   {
    "duration": 4,
    "start_time": "2022-03-12T13:36:32.380Z"
   },
   {
    "duration": 21,
    "start_time": "2022-03-12T13:36:32.385Z"
   },
   {
    "duration": 552,
    "start_time": "2022-03-12T13:36:32.407Z"
   },
   {
    "duration": 5,
    "start_time": "2022-03-12T13:36:32.960Z"
   },
   {
    "duration": 16,
    "start_time": "2022-03-12T13:36:32.966Z"
   },
   {
    "duration": 505,
    "start_time": "2022-03-12T13:36:32.983Z"
   },
   {
    "duration": 4,
    "start_time": "2022-03-12T13:36:33.489Z"
   },
   {
    "duration": 16,
    "start_time": "2022-03-12T13:36:33.495Z"
   },
   {
    "duration": 8,
    "start_time": "2022-03-12T13:36:33.512Z"
   },
   {
    "duration": 6,
    "start_time": "2022-03-12T13:36:33.522Z"
   },
   {
    "duration": 9,
    "start_time": "2022-03-12T13:36:33.530Z"
   },
   {
    "duration": 9,
    "start_time": "2022-03-12T13:36:33.544Z"
   },
   {
    "duration": 10,
    "start_time": "2022-03-12T13:36:33.554Z"
   },
   {
    "duration": 41,
    "start_time": "2022-03-12T13:36:33.565Z"
   },
   {
    "duration": 9,
    "start_time": "2022-03-12T13:36:33.607Z"
   },
   {
    "duration": 9,
    "start_time": "2022-03-12T13:36:33.617Z"
   },
   {
    "duration": 16,
    "start_time": "2022-03-12T13:36:33.628Z"
   },
   {
    "duration": 23,
    "start_time": "2022-03-12T13:36:33.646Z"
   },
   {
    "duration": 30,
    "start_time": "2022-03-12T13:36:33.671Z"
   },
   {
    "duration": 16,
    "start_time": "2022-03-12T13:36:33.702Z"
   },
   {
    "duration": 17,
    "start_time": "2022-03-12T13:36:33.719Z"
   },
   {
    "duration": 14,
    "start_time": "2022-03-12T13:36:33.737Z"
   },
   {
    "duration": 168,
    "start_time": "2022-03-12T13:36:33.753Z"
   },
   {
    "duration": 141,
    "start_time": "2022-03-12T13:36:33.923Z"
   },
   {
    "duration": 145,
    "start_time": "2022-03-12T13:36:34.065Z"
   },
   {
    "duration": 9,
    "start_time": "2022-03-12T13:36:34.211Z"
   },
   {
    "duration": 14,
    "start_time": "2022-03-12T13:36:34.222Z"
   },
   {
    "duration": 11,
    "start_time": "2022-03-12T13:36:34.238Z"
   },
   {
    "duration": 6,
    "start_time": "2022-03-12T13:36:34.250Z"
   },
   {
    "duration": 15,
    "start_time": "2022-03-12T13:38:23.071Z"
   },
   {
    "duration": 19,
    "start_time": "2022-03-12T13:38:50.469Z"
   },
   {
    "duration": 109,
    "start_time": "2022-03-12T13:46:25.723Z"
   },
   {
    "duration": 14,
    "start_time": "2022-03-12T13:46:47.218Z"
   },
   {
    "duration": 1517,
    "start_time": "2022-03-12T15:25:22.637Z"
   },
   {
    "duration": 198,
    "start_time": "2022-03-12T15:25:24.156Z"
   },
   {
    "duration": 3,
    "start_time": "2022-03-12T15:25:24.357Z"
   },
   {
    "duration": 6,
    "start_time": "2022-03-12T15:25:24.363Z"
   },
   {
    "duration": 30,
    "start_time": "2022-03-12T15:25:24.371Z"
   },
   {
    "duration": 16,
    "start_time": "2022-03-12T15:25:24.404Z"
   },
   {
    "duration": 23,
    "start_time": "2022-03-12T15:25:24.423Z"
   },
   {
    "duration": 4,
    "start_time": "2022-03-12T15:25:24.451Z"
   },
   {
    "duration": 29,
    "start_time": "2022-03-12T15:25:24.487Z"
   },
   {
    "duration": 10,
    "start_time": "2022-03-12T15:25:24.518Z"
   },
   {
    "duration": 10,
    "start_time": "2022-03-12T15:25:24.530Z"
   },
   {
    "duration": 13,
    "start_time": "2022-03-12T15:25:24.543Z"
   },
   {
    "duration": 34,
    "start_time": "2022-03-12T15:25:24.558Z"
   },
   {
    "duration": 18,
    "start_time": "2022-03-12T15:25:24.596Z"
   },
   {
    "duration": 14,
    "start_time": "2022-03-12T15:25:24.616Z"
   },
   {
    "duration": 26,
    "start_time": "2022-03-12T15:25:24.632Z"
   },
   {
    "duration": 32,
    "start_time": "2022-03-12T15:25:24.660Z"
   },
   {
    "duration": 26,
    "start_time": "2022-03-12T15:25:24.695Z"
   },
   {
    "duration": 10,
    "start_time": "2022-03-12T15:25:24.723Z"
   },
   {
    "duration": 8,
    "start_time": "2022-03-12T15:25:24.735Z"
   },
   {
    "duration": 9,
    "start_time": "2022-03-12T15:25:24.745Z"
   },
   {
    "duration": 46,
    "start_time": "2022-03-12T15:25:24.756Z"
   },
   {
    "duration": 7,
    "start_time": "2022-03-12T15:25:24.811Z"
   },
   {
    "duration": 10,
    "start_time": "2022-03-12T15:25:24.824Z"
   },
   {
    "duration": 62,
    "start_time": "2022-03-12T15:25:24.837Z"
   },
   {
    "duration": 7,
    "start_time": "2022-03-12T15:25:24.903Z"
   },
   {
    "duration": 13,
    "start_time": "2022-03-12T15:25:24.912Z"
   },
   {
    "duration": 7,
    "start_time": "2022-03-12T15:25:24.928Z"
   },
   {
    "duration": 52,
    "start_time": "2022-03-12T15:25:24.938Z"
   },
   {
    "duration": 6,
    "start_time": "2022-03-12T15:25:24.993Z"
   },
   {
    "duration": 16,
    "start_time": "2022-03-12T15:25:25.002Z"
   },
   {
    "duration": 14,
    "start_time": "2022-03-12T15:25:25.021Z"
   },
   {
    "duration": 5,
    "start_time": "2022-03-12T15:25:25.038Z"
   },
   {
    "duration": 42,
    "start_time": "2022-03-12T15:25:25.045Z"
   },
   {
    "duration": 37,
    "start_time": "2022-03-12T15:25:25.089Z"
   },
   {
    "duration": 684,
    "start_time": "2022-03-12T15:25:25.128Z"
   },
   {
    "duration": 37,
    "start_time": "2022-03-12T15:25:25.814Z"
   },
   {
    "duration": 34,
    "start_time": "2022-03-12T15:25:25.853Z"
   },
   {
    "duration": 5,
    "start_time": "2022-03-12T15:25:25.890Z"
   },
   {
    "duration": 32,
    "start_time": "2022-03-12T15:25:25.899Z"
   },
   {
    "duration": 16,
    "start_time": "2022-03-12T15:25:25.933Z"
   },
   {
    "duration": 67,
    "start_time": "2022-03-12T15:25:25.952Z"
   },
   {
    "duration": 34,
    "start_time": "2022-03-12T15:25:26.021Z"
   },
   {
    "duration": 51,
    "start_time": "2022-03-12T15:25:26.057Z"
   },
   {
    "duration": 35,
    "start_time": "2022-03-12T15:25:26.111Z"
   },
   {
    "duration": 38,
    "start_time": "2022-03-12T15:25:26.149Z"
   },
   {
    "duration": 20,
    "start_time": "2022-03-12T15:25:26.191Z"
   },
   {
    "duration": 678,
    "start_time": "2022-03-12T15:25:26.213Z"
   },
   {
    "duration": 31,
    "start_time": "2022-03-12T15:25:26.894Z"
   },
   {
    "duration": 975,
    "start_time": "2022-03-12T15:25:26.928Z"
   },
   {
    "duration": 8,
    "start_time": "2022-03-12T15:25:27.907Z"
   },
   {
    "duration": 25,
    "start_time": "2022-03-12T15:25:27.918Z"
   },
   {
    "duration": 800,
    "start_time": "2022-03-12T15:25:27.945Z"
   },
   {
    "duration": 6,
    "start_time": "2022-03-12T15:25:28.748Z"
   },
   {
    "duration": 35,
    "start_time": "2022-03-12T15:25:28.756Z"
   },
   {
    "duration": 793,
    "start_time": "2022-03-12T15:25:28.794Z"
   },
   {
    "duration": 7,
    "start_time": "2022-03-12T15:25:29.589Z"
   },
   {
    "duration": 19,
    "start_time": "2022-03-12T15:25:29.598Z"
   },
   {
    "duration": 851,
    "start_time": "2022-03-12T15:25:29.619Z"
   },
   {
    "duration": 15,
    "start_time": "2022-03-12T15:25:30.473Z"
   },
   {
    "duration": 31,
    "start_time": "2022-03-12T15:25:30.491Z"
   },
   {
    "duration": 826,
    "start_time": "2022-03-12T15:25:30.524Z"
   },
   {
    "duration": 7,
    "start_time": "2022-03-12T15:25:31.352Z"
   },
   {
    "duration": 45,
    "start_time": "2022-03-12T15:25:31.362Z"
   },
   {
    "duration": 22,
    "start_time": "2022-03-12T15:25:31.409Z"
   },
   {
    "duration": 18,
    "start_time": "2022-03-12T15:25:31.433Z"
   },
   {
    "duration": 36,
    "start_time": "2022-03-12T15:25:31.453Z"
   },
   {
    "duration": 19,
    "start_time": "2022-03-12T15:25:31.500Z"
   },
   {
    "duration": 17,
    "start_time": "2022-03-12T15:25:31.522Z"
   },
   {
    "duration": 18,
    "start_time": "2022-03-12T15:25:31.542Z"
   },
   {
    "duration": 40,
    "start_time": "2022-03-12T15:25:31.563Z"
   },
   {
    "duration": 42,
    "start_time": "2022-03-12T15:25:31.606Z"
   },
   {
    "duration": 23,
    "start_time": "2022-03-12T15:25:31.651Z"
   },
   {
    "duration": 63,
    "start_time": "2022-03-12T15:25:31.677Z"
   },
   {
    "duration": 27,
    "start_time": "2022-03-12T15:25:31.743Z"
   },
   {
    "duration": 37,
    "start_time": "2022-03-12T15:25:31.773Z"
   },
   {
    "duration": 25,
    "start_time": "2022-03-12T15:25:31.813Z"
   },
   {
    "duration": 58,
    "start_time": "2022-03-12T15:25:31.840Z"
   },
   {
    "duration": 280,
    "start_time": "2022-03-12T15:25:31.901Z"
   },
   {
    "duration": 273,
    "start_time": "2022-03-12T15:25:32.187Z"
   },
   {
    "duration": 290,
    "start_time": "2022-03-12T15:25:32.463Z"
   },
   {
    "duration": 33,
    "start_time": "2022-03-12T15:25:32.756Z"
   },
   {
    "duration": 30,
    "start_time": "2022-03-12T15:25:32.791Z"
   },
   {
    "duration": 23,
    "start_time": "2022-03-12T15:25:32.824Z"
   },
   {
    "duration": 28,
    "start_time": "2022-03-12T15:25:32.850Z"
   },
   {
    "duration": 342,
    "start_time": "2022-03-12T16:47:42.889Z"
   },
   {
    "duration": 1072,
    "start_time": "2022-03-12T16:47:49.962Z"
   },
   {
    "duration": 132,
    "start_time": "2022-03-12T16:47:51.035Z"
   },
   {
    "duration": 2,
    "start_time": "2022-03-12T16:47:51.169Z"
   },
   {
    "duration": 5,
    "start_time": "2022-03-12T16:47:51.173Z"
   },
   {
    "duration": 15,
    "start_time": "2022-03-12T16:47:51.179Z"
   },
   {
    "duration": 8,
    "start_time": "2022-03-12T16:47:51.196Z"
   },
   {
    "duration": 14,
    "start_time": "2022-03-12T16:47:51.205Z"
   },
   {
    "duration": 3,
    "start_time": "2022-03-12T16:47:51.221Z"
   },
   {
    "duration": 15,
    "start_time": "2022-03-12T16:47:51.225Z"
   },
   {
    "duration": 4,
    "start_time": "2022-03-12T16:47:51.241Z"
   },
   {
    "duration": 4,
    "start_time": "2022-03-12T16:47:51.247Z"
   },
   {
    "duration": 10,
    "start_time": "2022-03-12T16:47:51.252Z"
   },
   {
    "duration": 8,
    "start_time": "2022-03-12T16:47:51.263Z"
   },
   {
    "duration": 8,
    "start_time": "2022-03-12T16:47:51.272Z"
   },
   {
    "duration": 23,
    "start_time": "2022-03-12T16:47:51.282Z"
   },
   {
    "duration": 15,
    "start_time": "2022-03-12T16:47:51.307Z"
   },
   {
    "duration": 5,
    "start_time": "2022-03-12T16:47:51.324Z"
   },
   {
    "duration": 9,
    "start_time": "2022-03-12T16:47:51.331Z"
   },
   {
    "duration": 5,
    "start_time": "2022-03-12T16:47:51.342Z"
   },
   {
    "duration": 10,
    "start_time": "2022-03-12T16:47:51.349Z"
   },
   {
    "duration": 7,
    "start_time": "2022-03-12T16:47:51.360Z"
   },
   {
    "duration": 35,
    "start_time": "2022-03-12T16:47:51.369Z"
   },
   {
    "duration": 5,
    "start_time": "2022-03-12T16:47:51.408Z"
   },
   {
    "duration": 5,
    "start_time": "2022-03-12T16:47:51.416Z"
   },
   {
    "duration": 12,
    "start_time": "2022-03-12T16:47:51.422Z"
   },
   {
    "duration": 4,
    "start_time": "2022-03-12T16:47:51.435Z"
   },
   {
    "duration": 9,
    "start_time": "2022-03-12T16:47:51.440Z"
   },
   {
    "duration": 5,
    "start_time": "2022-03-12T16:47:51.451Z"
   },
   {
    "duration": 11,
    "start_time": "2022-03-12T16:47:51.457Z"
   },
   {
    "duration": 31,
    "start_time": "2022-03-12T16:47:51.470Z"
   },
   {
    "duration": 4,
    "start_time": "2022-03-12T16:47:51.502Z"
   },
   {
    "duration": 8,
    "start_time": "2022-03-12T16:47:51.507Z"
   },
   {
    "duration": 5,
    "start_time": "2022-03-12T16:47:51.517Z"
   },
   {
    "duration": 11,
    "start_time": "2022-03-12T16:47:51.523Z"
   },
   {
    "duration": 25,
    "start_time": "2022-03-12T16:47:51.536Z"
   },
   {
    "duration": 347,
    "start_time": "2022-03-12T16:47:51.562Z"
   },
   {
    "duration": 20,
    "start_time": "2022-03-12T16:47:51.910Z"
   },
   {
    "duration": 8,
    "start_time": "2022-03-12T16:47:51.931Z"
   },
   {
    "duration": 5,
    "start_time": "2022-03-12T16:47:51.940Z"
   },
   {
    "duration": 15,
    "start_time": "2022-03-12T16:47:51.946Z"
   },
   {
    "duration": 50,
    "start_time": "2022-03-12T16:47:51.962Z"
   },
   {
    "duration": 17,
    "start_time": "2022-03-12T16:47:52.013Z"
   },
   {
    "duration": 18,
    "start_time": "2022-03-12T16:47:52.031Z"
   },
   {
    "duration": 13,
    "start_time": "2022-03-12T16:47:52.051Z"
   },
   {
    "duration": 43,
    "start_time": "2022-03-12T16:47:52.065Z"
   },
   {
    "duration": 4,
    "start_time": "2022-03-12T16:47:52.110Z"
   },
   {
    "duration": 12,
    "start_time": "2022-03-12T16:47:52.115Z"
   },
   {
    "duration": 361,
    "start_time": "2022-03-12T16:47:52.129Z"
   },
   {
    "duration": 25,
    "start_time": "2022-03-12T16:47:52.491Z"
   },
   {
    "duration": 463,
    "start_time": "2022-03-12T16:47:52.518Z"
   },
   {
    "duration": 4,
    "start_time": "2022-03-12T16:47:52.982Z"
   },
   {
    "duration": 19,
    "start_time": "2022-03-12T16:47:52.988Z"
   },
   {
    "duration": 479,
    "start_time": "2022-03-12T16:47:53.009Z"
   },
   {
    "duration": 13,
    "start_time": "2022-03-12T16:47:53.489Z"
   },
   {
    "duration": 12,
    "start_time": "2022-03-12T16:47:53.503Z"
   },
   {
    "duration": 467,
    "start_time": "2022-03-12T16:47:53.516Z"
   },
   {
    "duration": 4,
    "start_time": "2022-03-12T16:47:53.985Z"
   },
   {
    "duration": 21,
    "start_time": "2022-03-12T16:47:53.990Z"
   },
   {
    "duration": 532,
    "start_time": "2022-03-12T16:47:54.012Z"
   },
   {
    "duration": 5,
    "start_time": "2022-03-12T16:47:54.545Z"
   },
   {
    "duration": 13,
    "start_time": "2022-03-12T16:47:54.552Z"
   },
   {
    "duration": 489,
    "start_time": "2022-03-12T16:47:54.567Z"
   },
   {
    "duration": 5,
    "start_time": "2022-03-12T16:47:55.057Z"
   },
   {
    "duration": 16,
    "start_time": "2022-03-12T16:47:55.063Z"
   },
   {
    "duration": 21,
    "start_time": "2022-03-12T16:47:55.080Z"
   },
   {
    "duration": 7,
    "start_time": "2022-03-12T16:47:55.103Z"
   },
   {
    "duration": 9,
    "start_time": "2022-03-12T16:47:55.112Z"
   },
   {
    "duration": 9,
    "start_time": "2022-03-12T16:47:55.126Z"
   },
   {
    "duration": 8,
    "start_time": "2022-03-12T16:47:55.136Z"
   },
   {
    "duration": 9,
    "start_time": "2022-03-12T16:47:55.145Z"
   },
   {
    "duration": 12,
    "start_time": "2022-03-12T16:47:55.155Z"
   },
   {
    "duration": 39,
    "start_time": "2022-03-12T16:47:55.168Z"
   },
   {
    "duration": 10,
    "start_time": "2022-03-12T16:47:55.208Z"
   },
   {
    "duration": 19,
    "start_time": "2022-03-12T16:47:55.220Z"
   },
   {
    "duration": 14,
    "start_time": "2022-03-12T16:47:55.241Z"
   },
   {
    "duration": 13,
    "start_time": "2022-03-12T16:47:55.257Z"
   },
   {
    "duration": 41,
    "start_time": "2022-03-12T16:47:55.271Z"
   },
   {
    "duration": 13,
    "start_time": "2022-03-12T16:47:55.314Z"
   },
   {
    "duration": 157,
    "start_time": "2022-03-12T16:47:55.329Z"
   },
   {
    "duration": 161,
    "start_time": "2022-03-12T16:47:55.487Z"
   },
   {
    "duration": 145,
    "start_time": "2022-03-12T16:47:55.649Z"
   },
   {
    "duration": 13,
    "start_time": "2022-03-12T16:47:55.796Z"
   },
   {
    "duration": 4,
    "start_time": "2022-03-12T16:47:55.810Z"
   },
   {
    "duration": 8,
    "start_time": "2022-03-12T16:47:55.816Z"
   },
   {
    "duration": 4,
    "start_time": "2022-03-12T16:47:55.825Z"
   },
   {
    "duration": 18,
    "start_time": "2022-03-12T16:49:01.525Z"
   },
   {
    "duration": 19,
    "start_time": "2022-03-12T16:49:08.283Z"
   },
   {
    "duration": 20,
    "start_time": "2022-03-12T16:50:02.674Z"
   },
   {
    "duration": 18,
    "start_time": "2022-03-12T16:50:03.943Z"
   },
   {
    "duration": 14,
    "start_time": "2022-03-12T16:50:05.813Z"
   },
   {
    "duration": 19,
    "start_time": "2022-03-12T16:50:07.919Z"
   },
   {
    "duration": 4,
    "start_time": "2022-03-12T16:50:36.311Z"
   },
   {
    "duration": 15,
    "start_time": "2022-03-12T16:50:37.951Z"
   },
   {
    "duration": 540,
    "start_time": "2022-03-12T16:50:38.982Z"
   },
   {
    "duration": 18,
    "start_time": "2022-03-12T16:52:02.297Z"
   },
   {
    "duration": 6,
    "start_time": "2022-03-12T16:52:52.627Z"
   },
   {
    "duration": 20,
    "start_time": "2022-03-12T16:53:03.393Z"
   },
   {
    "duration": 18,
    "start_time": "2022-03-12T16:59:02.211Z"
   },
   {
    "duration": 13,
    "start_time": "2022-03-12T16:59:50.979Z"
   },
   {
    "duration": 21,
    "start_time": "2022-03-12T17:00:00.901Z"
   },
   {
    "duration": 20,
    "start_time": "2022-03-12T17:01:00.653Z"
   },
   {
    "duration": 19,
    "start_time": "2022-03-12T17:01:18.789Z"
   },
   {
    "duration": 1102,
    "start_time": "2022-03-12T17:01:38.231Z"
   },
   {
    "duration": 140,
    "start_time": "2022-03-12T17:01:39.335Z"
   },
   {
    "duration": 3,
    "start_time": "2022-03-12T17:01:39.477Z"
   },
   {
    "duration": 25,
    "start_time": "2022-03-12T17:01:39.482Z"
   },
   {
    "duration": 47,
    "start_time": "2022-03-12T17:01:39.509Z"
   },
   {
    "duration": 37,
    "start_time": "2022-03-12T17:01:39.558Z"
   },
   {
    "duration": 28,
    "start_time": "2022-03-12T17:01:39.597Z"
   },
   {
    "duration": 17,
    "start_time": "2022-03-12T17:01:39.627Z"
   },
   {
    "duration": 34,
    "start_time": "2022-03-12T17:01:39.646Z"
   },
   {
    "duration": 21,
    "start_time": "2022-03-12T17:01:39.681Z"
   },
   {
    "duration": 25,
    "start_time": "2022-03-12T17:01:39.704Z"
   },
   {
    "duration": 21,
    "start_time": "2022-03-12T17:01:39.731Z"
   },
   {
    "duration": 22,
    "start_time": "2022-03-12T17:01:39.754Z"
   },
   {
    "duration": 26,
    "start_time": "2022-03-12T17:01:39.777Z"
   },
   {
    "duration": 23,
    "start_time": "2022-03-12T17:01:39.805Z"
   },
   {
    "duration": 33,
    "start_time": "2022-03-12T17:01:39.830Z"
   },
   {
    "duration": 9,
    "start_time": "2022-03-12T17:01:39.864Z"
   },
   {
    "duration": 27,
    "start_time": "2022-03-12T17:01:39.874Z"
   },
   {
    "duration": 27,
    "start_time": "2022-03-12T17:01:39.903Z"
   },
   {
    "duration": 19,
    "start_time": "2022-03-12T17:01:39.931Z"
   },
   {
    "duration": 16,
    "start_time": "2022-03-12T17:01:39.952Z"
   },
   {
    "duration": 41,
    "start_time": "2022-03-12T17:01:39.970Z"
   },
   {
    "duration": 12,
    "start_time": "2022-03-12T17:01:40.014Z"
   },
   {
    "duration": 33,
    "start_time": "2022-03-12T17:01:40.028Z"
   },
   {
    "duration": 33,
    "start_time": "2022-03-12T17:01:40.063Z"
   },
   {
    "duration": 23,
    "start_time": "2022-03-12T17:01:40.098Z"
   },
   {
    "duration": 31,
    "start_time": "2022-03-12T17:01:40.123Z"
   },
   {
    "duration": 12,
    "start_time": "2022-03-12T17:01:40.156Z"
   },
   {
    "duration": 13,
    "start_time": "2022-03-12T17:01:40.169Z"
   },
   {
    "duration": 39,
    "start_time": "2022-03-12T17:01:40.184Z"
   },
   {
    "duration": 23,
    "start_time": "2022-03-12T17:01:40.224Z"
   },
   {
    "duration": 28,
    "start_time": "2022-03-12T17:01:40.249Z"
   },
   {
    "duration": 17,
    "start_time": "2022-03-12T17:01:40.279Z"
   },
   {
    "duration": 34,
    "start_time": "2022-03-12T17:01:40.297Z"
   },
   {
    "duration": 31,
    "start_time": "2022-03-12T17:01:40.333Z"
   },
   {
    "duration": 403,
    "start_time": "2022-03-12T17:01:40.365Z"
   },
   {
    "duration": 33,
    "start_time": "2022-03-12T17:01:40.770Z"
   },
   {
    "duration": 7,
    "start_time": "2022-03-12T17:01:40.805Z"
   },
   {
    "duration": 5,
    "start_time": "2022-03-12T17:01:40.813Z"
   },
   {
    "duration": 15,
    "start_time": "2022-03-12T17:01:40.819Z"
   },
   {
    "duration": 19,
    "start_time": "2022-03-12T17:01:40.836Z"
   },
   {
    "duration": 46,
    "start_time": "2022-03-12T17:01:40.857Z"
   },
   {
    "duration": 15,
    "start_time": "2022-03-12T17:01:40.904Z"
   },
   {
    "duration": 20,
    "start_time": "2022-03-12T17:01:40.920Z"
   },
   {
    "duration": 4,
    "start_time": "2022-03-12T17:01:40.942Z"
   },
   {
    "duration": 10,
    "start_time": "2022-03-12T17:01:40.947Z"
   },
   {
    "duration": 377,
    "start_time": "2022-03-12T17:01:40.958Z"
   },
   {
    "duration": 25,
    "start_time": "2022-03-12T17:01:41.337Z"
   },
   {
    "duration": 520,
    "start_time": "2022-03-12T17:01:41.364Z"
   },
   {
    "duration": 5,
    "start_time": "2022-03-12T17:01:41.885Z"
   },
   {
    "duration": 18,
    "start_time": "2022-03-12T17:01:41.891Z"
   },
   {
    "duration": 449,
    "start_time": "2022-03-12T17:01:41.910Z"
   },
   {
    "duration": 4,
    "start_time": "2022-03-12T17:01:42.361Z"
   },
   {
    "duration": 14,
    "start_time": "2022-03-12T17:01:42.366Z"
   },
   {
    "duration": 528,
    "start_time": "2022-03-12T17:01:42.382Z"
   },
   {
    "duration": 4,
    "start_time": "2022-03-12T17:01:42.911Z"
   },
   {
    "duration": 11,
    "start_time": "2022-03-12T17:01:42.917Z"
   },
   {
    "duration": 447,
    "start_time": "2022-03-12T17:01:42.930Z"
   },
   {
    "duration": 4,
    "start_time": "2022-03-12T17:01:43.379Z"
   },
   {
    "duration": 24,
    "start_time": "2022-03-12T17:01:43.384Z"
   },
   {
    "duration": 464,
    "start_time": "2022-03-12T17:01:43.409Z"
   },
   {
    "duration": 4,
    "start_time": "2022-03-12T17:01:43.875Z"
   },
   {
    "duration": 22,
    "start_time": "2022-03-12T17:01:43.880Z"
   },
   {
    "duration": 378,
    "start_time": "2022-03-12T17:01:43.904Z"
   },
   {
    "duration": 50,
    "start_time": "2022-03-12T17:01:44.234Z"
   },
   {
    "duration": 45,
    "start_time": "2022-03-12T17:01:44.240Z"
   },
   {
    "duration": 39,
    "start_time": "2022-03-12T17:01:44.247Z"
   },
   {
    "duration": 33,
    "start_time": "2022-03-12T17:01:44.254Z"
   },
   {
    "duration": 27,
    "start_time": "2022-03-12T17:01:44.261Z"
   },
   {
    "duration": 21,
    "start_time": "2022-03-12T17:01:44.269Z"
   },
   {
    "duration": 15,
    "start_time": "2022-03-12T17:01:44.275Z"
   },
   {
    "duration": 10,
    "start_time": "2022-03-12T17:01:44.282Z"
   },
   {
    "duration": 4,
    "start_time": "2022-03-12T17:01:44.288Z"
   },
   {
    "duration": -2,
    "start_time": "2022-03-12T17:01:44.295Z"
   },
   {
    "duration": -7,
    "start_time": "2022-03-12T17:01:44.301Z"
   },
   {
    "duration": -13,
    "start_time": "2022-03-12T17:01:44.308Z"
   },
   {
    "duration": -19,
    "start_time": "2022-03-12T17:01:44.314Z"
   },
   {
    "duration": -24,
    "start_time": "2022-03-12T17:01:44.320Z"
   },
   {
    "duration": -40,
    "start_time": "2022-03-12T17:01:44.337Z"
   },
   {
    "duration": -46,
    "start_time": "2022-03-12T17:01:44.344Z"
   },
   {
    "duration": -51,
    "start_time": "2022-03-12T17:01:44.350Z"
   },
   {
    "duration": -60,
    "start_time": "2022-03-12T17:01:44.360Z"
   },
   {
    "duration": -66,
    "start_time": "2022-03-12T17:01:44.367Z"
   },
   {
    "duration": -71,
    "start_time": "2022-03-12T17:01:44.373Z"
   },
   {
    "duration": 4,
    "start_time": "2022-03-12T17:02:22.606Z"
   },
   {
    "duration": 10,
    "start_time": "2022-03-12T17:02:24.014Z"
   },
   {
    "duration": 12,
    "start_time": "2022-03-12T17:06:43.110Z"
   },
   {
    "duration": 449,
    "start_time": "2022-03-12T17:06:43.613Z"
   },
   {
    "duration": 4,
    "start_time": "2022-03-12T17:06:44.064Z"
   },
   {
    "duration": 13,
    "start_time": "2022-03-12T17:06:44.477Z"
   },
   {
    "duration": 474,
    "start_time": "2022-03-12T17:06:44.697Z"
   },
   {
    "duration": 5,
    "start_time": "2022-03-12T17:06:45.173Z"
   },
   {
    "duration": 15,
    "start_time": "2022-03-12T17:06:47.810Z"
   },
   {
    "duration": 302,
    "start_time": "2022-03-12T17:06:50.723Z"
   },
   {
    "duration": 10,
    "start_time": "2022-03-12T17:07:31.501Z"
   },
   {
    "duration": 8,
    "start_time": "2022-03-12T17:07:36.262Z"
   },
   {
    "duration": 293,
    "start_time": "2022-03-12T17:08:25.206Z"
   },
   {
    "duration": 10,
    "start_time": "2022-03-12T17:08:32.739Z"
   },
   {
    "duration": 8,
    "start_time": "2022-03-12T17:08:33.539Z"
   },
   {
    "duration": 340,
    "start_time": "2022-03-12T17:08:34.552Z"
   },
   {
    "duration": 10,
    "start_time": "2022-03-12T17:09:23.844Z"
   },
   {
    "duration": 10,
    "start_time": "2022-03-12T17:10:18.111Z"
   },
   {
    "duration": 11,
    "start_time": "2022-03-12T17:10:58.608Z"
   },
   {
    "duration": 9,
    "start_time": "2022-03-12T17:10:59.454Z"
   },
   {
    "duration": 15,
    "start_time": "2022-03-12T17:11:00.273Z"
   },
   {
    "duration": 11,
    "start_time": "2022-03-12T17:12:28.547Z"
   },
   {
    "duration": 8,
    "start_time": "2022-03-12T17:12:29.252Z"
   },
   {
    "duration": 309,
    "start_time": "2022-03-12T17:12:30.609Z"
   },
   {
    "duration": 10,
    "start_time": "2022-03-12T17:12:38.957Z"
   },
   {
    "duration": 22,
    "start_time": "2022-03-12T17:14:59.521Z"
   },
   {
    "duration": 17,
    "start_time": "2022-03-12T17:15:06.639Z"
   },
   {
    "duration": 19,
    "start_time": "2022-03-12T17:15:14.038Z"
   },
   {
    "duration": 16,
    "start_time": "2022-03-12T17:15:25.411Z"
   },
   {
    "duration": 18,
    "start_time": "2022-03-12T17:17:10.547Z"
   },
   {
    "duration": 132,
    "start_time": "2022-03-12T17:17:13.437Z"
   },
   {
    "duration": 143,
    "start_time": "2022-03-12T17:18:08.104Z"
   },
   {
    "duration": 133,
    "start_time": "2022-03-12T17:19:05.145Z"
   },
   {
    "duration": 221,
    "start_time": "2022-03-12T17:19:14.694Z"
   },
   {
    "duration": 19,
    "start_time": "2022-03-12T17:21:44.470Z"
   },
   {
    "duration": 20,
    "start_time": "2022-03-12T17:23:31.636Z"
   },
   {
    "duration": 1329,
    "start_time": "2022-03-13T13:32:37.399Z"
   },
   {
    "duration": 133,
    "start_time": "2022-03-13T13:32:38.730Z"
   },
   {
    "duration": 2,
    "start_time": "2022-03-13T13:32:38.865Z"
   },
   {
    "duration": 4,
    "start_time": "2022-03-13T13:32:38.869Z"
   },
   {
    "duration": 24,
    "start_time": "2022-03-13T13:32:38.875Z"
   },
   {
    "duration": 13,
    "start_time": "2022-03-13T13:32:38.901Z"
   },
   {
    "duration": 20,
    "start_time": "2022-03-13T13:32:38.915Z"
   },
   {
    "duration": 3,
    "start_time": "2022-03-13T13:32:38.937Z"
   },
   {
    "duration": 16,
    "start_time": "2022-03-13T13:32:38.942Z"
   },
   {
    "duration": 5,
    "start_time": "2022-03-13T13:32:38.959Z"
   },
   {
    "duration": 4,
    "start_time": "2022-03-13T13:32:38.965Z"
   },
   {
    "duration": 32,
    "start_time": "2022-03-13T13:32:38.971Z"
   },
   {
    "duration": 4,
    "start_time": "2022-03-13T13:32:39.005Z"
   },
   {
    "duration": 4,
    "start_time": "2022-03-13T13:32:39.011Z"
   },
   {
    "duration": 11,
    "start_time": "2022-03-13T13:32:39.016Z"
   },
   {
    "duration": 20,
    "start_time": "2022-03-13T13:32:39.028Z"
   },
   {
    "duration": 6,
    "start_time": "2022-03-13T13:32:39.050Z"
   },
   {
    "duration": 11,
    "start_time": "2022-03-13T13:32:39.058Z"
   },
   {
    "duration": 31,
    "start_time": "2022-03-13T13:32:39.071Z"
   },
   {
    "duration": 4,
    "start_time": "2022-03-13T13:32:39.104Z"
   },
   {
    "duration": 4,
    "start_time": "2022-03-13T13:32:39.110Z"
   },
   {
    "duration": 16,
    "start_time": "2022-03-13T13:32:39.116Z"
   },
   {
    "duration": 5,
    "start_time": "2022-03-13T13:32:39.137Z"
   },
   {
    "duration": 5,
    "start_time": "2022-03-13T13:32:39.145Z"
   },
   {
    "duration": 17,
    "start_time": "2022-03-13T13:32:39.152Z"
   },
   {
    "duration": 36,
    "start_time": "2022-03-13T13:32:39.171Z"
   },
   {
    "duration": 8,
    "start_time": "2022-03-13T13:32:39.209Z"
   },
   {
    "duration": 7,
    "start_time": "2022-03-13T13:32:39.219Z"
   },
   {
    "duration": 9,
    "start_time": "2022-03-13T13:32:39.227Z"
   },
   {
    "duration": 4,
    "start_time": "2022-03-13T13:32:39.237Z"
   },
   {
    "duration": 8,
    "start_time": "2022-03-13T13:32:39.243Z"
   },
   {
    "duration": 11,
    "start_time": "2022-03-13T13:32:39.253Z"
   },
   {
    "duration": 5,
    "start_time": "2022-03-13T13:32:39.265Z"
   },
   {
    "duration": 9,
    "start_time": "2022-03-13T13:32:39.272Z"
   },
   {
    "duration": 19,
    "start_time": "2022-03-13T13:32:39.302Z"
   },
   {
    "duration": 388,
    "start_time": "2022-03-13T13:32:39.323Z"
   },
   {
    "duration": 20,
    "start_time": "2022-03-13T13:32:39.713Z"
   },
   {
    "duration": 10,
    "start_time": "2022-03-13T13:32:39.735Z"
   },
   {
    "duration": 4,
    "start_time": "2022-03-13T13:32:39.747Z"
   },
   {
    "duration": 25,
    "start_time": "2022-03-13T13:32:39.753Z"
   },
   {
    "duration": 47,
    "start_time": "2022-03-13T13:32:39.780Z"
   },
   {
    "duration": 26,
    "start_time": "2022-03-13T13:32:39.828Z"
   },
   {
    "duration": 17,
    "start_time": "2022-03-13T13:32:39.856Z"
   },
   {
    "duration": 39,
    "start_time": "2022-03-13T13:32:39.875Z"
   },
   {
    "duration": 4,
    "start_time": "2022-03-13T13:32:39.916Z"
   },
   {
    "duration": 11,
    "start_time": "2022-03-13T13:32:39.921Z"
   },
   {
    "duration": 379,
    "start_time": "2022-03-13T13:32:39.933Z"
   },
   {
    "duration": 453,
    "start_time": "2022-03-13T13:32:40.313Z"
   },
   {
    "duration": 1126,
    "start_time": "2022-03-13T13:32:39.642Z"
   },
   {
    "duration": 1116,
    "start_time": "2022-03-13T13:32:39.653Z"
   },
   {
    "duration": 1106,
    "start_time": "2022-03-13T13:32:39.664Z"
   },
   {
    "duration": 1094,
    "start_time": "2022-03-13T13:32:39.676Z"
   },
   {
    "duration": 1085,
    "start_time": "2022-03-13T13:32:39.686Z"
   },
   {
    "duration": 1075,
    "start_time": "2022-03-13T13:32:39.697Z"
   },
   {
    "duration": 1066,
    "start_time": "2022-03-13T13:32:39.707Z"
   },
   {
    "duration": 1057,
    "start_time": "2022-03-13T13:32:39.717Z"
   },
   {
    "duration": 1047,
    "start_time": "2022-03-13T13:32:39.728Z"
   },
   {
    "duration": 1017,
    "start_time": "2022-03-13T13:32:39.758Z"
   },
   {
    "duration": 1007,
    "start_time": "2022-03-13T13:32:39.769Z"
   },
   {
    "duration": 997,
    "start_time": "2022-03-13T13:32:39.780Z"
   },
   {
    "duration": 987,
    "start_time": "2022-03-13T13:32:39.791Z"
   },
   {
    "duration": 979,
    "start_time": "2022-03-13T13:32:39.801Z"
   },
   {
    "duration": 969,
    "start_time": "2022-03-13T13:32:39.811Z"
   },
   {
    "duration": 962,
    "start_time": "2022-03-13T13:32:39.819Z"
   },
   {
    "duration": 955,
    "start_time": "2022-03-13T13:32:39.827Z"
   },
   {
    "duration": 948,
    "start_time": "2022-03-13T13:32:39.835Z"
   },
   {
    "duration": 941,
    "start_time": "2022-03-13T13:32:39.842Z"
   },
   {
    "duration": 923,
    "start_time": "2022-03-13T13:32:39.861Z"
   },
   {
    "duration": 917,
    "start_time": "2022-03-13T13:32:39.868Z"
   },
   {
    "duration": 909,
    "start_time": "2022-03-13T13:32:39.877Z"
   },
   {
    "duration": 903,
    "start_time": "2022-03-13T13:32:39.884Z"
   },
   {
    "duration": 895,
    "start_time": "2022-03-13T13:32:39.892Z"
   },
   {
    "duration": 889,
    "start_time": "2022-03-13T13:32:39.899Z"
   },
   {
    "duration": 883,
    "start_time": "2022-03-13T13:32:39.906Z"
   },
   {
    "duration": 877,
    "start_time": "2022-03-13T13:32:39.913Z"
   },
   {
    "duration": 871,
    "start_time": "2022-03-13T13:32:39.920Z"
   },
   {
    "duration": 861,
    "start_time": "2022-03-13T13:32:39.930Z"
   },
   {
    "duration": 855,
    "start_time": "2022-03-13T13:32:39.937Z"
   },
   {
    "duration": 850,
    "start_time": "2022-03-13T13:32:39.943Z"
   },
   {
    "duration": 844,
    "start_time": "2022-03-13T13:32:39.950Z"
   },
   {
    "duration": 832,
    "start_time": "2022-03-13T13:32:39.962Z"
   },
   {
    "duration": 22,
    "start_time": "2022-03-13T14:08:05.383Z"
   },
   {
    "duration": 10,
    "start_time": "2022-03-13T14:08:25.093Z"
   },
   {
    "duration": 12,
    "start_time": "2022-03-13T14:08:32.559Z"
   },
   {
    "duration": 11,
    "start_time": "2022-03-13T14:08:32.572Z"
   },
   {
    "duration": 478,
    "start_time": "2022-03-13T14:08:32.585Z"
   },
   {
    "duration": 5,
    "start_time": "2022-03-13T14:08:33.065Z"
   },
   {
    "duration": 17,
    "start_time": "2022-03-13T14:08:33.071Z"
   },
   {
    "duration": 471,
    "start_time": "2022-03-13T14:08:33.102Z"
   },
   {
    "duration": 5,
    "start_time": "2022-03-13T14:08:33.574Z"
   },
   {
    "duration": 22,
    "start_time": "2022-03-13T14:08:33.581Z"
   },
   {
    "duration": 555,
    "start_time": "2022-03-13T14:08:33.605Z"
   },
   {
    "duration": 5,
    "start_time": "2022-03-13T14:08:34.161Z"
   },
   {
    "duration": 16,
    "start_time": "2022-03-13T14:08:34.168Z"
   },
   {
    "duration": 23,
    "start_time": "2022-03-13T14:08:34.185Z"
   },
   {
    "duration": 8,
    "start_time": "2022-03-13T14:08:34.210Z"
   },
   {
    "duration": 360,
    "start_time": "2022-03-13T14:08:34.220Z"
   },
   {
    "duration": 1089,
    "start_time": "2022-03-13T14:08:33.494Z"
   },
   {
    "duration": 1072,
    "start_time": "2022-03-13T14:08:33.512Z"
   },
   {
    "duration": 1061,
    "start_time": "2022-03-13T14:08:33.524Z"
   },
   {
    "duration": 1049,
    "start_time": "2022-03-13T14:08:33.537Z"
   },
   {
    "duration": 1040,
    "start_time": "2022-03-13T14:08:33.547Z"
   },
   {
    "duration": 1031,
    "start_time": "2022-03-13T14:08:33.557Z"
   },
   {
    "duration": 1023,
    "start_time": "2022-03-13T14:08:33.566Z"
   },
   {
    "duration": 1013,
    "start_time": "2022-03-13T14:08:33.577Z"
   },
   {
    "duration": 990,
    "start_time": "2022-03-13T14:08:33.601Z"
   },
   {
    "duration": 983,
    "start_time": "2022-03-13T14:08:33.609Z"
   },
   {
    "duration": 966,
    "start_time": "2022-03-13T14:08:33.627Z"
   },
   {
    "duration": 957,
    "start_time": "2022-03-13T14:08:33.637Z"
   },
   {
    "duration": 951,
    "start_time": "2022-03-13T14:08:33.644Z"
   },
   {
    "duration": 944,
    "start_time": "2022-03-13T14:08:33.652Z"
   },
   {
    "duration": 939,
    "start_time": "2022-03-13T14:08:33.658Z"
   },
   {
    "duration": 933,
    "start_time": "2022-03-13T14:08:33.665Z"
   },
   {
    "duration": 926,
    "start_time": "2022-03-13T14:08:33.673Z"
   },
   {
    "duration": 919,
    "start_time": "2022-03-13T14:08:33.680Z"
   },
   {
    "duration": 913,
    "start_time": "2022-03-13T14:08:33.687Z"
   },
   {
    "duration": 907,
    "start_time": "2022-03-13T14:08:33.694Z"
   },
   {
    "duration": 885,
    "start_time": "2022-03-13T14:08:33.717Z"
   },
   {
    "duration": 10,
    "start_time": "2022-03-13T14:15:47.854Z"
   },
   {
    "duration": 10,
    "start_time": "2022-03-13T14:16:01.150Z"
   },
   {
    "duration": 321,
    "start_time": "2022-03-13T14:16:01.162Z"
   },
   {
    "duration": 1110,
    "start_time": "2022-03-13T14:16:00.376Z"
   },
   {
    "duration": 1102,
    "start_time": "2022-03-13T14:16:00.385Z"
   },
   {
    "duration": 1094,
    "start_time": "2022-03-13T14:16:00.394Z"
   },
   {
    "duration": 1086,
    "start_time": "2022-03-13T14:16:00.403Z"
   },
   {
    "duration": 1080,
    "start_time": "2022-03-13T14:16:00.410Z"
   },
   {
    "duration": 1072,
    "start_time": "2022-03-13T14:16:00.419Z"
   },
   {
    "duration": 1066,
    "start_time": "2022-03-13T14:16:00.426Z"
   },
   {
    "duration": 1058,
    "start_time": "2022-03-13T14:16:00.435Z"
   },
   {
    "duration": 1049,
    "start_time": "2022-03-13T14:16:00.445Z"
   },
   {
    "duration": 1041,
    "start_time": "2022-03-13T14:16:00.454Z"
   },
   {
    "duration": 1034,
    "start_time": "2022-03-13T14:16:00.461Z"
   },
   {
    "duration": 1010,
    "start_time": "2022-03-13T14:16:00.487Z"
   },
   {
    "duration": 1006,
    "start_time": "2022-03-13T14:16:00.492Z"
   },
   {
    "duration": 1001,
    "start_time": "2022-03-13T14:16:00.498Z"
   },
   {
    "duration": 996,
    "start_time": "2022-03-13T14:16:00.504Z"
   },
   {
    "duration": 990,
    "start_time": "2022-03-13T14:16:00.511Z"
   },
   {
    "duration": 983,
    "start_time": "2022-03-13T14:16:00.519Z"
   },
   {
    "duration": 978,
    "start_time": "2022-03-13T14:16:00.525Z"
   },
   {
    "duration": 974,
    "start_time": "2022-03-13T14:16:00.530Z"
   },
   {
    "duration": 965,
    "start_time": "2022-03-13T14:16:00.539Z"
   },
   {
    "duration": 10,
    "start_time": "2022-03-13T14:17:07.344Z"
   },
   {
    "duration": 11,
    "start_time": "2022-03-13T14:18:17.296Z"
   },
   {
    "duration": 8,
    "start_time": "2022-03-13T14:18:19.870Z"
   },
   {
    "duration": 11,
    "start_time": "2022-03-13T14:18:24.358Z"
   },
   {
    "duration": 10,
    "start_time": "2022-03-13T14:18:31.351Z"
   },
   {
    "duration": 9,
    "start_time": "2022-03-13T14:18:32.175Z"
   },
   {
    "duration": 10,
    "start_time": "2022-03-13T14:18:33.242Z"
   },
   {
    "duration": 21,
    "start_time": "2022-03-13T14:18:39.470Z"
   },
   {
    "duration": 3,
    "start_time": "2022-03-13T14:18:46.655Z"
   },
   {
    "duration": 165,
    "start_time": "2022-03-13T14:18:46.662Z"
   },
   {
    "duration": 2,
    "start_time": "2022-03-13T14:18:46.829Z"
   },
   {
    "duration": 4,
    "start_time": "2022-03-13T14:18:46.833Z"
   },
   {
    "duration": 11,
    "start_time": "2022-03-13T14:18:46.839Z"
   },
   {
    "duration": 11,
    "start_time": "2022-03-13T14:18:46.851Z"
   },
   {
    "duration": 13,
    "start_time": "2022-03-13T14:18:46.863Z"
   },
   {
    "duration": 24,
    "start_time": "2022-03-13T14:18:46.877Z"
   },
   {
    "duration": 11,
    "start_time": "2022-03-13T14:18:46.904Z"
   },
   {
    "duration": 5,
    "start_time": "2022-03-13T14:18:46.917Z"
   },
   {
    "duration": 7,
    "start_time": "2022-03-13T14:18:46.923Z"
   },
   {
    "duration": 10,
    "start_time": "2022-03-13T14:18:46.931Z"
   },
   {
    "duration": 7,
    "start_time": "2022-03-13T14:18:46.942Z"
   },
   {
    "duration": 9,
    "start_time": "2022-03-13T14:18:46.951Z"
   },
   {
    "duration": 13,
    "start_time": "2022-03-13T14:18:46.962Z"
   },
   {
    "duration": 16,
    "start_time": "2022-03-13T14:18:47.001Z"
   },
   {
    "duration": 5,
    "start_time": "2022-03-13T14:18:47.018Z"
   },
   {
    "duration": 10,
    "start_time": "2022-03-13T14:18:47.025Z"
   },
   {
    "duration": 7,
    "start_time": "2022-03-13T14:18:47.036Z"
   },
   {
    "duration": 9,
    "start_time": "2022-03-13T14:18:47.044Z"
   },
   {
    "duration": 7,
    "start_time": "2022-03-13T14:18:47.055Z"
   },
   {
    "duration": 15,
    "start_time": "2022-03-13T14:18:47.063Z"
   },
   {
    "duration": 5,
    "start_time": "2022-03-13T14:18:47.080Z"
   },
   {
    "duration": 6,
    "start_time": "2022-03-13T14:18:47.103Z"
   },
   {
    "duration": 16,
    "start_time": "2022-03-13T14:18:47.111Z"
   },
   {
    "duration": 12,
    "start_time": "2022-03-13T14:18:47.129Z"
   },
   {
    "duration": 11,
    "start_time": "2022-03-13T14:18:47.142Z"
   },
   {
    "duration": 7,
    "start_time": "2022-03-13T14:18:47.154Z"
   },
   {
    "duration": 12,
    "start_time": "2022-03-13T14:18:47.163Z"
   },
   {
    "duration": 6,
    "start_time": "2022-03-13T14:18:47.176Z"
   },
   {
    "duration": 10,
    "start_time": "2022-03-13T14:18:47.183Z"
   },
   {
    "duration": 14,
    "start_time": "2022-03-13T14:18:47.194Z"
   },
   {
    "duration": 7,
    "start_time": "2022-03-13T14:18:47.209Z"
   },
   {
    "duration": 13,
    "start_time": "2022-03-13T14:18:47.217Z"
   },
   {
    "duration": 26,
    "start_time": "2022-03-13T14:18:47.231Z"
   },
   {
    "duration": 450,
    "start_time": "2022-03-13T14:18:47.259Z"
   },
   {
    "duration": 21,
    "start_time": "2022-03-13T14:18:47.711Z"
   },
   {
    "duration": 9,
    "start_time": "2022-03-13T14:18:47.734Z"
   },
   {
    "duration": 4,
    "start_time": "2022-03-13T14:18:47.744Z"
   },
   {
    "duration": 15,
    "start_time": "2022-03-13T14:18:47.749Z"
   },
   {
    "duration": 53,
    "start_time": "2022-03-13T14:18:47.765Z"
   },
   {
    "duration": 21,
    "start_time": "2022-03-13T14:18:47.820Z"
   },
   {
    "duration": 24,
    "start_time": "2022-03-13T14:18:47.843Z"
   },
   {
    "duration": 17,
    "start_time": "2022-03-13T14:18:47.869Z"
   },
   {
    "duration": 4,
    "start_time": "2022-03-13T14:18:47.901Z"
   },
   {
    "duration": 12,
    "start_time": "2022-03-13T14:18:47.906Z"
   },
   {
    "duration": 455,
    "start_time": "2022-03-13T14:18:47.920Z"
   },
   {
    "duration": 10,
    "start_time": "2022-03-13T14:18:48.376Z"
   },
   {
    "duration": 21,
    "start_time": "2022-03-13T14:18:48.388Z"
   },
   {
    "duration": 446,
    "start_time": "2022-03-13T14:18:48.410Z"
   },
   {
    "duration": 4,
    "start_time": "2022-03-13T14:18:48.858Z"
   },
   {
    "duration": 35,
    "start_time": "2022-03-13T14:18:48.863Z"
   },
   {
    "duration": 472,
    "start_time": "2022-03-13T14:18:48.900Z"
   },
   {
    "duration": 4,
    "start_time": "2022-03-13T14:18:49.374Z"
   },
   {
    "duration": 28,
    "start_time": "2022-03-13T14:18:49.380Z"
   },
   {
    "duration": 459,
    "start_time": "2022-03-13T14:18:49.410Z"
   },
   {
    "duration": 4,
    "start_time": "2022-03-13T14:18:49.871Z"
   },
   {
    "duration": 26,
    "start_time": "2022-03-13T14:18:49.876Z"
   },
   {
    "duration": 9,
    "start_time": "2022-03-13T14:18:49.903Z"
   },
   {
    "duration": 8,
    "start_time": "2022-03-13T14:18:49.914Z"
   },
   {
    "duration": 9,
    "start_time": "2022-03-13T14:18:49.924Z"
   },
   {
    "duration": 8,
    "start_time": "2022-03-13T14:18:49.935Z"
   },
   {
    "duration": 10,
    "start_time": "2022-03-13T14:18:49.945Z"
   },
   {
    "duration": 8,
    "start_time": "2022-03-13T14:18:49.957Z"
   },
   {
    "duration": 12,
    "start_time": "2022-03-13T14:18:49.966Z"
   },
   {
    "duration": 7,
    "start_time": "2022-03-13T14:18:50.001Z"
   },
   {
    "duration": 10,
    "start_time": "2022-03-13T14:18:50.010Z"
   },
   {
    "duration": 22,
    "start_time": "2022-03-13T14:18:50.021Z"
   },
   {
    "duration": 17,
    "start_time": "2022-03-13T14:19:30.830Z"
   },
   {
    "duration": 16,
    "start_time": "2022-03-13T14:19:36.799Z"
   },
   {
    "duration": 16,
    "start_time": "2022-03-13T14:19:39.055Z"
   },
   {
    "duration": 16,
    "start_time": "2022-03-13T14:19:42.699Z"
   },
   {
    "duration": 138,
    "start_time": "2022-03-13T14:19:46.425Z"
   },
   {
    "duration": 1118,
    "start_time": "2022-03-13T14:19:53.621Z"
   },
   {
    "duration": 143,
    "start_time": "2022-03-13T14:19:54.741Z"
   },
   {
    "duration": 3,
    "start_time": "2022-03-13T14:19:54.886Z"
   },
   {
    "duration": 18,
    "start_time": "2022-03-13T14:19:54.890Z"
   },
   {
    "duration": 25,
    "start_time": "2022-03-13T14:19:54.910Z"
   },
   {
    "duration": 11,
    "start_time": "2022-03-13T14:19:54.936Z"
   },
   {
    "duration": 21,
    "start_time": "2022-03-13T14:19:54.948Z"
   },
   {
    "duration": 16,
    "start_time": "2022-03-13T14:19:54.971Z"
   },
   {
    "duration": 17,
    "start_time": "2022-03-13T14:19:54.989Z"
   },
   {
    "duration": 21,
    "start_time": "2022-03-13T14:19:55.008Z"
   },
   {
    "duration": 4,
    "start_time": "2022-03-13T14:19:55.031Z"
   },
   {
    "duration": 19,
    "start_time": "2022-03-13T14:19:55.037Z"
   },
   {
    "duration": 19,
    "start_time": "2022-03-13T14:19:55.058Z"
   },
   {
    "duration": 18,
    "start_time": "2022-03-13T14:19:55.079Z"
   },
   {
    "duration": 13,
    "start_time": "2022-03-13T14:19:55.099Z"
   },
   {
    "duration": 17,
    "start_time": "2022-03-13T14:19:55.113Z"
   },
   {
    "duration": 5,
    "start_time": "2022-03-13T14:19:55.131Z"
   },
   {
    "duration": 13,
    "start_time": "2022-03-13T14:19:55.137Z"
   },
   {
    "duration": 9,
    "start_time": "2022-03-13T14:19:55.151Z"
   },
   {
    "duration": 9,
    "start_time": "2022-03-13T14:19:55.162Z"
   },
   {
    "duration": 9,
    "start_time": "2022-03-13T14:19:55.172Z"
   },
   {
    "duration": 15,
    "start_time": "2022-03-13T14:19:55.182Z"
   },
   {
    "duration": 4,
    "start_time": "2022-03-13T14:19:55.201Z"
   },
   {
    "duration": 7,
    "start_time": "2022-03-13T14:19:55.207Z"
   },
   {
    "duration": 15,
    "start_time": "2022-03-13T14:19:55.215Z"
   },
   {
    "duration": 4,
    "start_time": "2022-03-13T14:19:55.232Z"
   },
   {
    "duration": 8,
    "start_time": "2022-03-13T14:19:55.238Z"
   },
   {
    "duration": 7,
    "start_time": "2022-03-13T14:19:55.247Z"
   },
   {
    "duration": 20,
    "start_time": "2022-03-13T14:19:55.255Z"
   },
   {
    "duration": 35,
    "start_time": "2022-03-13T14:19:55.277Z"
   },
   {
    "duration": 14,
    "start_time": "2022-03-13T14:19:55.313Z"
   },
   {
    "duration": 15,
    "start_time": "2022-03-13T14:19:55.328Z"
   },
   {
    "duration": 12,
    "start_time": "2022-03-13T14:19:55.345Z"
   },
   {
    "duration": 20,
    "start_time": "2022-03-13T14:19:55.358Z"
   },
   {
    "duration": 28,
    "start_time": "2022-03-13T14:19:55.379Z"
   },
   {
    "duration": 366,
    "start_time": "2022-03-13T14:19:55.409Z"
   },
   {
    "duration": 29,
    "start_time": "2022-03-13T14:19:55.776Z"
   },
   {
    "duration": 8,
    "start_time": "2022-03-13T14:19:55.806Z"
   },
   {
    "duration": 13,
    "start_time": "2022-03-13T14:19:55.816Z"
   },
   {
    "duration": 50,
    "start_time": "2022-03-13T14:19:55.831Z"
   },
   {
    "duration": 25,
    "start_time": "2022-03-13T14:19:55.883Z"
   },
   {
    "duration": 18,
    "start_time": "2022-03-13T14:19:55.909Z"
   },
   {
    "duration": 13,
    "start_time": "2022-03-13T14:19:55.928Z"
   },
   {
    "duration": 29,
    "start_time": "2022-03-13T14:19:55.942Z"
   },
   {
    "duration": 4,
    "start_time": "2022-03-13T14:19:55.972Z"
   },
   {
    "duration": 26,
    "start_time": "2022-03-13T14:19:55.978Z"
   },
   {
    "duration": 357,
    "start_time": "2022-03-13T14:19:56.006Z"
   },
   {
    "duration": 10,
    "start_time": "2022-03-13T14:19:56.365Z"
   },
   {
    "duration": 18,
    "start_time": "2022-03-13T14:19:56.377Z"
   },
   {
    "duration": 469,
    "start_time": "2022-03-13T14:19:56.397Z"
   },
   {
    "duration": 5,
    "start_time": "2022-03-13T14:19:56.867Z"
   },
   {
    "duration": 13,
    "start_time": "2022-03-13T14:19:56.873Z"
   },
   {
    "duration": 486,
    "start_time": "2022-03-13T14:19:56.887Z"
   },
   {
    "duration": 4,
    "start_time": "2022-03-13T14:19:57.375Z"
   },
   {
    "duration": 24,
    "start_time": "2022-03-13T14:19:57.380Z"
   },
   {
    "duration": 552,
    "start_time": "2022-03-13T14:19:57.406Z"
   },
   {
    "duration": 4,
    "start_time": "2022-03-13T14:19:57.960Z"
   },
   {
    "duration": 29,
    "start_time": "2022-03-13T14:19:57.965Z"
   },
   {
    "duration": 11,
    "start_time": "2022-03-13T14:19:57.996Z"
   },
   {
    "duration": 13,
    "start_time": "2022-03-13T14:19:58.009Z"
   },
   {
    "duration": 23,
    "start_time": "2022-03-13T14:19:58.023Z"
   },
   {
    "duration": 23,
    "start_time": "2022-03-13T14:19:58.047Z"
   },
   {
    "duration": 14,
    "start_time": "2022-03-13T14:19:58.071Z"
   },
   {
    "duration": 22,
    "start_time": "2022-03-13T14:19:58.086Z"
   },
   {
    "duration": 13,
    "start_time": "2022-03-13T14:19:58.110Z"
   },
   {
    "duration": 17,
    "start_time": "2022-03-13T14:19:58.125Z"
   },
   {
    "duration": 23,
    "start_time": "2022-03-13T14:19:58.144Z"
   },
   {
    "duration": 26,
    "start_time": "2022-03-13T14:19:58.171Z"
   },
   {
    "duration": 18,
    "start_time": "2022-03-13T14:19:58.199Z"
   },
   {
    "duration": 18,
    "start_time": "2022-03-13T14:19:58.218Z"
   },
   {
    "duration": 13,
    "start_time": "2022-03-13T14:19:58.238Z"
   },
   {
    "duration": 18,
    "start_time": "2022-03-13T14:19:58.253Z"
   },
   {
    "duration": 141,
    "start_time": "2022-03-13T14:19:58.272Z"
   },
   {
    "duration": 138,
    "start_time": "2022-03-13T14:19:58.414Z"
   },
   {
    "duration": 103,
    "start_time": "2022-03-13T14:19:58.554Z"
   },
   {
    "duration": 1140,
    "start_time": "2022-03-13T14:19:57.519Z"
   },
   {
    "duration": 1130,
    "start_time": "2022-03-13T14:19:57.530Z"
   },
   {
    "duration": 1120,
    "start_time": "2022-03-13T14:19:57.541Z"
   },
   {
    "duration": 1108,
    "start_time": "2022-03-13T14:19:57.554Z"
   },
   {
    "duration": 1096,
    "start_time": "2022-03-13T14:19:57.567Z"
   },
   {
    "duration": 1086,
    "start_time": "2022-03-13T14:19:57.577Z"
   },
   {
    "duration": 134,
    "start_time": "2022-03-13T15:00:55.654Z"
   },
   {
    "duration": 138,
    "start_time": "2022-03-13T15:00:55.790Z"
   },
   {
    "duration": 397,
    "start_time": "2022-03-13T15:00:55.930Z"
   },
   {
    "duration": 726,
    "start_time": "2022-03-13T15:00:55.604Z"
   },
   {
    "duration": 719,
    "start_time": "2022-03-13T15:00:55.612Z"
   },
   {
    "duration": 713,
    "start_time": "2022-03-13T15:00:55.619Z"
   },
   {
    "duration": 317,
    "start_time": "2022-03-13T15:01:59.717Z"
   },
   {
    "duration": 9,
    "start_time": "2022-03-13T15:02:13.921Z"
   },
   {
    "duration": 4,
    "start_time": "2022-03-13T15:02:16.785Z"
   },
   {
    "duration": 330,
    "start_time": "2022-03-13T15:02:32.695Z"
   },
   {
    "duration": 8,
    "start_time": "2022-03-13T15:04:30.411Z"
   },
   {
    "duration": 6,
    "start_time": "2022-03-13T15:04:34.441Z"
   }
  ],
  "kernelspec": {
   "display_name": "Python 3 (ipykernel)",
   "language": "python",
   "name": "python3"
  },
  "language_info": {
   "codemirror_mode": {
    "name": "ipython",
    "version": 3
   },
   "file_extension": ".py",
   "mimetype": "text/x-python",
   "name": "python",
   "nbconvert_exporter": "python",
   "pygments_lexer": "ipython3",
   "version": "3.9.7"
  },
  "toc": {
   "base_numbering": 1,
   "nav_menu": {},
   "number_sections": true,
   "sideBar": true,
   "skip_h1_title": true,
   "title_cell": "Table of Contents",
   "title_sidebar": "Contents",
   "toc_cell": false,
   "toc_position": {
    "height": "calc(100% - 180px)",
    "left": "10px",
    "top": "150px",
    "width": "165px"
   },
   "toc_section_display": true,
   "toc_window_display": true
  }
 },
 "nbformat": 4,
 "nbformat_minor": 5
}
