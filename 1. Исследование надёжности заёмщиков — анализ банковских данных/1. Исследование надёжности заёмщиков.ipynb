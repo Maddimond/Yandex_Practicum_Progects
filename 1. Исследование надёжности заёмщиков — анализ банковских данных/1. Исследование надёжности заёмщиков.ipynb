{
 "cells": [
  {
   "cell_type": "markdown",
   "metadata": {},
   "source": [
    "# Исследование надёжности заёмщиков\n",
    "\n",
    "Заказчик — кредитный отдел банка. Нужно разобраться, влияет ли семейное положение и количество детей клиента на факт погашения кредита в срок. Входные данные от банка — статистика о платёжеспособности клиентов.\n",
    "\n",
    "Результаты исследования будут учтены при построении модели **кредитного скоринга** — специальной системы, которая оценивает способность потенциального заёмщика вернуть кредит банку."
   ]
  },
  {
   "cell_type": "markdown",
   "metadata": {},
   "source": [
    "## Шаг 1. Откройте файл с данными и изучите общую информацию"
   ]
  },
  {
   "cell_type": "code",
   "execution_count": 1,
   "metadata": {},
   "outputs": [
    {
     "data": {
      "text/html": [
       "<div>\n",
       "<style scoped>\n",
       "    .dataframe tbody tr th:only-of-type {\n",
       "        vertical-align: middle;\n",
       "    }\n",
       "\n",
       "    .dataframe tbody tr th {\n",
       "        vertical-align: top;\n",
       "    }\n",
       "\n",
       "    .dataframe thead th {\n",
       "        text-align: right;\n",
       "    }\n",
       "</style>\n",
       "<table border=\"1\" class=\"dataframe\">\n",
       "  <thead>\n",
       "    <tr style=\"text-align: right;\">\n",
       "      <th></th>\n",
       "      <th>children</th>\n",
       "      <th>days_employed</th>\n",
       "      <th>dob_years</th>\n",
       "      <th>education</th>\n",
       "      <th>education_id</th>\n",
       "      <th>family_status</th>\n",
       "      <th>family_status_id</th>\n",
       "      <th>gender</th>\n",
       "      <th>income_type</th>\n",
       "      <th>debt</th>\n",
       "      <th>total_income</th>\n",
       "      <th>purpose</th>\n",
       "    </tr>\n",
       "  </thead>\n",
       "  <tbody>\n",
       "    <tr>\n",
       "      <td>0</td>\n",
       "      <td>1</td>\n",
       "      <td>-8437.673028</td>\n",
       "      <td>42</td>\n",
       "      <td>высшее</td>\n",
       "      <td>0</td>\n",
       "      <td>женат / замужем</td>\n",
       "      <td>0</td>\n",
       "      <td>F</td>\n",
       "      <td>сотрудник</td>\n",
       "      <td>0</td>\n",
       "      <td>253875.639453</td>\n",
       "      <td>покупка жилья</td>\n",
       "    </tr>\n",
       "    <tr>\n",
       "      <td>1</td>\n",
       "      <td>1</td>\n",
       "      <td>-4024.803754</td>\n",
       "      <td>36</td>\n",
       "      <td>среднее</td>\n",
       "      <td>1</td>\n",
       "      <td>женат / замужем</td>\n",
       "      <td>0</td>\n",
       "      <td>F</td>\n",
       "      <td>сотрудник</td>\n",
       "      <td>0</td>\n",
       "      <td>112080.014102</td>\n",
       "      <td>приобретение автомобиля</td>\n",
       "    </tr>\n",
       "    <tr>\n",
       "      <td>2</td>\n",
       "      <td>0</td>\n",
       "      <td>-5623.422610</td>\n",
       "      <td>33</td>\n",
       "      <td>Среднее</td>\n",
       "      <td>1</td>\n",
       "      <td>женат / замужем</td>\n",
       "      <td>0</td>\n",
       "      <td>M</td>\n",
       "      <td>сотрудник</td>\n",
       "      <td>0</td>\n",
       "      <td>145885.952297</td>\n",
       "      <td>покупка жилья</td>\n",
       "    </tr>\n",
       "    <tr>\n",
       "      <td>3</td>\n",
       "      <td>3</td>\n",
       "      <td>-4124.747207</td>\n",
       "      <td>32</td>\n",
       "      <td>среднее</td>\n",
       "      <td>1</td>\n",
       "      <td>женат / замужем</td>\n",
       "      <td>0</td>\n",
       "      <td>M</td>\n",
       "      <td>сотрудник</td>\n",
       "      <td>0</td>\n",
       "      <td>267628.550329</td>\n",
       "      <td>дополнительное образование</td>\n",
       "    </tr>\n",
       "    <tr>\n",
       "      <td>4</td>\n",
       "      <td>0</td>\n",
       "      <td>340266.072047</td>\n",
       "      <td>53</td>\n",
       "      <td>среднее</td>\n",
       "      <td>1</td>\n",
       "      <td>гражданский брак</td>\n",
       "      <td>1</td>\n",
       "      <td>F</td>\n",
       "      <td>пенсионер</td>\n",
       "      <td>0</td>\n",
       "      <td>158616.077870</td>\n",
       "      <td>сыграть свадьбу</td>\n",
       "    </tr>\n",
       "  </tbody>\n",
       "</table>\n",
       "</div>"
      ],
      "text/plain": [
       "   children  days_employed  dob_years education  education_id  \\\n",
       "0         1   -8437.673028         42    высшее             0   \n",
       "1         1   -4024.803754         36   среднее             1   \n",
       "2         0   -5623.422610         33   Среднее             1   \n",
       "3         3   -4124.747207         32   среднее             1   \n",
       "4         0  340266.072047         53   среднее             1   \n",
       "\n",
       "      family_status  family_status_id gender income_type  debt   total_income  \\\n",
       "0   женат / замужем                 0      F   сотрудник     0  253875.639453   \n",
       "1   женат / замужем                 0      F   сотрудник     0  112080.014102   \n",
       "2   женат / замужем                 0      M   сотрудник     0  145885.952297   \n",
       "3   женат / замужем                 0      M   сотрудник     0  267628.550329   \n",
       "4  гражданский брак                 1      F   пенсионер     0  158616.077870   \n",
       "\n",
       "                      purpose  \n",
       "0               покупка жилья  \n",
       "1     приобретение автомобиля  \n",
       "2               покупка жилья  \n",
       "3  дополнительное образование  \n",
       "4             сыграть свадьбу  "
      ]
     },
     "metadata": {},
     "output_type": "display_data"
    },
    {
     "name": "stdout",
     "output_type": "stream",
     "text": [
      "\n",
      "<class 'pandas.core.frame.DataFrame'>\n",
      "RangeIndex: 21525 entries, 0 to 21524\n",
      "Data columns (total 12 columns):\n",
      "children            21525 non-null int64\n",
      "days_employed       19351 non-null float64\n",
      "dob_years           21525 non-null int64\n",
      "education           21525 non-null object\n",
      "education_id        21525 non-null int64\n",
      "family_status       21525 non-null object\n",
      "family_status_id    21525 non-null int64\n",
      "gender              21525 non-null object\n",
      "income_type         21525 non-null object\n",
      "debt                21525 non-null int64\n",
      "total_income        19351 non-null float64\n",
      "purpose             21525 non-null object\n",
      "dtypes: float64(2), int64(5), object(5)\n",
      "memory usage: 2.0+ MB\n"
     ]
    }
   ],
   "source": [
    "import pandas as pd\n",
    "df = pd.read_csv('/datasets/data.csv')\n",
    "display(df.head(5))\n",
    "print()\n",
    "df.info()"
   ]
  },
  {
   "cell_type": "markdown",
   "metadata": {},
   "source": [
    "**Вывод**"
   ]
  },
  {
   "cell_type": "markdown",
   "metadata": {},
   "source": [
    "Всего 21525 записей (строк). В столбцах: 'days_employed' и 'total_income' имеются пропуски. в столбце - 'days_employed' имеются отрицательные значения и тип данных float. данные пропуски могут возникнуть из-за того либо клиент не указал данные, либо ошибка при выгрузке. Отрицательные значения в столбце - 'days_employed' появились из-за некарректного исчисления стажа."
   ]
  },
  {
   "cell_type": "markdown",
   "metadata": {},
   "source": [
    "## Шаг 2. Предобработка данных"
   ]
  },
  {
   "cell_type": "markdown",
   "metadata": {},
   "source": [
    "### Обработка пропусков"
   ]
  },
  {
   "cell_type": "code",
   "execution_count": 2,
   "metadata": {},
   "outputs": [
    {
     "name": "stdout",
     "output_type": "stream",
     "text": [
      "children               0\n",
      "days_employed       2174\n",
      "dob_years              0\n",
      "education              0\n",
      "education_id           0\n",
      "family_status          0\n",
      "family_status_id       0\n",
      "gender                 0\n",
      "income_type            0\n",
      "debt                   0\n",
      "total_income        2174\n",
      "purpose                0\n",
      "dtype: int64\n",
      "\n",
      "\n",
      "children            0\n",
      "days_employed       0\n",
      "dob_years           0\n",
      "education           0\n",
      "education_id        0\n",
      "family_status       0\n",
      "family_status_id    0\n",
      "gender              0\n",
      "income_type         0\n",
      "debt                0\n",
      "total_income        0\n",
      "purpose             0\n",
      "dtype: int64\n",
      "\n",
      "\n",
      "['сотрудник' 'пенсионер' 'компаньон' 'госслужащий' 'безработный'\n",
      " 'предприниматель' 'студент' 'в декрете']\n",
      "\n",
      "['высшее' 'среднее' 'Среднее' 'СРЕДНЕЕ' 'ВЫСШЕЕ' 'неоконченное высшее'\n",
      " 'начальное' 'Высшее' 'НЕОКОНЧЕННОЕ ВЫСШЕЕ' 'Неоконченное высшее'\n",
      " 'НАЧАЛЬНОЕ' 'Начальное' 'Ученая степень' 'УЧЕНАЯ СТЕПЕНЬ'\n",
      " 'ученая степень']\n",
      "\n",
      "['женат / замужем' 'гражданский брак' 'вдовец / вдова' 'в разводе'\n",
      " 'Не женат / не замужем']\n",
      "\n",
      "Количество сотрудников: 11119\n",
      "Количество пенсионеров: 3856\n",
      "Количество компаньонов: 5085\n",
      "Количество госслужащих: 1459\n",
      "Количество безработных: 2\n",
      "Количество предпринимателей: 2\n",
      "Количество студентов: 1\n",
      "Количество в декрете: 1\n",
      "\n",
      "[ 1  0  3  2 -1  4 20  5]\n",
      "\n",
      "Процент строк с некорректными данными количества детей: 0.57%\n",
      "\n",
      "[1 0 3 2 4 5]\n"
     ]
    }
   ],
   "source": [
    "#Провера пропущеных знчений\n",
    "print(df.isna().sum())\n",
    "print()\n",
    "# заполнение пропущенныхсначением -0\n",
    "df = df.fillna(0)\n",
    "print()\n",
    "# проверка\n",
    "print(df.isna().sum())\n",
    "print()\n",
    "# удаление пропущенных значений\n",
    "df.dropna()\n",
    "print()\n",
    "# изучаю униакльные значения по конретным столбцам\n",
    "print(df['income_type'].unique())\n",
    "print()\n",
    "print(df['education'].unique())\n",
    "print()\n",
    "print(df['family_status'].unique())\n",
    "print()\n",
    "#подсчитываю количество по категориям в столбце incom_type\n",
    "print('Количество сотрудников:', df[df['income_type']== 'сотрудник']['income_type'].count())\n",
    "print('Количество пенсионеров:', df[df['income_type']== 'пенсионер']['income_type'].count())\n",
    "print('Количество компаньонов:', df[df['income_type']== 'компаньон']['income_type'].count())\n",
    "print('Количество госслужащих:', df[df['income_type']== 'госслужащий']['income_type'].count())\n",
    "print('Количество безработных:', df[df['income_type']== 'безработный']['income_type'].count())\n",
    "print('Количество предпринимателей:', df[df['income_type']== 'предприниматель']['income_type'].count())\n",
    "print('Количество студентов:', df[df['income_type']== 'студент']['income_type'].count())\n",
    "print('Количество в декрете:', df[df['income_type']== 'в декрете']['income_type'].count())\n",
    "print()\n",
    "\n",
    "\n",
    "# узнаю уникальные значения в столбце children\n",
    "print(df['children'].unique())\n",
    "print()\n",
    "print('Процент строк с некорректными данными количества детей: {:.2%}'.format((df[df['children'] == -1]['children'].count() + df[df['children'] == 20]['children'].count()) / df['children'].count()))\n",
    "print()\n",
    "\n",
    "#удаляю строки с некорректными данными\n",
    "df = df[df['children'] != 20]\n",
    "df = df[df['children'] != -1]\n",
    "#повторно проверяю уникальные значения в столбце children\n",
    "print(df['children'].unique())"
   ]
  },
  {
   "cell_type": "markdown",
   "metadata": {},
   "source": [
    "**Вывод**"
   ]
  },
  {
   "cell_type": "markdown",
   "metadata": {},
   "source": [
    "В таблицах: 'days_employed' и 'total_income' имеются пропуски в колчестве 2174 строк, которые заполнили - 0.вывил все уникальные знаения по конкретным столбцам. Проверил остались ли пропуски. Подсчитал и вывел для просмотра все категории по столбцу 'income-type'. обнаружил отрицатеьные значения детей и  сильный выброс количества детей у клиентов. тк  их общее коичество составляет 0.57% - то эти значения можно не учитывать"
   ]
  },
  {
   "cell_type": "markdown",
   "metadata": {},
   "source": [
    "### Замена типа данных"
   ]
  },
  {
   "cell_type": "code",
   "execution_count": 3,
   "metadata": {},
   "outputs": [
    {
     "data": {
      "text/html": [
       "<div>\n",
       "<style scoped>\n",
       "    .dataframe tbody tr th:only-of-type {\n",
       "        vertical-align: middle;\n",
       "    }\n",
       "\n",
       "    .dataframe tbody tr th {\n",
       "        vertical-align: top;\n",
       "    }\n",
       "\n",
       "    .dataframe thead th {\n",
       "        text-align: right;\n",
       "    }\n",
       "</style>\n",
       "<table border=\"1\" class=\"dataframe\">\n",
       "  <thead>\n",
       "    <tr style=\"text-align: right;\">\n",
       "      <th></th>\n",
       "      <th>children</th>\n",
       "      <th>days_employed</th>\n",
       "      <th>dob_years</th>\n",
       "      <th>education</th>\n",
       "      <th>education_id</th>\n",
       "      <th>family_status</th>\n",
       "      <th>family_status_id</th>\n",
       "      <th>gender</th>\n",
       "      <th>income_type</th>\n",
       "      <th>debt</th>\n",
       "      <th>total_income</th>\n",
       "      <th>purpose</th>\n",
       "    </tr>\n",
       "  </thead>\n",
       "  <tbody>\n",
       "    <tr>\n",
       "      <td>0</td>\n",
       "      <td>1</td>\n",
       "      <td>-8437</td>\n",
       "      <td>42</td>\n",
       "      <td>высшее</td>\n",
       "      <td>0</td>\n",
       "      <td>женат / замужем</td>\n",
       "      <td>0</td>\n",
       "      <td>F</td>\n",
       "      <td>сотрудник</td>\n",
       "      <td>0</td>\n",
       "      <td>253875</td>\n",
       "      <td>покупка жилья</td>\n",
       "    </tr>\n",
       "    <tr>\n",
       "      <td>1</td>\n",
       "      <td>1</td>\n",
       "      <td>-4024</td>\n",
       "      <td>36</td>\n",
       "      <td>среднее</td>\n",
       "      <td>1</td>\n",
       "      <td>женат / замужем</td>\n",
       "      <td>0</td>\n",
       "      <td>F</td>\n",
       "      <td>сотрудник</td>\n",
       "      <td>0</td>\n",
       "      <td>112080</td>\n",
       "      <td>приобретение автомобиля</td>\n",
       "    </tr>\n",
       "    <tr>\n",
       "      <td>2</td>\n",
       "      <td>0</td>\n",
       "      <td>-5623</td>\n",
       "      <td>33</td>\n",
       "      <td>Среднее</td>\n",
       "      <td>1</td>\n",
       "      <td>женат / замужем</td>\n",
       "      <td>0</td>\n",
       "      <td>M</td>\n",
       "      <td>сотрудник</td>\n",
       "      <td>0</td>\n",
       "      <td>145885</td>\n",
       "      <td>покупка жилья</td>\n",
       "    </tr>\n",
       "    <tr>\n",
       "      <td>3</td>\n",
       "      <td>3</td>\n",
       "      <td>-4124</td>\n",
       "      <td>32</td>\n",
       "      <td>среднее</td>\n",
       "      <td>1</td>\n",
       "      <td>женат / замужем</td>\n",
       "      <td>0</td>\n",
       "      <td>M</td>\n",
       "      <td>сотрудник</td>\n",
       "      <td>0</td>\n",
       "      <td>267628</td>\n",
       "      <td>дополнительное образование</td>\n",
       "    </tr>\n",
       "    <tr>\n",
       "      <td>4</td>\n",
       "      <td>0</td>\n",
       "      <td>340266</td>\n",
       "      <td>53</td>\n",
       "      <td>среднее</td>\n",
       "      <td>1</td>\n",
       "      <td>гражданский брак</td>\n",
       "      <td>1</td>\n",
       "      <td>F</td>\n",
       "      <td>пенсионер</td>\n",
       "      <td>0</td>\n",
       "      <td>158616</td>\n",
       "      <td>сыграть свадьбу</td>\n",
       "    </tr>\n",
       "  </tbody>\n",
       "</table>\n",
       "</div>"
      ],
      "text/plain": [
       "   children  days_employed  dob_years education  education_id  \\\n",
       "0         1          -8437         42    высшее             0   \n",
       "1         1          -4024         36   среднее             1   \n",
       "2         0          -5623         33   Среднее             1   \n",
       "3         3          -4124         32   среднее             1   \n",
       "4         0         340266         53   среднее             1   \n",
       "\n",
       "      family_status  family_status_id gender income_type  debt  total_income  \\\n",
       "0   женат / замужем                 0      F   сотрудник     0        253875   \n",
       "1   женат / замужем                 0      F   сотрудник     0        112080   \n",
       "2   женат / замужем                 0      M   сотрудник     0        145885   \n",
       "3   женат / замужем                 0      M   сотрудник     0        267628   \n",
       "4  гражданский брак                 1      F   пенсионер     0        158616   \n",
       "\n",
       "                      purpose  \n",
       "0               покупка жилья  \n",
       "1     приобретение автомобиля  \n",
       "2               покупка жилья  \n",
       "3  дополнительное образование  \n",
       "4             сыграть свадьбу  "
      ]
     },
     "metadata": {},
     "output_type": "display_data"
    },
    {
     "data": {
      "text/plain": [
       "children             int64\n",
       "days_employed        int64\n",
       "dob_years            int64\n",
       "education           object\n",
       "education_id         int64\n",
       "family_status       object\n",
       "family_status_id     int64\n",
       "gender              object\n",
       "income_type         object\n",
       "debt                 int64\n",
       "total_income         int64\n",
       "purpose             object\n",
       "dtype: object"
      ]
     },
     "execution_count": 3,
     "metadata": {},
     "output_type": "execute_result"
    }
   ],
   "source": [
    "# тк данные  представлены в виде рациональных чисел использую данный метод изменения типа данных в целочисленный\n",
    "df = df.astype({'days_employed': int, 'total_income': int})\n",
    "display(df.head(5)) #проверил изменение типа данных в столбцах 'days_employed' и 'total_income'\n",
    "df.dtypes"
   ]
  },
  {
   "cell_type": "markdown",
   "metadata": {},
   "source": [
    "**Вывод**"
   ]
  },
  {
   "cell_type": "markdown",
   "metadata": {},
   "source": [
    "изменил типы данных на целочисленный и вывел информацию о типах данных в таблице"
   ]
  },
  {
   "cell_type": "markdown",
   "metadata": {},
   "source": [
    "### Обработка дубликатов"
   ]
  },
  {
   "cell_type": "code",
   "execution_count": 4,
   "metadata": {
    "scrolled": false
   },
   "outputs": [
    {
     "name": "stdout",
     "output_type": "stream",
     "text": [
      "['высшее' 'среднее' 'неоконченное высшее' 'начальное' 'ученая степень']\n",
      "\n",
      "\n",
      "71\n",
      "\n",
      "0\n",
      "\n",
      "медианный доход сотрудников: 133885.0\n",
      "медианный доход пенсионеров: 110779.5\n",
      "медианный доход компаньонов: 162513.0\n",
      "медианный доход госслужащего: 139304.0\n",
      "\n",
      "\n",
      "считаем пустые значения в столбце total_income по отфильтрованным сотрудникам: 1066\n",
      "считаем пустые значения в столбце total_income по отфильтрованным пенсионерам: 383\n",
      "считаем пустые значения в столбце total_income по отфильтрованным компаньонам: 497\n",
      "считаем пустые значения в столбце total_income  по отфильтрованным госслужащим: 144\n",
      "\n",
      "\n",
      "перепроверка:\n",
      "0\n",
      "0\n",
      "0\n",
      "0\n"
     ]
    }
   ],
   "source": [
    "# привел все значения в колоннке 'education' к одному регистру\n",
    "df['education'] = df['education'].str.lower()\n",
    "# проверил уникальные значения в колонке 'education'\n",
    "print(df['education'].unique())\n",
    "print()\n",
    "print()\n",
    "#посчитал количество дубликатов\n",
    "print(df.duplicated().sum())\n",
    "print()\n",
    "# удалил все дубликаты\n",
    "df = df.drop_duplicates().reset_index(drop = True)\n",
    "print(df.duplicated().sum())\n",
    "print()\n",
    "#  отфильтровал всех по категориям 'total_income'  и заполнил все нулевые значения - медианными знаениями\n",
    "median_income_emploee = df[df['income_type'] == 'сотрудник']['total_income'].median()\n",
    "print('медианный доход сотрудников:', median_income_emploee)\n",
    "median_income_retiree = df[df['income_type'] == 'пенсионер']['total_income'].median()\n",
    "print('медианный доход пенсионеров:', median_income_retiree)\n",
    "median_income_companion = df[df['income_type'] == 'компаньон']['total_income'].median()\n",
    "print('медианный доход компаньонов:', median_income_companion)\n",
    "median_income_sivil_servant = df[df['income_type'] == 'госслужащий']['total_income'].median()\n",
    "print('медианный доход госслужащего:', median_income_sivil_servant)\n",
    "print()\n",
    "print()\n",
    "print('считаем пустые значения в столбце total_income по отфильтрованным сотрудникам:', df[(df['income_type'] == 'сотрудник') & (df['total_income'] == 0)]['income_type'].count())\n",
    "print('считаем пустые значения в столбце total_income по отфильтрованным пенсионерам:', df[(df['income_type'] == 'пенсионер') & (df['total_income'] == 0)]['income_type'].count())\n",
    "print('считаем пустые значения в столбце total_income по отфильтрованным компаньонам:', df[(df['income_type'] == 'компаньон') & (df['total_income'] == 0)]['income_type'].count())\n",
    "print('считаем пустые значения в столбце total_income  по отфильтрованным госслужащим:', df[(df['income_type'] == 'госслужащий') & (df['total_income'] == 0)]['income_type'].count())\n",
    "print()\n",
    "print()\n",
    "# заменяю все нулевые значения намедианные\n",
    "df.loc[((df['income_type'] == 'сотрудник') & (df['total_income'] == 0)), 'total_income'] = median_income_emploee \n",
    "df.loc[((df['income_type'] == 'пенсионер') & (df['total_income'] == 0)), 'total_income'] = median_income_emploee\n",
    "df.loc[((df['income_type'] == 'компаньон') & (df['total_income'] == 0)), 'total_income'] = median_income_emploee\n",
    "df.loc[((df['income_type'] == 'госслужащий') & (df['total_income'] == 0)), 'total_income'] = median_income_emploee\n",
    "\n",
    "print('перепроверка:')\n",
    "print(df[(df['income_type'] == 'сотрудник') & (df['total_income'] == 0)]['income_type'].count())\n",
    "print(df[(df['income_type'] == 'пенсионер') & (df['total_income'] == 0)]['income_type'].count())\n",
    "print(df[(df['income_type'] == 'компаньон') & (df['total_income'] == 0)]['income_type'].count())\n",
    "print(df[(df['income_type'] == 'госслужащий') & (df['total_income'] == 0)]['income_type'].count())\n"
   ]
  },
  {
   "cell_type": "markdown",
   "metadata": {},
   "source": [
    "**Вывод**"
   ]
  },
  {
   "cell_type": "markdown",
   "metadata": {},
   "source": [
    "Проверил наличие дубликатов. Удалил дубликаты и сбросил индексацию. Убедился что дубликатов нет.Посчитал медианный доход для всех котегорий и заполнил нулевые котегории медианным значением дохода.\n",
    "Дубликаты могли возникнуть из за того что данные были представлены в разных регистрах, ошибок при заполнении датасети и/или при выгрузке.\n",
    "\n",
    "нулевое значение в income_type у одного предпринемателя из 2-х не повредит анализу, по этому не заполняюю это нулевое значение."
   ]
  },
  {
   "cell_type": "markdown",
   "metadata": {},
   "source": [
    "### Лемматизация"
   ]
  },
  {
   "cell_type": "code",
   "execution_count": 12,
   "metadata": {},
   "outputs": [
    {
     "name": "stdout",
     "output_type": "stream",
     "text": [
      "['покупка', ' ', 'жилье', '\\n', 'приобретение', ' ', 'автомобиль', '\\n', 'дополнительный', ' ', 'образование', '\\n', 'сыграть', ' ', 'свадьба', '\\n', 'операция', ' ', 'с', ' ', 'жилье', '\\n', 'образование', '\\n', 'на', ' ', 'проведение', ' ', 'свадьба', '\\n', 'покупка', ' ', 'жилье', ' ', 'для', ' ', 'семья', '\\n', 'покупка', ' ', 'недвижимость', '\\n', 'покупка', ' ', 'коммерческий', ' ', 'недвижимость', '\\n', 'покупка', ' ', 'жилой', ' ', 'недвижимость', '\\n', 'строительство', ' ', 'собственный', ' ', 'недвижимость', '\\n', 'недвижимость', '\\n', 'строительство', ' ', 'недвижимость', '\\n', 'на', ' ', 'покупка', ' ', 'подержать', ' ', 'автомобиль', '\\n', 'на', ' ', 'покупка', ' ', 'свой', ' ', 'автомобиль', '\\n', 'операция', ' ', 'с', ' ', 'коммерческий', ' ', 'недвижимость', '\\n', 'строительство', ' ', 'жилой', ' ', 'недвижимость', '\\n', 'жилье', '\\n', 'операция', ' ', 'со', ' ', 'свой', ' ', 'недвижимость', '\\n', 'автомобиль', '\\n', 'заниматься', ' ', 'образование', '\\n', 'сделка', ' ', 'с', ' ', 'подержанный', ' ', 'автомобиль', '\\n', 'получение', ' ', 'образование', '\\n', 'автомобиль', '\\n', 'свадьба', '\\n', 'получение', ' ', 'дополнительный', ' ', 'образование', '\\n', 'покупка', ' ', 'свой', ' ', 'жилье', '\\n', 'операция', ' ', 'с', ' ', 'недвижимость', '\\n', 'получение', ' ', 'высокий', ' ', 'образование', '\\n', 'свой', ' ', 'автомобиль', '\\n', 'сделка', ' ', 'с', ' ', 'автомобиль', '\\n', 'профильный', ' ', 'образование', '\\n', 'высокий', ' ', 'образование', '\\n', 'покупка', ' ', 'жилье', ' ', 'для', ' ', 'сдача', '\\n', 'на', ' ', 'покупка', ' ', 'автомобиль', '\\n', 'ремонт', ' ', 'жилье', '\\n', 'заниматься', ' ', 'высокий', ' ', 'образование', '\\n']\n"
     ]
    },
    {
     "data": {
      "text/html": [
       "<div>\n",
       "<style scoped>\n",
       "    .dataframe tbody tr th:only-of-type {\n",
       "        vertical-align: middle;\n",
       "    }\n",
       "\n",
       "    .dataframe tbody tr th {\n",
       "        vertical-align: top;\n",
       "    }\n",
       "\n",
       "    .dataframe thead th {\n",
       "        text-align: right;\n",
       "    }\n",
       "</style>\n",
       "<table border=\"1\" class=\"dataframe\">\n",
       "  <thead>\n",
       "    <tr style=\"text-align: right;\">\n",
       "      <th></th>\n",
       "      <th>children</th>\n",
       "      <th>days_employed</th>\n",
       "      <th>dob_years</th>\n",
       "      <th>education</th>\n",
       "      <th>education_id</th>\n",
       "      <th>family_status</th>\n",
       "      <th>family_status_id</th>\n",
       "      <th>gender</th>\n",
       "      <th>income_type</th>\n",
       "      <th>debt</th>\n",
       "      <th>total_income</th>\n",
       "      <th>purpose</th>\n",
       "      <th>lemmatize_purpose</th>\n",
       "      <th>categ_income</th>\n",
       "    </tr>\n",
       "  </thead>\n",
       "  <tbody>\n",
       "    <tr>\n",
       "      <td>21321</td>\n",
       "      <td>1</td>\n",
       "      <td>-467</td>\n",
       "      <td>28</td>\n",
       "      <td>среднее</td>\n",
       "      <td>1</td>\n",
       "      <td>женат / замужем</td>\n",
       "      <td>0</td>\n",
       "      <td>F</td>\n",
       "      <td>сотрудник</td>\n",
       "      <td>1</td>\n",
       "      <td>109486.0</td>\n",
       "      <td>заняться образованием</td>\n",
       "      <td>образование</td>\n",
       "      <td>средний доход</td>\n",
       "    </tr>\n",
       "    <tr>\n",
       "      <td>21322</td>\n",
       "      <td>0</td>\n",
       "      <td>-914</td>\n",
       "      <td>42</td>\n",
       "      <td>высшее</td>\n",
       "      <td>0</td>\n",
       "      <td>женат / замужем</td>\n",
       "      <td>0</td>\n",
       "      <td>F</td>\n",
       "      <td>компаньон</td>\n",
       "      <td>0</td>\n",
       "      <td>322807.0</td>\n",
       "      <td>покупка своего жилья</td>\n",
       "      <td>недвижимость</td>\n",
       "      <td>средний доход</td>\n",
       "    </tr>\n",
       "    <tr>\n",
       "      <td>21323</td>\n",
       "      <td>0</td>\n",
       "      <td>-404</td>\n",
       "      <td>42</td>\n",
       "      <td>высшее</td>\n",
       "      <td>0</td>\n",
       "      <td>гражданский брак</td>\n",
       "      <td>1</td>\n",
       "      <td>F</td>\n",
       "      <td>компаньон</td>\n",
       "      <td>0</td>\n",
       "      <td>178059.0</td>\n",
       "      <td>на покупку своего автомобиля</td>\n",
       "      <td>автомобиль</td>\n",
       "      <td>средний доход</td>\n",
       "    </tr>\n",
       "    <tr>\n",
       "      <td>21324</td>\n",
       "      <td>0</td>\n",
       "      <td>373995</td>\n",
       "      <td>59</td>\n",
       "      <td>среднее</td>\n",
       "      <td>1</td>\n",
       "      <td>женат / замужем</td>\n",
       "      <td>0</td>\n",
       "      <td>F</td>\n",
       "      <td>пенсионер</td>\n",
       "      <td>0</td>\n",
       "      <td>153864.0</td>\n",
       "      <td>сделка с автомобилем</td>\n",
       "      <td>автомобиль</td>\n",
       "      <td>средний доход</td>\n",
       "    </tr>\n",
       "    <tr>\n",
       "      <td>21325</td>\n",
       "      <td>1</td>\n",
       "      <td>-2351</td>\n",
       "      <td>37</td>\n",
       "      <td>ученая степень</td>\n",
       "      <td>4</td>\n",
       "      <td>в разводе</td>\n",
       "      <td>3</td>\n",
       "      <td>M</td>\n",
       "      <td>сотрудник</td>\n",
       "      <td>0</td>\n",
       "      <td>115949.0</td>\n",
       "      <td>покупка коммерческой недвижимости</td>\n",
       "      <td>недвижимость</td>\n",
       "      <td>средний доход</td>\n",
       "    </tr>\n",
       "    <tr>\n",
       "      <td>21326</td>\n",
       "      <td>1</td>\n",
       "      <td>-4529</td>\n",
       "      <td>43</td>\n",
       "      <td>среднее</td>\n",
       "      <td>1</td>\n",
       "      <td>гражданский брак</td>\n",
       "      <td>1</td>\n",
       "      <td>F</td>\n",
       "      <td>компаньон</td>\n",
       "      <td>0</td>\n",
       "      <td>224791.0</td>\n",
       "      <td>операции с жильем</td>\n",
       "      <td>недвижимость</td>\n",
       "      <td>средний доход</td>\n",
       "    </tr>\n",
       "    <tr>\n",
       "      <td>21327</td>\n",
       "      <td>0</td>\n",
       "      <td>343937</td>\n",
       "      <td>67</td>\n",
       "      <td>среднее</td>\n",
       "      <td>1</td>\n",
       "      <td>женат / замужем</td>\n",
       "      <td>0</td>\n",
       "      <td>F</td>\n",
       "      <td>пенсионер</td>\n",
       "      <td>0</td>\n",
       "      <td>155999.0</td>\n",
       "      <td>сделка с автомобилем</td>\n",
       "      <td>автомобиль</td>\n",
       "      <td>средний доход</td>\n",
       "    </tr>\n",
       "    <tr>\n",
       "      <td>21328</td>\n",
       "      <td>1</td>\n",
       "      <td>-2113</td>\n",
       "      <td>38</td>\n",
       "      <td>среднее</td>\n",
       "      <td>1</td>\n",
       "      <td>гражданский брак</td>\n",
       "      <td>1</td>\n",
       "      <td>M</td>\n",
       "      <td>сотрудник</td>\n",
       "      <td>1</td>\n",
       "      <td>89672.0</td>\n",
       "      <td>недвижимость</td>\n",
       "      <td>недвижимость</td>\n",
       "      <td>низкий доход</td>\n",
       "    </tr>\n",
       "    <tr>\n",
       "      <td>21329</td>\n",
       "      <td>3</td>\n",
       "      <td>-3112</td>\n",
       "      <td>38</td>\n",
       "      <td>среднее</td>\n",
       "      <td>1</td>\n",
       "      <td>женат / замужем</td>\n",
       "      <td>0</td>\n",
       "      <td>M</td>\n",
       "      <td>сотрудник</td>\n",
       "      <td>1</td>\n",
       "      <td>244093.0</td>\n",
       "      <td>на покупку своего автомобиля</td>\n",
       "      <td>автомобиль</td>\n",
       "      <td>средний доход</td>\n",
       "    </tr>\n",
       "    <tr>\n",
       "      <td>21330</td>\n",
       "      <td>2</td>\n",
       "      <td>-1984</td>\n",
       "      <td>40</td>\n",
       "      <td>среднее</td>\n",
       "      <td>1</td>\n",
       "      <td>женат / замужем</td>\n",
       "      <td>0</td>\n",
       "      <td>F</td>\n",
       "      <td>сотрудник</td>\n",
       "      <td>0</td>\n",
       "      <td>82047.0</td>\n",
       "      <td>на покупку автомобиля</td>\n",
       "      <td>автомобиль</td>\n",
       "      <td>низкий доход</td>\n",
       "    </tr>\n",
       "  </tbody>\n",
       "</table>\n",
       "</div>"
      ],
      "text/plain": [
       "       children  days_employed  dob_years       education  education_id  \\\n",
       "21321         1           -467         28         среднее             1   \n",
       "21322         0           -914         42          высшее             0   \n",
       "21323         0           -404         42          высшее             0   \n",
       "21324         0         373995         59         среднее             1   \n",
       "21325         1          -2351         37  ученая степень             4   \n",
       "21326         1          -4529         43         среднее             1   \n",
       "21327         0         343937         67         среднее             1   \n",
       "21328         1          -2113         38         среднее             1   \n",
       "21329         3          -3112         38         среднее             1   \n",
       "21330         2          -1984         40         среднее             1   \n",
       "\n",
       "          family_status  family_status_id gender income_type  debt  \\\n",
       "21321   женат / замужем                 0      F   сотрудник     1   \n",
       "21322   женат / замужем                 0      F   компаньон     0   \n",
       "21323  гражданский брак                 1      F   компаньон     0   \n",
       "21324   женат / замужем                 0      F   пенсионер     0   \n",
       "21325         в разводе                 3      M   сотрудник     0   \n",
       "21326  гражданский брак                 1      F   компаньон     0   \n",
       "21327   женат / замужем                 0      F   пенсионер     0   \n",
       "21328  гражданский брак                 1      M   сотрудник     1   \n",
       "21329   женат / замужем                 0      M   сотрудник     1   \n",
       "21330   женат / замужем                 0      F   сотрудник     0   \n",
       "\n",
       "       total_income                            purpose lemmatize_purpose  \\\n",
       "21321      109486.0              заняться образованием       образование   \n",
       "21322      322807.0               покупка своего жилья      недвижимость   \n",
       "21323      178059.0       на покупку своего автомобиля        автомобиль   \n",
       "21324      153864.0               сделка с автомобилем        автомобиль   \n",
       "21325      115949.0  покупка коммерческой недвижимости      недвижимость   \n",
       "21326      224791.0                  операции с жильем      недвижимость   \n",
       "21327      155999.0               сделка с автомобилем        автомобиль   \n",
       "21328       89672.0                       недвижимость      недвижимость   \n",
       "21329      244093.0       на покупку своего автомобиля        автомобиль   \n",
       "21330       82047.0              на покупку автомобиля        автомобиль   \n",
       "\n",
       "        categ_income  \n",
       "21321  средний доход  \n",
       "21322  средний доход  \n",
       "21323  средний доход  \n",
       "21324  средний доход  \n",
       "21325  средний доход  \n",
       "21326  средний доход  \n",
       "21327  средний доход  \n",
       "21328   низкий доход  \n",
       "21329  средний доход  \n",
       "21330   низкий доход  "
      ]
     },
     "metadata": {},
     "output_type": "display_data"
    }
   ],
   "source": [
    "#привожу все значения к одному регистру\n",
    "df['purpose'] = df['purpose'].str.lower()\n",
    "# вызываю стеммер для приведения всех слов к лемме\n",
    "from pymystem3 import Mystem\n",
    "m = Mystem()\n",
    "# создаю список уникальных значений по столбцу 'purpose'\n",
    "purpose_list = df['purpose'].unique()\n",
    "#создаю пусто список лемм куда буду добавлять леммы через цикл\n",
    "lemmas = []\n",
    "for i in purpose_list:\n",
    "    lemma = m.lemmatize(i)\n",
    "    lemmas.extend(lemma)\n",
    "print(lemmas)\n",
    "\n",
    "# создаю цикл для поиска конкретных лемм и добавленя в столбец 'lemmatize_purpose'\n",
    "def lemmas_purpose(row):\n",
    "    lemmas_row = m.lemmatize(row)\n",
    "    \n",
    "    if 'автомобиль' in lemmas_row:\n",
    "         return 'автомобиль'\n",
    "    elif 'свадьба' in lemmas_row:\n",
    "        return  'свадьба'\n",
    "    elif 'образование' in lemmas_row:\n",
    "        return 'образование'\n",
    "    elif 'ремонт' in lemmas_row:\n",
    "        return 'ремонт'\n",
    "    elif 'недвижимость' or 'жилье' in lemmas_row:\n",
    "        return  'недвижимость'\n",
    "    \n",
    "    return\n",
    "\n",
    "df['lemmatize_purpose']= df['purpose'].apply(lemmas_purpose)\n",
    "display(df.tail(10))\n"
   ]
  },
  {
   "cell_type": "markdown",
   "metadata": {},
   "source": [
    "**Вывод**"
   ]
  },
  {
   "cell_type": "markdown",
   "metadata": {},
   "source": [
    "Провел лемматизацию столбца 'purpose' и выявил конкретные цели кредитования для дальнейшего анализа"
   ]
  },
  {
   "cell_type": "markdown",
   "metadata": {},
   "source": [
    "### Категоризация данных"
   ]
  },
  {
   "cell_type": "code",
   "execution_count": 6,
   "metadata": {
    "scrolled": true
   },
   "outputs": [
    {
     "name": "stdout",
     "output_type": "stream",
     "text": [
      "2265604.0\n",
      "0.0\n",
      "164151\n",
      "135751.0\n"
     ]
    },
    {
     "data": {
      "text/html": [
       "<div>\n",
       "<style scoped>\n",
       "    .dataframe tbody tr th:only-of-type {\n",
       "        vertical-align: middle;\n",
       "    }\n",
       "\n",
       "    .dataframe tbody tr th {\n",
       "        vertical-align: top;\n",
       "    }\n",
       "\n",
       "    .dataframe thead th {\n",
       "        text-align: right;\n",
       "    }\n",
       "</style>\n",
       "<table border=\"1\" class=\"dataframe\">\n",
       "  <thead>\n",
       "    <tr style=\"text-align: right;\">\n",
       "      <th></th>\n",
       "      <th>children</th>\n",
       "      <th>days_employed</th>\n",
       "      <th>dob_years</th>\n",
       "      <th>education</th>\n",
       "      <th>education_id</th>\n",
       "      <th>family_status</th>\n",
       "      <th>family_status_id</th>\n",
       "      <th>gender</th>\n",
       "      <th>income_type</th>\n",
       "      <th>debt</th>\n",
       "      <th>total_income</th>\n",
       "      <th>purpose</th>\n",
       "      <th>lemmatize_purpose</th>\n",
       "      <th>categ_income</th>\n",
       "    </tr>\n",
       "  </thead>\n",
       "  <tbody>\n",
       "    <tr>\n",
       "      <td>0</td>\n",
       "      <td>1</td>\n",
       "      <td>-8437</td>\n",
       "      <td>42</td>\n",
       "      <td>высшее</td>\n",
       "      <td>0</td>\n",
       "      <td>женат / замужем</td>\n",
       "      <td>0</td>\n",
       "      <td>F</td>\n",
       "      <td>сотрудник</td>\n",
       "      <td>0</td>\n",
       "      <td>253875.0</td>\n",
       "      <td>покупка жилья</td>\n",
       "      <td>недвижимость</td>\n",
       "      <td>средний доход</td>\n",
       "    </tr>\n",
       "    <tr>\n",
       "      <td>1</td>\n",
       "      <td>1</td>\n",
       "      <td>-4024</td>\n",
       "      <td>36</td>\n",
       "      <td>среднее</td>\n",
       "      <td>1</td>\n",
       "      <td>женат / замужем</td>\n",
       "      <td>0</td>\n",
       "      <td>F</td>\n",
       "      <td>сотрудник</td>\n",
       "      <td>0</td>\n",
       "      <td>112080.0</td>\n",
       "      <td>приобретение автомобиля</td>\n",
       "      <td>автомобиль</td>\n",
       "      <td>средний доход</td>\n",
       "    </tr>\n",
       "    <tr>\n",
       "      <td>2</td>\n",
       "      <td>0</td>\n",
       "      <td>-5623</td>\n",
       "      <td>33</td>\n",
       "      <td>среднее</td>\n",
       "      <td>1</td>\n",
       "      <td>женат / замужем</td>\n",
       "      <td>0</td>\n",
       "      <td>M</td>\n",
       "      <td>сотрудник</td>\n",
       "      <td>0</td>\n",
       "      <td>145885.0</td>\n",
       "      <td>покупка жилья</td>\n",
       "      <td>недвижимость</td>\n",
       "      <td>средний доход</td>\n",
       "    </tr>\n",
       "    <tr>\n",
       "      <td>3</td>\n",
       "      <td>3</td>\n",
       "      <td>-4124</td>\n",
       "      <td>32</td>\n",
       "      <td>среднее</td>\n",
       "      <td>1</td>\n",
       "      <td>женат / замужем</td>\n",
       "      <td>0</td>\n",
       "      <td>M</td>\n",
       "      <td>сотрудник</td>\n",
       "      <td>0</td>\n",
       "      <td>267628.0</td>\n",
       "      <td>дополнительное образование</td>\n",
       "      <td>образование</td>\n",
       "      <td>средний доход</td>\n",
       "    </tr>\n",
       "    <tr>\n",
       "      <td>4</td>\n",
       "      <td>0</td>\n",
       "      <td>340266</td>\n",
       "      <td>53</td>\n",
       "      <td>среднее</td>\n",
       "      <td>1</td>\n",
       "      <td>гражданский брак</td>\n",
       "      <td>1</td>\n",
       "      <td>F</td>\n",
       "      <td>пенсионер</td>\n",
       "      <td>0</td>\n",
       "      <td>158616.0</td>\n",
       "      <td>сыграть свадьбу</td>\n",
       "      <td>свадьба</td>\n",
       "      <td>средний доход</td>\n",
       "    </tr>\n",
       "  </tbody>\n",
       "</table>\n",
       "</div>"
      ],
      "text/plain": [
       "   children  days_employed  dob_years education  education_id  \\\n",
       "0         1          -8437         42    высшее             0   \n",
       "1         1          -4024         36   среднее             1   \n",
       "2         0          -5623         33   среднее             1   \n",
       "3         3          -4124         32   среднее             1   \n",
       "4         0         340266         53   среднее             1   \n",
       "\n",
       "      family_status  family_status_id gender income_type  debt  total_income  \\\n",
       "0   женат / замужем                 0      F   сотрудник     0      253875.0   \n",
       "1   женат / замужем                 0      F   сотрудник     0      112080.0   \n",
       "2   женат / замужем                 0      M   сотрудник     0      145885.0   \n",
       "3   женат / замужем                 0      M   сотрудник     0      267628.0   \n",
       "4  гражданский брак                 1      F   пенсионер     0      158616.0   \n",
       "\n",
       "                      purpose lemmatize_purpose   categ_income  \n",
       "0               покупка жилья      недвижимость  средний доход  \n",
       "1     приобретение автомобиля        автомобиль  средний доход  \n",
       "2               покупка жилья      недвижимость  средний доход  \n",
       "3  дополнительное образование       образование  средний доход  \n",
       "4             сыграть свадьбу           свадьба  средний доход  "
      ]
     },
     "metadata": {},
     "output_type": "display_data"
    },
    {
     "name": "stdout",
     "output_type": "stream",
     "text": [
      "{0: 'высшее', 1: 'среднее', 2: 'неоконченное высшее', 3: 'начальное', 4: 'ученая степень'}\n",
      "{0: 'женат/замужем', 1: 'гражданский брак', 2: 'вдовец/вдова', 3: 'вразводе', 4: 'не женат/не замужем'}\n"
     ]
    }
   ],
   "source": [
    "# нахожу мин,макс,среднее,медианное значения доходов\n",
    "print(df['total_income'].max())\n",
    "print(df['total_income'].min())\n",
    "print(int(df['total_income'].mean()))\n",
    "print(df['total_income'].median())\n",
    "\n",
    "#создаю функцию для  категоризации данных по доходам\n",
    "def categ_income(row):\n",
    "    if row < 100000:\n",
    "        return 'низкий доход'\n",
    "    elif row < 350000:\n",
    "        return 'средний доход'\n",
    "    else:\n",
    "        return 'высокий доход'\n",
    "    \n",
    "df['categ_income'] = df['total_income'].apply(categ_income)\n",
    "display(df.head(5))\n",
    "\n",
    "education_dict = {0:\"высшее\", 1:\"среднее\", 2:\"неоконченное высшее\", 3:\"начальное\", 4:\"ученая степень\"}\n",
    "print(education_dict)\n",
    "\n",
    "family_status_dict = {0:\"женат/замужем\", 1:\"гражданский брак\", 2:\"вдовец/вдова\", 3:\"вразводе\", 4:\"не женат/не замужем\"}\n",
    "print(family_status_dict)"
   ]
  },
  {
   "cell_type": "code",
   "execution_count": 7,
   "metadata": {},
   "outputs": [
    {
     "data": {
      "text/plain": [
       "средний доход    16030\n",
       "низкий доход      4445\n",
       "высокий доход      856\n",
       "Name: categ_income, dtype: int64"
      ]
     },
     "execution_count": 7,
     "metadata": {},
     "output_type": "execute_result"
    }
   ],
   "source": [
    "df['categ_income'].value_counts()"
   ]
  },
  {
   "cell_type": "markdown",
   "metadata": {},
   "source": [
    "**Вывод**"
   ]
  },
  {
   "cell_type": "markdown",
   "metadata": {},
   "source": [
    "Категоризировал зданные при помощи функций. Выделил категории по доходу"
   ]
  },
  {
   "cell_type": "markdown",
   "metadata": {},
   "source": [
    "## Шаг 3. Ответьте на вопросы"
   ]
  },
  {
   "cell_type": "markdown",
   "metadata": {},
   "source": [
    "- Есть ли зависимость между наличием детей и возвратом кредита в срок?"
   ]
  },
  {
   "cell_type": "code",
   "execution_count": 8,
   "metadata": {
    "scrolled": false
   },
   "outputs": [
    {
     "name": "stdout",
     "output_type": "stream",
     "text": [
      "Процент невозврата кредитов среди тех у кого нет детей: 5 % \n",
      "Процент невозврата кредитов среди тех у кого 1 ребенок: 2 % \n",
      "Процент невозврата кредитов среди тех у кого 2 ребенка: 1 % \n",
      "Процент невозврата кредитов среди тех у кого 3 ребенка: 0 % \n",
      "Процент невозврата кредитов среди тех у кого 4 ребенка: 0 % \n",
      "Процент невозврата кредитов среди тех у кого 5 детей: 0 % \n"
     ]
    }
   ],
   "source": [
    "count_without_children = (df[(df['debt'] == 1) & (df['children'] == 0)].count() / df[df['debt'] == 0]['children'].count())['debt']\n",
    "print('Процент невозврата кредитов среди тех у кого нет детей: {:.0f} % '.format(count_without_children * 100))\n",
    "\n",
    "count_without_children = (df[(df['debt'] == 1) & (df['children'] == 1)].count() / df[df['debt'] == 0]['children'].count())['debt']\n",
    "print('Процент невозврата кредитов среди тех у кого 1 ребенок: {:.0f} % '.format(count_without_children * 100))\n",
    "count_without_children = (df[(df['debt'] == 1) & (df['children'] == 2)].count() / df[df['debt'] == 0]['children'].count())['debt']\n",
    "print('Процент невозврата кредитов среди тех у кого 2 ребенка: {:.0f} % '.format(count_without_children * 100))\n",
    "count_without_children = (df[(df['debt'] == 1) & (df['children'] == 3)].count() / df[df['debt'] == 0]['children'].count())['debt']\n",
    "print('Процент невозврата кредитов среди тех у кого 3 ребенка: {:.0f} % '.format(count_without_children * 100))\n",
    "count_without_children = (df[(df['debt'] == 1) & (df['children'] == 4)].count() / df[df['debt'] == 0]['children'].count())['debt']\n",
    "print('Процент невозврата кредитов среди тех у кого 4 ребенка: {:.0f} % '.format(count_without_children * 100))\n",
    "count_without_children = (df[(df['debt'] == 1) & (df['children'] == 5)].count() / df[df['debt'] == 0]['children'].count())['debt']\n",
    "print('Процент невозврата кредитов среди тех у кого 5 детей: {:.0f} % '.format(count_without_children * 100))\n",
    "\n"
   ]
  },
  {
   "cell_type": "markdown",
   "metadata": {},
   "source": [
    "**Вывод**"
   ]
  },
  {
   "cell_type": "markdown",
   "metadata": {},
   "source": [
    "Т.к. те у кого нет детей возвращают на 2% реже чем те у кого есть хоть 1 ребенок, значит наличие детей не влияет на возврат кредитов."
   ]
  },
  {
   "cell_type": "markdown",
   "metadata": {},
   "source": [
    "- Есть ли зависимость между семейным положением и возвратом кредита в срок?"
   ]
  },
  {
   "cell_type": "code",
   "execution_count": 9,
   "metadata": {
    "scrolled": false
   },
   "outputs": [
    {
     "name": "stdout",
     "output_type": "stream",
     "text": [
      "family_status          debt\n",
      "Не женат / не замужем  0        2523\n",
      "                       1         273\n",
      "в разводе              0        1105\n",
      "                       1          84\n",
      "вдовец / вдова         0         888\n",
      "                       1          63\n",
      "гражданский брак       0        3749\n",
      "                       1         385\n",
      "женат / замужем        0       11334\n",
      "                       1         927\n",
      "Name: debt, dtype: int64\n",
      "                           debt\n",
      "                           mean\n",
      "family_status                  \n",
      "Не женат / не замужем  0.097639\n",
      "в разводе              0.070648\n",
      "вдовец / вдова         0.066246\n",
      "гражданский брак       0.093130\n",
      "женат / замужем        0.075606\n"
     ]
    }
   ],
   "source": [
    "print(df.groupby('family_status')['debt'].value_counts())\n",
    "\n",
    "\n",
    "count_family_status_not_married = df.groupby('family_status').agg({'debt': ['mean']})\n",
    "print(count_family_status_not_married)"
   ]
  },
  {
   "cell_type": "markdown",
   "metadata": {},
   "source": [
    "**Вывод**"
   ]
  },
  {
   "cell_type": "markdown",
   "metadata": {},
   "source": [
    "те кто в разводе или вдовцы/вдовы возвращают кредиты чаще как женатые/замужем  и в разводе. В то время  как не женатые/не замужем и в гражданском браке возвращают реже"
   ]
  },
  {
   "cell_type": "markdown",
   "metadata": {},
   "source": [
    "- Есть ли зависимость между уровнем дохода и возвратом кредита в срок?"
   ]
  },
  {
   "cell_type": "code",
   "execution_count": 10,
   "metadata": {
    "scrolled": false
   },
   "outputs": [
    {
     "name": "stdout",
     "output_type": "stream",
     "text": [
      "categ_income   debt\n",
      "высокий доход  0         801\n",
      "               1          55\n",
      "низкий доход   0        4091\n",
      "               1         354\n",
      "средний доход  0       14707\n",
      "               1        1323\n",
      "Name: debt, dtype: int64\n",
      "Процент невозврата кредитов среди тех у кто низкий доход: 8 % \n",
      "Процент невозврата кредитов среди тех у кто  средний доход: 8 % \n",
      "Процент невозврата кредитов среди тех у кто высокий доход: 6 % \n"
     ]
    }
   ],
   "source": [
    "print(df.groupby('categ_income')['debt'].value_counts())\n",
    "\n",
    "count_income_low = (df[(df['debt'] == 1) & (df['categ_income'] == 'низкий доход')].count() / df[df['categ_income'] == 'низкий доход']['debt'].count())['debt']\n",
    "print('Процент невозврата кредитов среди тех у кто низкий доход: {:.0f} % '.format(count_income_low * 100))\n",
    "\n",
    "count_income_average = (df[(df['debt'] == 1) & (df['categ_income'] == 'средний доход')].count() / df[df['categ_income'] == 'средний доход']['debt'].count())['debt']\n",
    "print('Процент невозврата кредитов среди тех у кто  средний доход: {:.0f} % '.format(count_income_average * 100))\n",
    "\n",
    "count_income_high = (df[(df['debt'] == 1) & (df['categ_income'] == 'высокий доход')].count() / df[df['categ_income'] == 'высокий доход']['debt'].count())['debt']\n",
    "print('Процент невозврата кредитов среди тех у кто высокий доход: {:.0f} % '.format(count_income_high * 100))"
   ]
  },
  {
   "cell_type": "markdown",
   "metadata": {},
   "source": [
    "**Вывод**"
   ]
  },
  {
   "cell_type": "markdown",
   "metadata": {},
   "source": [
    "Люди с высоким доходом возвращают кредиты чаще"
   ]
  },
  {
   "cell_type": "markdown",
   "metadata": {},
   "source": [
    "- Как разные цели кредита влияют на его возврат в срок?"
   ]
  },
  {
   "cell_type": "code",
   "execution_count": 11,
   "metadata": {
    "scrolled": false
   },
   "outputs": [
    {
     "name": "stdout",
     "output_type": "stream",
     "text": [
      "lemmatize_purpose  debt\n",
      "автомобиль         0       3879\n",
      "                   1        400\n",
      "недвижимость       0       9402\n",
      "                   1        745\n",
      "образование        0       3619\n",
      "                   1        369\n",
      "ремонт             0        569\n",
      "                   1         35\n",
      "свадьба            0       2130\n",
      "                   1        183\n",
      "Name: debt, dtype: int64\n",
      "                       debt\n",
      "lemmatize_purpose          \n",
      "автомобиль         0.093480\n",
      "недвижимость       0.073421\n",
      "образование        0.092528\n",
      "ремонт             0.057947\n",
      "свадьба            0.079118\n"
     ]
    }
   ],
   "source": [
    "print(df.groupby('lemmatize_purpose')['debt'].value_counts())\n",
    "\n",
    "\n",
    "data_pivot = df.pivot_table(index = ['lemmatize_purpose'], values = 'debt', aggfunc = 'mean')\n",
    "print(data_pivot)"
   ]
  },
  {
   "cell_type": "markdown",
   "metadata": {},
   "source": [
    "**Вывод**"
   ]
  },
  {
   "cell_type": "markdown",
   "metadata": {},
   "source": [
    "Чаще всего кредиты возвращает те кто берет деньги на ремонт и покупку недвижимости\n",
    "\n",
    "Вопрос: а как выводить числовые знаения - целыми?"
   ]
  },
  {
   "cell_type": "markdown",
   "metadata": {},
   "source": [
    "## Шаг 4. Общий вывод"
   ]
  },
  {
   "cell_type": "markdown",
   "metadata": {},
   "source": [
    "При исследовании надежности заемщиков изучил общую информацию датасета. Заполнил пустые значеня и удалил дубликаты. Привел все данные к одному регистру, выделил леммы для категоризации целей кредита, разделил заемщиков на категории по доходу.\n",
    "\n",
    "Исходя из анализа данных пришел к выводу  что на возврат кредитов влияют:\n",
    " количество детей, тк заемщики без детей на 2% реже возвращают кредит\n",
    " семейное поожение - заемщики которые не состот вотношениях возвращают кредиты  на 2%чаще\n",
    " цели кридита связанные с недвижимостью и ремонтом возвращаются чаще на 2-3%\n",
    " доход заемщика - чем выше зарплата зарплате тем чаще возращают кредит\n",
    " \n",
    " В конце исследования ответил на поставленные вопросы и сделал выводы."
   ]
  }
 ],
 "metadata": {
  "ExecuteTimeLog": [
   {
    "duration": 688,
    "start_time": "2021-12-26T16:54:24.904Z"
   },
   {
    "duration": 60,
    "start_time": "2021-12-26T16:58:48.882Z"
   },
   {
    "duration": 63,
    "start_time": "2021-12-26T16:59:02.217Z"
   },
   {
    "duration": 61,
    "start_time": "2021-12-26T16:59:09.724Z"
   },
   {
    "duration": 434,
    "start_time": "2021-12-26T19:11:48.638Z"
   },
   {
    "duration": 941,
    "start_time": "2021-12-26T19:12:41.171Z"
   },
   {
    "duration": 376,
    "start_time": "2021-12-26T19:12:45.610Z"
   },
   {
    "duration": 62,
    "start_time": "2021-12-26T19:12:52.684Z"
   },
   {
    "duration": 11,
    "start_time": "2021-12-26T19:13:05.528Z"
   },
   {
    "duration": 336,
    "start_time": "2021-12-26T19:13:27.603Z"
   },
   {
    "duration": 9,
    "start_time": "2021-12-26T19:13:37.362Z"
   },
   {
    "duration": 22,
    "start_time": "2021-12-26T19:20:20.992Z"
   },
   {
    "duration": 22,
    "start_time": "2021-12-26T19:20:45.441Z"
   },
   {
    "duration": 359,
    "start_time": "2021-12-26T19:24:29.204Z"
   },
   {
    "duration": 391,
    "start_time": "2021-12-26T19:25:42.903Z"
   },
   {
    "duration": 382,
    "start_time": "2021-12-26T19:26:10.497Z"
   },
   {
    "duration": 59,
    "start_time": "2021-12-26T19:26:41.216Z"
   },
   {
    "duration": 58,
    "start_time": "2021-12-26T19:27:03.398Z"
   },
   {
    "duration": 351,
    "start_time": "2021-12-26T19:31:04.293Z"
   },
   {
    "duration": 339,
    "start_time": "2021-12-26T19:31:22.789Z"
   },
   {
    "duration": 325,
    "start_time": "2021-12-26T19:31:36.494Z"
   },
   {
    "duration": 415,
    "start_time": "2021-12-26T19:31:52.819Z"
   },
   {
    "duration": 577,
    "start_time": "2021-12-26T19:31:59.554Z"
   },
   {
    "duration": 377,
    "start_time": "2021-12-26T19:36:06.536Z"
   },
   {
    "duration": 4345,
    "start_time": "2021-12-26T19:36:20.864Z"
   },
   {
    "duration": 4501,
    "start_time": "2021-12-26T19:42:06.839Z"
   },
   {
    "duration": 321,
    "start_time": "2021-12-26T19:44:58.712Z"
   },
   {
    "duration": 5555,
    "start_time": "2021-12-26T19:45:57.540Z"
   },
   {
    "duration": 4203,
    "start_time": "2021-12-26T19:46:09.799Z"
   },
   {
    "duration": 609,
    "start_time": "2021-12-26T19:46:27.175Z"
   },
   {
    "duration": 19,
    "start_time": "2021-12-26T19:46:27.786Z"
   },
   {
    "duration": 4,
    "start_time": "2021-12-26T19:46:27.807Z"
   },
   {
    "duration": 22,
    "start_time": "2021-12-26T19:48:11.577Z"
   },
   {
    "duration": 20,
    "start_time": "2021-12-26T19:48:33.868Z"
   },
   {
    "duration": 7,
    "start_time": "2021-12-26T19:49:10.207Z"
   },
   {
    "duration": 13,
    "start_time": "2021-12-26T19:49:30.954Z"
   },
   {
    "duration": 18,
    "start_time": "2021-12-26T19:50:00.682Z"
   },
   {
    "duration": 21,
    "start_time": "2021-12-26T19:55:38.663Z"
   },
   {
    "duration": 61,
    "start_time": "2021-12-26T19:55:59.233Z"
   },
   {
    "duration": 11,
    "start_time": "2021-12-26T19:58:57.552Z"
   },
   {
    "duration": 366,
    "start_time": "2021-12-26T20:00:21.752Z"
   },
   {
    "duration": 9,
    "start_time": "2021-12-26T20:00:33.703Z"
   },
   {
    "duration": 799,
    "start_time": "2021-12-27T17:52:27.148Z"
   },
   {
    "duration": 16,
    "start_time": "2021-12-27T17:52:30.193Z"
   },
   {
    "duration": 14,
    "start_time": "2021-12-27T17:52:41.570Z"
   },
   {
    "duration": 383,
    "start_time": "2021-12-27T17:52:47.729Z"
   },
   {
    "duration": 14,
    "start_time": "2021-12-27T17:53:07.183Z"
   },
   {
    "duration": 249,
    "start_time": "2021-12-27T17:53:10.396Z"
   },
   {
    "duration": 16,
    "start_time": "2021-12-27T17:54:05.019Z"
   },
   {
    "duration": 260,
    "start_time": "2021-12-27T17:56:48.278Z"
   },
   {
    "duration": 15,
    "start_time": "2021-12-27T17:57:01.366Z"
   },
   {
    "duration": 17,
    "start_time": "2021-12-27T17:58:49.608Z"
   },
   {
    "duration": 91,
    "start_time": "2021-12-27T17:59:01.797Z"
   },
   {
    "duration": 31,
    "start_time": "2021-12-27T17:59:07.395Z"
   },
   {
    "duration": 34,
    "start_time": "2021-12-27T17:59:22.113Z"
   },
   {
    "duration": 22,
    "start_time": "2021-12-27T18:00:22.966Z"
   },
   {
    "duration": 3708,
    "start_time": "2021-12-27T18:05:27.196Z"
   },
   {
    "duration": 3537,
    "start_time": "2021-12-27T18:06:10.978Z"
   },
   {
    "duration": 321,
    "start_time": "2021-12-27T18:06:39.148Z"
   },
   {
    "duration": 288,
    "start_time": "2021-12-27T18:07:12.664Z"
   },
   {
    "duration": 38,
    "start_time": "2021-12-27T18:07:39.037Z"
   },
   {
    "duration": 291,
    "start_time": "2021-12-27T18:09:01.053Z"
   },
   {
    "duration": 259,
    "start_time": "2021-12-27T18:09:19.358Z"
   },
   {
    "duration": 297,
    "start_time": "2021-12-27T18:09:57.525Z"
   },
   {
    "duration": 42,
    "start_time": "2021-12-27T18:10:28.228Z"
   },
   {
    "duration": 42,
    "start_time": "2021-12-27T18:11:09.697Z"
   },
   {
    "duration": 44,
    "start_time": "2021-12-27T18:11:30.117Z"
   },
   {
    "duration": 24,
    "start_time": "2021-12-27T18:12:05.183Z"
   },
   {
    "duration": 36,
    "start_time": "2021-12-27T18:13:44.759Z"
   },
   {
    "duration": 39,
    "start_time": "2021-12-27T18:16:18.893Z"
   },
   {
    "duration": 286,
    "start_time": "2021-12-27T18:17:32.849Z"
   },
   {
    "duration": 30,
    "start_time": "2021-12-27T18:17:38.899Z"
   },
   {
    "duration": 33,
    "start_time": "2021-12-27T18:19:56.799Z"
   },
   {
    "duration": 42,
    "start_time": "2021-12-27T18:20:11.380Z"
   },
   {
    "duration": 50,
    "start_time": "2021-12-27T18:23:16.038Z"
   },
   {
    "duration": 34,
    "start_time": "2021-12-27T18:26:10.718Z"
   },
   {
    "duration": 37,
    "start_time": "2021-12-27T18:27:57.556Z"
   },
   {
    "duration": 8602,
    "start_time": "2021-12-27T18:30:52.555Z"
   },
   {
    "duration": 279,
    "start_time": "2021-12-27T18:31:37.444Z"
   },
   {
    "duration": 36,
    "start_time": "2021-12-27T18:32:12.428Z"
   },
   {
    "duration": 36,
    "start_time": "2021-12-27T18:32:31.306Z"
   },
   {
    "duration": 80,
    "start_time": "2021-12-27T18:32:45.250Z"
   },
   {
    "duration": 46,
    "start_time": "2021-12-27T18:33:11.875Z"
   },
   {
    "duration": 92,
    "start_time": "2021-12-27T18:33:18.875Z"
   },
   {
    "duration": 32,
    "start_time": "2021-12-27T18:33:31.424Z"
   },
   {
    "duration": 31,
    "start_time": "2021-12-27T18:33:42.465Z"
   },
   {
    "duration": 99,
    "start_time": "2021-12-27T18:35:48.096Z"
   },
   {
    "duration": 99,
    "start_time": "2021-12-27T18:36:07.987Z"
   },
   {
    "duration": 87,
    "start_time": "2021-12-27T18:36:50.271Z"
   },
   {
    "duration": 33,
    "start_time": "2021-12-27T18:37:03.587Z"
   },
   {
    "duration": 39,
    "start_time": "2021-12-27T18:40:09.713Z"
   },
   {
    "duration": 35,
    "start_time": "2021-12-27T18:41:14.497Z"
   },
   {
    "duration": 28,
    "start_time": "2021-12-27T18:41:27.256Z"
   },
   {
    "duration": 341,
    "start_time": "2021-12-27T18:44:55.140Z"
   },
   {
    "duration": 4828,
    "start_time": "2021-12-27T18:45:05.612Z"
   },
   {
    "duration": 81,
    "start_time": "2021-12-27T18:46:19.623Z"
   },
   {
    "duration": 29,
    "start_time": "2021-12-27T18:46:25.247Z"
   },
   {
    "duration": 33,
    "start_time": "2021-12-27T18:47:03.362Z"
   },
   {
    "duration": 30,
    "start_time": "2021-12-27T18:47:28.514Z"
   },
   {
    "duration": 25,
    "start_time": "2021-12-27T18:53:45.646Z"
   },
   {
    "duration": 10,
    "start_time": "2021-12-27T18:53:53.337Z"
   },
   {
    "duration": 22,
    "start_time": "2021-12-27T18:54:15.084Z"
   },
   {
    "duration": 67,
    "start_time": "2021-12-27T19:01:25.628Z"
   },
   {
    "duration": 33,
    "start_time": "2021-12-27T19:02:41.985Z"
   },
   {
    "duration": 31,
    "start_time": "2021-12-27T19:03:05.387Z"
   },
   {
    "duration": 79,
    "start_time": "2021-12-27T19:03:55.277Z"
   },
   {
    "duration": 32,
    "start_time": "2021-12-27T19:04:04.157Z"
   },
   {
    "duration": 95,
    "start_time": "2021-12-27T19:06:47.585Z"
   },
   {
    "duration": 4853,
    "start_time": "2021-12-27T19:06:54.550Z"
   },
   {
    "duration": 45,
    "start_time": "2021-12-27T19:07:40.105Z"
   },
   {
    "duration": 59,
    "start_time": "2021-12-27T19:07:51.135Z"
   },
   {
    "duration": 45,
    "start_time": "2021-12-27T19:08:17.944Z"
   },
   {
    "duration": 29,
    "start_time": "2021-12-27T19:08:46.681Z"
   },
   {
    "duration": 38,
    "start_time": "2021-12-27T19:13:16.136Z"
   },
   {
    "duration": 48,
    "start_time": "2021-12-27T19:13:28.683Z"
   },
   {
    "duration": 47,
    "start_time": "2021-12-27T19:17:35.760Z"
   },
   {
    "duration": 34,
    "start_time": "2021-12-27T19:18:16.698Z"
   },
   {
    "duration": 34,
    "start_time": "2021-12-27T19:18:45.208Z"
   },
   {
    "duration": 81,
    "start_time": "2021-12-27T19:26:35.413Z"
   },
   {
    "duration": 25,
    "start_time": "2021-12-27T19:26:52.906Z"
   },
   {
    "duration": 26,
    "start_time": "2021-12-27T19:29:17.066Z"
   },
   {
    "duration": 24,
    "start_time": "2021-12-27T19:33:35.199Z"
   },
   {
    "duration": 32,
    "start_time": "2021-12-27T19:36:28.703Z"
   },
   {
    "duration": 34,
    "start_time": "2021-12-27T19:36:44.156Z"
   },
   {
    "duration": 25,
    "start_time": "2021-12-27T19:37:24.171Z"
   },
   {
    "duration": 86,
    "start_time": "2021-12-27T19:39:19.693Z"
   },
   {
    "duration": 38,
    "start_time": "2021-12-27T19:40:02.545Z"
   },
   {
    "duration": 44,
    "start_time": "2021-12-27T19:40:27.616Z"
   },
   {
    "duration": 26,
    "start_time": "2021-12-27T19:57:58.352Z"
   },
   {
    "duration": 24,
    "start_time": "2021-12-27T19:58:22.725Z"
   },
   {
    "duration": 38,
    "start_time": "2021-12-27T20:06:04.016Z"
   },
   {
    "duration": 34,
    "start_time": "2021-12-27T20:06:37.799Z"
   },
   {
    "duration": 31,
    "start_time": "2021-12-27T20:07:05.818Z"
   },
   {
    "duration": 29,
    "start_time": "2021-12-27T20:07:46.182Z"
   },
   {
    "duration": 29,
    "start_time": "2021-12-27T20:10:03.746Z"
   },
   {
    "duration": 38,
    "start_time": "2021-12-27T20:10:15.199Z"
   },
   {
    "duration": 35,
    "start_time": "2021-12-27T20:10:42.541Z"
   },
   {
    "duration": 33,
    "start_time": "2021-12-27T20:11:15.385Z"
   },
   {
    "duration": 42,
    "start_time": "2021-12-27T20:11:56.123Z"
   },
   {
    "duration": 91,
    "start_time": "2021-12-27T20:13:19.794Z"
   },
   {
    "duration": 92,
    "start_time": "2021-12-27T20:13:28.238Z"
   },
   {
    "duration": 27,
    "start_time": "2021-12-27T20:13:34.732Z"
   },
   {
    "duration": 39,
    "start_time": "2021-12-27T20:13:48.883Z"
   },
   {
    "duration": 40,
    "start_time": "2021-12-27T20:14:10.741Z"
   },
   {
    "duration": 41,
    "start_time": "2021-12-27T20:14:26.563Z"
   },
   {
    "duration": 48,
    "start_time": "2021-12-27T20:14:44.709Z"
   },
   {
    "duration": 40,
    "start_time": "2021-12-27T20:15:03.362Z"
   },
   {
    "duration": 41,
    "start_time": "2021-12-27T20:15:32.471Z"
   },
   {
    "duration": 215,
    "start_time": "2021-12-28T18:07:50.378Z"
   },
   {
    "duration": 680,
    "start_time": "2021-12-28T18:07:57.780Z"
   },
   {
    "duration": 20,
    "start_time": "2021-12-28T18:08:06.701Z"
   },
   {
    "duration": 3972,
    "start_time": "2021-12-28T18:10:53.305Z"
   },
   {
    "duration": 30,
    "start_time": "2021-12-28T18:12:00.485Z"
   },
   {
    "duration": 36,
    "start_time": "2021-12-28T18:12:16.789Z"
   },
   {
    "duration": 73,
    "start_time": "2021-12-28T18:26:55.498Z"
   },
   {
    "duration": 61,
    "start_time": "2021-12-28T18:34:54.583Z"
   },
   {
    "duration": 232,
    "start_time": "2021-12-28T18:37:50.897Z"
   },
   {
    "duration": 236,
    "start_time": "2021-12-28T18:38:23.968Z"
   },
   {
    "duration": 56,
    "start_time": "2021-12-28T18:38:53.911Z"
   },
   {
    "duration": 235,
    "start_time": "2021-12-28T18:38:59.025Z"
   },
   {
    "duration": 284,
    "start_time": "2021-12-28T18:39:22.743Z"
   },
   {
    "duration": 255,
    "start_time": "2021-12-28T18:39:47.437Z"
   },
   {
    "duration": 212,
    "start_time": "2021-12-28T18:40:36.881Z"
   },
   {
    "duration": 52,
    "start_time": "2021-12-28T18:41:17.236Z"
   },
   {
    "duration": 44,
    "start_time": "2021-12-28T18:58:12.082Z"
   },
   {
    "duration": 41,
    "start_time": "2021-12-28T19:01:39.286Z"
   },
   {
    "duration": 41,
    "start_time": "2021-12-28T19:01:56.676Z"
   },
   {
    "duration": 62,
    "start_time": "2021-12-28T19:06:18.710Z"
   },
   {
    "duration": 58,
    "start_time": "2021-12-28T19:06:26.166Z"
   },
   {
    "duration": 38,
    "start_time": "2021-12-28T19:06:31.759Z"
   },
   {
    "duration": 66,
    "start_time": "2021-12-28T19:07:37.166Z"
   },
   {
    "duration": 204,
    "start_time": "2021-12-28T19:07:48.147Z"
   },
   {
    "duration": 38,
    "start_time": "2021-12-28T19:08:04.414Z"
   },
   {
    "duration": 50,
    "start_time": "2021-12-28T19:08:24.320Z"
   },
   {
    "duration": 50,
    "start_time": "2021-12-28T19:09:44.956Z"
   },
   {
    "duration": 40,
    "start_time": "2021-12-28T19:12:00.828Z"
   },
   {
    "duration": 41,
    "start_time": "2021-12-28T19:17:31.846Z"
   },
   {
    "duration": 42,
    "start_time": "2021-12-28T19:18:35.228Z"
   },
   {
    "duration": 350,
    "start_time": "2022-01-02T10:23:01.601Z"
   },
   {
    "duration": 1181,
    "start_time": "2022-01-02T10:23:09.103Z"
   },
   {
    "duration": 36,
    "start_time": "2022-01-02T10:23:16.781Z"
   },
   {
    "duration": 22,
    "start_time": "2022-01-02T10:24:15.035Z"
   },
   {
    "duration": 11,
    "start_time": "2022-01-02T10:27:35.606Z"
   },
   {
    "duration": 123,
    "start_time": "2022-01-02T10:28:29.548Z"
   },
   {
    "duration": 12,
    "start_time": "2022-01-02T10:28:38.772Z"
   },
   {
    "duration": 22,
    "start_time": "2022-01-02T10:28:49.035Z"
   },
   {
    "duration": 7139,
    "start_time": "2022-01-02T10:33:46.004Z"
   },
   {
    "duration": 26,
    "start_time": "2022-01-02T10:34:10.559Z"
   },
   {
    "duration": 322,
    "start_time": "2022-01-02T10:37:47.641Z"
   },
   {
    "duration": 35,
    "start_time": "2022-01-02T10:38:16.007Z"
   },
   {
    "duration": 34,
    "start_time": "2022-01-02T10:39:46.283Z"
   },
   {
    "duration": 30,
    "start_time": "2022-01-02T10:40:00.466Z"
   },
   {
    "duration": 31,
    "start_time": "2022-01-02T10:40:31.285Z"
   },
   {
    "duration": 36,
    "start_time": "2022-01-02T10:41:22.944Z"
   },
   {
    "duration": 91,
    "start_time": "2022-01-02T10:42:29.010Z"
   },
   {
    "duration": 38,
    "start_time": "2022-01-02T10:42:43.644Z"
   },
   {
    "duration": 62,
    "start_time": "2022-01-02T10:45:12.195Z"
   },
   {
    "duration": 62,
    "start_time": "2022-01-02T10:46:57.166Z"
   },
   {
    "duration": 53,
    "start_time": "2022-01-02T10:47:02.696Z"
   },
   {
    "duration": 88,
    "start_time": "2022-01-02T10:47:19.551Z"
   },
   {
    "duration": 877,
    "start_time": "2022-01-02T10:47:55.534Z"
   },
   {
    "duration": 60,
    "start_time": "2022-01-02T10:47:56.414Z"
   },
   {
    "duration": 853,
    "start_time": "2022-01-02T10:47:56.477Z"
   },
   {
    "duration": -11586,
    "start_time": "2022-01-02T10:48:08.918Z"
   },
   {
    "duration": 66,
    "start_time": "2022-01-02T10:48:21.136Z"
   },
   {
    "duration": 26,
    "start_time": "2022-01-02T10:48:29.503Z"
   },
   {
    "duration": 58,
    "start_time": "2022-01-02T10:48:40.609Z"
   },
   {
    "duration": 62,
    "start_time": "2022-01-02T10:48:58.516Z"
   },
   {
    "duration": 61,
    "start_time": "2022-01-02T10:49:25.640Z"
   },
   {
    "duration": 71,
    "start_time": "2022-01-02T10:49:46.321Z"
   },
   {
    "duration": 805,
    "start_time": "2022-01-02T10:49:52.490Z"
   },
   {
    "duration": 78,
    "start_time": "2022-01-02T10:49:53.298Z"
   },
   {
    "duration": 22,
    "start_time": "2022-01-02T10:49:53.379Z"
   },
   {
    "duration": 20,
    "start_time": "2022-01-02T10:49:53.404Z"
   },
   {
    "duration": 59,
    "start_time": "2022-01-02T10:50:03.115Z"
   },
   {
    "duration": 61,
    "start_time": "2022-01-02T10:50:47.288Z"
   },
   {
    "duration": 1176,
    "start_time": "2022-01-02T10:51:02.648Z"
   },
   {
    "duration": 79,
    "start_time": "2022-01-02T10:51:03.827Z"
   },
   {
    "duration": 398,
    "start_time": "2022-01-02T10:51:03.909Z"
   },
   {
    "duration": -11242,
    "start_time": "2022-01-02T10:51:15.552Z"
   },
   {
    "duration": 64,
    "start_time": "2022-01-02T10:51:41.283Z"
   },
   {
    "duration": 26,
    "start_time": "2022-01-02T10:51:47.850Z"
   },
   {
    "duration": 341,
    "start_time": "2022-01-02T10:53:41.678Z"
   },
   {
    "duration": 357,
    "start_time": "2022-01-02T10:54:25.009Z"
   },
   {
    "duration": 6464,
    "start_time": "2022-01-02T10:55:10.506Z"
   },
   {
    "duration": 398,
    "start_time": "2022-01-02T10:56:07.851Z"
   },
   {
    "duration": 76,
    "start_time": "2022-01-02T10:57:12.880Z"
   },
   {
    "duration": 73,
    "start_time": "2022-01-02T10:57:52.563Z"
   },
   {
    "duration": 89,
    "start_time": "2022-01-02T10:58:47.109Z"
   },
   {
    "duration": 100,
    "start_time": "2022-01-02T10:59:24.681Z"
   },
   {
    "duration": 112,
    "start_time": "2022-01-02T10:59:55.519Z"
   },
   {
    "duration": 128,
    "start_time": "2022-01-02T11:11:00.065Z"
   },
   {
    "duration": 7272,
    "start_time": "2022-01-02T11:11:05.789Z"
   },
   {
    "duration": 8336,
    "start_time": "2022-01-02T11:11:29.591Z"
   },
   {
    "duration": 129,
    "start_time": "2022-01-02T11:13:15.565Z"
   },
   {
    "duration": 138,
    "start_time": "2022-01-02T11:13:38.733Z"
   },
   {
    "duration": 137,
    "start_time": "2022-01-02T11:14:31.251Z"
   },
   {
    "duration": 158,
    "start_time": "2022-01-02T11:15:44.955Z"
   },
   {
    "duration": 131,
    "start_time": "2022-01-02T11:18:18.395Z"
   },
   {
    "duration": 167,
    "start_time": "2022-01-02T11:21:35.779Z"
   },
   {
    "duration": 111,
    "start_time": "2022-01-02T13:18:29.658Z"
   },
   {
    "duration": 104,
    "start_time": "2022-01-02T13:18:39.435Z"
   },
   {
    "duration": 344,
    "start_time": "2022-01-02T13:19:05.575Z"
   },
   {
    "duration": 854,
    "start_time": "2022-01-02T13:19:15.516Z"
   },
   {
    "duration": 145,
    "start_time": "2022-01-02T13:19:21.679Z"
   },
   {
    "duration": 416,
    "start_time": "2022-01-02T13:19:53.624Z"
   },
   {
    "duration": 398,
    "start_time": "2022-01-02T13:20:24.546Z"
   },
   {
    "duration": 373,
    "start_time": "2022-01-02T13:20:39.978Z"
   },
   {
    "duration": 516,
    "start_time": "2022-01-02T13:21:12.047Z"
   },
   {
    "duration": 97,
    "start_time": "2022-01-02T13:21:34.673Z"
   },
   {
    "duration": 169,
    "start_time": "2022-01-02T13:21:43.516Z"
   },
   {
    "duration": 363,
    "start_time": "2022-01-02T13:22:39.630Z"
   },
   {
    "duration": 467,
    "start_time": "2022-01-02T13:23:15.354Z"
   },
   {
    "duration": 365,
    "start_time": "2022-01-02T13:23:47.178Z"
   },
   {
    "duration": 103,
    "start_time": "2022-01-02T13:25:23.435Z"
   },
   {
    "duration": 399,
    "start_time": "2022-01-02T13:26:05.465Z"
   },
   {
    "duration": 378,
    "start_time": "2022-01-02T13:27:00.521Z"
   },
   {
    "duration": 92,
    "start_time": "2022-01-02T13:27:40.505Z"
   },
   {
    "duration": 241,
    "start_time": "2022-01-02T13:27:46.822Z"
   },
   {
    "duration": 436,
    "start_time": "2022-01-02T13:28:25.517Z"
   },
   {
    "duration": 399,
    "start_time": "2022-01-02T13:28:38.029Z"
   },
   {
    "duration": 88,
    "start_time": "2022-01-02T13:28:48.902Z"
   },
   {
    "duration": 156,
    "start_time": "2022-01-02T13:28:57.942Z"
   },
   {
    "duration": 366,
    "start_time": "2022-01-02T13:29:27.645Z"
   },
   {
    "duration": 363,
    "start_time": "2022-01-02T13:29:42.551Z"
   },
   {
    "duration": 388,
    "start_time": "2022-01-02T13:32:13.030Z"
   },
   {
    "duration": 387,
    "start_time": "2022-01-02T13:33:33.698Z"
   },
   {
    "duration": 398,
    "start_time": "2022-01-02T13:33:59.330Z"
   },
   {
    "duration": 393,
    "start_time": "2022-01-02T13:35:01.641Z"
   },
   {
    "duration": 503,
    "start_time": "2022-01-02T13:35:05.213Z"
   },
   {
    "duration": 96,
    "start_time": "2022-01-02T13:35:13.381Z"
   },
   {
    "duration": 164,
    "start_time": "2022-01-02T13:35:19.315Z"
   },
   {
    "duration": 25,
    "start_time": "2022-01-02T13:38:01.423Z"
   },
   {
    "duration": 285,
    "start_time": "2022-01-02T13:38:07.786Z"
   },
   {
    "duration": 44,
    "start_time": "2022-01-02T13:38:16.570Z"
   },
   {
    "duration": 34,
    "start_time": "2022-01-02T13:40:23.711Z"
   },
   {
    "duration": 22,
    "start_time": "2022-01-02T13:41:34.653Z"
   },
   {
    "duration": 21,
    "start_time": "2022-01-02T13:41:42.911Z"
   },
   {
    "duration": 10,
    "start_time": "2022-01-02T13:42:11.508Z"
   },
   {
    "duration": 109,
    "start_time": "2022-01-02T13:45:36.575Z"
   },
   {
    "duration": 93,
    "start_time": "2022-01-02T13:46:04.117Z"
   },
   {
    "duration": 150,
    "start_time": "2022-01-02T13:46:11.328Z"
   },
   {
    "duration": 144,
    "start_time": "2022-01-02T13:47:20.375Z"
   },
   {
    "duration": 111,
    "start_time": "2022-01-02T13:49:17.880Z"
   },
   {
    "duration": 156,
    "start_time": "2022-01-02T13:49:23.266Z"
   },
   {
    "duration": 87,
    "start_time": "2022-01-02T13:49:56.062Z"
   },
   {
    "duration": 180,
    "start_time": "2022-01-02T13:50:02.248Z"
   },
   {
    "duration": 153,
    "start_time": "2022-01-02T13:50:57.214Z"
   },
   {
    "duration": 89,
    "start_time": "2022-01-02T13:51:05.175Z"
   },
   {
    "duration": 151,
    "start_time": "2022-01-02T13:51:10.124Z"
   },
   {
    "duration": 87,
    "start_time": "2022-01-02T13:52:10.296Z"
   },
   {
    "duration": 69,
    "start_time": "2022-01-02T13:52:16.145Z"
   },
   {
    "duration": 733,
    "start_time": "2022-01-04T10:04:54.622Z"
   },
   {
    "duration": 42,
    "start_time": "2022-01-04T10:04:55.357Z"
   },
   {
    "duration": 33,
    "start_time": "2022-01-04T10:04:55.400Z"
   },
   {
    "duration": 22,
    "start_time": "2022-01-04T10:04:55.434Z"
   },
   {
    "duration": 13,
    "start_time": "2022-01-04T10:06:43.212Z"
   },
   {
    "duration": 25,
    "start_time": "2022-01-04T10:06:49.910Z"
   },
   {
    "duration": 15,
    "start_time": "2022-01-04T10:07:36.157Z"
   },
   {
    "duration": 25,
    "start_time": "2022-01-04T10:07:42.395Z"
   },
   {
    "duration": 28,
    "start_time": "2022-01-04T10:07:46.367Z"
   },
   {
    "duration": 722,
    "start_time": "2022-01-04T10:08:08.152Z"
   },
   {
    "duration": 55,
    "start_time": "2022-01-04T10:08:08.876Z"
   },
   {
    "duration": 16,
    "start_time": "2022-01-04T10:08:08.933Z"
   },
   {
    "duration": 31,
    "start_time": "2022-01-04T10:08:08.951Z"
   },
   {
    "duration": 24,
    "start_time": "2022-01-04T10:09:15.498Z"
   },
   {
    "duration": 24,
    "start_time": "2022-01-04T10:10:59.924Z"
   },
   {
    "duration": 12,
    "start_time": "2022-01-04T10:11:13.597Z"
   },
   {
    "duration": 23,
    "start_time": "2022-01-04T10:11:25.288Z"
   },
   {
    "duration": 111,
    "start_time": "2022-01-04T10:13:47.074Z"
   },
   {
    "duration": 22,
    "start_time": "2022-01-04T10:13:57.108Z"
   },
   {
    "duration": 23,
    "start_time": "2022-01-04T10:14:04.171Z"
   },
   {
    "duration": 395,
    "start_time": "2022-01-04T10:14:48.008Z"
   },
   {
    "duration": 339,
    "start_time": "2022-01-04T10:15:07.239Z"
   },
   {
    "duration": 16,
    "start_time": "2022-01-04T10:15:25.955Z"
   },
   {
    "duration": 14,
    "start_time": "2022-01-04T10:15:50.629Z"
   },
   {
    "duration": 23,
    "start_time": "2022-01-04T10:16:14.612Z"
   },
   {
    "duration": 16,
    "start_time": "2022-01-04T10:19:50.862Z"
   },
   {
    "duration": 25,
    "start_time": "2022-01-04T10:39:41.594Z"
   },
   {
    "duration": 18,
    "start_time": "2022-01-04T10:41:00.366Z"
   },
   {
    "duration": 17,
    "start_time": "2022-01-04T10:41:20.117Z"
   },
   {
    "duration": 14,
    "start_time": "2022-01-04T10:41:29.875Z"
   },
   {
    "duration": 26,
    "start_time": "2022-01-04T10:41:59.618Z"
   },
   {
    "duration": 25,
    "start_time": "2022-01-04T10:42:43.263Z"
   },
   {
    "duration": 32,
    "start_time": "2022-01-04T10:43:09.271Z"
   },
   {
    "duration": 24,
    "start_time": "2022-01-04T10:46:35.278Z"
   },
   {
    "duration": 24,
    "start_time": "2022-01-04T10:47:04.788Z"
   },
   {
    "duration": 35,
    "start_time": "2022-01-04T10:48:45.989Z"
   },
   {
    "duration": 46,
    "start_time": "2022-01-04T10:48:59.613Z"
   },
   {
    "duration": 606,
    "start_time": "2022-01-04T10:49:12.378Z"
   },
   {
    "duration": 51,
    "start_time": "2022-01-04T10:49:12.987Z"
   },
   {
    "duration": 14,
    "start_time": "2022-01-04T10:49:13.039Z"
   },
   {
    "duration": 43,
    "start_time": "2022-01-04T10:49:13.055Z"
   },
   {
    "duration": 658,
    "start_time": "2022-01-04T10:54:29.707Z"
   },
   {
    "duration": 43,
    "start_time": "2022-01-04T10:54:30.366Z"
   },
   {
    "duration": 31,
    "start_time": "2022-01-04T10:54:30.410Z"
   },
   {
    "duration": 44,
    "start_time": "2022-01-04T10:54:30.442Z"
   },
   {
    "duration": 58,
    "start_time": "2022-01-04T10:57:46.712Z"
   },
   {
    "duration": 53,
    "start_time": "2022-01-04T10:58:07.886Z"
   },
   {
    "duration": 52,
    "start_time": "2022-01-04T11:02:15.321Z"
   },
   {
    "duration": 71,
    "start_time": "2022-01-04T11:03:53.944Z"
   },
   {
    "duration": 48,
    "start_time": "2022-01-04T11:07:38.655Z"
   },
   {
    "duration": 52,
    "start_time": "2022-01-04T11:09:08.408Z"
   },
   {
    "duration": 423,
    "start_time": "2022-01-04T11:10:02.749Z"
   },
   {
    "duration": 63,
    "start_time": "2022-01-04T11:10:26.902Z"
   },
   {
    "duration": 61,
    "start_time": "2022-01-04T11:11:05.807Z"
   },
   {
    "duration": 64,
    "start_time": "2022-01-04T11:12:14.697Z"
   },
   {
    "duration": 64,
    "start_time": "2022-01-04T11:17:44.473Z"
   },
   {
    "duration": 64,
    "start_time": "2022-01-04T11:18:20.048Z"
   },
   {
    "duration": 63,
    "start_time": "2022-01-04T11:19:03.030Z"
   },
   {
    "duration": 62,
    "start_time": "2022-01-04T11:19:15.507Z"
   },
   {
    "duration": 62,
    "start_time": "2022-01-04T11:19:33.305Z"
   },
   {
    "duration": 107,
    "start_time": "2022-01-04T11:22:15.639Z"
   },
   {
    "duration": 62,
    "start_time": "2022-01-04T11:22:24.671Z"
   },
   {
    "duration": 54,
    "start_time": "2022-01-04T11:23:09.787Z"
   },
   {
    "duration": 104,
    "start_time": "2022-01-04T11:24:50.905Z"
   },
   {
    "duration": 55,
    "start_time": "2022-01-04T11:24:57.815Z"
   },
   {
    "duration": 65,
    "start_time": "2022-01-04T11:27:18.030Z"
   },
   {
    "duration": 53,
    "start_time": "2022-01-04T11:28:34.070Z"
   },
   {
    "duration": 56,
    "start_time": "2022-01-04T11:36:32.846Z"
   },
   {
    "duration": 57,
    "start_time": "2022-01-04T11:37:15.685Z"
   },
   {
    "duration": 56,
    "start_time": "2022-01-04T11:39:10.983Z"
   },
   {
    "duration": 57,
    "start_time": "2022-01-04T11:40:49.266Z"
   },
   {
    "duration": 652,
    "start_time": "2022-01-04T11:41:10.016Z"
   },
   {
    "duration": 43,
    "start_time": "2022-01-04T11:41:10.670Z"
   },
   {
    "duration": 19,
    "start_time": "2022-01-04T11:41:10.714Z"
   },
   {
    "duration": 56,
    "start_time": "2022-01-04T11:41:10.734Z"
   },
   {
    "duration": 60,
    "start_time": "2022-01-04T11:41:36.898Z"
   },
   {
    "duration": 56,
    "start_time": "2022-01-04T11:42:12.246Z"
   },
   {
    "duration": 14,
    "start_time": "2022-01-04T11:42:21.713Z"
   },
   {
    "duration": 54,
    "start_time": "2022-01-04T11:42:27.490Z"
   },
   {
    "duration": 675,
    "start_time": "2022-01-04T11:42:39.110Z"
   },
   {
    "duration": 49,
    "start_time": "2022-01-04T11:42:39.787Z"
   },
   {
    "duration": 15,
    "start_time": "2022-01-04T11:42:39.837Z"
   },
   {
    "duration": 433,
    "start_time": "2022-01-04T11:42:39.854Z"
   },
   {
    "duration": 54,
    "start_time": "2022-01-04T11:42:56.859Z"
   },
   {
    "duration": 649,
    "start_time": "2022-01-04T11:43:14.302Z"
   },
   {
    "duration": 43,
    "start_time": "2022-01-04T11:43:14.953Z"
   },
   {
    "duration": 36,
    "start_time": "2022-01-04T11:43:14.999Z"
   },
   {
    "duration": 66,
    "start_time": "2022-01-04T11:43:15.037Z"
   },
   {
    "duration": 54,
    "start_time": "2022-01-04T11:43:41.234Z"
   },
   {
    "duration": 363,
    "start_time": "2022-01-04T11:44:13.870Z"
   },
   {
    "duration": 599,
    "start_time": "2022-01-04T11:44:31.358Z"
   },
   {
    "duration": 43,
    "start_time": "2022-01-04T11:44:31.958Z"
   },
   {
    "duration": 34,
    "start_time": "2022-01-04T11:44:32.003Z"
   },
   {
    "duration": 56,
    "start_time": "2022-01-04T11:44:32.039Z"
   },
   {
    "duration": 110,
    "start_time": "2022-01-04T11:46:38.283Z"
   },
   {
    "duration": 62,
    "start_time": "2022-01-04T11:46:54.171Z"
   },
   {
    "duration": 56,
    "start_time": "2022-01-04T11:47:46.965Z"
   },
   {
    "duration": 616,
    "start_time": "2022-01-04T11:47:59.039Z"
   },
   {
    "duration": 41,
    "start_time": "2022-01-04T11:47:59.657Z"
   },
   {
    "duration": 27,
    "start_time": "2022-01-04T11:47:59.700Z"
   },
   {
    "duration": 55,
    "start_time": "2022-01-04T11:47:59.728Z"
   },
   {
    "duration": 637,
    "start_time": "2022-01-04T11:49:32.124Z"
   },
   {
    "duration": 42,
    "start_time": "2022-01-04T11:49:32.765Z"
   },
   {
    "duration": 27,
    "start_time": "2022-01-04T11:49:32.808Z"
   },
   {
    "duration": 64,
    "start_time": "2022-01-04T11:49:32.836Z"
   },
   {
    "duration": 678,
    "start_time": "2022-01-04T11:53:30.105Z"
   },
   {
    "duration": 55,
    "start_time": "2022-01-04T11:53:30.784Z"
   },
   {
    "duration": 15,
    "start_time": "2022-01-04T11:53:30.841Z"
   },
   {
    "duration": 101,
    "start_time": "2022-01-04T11:53:30.858Z"
   },
   {
    "duration": 2449,
    "start_time": "2022-01-04T11:59:22.792Z"
   },
   {
    "duration": 82,
    "start_time": "2022-01-04T11:59:47.158Z"
   },
   {
    "duration": 81,
    "start_time": "2022-01-04T12:00:24.533Z"
   },
   {
    "duration": 606,
    "start_time": "2022-01-04T12:00:56.458Z"
   },
   {
    "duration": 40,
    "start_time": "2022-01-04T12:00:57.066Z"
   },
   {
    "duration": 31,
    "start_time": "2022-01-04T12:00:57.109Z"
   },
   {
    "duration": 92,
    "start_time": "2022-01-04T12:00:57.141Z"
   },
   {
    "duration": -14857,
    "start_time": "2022-01-04T12:09:58.337Z"
   },
   {
    "duration": 4980,
    "start_time": "2022-01-04T12:10:05.190Z"
   },
   {
    "duration": 8699,
    "start_time": "2022-01-04T12:10:19.666Z"
   },
   {
    "duration": 4279,
    "start_time": "2022-01-04T12:11:11.867Z"
   },
   {
    "duration": 4472,
    "start_time": "2022-01-04T12:15:08.119Z"
   },
   {
    "duration": 341,
    "start_time": "2022-01-04T12:21:18.902Z"
   },
   {
    "duration": 319,
    "start_time": "2022-01-04T12:23:11.052Z"
   },
   {
    "duration": 4272,
    "start_time": "2022-01-04T12:24:26.126Z"
   },
   {
    "duration": 4139,
    "start_time": "2022-01-04T12:28:03.197Z"
   },
   {
    "duration": 4235,
    "start_time": "2022-01-04T12:35:51.708Z"
   },
   {
    "duration": 4777,
    "start_time": "2022-01-04T12:36:53.979Z"
   },
   {
    "duration": 4391,
    "start_time": "2022-01-04T12:37:58.368Z"
   },
   {
    "duration": 618,
    "start_time": "2022-01-04T12:39:27.665Z"
   },
   {
    "duration": 46,
    "start_time": "2022-01-04T12:39:28.285Z"
   },
   {
    "duration": 14,
    "start_time": "2022-01-04T12:39:28.333Z"
   },
   {
    "duration": 104,
    "start_time": "2022-01-04T12:39:28.348Z"
   },
   {
    "duration": 91,
    "start_time": "2022-01-04T12:40:10.687Z"
   },
   {
    "duration": 92,
    "start_time": "2022-01-04T12:40:40.620Z"
   },
   {
    "duration": 627,
    "start_time": "2022-01-04T12:40:51.542Z"
   },
   {
    "duration": 41,
    "start_time": "2022-01-04T12:40:52.170Z"
   },
   {
    "duration": 27,
    "start_time": "2022-01-04T12:40:52.213Z"
   },
   {
    "duration": 103,
    "start_time": "2022-01-04T12:40:52.241Z"
   },
   {
    "duration": 443,
    "start_time": "2022-01-05T10:01:10.657Z"
   },
   {
    "duration": 2165,
    "start_time": "2022-01-05T10:01:32.059Z"
   },
   {
    "duration": 67,
    "start_time": "2022-01-05T10:01:34.226Z"
   },
   {
    "duration": 46,
    "start_time": "2022-01-05T10:01:34.296Z"
   },
   {
    "duration": 184,
    "start_time": "2022-01-05T10:01:34.344Z"
   },
   {
    "duration": 431,
    "start_time": "2022-01-05T10:01:34.530Z"
   },
   {
    "duration": 328,
    "start_time": "2022-01-05T10:02:59.273Z"
   },
   {
    "duration": 329,
    "start_time": "2022-01-05T10:04:08.295Z"
   },
   {
    "duration": 338,
    "start_time": "2022-01-05T10:04:46.349Z"
   },
   {
    "duration": 923,
    "start_time": "2022-01-05T10:20:15.262Z"
   },
   {
    "duration": 105,
    "start_time": "2022-01-05T10:43:30.818Z"
   },
   {
    "duration": 1343,
    "start_time": "2022-01-05T10:43:39.038Z"
   },
   {
    "duration": 4621,
    "start_time": "2022-01-05T10:45:49.284Z"
   },
   {
    "duration": 3566,
    "start_time": "2022-01-05T10:47:45.479Z"
   },
   {
    "duration": 4570,
    "start_time": "2022-01-05T10:49:28.486Z"
   },
   {
    "duration": 998,
    "start_time": "2022-01-05T10:50:12.124Z"
   },
   {
    "duration": 1375,
    "start_time": "2022-01-05T10:55:17.032Z"
   },
   {
    "duration": 1268,
    "start_time": "2022-01-05T10:58:12.119Z"
   },
   {
    "duration": 1437,
    "start_time": "2022-01-05T10:58:54.273Z"
   },
   {
    "duration": 1520,
    "start_time": "2022-01-05T10:59:17.823Z"
   },
   {
    "duration": 1396,
    "start_time": "2022-01-05T11:02:28.899Z"
   },
   {
    "duration": 1406,
    "start_time": "2022-01-05T11:02:32.461Z"
   },
   {
    "duration": 113,
    "start_time": "2022-01-05T11:07:13.724Z"
   },
   {
    "duration": 1482,
    "start_time": "2022-01-05T11:07:36.537Z"
   },
   {
    "duration": 5752,
    "start_time": "2022-01-05T11:08:14.222Z"
   },
   {
    "duration": 2443,
    "start_time": "2022-01-05T11:13:43.214Z"
   },
   {
    "duration": 2104,
    "start_time": "2022-01-05T11:14:44.192Z"
   },
   {
    "duration": 2290,
    "start_time": "2022-01-05T11:15:10.850Z"
   },
   {
    "duration": 4573,
    "start_time": "2022-01-05T11:16:20.674Z"
   },
   {
    "duration": 4797,
    "start_time": "2022-01-05T11:17:43.954Z"
   },
   {
    "duration": 4585,
    "start_time": "2022-01-05T11:18:45.684Z"
   },
   {
    "duration": 4964,
    "start_time": "2022-01-05T11:21:00.624Z"
   },
   {
    "duration": 905,
    "start_time": "2022-01-05T11:21:31.489Z"
   },
   {
    "duration": 74,
    "start_time": "2022-01-05T11:21:32.397Z"
   },
   {
    "duration": 57,
    "start_time": "2022-01-05T11:21:32.474Z"
   },
   {
    "duration": 189,
    "start_time": "2022-01-05T11:21:32.534Z"
   },
   {
    "duration": 4626,
    "start_time": "2022-01-05T11:21:32.726Z"
   },
   {
    "duration": 4488,
    "start_time": "2022-01-05T11:24:07.011Z"
   },
   {
    "duration": 101,
    "start_time": "2022-01-05T11:28:37.496Z"
   },
   {
    "duration": 4557,
    "start_time": "2022-01-05T11:28:56.147Z"
   },
   {
    "duration": 4801,
    "start_time": "2022-01-05T11:30:00.378Z"
   },
   {
    "duration": 4475,
    "start_time": "2022-01-05T11:32:46.593Z"
   },
   {
    "duration": 2552,
    "start_time": "2022-01-05T11:33:51.017Z"
   },
   {
    "duration": 4719,
    "start_time": "2022-01-05T11:35:56.074Z"
   },
   {
    "duration": 446,
    "start_time": "2022-01-06T09:56:45.825Z"
   },
   {
    "duration": 843,
    "start_time": "2022-01-06T09:56:56.554Z"
   },
   {
    "duration": 73,
    "start_time": "2022-01-06T09:56:57.400Z"
   },
   {
    "duration": 48,
    "start_time": "2022-01-06T09:56:57.476Z"
   },
   {
    "duration": 171,
    "start_time": "2022-01-06T09:56:57.526Z"
   },
   {
    "duration": 5498,
    "start_time": "2022-01-06T09:56:57.699Z"
   },
   {
    "duration": 5721,
    "start_time": "2022-01-06T09:57:46.842Z"
   },
   {
    "duration": 5049,
    "start_time": "2022-01-06T09:58:42.501Z"
   },
   {
    "duration": 5379,
    "start_time": "2022-01-06T09:59:11.281Z"
   },
   {
    "duration": 4935,
    "start_time": "2022-01-06T09:59:44.164Z"
   },
   {
    "duration": 5099,
    "start_time": "2022-01-06T10:00:00.929Z"
   },
   {
    "duration": 5512,
    "start_time": "2022-01-06T10:00:20.319Z"
   },
   {
    "duration": 4960,
    "start_time": "2022-01-06T10:01:55.841Z"
   },
   {
    "duration": 5106,
    "start_time": "2022-01-06T10:03:54.883Z"
   },
   {
    "duration": 5418,
    "start_time": "2022-01-06T10:05:02.516Z"
   },
   {
    "duration": 5706,
    "start_time": "2022-01-06T10:05:51.242Z"
   },
   {
    "duration": 5409,
    "start_time": "2022-01-06T10:06:18.171Z"
   },
   {
    "duration": 5556,
    "start_time": "2022-01-06T10:32:42.577Z"
   },
   {
    "duration": 4955,
    "start_time": "2022-01-06T10:34:18.647Z"
   },
   {
    "duration": 9,
    "start_time": "2022-01-06T10:36:02.425Z"
   },
   {
    "duration": 5596,
    "start_time": "2022-01-06T10:36:09.305Z"
   },
   {
    "duration": 758,
    "start_time": "2022-01-07T10:42:41.609Z"
   },
   {
    "duration": 50,
    "start_time": "2022-01-07T10:42:42.370Z"
   },
   {
    "duration": 39,
    "start_time": "2022-01-07T10:42:42.423Z"
   },
   {
    "duration": 128,
    "start_time": "2022-01-07T10:42:42.464Z"
   },
   {
    "duration": 3894,
    "start_time": "2022-01-07T10:42:42.594Z"
   },
   {
    "duration": 8,
    "start_time": "2022-01-07T10:42:46.490Z"
   },
   {
    "duration": 678,
    "start_time": "2022-01-07T10:48:44.640Z"
   },
   {
    "duration": 59,
    "start_time": "2022-01-07T10:48:45.320Z"
   },
   {
    "duration": 17,
    "start_time": "2022-01-07T10:48:45.381Z"
   },
   {
    "duration": 121,
    "start_time": "2022-01-07T10:48:45.399Z"
   },
   {
    "duration": 3908,
    "start_time": "2022-01-07T10:48:45.522Z"
   },
   {
    "duration": 6,
    "start_time": "2022-01-07T10:48:49.432Z"
   },
   {
    "duration": 705,
    "start_time": "2022-01-07T11:10:54.056Z"
   },
   {
    "duration": 49,
    "start_time": "2022-01-07T11:10:54.764Z"
   },
   {
    "duration": 17,
    "start_time": "2022-01-07T11:10:54.815Z"
   },
   {
    "duration": 131,
    "start_time": "2022-01-07T11:10:54.833Z"
   },
   {
    "duration": 986,
    "start_time": "2022-01-07T11:10:54.965Z"
   },
   {
    "duration": -5566,
    "start_time": "2022-01-07T11:11:01.519Z"
   },
   {
    "duration": 3801,
    "start_time": "2022-01-07T11:11:23.029Z"
   },
   {
    "duration": 6401,
    "start_time": "2022-01-07T11:11:44.806Z"
   },
   {
    "duration": 7,
    "start_time": "2022-01-07T11:12:11.668Z"
   },
   {
    "duration": 3940,
    "start_time": "2022-01-07T11:21:48.870Z"
   },
   {
    "duration": 280,
    "start_time": "2022-01-07T11:35:30.593Z"
   },
   {
    "duration": 295,
    "start_time": "2022-01-07T11:35:40.114Z"
   },
   {
    "duration": 450,
    "start_time": "2022-01-07T11:37:21.217Z"
   },
   {
    "duration": 1058,
    "start_time": "2022-01-07T11:49:05.687Z"
   },
   {
    "duration": 8,
    "start_time": "2022-01-07T11:49:28.167Z"
   },
   {
    "duration": 9,
    "start_time": "2022-01-07T11:50:37.710Z"
   },
   {
    "duration": 16,
    "start_time": "2022-01-07T11:52:07.920Z"
   },
   {
    "duration": 23,
    "start_time": "2022-01-07T11:52:25.192Z"
   },
   {
    "duration": 29,
    "start_time": "2022-01-07T11:53:53.664Z"
   },
   {
    "duration": 12,
    "start_time": "2022-01-07T12:08:58.378Z"
   },
   {
    "duration": 13,
    "start_time": "2022-01-07T12:11:02.220Z"
   },
   {
    "duration": 14,
    "start_time": "2022-01-07T12:11:37.062Z"
   },
   {
    "duration": 22,
    "start_time": "2022-01-07T12:11:57.167Z"
   },
   {
    "duration": 13,
    "start_time": "2022-01-07T12:16:13.562Z"
   },
   {
    "duration": 172,
    "start_time": "2022-01-07T12:17:27.713Z"
   },
   {
    "duration": 11,
    "start_time": "2022-01-07T12:17:38.404Z"
   },
   {
    "duration": 18,
    "start_time": "2022-01-07T12:17:59.623Z"
   },
   {
    "duration": 56,
    "start_time": "2022-01-07T12:19:51.284Z"
   },
   {
    "duration": 54,
    "start_time": "2022-01-07T12:20:18.410Z"
   },
   {
    "duration": 57,
    "start_time": "2022-01-07T12:22:49.046Z"
   },
   {
    "duration": 59,
    "start_time": "2022-01-07T12:23:06.653Z"
   },
   {
    "duration": 56,
    "start_time": "2022-01-07T12:24:41.310Z"
   },
   {
    "duration": 1342,
    "start_time": "2022-01-07T12:30:25.621Z"
   },
   {
    "duration": 57,
    "start_time": "2022-01-07T12:33:26.439Z"
   },
   {
    "duration": 62,
    "start_time": "2022-01-07T12:34:26.174Z"
   },
   {
    "duration": 1445,
    "start_time": "2022-01-07T12:45:46.460Z"
   },
   {
    "duration": 311,
    "start_time": "2022-01-07T12:46:12.068Z"
   },
   {
    "duration": 308,
    "start_time": "2022-01-07T12:46:53.117Z"
   },
   {
    "duration": 60,
    "start_time": "2022-01-07T12:47:29.199Z"
   },
   {
    "duration": 375,
    "start_time": "2022-01-07T12:58:46.628Z"
   },
   {
    "duration": 1834,
    "start_time": "2022-01-07T13:08:08.165Z"
   },
   {
    "duration": 1877,
    "start_time": "2022-01-07T13:08:35.829Z"
   },
   {
    "duration": 1889,
    "start_time": "2022-01-07T13:09:12.776Z"
   },
   {
    "duration": 353,
    "start_time": "2022-01-07T13:10:40.065Z"
   },
   {
    "duration": 241,
    "start_time": "2022-01-07T13:11:02.454Z"
   },
   {
    "duration": 990,
    "start_time": "2022-01-07T13:11:11.461Z"
   },
   {
    "duration": 412,
    "start_time": "2022-01-07T13:11:12.453Z"
   },
   {
    "duration": -5441,
    "start_time": "2022-01-07T13:11:18.309Z"
   },
   {
    "duration": -5445,
    "start_time": "2022-01-07T13:11:18.314Z"
   },
   {
    "duration": -5452,
    "start_time": "2022-01-07T13:11:18.323Z"
   },
   {
    "duration": -5455,
    "start_time": "2022-01-07T13:11:18.327Z"
   },
   {
    "duration": 314,
    "start_time": "2022-01-07T13:12:33.846Z"
   },
   {
    "duration": 682,
    "start_time": "2022-01-07T13:12:42.230Z"
   },
   {
    "duration": 365,
    "start_time": "2022-01-07T13:12:42.914Z"
   },
   {
    "duration": -5400,
    "start_time": "2022-01-07T13:12:48.681Z"
   },
   {
    "duration": -5441,
    "start_time": "2022-01-07T13:12:48.723Z"
   },
   {
    "duration": -5445,
    "start_time": "2022-01-07T13:12:48.728Z"
   },
   {
    "duration": -5450,
    "start_time": "2022-01-07T13:12:48.734Z"
   },
   {
    "duration": 84,
    "start_time": "2022-01-07T13:13:26.058Z"
   },
   {
    "duration": 298,
    "start_time": "2022-01-07T13:13:31.109Z"
   },
   {
    "duration": 439,
    "start_time": "2022-01-07T13:14:02.840Z"
   },
   {
    "duration": 718,
    "start_time": "2022-01-07T13:14:13.231Z"
   },
   {
    "duration": 57,
    "start_time": "2022-01-07T13:14:13.951Z"
   },
   {
    "duration": 458,
    "start_time": "2022-01-07T13:14:14.010Z"
   },
   {
    "duration": -5393,
    "start_time": "2022-01-07T13:14:19.863Z"
   },
   {
    "duration": -5416,
    "start_time": "2022-01-07T13:14:19.887Z"
   },
   {
    "duration": -5421,
    "start_time": "2022-01-07T13:14:19.894Z"
   },
   {
    "duration": 371,
    "start_time": "2022-01-07T13:14:47.211Z"
   },
   {
    "duration": 66,
    "start_time": "2022-01-07T13:14:55.578Z"
   },
   {
    "duration": 350,
    "start_time": "2022-01-07T13:15:01.166Z"
   },
   {
    "duration": 287,
    "start_time": "2022-01-07T13:15:27.160Z"
   },
   {
    "duration": 697,
    "start_time": "2022-01-07T13:15:33.198Z"
   },
   {
    "duration": 64,
    "start_time": "2022-01-07T13:15:43.106Z"
   },
   {
    "duration": 315,
    "start_time": "2022-01-07T13:15:49.639Z"
   },
   {
    "duration": 246,
    "start_time": "2022-01-07T13:18:05.059Z"
   },
   {
    "duration": 67,
    "start_time": "2022-01-07T13:18:17.357Z"
   },
   {
    "duration": 282,
    "start_time": "2022-01-07T13:18:25.143Z"
   },
   {
    "duration": 116,
    "start_time": "2022-01-07T13:21:35.985Z"
   },
   {
    "duration": 234,
    "start_time": "2022-01-07T13:21:52.428Z"
   },
   {
    "duration": 677,
    "start_time": "2022-01-07T13:21:59.873Z"
   },
   {
    "duration": 653,
    "start_time": "2022-01-07T13:22:00.552Z"
   },
   {
    "duration": -5426,
    "start_time": "2022-01-07T13:22:06.634Z"
   },
   {
    "duration": -5428,
    "start_time": "2022-01-07T13:22:06.637Z"
   },
   {
    "duration": -5430,
    "start_time": "2022-01-07T13:22:06.640Z"
   },
   {
    "duration": -5433,
    "start_time": "2022-01-07T13:22:06.644Z"
   },
   {
    "duration": 483,
    "start_time": "2022-01-07T13:22:29.111Z"
   },
   {
    "duration": 67,
    "start_time": "2022-01-07T13:22:37.526Z"
   },
   {
    "duration": 870,
    "start_time": "2022-01-07T13:22:43.656Z"
   },
   {
    "duration": 80,
    "start_time": "2022-01-07T13:24:05.778Z"
   },
   {
    "duration": 82,
    "start_time": "2022-01-07T13:24:24.070Z"
   },
   {
    "duration": 84,
    "start_time": "2022-01-07T13:26:30.826Z"
   },
   {
    "duration": 81,
    "start_time": "2022-01-07T13:28:35.726Z"
   },
   {
    "duration": 266,
    "start_time": "2022-01-07T13:29:29.557Z"
   },
   {
    "duration": 638,
    "start_time": "2022-01-07T13:29:38.575Z"
   },
   {
    "duration": 376,
    "start_time": "2022-01-07T13:29:39.215Z"
   },
   {
    "duration": -5409,
    "start_time": "2022-01-07T13:29:45.002Z"
   },
   {
    "duration": -5411,
    "start_time": "2022-01-07T13:29:45.006Z"
   },
   {
    "duration": -5413,
    "start_time": "2022-01-07T13:29:45.010Z"
   },
   {
    "duration": -5418,
    "start_time": "2022-01-07T13:29:45.016Z"
   },
   {
    "duration": 510,
    "start_time": "2022-01-07T13:30:33.319Z"
   },
   {
    "duration": 706,
    "start_time": "2022-01-07T13:30:40.824Z"
   },
   {
    "duration": 66,
    "start_time": "2022-01-07T13:30:41.532Z"
   },
   {
    "duration": 314,
    "start_time": "2022-01-07T13:30:41.601Z"
   },
   {
    "duration": -5420,
    "start_time": "2022-01-07T13:30:47.337Z"
   },
   {
    "duration": -5424,
    "start_time": "2022-01-07T13:30:47.342Z"
   },
   {
    "duration": -5427,
    "start_time": "2022-01-07T13:30:47.346Z"
   },
   {
    "duration": 99,
    "start_time": "2022-01-07T13:31:06.343Z"
   },
   {
    "duration": 58,
    "start_time": "2022-01-07T13:31:12.165Z"
   },
   {
    "duration": 307,
    "start_time": "2022-01-07T13:31:18.315Z"
   },
   {
    "duration": 242,
    "start_time": "2022-01-07T13:31:29.780Z"
   },
   {
    "duration": 699,
    "start_time": "2022-01-07T13:31:36.628Z"
   },
   {
    "duration": 56,
    "start_time": "2022-01-07T13:31:37.329Z"
   },
   {
    "duration": 17,
    "start_time": "2022-01-07T13:31:37.387Z"
   },
   {
    "duration": 133,
    "start_time": "2022-01-07T13:31:37.405Z"
   },
   {
    "duration": 3639,
    "start_time": "2022-01-07T13:31:37.540Z"
   },
   {
    "duration": 3,
    "start_time": "2022-01-07T13:31:41.182Z"
   },
   {
    "duration": 6727,
    "start_time": "2022-01-07T13:35:30.408Z"
   },
   {
    "duration": 5231,
    "start_time": "2022-01-07T13:36:56.931Z"
   },
   {
    "duration": 5016,
    "start_time": "2022-01-07T13:37:53.064Z"
   },
   {
    "duration": 67,
    "start_time": "2022-01-07T13:38:40.643Z"
   },
   {
    "duration": 249,
    "start_time": "2022-01-07T13:39:50.603Z"
   },
   {
    "duration": 684,
    "start_time": "2022-01-07T13:39:58.078Z"
   },
   {
    "duration": 515,
    "start_time": "2022-01-07T13:39:58.764Z"
   },
   {
    "duration": -5393,
    "start_time": "2022-01-07T13:40:04.675Z"
   },
   {
    "duration": -5399,
    "start_time": "2022-01-07T13:40:04.682Z"
   },
   {
    "duration": -5409,
    "start_time": "2022-01-07T13:40:04.693Z"
   },
   {
    "duration": -5413,
    "start_time": "2022-01-07T13:40:04.698Z"
   },
   {
    "duration": 110,
    "start_time": "2022-01-07T13:44:43.921Z"
   },
   {
    "duration": 159,
    "start_time": "2022-01-07T13:44:49.441Z"
   },
   {
    "duration": 919,
    "start_time": "2022-01-07T13:45:07.803Z"
   },
   {
    "duration": 102,
    "start_time": "2022-01-07T13:45:08.724Z"
   },
   {
    "duration": -5342,
    "start_time": "2022-01-07T13:45:14.171Z"
   },
   {
    "duration": -5345,
    "start_time": "2022-01-07T13:45:14.175Z"
   },
   {
    "duration": -5364,
    "start_time": "2022-01-07T13:45:14.196Z"
   },
   {
    "duration": -5366,
    "start_time": "2022-01-07T13:45:14.199Z"
   },
   {
    "duration": 358,
    "start_time": "2022-01-07T13:45:43.556Z"
   },
   {
    "duration": 293,
    "start_time": "2022-01-07T13:46:05.885Z"
   },
   {
    "duration": 291,
    "start_time": "2022-01-07T13:46:55.848Z"
   },
   {
    "duration": 55,
    "start_time": "2022-01-07T13:47:29.220Z"
   },
   {
    "duration": 7138,
    "start_time": "2022-01-07T13:48:41.781Z"
   },
   {
    "duration": 72,
    "start_time": "2022-01-07T13:49:00.012Z"
   },
   {
    "duration": 6610,
    "start_time": "2022-01-07T13:49:05.787Z"
   },
   {
    "duration": 6212,
    "start_time": "2022-01-07T13:54:15.923Z"
   },
   {
    "duration": 66,
    "start_time": "2022-01-07T13:54:32.441Z"
   },
   {
    "duration": 8071,
    "start_time": "2022-01-07T13:54:38.224Z"
   },
   {
    "duration": 857,
    "start_time": "2022-01-07T15:09:03.365Z"
   },
   {
    "duration": 7457,
    "start_time": "2022-01-07T15:09:04.225Z"
   },
   {
    "duration": -539,
    "start_time": "2022-01-07T15:09:12.224Z"
   },
   {
    "duration": -544,
    "start_time": "2022-01-07T15:09:12.232Z"
   },
   {
    "duration": -546,
    "start_time": "2022-01-07T15:09:12.237Z"
   },
   {
    "duration": -550,
    "start_time": "2022-01-07T15:09:12.243Z"
   },
   {
    "duration": 766,
    "start_time": "2022-01-07T15:09:51.914Z"
   },
   {
    "duration": 142,
    "start_time": "2022-01-07T15:11:41.796Z"
   },
   {
    "duration": 7794,
    "start_time": "2022-01-07T15:11:50.716Z"
   },
   {
    "duration": 93,
    "start_time": "2022-01-07T15:12:10.966Z"
   },
   {
    "duration": 95,
    "start_time": "2022-01-07T15:12:16.517Z"
   },
   {
    "duration": 34,
    "start_time": "2022-01-07T15:12:31.822Z"
   },
   {
    "duration": 165,
    "start_time": "2022-01-07T15:12:43.037Z"
   },
   {
    "duration": 5607,
    "start_time": "2022-01-07T15:12:48.838Z"
   },
   {
    "duration": 7,
    "start_time": "2022-01-07T15:13:01.488Z"
   },
   {
    "duration": 13,
    "start_time": "2022-01-07T15:13:29.671Z"
   },
   {
    "duration": 1807,
    "start_time": "2022-01-07T15:17:26.915Z"
   },
   {
    "duration": 102,
    "start_time": "2022-01-07T15:25:02.706Z"
   },
   {
    "duration": 19,
    "start_time": "2022-01-07T15:25:10.264Z"
   },
   {
    "duration": 802,
    "start_time": "2022-01-07T15:25:25.809Z"
   },
   {
    "duration": 104,
    "start_time": "2022-01-07T15:25:26.613Z"
   },
   {
    "duration": 50,
    "start_time": "2022-01-07T15:25:26.723Z"
   },
   {
    "duration": 189,
    "start_time": "2022-01-07T15:25:26.775Z"
   },
   {
    "duration": 5105,
    "start_time": "2022-01-07T15:25:26.966Z"
   },
   {
    "duration": 20,
    "start_time": "2022-01-07T15:25:32.074Z"
   },
   {
    "duration": 107,
    "start_time": "2022-01-07T15:26:03.625Z"
   },
   {
    "duration": 134,
    "start_time": "2022-01-07T15:37:43.183Z"
   },
   {
    "duration": 141,
    "start_time": "2022-01-07T15:38:28.225Z"
   },
   {
    "duration": 131,
    "start_time": "2022-01-07T15:38:55.934Z"
   },
   {
    "duration": 167,
    "start_time": "2022-01-07T15:39:10.451Z"
   },
   {
    "duration": 123,
    "start_time": "2022-01-07T15:39:45.297Z"
   },
   {
    "duration": 57,
    "start_time": "2022-01-07T15:40:05.175Z"
   },
   {
    "duration": 44,
    "start_time": "2022-01-07T15:40:17.303Z"
   },
   {
    "duration": 858,
    "start_time": "2022-01-07T15:40:31.764Z"
   },
   {
    "duration": 104,
    "start_time": "2022-01-07T15:40:32.624Z"
   },
   {
    "duration": 41,
    "start_time": "2022-01-07T15:40:32.732Z"
   },
   {
    "duration": 191,
    "start_time": "2022-01-07T15:40:32.776Z"
   },
   {
    "duration": 5116,
    "start_time": "2022-01-07T15:40:32.970Z"
   },
   {
    "duration": 20,
    "start_time": "2022-01-07T15:40:38.089Z"
   },
   {
    "duration": 168,
    "start_time": "2022-01-07T15:41:23.618Z"
   },
   {
    "duration": 189,
    "start_time": "2022-01-07T15:41:41.648Z"
   },
   {
    "duration": 833,
    "start_time": "2022-01-07T15:41:52.215Z"
   },
   {
    "duration": 155,
    "start_time": "2022-01-07T15:41:53.052Z"
   },
   {
    "duration": 52,
    "start_time": "2022-01-07T15:41:53.211Z"
   },
   {
    "duration": 179,
    "start_time": "2022-01-07T15:41:53.266Z"
   },
   {
    "duration": 5758,
    "start_time": "2022-01-07T15:41:53.448Z"
   },
   {
    "duration": 22,
    "start_time": "2022-01-07T15:41:59.210Z"
   },
   {
    "duration": 405,
    "start_time": "2022-01-07T15:45:25.940Z"
   },
   {
    "duration": 44,
    "start_time": "2022-01-07T15:45:45.423Z"
   },
   {
    "duration": 56,
    "start_time": "2022-01-07T15:46:17.107Z"
   },
   {
    "duration": 88,
    "start_time": "2022-01-07T15:46:31.111Z"
   },
   {
    "duration": 380,
    "start_time": "2022-01-07T15:47:41.126Z"
   },
   {
    "duration": 41,
    "start_time": "2022-01-07T15:48:20.228Z"
   },
   {
    "duration": 631,
    "start_time": "2022-01-07T15:49:40.791Z"
   },
   {
    "duration": 15,
    "start_time": "2022-01-07T15:50:54.831Z"
   },
   {
    "duration": 19,
    "start_time": "2022-01-07T15:51:35.588Z"
   },
   {
    "duration": 16,
    "start_time": "2022-01-07T15:51:48.422Z"
   },
   {
    "duration": 9,
    "start_time": "2022-01-07T16:13:25.509Z"
   },
   {
    "duration": 1503,
    "start_time": "2022-01-07T16:43:26.888Z"
   },
   {
    "duration": 24,
    "start_time": "2022-01-07T16:46:52.600Z"
   },
   {
    "duration": 32,
    "start_time": "2022-01-07T16:47:38.652Z"
   },
   {
    "duration": 35,
    "start_time": "2022-01-07T16:56:19.677Z"
   },
   {
    "duration": 54,
    "start_time": "2022-01-07T16:57:07.354Z"
   },
   {
    "duration": 38,
    "start_time": "2022-01-07T16:57:48.679Z"
   },
   {
    "duration": 131,
    "start_time": "2022-01-07T16:58:08.859Z"
   },
   {
    "duration": 39,
    "start_time": "2022-01-07T16:58:17.292Z"
   },
   {
    "duration": 55,
    "start_time": "2022-01-07T16:58:53.647Z"
   },
   {
    "duration": 9033,
    "start_time": "2022-01-07T17:49:48.341Z"
   },
   {
    "duration": 63,
    "start_time": "2022-01-07T17:50:07.577Z"
   },
   {
    "duration": 65,
    "start_time": "2022-01-07T17:50:34.786Z"
   },
   {
    "duration": 67,
    "start_time": "2022-01-07T17:50:53.360Z"
   },
   {
    "duration": 43,
    "start_time": "2022-01-07T17:51:32.612Z"
   },
   {
    "duration": 43,
    "start_time": "2022-01-07T17:51:47.493Z"
   },
   {
    "duration": 63,
    "start_time": "2022-01-07T17:55:15.876Z"
   },
   {
    "duration": 78,
    "start_time": "2022-01-07T17:56:05.305Z"
   },
   {
    "duration": 76,
    "start_time": "2022-01-07T17:56:11.152Z"
   },
   {
    "duration": 54,
    "start_time": "2022-01-07T17:56:22.030Z"
   },
   {
    "duration": 52,
    "start_time": "2022-01-07T17:56:27.915Z"
   },
   {
    "duration": 53,
    "start_time": "2022-01-07T17:56:35.934Z"
   },
   {
    "duration": 51,
    "start_time": "2022-01-07T17:56:51.063Z"
   },
   {
    "duration": 997,
    "start_time": "2022-01-07T17:57:18.659Z"
   },
   {
    "duration": 153,
    "start_time": "2022-01-07T17:57:19.661Z"
   },
   {
    "duration": 57,
    "start_time": "2022-01-07T17:57:19.818Z"
   },
   {
    "duration": 186,
    "start_time": "2022-01-07T17:57:19.879Z"
   },
   {
    "duration": 5714,
    "start_time": "2022-01-07T17:57:20.068Z"
   },
   {
    "duration": 115,
    "start_time": "2022-01-07T17:57:25.786Z"
   },
   {
    "duration": 74,
    "start_time": "2022-01-07T17:57:37.123Z"
   },
   {
    "duration": 60,
    "start_time": "2022-01-07T17:57:51.564Z"
   },
   {
    "duration": 51,
    "start_time": "2022-01-07T17:58:03.365Z"
   },
   {
    "duration": 75,
    "start_time": "2022-01-07T17:58:26.904Z"
   },
   {
    "duration": 54,
    "start_time": "2022-01-07T17:58:58.163Z"
   },
   {
    "duration": 64,
    "start_time": "2022-01-07T17:59:54.187Z"
   },
   {
    "duration": 1150,
    "start_time": "2022-01-07T18:01:59.299Z"
   },
   {
    "duration": 166,
    "start_time": "2022-01-07T18:02:00.452Z"
   },
   {
    "duration": 47,
    "start_time": "2022-01-07T18:02:00.622Z"
   },
   {
    "duration": 240,
    "start_time": "2022-01-07T18:02:00.673Z"
   },
   {
    "duration": 5747,
    "start_time": "2022-01-07T18:02:00.916Z"
   },
   {
    "duration": 207,
    "start_time": "2022-01-07T18:02:06.666Z"
   },
   {
    "duration": 52,
    "start_time": "2022-01-07T18:05:43.206Z"
   },
   {
    "duration": 68,
    "start_time": "2022-01-07T18:06:10.186Z"
   },
   {
    "duration": 551,
    "start_time": "2022-01-07T18:08:28.516Z"
   },
   {
    "duration": 5,
    "start_time": "2022-01-07T18:08:36.891Z"
   },
   {
    "duration": 12,
    "start_time": "2022-01-07T18:08:55.652Z"
   },
   {
    "duration": 12,
    "start_time": "2022-01-07T18:09:39.823Z"
   },
   {
    "duration": 45,
    "start_time": "2022-01-07T18:15:15.690Z"
   },
   {
    "duration": 51,
    "start_time": "2022-01-07T18:15:35.565Z"
   },
   {
    "duration": 94,
    "start_time": "2022-01-07T18:15:49.227Z"
   },
   {
    "duration": 104,
    "start_time": "2022-01-07T18:16:20.343Z"
   },
   {
    "duration": 243,
    "start_time": "2022-01-07T18:16:42.751Z"
   },
   {
    "duration": 1900,
    "start_time": "2022-01-07T18:17:40.043Z"
   },
   {
    "duration": 10,
    "start_time": "2022-01-07T18:18:18.167Z"
   },
   {
    "duration": 16,
    "start_time": "2022-01-07T18:21:06.556Z"
   },
   {
    "duration": 289,
    "start_time": "2022-01-07T18:30:40.239Z"
   },
   {
    "duration": 404,
    "start_time": "2022-01-07T18:30:46.220Z"
   },
   {
    "duration": 15,
    "start_time": "2022-01-07T18:30:54.294Z"
   },
   {
    "duration": 102,
    "start_time": "2022-01-07T18:35:56.760Z"
   },
   {
    "duration": 104,
    "start_time": "2022-01-07T18:36:24.744Z"
   },
   {
    "duration": 143,
    "start_time": "2022-01-07T18:37:45.100Z"
   },
   {
    "duration": 97,
    "start_time": "2022-01-07T18:37:53.640Z"
   },
   {
    "duration": 146,
    "start_time": "2022-01-07T18:38:03.045Z"
   },
   {
    "duration": 116,
    "start_time": "2022-01-07T18:38:17.980Z"
   },
   {
    "duration": 82,
    "start_time": "2022-01-07T18:39:04.120Z"
   },
   {
    "duration": 11,
    "start_time": "2022-01-07T18:39:18.391Z"
   },
   {
    "duration": 816,
    "start_time": "2022-01-07T18:44:37.493Z"
   },
   {
    "duration": 108,
    "start_time": "2022-01-07T18:44:38.311Z"
   },
   {
    "duration": 42,
    "start_time": "2022-01-07T18:44:38.422Z"
   },
   {
    "duration": 183,
    "start_time": "2022-01-07T18:44:38.467Z"
   },
   {
    "duration": 4807,
    "start_time": "2022-01-07T18:44:38.662Z"
   },
   {
    "duration": 91,
    "start_time": "2022-01-07T18:44:43.472Z"
   },
   {
    "duration": 18,
    "start_time": "2022-01-07T18:44:43.565Z"
   },
   {
    "duration": 8931,
    "start_time": "2022-01-07T18:47:18.731Z"
   },
   {
    "duration": 8262,
    "start_time": "2022-01-07T18:48:52.821Z"
   },
   {
    "duration": 8262,
    "start_time": "2022-01-07T18:50:00.795Z"
   },
   {
    "duration": 8505,
    "start_time": "2022-01-07T18:51:19.957Z"
   },
   {
    "duration": 8349,
    "start_time": "2022-01-07T18:52:55.431Z"
   },
   {
    "duration": 289,
    "start_time": "2022-01-07T18:53:17.941Z"
   },
   {
    "duration": 8224,
    "start_time": "2022-01-07T18:53:27.771Z"
   },
   {
    "duration": 13181,
    "start_time": "2022-01-07T18:54:19.218Z"
   },
   {
    "duration": 8020,
    "start_time": "2022-01-07T18:55:19.140Z"
   },
   {
    "duration": 8801,
    "start_time": "2022-01-07T18:56:37.272Z"
   },
   {
    "duration": 21,
    "start_time": "2022-01-07T18:58:00.243Z"
   },
   {
    "duration": 23,
    "start_time": "2022-01-07T19:00:57.641Z"
   },
   {
    "duration": 40,
    "start_time": "2022-01-07T19:02:03.760Z"
   },
   {
    "duration": 33,
    "start_time": "2022-01-07T19:03:02.767Z"
   },
   {
    "duration": 35,
    "start_time": "2022-01-07T19:03:34.225Z"
   },
   {
    "duration": 115,
    "start_time": "2022-01-07T19:03:46.512Z"
   },
   {
    "duration": 31,
    "start_time": "2022-01-07T19:03:53.034Z"
   },
   {
    "duration": 32,
    "start_time": "2022-01-07T19:08:45.798Z"
   },
   {
    "duration": 107,
    "start_time": "2022-01-07T19:09:05.907Z"
   },
   {
    "duration": 34,
    "start_time": "2022-01-07T19:09:26.592Z"
   },
   {
    "duration": 395,
    "start_time": "2022-01-07T19:12:29.267Z"
   },
   {
    "duration": 102,
    "start_time": "2022-01-07T19:17:17.397Z"
   },
   {
    "duration": 33,
    "start_time": "2022-01-07T19:17:26.374Z"
   },
   {
    "duration": 32,
    "start_time": "2022-01-07T19:17:38.121Z"
   },
   {
    "duration": 33,
    "start_time": "2022-01-07T19:18:10.663Z"
   },
   {
    "duration": 46,
    "start_time": "2022-01-07T19:19:35.678Z"
   },
   {
    "duration": 50,
    "start_time": "2022-01-07T19:19:50.892Z"
   },
   {
    "duration": 33,
    "start_time": "2022-01-07T19:19:57.718Z"
   },
   {
    "duration": 33,
    "start_time": "2022-01-07T19:20:05.855Z"
   },
   {
    "duration": 381,
    "start_time": "2022-01-07T19:20:24.254Z"
   },
   {
    "duration": 323,
    "start_time": "2022-01-07T19:20:54.566Z"
   },
   {
    "duration": 380,
    "start_time": "2022-01-07T19:21:01.286Z"
   },
   {
    "duration": 32,
    "start_time": "2022-01-07T19:21:06.087Z"
   },
   {
    "duration": 299,
    "start_time": "2022-01-07T19:22:07.158Z"
   },
   {
    "duration": 42,
    "start_time": "2022-01-07T19:22:13.656Z"
   },
   {
    "duration": 32,
    "start_time": "2022-01-07T19:22:23.842Z"
   },
   {
    "duration": 32,
    "start_time": "2022-01-07T19:22:31.689Z"
   },
   {
    "duration": 35,
    "start_time": "2022-01-07T19:22:39.896Z"
   },
   {
    "duration": 32,
    "start_time": "2022-01-07T19:23:09.305Z"
   },
   {
    "duration": 45,
    "start_time": "2022-01-07T19:25:14.287Z"
   },
   {
    "duration": 43,
    "start_time": "2022-01-07T19:25:58.025Z"
   },
   {
    "duration": 36,
    "start_time": "2022-01-07T19:27:28.859Z"
   },
   {
    "duration": 346,
    "start_time": "2022-01-07T19:28:13.959Z"
   },
   {
    "duration": 333,
    "start_time": "2022-01-07T19:28:21.914Z"
   },
   {
    "duration": 489,
    "start_time": "2022-01-07T19:28:36.769Z"
   },
   {
    "duration": 36,
    "start_time": "2022-01-07T19:28:51.667Z"
   },
   {
    "duration": 35,
    "start_time": "2022-01-07T19:29:37.563Z"
   },
   {
    "duration": 36,
    "start_time": "2022-01-07T19:30:02.252Z"
   },
   {
    "duration": 35,
    "start_time": "2022-01-07T19:30:36.230Z"
   },
   {
    "duration": 35,
    "start_time": "2022-01-07T19:30:56.558Z"
   },
   {
    "duration": 91,
    "start_time": "2022-01-07T19:31:07.250Z"
   },
   {
    "duration": 868,
    "start_time": "2022-01-07T19:31:17.956Z"
   },
   {
    "duration": 116,
    "start_time": "2022-01-07T19:31:18.827Z"
   },
   {
    "duration": 41,
    "start_time": "2022-01-07T19:31:18.946Z"
   },
   {
    "duration": 189,
    "start_time": "2022-01-07T19:31:18.990Z"
   },
   {
    "duration": 4936,
    "start_time": "2022-01-07T19:31:19.182Z"
   },
   {
    "duration": 87,
    "start_time": "2022-01-07T19:31:24.121Z"
   },
   {
    "duration": 100,
    "start_time": "2022-01-07T19:31:24.211Z"
   },
   {
    "duration": 148,
    "start_time": "2022-01-07T19:31:28.271Z"
   },
   {
    "duration": 224,
    "start_time": "2022-01-07T19:31:43.920Z"
   },
   {
    "duration": 98,
    "start_time": "2022-01-07T19:32:07.958Z"
   },
   {
    "duration": 142,
    "start_time": "2022-01-07T19:32:19.816Z"
   },
   {
    "duration": 105,
    "start_time": "2022-01-07T19:32:46.224Z"
   },
   {
    "duration": 407,
    "start_time": "2022-01-07T19:32:52.219Z"
   },
   {
    "duration": 360,
    "start_time": "2022-01-07T19:33:21.048Z"
   },
   {
    "duration": 420,
    "start_time": "2022-01-07T19:33:38.815Z"
   },
   {
    "duration": 24,
    "start_time": "2022-01-07T19:33:50.605Z"
   },
   {
    "duration": 23,
    "start_time": "2022-01-07T19:34:10.384Z"
   },
   {
    "duration": 397,
    "start_time": "2022-01-07T19:35:33.053Z"
   },
   {
    "duration": 341,
    "start_time": "2022-01-07T19:35:50.754Z"
   },
   {
    "duration": 321,
    "start_time": "2022-01-07T19:36:33.171Z"
   },
   {
    "duration": 112,
    "start_time": "2022-01-07T19:37:10.700Z"
   },
   {
    "duration": 410,
    "start_time": "2022-01-07T19:37:33.367Z"
   },
   {
    "duration": 312,
    "start_time": "2022-01-07T19:37:52.200Z"
   },
   {
    "duration": 321,
    "start_time": "2022-01-07T19:38:09.253Z"
   },
   {
    "duration": 221,
    "start_time": "2022-01-07T19:38:20.126Z"
   },
   {
    "duration": 333,
    "start_time": "2022-01-07T19:38:27.676Z"
   },
   {
    "duration": 305,
    "start_time": "2022-01-07T19:38:58.154Z"
   },
   {
    "duration": 336,
    "start_time": "2022-01-07T19:39:40.091Z"
   },
   {
    "duration": 828,
    "start_time": "2022-01-07T19:39:53.160Z"
   },
   {
    "duration": 105,
    "start_time": "2022-01-07T19:39:53.991Z"
   },
   {
    "duration": 28,
    "start_time": "2022-01-07T19:39:54.099Z"
   },
   {
    "duration": 201,
    "start_time": "2022-01-07T19:39:54.130Z"
   },
   {
    "duration": 4573,
    "start_time": "2022-01-07T19:39:54.334Z"
   },
   {
    "duration": 82,
    "start_time": "2022-01-07T19:39:58.910Z"
   },
   {
    "duration": 410,
    "start_time": "2022-01-07T19:39:58.995Z"
   },
   {
    "duration": 28,
    "start_time": "2022-01-07T19:40:20.013Z"
   },
   {
    "duration": 322,
    "start_time": "2022-01-07T19:40:30.241Z"
   },
   {
    "duration": 26,
    "start_time": "2022-01-07T19:40:53.786Z"
   },
   {
    "duration": 30,
    "start_time": "2022-01-07T19:41:38.740Z"
   },
   {
    "duration": 20,
    "start_time": "2022-01-07T19:42:31.357Z"
   },
   {
    "duration": 179,
    "start_time": "2022-01-07T19:43:01.470Z"
   },
   {
    "duration": 18,
    "start_time": "2022-01-07T19:43:16.627Z"
   },
   {
    "duration": 30,
    "start_time": "2022-01-07T19:44:22.980Z"
   },
   {
    "duration": 35,
    "start_time": "2022-01-07T19:44:55.658Z"
   },
   {
    "duration": 104,
    "start_time": "2022-01-07T19:45:55.264Z"
   },
   {
    "duration": 403,
    "start_time": "2022-01-07T19:46:14.837Z"
   },
   {
    "duration": 321,
    "start_time": "2022-01-07T19:47:04.570Z"
   },
   {
    "duration": 393,
    "start_time": "2022-01-07T19:47:34.221Z"
   },
   {
    "duration": 33,
    "start_time": "2022-01-07T19:47:51.660Z"
   },
   {
    "duration": 33,
    "start_time": "2022-01-07T19:48:26.874Z"
   },
   {
    "duration": 32,
    "start_time": "2022-01-07T19:48:39.688Z"
   },
   {
    "duration": 31,
    "start_time": "2022-01-07T19:49:18.452Z"
   },
   {
    "duration": 36,
    "start_time": "2022-01-07T19:49:25.265Z"
   },
   {
    "duration": 35,
    "start_time": "2022-01-07T19:49:37.676Z"
   },
   {
    "duration": 31,
    "start_time": "2022-01-07T19:49:42.797Z"
   },
   {
    "duration": 32,
    "start_time": "2022-01-07T19:49:52.632Z"
   },
   {
    "duration": 34,
    "start_time": "2022-01-07T19:50:01.169Z"
   },
   {
    "duration": 34,
    "start_time": "2022-01-07T19:50:09.084Z"
   },
   {
    "duration": 323,
    "start_time": "2022-01-07T19:50:29.808Z"
   },
   {
    "duration": 319,
    "start_time": "2022-01-07T19:50:33.604Z"
   },
   {
    "duration": 35,
    "start_time": "2022-01-07T19:50:42.822Z"
   },
   {
    "duration": 314,
    "start_time": "2022-01-07T19:50:49.403Z"
   },
   {
    "duration": 38,
    "start_time": "2022-01-07T19:50:55.610Z"
   },
   {
    "duration": 50,
    "start_time": "2022-01-07T19:52:07.928Z"
   },
   {
    "duration": 11,
    "start_time": "2022-01-07T19:55:44.183Z"
   },
   {
    "duration": 12,
    "start_time": "2022-01-07T19:56:55.269Z"
   },
   {
    "duration": 49,
    "start_time": "2022-01-07T20:00:59.001Z"
   },
   {
    "duration": 43,
    "start_time": "2022-01-07T20:04:38.946Z"
   },
   {
    "duration": 106,
    "start_time": "2022-01-07T20:04:55.579Z"
   },
   {
    "duration": 38,
    "start_time": "2022-01-07T20:05:06.167Z"
   },
   {
    "duration": 39,
    "start_time": "2022-01-07T20:06:40.472Z"
   },
   {
    "duration": 8808,
    "start_time": "2022-01-07T20:10:43.973Z"
   },
   {
    "duration": 8558,
    "start_time": "2022-01-07T20:10:59.605Z"
   },
   {
    "duration": 23,
    "start_time": "2022-01-07T20:11:39.817Z"
   },
   {
    "duration": 32,
    "start_time": "2022-01-07T20:13:35.581Z"
   },
   {
    "duration": 40,
    "start_time": "2022-01-07T20:15:47.662Z"
   },
   {
    "duration": 54,
    "start_time": "2022-01-07T20:17:39.822Z"
   },
   {
    "duration": 66,
    "start_time": "2022-01-07T20:18:50.791Z"
   },
   {
    "duration": 71,
    "start_time": "2022-01-07T20:19:24.582Z"
   },
   {
    "duration": 26,
    "start_time": "2022-01-07T20:25:33.441Z"
   },
   {
    "duration": 26,
    "start_time": "2022-01-07T20:26:10.002Z"
   },
   {
    "duration": 22,
    "start_time": "2022-01-07T20:27:50.572Z"
   },
   {
    "duration": 37,
    "start_time": "2022-01-07T20:30:58.221Z"
   },
   {
    "duration": 38,
    "start_time": "2022-01-07T20:31:26.763Z"
   },
   {
    "duration": 44,
    "start_time": "2022-01-07T20:32:56.509Z"
   },
   {
    "duration": 12,
    "start_time": "2022-01-07T20:34:32.611Z"
   },
   {
    "duration": 26,
    "start_time": "2022-01-07T20:37:14.903Z"
   },
   {
    "duration": 37,
    "start_time": "2022-01-07T20:38:40.794Z"
   },
   {
    "duration": 36,
    "start_time": "2022-01-07T20:38:57.434Z"
   },
   {
    "duration": 68,
    "start_time": "2022-01-07T20:40:34.839Z"
   },
   {
    "duration": 61,
    "start_time": "2022-01-07T20:41:51.823Z"
   },
   {
    "duration": 90,
    "start_time": "2022-01-07T20:43:00.303Z"
   },
   {
    "duration": 67,
    "start_time": "2022-01-07T20:44:41.398Z"
   },
   {
    "duration": 65,
    "start_time": "2022-01-07T20:45:19.953Z"
   },
   {
    "duration": 913,
    "start_time": "2022-01-09T12:23:18.401Z"
   },
   {
    "duration": 104,
    "start_time": "2022-01-09T12:23:19.317Z"
   },
   {
    "duration": 32,
    "start_time": "2022-01-09T12:23:19.425Z"
   },
   {
    "duration": 207,
    "start_time": "2022-01-09T12:23:19.461Z"
   },
   {
    "duration": 4724,
    "start_time": "2022-01-09T12:23:19.672Z"
   },
   {
    "duration": 83,
    "start_time": "2022-01-09T12:23:24.399Z"
   },
   {
    "duration": 78,
    "start_time": "2022-01-09T12:23:24.485Z"
   },
   {
    "duration": 82,
    "start_time": "2022-01-09T12:23:24.567Z"
   },
   {
    "duration": 65,
    "start_time": "2022-01-09T12:23:24.653Z"
   },
   {
    "duration": 71,
    "start_time": "2022-01-09T12:23:24.721Z"
   },
   {
    "duration": 124,
    "start_time": "2022-01-09T12:29:32.885Z"
   },
   {
    "duration": 127,
    "start_time": "2022-01-09T12:30:06.860Z"
   },
   {
    "duration": 135,
    "start_time": "2022-01-09T12:30:25.616Z"
   },
   {
    "duration": 129,
    "start_time": "2022-01-09T12:30:58.552Z"
   },
   {
    "duration": 884,
    "start_time": "2022-01-09T12:31:10.309Z"
   },
   {
    "duration": 130,
    "start_time": "2022-01-09T12:31:11.196Z"
   },
   {
    "duration": 27,
    "start_time": "2022-01-09T12:31:11.330Z"
   },
   {
    "duration": 189,
    "start_time": "2022-01-09T12:31:11.360Z"
   },
   {
    "duration": 4454,
    "start_time": "2022-01-09T12:31:11.552Z"
   },
   {
    "duration": 65,
    "start_time": "2022-01-09T12:31:16.016Z"
   },
   {
    "duration": 73,
    "start_time": "2022-01-09T12:31:16.083Z"
   },
   {
    "duration": 78,
    "start_time": "2022-01-09T12:31:16.160Z"
   },
   {
    "duration": 43,
    "start_time": "2022-01-09T12:31:16.241Z"
   },
   {
    "duration": 83,
    "start_time": "2022-01-09T12:31:16.286Z"
   },
   {
    "duration": 100,
    "start_time": "2022-01-09T12:32:15.833Z"
   },
   {
    "duration": 101,
    "start_time": "2022-01-09T12:32:37.513Z"
   },
   {
    "duration": 115,
    "start_time": "2022-01-09T12:33:14.736Z"
   },
   {
    "duration": 777,
    "start_time": "2022-01-09T12:33:37.868Z"
   },
   {
    "duration": 102,
    "start_time": "2022-01-09T12:33:38.648Z"
   },
   {
    "duration": 30,
    "start_time": "2022-01-09T12:33:38.754Z"
   },
   {
    "duration": 193,
    "start_time": "2022-01-09T12:33:38.787Z"
   },
   {
    "duration": 4581,
    "start_time": "2022-01-09T12:33:38.982Z"
   },
   {
    "duration": 79,
    "start_time": "2022-01-09T12:33:43.566Z"
   },
   {
    "duration": 48,
    "start_time": "2022-01-09T12:33:43.647Z"
   },
   {
    "duration": 81,
    "start_time": "2022-01-09T12:33:43.698Z"
   },
   {
    "duration": 70,
    "start_time": "2022-01-09T12:33:43.783Z"
   },
   {
    "duration": 83,
    "start_time": "2022-01-09T12:33:43.856Z"
   },
   {
    "duration": 3736,
    "start_time": "2022-01-09T12:35:44.179Z"
   },
   {
    "duration": 130,
    "start_time": "2022-01-09T12:36:09.214Z"
   },
   {
    "duration": 868,
    "start_time": "2022-01-09T12:36:20.382Z"
   },
   {
    "duration": 104,
    "start_time": "2022-01-09T12:36:21.253Z"
   },
   {
    "duration": 26,
    "start_time": "2022-01-09T12:36:21.360Z"
   },
   {
    "duration": 194,
    "start_time": "2022-01-09T12:36:21.389Z"
   },
   {
    "duration": 4907,
    "start_time": "2022-01-09T12:36:21.586Z"
   },
   {
    "duration": 80,
    "start_time": "2022-01-09T12:36:26.495Z"
   },
   {
    "duration": 76,
    "start_time": "2022-01-09T12:36:26.578Z"
   },
   {
    "duration": 75,
    "start_time": "2022-01-09T12:36:26.658Z"
   },
   {
    "duration": 44,
    "start_time": "2022-01-09T12:36:26.736Z"
   },
   {
    "duration": 109,
    "start_time": "2022-01-09T12:36:26.782Z"
   },
   {
    "duration": 122,
    "start_time": "2022-01-09T12:37:23.092Z"
   },
   {
    "duration": 452,
    "start_time": "2022-01-09T12:37:35.474Z"
   },
   {
    "duration": 851,
    "start_time": "2022-01-09T12:38:04.277Z"
   },
   {
    "duration": 439,
    "start_time": "2022-01-09T12:38:05.131Z"
   },
   {
    "duration": -3821,
    "start_time": "2022-01-09T12:38:09.394Z"
   },
   {
    "duration": -3834,
    "start_time": "2022-01-09T12:38:09.409Z"
   },
   {
    "duration": -3839,
    "start_time": "2022-01-09T12:38:09.415Z"
   },
   {
    "duration": -3842,
    "start_time": "2022-01-09T12:38:09.420Z"
   },
   {
    "duration": -3854,
    "start_time": "2022-01-09T12:38:09.433Z"
   },
   {
    "duration": -3855,
    "start_time": "2022-01-09T12:38:09.436Z"
   },
   {
    "duration": -3858,
    "start_time": "2022-01-09T12:38:09.440Z"
   },
   {
    "duration": -3860,
    "start_time": "2022-01-09T12:38:09.444Z"
   },
   {
    "duration": 841,
    "start_time": "2022-01-09T12:38:27.505Z"
   },
   {
    "duration": 105,
    "start_time": "2022-01-09T12:38:28.348Z"
   },
   {
    "duration": 33,
    "start_time": "2022-01-09T12:38:28.456Z"
   },
   {
    "duration": 184,
    "start_time": "2022-01-09T12:38:28.492Z"
   },
   {
    "duration": 4709,
    "start_time": "2022-01-09T12:38:28.679Z"
   },
   {
    "duration": 77,
    "start_time": "2022-01-09T12:38:33.392Z"
   },
   {
    "duration": 81,
    "start_time": "2022-01-09T12:38:33.472Z"
   },
   {
    "duration": 74,
    "start_time": "2022-01-09T12:38:33.556Z"
   },
   {
    "duration": 83,
    "start_time": "2022-01-09T12:38:33.634Z"
   },
   {
    "duration": 71,
    "start_time": "2022-01-09T12:38:33.720Z"
   },
   {
    "duration": 853,
    "start_time": "2022-01-09T12:39:11.333Z"
   },
   {
    "duration": 85,
    "start_time": "2022-01-09T12:39:12.189Z"
   },
   {
    "duration": -3839,
    "start_time": "2022-01-09T12:39:16.116Z"
   },
   {
    "duration": -3844,
    "start_time": "2022-01-09T12:39:16.123Z"
   },
   {
    "duration": -3850,
    "start_time": "2022-01-09T12:39:16.130Z"
   },
   {
    "duration": -3855,
    "start_time": "2022-01-09T12:39:16.136Z"
   },
   {
    "duration": -3863,
    "start_time": "2022-01-09T12:39:16.146Z"
   },
   {
    "duration": -3872,
    "start_time": "2022-01-09T12:39:16.156Z"
   },
   {
    "duration": -3880,
    "start_time": "2022-01-09T12:39:16.166Z"
   },
   {
    "duration": -3888,
    "start_time": "2022-01-09T12:39:16.175Z"
   },
   {
    "duration": 116,
    "start_time": "2022-01-09T12:39:44.913Z"
   },
   {
    "duration": 100,
    "start_time": "2022-01-09T12:41:53.604Z"
   },
   {
    "duration": 846,
    "start_time": "2022-01-09T12:42:12.386Z"
   },
   {
    "duration": 109,
    "start_time": "2022-01-09T12:42:13.235Z"
   },
   {
    "duration": 29,
    "start_time": "2022-01-09T12:42:13.348Z"
   },
   {
    "duration": 211,
    "start_time": "2022-01-09T12:42:13.379Z"
   },
   {
    "duration": 4780,
    "start_time": "2022-01-09T12:42:13.592Z"
   },
   {
    "duration": 79,
    "start_time": "2022-01-09T12:42:18.375Z"
   },
   {
    "duration": 71,
    "start_time": "2022-01-09T12:42:18.456Z"
   },
   {
    "duration": 67,
    "start_time": "2022-01-09T12:42:18.531Z"
   },
   {
    "duration": 66,
    "start_time": "2022-01-09T12:42:18.600Z"
   },
   {
    "duration": 78,
    "start_time": "2022-01-09T12:42:18.669Z"
   },
   {
    "duration": 124,
    "start_time": "2022-01-09T12:43:11.633Z"
   },
   {
    "duration": 836,
    "start_time": "2022-01-09T12:43:23.952Z"
   },
   {
    "duration": 106,
    "start_time": "2022-01-09T12:43:24.790Z"
   },
   {
    "duration": 44,
    "start_time": "2022-01-09T12:43:24.898Z"
   },
   {
    "duration": 195,
    "start_time": "2022-01-09T12:43:24.945Z"
   },
   {
    "duration": 5307,
    "start_time": "2022-01-09T12:43:25.143Z"
   },
   {
    "duration": 81,
    "start_time": "2022-01-09T12:43:30.453Z"
   },
   {
    "duration": 51,
    "start_time": "2022-01-09T12:43:30.536Z"
   },
   {
    "duration": 88,
    "start_time": "2022-01-09T12:43:30.590Z"
   },
   {
    "duration": 73,
    "start_time": "2022-01-09T12:43:30.681Z"
   },
   {
    "duration": 83,
    "start_time": "2022-01-09T12:43:30.757Z"
   },
   {
    "duration": 93,
    "start_time": "2022-01-09T12:43:48.371Z"
   },
   {
    "duration": 130,
    "start_time": "2022-01-09T12:43:55.166Z"
   },
   {
    "duration": 918,
    "start_time": "2022-01-09T12:44:00.908Z"
   },
   {
    "duration": 129,
    "start_time": "2022-01-09T12:44:01.831Z"
   },
   {
    "duration": 27,
    "start_time": "2022-01-09T12:44:01.963Z"
   },
   {
    "duration": 201,
    "start_time": "2022-01-09T12:44:01.993Z"
   },
   {
    "duration": 5058,
    "start_time": "2022-01-09T12:44:02.196Z"
   },
   {
    "duration": 93,
    "start_time": "2022-01-09T12:44:07.257Z"
   },
   {
    "duration": 51,
    "start_time": "2022-01-09T12:44:07.353Z"
   },
   {
    "duration": 98,
    "start_time": "2022-01-09T12:44:07.418Z"
   },
   {
    "duration": 59,
    "start_time": "2022-01-09T12:44:07.520Z"
   },
   {
    "duration": 105,
    "start_time": "2022-01-09T12:44:07.583Z"
   },
   {
    "duration": 133,
    "start_time": "2022-01-09T12:45:27.949Z"
   },
   {
    "duration": 891,
    "start_time": "2022-01-09T12:45:39.801Z"
   },
   {
    "duration": 104,
    "start_time": "2022-01-09T12:45:40.695Z"
   },
   {
    "duration": 46,
    "start_time": "2022-01-09T12:45:40.802Z"
   },
   {
    "duration": 199,
    "start_time": "2022-01-09T12:45:40.851Z"
   },
   {
    "duration": 4990,
    "start_time": "2022-01-09T12:45:41.053Z"
   },
   {
    "duration": 89,
    "start_time": "2022-01-09T12:45:46.046Z"
   },
   {
    "duration": 51,
    "start_time": "2022-01-09T12:45:46.138Z"
   },
   {
    "duration": 90,
    "start_time": "2022-01-09T12:45:46.192Z"
   },
   {
    "duration": 79,
    "start_time": "2022-01-09T12:45:46.285Z"
   },
   {
    "duration": 89,
    "start_time": "2022-01-09T12:45:46.366Z"
   },
   {
    "duration": 136,
    "start_time": "2022-01-09T12:46:17.288Z"
   },
   {
    "duration": 126,
    "start_time": "2022-01-09T12:46:32.684Z"
   },
   {
    "duration": 955,
    "start_time": "2022-01-09T12:46:38.407Z"
   },
   {
    "duration": 127,
    "start_time": "2022-01-09T12:46:39.365Z"
   },
   {
    "duration": 49,
    "start_time": "2022-01-09T12:46:39.495Z"
   },
   {
    "duration": 200,
    "start_time": "2022-01-09T12:46:39.548Z"
   },
   {
    "duration": 5271,
    "start_time": "2022-01-09T12:46:39.750Z"
   },
   {
    "duration": 95,
    "start_time": "2022-01-09T12:46:45.025Z"
   },
   {
    "duration": 59,
    "start_time": "2022-01-09T12:46:45.122Z"
   },
   {
    "duration": 83,
    "start_time": "2022-01-09T12:46:45.186Z"
   },
   {
    "duration": 82,
    "start_time": "2022-01-09T12:46:45.272Z"
   },
   {
    "duration": 87,
    "start_time": "2022-01-09T12:46:45.357Z"
   },
   {
    "duration": 841,
    "start_time": "2022-01-09T12:48:31.622Z"
   },
   {
    "duration": 453,
    "start_time": "2022-01-09T12:48:32.466Z"
   },
   {
    "duration": -3755,
    "start_time": "2022-01-09T12:48:36.677Z"
   },
   {
    "duration": -3787,
    "start_time": "2022-01-09T12:48:36.710Z"
   },
   {
    "duration": -3794,
    "start_time": "2022-01-09T12:48:36.719Z"
   },
   {
    "duration": -3796,
    "start_time": "2022-01-09T12:48:36.722Z"
   },
   {
    "duration": -3798,
    "start_time": "2022-01-09T12:48:36.726Z"
   },
   {
    "duration": -3799,
    "start_time": "2022-01-09T12:48:36.728Z"
   },
   {
    "duration": -3801,
    "start_time": "2022-01-09T12:48:36.732Z"
   },
   {
    "duration": -3803,
    "start_time": "2022-01-09T12:48:36.735Z"
   },
   {
    "duration": 901,
    "start_time": "2022-01-09T12:49:32.284Z"
   },
   {
    "duration": 104,
    "start_time": "2022-01-09T12:49:33.188Z"
   },
   {
    "duration": 43,
    "start_time": "2022-01-09T12:49:33.296Z"
   },
   {
    "duration": 197,
    "start_time": "2022-01-09T12:49:33.343Z"
   },
   {
    "duration": 4535,
    "start_time": "2022-01-09T12:49:33.542Z"
   },
   {
    "duration": 82,
    "start_time": "2022-01-09T12:49:38.080Z"
   },
   {
    "duration": 81,
    "start_time": "2022-01-09T12:49:38.165Z"
   },
   {
    "duration": 81,
    "start_time": "2022-01-09T12:49:38.251Z"
   },
   {
    "duration": 48,
    "start_time": "2022-01-09T12:49:38.335Z"
   },
   {
    "duration": 86,
    "start_time": "2022-01-09T12:49:38.386Z"
   },
   {
    "duration": 902,
    "start_time": "2022-01-09T12:50:17.390Z"
   },
   {
    "duration": 103,
    "start_time": "2022-01-09T12:50:18.295Z"
   },
   {
    "duration": 41,
    "start_time": "2022-01-09T12:50:18.401Z"
   },
   {
    "duration": 190,
    "start_time": "2022-01-09T12:50:18.446Z"
   },
   {
    "duration": 4518,
    "start_time": "2022-01-09T12:50:18.639Z"
   },
   {
    "duration": 78,
    "start_time": "2022-01-09T12:50:23.159Z"
   },
   {
    "duration": 50,
    "start_time": "2022-01-09T12:50:23.239Z"
   },
   {
    "duration": 85,
    "start_time": "2022-01-09T12:50:23.293Z"
   },
   {
    "duration": 67,
    "start_time": "2022-01-09T12:50:23.380Z"
   },
   {
    "duration": 78,
    "start_time": "2022-01-09T12:50:23.449Z"
   },
   {
    "duration": 867,
    "start_time": "2022-01-09T13:08:26.611Z"
   },
   {
    "duration": 106,
    "start_time": "2022-01-09T13:08:27.481Z"
   },
   {
    "duration": 42,
    "start_time": "2022-01-09T13:08:27.590Z"
   },
   {
    "duration": 189,
    "start_time": "2022-01-09T13:08:27.634Z"
   },
   {
    "duration": 4460,
    "start_time": "2022-01-09T13:08:27.826Z"
   },
   {
    "duration": 74,
    "start_time": "2022-01-09T13:08:32.290Z"
   },
   {
    "duration": 74,
    "start_time": "2022-01-09T13:08:32.366Z"
   },
   {
    "duration": 74,
    "start_time": "2022-01-09T13:08:32.443Z"
   },
   {
    "duration": 50,
    "start_time": "2022-01-09T13:08:32.520Z"
   },
   {
    "duration": 92,
    "start_time": "2022-01-09T13:08:32.572Z"
   },
   {
    "duration": 626,
    "start_time": "2022-01-10T12:50:07.689Z"
   },
   {
    "duration": 84,
    "start_time": "2022-01-10T12:50:08.316Z"
   },
   {
    "duration": 25,
    "start_time": "2022-01-10T12:50:08.402Z"
   },
   {
    "duration": 135,
    "start_time": "2022-01-10T12:50:08.429Z"
   },
   {
    "duration": 3608,
    "start_time": "2022-01-10T12:50:08.566Z"
   },
   {
    "duration": 51,
    "start_time": "2022-01-10T12:50:12.177Z"
   },
   {
    "duration": 31,
    "start_time": "2022-01-10T12:50:12.230Z"
   },
   {
    "duration": 62,
    "start_time": "2022-01-10T12:50:12.264Z"
   },
   {
    "duration": 30,
    "start_time": "2022-01-10T12:50:12.328Z"
   },
   {
    "duration": 64,
    "start_time": "2022-01-10T12:50:12.361Z"
   },
   {
    "duration": 8,
    "start_time": "2022-01-10T12:58:52.786Z"
   },
   {
    "duration": 875,
    "start_time": "2022-01-13T10:51:15.770Z"
   },
   {
    "duration": 100,
    "start_time": "2022-01-13T10:51:16.648Z"
   },
   {
    "duration": 27,
    "start_time": "2022-01-13T10:51:16.760Z"
   },
   {
    "duration": 193,
    "start_time": "2022-01-13T10:51:16.790Z"
   },
   {
    "duration": 4945,
    "start_time": "2022-01-13T10:51:16.987Z"
   },
   {
    "duration": 50,
    "start_time": "2022-01-13T10:51:21.936Z"
   },
   {
    "duration": 11,
    "start_time": "2022-01-13T10:51:21.988Z"
   },
   {
    "duration": 454,
    "start_time": "2022-01-13T10:51:22.002Z"
   },
   {
    "duration": -5080,
    "start_time": "2022-01-13T10:51:27.538Z"
   },
   {
    "duration": -5082,
    "start_time": "2022-01-13T10:51:27.542Z"
   },
   {
    "duration": -5085,
    "start_time": "2022-01-13T10:51:27.547Z"
   },
   {
    "duration": 898,
    "start_time": "2022-01-13T12:47:15.851Z"
   },
   {
    "duration": 134,
    "start_time": "2022-01-13T12:47:16.761Z"
   },
   {
    "duration": 27,
    "start_time": "2022-01-13T12:47:16.898Z"
   },
   {
    "duration": 204,
    "start_time": "2022-01-13T12:47:16.928Z"
   },
   {
    "duration": 4974,
    "start_time": "2022-01-13T12:47:17.135Z"
   },
   {
    "duration": 52,
    "start_time": "2022-01-13T12:47:22.112Z"
   },
   {
    "duration": 11,
    "start_time": "2022-01-13T12:47:22.166Z"
   },
   {
    "duration": 485,
    "start_time": "2022-01-13T12:47:22.181Z"
   },
   {
    "duration": -4950,
    "start_time": "2022-01-13T12:47:27.619Z"
   },
   {
    "duration": -4952,
    "start_time": "2022-01-13T12:47:27.623Z"
   },
   {
    "duration": -4956,
    "start_time": "2022-01-13T12:47:27.628Z"
   },
   {
    "duration": 2688,
    "start_time": "2022-01-13T12:58:54.537Z"
   },
   {
    "duration": 117,
    "start_time": "2022-01-13T12:58:57.228Z"
   },
   {
    "duration": 34,
    "start_time": "2022-01-13T12:58:57.365Z"
   },
   {
    "duration": 210,
    "start_time": "2022-01-13T12:58:57.402Z"
   },
   {
    "duration": 5587,
    "start_time": "2022-01-13T12:58:57.614Z"
   },
   {
    "duration": 55,
    "start_time": "2022-01-13T12:59:03.204Z"
   },
   {
    "duration": 11,
    "start_time": "2022-01-13T12:59:03.262Z"
   },
   {
    "duration": 105,
    "start_time": "2022-01-13T12:59:03.276Z"
   },
   {
    "duration": 86,
    "start_time": "2022-01-13T12:59:03.384Z"
   },
   {
    "duration": 46,
    "start_time": "2022-01-13T12:59:03.473Z"
   },
   {
    "duration": 91,
    "start_time": "2022-01-13T12:59:03.521Z"
   },
   {
    "duration": 210,
    "start_time": "2022-01-13T13:16:25.371Z"
   },
   {
    "duration": 548,
    "start_time": "2022-01-13T13:16:34.767Z"
   },
   {
    "duration": 129,
    "start_time": "2022-01-13T13:18:38.888Z"
   },
   {
    "duration": 109,
    "start_time": "2022-01-13T13:19:58.004Z"
   },
   {
    "duration": 361,
    "start_time": "2022-01-13T13:20:22.614Z"
   },
   {
    "duration": 125,
    "start_time": "2022-01-13T13:20:57.490Z"
   },
   {
    "duration": 427,
    "start_time": "2022-01-13T13:21:15.944Z"
   },
   {
    "duration": 379,
    "start_time": "2022-01-13T13:21:35.638Z"
   },
   {
    "duration": 17,
    "start_time": "2022-01-13T13:21:52.969Z"
   },
   {
    "duration": 374,
    "start_time": "2022-01-13T13:23:17.702Z"
   },
   {
    "duration": 22,
    "start_time": "2022-01-13T13:25:02.673Z"
   },
   {
    "duration": 413,
    "start_time": "2022-01-13T13:26:22.634Z"
   },
   {
    "duration": 397,
    "start_time": "2022-01-13T13:26:36.805Z"
   },
   {
    "duration": 22,
    "start_time": "2022-01-13T13:27:15.357Z"
   },
   {
    "duration": 21,
    "start_time": "2022-01-13T13:27:29.345Z"
   },
   {
    "duration": 49,
    "start_time": "2022-01-13T13:31:43.760Z"
   },
   {
    "duration": 55,
    "start_time": "2022-01-13T13:32:32.809Z"
   },
   {
    "duration": 48,
    "start_time": "2022-01-13T13:33:14.439Z"
   },
   {
    "duration": 43,
    "start_time": "2022-01-13T13:33:51.286Z"
   },
   {
    "duration": 389,
    "start_time": "2022-01-13T13:34:24.137Z"
   },
   {
    "duration": 34,
    "start_time": "2022-01-13T13:34:43.148Z"
   },
   {
    "duration": 37,
    "start_time": "2022-01-13T13:35:29.685Z"
   },
   {
    "duration": 24,
    "start_time": "2022-01-13T13:36:11.561Z"
   },
   {
    "duration": 1788,
    "start_time": "2022-01-13T14:27:14.291Z"
   },
   {
    "duration": 5499,
    "start_time": "2022-01-13T14:44:41.715Z"
   },
   {
    "duration": 502,
    "start_time": "2022-01-13T14:50:30.501Z"
   },
   {
    "duration": 461,
    "start_time": "2022-01-13T14:51:20.541Z"
   },
   {
    "duration": 419,
    "start_time": "2022-01-13T14:51:29.558Z"
   },
   {
    "duration": 59,
    "start_time": "2022-01-13T14:53:17.017Z"
   },
   {
    "duration": 53,
    "start_time": "2022-01-13T14:54:09.132Z"
   },
   {
    "duration": 899,
    "start_time": "2022-01-14T18:37:51.202Z"
   },
   {
    "duration": 120,
    "start_time": "2022-01-14T18:37:52.105Z"
   },
   {
    "duration": 41,
    "start_time": "2022-01-14T18:37:52.228Z"
   },
   {
    "duration": 204,
    "start_time": "2022-01-14T18:37:52.273Z"
   },
   {
    "duration": 5267,
    "start_time": "2022-01-14T18:37:52.480Z"
   },
   {
    "duration": 76,
    "start_time": "2022-01-14T18:37:57.750Z"
   },
   {
    "duration": 39,
    "start_time": "2022-01-14T18:37:57.828Z"
   },
   {
    "duration": 73,
    "start_time": "2022-01-14T18:37:57.871Z"
   },
   {
    "duration": 39,
    "start_time": "2022-01-14T18:37:57.947Z"
   },
   {
    "duration": 47,
    "start_time": "2022-01-14T18:37:57.989Z"
   },
   {
    "duration": 26,
    "start_time": "2022-01-14T18:37:58.068Z"
   },
   {
    "duration": 34,
    "start_time": "2022-01-14T18:38:29.178Z"
   },
   {
    "duration": 391,
    "start_time": "2022-01-14T18:42:37.797Z"
   },
   {
    "duration": 40,
    "start_time": "2022-01-14T18:42:59.774Z"
   },
   {
    "duration": 299,
    "start_time": "2022-01-14T18:44:08.390Z"
   },
   {
    "duration": 312,
    "start_time": "2022-01-14T18:44:52.238Z"
   },
   {
    "duration": 37,
    "start_time": "2022-01-14T18:45:12.809Z"
   },
   {
    "duration": 51,
    "start_time": "2022-01-14T18:47:56.229Z"
   },
   {
    "duration": 52,
    "start_time": "2022-01-14T18:50:15.572Z"
   },
   {
    "duration": 44,
    "start_time": "2022-01-14T18:50:40.019Z"
   },
   {
    "duration": 38,
    "start_time": "2022-01-14T18:51:19.116Z"
   },
   {
    "duration": 37,
    "start_time": "2022-01-14T18:52:35.770Z"
   },
   {
    "duration": 36,
    "start_time": "2022-01-14T18:53:14.711Z"
   },
   {
    "duration": 55,
    "start_time": "2022-01-14T18:58:09.682Z"
   },
   {
    "duration": 42,
    "start_time": "2022-01-14T18:58:43.591Z"
   },
   {
    "duration": 42,
    "start_time": "2022-01-14T18:59:34.955Z"
   },
   {
    "duration": 40,
    "start_time": "2022-01-14T19:00:07.206Z"
   },
   {
    "duration": 40,
    "start_time": "2022-01-14T19:00:26.477Z"
   },
   {
    "duration": 41,
    "start_time": "2022-01-14T19:00:56.763Z"
   },
   {
    "duration": 39,
    "start_time": "2022-01-14T19:01:13.785Z"
   },
   {
    "duration": 325,
    "start_time": "2022-01-14T19:01:41.874Z"
   },
   {
    "duration": 39,
    "start_time": "2022-01-14T19:02:04.631Z"
   },
   {
    "duration": 655,
    "start_time": "2022-01-15T11:25:47.805Z"
   },
   {
    "duration": 62,
    "start_time": "2022-01-15T11:25:48.462Z"
   },
   {
    "duration": 30,
    "start_time": "2022-01-15T11:25:48.526Z"
   },
   {
    "duration": 115,
    "start_time": "2022-01-15T11:25:48.558Z"
   },
   {
    "duration": 3476,
    "start_time": "2022-01-15T11:25:48.674Z"
   },
   {
    "duration": 30,
    "start_time": "2022-01-15T11:25:52.152Z"
   },
   {
    "duration": 9,
    "start_time": "2022-01-15T11:25:52.184Z"
   },
   {
    "duration": 78,
    "start_time": "2022-01-15T11:25:52.195Z"
   },
   {
    "duration": 14,
    "start_time": "2022-01-15T11:25:52.275Z"
   },
   {
    "duration": 29,
    "start_time": "2022-01-15T11:25:52.291Z"
   },
   {
    "duration": 34,
    "start_time": "2022-01-15T11:25:52.322Z"
   },
   {
    "duration": 643,
    "start_time": "2022-01-15T11:25:56.643Z"
   },
   {
    "duration": 76,
    "start_time": "2022-01-15T11:25:57.288Z"
   },
   {
    "duration": 18,
    "start_time": "2022-01-15T11:25:57.366Z"
   },
   {
    "duration": 134,
    "start_time": "2022-01-15T11:25:57.386Z"
   },
   {
    "duration": 3474,
    "start_time": "2022-01-15T11:25:57.522Z"
   },
   {
    "duration": 22,
    "start_time": "2022-01-15T11:26:00.998Z"
   },
   {
    "duration": 37,
    "start_time": "2022-01-15T11:26:01.041Z"
   },
   {
    "duration": 65,
    "start_time": "2022-01-15T11:26:01.080Z"
   },
   {
    "duration": 15,
    "start_time": "2022-01-15T11:26:01.147Z"
   },
   {
    "duration": 64,
    "start_time": "2022-01-15T11:26:01.164Z"
   },
   {
    "duration": 28,
    "start_time": "2022-01-15T11:26:01.229Z"
   },
   {
    "duration": 3537,
    "start_time": "2022-01-15T11:26:21.764Z"
   }
  ],
  "kernelspec": {
   "display_name": "Python 3 (ipykernel)",
   "language": "python",
   "name": "python3"
  },
  "language_info": {
   "codemirror_mode": {
    "name": "ipython",
    "version": 3
   },
   "file_extension": ".py",
   "mimetype": "text/x-python",
   "name": "python",
   "nbconvert_exporter": "python",
   "pygments_lexer": "ipython3",
   "version": "3.9.7"
  },
  "toc": {
   "base_numbering": 1,
   "nav_menu": {},
   "number_sections": true,
   "sideBar": true,
   "skip_h1_title": true,
   "title_cell": "Table of Contents",
   "title_sidebar": "Contents",
   "toc_cell": false,
   "toc_position": {},
   "toc_section_display": true,
   "toc_window_display": false
  }
 },
 "nbformat": 4,
 "nbformat_minor": 2
}
