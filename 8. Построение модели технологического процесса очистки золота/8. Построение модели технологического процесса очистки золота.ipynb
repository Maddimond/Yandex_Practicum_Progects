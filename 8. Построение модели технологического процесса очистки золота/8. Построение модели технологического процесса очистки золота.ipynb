{
 "cells": [
  {
   "cell_type": "markdown",
   "id": "bc2c1fe1",
   "metadata": {},
   "source": [
    "## Описание проекта"
   ]
  },
  {
   "cell_type": "markdown",
   "id": "78a37180",
   "metadata": {},
   "source": [
    "Необходимо подготовить прототип модели машинного обучения для «Цифры». Компания разрабатывает решения для эффективной работы промышленных предприятий.\n",
    "\n",
    "Модель должна предсказать коэффициент восстановления золота из золотосодержащей руды. В вашем распоряжении данные с параметрами добычи и очистки.\n",
    "\n",
    "Модель поможет оптимизировать производство, чтобы не запускать предприятие с убыточными характеристиками.\n",
    "Необходимо:\n",
    "\n",
    "Подготовить данные;\n",
    "\n",
    "Провести исследовательский анализ данных;\n",
    "\n",
    "Построить и обучить модель."
   ]
  },
  {
   "cell_type": "markdown",
   "id": "2644bf27",
   "metadata": {},
   "source": [
    "### Описание данных:\n",
    "    \n",
    "Технологический процесс\n",
    "\n",
    "Rougher feed — исходное сырье\n",
    "\n",
    "Rougher additions (или reagent additions) — флотационные реагенты: Xanthate, Sulphate, Depressant\n",
    "\n",
    "Xanthate **— ксантогенат (промотер, или активатор флотации);\n",
    "\n",
    "Sulphate — сульфат (на данном производстве сульфид натрия);\n",
    "\n",
    "Depressant — депрессант (силикат натрия).\n",
    "\n",
    "Rougher process (англ. «грубый процесс») — флотация\n",
    "\n",
    "Rougher tails — отвальные хвосты\n",
    "\n",
    "Float banks — флотационная установка\n",
    "\n",
    "Cleaner process — очистка\n",
    "\n",
    "Rougher Au — черновой концентрат золота\n",
    "\n",
    "Final Au — финальный концентрат золота\n",
    "\n",
    "Параметры этапов\n",
    "\n",
    "air amount — объём воздуха\n",
    "\n",
    "fluid levels — уровень жидкости\n",
    "\n",
    "feed size — размер гранул сырья\n",
    "\n",
    "feed rate — скорость подачи"
   ]
  },
  {
   "cell_type": "markdown",
   "id": "1ec27e7c",
   "metadata": {},
   "source": [
    "## Подготовка данных:"
   ]
  },
  {
   "cell_type": "markdown",
   "id": "dc37fda4",
   "metadata": {},
   "source": [
    "Импортируем библиотеки:"
   ]
  },
  {
   "cell_type": "code",
   "execution_count": 190,
   "id": "fad9998a",
   "metadata": {},
   "outputs": [],
   "source": [
    "import pandas as pd\n",
    "import numpy as np\n",
    "import matplotlib.pyplot as plt\n",
    "from sklearn.metrics import mean_absolute_error\n",
    "from sklearn.preprocessing import StandardScaler\n",
    "from sklearn.model_selection import cross_val_score\n",
    "from sklearn.metrics import make_scorer\n",
    "from sklearn.linear_model import LinearRegression\n",
    "from sklearn.tree import DecisionTreeRegressor\n",
    "from sklearn.ensemble import RandomForestRegressor\n",
    "from sklearn.dummy import DummyRegressor"
   ]
  },
  {
   "cell_type": "markdown",
   "id": "d2a684d3",
   "metadata": {},
   "source": [
    "Загружаем датафреймы:"
   ]
  },
  {
   "cell_type": "code",
   "execution_count": 209,
   "id": "aba60116",
   "metadata": {},
   "outputs": [],
   "source": [
    "import os\n",
    "\n",
    "pth1 = 'gold_recovery_full_new.csv'\n",
    "pth2 = '/datasets/gold_recovery_full_new.csv'\n",
    "\n",
    "pth3 = 'gold_recovery_train_new.csv'\n",
    "pth4 = '/datasets/gold_recovery_train_new.csv'\n",
    "\n",
    "pth5 = 'gold_recovery_test_new.csv'\n",
    "prh6 = '/datasets/gold_recovery_test_new.csv'\n",
    "\n",
    "\n",
    "if os.path.exists(pth1):\n",
    "    df_full= pd.read_csv(pth1)\n",
    "    df_train = pd.read_csv(pth3)\n",
    "    df_test = pd.read_csv(pth5)\n",
    "elif os.path.exists(pth2):\n",
    "    df_full = pd.read_csv(pth2)\n",
    "    df_train = pd.read_csv(pth4)\n",
    "    df_test = pd.read_csv(pth6)\n",
    "else:\n",
    "    print('Something is wrong')"
   ]
  },
  {
   "cell_type": "markdown",
   "id": "b7c6866b",
   "metadata": {},
   "source": [
    "Изучаем данные:"
   ]
  },
  {
   "cell_type": "code",
   "execution_count": 210,
   "id": "746071a5",
   "metadata": {},
   "outputs": [
    {
     "name": "stdout",
     "output_type": "stream",
     "text": [
      "<class 'pandas.core.frame.DataFrame'>\n",
      "RangeIndex: 19439 entries, 0 to 19438\n",
      "Data columns (total 87 columns):\n",
      " #   Column                                              Non-Null Count  Dtype  \n",
      "---  ------                                              --------------  -----  \n",
      " 0   date                                                19439 non-null  object \n",
      " 1   final.output.concentrate_ag                         19438 non-null  float64\n",
      " 2   final.output.concentrate_pb                         19438 non-null  float64\n",
      " 3   final.output.concentrate_sol                        19228 non-null  float64\n",
      " 4   final.output.concentrate_au                         19439 non-null  float64\n",
      " 5   final.output.recovery                               19439 non-null  float64\n",
      " 6   final.output.tail_ag                                19438 non-null  float64\n",
      " 7   final.output.tail_pb                                19338 non-null  float64\n",
      " 8   final.output.tail_sol                               19433 non-null  float64\n",
      " 9   final.output.tail_au                                19439 non-null  float64\n",
      " 10  primary_cleaner.input.sulfate                       19415 non-null  float64\n",
      " 11  primary_cleaner.input.depressant                    19402 non-null  float64\n",
      " 12  primary_cleaner.input.feed_size                     19439 non-null  float64\n",
      " 13  primary_cleaner.input.xanthate                      19335 non-null  float64\n",
      " 14  primary_cleaner.output.concentrate_ag               19439 non-null  float64\n",
      " 15  primary_cleaner.output.concentrate_pb               19323 non-null  float64\n",
      " 16  primary_cleaner.output.concentrate_sol              19069 non-null  float64\n",
      " 17  primary_cleaner.output.concentrate_au               19439 non-null  float64\n",
      " 18  primary_cleaner.output.tail_ag                      19435 non-null  float64\n",
      " 19  primary_cleaner.output.tail_pb                      19418 non-null  float64\n",
      " 20  primary_cleaner.output.tail_sol                     19377 non-null  float64\n",
      " 21  primary_cleaner.output.tail_au                      19439 non-null  float64\n",
      " 22  primary_cleaner.state.floatbank8_a_air              19435 non-null  float64\n",
      " 23  primary_cleaner.state.floatbank8_a_level            19438 non-null  float64\n",
      " 24  primary_cleaner.state.floatbank8_b_air              19435 non-null  float64\n",
      " 25  primary_cleaner.state.floatbank8_b_level            19438 non-null  float64\n",
      " 26  primary_cleaner.state.floatbank8_c_air              19437 non-null  float64\n",
      " 27  primary_cleaner.state.floatbank8_c_level            19438 non-null  float64\n",
      " 28  primary_cleaner.state.floatbank8_d_air              19436 non-null  float64\n",
      " 29  primary_cleaner.state.floatbank8_d_level            19438 non-null  float64\n",
      " 30  rougher.calculation.sulfate_to_au_concentrate       19437 non-null  float64\n",
      " 31  rougher.calculation.floatbank10_sulfate_to_au_feed  19437 non-null  float64\n",
      " 32  rougher.calculation.floatbank11_sulfate_to_au_feed  19437 non-null  float64\n",
      " 33  rougher.calculation.au_pb_ratio                     19439 non-null  float64\n",
      " 34  rougher.input.feed_ag                               19439 non-null  float64\n",
      " 35  rougher.input.feed_pb                               19339 non-null  float64\n",
      " 36  rougher.input.feed_rate                             19428 non-null  float64\n",
      " 37  rougher.input.feed_size                             19294 non-null  float64\n",
      " 38  rougher.input.feed_sol                              19340 non-null  float64\n",
      " 39  rougher.input.feed_au                               19439 non-null  float64\n",
      " 40  rougher.input.floatbank10_sulfate                   19405 non-null  float64\n",
      " 41  rougher.input.floatbank10_xanthate                  19431 non-null  float64\n",
      " 42  rougher.input.floatbank11_sulfate                   19395 non-null  float64\n",
      " 43  rougher.input.floatbank11_xanthate                  18986 non-null  float64\n",
      " 44  rougher.output.concentrate_ag                       19439 non-null  float64\n",
      " 45  rougher.output.concentrate_pb                       19439 non-null  float64\n",
      " 46  rougher.output.concentrate_sol                      19416 non-null  float64\n",
      " 47  rougher.output.concentrate_au                       19439 non-null  float64\n",
      " 48  rougher.output.recovery                             19439 non-null  float64\n",
      " 49  rougher.output.tail_ag                              19438 non-null  float64\n",
      " 50  rougher.output.tail_pb                              19439 non-null  float64\n",
      " 51  rougher.output.tail_sol                             19439 non-null  float64\n",
      " 52  rougher.output.tail_au                              19439 non-null  float64\n",
      " 53  rougher.state.floatbank10_a_air                     19438 non-null  float64\n",
      " 54  rougher.state.floatbank10_a_level                   19438 non-null  float64\n",
      " 55  rougher.state.floatbank10_b_air                     19438 non-null  float64\n",
      " 56  rougher.state.floatbank10_b_level                   19438 non-null  float64\n",
      " 57  rougher.state.floatbank10_c_air                     19438 non-null  float64\n",
      " 58  rougher.state.floatbank10_c_level                   19438 non-null  float64\n",
      " 59  rougher.state.floatbank10_d_air                     19439 non-null  float64\n",
      " 60  rougher.state.floatbank10_d_level                   19439 non-null  float64\n",
      " 61  rougher.state.floatbank10_e_air                     19003 non-null  float64\n",
      " 62  rougher.state.floatbank10_e_level                   19439 non-null  float64\n",
      " 63  rougher.state.floatbank10_f_air                     19439 non-null  float64\n",
      " 64  rougher.state.floatbank10_f_level                   19439 non-null  float64\n",
      " 65  secondary_cleaner.output.tail_ag                    19437 non-null  float64\n",
      " 66  secondary_cleaner.output.tail_pb                    19427 non-null  float64\n",
      " 67  secondary_cleaner.output.tail_sol                   17691 non-null  float64\n",
      " 68  secondary_cleaner.output.tail_au                    19439 non-null  float64\n",
      " 69  secondary_cleaner.state.floatbank2_a_air            19219 non-null  float64\n",
      " 70  secondary_cleaner.state.floatbank2_a_level          19438 non-null  float64\n",
      " 71  secondary_cleaner.state.floatbank2_b_air            19416 non-null  float64\n",
      " 72  secondary_cleaner.state.floatbank2_b_level          19438 non-null  float64\n",
      " 73  secondary_cleaner.state.floatbank3_a_air            19426 non-null  float64\n",
      " 74  secondary_cleaner.state.floatbank3_a_level          19438 non-null  float64\n",
      " 75  secondary_cleaner.state.floatbank3_b_air            19438 non-null  float64\n",
      " 76  secondary_cleaner.state.floatbank3_b_level          19438 non-null  float64\n",
      " 77  secondary_cleaner.state.floatbank4_a_air            19433 non-null  float64\n",
      " 78  secondary_cleaner.state.floatbank4_a_level          19438 non-null  float64\n",
      " 79  secondary_cleaner.state.floatbank4_b_air            19438 non-null  float64\n",
      " 80  secondary_cleaner.state.floatbank4_b_level          19438 non-null  float64\n",
      " 81  secondary_cleaner.state.floatbank5_a_air            19438 non-null  float64\n",
      " 82  secondary_cleaner.state.floatbank5_a_level          19438 non-null  float64\n",
      " 83  secondary_cleaner.state.floatbank5_b_air            19438 non-null  float64\n",
      " 84  secondary_cleaner.state.floatbank5_b_level          19438 non-null  float64\n",
      " 85  secondary_cleaner.state.floatbank6_a_air            19437 non-null  float64\n",
      " 86  secondary_cleaner.state.floatbank6_a_level          19438 non-null  float64\n",
      "dtypes: float64(86), object(1)\n",
      "memory usage: 12.9+ MB\n"
     ]
    }
   ],
   "source": [
    "df_full.info()"
   ]
  },
  {
   "cell_type": "markdown",
   "id": "8dad8b40",
   "metadata": {},
   "source": [
    "Размер датасета df_full - (19439, 87)"
   ]
  },
  {
   "cell_type": "code",
   "execution_count": 129,
   "id": "186e5f78",
   "metadata": {},
   "outputs": [
    {
     "name": "stdout",
     "output_type": "stream",
     "text": [
      "<class 'pandas.core.frame.DataFrame'>\n",
      "RangeIndex: 14149 entries, 0 to 14148\n",
      "Data columns (total 87 columns):\n",
      " #   Column                                              Non-Null Count  Dtype  \n",
      "---  ------                                              --------------  -----  \n",
      " 0   date                                                14149 non-null  object \n",
      " 1   final.output.concentrate_ag                         14148 non-null  float64\n",
      " 2   final.output.concentrate_pb                         14148 non-null  float64\n",
      " 3   final.output.concentrate_sol                        13938 non-null  float64\n",
      " 4   final.output.concentrate_au                         14149 non-null  float64\n",
      " 5   final.output.recovery                               14149 non-null  float64\n",
      " 6   final.output.tail_ag                                14149 non-null  float64\n",
      " 7   final.output.tail_pb                                14049 non-null  float64\n",
      " 8   final.output.tail_sol                               14144 non-null  float64\n",
      " 9   final.output.tail_au                                14149 non-null  float64\n",
      " 10  primary_cleaner.input.sulfate                       14129 non-null  float64\n",
      " 11  primary_cleaner.input.depressant                    14117 non-null  float64\n",
      " 12  primary_cleaner.input.feed_size                     14149 non-null  float64\n",
      " 13  primary_cleaner.input.xanthate                      14049 non-null  float64\n",
      " 14  primary_cleaner.output.concentrate_ag               14149 non-null  float64\n",
      " 15  primary_cleaner.output.concentrate_pb               14063 non-null  float64\n",
      " 16  primary_cleaner.output.concentrate_sol              13863 non-null  float64\n",
      " 17  primary_cleaner.output.concentrate_au               14149 non-null  float64\n",
      " 18  primary_cleaner.output.tail_ag                      14148 non-null  float64\n",
      " 19  primary_cleaner.output.tail_pb                      14134 non-null  float64\n",
      " 20  primary_cleaner.output.tail_sol                     14103 non-null  float64\n",
      " 21  primary_cleaner.output.tail_au                      14149 non-null  float64\n",
      " 22  primary_cleaner.state.floatbank8_a_air              14145 non-null  float64\n",
      " 23  primary_cleaner.state.floatbank8_a_level            14148 non-null  float64\n",
      " 24  primary_cleaner.state.floatbank8_b_air              14145 non-null  float64\n",
      " 25  primary_cleaner.state.floatbank8_b_level            14148 non-null  float64\n",
      " 26  primary_cleaner.state.floatbank8_c_air              14147 non-null  float64\n",
      " 27  primary_cleaner.state.floatbank8_c_level            14148 non-null  float64\n",
      " 28  primary_cleaner.state.floatbank8_d_air              14146 non-null  float64\n",
      " 29  primary_cleaner.state.floatbank8_d_level            14148 non-null  float64\n",
      " 30  rougher.calculation.sulfate_to_au_concentrate       14148 non-null  float64\n",
      " 31  rougher.calculation.floatbank10_sulfate_to_au_feed  14148 non-null  float64\n",
      " 32  rougher.calculation.floatbank11_sulfate_to_au_feed  14148 non-null  float64\n",
      " 33  rougher.calculation.au_pb_ratio                     14149 non-null  float64\n",
      " 34  rougher.input.feed_ag                               14149 non-null  float64\n",
      " 35  rougher.input.feed_pb                               14049 non-null  float64\n",
      " 36  rougher.input.feed_rate                             14141 non-null  float64\n",
      " 37  rougher.input.feed_size                             14005 non-null  float64\n",
      " 38  rougher.input.feed_sol                              14071 non-null  float64\n",
      " 39  rougher.input.feed_au                               14149 non-null  float64\n",
      " 40  rougher.input.floatbank10_sulfate                   14120 non-null  float64\n",
      " 41  rougher.input.floatbank10_xanthate                  14141 non-null  float64\n",
      " 42  rougher.input.floatbank11_sulfate                   14113 non-null  float64\n",
      " 43  rougher.input.floatbank11_xanthate                  13721 non-null  float64\n",
      " 44  rougher.output.concentrate_ag                       14149 non-null  float64\n",
      " 45  rougher.output.concentrate_pb                       14149 non-null  float64\n",
      " 46  rougher.output.concentrate_sol                      14127 non-null  float64\n",
      " 47  rougher.output.concentrate_au                       14149 non-null  float64\n",
      " 48  rougher.output.recovery                             14149 non-null  float64\n",
      " 49  rougher.output.tail_ag                              14148 non-null  float64\n",
      " 50  rougher.output.tail_pb                              14149 non-null  float64\n",
      " 51  rougher.output.tail_sol                             14149 non-null  float64\n",
      " 52  rougher.output.tail_au                              14149 non-null  float64\n",
      " 53  rougher.state.floatbank10_a_air                     14148 non-null  float64\n",
      " 54  rougher.state.floatbank10_a_level                   14148 non-null  float64\n",
      " 55  rougher.state.floatbank10_b_air                     14148 non-null  float64\n",
      " 56  rougher.state.floatbank10_b_level                   14148 non-null  float64\n",
      " 57  rougher.state.floatbank10_c_air                     14148 non-null  float64\n",
      " 58  rougher.state.floatbank10_c_level                   14148 non-null  float64\n",
      " 59  rougher.state.floatbank10_d_air                     14149 non-null  float64\n",
      " 60  rougher.state.floatbank10_d_level                   14149 non-null  float64\n",
      " 61  rougher.state.floatbank10_e_air                     13713 non-null  float64\n",
      " 62  rougher.state.floatbank10_e_level                   14149 non-null  float64\n",
      " 63  rougher.state.floatbank10_f_air                     14149 non-null  float64\n",
      " 64  rougher.state.floatbank10_f_level                   14149 non-null  float64\n",
      " 65  secondary_cleaner.output.tail_ag                    14147 non-null  float64\n",
      " 66  secondary_cleaner.output.tail_pb                    14139 non-null  float64\n",
      " 67  secondary_cleaner.output.tail_sol                   12544 non-null  float64\n",
      " 68  secondary_cleaner.output.tail_au                    14149 non-null  float64\n",
      " 69  secondary_cleaner.state.floatbank2_a_air            13932 non-null  float64\n",
      " 70  secondary_cleaner.state.floatbank2_a_level          14148 non-null  float64\n",
      " 71  secondary_cleaner.state.floatbank2_b_air            14128 non-null  float64\n",
      " 72  secondary_cleaner.state.floatbank2_b_level          14148 non-null  float64\n",
      " 73  secondary_cleaner.state.floatbank3_a_air            14145 non-null  float64\n",
      " 74  secondary_cleaner.state.floatbank3_a_level          14148 non-null  float64\n",
      " 75  secondary_cleaner.state.floatbank3_b_air            14148 non-null  float64\n",
      " 76  secondary_cleaner.state.floatbank3_b_level          14148 non-null  float64\n",
      " 77  secondary_cleaner.state.floatbank4_a_air            14143 non-null  float64\n",
      " 78  secondary_cleaner.state.floatbank4_a_level          14148 non-null  float64\n",
      " 79  secondary_cleaner.state.floatbank4_b_air            14148 non-null  float64\n",
      " 80  secondary_cleaner.state.floatbank4_b_level          14148 non-null  float64\n",
      " 81  secondary_cleaner.state.floatbank5_a_air            14148 non-null  float64\n",
      " 82  secondary_cleaner.state.floatbank5_a_level          14148 non-null  float64\n",
      " 83  secondary_cleaner.state.floatbank5_b_air            14148 non-null  float64\n",
      " 84  secondary_cleaner.state.floatbank5_b_level          14148 non-null  float64\n",
      " 85  secondary_cleaner.state.floatbank6_a_air            14147 non-null  float64\n",
      " 86  secondary_cleaner.state.floatbank6_a_level          14148 non-null  float64\n",
      "dtypes: float64(86), object(1)\n",
      "memory usage: 9.4+ MB\n"
     ]
    }
   ],
   "source": [
    "df_train.info()"
   ]
  },
  {
   "cell_type": "markdown",
   "id": "4382087c",
   "metadata": {},
   "source": [
    "Размер датасета df_train - (14149, 87)"
   ]
  },
  {
   "cell_type": "code",
   "execution_count": 130,
   "id": "8fed32e5",
   "metadata": {},
   "outputs": [
    {
     "name": "stdout",
     "output_type": "stream",
     "text": [
      "<class 'pandas.core.frame.DataFrame'>\n",
      "RangeIndex: 5290 entries, 0 to 5289\n",
      "Data columns (total 53 columns):\n",
      " #   Column                                      Non-Null Count  Dtype  \n",
      "---  ------                                      --------------  -----  \n",
      " 0   date                                        5290 non-null   object \n",
      " 1   primary_cleaner.input.sulfate               5286 non-null   float64\n",
      " 2   primary_cleaner.input.depressant            5285 non-null   float64\n",
      " 3   primary_cleaner.input.feed_size             5290 non-null   float64\n",
      " 4   primary_cleaner.input.xanthate              5286 non-null   float64\n",
      " 5   primary_cleaner.state.floatbank8_a_air      5290 non-null   float64\n",
      " 6   primary_cleaner.state.floatbank8_a_level    5290 non-null   float64\n",
      " 7   primary_cleaner.state.floatbank8_b_air      5290 non-null   float64\n",
      " 8   primary_cleaner.state.floatbank8_b_level    5290 non-null   float64\n",
      " 9   primary_cleaner.state.floatbank8_c_air      5290 non-null   float64\n",
      " 10  primary_cleaner.state.floatbank8_c_level    5290 non-null   float64\n",
      " 11  primary_cleaner.state.floatbank8_d_air      5290 non-null   float64\n",
      " 12  primary_cleaner.state.floatbank8_d_level    5290 non-null   float64\n",
      " 13  rougher.input.feed_ag                       5290 non-null   float64\n",
      " 14  rougher.input.feed_pb                       5290 non-null   float64\n",
      " 15  rougher.input.feed_rate                     5287 non-null   float64\n",
      " 16  rougher.input.feed_size                     5289 non-null   float64\n",
      " 17  rougher.input.feed_sol                      5269 non-null   float64\n",
      " 18  rougher.input.feed_au                       5290 non-null   float64\n",
      " 19  rougher.input.floatbank10_sulfate           5285 non-null   float64\n",
      " 20  rougher.input.floatbank10_xanthate          5290 non-null   float64\n",
      " 21  rougher.input.floatbank11_sulfate           5282 non-null   float64\n",
      " 22  rougher.input.floatbank11_xanthate          5265 non-null   float64\n",
      " 23  rougher.state.floatbank10_a_air             5290 non-null   float64\n",
      " 24  rougher.state.floatbank10_a_level           5290 non-null   float64\n",
      " 25  rougher.state.floatbank10_b_air             5290 non-null   float64\n",
      " 26  rougher.state.floatbank10_b_level           5290 non-null   float64\n",
      " 27  rougher.state.floatbank10_c_air             5290 non-null   float64\n",
      " 28  rougher.state.floatbank10_c_level           5290 non-null   float64\n",
      " 29  rougher.state.floatbank10_d_air             5290 non-null   float64\n",
      " 30  rougher.state.floatbank10_d_level           5290 non-null   float64\n",
      " 31  rougher.state.floatbank10_e_air             5290 non-null   float64\n",
      " 32  rougher.state.floatbank10_e_level           5290 non-null   float64\n",
      " 33  rougher.state.floatbank10_f_air             5290 non-null   float64\n",
      " 34  rougher.state.floatbank10_f_level           5290 non-null   float64\n",
      " 35  secondary_cleaner.state.floatbank2_a_air    5287 non-null   float64\n",
      " 36  secondary_cleaner.state.floatbank2_a_level  5290 non-null   float64\n",
      " 37  secondary_cleaner.state.floatbank2_b_air    5288 non-null   float64\n",
      " 38  secondary_cleaner.state.floatbank2_b_level  5290 non-null   float64\n",
      " 39  secondary_cleaner.state.floatbank3_a_air    5281 non-null   float64\n",
      " 40  secondary_cleaner.state.floatbank3_a_level  5290 non-null   float64\n",
      " 41  secondary_cleaner.state.floatbank3_b_air    5290 non-null   float64\n",
      " 42  secondary_cleaner.state.floatbank3_b_level  5290 non-null   float64\n",
      " 43  secondary_cleaner.state.floatbank4_a_air    5290 non-null   float64\n",
      " 44  secondary_cleaner.state.floatbank4_a_level  5290 non-null   float64\n",
      " 45  secondary_cleaner.state.floatbank4_b_air    5290 non-null   float64\n",
      " 46  secondary_cleaner.state.floatbank4_b_level  5290 non-null   float64\n",
      " 47  secondary_cleaner.state.floatbank5_a_air    5290 non-null   float64\n",
      " 48  secondary_cleaner.state.floatbank5_a_level  5290 non-null   float64\n",
      " 49  secondary_cleaner.state.floatbank5_b_air    5290 non-null   float64\n",
      " 50  secondary_cleaner.state.floatbank5_b_level  5290 non-null   float64\n",
      " 51  secondary_cleaner.state.floatbank6_a_air    5290 non-null   float64\n",
      " 52  secondary_cleaner.state.floatbank6_a_level  5290 non-null   float64\n",
      "dtypes: float64(52), object(1)\n",
      "memory usage: 2.1+ MB\n"
     ]
    }
   ],
   "source": [
    "df_test.info()"
   ]
  },
  {
   "cell_type": "code",
   "execution_count": null,
   "id": "701484dc",
   "metadata": {},
   "outputs": [],
   "source": [
    "Размер датасета df_test - (5290, 53)"
   ]
  },
  {
   "cell_type": "code",
   "execution_count": 131,
   "id": "e0063bd3",
   "metadata": {},
   "outputs": [
    {
     "data": {
      "text/plain": [
       "date                                           0\n",
       "primary_cleaner.input.sulfate                  4\n",
       "primary_cleaner.input.depressant               5\n",
       "primary_cleaner.input.feed_size                0\n",
       "primary_cleaner.input.xanthate                 4\n",
       "primary_cleaner.state.floatbank8_a_air         0\n",
       "primary_cleaner.state.floatbank8_a_level       0\n",
       "primary_cleaner.state.floatbank8_b_air         0\n",
       "primary_cleaner.state.floatbank8_b_level       0\n",
       "primary_cleaner.state.floatbank8_c_air         0\n",
       "primary_cleaner.state.floatbank8_c_level       0\n",
       "primary_cleaner.state.floatbank8_d_air         0\n",
       "primary_cleaner.state.floatbank8_d_level       0\n",
       "rougher.input.feed_ag                          0\n",
       "rougher.input.feed_pb                          0\n",
       "rougher.input.feed_rate                        3\n",
       "rougher.input.feed_size                        1\n",
       "rougher.input.feed_sol                        21\n",
       "rougher.input.feed_au                          0\n",
       "rougher.input.floatbank10_sulfate              5\n",
       "rougher.input.floatbank10_xanthate             0\n",
       "rougher.input.floatbank11_sulfate              8\n",
       "rougher.input.floatbank11_xanthate            25\n",
       "rougher.state.floatbank10_a_air                0\n",
       "rougher.state.floatbank10_a_level              0\n",
       "rougher.state.floatbank10_b_air                0\n",
       "rougher.state.floatbank10_b_level              0\n",
       "rougher.state.floatbank10_c_air                0\n",
       "rougher.state.floatbank10_c_level              0\n",
       "rougher.state.floatbank10_d_air                0\n",
       "rougher.state.floatbank10_d_level              0\n",
       "rougher.state.floatbank10_e_air                0\n",
       "rougher.state.floatbank10_e_level              0\n",
       "rougher.state.floatbank10_f_air                0\n",
       "rougher.state.floatbank10_f_level              0\n",
       "secondary_cleaner.state.floatbank2_a_air       3\n",
       "secondary_cleaner.state.floatbank2_a_level     0\n",
       "secondary_cleaner.state.floatbank2_b_air       2\n",
       "secondary_cleaner.state.floatbank2_b_level     0\n",
       "secondary_cleaner.state.floatbank3_a_air       9\n",
       "secondary_cleaner.state.floatbank3_a_level     0\n",
       "secondary_cleaner.state.floatbank3_b_air       0\n",
       "secondary_cleaner.state.floatbank3_b_level     0\n",
       "secondary_cleaner.state.floatbank4_a_air       0\n",
       "secondary_cleaner.state.floatbank4_a_level     0\n",
       "secondary_cleaner.state.floatbank4_b_air       0\n",
       "secondary_cleaner.state.floatbank4_b_level     0\n",
       "secondary_cleaner.state.floatbank5_a_air       0\n",
       "secondary_cleaner.state.floatbank5_a_level     0\n",
       "secondary_cleaner.state.floatbank5_b_air       0\n",
       "secondary_cleaner.state.floatbank5_b_level     0\n",
       "secondary_cleaner.state.floatbank6_a_air       0\n",
       "secondary_cleaner.state.floatbank6_a_level     0\n",
       "dtype: int64"
      ]
     },
     "execution_count": 131,
     "metadata": {},
     "output_type": "execute_result"
    }
   ],
   "source": [
    "df_test.isnull().sum()"
   ]
  },
  {
   "cell_type": "code",
   "execution_count": null,
   "id": "51668564",
   "metadata": {},
   "outputs": [],
   "source": [
    "заполняем пропуски при помощи интерполяции"
   ]
  },
  {
   "cell_type": "code",
   "execution_count": 132,
   "id": "b6618abf",
   "metadata": {},
   "outputs": [],
   "source": [
    "df_test.replace(to_replace=0, value=np.nan, inplace=True)\n",
    "df_test.interpolate(inplace=True)"
   ]
  },
  {
   "cell_type": "code",
   "execution_count": 208,
   "id": "f81dc701",
   "metadata": {},
   "outputs": [
    {
     "name": "stdout",
     "output_type": "stream",
     "text": [
      "Размер обучающей выборки 14149, от общего количества данных 72.8%\n",
      "Размер тестовой выборки 5290, от общего количества данных 27.2%\n",
      "Размер итоговой выборки 19439\n"
     ]
    }
   ],
   "source": [
    "print('Размер обучающей выборки {}, от общего количества данных {:.1%}'.format(\n",
    "    len(df_train), len(df_train)/df_full.shape[0]))\n",
    "print('Размер тестовой выборки {}, от общего количества данных {:.1%}'.format(\n",
    "    len(df_test), len(df_test)/df_full.shape[0]))\n",
    "print('Размер итоговой выборки {}'.format(len(df_full)))\n",
    "\n"
   ]
  },
  {
   "cell_type": "markdown",
   "id": "76f91e09",
   "metadata": {},
   "source": [
    "Формула для проверки эффективности обогащения:"
   ]
  },
  {
   "cell_type": "code",
   "execution_count": 133,
   "id": "d518dcb2",
   "metadata": {},
   "outputs": [],
   "source": [
    "c = df_train['rougher.output.concentrate_au'] #доля золота в концентрате после флотации/очистки\n",
    "f = df_train['rougher.input.feed_au'] #доля золота в сырье/концентрате до флотации/очистки\n",
    "t = df_train['rougher.output.tail_au'] #доля золота в отвальных хвостах после флотации/очистки\n",
    "\n",
    "\n",
    "recovery_train = (c*(f-t))/(f*(c-t))*100\n"
   ]
  },
  {
   "cell_type": "markdown",
   "id": "7d2f47ef",
   "metadata": {},
   "source": [
    "Проверяем насколько эффективность обогащения рассчитана правильно для признака rougher.output.recovery:"
   ]
  },
  {
   "cell_type": "code",
   "execution_count": 134,
   "id": "934c5676",
   "metadata": {},
   "outputs": [
    {
     "name": "stdout",
     "output_type": "stream",
     "text": [
      "MAE  =  0.0\n"
     ]
    }
   ],
   "source": [
    "mae = round(mean_absolute_error(df_train['rougher.output.recovery'], recovery_train),10)\n",
    "print('MAE  = ', mae)"
   ]
  },
  {
   "cell_type": "markdown",
   "id": "d5d980ed",
   "metadata": {},
   "source": [
    " Получили значение MAE между нашими расчетами и признаком rougher.output.recovery равеное 0.00"
   ]
  },
  {
   "cell_type": "markdown",
   "id": "d831c89b",
   "metadata": {},
   "source": [
    "Выявим признаки, которые есть в обучающей выборке, но недоступные в тестовой выборке. Выведем их:"
   ]
  },
  {
   "cell_type": "code",
   "execution_count": 135,
   "id": "1634f631",
   "metadata": {},
   "outputs": [
    {
     "name": "stdout",
     "output_type": "stream",
     "text": [
      "Index(['final.output.concentrate_ag', 'final.output.concentrate_au',\n",
      "       'final.output.concentrate_pb', 'final.output.concentrate_sol',\n",
      "       'final.output.recovery', 'final.output.tail_ag', 'final.output.tail_au',\n",
      "       'final.output.tail_pb', 'final.output.tail_sol',\n",
      "       'primary_cleaner.output.concentrate_ag',\n",
      "       'primary_cleaner.output.concentrate_au',\n",
      "       'primary_cleaner.output.concentrate_pb',\n",
      "       'primary_cleaner.output.concentrate_sol',\n",
      "       'primary_cleaner.output.tail_ag', 'primary_cleaner.output.tail_au',\n",
      "       'primary_cleaner.output.tail_pb', 'primary_cleaner.output.tail_sol',\n",
      "       'rougher.calculation.au_pb_ratio',\n",
      "       'rougher.calculation.floatbank10_sulfate_to_au_feed',\n",
      "       'rougher.calculation.floatbank11_sulfate_to_au_feed',\n",
      "       'rougher.calculation.sulfate_to_au_concentrate',\n",
      "       'rougher.output.concentrate_ag', 'rougher.output.concentrate_au',\n",
      "       'rougher.output.concentrate_pb', 'rougher.output.concentrate_sol',\n",
      "       'rougher.output.recovery', 'rougher.output.tail_ag',\n",
      "       'rougher.output.tail_au', 'rougher.output.tail_pb',\n",
      "       'rougher.output.tail_sol', 'secondary_cleaner.output.tail_ag',\n",
      "       'secondary_cleaner.output.tail_au', 'secondary_cleaner.output.tail_pb',\n",
      "       'secondary_cleaner.output.tail_sol'],\n",
      "      dtype='object')\n"
     ]
    }
   ],
   "source": [
    "set_train = df_train.columns\n",
    "set_test = df_test.columns\n",
    "\n",
    "diff_set = set_train.difference(set_test)\n",
    "print(diff_set)\n"
   ]
  },
  {
   "cell_type": "markdown",
   "id": "f4b04068",
   "metadata": {},
   "source": [
    "Выделяем целевые признаки"
   ]
  },
  {
   "cell_type": "code",
   "execution_count": 136,
   "id": "e4ccd38d",
   "metadata": {},
   "outputs": [],
   "source": [
    "target  = ['rougher.output.recovery', 'final.output.recovery']"
   ]
  },
  {
   "cell_type": "markdown",
   "id": "d045bd07",
   "metadata": {},
   "source": [
    "удаляем из обучающей выборки признаки которых нет в датафрейме df_test за исключением целевых признаков"
   ]
  },
  {
   "cell_type": "code",
   "execution_count": 137,
   "id": "0cf30a45",
   "metadata": {},
   "outputs": [],
   "source": [
    "df_train_upd = df_train.drop(set(diff_set) - set(target), axis=1)"
   ]
  },
  {
   "cell_type": "code",
   "execution_count": 138,
   "id": "33db9716",
   "metadata": {},
   "outputs": [],
   "source": [
    "df_test_upd = pd.merge(df_test.set_index('date'), df_full.set_index('date')[target], \n",
    "                       left_index=True, right_index=True).reset_index()"
   ]
  },
  {
   "cell_type": "markdown",
   "id": "d2ad0187",
   "metadata": {},
   "source": [
    "сравниваем, совпадает ли количество столбцов в обучающей и тестовой  выборках"
   ]
  },
  {
   "cell_type": "code",
   "execution_count": 139,
   "id": "dd0c9e03",
   "metadata": {},
   "outputs": [
    {
     "name": "stdout",
     "output_type": "stream",
     "text": [
      "55\n",
      "55\n"
     ]
    }
   ],
   "source": [
    "print(len(df_train_upd.columns))\n",
    "print(len(df_test_upd.columns))"
   ]
  },
  {
   "cell_type": "markdown",
   "id": "042cc71e",
   "metadata": {},
   "source": [
    "Выборки совпадают по длине."
   ]
  },
  {
   "cell_type": "markdown",
   "id": "a70205db",
   "metadata": {},
   "source": [
    "Проверяем наличие пустых ячеек в обучающей выборке"
   ]
  },
  {
   "cell_type": "code",
   "execution_count": 140,
   "id": "80defaa3",
   "metadata": {},
   "outputs": [
    {
     "data": {
      "text/plain": [
       "date                                            0\n",
       "final.output.recovery                           0\n",
       "primary_cleaner.input.sulfate                  20\n",
       "primary_cleaner.input.depressant               32\n",
       "primary_cleaner.input.feed_size                 0\n",
       "primary_cleaner.input.xanthate                100\n",
       "primary_cleaner.state.floatbank8_a_air          4\n",
       "primary_cleaner.state.floatbank8_a_level        1\n",
       "primary_cleaner.state.floatbank8_b_air          4\n",
       "primary_cleaner.state.floatbank8_b_level        1\n",
       "primary_cleaner.state.floatbank8_c_air          2\n",
       "primary_cleaner.state.floatbank8_c_level        1\n",
       "primary_cleaner.state.floatbank8_d_air          3\n",
       "primary_cleaner.state.floatbank8_d_level        1\n",
       "rougher.input.feed_ag                           0\n",
       "rougher.input.feed_pb                         100\n",
       "rougher.input.feed_rate                         8\n",
       "rougher.input.feed_size                       144\n",
       "rougher.input.feed_sol                         78\n",
       "rougher.input.feed_au                           0\n",
       "rougher.input.floatbank10_sulfate              29\n",
       "rougher.input.floatbank10_xanthate              8\n",
       "rougher.input.floatbank11_sulfate              36\n",
       "rougher.input.floatbank11_xanthate            428\n",
       "rougher.output.recovery                         0\n",
       "rougher.state.floatbank10_a_air                 1\n",
       "rougher.state.floatbank10_a_level               1\n",
       "rougher.state.floatbank10_b_air                 1\n",
       "rougher.state.floatbank10_b_level               1\n",
       "rougher.state.floatbank10_c_air                 1\n",
       "rougher.state.floatbank10_c_level               1\n",
       "rougher.state.floatbank10_d_air                 0\n",
       "rougher.state.floatbank10_d_level               0\n",
       "rougher.state.floatbank10_e_air               436\n",
       "rougher.state.floatbank10_e_level               0\n",
       "rougher.state.floatbank10_f_air                 0\n",
       "rougher.state.floatbank10_f_level               0\n",
       "secondary_cleaner.state.floatbank2_a_air      217\n",
       "secondary_cleaner.state.floatbank2_a_level      1\n",
       "secondary_cleaner.state.floatbank2_b_air       21\n",
       "secondary_cleaner.state.floatbank2_b_level      1\n",
       "secondary_cleaner.state.floatbank3_a_air        4\n",
       "secondary_cleaner.state.floatbank3_a_level      1\n",
       "secondary_cleaner.state.floatbank3_b_air        1\n",
       "secondary_cleaner.state.floatbank3_b_level      1\n",
       "secondary_cleaner.state.floatbank4_a_air        6\n",
       "secondary_cleaner.state.floatbank4_a_level      1\n",
       "secondary_cleaner.state.floatbank4_b_air        1\n",
       "secondary_cleaner.state.floatbank4_b_level      1\n",
       "secondary_cleaner.state.floatbank5_a_air        1\n",
       "secondary_cleaner.state.floatbank5_a_level      1\n",
       "secondary_cleaner.state.floatbank5_b_air        1\n",
       "secondary_cleaner.state.floatbank5_b_level      1\n",
       "secondary_cleaner.state.floatbank6_a_air        2\n",
       "secondary_cleaner.state.floatbank6_a_level      1\n",
       "dtype: int64"
      ]
     },
     "execution_count": 140,
     "metadata": {},
     "output_type": "execute_result"
    }
   ],
   "source": [
    "df_train_upd.isnull().sum()"
   ]
  },
  {
   "cell_type": "markdown",
   "id": "c2584c08",
   "metadata": {},
   "source": [
    "Выявили пропуски."
   ]
  },
  {
   "cell_type": "markdown",
   "id": "e6eb4a42",
   "metadata": {},
   "source": [
    "Проверяем есть ли пропуске в обучающей выборке"
   ]
  },
  {
   "cell_type": "code",
   "execution_count": 141,
   "id": "664c8102",
   "metadata": {},
   "outputs": [
    {
     "data": {
      "text/plain": [
       "0"
      ]
     },
     "execution_count": 141,
     "metadata": {},
     "output_type": "execute_result"
    }
   ],
   "source": [
    "df_train_upd.duplicated().sum()"
   ]
  },
  {
   "cell_type": "markdown",
   "id": "edcd241f",
   "metadata": {},
   "source": [
    "Пропусков нет"
   ]
  },
  {
   "cell_type": "markdown",
   "id": "146fe44b",
   "metadata": {},
   "source": [
    "заполняем пропуски в обновленной обучающей выборке методом интерполяции"
   ]
  },
  {
   "cell_type": "code",
   "execution_count": 142,
   "id": "815c3df3",
   "metadata": {},
   "outputs": [],
   "source": [
    "df_train_upd.replace(to_replace=0, value=np.nan, inplace=True)\n",
    "df_train_upd.interpolate(inplace=True)\n"
   ]
  },
  {
   "cell_type": "markdown",
   "id": "ae56f66d",
   "metadata": {},
   "source": [
    "Перепроверяем:"
   ]
  },
  {
   "cell_type": "code",
   "execution_count": 143,
   "id": "a599c749",
   "metadata": {},
   "outputs": [
    {
     "data": {
      "text/plain": [
       "date                                          0\n",
       "final.output.recovery                         0\n",
       "primary_cleaner.input.sulfate                 0\n",
       "primary_cleaner.input.depressant              0\n",
       "primary_cleaner.input.feed_size               0\n",
       "primary_cleaner.input.xanthate                0\n",
       "primary_cleaner.state.floatbank8_a_air        0\n",
       "primary_cleaner.state.floatbank8_a_level      0\n",
       "primary_cleaner.state.floatbank8_b_air        0\n",
       "primary_cleaner.state.floatbank8_b_level      0\n",
       "primary_cleaner.state.floatbank8_c_air        0\n",
       "primary_cleaner.state.floatbank8_c_level      0\n",
       "primary_cleaner.state.floatbank8_d_air        0\n",
       "primary_cleaner.state.floatbank8_d_level      0\n",
       "rougher.input.feed_ag                         0\n",
       "rougher.input.feed_pb                         0\n",
       "rougher.input.feed_rate                       0\n",
       "rougher.input.feed_size                       0\n",
       "rougher.input.feed_sol                        0\n",
       "rougher.input.feed_au                         0\n",
       "rougher.input.floatbank10_sulfate             0\n",
       "rougher.input.floatbank10_xanthate            0\n",
       "rougher.input.floatbank11_sulfate             0\n",
       "rougher.input.floatbank11_xanthate            0\n",
       "rougher.output.recovery                       0\n",
       "rougher.state.floatbank10_a_air               0\n",
       "rougher.state.floatbank10_a_level             0\n",
       "rougher.state.floatbank10_b_air               0\n",
       "rougher.state.floatbank10_b_level             0\n",
       "rougher.state.floatbank10_c_air               0\n",
       "rougher.state.floatbank10_c_level             0\n",
       "rougher.state.floatbank10_d_air               0\n",
       "rougher.state.floatbank10_d_level             0\n",
       "rougher.state.floatbank10_e_air               0\n",
       "rougher.state.floatbank10_e_level             0\n",
       "rougher.state.floatbank10_f_air               0\n",
       "rougher.state.floatbank10_f_level             0\n",
       "secondary_cleaner.state.floatbank2_a_air      0\n",
       "secondary_cleaner.state.floatbank2_a_level    0\n",
       "secondary_cleaner.state.floatbank2_b_air      0\n",
       "secondary_cleaner.state.floatbank2_b_level    0\n",
       "secondary_cleaner.state.floatbank3_a_air      0\n",
       "secondary_cleaner.state.floatbank3_a_level    0\n",
       "secondary_cleaner.state.floatbank3_b_air      0\n",
       "secondary_cleaner.state.floatbank3_b_level    0\n",
       "secondary_cleaner.state.floatbank4_a_air      0\n",
       "secondary_cleaner.state.floatbank4_a_level    0\n",
       "secondary_cleaner.state.floatbank4_b_air      0\n",
       "secondary_cleaner.state.floatbank4_b_level    0\n",
       "secondary_cleaner.state.floatbank5_a_air      0\n",
       "secondary_cleaner.state.floatbank5_a_level    0\n",
       "secondary_cleaner.state.floatbank5_b_air      0\n",
       "secondary_cleaner.state.floatbank5_b_level    0\n",
       "secondary_cleaner.state.floatbank6_a_air      0\n",
       "secondary_cleaner.state.floatbank6_a_level    0\n",
       "dtype: int64"
      ]
     },
     "execution_count": 143,
     "metadata": {},
     "output_type": "execute_result"
    }
   ],
   "source": [
    "df_train_upd.isnull().sum()"
   ]
  },
  {
   "cell_type": "markdown",
   "id": "f61c43b8",
   "metadata": {},
   "source": [
    "Пропусков нет"
   ]
  },
  {
   "cell_type": "markdown",
   "id": "50d444a6",
   "metadata": {},
   "source": [
    "Проверяем наличие пропусков в тестовой выборке:"
   ]
  },
  {
   "cell_type": "code",
   "execution_count": 144,
   "id": "f33744fb",
   "metadata": {},
   "outputs": [
    {
     "data": {
      "text/plain": [
       "0"
      ]
     },
     "execution_count": 144,
     "metadata": {},
     "output_type": "execute_result"
    }
   ],
   "source": [
    "df_test_upd.duplicated().sum()"
   ]
  },
  {
   "cell_type": "markdown",
   "id": "c4db51cf",
   "metadata": {},
   "source": [
    "Пропусков нет"
   ]
  },
  {
   "cell_type": "markdown",
   "id": "11b4f2ef",
   "metadata": {},
   "source": [
    "Проверяем наличие пропусков в тестовой выборке:"
   ]
  },
  {
   "cell_type": "code",
   "execution_count": 145,
   "id": "d0d73fe3",
   "metadata": {},
   "outputs": [
    {
     "data": {
      "text/plain": [
       "0"
      ]
     },
     "execution_count": 145,
     "metadata": {},
     "output_type": "execute_result"
    }
   ],
   "source": [
    "df_full.duplicated().sum()"
   ]
  },
  {
   "cell_type": "markdown",
   "id": "7a0b8e43",
   "metadata": {},
   "source": [
    "Дубликатов нет"
   ]
  },
  {
   "cell_type": "markdown",
   "id": "123d24be",
   "metadata": {},
   "source": [
    "## Анализ данных"
   ]
  },
  {
   "cell_type": "markdown",
   "id": "25a40db6",
   "metadata": {},
   "source": [
    "Изучаем как меняется концентрация металлов (Au, Ag, Pb) на различных этапах очистки. Для этого напишем функцию которая рисует гистограмму"
   ]
  },
  {
   "cell_type": "code",
   "execution_count": 146,
   "id": "b97b2e34",
   "metadata": {},
   "outputs": [],
   "source": [
    "def material (feed, primary_cleaner, rougher, final, name):\n",
    "    \n",
    "    plt.figure(figsize=(14,8))\n",
    "    plt.hist([feed, primary_cleaner, rougher, final], bins=100, \n",
    "             label=('Исходное сырьё', 'После первичной очистки', 'После флотации', \n",
    "                     'Итоговый концентрат'))\n",
    "    \n",
    "    plt.xlabel('концентрация')\n",
    "    plt.ylabel('количество')\n",
    "    plt.title(name)\n",
    "    plt.legend()\n",
    "    plt.show()\n",
    "    \n",
    "    "
   ]
  },
  {
   "cell_type": "markdown",
   "id": "51ae16b2",
   "metadata": {},
   "source": [
    "#### Серебро"
   ]
  },
  {
   "cell_type": "code",
   "execution_count": 147,
   "id": "4cac386f",
   "metadata": {},
   "outputs": [
    {
     "data": {
      "image/png": "[encoded data removed]",
      "text/plain": [
       "<Figure size 1008x576 with 1 Axes>"
      ]
     },
     "metadata": {
      "needs_background": "light"
     },
     "output_type": "display_data"
    }
   ],
   "source": [
    "material(df_full['rougher.input.feed_ag'], \n",
    "         df_full['primary_cleaner.output.concentrate_ag'],\n",
    "                 df_full['rougher.output.concentrate_ag'],\n",
    "         df_full['final.output.concentrate_ag'],'Серебро')"
   ]
  },
  {
   "cell_type": "markdown",
   "id": "3caa7bc4",
   "metadata": {},
   "source": [
    "На графике видно, что по мере прохождения этапов обработки  концентрация серебра уменьшается"
   ]
  },
  {
   "cell_type": "markdown",
   "id": "15e9c358",
   "metadata": {},
   "source": [
    "#### Золото"
   ]
  },
  {
   "cell_type": "code",
   "execution_count": 148,
   "id": "13721754",
   "metadata": {},
   "outputs": [
    {
     "data": {
      "image/png": "[encoded data removed]",
      "text/plain": [
       "<Figure size 1008x576 with 1 Axes>"
      ]
     },
     "metadata": {
      "needs_background": "light"
     },
     "output_type": "display_data"
    }
   ],
   "source": [
    "material(df_full['rougher.input.feed_au'], \n",
    "         df_full['primary_cleaner.output.concentrate_au'],\n",
    "                 df_full['rougher.output.concentrate_au'],\n",
    "         df_full['final.output.concentrate_au'],'золото')"
   ]
  },
  {
   "cell_type": "markdown",
   "id": "19b6d769",
   "metadata": {},
   "source": [
    "На графике видно что помере отчистки сырья количство золота в руде практически не меняетс. только на этапе первичной очистки концентрация падает. Это может быть обусловлено технологическими особенностями очистки"
   ]
  },
  {
   "cell_type": "markdown",
   "id": "b2aa5949",
   "metadata": {},
   "source": [
    "#### Свинец"
   ]
  },
  {
   "cell_type": "code",
   "execution_count": 149,
   "id": "21c43729",
   "metadata": {},
   "outputs": [
    {
     "data": {
      "image/png": "[encoded data removed]",
      "text/plain": [
       "<Figure size 1008x576 with 1 Axes>"
      ]
     },
     "metadata": {
      "needs_background": "light"
     },
     "output_type": "display_data"
    }
   ],
   "source": [
    "material(df_full['rougher.input.feed_pb'], \n",
    "         df_full['primary_cleaner.output.concentrate_pb'],\n",
    "                 df_full['rougher.output.concentrate_pb'],\n",
    "         df_full['final.output.concentrate_pb'],'Серебро')"
   ]
  },
  {
   "cell_type": "markdown",
   "id": "d6568814",
   "metadata": {},
   "source": [
    "На графике видно что по мере очистки золотоносного сырья концентрация свинца снижается"
   ]
  },
  {
   "cell_type": "markdown",
   "id": "588f5345",
   "metadata": {},
   "source": [
    "Сравнение распределения размеров гранул сырья на обучающей и тестовой выборках"
   ]
  },
  {
   "cell_type": "code",
   "execution_count": 150,
   "id": "ca7f26d3",
   "metadata": {},
   "outputs": [
    {
     "data": {
      "image/png": "[encoded data removed]",
      "text/plain": [
       "<Figure size 432x360 with 1 Axes>"
      ]
     },
     "metadata": {
      "needs_background": "light"
     },
     "output_type": "display_data"
    }
   ],
   "source": [
    "df_train_feed_size = df_train_upd['rougher.input.feed_size']\n",
    "df_test_feed_size = df_test_upd['rougher.input.feed_size']\n",
    "\n",
    "plt.figure(figsize=(6,5))\n",
    "\n",
    "plt.hist(df_train_feed_size, label = 'обучающая выборка', bins=20, density=True, alpha=0.75)\n",
    "plt.hist(df_test_feed_size, label = 'тестовая выборка', bins=20, density=True, alpha=0.75)\n",
    "plt.xlabel('количество')\n",
    "plt.ylabel('размер')\n",
    "plt.title('распределения размеров гранул сырья на обучающей и тестовой выборках')\n",
    "plt.legend()\n",
    "plt.grid()\n",
    "plt.show()\n"
   ]
  },
  {
   "cell_type": "markdown",
   "id": "388555c1",
   "metadata": {},
   "source": [
    "На графике видно что размеры гранул на обучающей и тестовой выборках практически равны."
   ]
  },
  {
   "cell_type": "code",
   "execution_count": 151,
   "id": "8dcff420",
   "metadata": {},
   "outputs": [],
   "source": [
    "raw_input = df_full['rougher.input.feed_ag'] + df_full['rougher.input.feed_pb'] + df_full['rougher.input.feed_sol'] + df_full['rougher.input.feed_au']\n",
    "raw_output = df_full['rougher.output.concentrate_ag'] + df_full['rougher.output.concentrate_pb'] + df_full['rougher.output.concentrate_sol'] + df_full['rougher.output.concentrate_au']\n",
    "final_output = df_full['final.output.concentrate_ag'] + df_full['final.output.concentrate_pb'] + df_full['final.output.concentrate_sol'] + df_full['final.output.concentrate_au']\n",
    "\n",
    " "
   ]
  },
  {
   "cell_type": "code",
   "execution_count": 152,
   "id": "de02fefd",
   "metadata": {},
   "outputs": [
    {
     "data": {
      "image/png": "[encoded data removed]",
      "text/plain": [
       "<Figure size 864x504 with 1 Axes>"
      ]
     },
     "metadata": {
      "needs_background": "light"
     },
     "output_type": "display_data"
    }
   ],
   "source": [
    "plt.figure(figsize=(12,7))\n",
    "\n",
    "plt.hist(raw_input, label = 'Сырьё', bins=50,  alpha=0.75)\n",
    "plt.hist(raw_output, label = 'черновой концентрат', bins=40,  alpha=0.75)\n",
    "plt.hist(final_output, label = 'Финальный концентрат', bins=40,  alpha=0.75)\n",
    "plt.xlabel('количество')\n",
    "plt.ylabel('концентрация')\n",
    "plt.title('Суммарная концентрация всех веществ на разных стадиях')\n",
    "plt.legend()\n",
    "plt.grid()\n",
    "plt.show()"
   ]
  },
  {
   "cell_type": "markdown",
   "id": "af8af645",
   "metadata": {},
   "source": [
    "На графике видно что на каждом этапе очистки сырья концентрация металлов  увеличивается"
   ]
  },
  {
   "cell_type": "markdown",
   "id": "5e3974e2",
   "metadata": {},
   "source": [
    "## Построение модели"
   ]
  },
  {
   "cell_type": "markdown",
   "id": "2bddac7b",
   "metadata": {},
   "source": [
    "Напишем функции для расчета показателей SMAPE и итогового SMAPE"
   ]
  },
  {
   "cell_type": "code",
   "execution_count": 153,
   "id": "11c2ca49",
   "metadata": {},
   "outputs": [],
   "source": [
    "def find_smape(target, prediction):\n",
    "    mape = (np.abs(target - prediction)) / (np.abs(target) + np.abs(prediction)/2)\n",
    "    sum_mape = mape.sum()\n",
    "    final_smape = (1 / len(target)) * sum_mape * 100\n",
    "    return final_smape"
   ]
  },
  {
   "cell_type": "code",
   "execution_count": 154,
   "id": "252d3393",
   "metadata": {},
   "outputs": [],
   "source": [
    "def final_smape(rougher, final):\n",
    "    \n",
    "    final = 0.25 * rougher + 0.75 * final\n",
    "    \n",
    "    return final"
   ]
  },
  {
   "cell_type": "markdown",
   "id": "7a2e7d0f",
   "metadata": {},
   "source": [
    "#### Обучаем модели и оцениваем их качество кросс-валидацией. Выбераем лучшую модель и проверяем её на тестовой выборке. "
   ]
  },
  {
   "cell_type": "markdown",
   "id": "d2d2fdac",
   "metadata": {},
   "source": [
    "Разабьем обучающую и тестовую выборки на rougher и final"
   ]
  },
  {
   "cell_type": "code",
   "execution_count": 155,
   "id": "97907460",
   "metadata": {},
   "outputs": [],
   "source": [
    "features_train_rougher = df_train_upd.drop(['date', 'rougher.output.recovery', 'final.output.recovery'], axis=1)\n",
    "target_train_rougher = df_train_upd['rougher.output.recovery']\n",
    "\n",
    "features_test_roughter = df_test_upd.drop(['date', 'rougher.output.recovery', 'final.output.recovery'], axis=1)\n",
    "target_test_rougher = df_test_upd['rougher.output.recovery']\n",
    "\n",
    "features_train_final = df_train_upd.drop(['date', 'rougher.output.recovery', 'final.output.recovery'], axis=1)\n",
    "target_train_final = df_train_upd['final.output.recovery']\n",
    "\n",
    "features_test_final = df_test_upd.drop(['date', 'rougher.output.recovery', 'final.output.recovery'], axis=1)\n",
    "target_test_final = df_test_upd['final.output.recovery']"
   ]
  },
  {
   "cell_type": "markdown",
   "id": "02ae81fc",
   "metadata": {},
   "source": [
    "Маштабируем признаки при помощи StandardScaler"
   ]
  },
  {
   "cell_type": "code",
   "execution_count": 172,
   "id": "a6ea19b2",
   "metadata": {},
   "outputs": [],
   "source": [
    "scaler = StandardScaler()\n",
    "scaler.fit(features_train_rougher)\n",
    "features_train_rougher=scaler.transform(features_train_rougher)\n",
    "features_test_rougher=scaler.transform(features_test_roughter)"
   ]
  },
  {
   "cell_type": "code",
   "execution_count": 157,
   "id": "00e8e45b",
   "metadata": {},
   "outputs": [],
   "source": [
    "scaler = StandardScaler()\n",
    "scaler.fit(features_train_final)\n",
    "features_train_final = scaler.transform(features_train_final)\n",
    "features_test_final=scaler.transform(features_test_final)"
   ]
  },
  {
   "cell_type": "code",
   "execution_count": null,
   "id": "d5a2d273",
   "metadata": {},
   "outputs": [],
   "source": []
  },
  {
   "cell_type": "markdown",
   "id": "add981ee",
   "metadata": {},
   "source": [
    "Строим модели"
   ]
  },
  {
   "cell_type": "markdown",
   "id": "59b89274",
   "metadata": {},
   "source": [
    "В качестве метрики мы должны использовать метрику sMAPE, укажем эту функцию в качетве параметра scoring, использовав объект scorer"
   ]
  },
  {
   "cell_type": "code",
   "execution_count": null,
   "id": "e490f152",
   "metadata": {},
   "outputs": [],
   "source": [
    "cv = 5\n",
    "scorer = make_scorer(find_smape)"
   ]
  },
  {
   "cell_type": "markdown",
   "id": "980324ef",
   "metadata": {},
   "source": [
    "Модель Дерево Решений"
   ]
  },
  {
   "cell_type": "code",
   "execution_count": 40,
   "id": "1d8190b1",
   "metadata": {},
   "outputs": [],
   "source": [
    "def tree_decision(features, target):\n",
    "    best_depth = 0\n",
    "    best_score = 0\n",
    "    for depth in range(1, 20):\n",
    "        model = DecisionTreeRegressor(random_state=12345, max_depth=depth) \n",
    "        score = cross_val_score(model, features, target, cv=cv, scoring=scorer).mean()\n",
    "        if score > best_score:\n",
    "            best_depth = depth\n",
    "            best_score = score\n",
    "            \n",
    "    return best_depth, best_score       \n",
    "\n",
    "\n",
    "\n",
    "\n"
   ]
  },
  {
   "cell_type": "code",
   "execution_count": 58,
   "id": "78512c3d",
   "metadata": {},
   "outputs": [],
   "source": [
    "result_rougher = tree_decision(features_train_rougher, target_train_rougher)"
   ]
  },
  {
   "cell_type": "code",
   "execution_count": 61,
   "id": "71ea0393",
   "metadata": {},
   "outputs": [
    {
     "name": "stdout",
     "output_type": "stream",
     "text": [
      "Средние знаение Smape модели Дерева Решени на этапе rougher равен 6.3,  с глубиной дерева 13\n"
     ]
    }
   ],
   "source": [
    "print('Средние знаение Smape модели Дерева Решени на этапе rougher равен {:.2},  с глубиной дерева {}'.format(result_rougher[1], result_rougher[0]))"
   ]
  },
  {
   "cell_type": "code",
   "execution_count": 62,
   "id": "d041d5e8",
   "metadata": {},
   "outputs": [],
   "source": [
    "result_final = tree_decision(features_train_final, target_train_final)"
   ]
  },
  {
   "cell_type": "code",
   "execution_count": 68,
   "id": "85f0e4fb",
   "metadata": {},
   "outputs": [
    {
     "name": "stdout",
     "output_type": "stream",
     "text": [
      "Средние знаение  Smape модели Дерева Решени на этапе final равен 11.5 , с глубиной дерева 18\n"
     ]
    }
   ],
   "source": [
    "print('Средние знаение  Smape модели Дерева Решени на этапе final равен {:.3} , с глубиной дерева {}'.format(result_final[1], result_final[0]))"
   ]
  },
  {
   "cell_type": "markdown",
   "id": "8da66074",
   "metadata": {},
   "source": [
    "Модель линейной регрессии"
   ]
  },
  {
   "cell_type": "code",
   "execution_count": 55,
   "id": "ffc736f5",
   "metadata": {},
   "outputs": [],
   "source": [
    "def regression(features, target):\n",
    "\n",
    "    model = LinearRegression()\n",
    "    score = cross_val_score(model, features, target, cv=cv, scoring=scorer).mean()\n",
    "    return(score)"
   ]
  },
  {
   "cell_type": "code",
   "execution_count": 70,
   "id": "b9bae44c",
   "metadata": {},
   "outputs": [
    {
     "name": "stdout",
     "output_type": "stream",
     "text": [
      "Значение значение Smape модели Регрессии на этапе rougher равен 4.9\n"
     ]
    }
   ],
   "source": [
    "print('Значение значение Smape модели Регрессии на этапе rougher равен {:.2}'.format(regression(features_train_rougher, target_train_rougher)))"
   ]
  },
  {
   "cell_type": "code",
   "execution_count": 72,
   "id": "0f07e1e2",
   "metadata": {},
   "outputs": [
    {
     "name": "stdout",
     "output_type": "stream",
     "text": [
      "Значение  финальной Smape модели Регрессии на этапе final равен 7.5\n"
     ]
    }
   ],
   "source": [
    "print('Значение  финальной Smape модели Регрессии на этапе final равен {:.2}'.format(regression(features_train_final, target_train_final)))"
   ]
  },
  {
   "cell_type": "markdown",
   "id": "00117791",
   "metadata": {},
   "source": [
    "Модель случайный лес"
   ]
  },
  {
   "cell_type": "code",
   "execution_count": 48,
   "id": "8c9d9a69",
   "metadata": {},
   "outputs": [],
   "source": [
    "def random_forest(features, target):\n",
    "    \n",
    "    best_score = 0\n",
    "    best_estimators = 0\n",
    "    best_depth = 0\n",
    "    \n",
    "    for estimators in range(1,41,10):\n",
    "        for depth in range(1, 15):\n",
    "            model = RandomForestRegressor(random_state=12345, n_estimators=estimators,  max_depth=depth)\n",
    "            score = cross_val_score(model, features, target, cv=cv, scoring=scorer).mean()\n",
    "            if score > best_score:\n",
    "                best_score = score\n",
    "                best_estimators = estimators\n",
    "                best_depth = depth \n",
    "            \n",
    "    return  best_score, best_estimators, best_depth     "
   ]
  },
  {
   "cell_type": "code",
   "execution_count": 49,
   "id": "abfcfa62",
   "metadata": {},
   "outputs": [],
   "source": [
    "random_forest_result = random_forest(features_train_rougher, target_train_rougher)"
   ]
  },
  {
   "cell_type": "code",
   "execution_count": 52,
   "id": "d1f70432",
   "metadata": {},
   "outputs": [
    {
     "name": "stdout",
     "output_type": "stream",
     "text": [
      "Значение Smape модели Случайный лес на этапе rougher равен 7.8, с глубиной дерева 1 и количеством деревьев 14\n"
     ]
    }
   ],
   "source": [
    "print('Значение Smape модели Случайный лес на этапе rougher равен {:.2}, с глубиной дерева {} и количеством деревьев {}'.format(random_forest_result[0],\n",
    "                                                                                                                                random_forest_result[1], random_forest_result[2]))"
   ]
  },
  {
   "cell_type": "code",
   "execution_count": 53,
   "id": "2ccde51f",
   "metadata": {},
   "outputs": [],
   "source": [
    "random_forest_result_final = random_forest(features_train_final, target_train_final)"
   ]
  },
  {
   "cell_type": "code",
   "execution_count": 54,
   "id": "80cd11f5",
   "metadata": {},
   "outputs": [
    {
     "name": "stdout",
     "output_type": "stream",
     "text": [
      "Значение Smape модели Случайный лес на этапе finalравен 8.5, с глубиной дерева 1 и количеством деревьев 13\n"
     ]
    }
   ],
   "source": [
    "print('Значение Smape модели Случайный лес на этапе finalравен {:.2}, с глубиной дерева {} и количеством деревьев {}'.format(random_forest_result_final[0], \n",
    "                                                                                                                             random_forest_result_final[1], random_forest_result_final[2]))"
   ]
  },
  {
   "cell_type": "markdown",
   "id": "46e84a67",
   "metadata": {},
   "source": [
    "#### Вывод\n",
    "\n",
    "Получили следующие результаты:\n",
    "\n",
    "Средние знаение <b>Smape</b> модели Дерева Решени на этапе rougher равен 6.3, с глубиной дерева 13\n",
    "\n",
    "Средние знаение  <b>Smape</b> модели Дерева Решени на этапе final равен 11.5 , с глубиной дерева 18\n",
    "\n",
    "\n",
    "\n",
    "Средние значение  <b>Smape</b> модели Регрессии на этапе rougher равен 4.9\n",
    "\n",
    "Средние значение <b>Smape</b> модели Регрессии на этапе final равен 7.5\n",
    "\n",
    "\n",
    "Средние значение <b>Smape</b> модели Случайный лес на этапе rougher равен 7.8, с глубиной дерева 1 и количеством деревьев 14\n",
    "\n",
    "Средние значение <b>Smape</b> модели Случайный лес на этапе final равен 8.5, с глубиной дерева 1 и количеством деревьев 13"
   ]
  },
  {
   "cell_type": "markdown",
   "id": "ec64cfbc",
   "metadata": {},
   "source": [
    "Лучше всего показала себя модель Линейная Регрессия. "
   ]
  },
  {
   "cell_type": "markdown",
   "id": "340e8639",
   "metadata": {},
   "source": [
    "#### Прверка предсказаний на тестовой выборке"
   ]
  },
  {
   "cell_type": "code",
   "execution_count": 173,
   "id": "8b4b5242",
   "metadata": {},
   "outputs": [],
   "source": [
    "test_set_rougher = LinearRegression()\n",
    "test_set_final = LinearRegression()\n",
    "\n",
    "test_set_rougher.fit(features_train_rougher, target_train_rougher) \n",
    "predictions_test_set_rougher = test_set_rougher.predict(features_test_rougher) \n",
    "\n",
    "test_set_rougher_mape_score = find_smape(target_test_rougher, predictions_test_set_rougher)\n",
    "\n"
   ]
  },
  {
   "cell_type": "code",
   "execution_count": 165,
   "id": "a616b0c8",
   "metadata": {},
   "outputs": [],
   "source": [
    "test_set_final = LinearRegression()\n",
    "\n",
    "test_set_final.fit(features_train_final, target_train_final) \n",
    "predictions_test_set_final = test_set_final.predict(features_test_final) \n",
    "\n",
    "test_set_final_mape_score = find_smape(target_test_final, predictions_test_set_final)\n"
   ]
  },
  {
   "cell_type": "code",
   "execution_count": 166,
   "id": "1e838d8a",
   "metadata": {},
   "outputs": [],
   "source": [
    "final_smape_score = final_smape(test_set_rougher_mape_score, test_set_final_mape_score)"
   ]
  },
  {
   "cell_type": "code",
   "execution_count": 169,
   "id": "a3cd5e7f",
   "metadata": {},
   "outputs": [
    {
     "name": "stdout",
     "output_type": "stream",
     "text": [
      "Знатение SMAPE на этапе флотации равен 6.9\n",
      "Знатение SMAPE на конечном этапе очистки равен 7.2\n",
      "Итоговое знатение SMAPE  равено 7.1\n"
     ]
    }
   ],
   "source": [
    "print('Знатение SMAPE на этапе флотации равен {:.2}'.format(test_set_rougher_mape_score))\n",
    "print('Знатение SMAPE на конечном этапе очистки равен {:.2}'.format(test_set_final_mape_score))\n",
    "print('Итоговое знатение SMAPE  равено {:.2}'.format(final_smape_score))"
   ]
  },
  {
   "cell_type": "markdown",
   "id": "91a8676b",
   "metadata": {},
   "source": [
    "#### Проверка модели на адекватность"
   ]
  },
  {
   "cell_type": "markdown",
   "id": "dc27ad46",
   "metadata": {},
   "source": [
    "Проверяем модель случайного леса на адекватность с помощью DummyRegressor"
   ]
  },
  {
   "cell_type": "code",
   "execution_count": 202,
   "id": "327afce3",
   "metadata": {},
   "outputs": [],
   "source": [
    "dummy = DummyRegressor().fit(features_train_rougher, target_train_rougher)\n",
    "dummy_pred_rougher = dummy.predict(features_test_rougher)\n"
   ]
  },
  {
   "cell_type": "code",
   "execution_count": 203,
   "id": "4b091bf1",
   "metadata": {},
   "outputs": [],
   "source": [
    "dummy = DummyRegressor().fit(features_train_final, target_train_final)\n",
    "dummy_pred_final = dummy.predict(features_test_final)"
   ]
  },
  {
   "cell_type": "code",
   "execution_count": 204,
   "id": "358c30b0",
   "metadata": {},
   "outputs": [],
   "source": [
    "check_rougher = find_smape(target_test_rougher, dummy_pred_rougher)\n",
    "check_final = find_smape(target_test_final, dummy_pred_final)\n",
    "final_result = final_smape(check_rougher, check_final)"
   ]
  },
  {
   "cell_type": "code",
   "execution_count": 205,
   "id": "72bb5b44",
   "metadata": {},
   "outputs": [
    {
     "name": "stdout",
     "output_type": "stream",
     "text": [
      "Знатение SMAPE на этапе флотации при проверке модели на адекватность равено 7.3\n",
      "Знатение SMAPE на конечном этапе очистки при проверке модели на адекватность равено 7.28\n",
      "Итоговое знатение SMAPE  равено 7.28\n"
     ]
    }
   ],
   "source": [
    "print('Знатение SMAPE на этапе флотации при проверке модели на адекватность равено {:.3}'.format(check_rougher))\n",
    "print('Знатение SMAPE на конечном этапе очистки при проверке модели на адекватность равено {:.3}'.format(check_final))\n",
    "print('Итоговое знатение SMAPE  равено {:.3}'.format(final_result))"
   ]
  },
  {
   "cell_type": "markdown",
   "id": "b817a009",
   "metadata": {},
   "source": [
    "#### Вывод"
   ]
  },
  {
   "cell_type": "markdown",
   "id": "7df942b5",
   "metadata": {},
   "source": [
    "Проверили модель Линейно регрессии на тестовой выборке и получили следующие результаты:\n",
    "    \n",
    "    Знатение SMAPE на этапе флотации равен 6.9\n",
    "    \n",
    "    Знатение SMAPE на конечном этапе очистки равен 7.2\n",
    "    \n",
    "    Итоговое знатение SMAPE  равено 7.1\n",
    "    \n",
    "Проверили модель на адекватость и получили следующие результаты:\n",
    "\n",
    "    Знатение SMAPE на этапе флотации при проверке модели на адекватность равено 7.3\n",
    "    \n",
    "    Знатение SMAPE на конечном этапе очистки при проверке модели на адекватность равено 7.28\n",
    "    \n",
    "    Итоговое знатение SMAPE  равено 7.28\n",
    "    \n",
    "Как видно значения отличаются не оень сильно, то говорит что наша модель хорошо предсказывает результаты.\n",
    "\n"
   ]
  },
  {
   "cell_type": "markdown",
   "id": "f5604a3c",
   "metadata": {},
   "source": [
    "## Итоговый вывод"
   ]
  },
  {
   "cell_type": "markdown",
   "id": "86f04dd9",
   "metadata": {},
   "source": [
    "Нам необходимо было подготовить прототип модели машинного обучения для «Цифры». \n",
    "\n",
    "Модель должна предсказать коэффициент восстановления золота из золотосодержащей руды. В вашем распоряжении данные с параметрами добычи и очистки.\n",
    "\n",
    "Модель поможет оптимизировать производство, чтобы не запускать предприятие с убыточными характеристиками. \n",
    "\n",
    "Изучив предоставленные датафреймы видим:\n",
    "\n",
    "     Размер обучающей выборки 14149, от общего количества данных 72.8%\n",
    "     Размер тестовой выборки 5290, от общего количества данных 27.2%\n",
    "     Размер итоговой выборки 19439\n",
    "     \n",
    "     \n",
    "Формула для проверки эффективности обогащения:\n",
    "\n",
    "    c = доля золота в концентрате после флотации/очистки\n",
    "    f = доля золота в сырье/концентрате до флотации/очистки\n",
    "    t = доля золота в отвальных хвостах после флотации/очистки\n",
    "\n",
    "recovery_train = (c*(f-t))/(f*(c-t))*100\n",
    "\n",
    "Проверили насколько эффективность обогащения рассчитана правильно для признака rougher.output.recovery. Получили значение MAE между нашими расчетами и признаком rougher.output.recovery равеное 0.00  \n",
    "\n",
    "Выявили признаки, которые есть в обучающей выборке, но недоступные в тестовой выборке и выявили целевые признаки.\n",
    "\n",
    "Удалили из обучающей выборки признаки которых нет в датафрейме df_test за исключением целевых признаков\n",
    "\n",
    "сравнили, совпадает ли количество столбцов в обучающей и тестовой выборках. получиось - 55. Выборки совпадают по длине.\n",
    "\n",
    "Проверили наличие пустых ячеек в обучающей выборке. Выявили пропуски.\n",
    "\n",
    "Проверили есть ли пропуске в обучающей выборке. Пропусков нет\n",
    "\n",
    "Заполнили пропуски в обновленных  обучающей и тестовой выборках методом интерполяции.\n",
    "\n",
    "Изучили как меняется концентрация металлов (Au, Ag, Pb) на различных этапах очистки. Для этого написали функцию которая рисует гистограмму:\n",
    "\n",
    "       1) по мере прохождения этапов обработки концентрация серебра уменьшается\n",
    "\n",
    "       2) помере отчистки сырья количство золота в руде практически не меняется, только на этапе первичной очистки концентрация падает. Это может быть обусловлено технологическими особенностями очистки\n",
    "\n",
    "       3)  видно что по мере очистки золотоносного сырья концентрация свинца снижается\n",
    "\n",
    "Размеры гранул на обучающей и тестовой выборках практически равны.\n",
    "\n",
    "\n",
    "На этапе построения модели написали функции для расчета показателей SMAPE и итогового SMAPE\n",
    "\n",
    "Разбили обучающую и тестовую выборки на rougher и final\n",
    "\n",
    "Отмаштабировали признаки при помощи StandardScaler\n",
    "\n",
    "\n",
    "На этапе построения моделей в качестве метрики мы должны использовать метрику sMAPE, укажем эту функцию в качетве параметра scoring, использовав объект scorer\n",
    "\n",
    "cv = 5 scorer = make_scorer(find_smape)\n",
    "\n",
    "Поучили следующие результаты:\n",
    "\n",
    "    Средние знаение Smape модели Дерева Решени на этапе rougher равен 6.3,  с глубиной дерева 13\n",
    "    Средние знаение  Smape модели Дерева Решени на этапе final равен 11.5 , с глубиной дерева 18\n",
    "\n",
    "\n",
    "    Значение значение Smape модели Регрессии на этапе rougher равен 4.9\n",
    "    Значение  финальной Smape модели Регрессии на этапе final равен 7.5\n",
    "\n",
    "\n",
    "    Значение Smape модели Случайный лес на этапе rougher равен 7.8, с глубиной дерева 1 и количеством деревьев 14\n",
    "    Значение Smape модели Случайный лес на этапе finalравен 8.5, с глубиной дерева 1 и количеством деревьев 13\n",
    "\n",
    "\n",
    "Лучше всего показала себя модель Линейная Регрессия.\n",
    "\n",
    "Проверили предсказания на тестовой выборке:\n",
    "\n",
    "Знатение SMAPE на этапе флотации равен 6.9\n",
    "Знатение SMAPE на конечном этапе очистки равен 7.2\n",
    "Итоговое знатение SMAPE  равено 7.1\n",
    "\n",
    "Проверили модель Линейной Регрессии на адекватность с помощью DummyRegressor.\n",
    "\n",
    "     Знатение SMAPE на этапе флотации при проверке модели на адекватность равено 7.3\n",
    "     Знатение SMAPE на конечном этапе очистки при проверке модели на адекватность равено 7.28\n",
    "     Итоговое знатение SMAPE  равено 7.28\n",
    "\n",
    "\n",
    "Как видно значения отличаются не очень сильно, то говорит что наша модель хорошо предсказывает результаты. Соответственно выбор модели Линейной Регрессии можно считать оправданным\n"
   ]
  },
  {
   "cell_type": "code",
   "execution_count": null,
   "id": "57d92dea",
   "metadata": {},
   "outputs": [],
   "source": []
  }
 ],
 "metadata": {
  "kernelspec": {
   "display_name": "Python 3 (ipykernel)",
   "language": "python",
   "name": "python3"
  },
  "language_info": {
   "codemirror_mode": {
    "name": "ipython",
    "version": 3
   },
   "file_extension": ".py",
   "mimetype": "text/x-python",
   "name": "python",
   "nbconvert_exporter": "python",
   "pygments_lexer": "ipython3",
   "version": "3.9.7"
  }
 },
 "nbformat": 4,
 "nbformat_minor": 5
}
