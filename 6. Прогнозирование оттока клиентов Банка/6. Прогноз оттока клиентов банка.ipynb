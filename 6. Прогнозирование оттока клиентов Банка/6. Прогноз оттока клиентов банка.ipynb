{
 "cells": [
  {
   "cell_type": "markdown",
   "id": "3d65d928",
   "metadata": {},
   "source": [
    "### Описание Проекта"
   ]
  },
  {
   "cell_type": "markdown",
   "id": "658ffc78",
   "metadata": {},
   "source": [
    "Нам доступны данные «Бета-Банка»  из которого стали уходить клиенты. Немного, но заметно. Банковские маркетологи посчитали: сохранять текущих клиентов дешевле, чем привлекать новых.\n",
    "Необходимо спрогнозировать, уйдёт клиент из банка в ближайшее время или нет. \n",
    "Нужно построить модель с предельно большим значением F1-меры (мин значение - 0.59). самостоятельно.\n",
    "Дополнительно измерить AUC-ROC.\n",
    "\n",
    "   Данные:\n",
    "   \n",
    "    - RowNumber — индекс строки в данных\n",
    "    - CustomerId — уникальный идентификатор клиента\n",
    "    - Surname — фамилия\n",
    "    - CreditScore — кредитный рейтинг\n",
    "    - Geography — страна проживания\n",
    "    - Gender — пол\n",
    "    - Age — возраст\n",
    "    - Tenure — сколько лет человек является клиентом банка\n",
    "    - Balance — баланс на счёте\n",
    "    - NumOfProducts — количество продуктов банка, используемых клиентом\n",
    "    - HasCrCard — наличие кредитной карты\n",
    "    - IsActiveMember — активность клиента\n",
    "    - EstimatedSalary — предполагаемая зарплата\n",
    "    \n",
    "  Целевой признак:\n",
    "  \n",
    "    - Exited — факт ухода клиента\n",
    "   "
   ]
  },
  {
   "cell_type": "markdown",
   "id": "ea974155",
   "metadata": {},
   "source": [
    "## Изучение данных"
   ]
  },
  {
   "cell_type": "markdown",
   "id": "02ffb0cd",
   "metadata": {},
   "source": [
    "Импортируем библиотеки"
   ]
  },
  {
   "cell_type": "code",
   "execution_count": 1,
   "id": "cbfb22ca",
   "metadata": {},
   "outputs": [],
   "source": [
    "import pandas as pd\n",
    "from sklearn.preprocessing import OrdinalEncoder\n",
    "from sklearn.preprocessing import StandardScaler\n",
    "from sklearn.tree import DecisionTreeClassifier\n",
    "from sklearn.ensemble import RandomForestClassifier\n",
    "from sklearn.metrics import accuracy_score\n",
    "from sklearn.linear_model import LogisticRegression\n",
    "from sklearn.model_selection import train_test_split\n",
    "from sklearn.dummy import DummyClassifier\n",
    "from sklearn.metrics import mean_squared_error\n",
    "from sklearn.metrics import f1_score\n",
    "from sklearn.dummy import DummyClassifier\n",
    "from sklearn.utils import shuffle\n",
    "from sklearn.metrics import roc_auc_score\n",
    "import warnings\n",
    "warnings.filterwarnings(\"ignore\")"
   ]
  },
  {
   "cell_type": "markdown",
   "id": "3176be5a",
   "metadata": {},
   "source": [
    "Загружаем данные:"
   ]
  },
  {
   "cell_type": "code",
   "execution_count": 2,
   "id": "2efc0eab",
   "metadata": {},
   "outputs": [],
   "source": [
    "import os\n",
    "\n",
    "pth1 = 'Churn.csv'\n",
    "pth2 = '/datasets/Churn.csv'\n",
    "\n",
    "if os.path.exists(pth1):\n",
    "    df = pd.read_csv(pth1)\n",
    "elif os.path.exists(pth2):\n",
    "    df = pd.read_csv(pth2)\n",
    "else:\n",
    "    print('Something is wrong')"
   ]
  },
  {
   "cell_type": "code",
   "execution_count": 3,
   "id": "64f1fcb1",
   "metadata": {},
   "outputs": [
    {
     "data": {
      "text/html": [
       "<div>\n",
       "<style scoped>\n",
       "    .dataframe tbody tr th:only-of-type {\n",
       "        vertical-align: middle;\n",
       "    }\n",
       "\n",
       "    .dataframe tbody tr th {\n",
       "        vertical-align: top;\n",
       "    }\n",
       "\n",
       "    .dataframe thead th {\n",
       "        text-align: right;\n",
       "    }\n",
       "</style>\n",
       "<table border=\"1\" class=\"dataframe\">\n",
       "  <thead>\n",
       "    <tr style=\"text-align: right;\">\n",
       "      <th></th>\n",
       "      <th>RowNumber</th>\n",
       "      <th>CustomerId</th>\n",
       "      <th>Surname</th>\n",
       "      <th>CreditScore</th>\n",
       "      <th>Geography</th>\n",
       "      <th>Gender</th>\n",
       "      <th>Age</th>\n",
       "      <th>Tenure</th>\n",
       "      <th>Balance</th>\n",
       "      <th>NumOfProducts</th>\n",
       "      <th>HasCrCard</th>\n",
       "      <th>IsActiveMember</th>\n",
       "      <th>EstimatedSalary</th>\n",
       "      <th>Exited</th>\n",
       "    </tr>\n",
       "  </thead>\n",
       "  <tbody>\n",
       "    <tr>\n",
       "      <th>0</th>\n",
       "      <td>1</td>\n",
       "      <td>15634602</td>\n",
       "      <td>Hargrave</td>\n",
       "      <td>619</td>\n",
       "      <td>France</td>\n",
       "      <td>Female</td>\n",
       "      <td>42</td>\n",
       "      <td>2.0</td>\n",
       "      <td>0.00</td>\n",
       "      <td>1</td>\n",
       "      <td>1</td>\n",
       "      <td>1</td>\n",
       "      <td>101348.88</td>\n",
       "      <td>1</td>\n",
       "    </tr>\n",
       "    <tr>\n",
       "      <th>1</th>\n",
       "      <td>2</td>\n",
       "      <td>15647311</td>\n",
       "      <td>Hill</td>\n",
       "      <td>608</td>\n",
       "      <td>Spain</td>\n",
       "      <td>Female</td>\n",
       "      <td>41</td>\n",
       "      <td>1.0</td>\n",
       "      <td>83807.86</td>\n",
       "      <td>1</td>\n",
       "      <td>0</td>\n",
       "      <td>1</td>\n",
       "      <td>112542.58</td>\n",
       "      <td>0</td>\n",
       "    </tr>\n",
       "    <tr>\n",
       "      <th>2</th>\n",
       "      <td>3</td>\n",
       "      <td>15619304</td>\n",
       "      <td>Onio</td>\n",
       "      <td>502</td>\n",
       "      <td>France</td>\n",
       "      <td>Female</td>\n",
       "      <td>42</td>\n",
       "      <td>8.0</td>\n",
       "      <td>159660.80</td>\n",
       "      <td>3</td>\n",
       "      <td>1</td>\n",
       "      <td>0</td>\n",
       "      <td>113931.57</td>\n",
       "      <td>1</td>\n",
       "    </tr>\n",
       "    <tr>\n",
       "      <th>3</th>\n",
       "      <td>4</td>\n",
       "      <td>15701354</td>\n",
       "      <td>Boni</td>\n",
       "      <td>699</td>\n",
       "      <td>France</td>\n",
       "      <td>Female</td>\n",
       "      <td>39</td>\n",
       "      <td>1.0</td>\n",
       "      <td>0.00</td>\n",
       "      <td>2</td>\n",
       "      <td>0</td>\n",
       "      <td>0</td>\n",
       "      <td>93826.63</td>\n",
       "      <td>0</td>\n",
       "    </tr>\n",
       "    <tr>\n",
       "      <th>4</th>\n",
       "      <td>5</td>\n",
       "      <td>15737888</td>\n",
       "      <td>Mitchell</td>\n",
       "      <td>850</td>\n",
       "      <td>Spain</td>\n",
       "      <td>Female</td>\n",
       "      <td>43</td>\n",
       "      <td>2.0</td>\n",
       "      <td>125510.82</td>\n",
       "      <td>1</td>\n",
       "      <td>1</td>\n",
       "      <td>1</td>\n",
       "      <td>79084.10</td>\n",
       "      <td>0</td>\n",
       "    </tr>\n",
       "  </tbody>\n",
       "</table>\n",
       "</div>"
      ],
      "text/plain": [
       "   RowNumber  CustomerId   Surname  CreditScore Geography  Gender  Age  \\\n",
       "0          1    15634602  Hargrave          619    France  Female   42   \n",
       "1          2    15647311      Hill          608     Spain  Female   41   \n",
       "2          3    15619304      Onio          502    France  Female   42   \n",
       "3          4    15701354      Boni          699    France  Female   39   \n",
       "4          5    15737888  Mitchell          850     Spain  Female   43   \n",
       "\n",
       "   Tenure    Balance  NumOfProducts  HasCrCard  IsActiveMember  \\\n",
       "0     2.0       0.00              1          1               1   \n",
       "1     1.0   83807.86              1          0               1   \n",
       "2     8.0  159660.80              3          1               0   \n",
       "3     1.0       0.00              2          0               0   \n",
       "4     2.0  125510.82              1          1               1   \n",
       "\n",
       "   EstimatedSalary  Exited  \n",
       "0        101348.88       1  \n",
       "1        112542.58       0  \n",
       "2        113931.57       1  \n",
       "3         93826.63       0  \n",
       "4         79084.10       0  "
      ]
     },
     "execution_count": 3,
     "metadata": {},
     "output_type": "execute_result"
    }
   ],
   "source": [
    "df.head(5)"
   ]
  },
  {
   "cell_type": "markdown",
   "id": "5eeefaf5",
   "metadata": {},
   "source": [
    "Изучаем датафрейм:"
   ]
  },
  {
   "cell_type": "code",
   "execution_count": 4,
   "id": "a55cbdb9",
   "metadata": {},
   "outputs": [
    {
     "name": "stdout",
     "output_type": "stream",
     "text": [
      "<class 'pandas.core.frame.DataFrame'>\n",
      "RangeIndex: 10000 entries, 0 to 9999\n",
      "Data columns (total 14 columns):\n",
      " #   Column           Non-Null Count  Dtype  \n",
      "---  ------           --------------  -----  \n",
      " 0   RowNumber        10000 non-null  int64  \n",
      " 1   CustomerId       10000 non-null  int64  \n",
      " 2   Surname          10000 non-null  object \n",
      " 3   CreditScore      10000 non-null  int64  \n",
      " 4   Geography        10000 non-null  object \n",
      " 5   Gender           10000 non-null  object \n",
      " 6   Age              10000 non-null  int64  \n",
      " 7   Tenure           9091 non-null   float64\n",
      " 8   Balance          10000 non-null  float64\n",
      " 9   NumOfProducts    10000 non-null  int64  \n",
      " 10  HasCrCard        10000 non-null  int64  \n",
      " 11  IsActiveMember   10000 non-null  int64  \n",
      " 12  EstimatedSalary  10000 non-null  float64\n",
      " 13  Exited           10000 non-null  int64  \n",
      "dtypes: float64(3), int64(8), object(3)\n",
      "memory usage: 1.1+ MB\n"
     ]
    }
   ],
   "source": [
    "df.info()"
   ]
  },
  {
   "cell_type": "markdown",
   "id": "ed45c28f",
   "metadata": {},
   "source": [
    "Изучам столбцы, типы данных."
   ]
  },
  {
   "cell_type": "markdown",
   "id": "26df28f1",
   "metadata": {},
   "source": [
    "Переводим названия столбцов в нижний регистр"
   ]
  },
  {
   "cell_type": "code",
   "execution_count": 5,
   "id": "fc3cb47a",
   "metadata": {},
   "outputs": [],
   "source": [
    "df.columns = df.columns.str.lower()"
   ]
  },
  {
   "cell_type": "code",
   "execution_count": 6,
   "id": "0aaadec1",
   "metadata": {},
   "outputs": [
    {
     "data": {
      "text/html": [
       "<div>\n",
       "<style scoped>\n",
       "    .dataframe tbody tr th:only-of-type {\n",
       "        vertical-align: middle;\n",
       "    }\n",
       "\n",
       "    .dataframe tbody tr th {\n",
       "        vertical-align: top;\n",
       "    }\n",
       "\n",
       "    .dataframe thead th {\n",
       "        text-align: right;\n",
       "    }\n",
       "</style>\n",
       "<table border=\"1\" class=\"dataframe\">\n",
       "  <thead>\n",
       "    <tr style=\"text-align: right;\">\n",
       "      <th></th>\n",
       "      <th>rownumber</th>\n",
       "      <th>customerid</th>\n",
       "      <th>surname</th>\n",
       "      <th>creditscore</th>\n",
       "      <th>geography</th>\n",
       "      <th>gender</th>\n",
       "      <th>age</th>\n",
       "      <th>tenure</th>\n",
       "      <th>balance</th>\n",
       "      <th>numofproducts</th>\n",
       "      <th>hascrcard</th>\n",
       "      <th>isactivemember</th>\n",
       "      <th>estimatedsalary</th>\n",
       "      <th>exited</th>\n",
       "    </tr>\n",
       "  </thead>\n",
       "  <tbody>\n",
       "    <tr>\n",
       "      <th>0</th>\n",
       "      <td>1</td>\n",
       "      <td>15634602</td>\n",
       "      <td>Hargrave</td>\n",
       "      <td>619</td>\n",
       "      <td>France</td>\n",
       "      <td>Female</td>\n",
       "      <td>42</td>\n",
       "      <td>2.0</td>\n",
       "      <td>0.00</td>\n",
       "      <td>1</td>\n",
       "      <td>1</td>\n",
       "      <td>1</td>\n",
       "      <td>101348.88</td>\n",
       "      <td>1</td>\n",
       "    </tr>\n",
       "    <tr>\n",
       "      <th>1</th>\n",
       "      <td>2</td>\n",
       "      <td>15647311</td>\n",
       "      <td>Hill</td>\n",
       "      <td>608</td>\n",
       "      <td>Spain</td>\n",
       "      <td>Female</td>\n",
       "      <td>41</td>\n",
       "      <td>1.0</td>\n",
       "      <td>83807.86</td>\n",
       "      <td>1</td>\n",
       "      <td>0</td>\n",
       "      <td>1</td>\n",
       "      <td>112542.58</td>\n",
       "      <td>0</td>\n",
       "    </tr>\n",
       "    <tr>\n",
       "      <th>2</th>\n",
       "      <td>3</td>\n",
       "      <td>15619304</td>\n",
       "      <td>Onio</td>\n",
       "      <td>502</td>\n",
       "      <td>France</td>\n",
       "      <td>Female</td>\n",
       "      <td>42</td>\n",
       "      <td>8.0</td>\n",
       "      <td>159660.80</td>\n",
       "      <td>3</td>\n",
       "      <td>1</td>\n",
       "      <td>0</td>\n",
       "      <td>113931.57</td>\n",
       "      <td>1</td>\n",
       "    </tr>\n",
       "    <tr>\n",
       "      <th>3</th>\n",
       "      <td>4</td>\n",
       "      <td>15701354</td>\n",
       "      <td>Boni</td>\n",
       "      <td>699</td>\n",
       "      <td>France</td>\n",
       "      <td>Female</td>\n",
       "      <td>39</td>\n",
       "      <td>1.0</td>\n",
       "      <td>0.00</td>\n",
       "      <td>2</td>\n",
       "      <td>0</td>\n",
       "      <td>0</td>\n",
       "      <td>93826.63</td>\n",
       "      <td>0</td>\n",
       "    </tr>\n",
       "    <tr>\n",
       "      <th>4</th>\n",
       "      <td>5</td>\n",
       "      <td>15737888</td>\n",
       "      <td>Mitchell</td>\n",
       "      <td>850</td>\n",
       "      <td>Spain</td>\n",
       "      <td>Female</td>\n",
       "      <td>43</td>\n",
       "      <td>2.0</td>\n",
       "      <td>125510.82</td>\n",
       "      <td>1</td>\n",
       "      <td>1</td>\n",
       "      <td>1</td>\n",
       "      <td>79084.10</td>\n",
       "      <td>0</td>\n",
       "    </tr>\n",
       "  </tbody>\n",
       "</table>\n",
       "</div>"
      ],
      "text/plain": [
       "   rownumber  customerid   surname  creditscore geography  gender  age  \\\n",
       "0          1    15634602  Hargrave          619    France  Female   42   \n",
       "1          2    15647311      Hill          608     Spain  Female   41   \n",
       "2          3    15619304      Onio          502    France  Female   42   \n",
       "3          4    15701354      Boni          699    France  Female   39   \n",
       "4          5    15737888  Mitchell          850     Spain  Female   43   \n",
       "\n",
       "   tenure    balance  numofproducts  hascrcard  isactivemember  \\\n",
       "0     2.0       0.00              1          1               1   \n",
       "1     1.0   83807.86              1          0               1   \n",
       "2     8.0  159660.80              3          1               0   \n",
       "3     1.0       0.00              2          0               0   \n",
       "4     2.0  125510.82              1          1               1   \n",
       "\n",
       "   estimatedsalary  exited  \n",
       "0        101348.88       1  \n",
       "1        112542.58       0  \n",
       "2        113931.57       1  \n",
       "3         93826.63       0  \n",
       "4         79084.10       0  "
      ]
     },
     "execution_count": 6,
     "metadata": {},
     "output_type": "execute_result"
    }
   ],
   "source": [
    "df.head(5)"
   ]
  },
  {
   "cell_type": "markdown",
   "id": "13002b8b",
   "metadata": {},
   "source": [
    "Проверяем дубликаты:"
   ]
  },
  {
   "cell_type": "code",
   "execution_count": 7,
   "id": "bb672a5f",
   "metadata": {},
   "outputs": [
    {
     "data": {
      "text/plain": [
       "0"
      ]
     },
     "execution_count": 7,
     "metadata": {},
     "output_type": "execute_result"
    }
   ],
   "source": [
    "df.duplicated().sum()"
   ]
  },
  {
   "cell_type": "markdown",
   "id": "19ea9eb4",
   "metadata": {},
   "source": [
    "Дубликатов нет"
   ]
  },
  {
   "cell_type": "markdown",
   "id": "5b02dded",
   "metadata": {},
   "source": [
    "Проверяем налиие пропусков:"
   ]
  },
  {
   "cell_type": "code",
   "execution_count": 8,
   "id": "88210cac",
   "metadata": {},
   "outputs": [
    {
     "data": {
      "text/plain": [
       "rownumber            0\n",
       "customerid           0\n",
       "surname              0\n",
       "creditscore          0\n",
       "geography            0\n",
       "gender               0\n",
       "age                  0\n",
       "tenure             909\n",
       "balance              0\n",
       "numofproducts        0\n",
       "hascrcard            0\n",
       "isactivemember       0\n",
       "estimatedsalary      0\n",
       "exited               0\n",
       "dtype: int64"
      ]
     },
     "execution_count": 8,
     "metadata": {},
     "output_type": "execute_result"
    }
   ],
   "source": [
    "df.isnull().sum()"
   ]
  },
  {
   "cell_type": "markdown",
   "id": "e6d99f52",
   "metadata": {},
   "source": [
    "Имеются пропуски - 909 шт встолбце 'tenure'. Это мого произойти из за ошибок привыгрузке. Удалить пропуски можно, но это может сказаться на обучении  и проверки моделей. По этому есть смысл заполнить пропуски."
   ]
  },
  {
   "cell_type": "markdown",
   "id": "d66eba19",
   "metadata": {},
   "source": [
    "изучаем  данные в столбце 'geography'"
   ]
  },
  {
   "cell_type": "code",
   "execution_count": 9,
   "id": "174ff725",
   "metadata": {
    "scrolled": true
   },
   "outputs": [
    {
     "name": "stdout",
     "output_type": "stream",
     "text": [
      "['France' 'Spain' 'Germany']\n"
     ]
    }
   ],
   "source": [
    "print(df['geography'].unique())"
   ]
  },
  {
   "cell_type": "markdown",
   "id": "0f2afee4",
   "metadata": {},
   "source": [
    "находим медианные значения того сколько человек является клиентом исходя из стран:"
   ]
  },
  {
   "cell_type": "code",
   "execution_count": 10,
   "id": "fc76705e",
   "metadata": {},
   "outputs": [
    {
     "data": {
      "text/plain": [
       "5.0"
      ]
     },
     "execution_count": 10,
     "metadata": {},
     "output_type": "execute_result"
    }
   ],
   "source": [
    "df[df['geography'] == 'Spain']['tenure'].median()"
   ]
  },
  {
   "cell_type": "code",
   "execution_count": 11,
   "id": "5a6b9b86",
   "metadata": {},
   "outputs": [
    {
     "data": {
      "text/plain": [
       "5.0"
      ]
     },
     "execution_count": 11,
     "metadata": {},
     "output_type": "execute_result"
    }
   ],
   "source": [
    "df[df['geography'] == 'Germany']['tenure'].median()"
   ]
  },
  {
   "cell_type": "code",
   "execution_count": 12,
   "id": "d1f6d7bb",
   "metadata": {},
   "outputs": [
    {
     "data": {
      "text/plain": [
       "5.0"
      ]
     },
     "execution_count": 12,
     "metadata": {},
     "output_type": "execute_result"
    }
   ],
   "source": [
    "df[df['geography'] == 'France']['tenure'].median()"
   ]
  },
  {
   "cell_type": "markdown",
   "id": "35988c30",
   "metadata": {},
   "source": [
    "Медианное значение равняется - 5"
   ]
  },
  {
   "cell_type": "markdown",
   "id": "242f8666",
   "metadata": {},
   "source": [
    "Заполняем датафрем средним медианным значением"
   ]
  },
  {
   "cell_type": "code",
   "execution_count": 13,
   "id": "a666c957",
   "metadata": {},
   "outputs": [],
   "source": [
    "df = df.fillna(5)"
   ]
  },
  {
   "cell_type": "code",
   "execution_count": 14,
   "id": "4f0f6d20",
   "metadata": {
    "scrolled": true
   },
   "outputs": [
    {
     "data": {
      "text/html": [
       "<div>\n",
       "<style scoped>\n",
       "    .dataframe tbody tr th:only-of-type {\n",
       "        vertical-align: middle;\n",
       "    }\n",
       "\n",
       "    .dataframe tbody tr th {\n",
       "        vertical-align: top;\n",
       "    }\n",
       "\n",
       "    .dataframe thead th {\n",
       "        text-align: right;\n",
       "    }\n",
       "</style>\n",
       "<table border=\"1\" class=\"dataframe\">\n",
       "  <thead>\n",
       "    <tr style=\"text-align: right;\">\n",
       "      <th></th>\n",
       "      <th>rownumber</th>\n",
       "      <th>customerid</th>\n",
       "      <th>surname</th>\n",
       "      <th>creditscore</th>\n",
       "      <th>geography</th>\n",
       "      <th>gender</th>\n",
       "      <th>age</th>\n",
       "      <th>tenure</th>\n",
       "      <th>balance</th>\n",
       "      <th>numofproducts</th>\n",
       "      <th>hascrcard</th>\n",
       "      <th>isactivemember</th>\n",
       "      <th>estimatedsalary</th>\n",
       "      <th>exited</th>\n",
       "    </tr>\n",
       "  </thead>\n",
       "  <tbody>\n",
       "    <tr>\n",
       "      <th>0</th>\n",
       "      <td>1</td>\n",
       "      <td>15634602</td>\n",
       "      <td>Hargrave</td>\n",
       "      <td>619</td>\n",
       "      <td>France</td>\n",
       "      <td>Female</td>\n",
       "      <td>42</td>\n",
       "      <td>2.0</td>\n",
       "      <td>0.00</td>\n",
       "      <td>1</td>\n",
       "      <td>1</td>\n",
       "      <td>1</td>\n",
       "      <td>101348.88</td>\n",
       "      <td>1</td>\n",
       "    </tr>\n",
       "    <tr>\n",
       "      <th>1</th>\n",
       "      <td>2</td>\n",
       "      <td>15647311</td>\n",
       "      <td>Hill</td>\n",
       "      <td>608</td>\n",
       "      <td>Spain</td>\n",
       "      <td>Female</td>\n",
       "      <td>41</td>\n",
       "      <td>1.0</td>\n",
       "      <td>83807.86</td>\n",
       "      <td>1</td>\n",
       "      <td>0</td>\n",
       "      <td>1</td>\n",
       "      <td>112542.58</td>\n",
       "      <td>0</td>\n",
       "    </tr>\n",
       "    <tr>\n",
       "      <th>2</th>\n",
       "      <td>3</td>\n",
       "      <td>15619304</td>\n",
       "      <td>Onio</td>\n",
       "      <td>502</td>\n",
       "      <td>France</td>\n",
       "      <td>Female</td>\n",
       "      <td>42</td>\n",
       "      <td>8.0</td>\n",
       "      <td>159660.80</td>\n",
       "      <td>3</td>\n",
       "      <td>1</td>\n",
       "      <td>0</td>\n",
       "      <td>113931.57</td>\n",
       "      <td>1</td>\n",
       "    </tr>\n",
       "    <tr>\n",
       "      <th>3</th>\n",
       "      <td>4</td>\n",
       "      <td>15701354</td>\n",
       "      <td>Boni</td>\n",
       "      <td>699</td>\n",
       "      <td>France</td>\n",
       "      <td>Female</td>\n",
       "      <td>39</td>\n",
       "      <td>1.0</td>\n",
       "      <td>0.00</td>\n",
       "      <td>2</td>\n",
       "      <td>0</td>\n",
       "      <td>0</td>\n",
       "      <td>93826.63</td>\n",
       "      <td>0</td>\n",
       "    </tr>\n",
       "    <tr>\n",
       "      <th>4</th>\n",
       "      <td>5</td>\n",
       "      <td>15737888</td>\n",
       "      <td>Mitchell</td>\n",
       "      <td>850</td>\n",
       "      <td>Spain</td>\n",
       "      <td>Female</td>\n",
       "      <td>43</td>\n",
       "      <td>2.0</td>\n",
       "      <td>125510.82</td>\n",
       "      <td>1</td>\n",
       "      <td>1</td>\n",
       "      <td>1</td>\n",
       "      <td>79084.10</td>\n",
       "      <td>0</td>\n",
       "    </tr>\n",
       "  </tbody>\n",
       "</table>\n",
       "</div>"
      ],
      "text/plain": [
       "   rownumber  customerid   surname  creditscore geography  gender  age  \\\n",
       "0          1    15634602  Hargrave          619    France  Female   42   \n",
       "1          2    15647311      Hill          608     Spain  Female   41   \n",
       "2          3    15619304      Onio          502    France  Female   42   \n",
       "3          4    15701354      Boni          699    France  Female   39   \n",
       "4          5    15737888  Mitchell          850     Spain  Female   43   \n",
       "\n",
       "   tenure    balance  numofproducts  hascrcard  isactivemember  \\\n",
       "0     2.0       0.00              1          1               1   \n",
       "1     1.0   83807.86              1          0               1   \n",
       "2     8.0  159660.80              3          1               0   \n",
       "3     1.0       0.00              2          0               0   \n",
       "4     2.0  125510.82              1          1               1   \n",
       "\n",
       "   estimatedsalary  exited  \n",
       "0        101348.88       1  \n",
       "1        112542.58       0  \n",
       "2        113931.57       1  \n",
       "3         93826.63       0  \n",
       "4         79084.10       0  "
      ]
     },
     "execution_count": 14,
     "metadata": {},
     "output_type": "execute_result"
    }
   ],
   "source": [
    "df.head(5)"
   ]
  },
  {
   "cell_type": "markdown",
   "id": "1a7654ed",
   "metadata": {},
   "source": [
    "Еще раз проверяем наличие пропусков"
   ]
  },
  {
   "cell_type": "code",
   "execution_count": 15,
   "id": "85ae7bca",
   "metadata": {},
   "outputs": [
    {
     "data": {
      "text/plain": [
       "rownumber          0\n",
       "customerid         0\n",
       "surname            0\n",
       "creditscore        0\n",
       "geography          0\n",
       "gender             0\n",
       "age                0\n",
       "tenure             0\n",
       "balance            0\n",
       "numofproducts      0\n",
       "hascrcard          0\n",
       "isactivemember     0\n",
       "estimatedsalary    0\n",
       "exited             0\n",
       "dtype: int64"
      ]
     },
     "execution_count": 15,
     "metadata": {},
     "output_type": "execute_result"
    }
   ],
   "source": [
    "df.isnull().sum()"
   ]
  },
  {
   "cell_type": "markdown",
   "id": "cece00a9",
   "metadata": {},
   "source": [
    "Пропусков нет"
   ]
  },
  {
   "cell_type": "markdown",
   "id": "18872239",
   "metadata": {},
   "source": [
    "Изучим распределение целевого признака"
   ]
  },
  {
   "cell_type": "code",
   "execution_count": 16,
   "id": "cff78fd1",
   "metadata": {},
   "outputs": [
    {
     "data": {
      "text/html": [
       "<div>\n",
       "<style scoped>\n",
       "    .dataframe tbody tr th:only-of-type {\n",
       "        vertical-align: middle;\n",
       "    }\n",
       "\n",
       "    .dataframe tbody tr th {\n",
       "        vertical-align: top;\n",
       "    }\n",
       "\n",
       "    .dataframe thead th {\n",
       "        text-align: right;\n",
       "    }\n",
       "</style>\n",
       "<table border=\"1\" class=\"dataframe\">\n",
       "  <thead>\n",
       "    <tr style=\"text-align: right;\">\n",
       "      <th></th>\n",
       "      <th>count</th>\n",
       "      <th>percent</th>\n",
       "    </tr>\n",
       "  </thead>\n",
       "  <tbody>\n",
       "    <tr>\n",
       "      <th>0</th>\n",
       "      <td>7963</td>\n",
       "      <td>0.7963</td>\n",
       "    </tr>\n",
       "    <tr>\n",
       "      <th>1</th>\n",
       "      <td>2037</td>\n",
       "      <td>0.2037</td>\n",
       "    </tr>\n",
       "  </tbody>\n",
       "</table>\n",
       "</div>"
      ],
      "text/plain": [
       "   count  percent\n",
       "0   7963   0.7963\n",
       "1   2037   0.2037"
      ]
     },
     "execution_count": 16,
     "metadata": {},
     "output_type": "execute_result"
    }
   ],
   "source": [
    "pd.DataFrame({\n",
    "    'count': df['exited'].value_counts(),\n",
    "    'percent': df['exited'].value_counts() / len(df)\n",
    "})"
   ]
  },
  {
   "cell_type": "markdown",
   "id": "98b47301",
   "metadata": {},
   "source": [
    "Видно что присутствует дисбаланс классов. Киентов которые ушли - 20%. Необходимо будет сбалансировать классы для обучения и тестирования моделей"
   ]
  },
  {
   "cell_type": "markdown",
   "id": "154d5216",
   "metadata": {},
   "source": [
    "Методом One-Hot Encoding  переводим категориальные значени в столбце  'gender' в численные"
   ]
  },
  {
   "cell_type": "code",
   "execution_count": 17,
   "id": "9319bbf8",
   "metadata": {},
   "outputs": [
    {
     "data": {
      "text/html": [
       "<div>\n",
       "<style scoped>\n",
       "    .dataframe tbody tr th:only-of-type {\n",
       "        vertical-align: middle;\n",
       "    }\n",
       "\n",
       "    .dataframe tbody tr th {\n",
       "        vertical-align: top;\n",
       "    }\n",
       "\n",
       "    .dataframe thead th {\n",
       "        text-align: right;\n",
       "    }\n",
       "</style>\n",
       "<table border=\"1\" class=\"dataframe\">\n",
       "  <thead>\n",
       "    <tr style=\"text-align: right;\">\n",
       "      <th></th>\n",
       "      <th>rownumber</th>\n",
       "      <th>customerid</th>\n",
       "      <th>surname</th>\n",
       "      <th>creditscore</th>\n",
       "      <th>geography</th>\n",
       "      <th>age</th>\n",
       "      <th>tenure</th>\n",
       "      <th>balance</th>\n",
       "      <th>numofproducts</th>\n",
       "      <th>hascrcard</th>\n",
       "      <th>isactivemember</th>\n",
       "      <th>estimatedsalary</th>\n",
       "      <th>exited</th>\n",
       "      <th>gender_Male</th>\n",
       "    </tr>\n",
       "  </thead>\n",
       "  <tbody>\n",
       "    <tr>\n",
       "      <th>0</th>\n",
       "      <td>1</td>\n",
       "      <td>15634602</td>\n",
       "      <td>Hargrave</td>\n",
       "      <td>619</td>\n",
       "      <td>France</td>\n",
       "      <td>42</td>\n",
       "      <td>2.0</td>\n",
       "      <td>0.00</td>\n",
       "      <td>1</td>\n",
       "      <td>1</td>\n",
       "      <td>1</td>\n",
       "      <td>101348.88</td>\n",
       "      <td>1</td>\n",
       "      <td>0</td>\n",
       "    </tr>\n",
       "    <tr>\n",
       "      <th>1</th>\n",
       "      <td>2</td>\n",
       "      <td>15647311</td>\n",
       "      <td>Hill</td>\n",
       "      <td>608</td>\n",
       "      <td>Spain</td>\n",
       "      <td>41</td>\n",
       "      <td>1.0</td>\n",
       "      <td>83807.86</td>\n",
       "      <td>1</td>\n",
       "      <td>0</td>\n",
       "      <td>1</td>\n",
       "      <td>112542.58</td>\n",
       "      <td>0</td>\n",
       "      <td>0</td>\n",
       "    </tr>\n",
       "    <tr>\n",
       "      <th>2</th>\n",
       "      <td>3</td>\n",
       "      <td>15619304</td>\n",
       "      <td>Onio</td>\n",
       "      <td>502</td>\n",
       "      <td>France</td>\n",
       "      <td>42</td>\n",
       "      <td>8.0</td>\n",
       "      <td>159660.80</td>\n",
       "      <td>3</td>\n",
       "      <td>1</td>\n",
       "      <td>0</td>\n",
       "      <td>113931.57</td>\n",
       "      <td>1</td>\n",
       "      <td>0</td>\n",
       "    </tr>\n",
       "    <tr>\n",
       "      <th>3</th>\n",
       "      <td>4</td>\n",
       "      <td>15701354</td>\n",
       "      <td>Boni</td>\n",
       "      <td>699</td>\n",
       "      <td>France</td>\n",
       "      <td>39</td>\n",
       "      <td>1.0</td>\n",
       "      <td>0.00</td>\n",
       "      <td>2</td>\n",
       "      <td>0</td>\n",
       "      <td>0</td>\n",
       "      <td>93826.63</td>\n",
       "      <td>0</td>\n",
       "      <td>0</td>\n",
       "    </tr>\n",
       "    <tr>\n",
       "      <th>4</th>\n",
       "      <td>5</td>\n",
       "      <td>15737888</td>\n",
       "      <td>Mitchell</td>\n",
       "      <td>850</td>\n",
       "      <td>Spain</td>\n",
       "      <td>43</td>\n",
       "      <td>2.0</td>\n",
       "      <td>125510.82</td>\n",
       "      <td>1</td>\n",
       "      <td>1</td>\n",
       "      <td>1</td>\n",
       "      <td>79084.10</td>\n",
       "      <td>0</td>\n",
       "      <td>0</td>\n",
       "    </tr>\n",
       "  </tbody>\n",
       "</table>\n",
       "</div>"
      ],
      "text/plain": [
       "   rownumber  customerid   surname  creditscore geography  age  tenure  \\\n",
       "0          1    15634602  Hargrave          619    France   42     2.0   \n",
       "1          2    15647311      Hill          608     Spain   41     1.0   \n",
       "2          3    15619304      Onio          502    France   42     8.0   \n",
       "3          4    15701354      Boni          699    France   39     1.0   \n",
       "4          5    15737888  Mitchell          850     Spain   43     2.0   \n",
       "\n",
       "     balance  numofproducts  hascrcard  isactivemember  estimatedsalary  \\\n",
       "0       0.00              1          1               1        101348.88   \n",
       "1   83807.86              1          0               1        112542.58   \n",
       "2  159660.80              3          1               0        113931.57   \n",
       "3       0.00              2          0               0         93826.63   \n",
       "4  125510.82              1          1               1         79084.10   \n",
       "\n",
       "   exited  gender_Male  \n",
       "0       1            0  \n",
       "1       0            0  \n",
       "2       1            0  \n",
       "3       0            0  \n",
       "4       0            0  "
      ]
     },
     "execution_count": 17,
     "metadata": {},
     "output_type": "execute_result"
    }
   ],
   "source": [
    "\n",
    "df_categorized = pd.get_dummies(df, columns=['gender'], drop_first=True)\n",
    "df_categorized.head(5)\n",
    "\n"
   ]
  },
  {
   "cell_type": "markdown",
   "id": "d884fec7",
   "metadata": {},
   "source": [
    "Используя порядковое кодирование приводим значения в стобце 'geography' в численные"
   ]
  },
  {
   "cell_type": "code",
   "execution_count": 18,
   "id": "abf502f6",
   "metadata": {},
   "outputs": [
    {
     "data": {
      "text/html": [
       "<div>\n",
       "<style scoped>\n",
       "    .dataframe tbody tr th:only-of-type {\n",
       "        vertical-align: middle;\n",
       "    }\n",
       "\n",
       "    .dataframe tbody tr th {\n",
       "        vertical-align: top;\n",
       "    }\n",
       "\n",
       "    .dataframe thead th {\n",
       "        text-align: right;\n",
       "    }\n",
       "</style>\n",
       "<table border=\"1\" class=\"dataframe\">\n",
       "  <thead>\n",
       "    <tr style=\"text-align: right;\">\n",
       "      <th></th>\n",
       "      <th>rownumber</th>\n",
       "      <th>customerid</th>\n",
       "      <th>surname</th>\n",
       "      <th>creditscore</th>\n",
       "      <th>geography</th>\n",
       "      <th>age</th>\n",
       "      <th>tenure</th>\n",
       "      <th>balance</th>\n",
       "      <th>numofproducts</th>\n",
       "      <th>hascrcard</th>\n",
       "      <th>isactivemember</th>\n",
       "      <th>estimatedsalary</th>\n",
       "      <th>exited</th>\n",
       "      <th>gender_Male</th>\n",
       "    </tr>\n",
       "  </thead>\n",
       "  <tbody>\n",
       "    <tr>\n",
       "      <th>0</th>\n",
       "      <td>0.0</td>\n",
       "      <td>2736.0</td>\n",
       "      <td>1115.0</td>\n",
       "      <td>228.0</td>\n",
       "      <td>0.0</td>\n",
       "      <td>24.0</td>\n",
       "      <td>2.0</td>\n",
       "      <td>0.0</td>\n",
       "      <td>0.0</td>\n",
       "      <td>1.0</td>\n",
       "      <td>1.0</td>\n",
       "      <td>5068.0</td>\n",
       "      <td>1.0</td>\n",
       "      <td>0.0</td>\n",
       "    </tr>\n",
       "    <tr>\n",
       "      <th>1</th>\n",
       "      <td>1.0</td>\n",
       "      <td>3258.0</td>\n",
       "      <td>1177.0</td>\n",
       "      <td>217.0</td>\n",
       "      <td>2.0</td>\n",
       "      <td>23.0</td>\n",
       "      <td>1.0</td>\n",
       "      <td>743.0</td>\n",
       "      <td>0.0</td>\n",
       "      <td>0.0</td>\n",
       "      <td>1.0</td>\n",
       "      <td>5639.0</td>\n",
       "      <td>0.0</td>\n",
       "      <td>0.0</td>\n",
       "    </tr>\n",
       "    <tr>\n",
       "      <th>2</th>\n",
       "      <td>2.0</td>\n",
       "      <td>2104.0</td>\n",
       "      <td>2040.0</td>\n",
       "      <td>111.0</td>\n",
       "      <td>0.0</td>\n",
       "      <td>24.0</td>\n",
       "      <td>8.0</td>\n",
       "      <td>5793.0</td>\n",
       "      <td>2.0</td>\n",
       "      <td>1.0</td>\n",
       "      <td>0.0</td>\n",
       "      <td>5707.0</td>\n",
       "      <td>1.0</td>\n",
       "      <td>0.0</td>\n",
       "    </tr>\n",
       "    <tr>\n",
       "      <th>3</th>\n",
       "      <td>3.0</td>\n",
       "      <td>5435.0</td>\n",
       "      <td>289.0</td>\n",
       "      <td>308.0</td>\n",
       "      <td>0.0</td>\n",
       "      <td>21.0</td>\n",
       "      <td>1.0</td>\n",
       "      <td>0.0</td>\n",
       "      <td>1.0</td>\n",
       "      <td>0.0</td>\n",
       "      <td>0.0</td>\n",
       "      <td>4704.0</td>\n",
       "      <td>0.0</td>\n",
       "      <td>0.0</td>\n",
       "    </tr>\n",
       "    <tr>\n",
       "      <th>4</th>\n",
       "      <td>4.0</td>\n",
       "      <td>6899.0</td>\n",
       "      <td>1822.0</td>\n",
       "      <td>459.0</td>\n",
       "      <td>2.0</td>\n",
       "      <td>25.0</td>\n",
       "      <td>2.0</td>\n",
       "      <td>3696.0</td>\n",
       "      <td>0.0</td>\n",
       "      <td>1.0</td>\n",
       "      <td>1.0</td>\n",
       "      <td>3925.0</td>\n",
       "      <td>0.0</td>\n",
       "      <td>0.0</td>\n",
       "    </tr>\n",
       "  </tbody>\n",
       "</table>\n",
       "</div>"
      ],
      "text/plain": [
       "   rownumber  customerid  surname  creditscore  geography   age  tenure  \\\n",
       "0        0.0      2736.0   1115.0        228.0        0.0  24.0     2.0   \n",
       "1        1.0      3258.0   1177.0        217.0        2.0  23.0     1.0   \n",
       "2        2.0      2104.0   2040.0        111.0        0.0  24.0     8.0   \n",
       "3        3.0      5435.0    289.0        308.0        0.0  21.0     1.0   \n",
       "4        4.0      6899.0   1822.0        459.0        2.0  25.0     2.0   \n",
       "\n",
       "   balance  numofproducts  hascrcard  isactivemember  estimatedsalary  exited  \\\n",
       "0      0.0            0.0        1.0             1.0           5068.0     1.0   \n",
       "1    743.0            0.0        0.0             1.0           5639.0     0.0   \n",
       "2   5793.0            2.0        1.0             0.0           5707.0     1.0   \n",
       "3      0.0            1.0        0.0             0.0           4704.0     0.0   \n",
       "4   3696.0            0.0        1.0             1.0           3925.0     0.0   \n",
       "\n",
       "   gender_Male  \n",
       "0          0.0  \n",
       "1          0.0  \n",
       "2          0.0  \n",
       "3          0.0  \n",
       "4          0.0  "
      ]
     },
     "execution_count": 18,
     "metadata": {},
     "output_type": "execute_result"
    }
   ],
   "source": [
    "encoder = OrdinalEncoder()\n",
    "data_ordinal = pd.DataFrame(encoder.fit_transform(df_categorized),\n",
    "                            columns=df_categorized.columns)\n",
    "data_ordinal.head(5)\n"
   ]
  },
  {
   "cell_type": "code",
   "execution_count": 19,
   "id": "2b54ac15",
   "metadata": {},
   "outputs": [
    {
     "data": {
      "text/html": [
       "<div>\n",
       "<style scoped>\n",
       "    .dataframe tbody tr th:only-of-type {\n",
       "        vertical-align: middle;\n",
       "    }\n",
       "\n",
       "    .dataframe tbody tr th {\n",
       "        vertical-align: top;\n",
       "    }\n",
       "\n",
       "    .dataframe thead th {\n",
       "        text-align: right;\n",
       "    }\n",
       "</style>\n",
       "<table border=\"1\" class=\"dataframe\">\n",
       "  <thead>\n",
       "    <tr style=\"text-align: right;\">\n",
       "      <th></th>\n",
       "      <th>rownumber</th>\n",
       "      <th>customerid</th>\n",
       "      <th>surname</th>\n",
       "      <th>creditscore</th>\n",
       "      <th>geography</th>\n",
       "      <th>age</th>\n",
       "      <th>tenure</th>\n",
       "      <th>balance</th>\n",
       "      <th>numofproducts</th>\n",
       "      <th>hascrcard</th>\n",
       "      <th>isactivemember</th>\n",
       "      <th>estimatedsalary</th>\n",
       "      <th>exited</th>\n",
       "      <th>gender_Male</th>\n",
       "      <th>geography_cat</th>\n",
       "    </tr>\n",
       "  </thead>\n",
       "  <tbody>\n",
       "    <tr>\n",
       "      <th>0</th>\n",
       "      <td>1</td>\n",
       "      <td>15634602</td>\n",
       "      <td>Hargrave</td>\n",
       "      <td>619</td>\n",
       "      <td>France</td>\n",
       "      <td>42</td>\n",
       "      <td>2.0</td>\n",
       "      <td>0.00</td>\n",
       "      <td>1</td>\n",
       "      <td>1</td>\n",
       "      <td>1</td>\n",
       "      <td>101348.88</td>\n",
       "      <td>1</td>\n",
       "      <td>0</td>\n",
       "      <td>0.0</td>\n",
       "    </tr>\n",
       "    <tr>\n",
       "      <th>1</th>\n",
       "      <td>2</td>\n",
       "      <td>15647311</td>\n",
       "      <td>Hill</td>\n",
       "      <td>608</td>\n",
       "      <td>Spain</td>\n",
       "      <td>41</td>\n",
       "      <td>1.0</td>\n",
       "      <td>83807.86</td>\n",
       "      <td>1</td>\n",
       "      <td>0</td>\n",
       "      <td>1</td>\n",
       "      <td>112542.58</td>\n",
       "      <td>0</td>\n",
       "      <td>0</td>\n",
       "      <td>2.0</td>\n",
       "    </tr>\n",
       "    <tr>\n",
       "      <th>2</th>\n",
       "      <td>3</td>\n",
       "      <td>15619304</td>\n",
       "      <td>Onio</td>\n",
       "      <td>502</td>\n",
       "      <td>France</td>\n",
       "      <td>42</td>\n",
       "      <td>8.0</td>\n",
       "      <td>159660.80</td>\n",
       "      <td>3</td>\n",
       "      <td>1</td>\n",
       "      <td>0</td>\n",
       "      <td>113931.57</td>\n",
       "      <td>1</td>\n",
       "      <td>0</td>\n",
       "      <td>0.0</td>\n",
       "    </tr>\n",
       "    <tr>\n",
       "      <th>3</th>\n",
       "      <td>4</td>\n",
       "      <td>15701354</td>\n",
       "      <td>Boni</td>\n",
       "      <td>699</td>\n",
       "      <td>France</td>\n",
       "      <td>39</td>\n",
       "      <td>1.0</td>\n",
       "      <td>0.00</td>\n",
       "      <td>2</td>\n",
       "      <td>0</td>\n",
       "      <td>0</td>\n",
       "      <td>93826.63</td>\n",
       "      <td>0</td>\n",
       "      <td>0</td>\n",
       "      <td>0.0</td>\n",
       "    </tr>\n",
       "    <tr>\n",
       "      <th>4</th>\n",
       "      <td>5</td>\n",
       "      <td>15737888</td>\n",
       "      <td>Mitchell</td>\n",
       "      <td>850</td>\n",
       "      <td>Spain</td>\n",
       "      <td>43</td>\n",
       "      <td>2.0</td>\n",
       "      <td>125510.82</td>\n",
       "      <td>1</td>\n",
       "      <td>1</td>\n",
       "      <td>1</td>\n",
       "      <td>79084.10</td>\n",
       "      <td>0</td>\n",
       "      <td>0</td>\n",
       "      <td>2.0</td>\n",
       "    </tr>\n",
       "  </tbody>\n",
       "</table>\n",
       "</div>"
      ],
      "text/plain": [
       "   rownumber  customerid   surname  creditscore geography  age  tenure  \\\n",
       "0          1    15634602  Hargrave          619    France   42     2.0   \n",
       "1          2    15647311      Hill          608     Spain   41     1.0   \n",
       "2          3    15619304      Onio          502    France   42     8.0   \n",
       "3          4    15701354      Boni          699    France   39     1.0   \n",
       "4          5    15737888  Mitchell          850     Spain   43     2.0   \n",
       "\n",
       "     balance  numofproducts  hascrcard  isactivemember  estimatedsalary  \\\n",
       "0       0.00              1          1               1        101348.88   \n",
       "1   83807.86              1          0               1        112542.58   \n",
       "2  159660.80              3          1               0        113931.57   \n",
       "3       0.00              2          0               0         93826.63   \n",
       "4  125510.82              1          1               1         79084.10   \n",
       "\n",
       "   exited  gender_Male  geography_cat  \n",
       "0       1            0            0.0  \n",
       "1       0            0            2.0  \n",
       "2       1            0            0.0  \n",
       "3       0            0            0.0  \n",
       "4       0            0            2.0  "
      ]
     },
     "execution_count": 19,
     "metadata": {},
     "output_type": "execute_result"
    }
   ],
   "source": [
    "df_categorized['geography_cat'] = data_ordinal['geography']\n",
    "df_categorized.head(5)"
   ]
  },
  {
   "cell_type": "markdown",
   "id": "091dca91",
   "metadata": {},
   "source": [
    "меняем имя столбца на более подходящее"
   ]
  },
  {
   "cell_type": "code",
   "execution_count": 20,
   "id": "3bba84d3",
   "metadata": {},
   "outputs": [],
   "source": [
    "df_categorized.rename(columns={'gender_Male': 'gender'}, inplace=True)\n"
   ]
  },
  {
   "cell_type": "code",
   "execution_count": 21,
   "id": "6738af3b",
   "metadata": {},
   "outputs": [
    {
     "data": {
      "text/html": [
       "<div>\n",
       "<style scoped>\n",
       "    .dataframe tbody tr th:only-of-type {\n",
       "        vertical-align: middle;\n",
       "    }\n",
       "\n",
       "    .dataframe tbody tr th {\n",
       "        vertical-align: top;\n",
       "    }\n",
       "\n",
       "    .dataframe thead th {\n",
       "        text-align: right;\n",
       "    }\n",
       "</style>\n",
       "<table border=\"1\" class=\"dataframe\">\n",
       "  <thead>\n",
       "    <tr style=\"text-align: right;\">\n",
       "      <th></th>\n",
       "      <th>rownumber</th>\n",
       "      <th>customerid</th>\n",
       "      <th>surname</th>\n",
       "      <th>creditscore</th>\n",
       "      <th>geography</th>\n",
       "      <th>age</th>\n",
       "      <th>tenure</th>\n",
       "      <th>balance</th>\n",
       "      <th>numofproducts</th>\n",
       "      <th>hascrcard</th>\n",
       "      <th>isactivemember</th>\n",
       "      <th>estimatedsalary</th>\n",
       "      <th>exited</th>\n",
       "      <th>gender</th>\n",
       "      <th>geography_cat</th>\n",
       "    </tr>\n",
       "  </thead>\n",
       "  <tbody>\n",
       "    <tr>\n",
       "      <th>0</th>\n",
       "      <td>1</td>\n",
       "      <td>15634602</td>\n",
       "      <td>Hargrave</td>\n",
       "      <td>619</td>\n",
       "      <td>France</td>\n",
       "      <td>42</td>\n",
       "      <td>2.0</td>\n",
       "      <td>0.00</td>\n",
       "      <td>1</td>\n",
       "      <td>1</td>\n",
       "      <td>1</td>\n",
       "      <td>101348.88</td>\n",
       "      <td>1</td>\n",
       "      <td>0</td>\n",
       "      <td>0.0</td>\n",
       "    </tr>\n",
       "    <tr>\n",
       "      <th>1</th>\n",
       "      <td>2</td>\n",
       "      <td>15647311</td>\n",
       "      <td>Hill</td>\n",
       "      <td>608</td>\n",
       "      <td>Spain</td>\n",
       "      <td>41</td>\n",
       "      <td>1.0</td>\n",
       "      <td>83807.86</td>\n",
       "      <td>1</td>\n",
       "      <td>0</td>\n",
       "      <td>1</td>\n",
       "      <td>112542.58</td>\n",
       "      <td>0</td>\n",
       "      <td>0</td>\n",
       "      <td>2.0</td>\n",
       "    </tr>\n",
       "    <tr>\n",
       "      <th>2</th>\n",
       "      <td>3</td>\n",
       "      <td>15619304</td>\n",
       "      <td>Onio</td>\n",
       "      <td>502</td>\n",
       "      <td>France</td>\n",
       "      <td>42</td>\n",
       "      <td>8.0</td>\n",
       "      <td>159660.80</td>\n",
       "      <td>3</td>\n",
       "      <td>1</td>\n",
       "      <td>0</td>\n",
       "      <td>113931.57</td>\n",
       "      <td>1</td>\n",
       "      <td>0</td>\n",
       "      <td>0.0</td>\n",
       "    </tr>\n",
       "    <tr>\n",
       "      <th>3</th>\n",
       "      <td>4</td>\n",
       "      <td>15701354</td>\n",
       "      <td>Boni</td>\n",
       "      <td>699</td>\n",
       "      <td>France</td>\n",
       "      <td>39</td>\n",
       "      <td>1.0</td>\n",
       "      <td>0.00</td>\n",
       "      <td>2</td>\n",
       "      <td>0</td>\n",
       "      <td>0</td>\n",
       "      <td>93826.63</td>\n",
       "      <td>0</td>\n",
       "      <td>0</td>\n",
       "      <td>0.0</td>\n",
       "    </tr>\n",
       "    <tr>\n",
       "      <th>4</th>\n",
       "      <td>5</td>\n",
       "      <td>15737888</td>\n",
       "      <td>Mitchell</td>\n",
       "      <td>850</td>\n",
       "      <td>Spain</td>\n",
       "      <td>43</td>\n",
       "      <td>2.0</td>\n",
       "      <td>125510.82</td>\n",
       "      <td>1</td>\n",
       "      <td>1</td>\n",
       "      <td>1</td>\n",
       "      <td>79084.10</td>\n",
       "      <td>0</td>\n",
       "      <td>0</td>\n",
       "      <td>2.0</td>\n",
       "    </tr>\n",
       "  </tbody>\n",
       "</table>\n",
       "</div>"
      ],
      "text/plain": [
       "   rownumber  customerid   surname  creditscore geography  age  tenure  \\\n",
       "0          1    15634602  Hargrave          619    France   42     2.0   \n",
       "1          2    15647311      Hill          608     Spain   41     1.0   \n",
       "2          3    15619304      Onio          502    France   42     8.0   \n",
       "3          4    15701354      Boni          699    France   39     1.0   \n",
       "4          5    15737888  Mitchell          850     Spain   43     2.0   \n",
       "\n",
       "     balance  numofproducts  hascrcard  isactivemember  estimatedsalary  \\\n",
       "0       0.00              1          1               1        101348.88   \n",
       "1   83807.86              1          0               1        112542.58   \n",
       "2  159660.80              3          1               0        113931.57   \n",
       "3       0.00              2          0               0         93826.63   \n",
       "4  125510.82              1          1               1         79084.10   \n",
       "\n",
       "   exited  gender  geography_cat  \n",
       "0       1       0            0.0  \n",
       "1       0       0            2.0  \n",
       "2       1       0            0.0  \n",
       "3       0       0            0.0  \n",
       "4       0       0            2.0  "
      ]
     },
     "execution_count": 21,
     "metadata": {},
     "output_type": "execute_result"
    }
   ],
   "source": [
    "df_categorized.head(5)"
   ]
  },
  {
   "cell_type": "markdown",
   "id": "e7464b3c",
   "metadata": {},
   "source": [
    "Проверяем уникальные значения в столбце 'geography_cat':"
   ]
  },
  {
   "cell_type": "code",
   "execution_count": 22,
   "id": "b276b481",
   "metadata": {},
   "outputs": [
    {
     "data": {
      "text/plain": [
       "array([0., 2., 1.])"
      ]
     },
     "execution_count": 22,
     "metadata": {},
     "output_type": "execute_result"
    }
   ],
   "source": [
    "df_categorized['geography_cat'].unique()"
   ]
  },
  {
   "cell_type": "markdown",
   "id": "ef684bc4",
   "metadata": {},
   "source": [
    "Оставляем только столбцы с численными значениями необходимые для обучения моделей"
   ]
  },
  {
   "cell_type": "code",
   "execution_count": 23,
   "id": "572de322",
   "metadata": {},
   "outputs": [
    {
     "data": {
      "text/html": [
       "<div>\n",
       "<style scoped>\n",
       "    .dataframe tbody tr th:only-of-type {\n",
       "        vertical-align: middle;\n",
       "    }\n",
       "\n",
       "    .dataframe tbody tr th {\n",
       "        vertical-align: top;\n",
       "    }\n",
       "\n",
       "    .dataframe thead th {\n",
       "        text-align: right;\n",
       "    }\n",
       "</style>\n",
       "<table border=\"1\" class=\"dataframe\">\n",
       "  <thead>\n",
       "    <tr style=\"text-align: right;\">\n",
       "      <th></th>\n",
       "      <th>creditscore</th>\n",
       "      <th>age</th>\n",
       "      <th>tenure</th>\n",
       "      <th>balance</th>\n",
       "      <th>numofproducts</th>\n",
       "      <th>hascrcard</th>\n",
       "      <th>isactivemember</th>\n",
       "      <th>estimatedsalary</th>\n",
       "      <th>gender</th>\n",
       "      <th>geography_cat</th>\n",
       "      <th>exited</th>\n",
       "    </tr>\n",
       "  </thead>\n",
       "  <tbody>\n",
       "    <tr>\n",
       "      <th>0</th>\n",
       "      <td>619</td>\n",
       "      <td>42</td>\n",
       "      <td>2.0</td>\n",
       "      <td>0.00</td>\n",
       "      <td>1</td>\n",
       "      <td>1</td>\n",
       "      <td>1</td>\n",
       "      <td>101348.88</td>\n",
       "      <td>0</td>\n",
       "      <td>0.0</td>\n",
       "      <td>1</td>\n",
       "    </tr>\n",
       "    <tr>\n",
       "      <th>1</th>\n",
       "      <td>608</td>\n",
       "      <td>41</td>\n",
       "      <td>1.0</td>\n",
       "      <td>83807.86</td>\n",
       "      <td>1</td>\n",
       "      <td>0</td>\n",
       "      <td>1</td>\n",
       "      <td>112542.58</td>\n",
       "      <td>0</td>\n",
       "      <td>2.0</td>\n",
       "      <td>0</td>\n",
       "    </tr>\n",
       "    <tr>\n",
       "      <th>2</th>\n",
       "      <td>502</td>\n",
       "      <td>42</td>\n",
       "      <td>8.0</td>\n",
       "      <td>159660.80</td>\n",
       "      <td>3</td>\n",
       "      <td>1</td>\n",
       "      <td>0</td>\n",
       "      <td>113931.57</td>\n",
       "      <td>0</td>\n",
       "      <td>0.0</td>\n",
       "      <td>1</td>\n",
       "    </tr>\n",
       "    <tr>\n",
       "      <th>3</th>\n",
       "      <td>699</td>\n",
       "      <td>39</td>\n",
       "      <td>1.0</td>\n",
       "      <td>0.00</td>\n",
       "      <td>2</td>\n",
       "      <td>0</td>\n",
       "      <td>0</td>\n",
       "      <td>93826.63</td>\n",
       "      <td>0</td>\n",
       "      <td>0.0</td>\n",
       "      <td>0</td>\n",
       "    </tr>\n",
       "    <tr>\n",
       "      <th>4</th>\n",
       "      <td>850</td>\n",
       "      <td>43</td>\n",
       "      <td>2.0</td>\n",
       "      <td>125510.82</td>\n",
       "      <td>1</td>\n",
       "      <td>1</td>\n",
       "      <td>1</td>\n",
       "      <td>79084.10</td>\n",
       "      <td>0</td>\n",
       "      <td>2.0</td>\n",
       "      <td>0</td>\n",
       "    </tr>\n",
       "  </tbody>\n",
       "</table>\n",
       "</div>"
      ],
      "text/plain": [
       "   creditscore  age  tenure    balance  numofproducts  hascrcard  \\\n",
       "0          619   42     2.0       0.00              1          1   \n",
       "1          608   41     1.0   83807.86              1          0   \n",
       "2          502   42     8.0  159660.80              3          1   \n",
       "3          699   39     1.0       0.00              2          0   \n",
       "4          850   43     2.0  125510.82              1          1   \n",
       "\n",
       "   isactivemember  estimatedsalary  gender  geography_cat  exited  \n",
       "0               1        101348.88       0            0.0       1  \n",
       "1               1        112542.58       0            2.0       0  \n",
       "2               0        113931.57       0            0.0       1  \n",
       "3               0         93826.63       0            0.0       0  \n",
       "4               1         79084.10       0            2.0       0  "
      ]
     },
     "execution_count": 23,
     "metadata": {},
     "output_type": "execute_result"
    }
   ],
   "source": [
    "df_analised = df_categorized[['creditscore', 'age', 'tenure', 'balance',  'numofproducts', 'hascrcard','isactivemember', 'estimatedsalary', 'gender', 'geography_cat', 'exited']]\n",
    "df_analised.head(5)"
   ]
  },
  {
   "cell_type": "markdown",
   "id": "5d5482dd",
   "metadata": {},
   "source": [
    "Приводим данные в столбцах к целочисленному типу "
   ]
  },
  {
   "cell_type": "code",
   "execution_count": 24,
   "id": "db3e2000",
   "metadata": {},
   "outputs": [],
   "source": [
    "df_analised[['tenure', 'geography_cat']] = df_analised[['tenure', 'geography_cat']].astype(dtype = int)"
   ]
  },
  {
   "cell_type": "code",
   "execution_count": 25,
   "id": "3f1a7e50",
   "metadata": {},
   "outputs": [
    {
     "data": {
      "text/html": [
       "<div>\n",
       "<style scoped>\n",
       "    .dataframe tbody tr th:only-of-type {\n",
       "        vertical-align: middle;\n",
       "    }\n",
       "\n",
       "    .dataframe tbody tr th {\n",
       "        vertical-align: top;\n",
       "    }\n",
       "\n",
       "    .dataframe thead th {\n",
       "        text-align: right;\n",
       "    }\n",
       "</style>\n",
       "<table border=\"1\" class=\"dataframe\">\n",
       "  <thead>\n",
       "    <tr style=\"text-align: right;\">\n",
       "      <th></th>\n",
       "      <th>creditscore</th>\n",
       "      <th>age</th>\n",
       "      <th>tenure</th>\n",
       "      <th>balance</th>\n",
       "      <th>numofproducts</th>\n",
       "      <th>hascrcard</th>\n",
       "      <th>isactivemember</th>\n",
       "      <th>estimatedsalary</th>\n",
       "      <th>gender</th>\n",
       "      <th>geography_cat</th>\n",
       "      <th>exited</th>\n",
       "    </tr>\n",
       "  </thead>\n",
       "  <tbody>\n",
       "    <tr>\n",
       "      <th>0</th>\n",
       "      <td>619</td>\n",
       "      <td>42</td>\n",
       "      <td>2</td>\n",
       "      <td>0.00</td>\n",
       "      <td>1</td>\n",
       "      <td>1</td>\n",
       "      <td>1</td>\n",
       "      <td>101348.88</td>\n",
       "      <td>0</td>\n",
       "      <td>0</td>\n",
       "      <td>1</td>\n",
       "    </tr>\n",
       "    <tr>\n",
       "      <th>1</th>\n",
       "      <td>608</td>\n",
       "      <td>41</td>\n",
       "      <td>1</td>\n",
       "      <td>83807.86</td>\n",
       "      <td>1</td>\n",
       "      <td>0</td>\n",
       "      <td>1</td>\n",
       "      <td>112542.58</td>\n",
       "      <td>0</td>\n",
       "      <td>2</td>\n",
       "      <td>0</td>\n",
       "    </tr>\n",
       "    <tr>\n",
       "      <th>2</th>\n",
       "      <td>502</td>\n",
       "      <td>42</td>\n",
       "      <td>8</td>\n",
       "      <td>159660.80</td>\n",
       "      <td>3</td>\n",
       "      <td>1</td>\n",
       "      <td>0</td>\n",
       "      <td>113931.57</td>\n",
       "      <td>0</td>\n",
       "      <td>0</td>\n",
       "      <td>1</td>\n",
       "    </tr>\n",
       "    <tr>\n",
       "      <th>3</th>\n",
       "      <td>699</td>\n",
       "      <td>39</td>\n",
       "      <td>1</td>\n",
       "      <td>0.00</td>\n",
       "      <td>2</td>\n",
       "      <td>0</td>\n",
       "      <td>0</td>\n",
       "      <td>93826.63</td>\n",
       "      <td>0</td>\n",
       "      <td>0</td>\n",
       "      <td>0</td>\n",
       "    </tr>\n",
       "    <tr>\n",
       "      <th>4</th>\n",
       "      <td>850</td>\n",
       "      <td>43</td>\n",
       "      <td>2</td>\n",
       "      <td>125510.82</td>\n",
       "      <td>1</td>\n",
       "      <td>1</td>\n",
       "      <td>1</td>\n",
       "      <td>79084.10</td>\n",
       "      <td>0</td>\n",
       "      <td>2</td>\n",
       "      <td>0</td>\n",
       "    </tr>\n",
       "  </tbody>\n",
       "</table>\n",
       "</div>"
      ],
      "text/plain": [
       "   creditscore  age  tenure    balance  numofproducts  hascrcard  \\\n",
       "0          619   42       2       0.00              1          1   \n",
       "1          608   41       1   83807.86              1          0   \n",
       "2          502   42       8  159660.80              3          1   \n",
       "3          699   39       1       0.00              2          0   \n",
       "4          850   43       2  125510.82              1          1   \n",
       "\n",
       "   isactivemember  estimatedsalary  gender  geography_cat  exited  \n",
       "0               1        101348.88       0              0       1  \n",
       "1               1        112542.58       0              2       0  \n",
       "2               0        113931.57       0              0       1  \n",
       "3               0         93826.63       0              0       0  \n",
       "4               1         79084.10       0              2       0  "
      ]
     },
     "execution_count": 25,
     "metadata": {},
     "output_type": "execute_result"
    }
   ],
   "source": [
    "df_analised.head(5)"
   ]
  },
  {
   "cell_type": "markdown",
   "id": "9eca18cb",
   "metadata": {},
   "source": [
    "#### Вывод"
   ]
  },
  {
   "cell_type": "markdown",
   "id": "5c44276e",
   "metadata": {},
   "source": [
    "Изучили данные датафрейма. Привели названия столбцов к нижнему регистру, обнаружили и заполнили пропуски в столбце 'Tenure'.\n",
    "\n",
    "Выявили дисбаланс классов. \n",
    "\n",
    "Преобразовали категориальные признаки в численные. У нас было два столбца типа object, это столбцы geography и gender. Мы провели их кодирование с помощью техники One-Hot Encoding (прямого кодирования) и порядкового кодирования.\n",
    "\n"
   ]
  },
  {
   "cell_type": "markdown",
   "id": "75164e29",
   "metadata": {},
   "source": [
    "### Исследование задачи"
   ]
  },
  {
   "cell_type": "markdown",
   "id": "bc0cb9fc",
   "metadata": {},
   "source": [
    "Тк нам необходимо выяснить уйдет клиент или нет, то перед нами задача бинарной классификации. Целевой признак - 'exited', признаки - оставшиеся столбцы.\n",
    "\n",
    "разделим выборку на: обучающую, валидную и тестовую"
   ]
  },
  {
   "cell_type": "code",
   "execution_count": 75,
   "id": "83023ac7",
   "metadata": {},
   "outputs": [],
   "source": [
    "target = df_analised['exited']\n",
    "features = df_analised.drop('exited', axis=1)\n",
    "features_train, features_test, target_train, target_test = train_test_split(\n",
    "    features, target, test_size=0.2, random_state=12345)\n",
    "\n",
    "features_train, features_valid, target_train, target_valid = train_test_split(\n",
    "    features_train, target_train, test_size=0.25, random_state=12345)"
   ]
  },
  {
   "cell_type": "code",
   "execution_count": 76,
   "id": "aa571215",
   "metadata": {},
   "outputs": [
    {
     "name": "stdout",
     "output_type": "stream",
     "text": [
      "Размер обучающей выборки 6000, от общего количества данных 60.0%\n",
      "Размер тестовой выборки 2000, от общего количества данных 20.0%\n",
      "Размер валидной выборки 2000, от общего количества данных 20.0%\n"
     ]
    }
   ],
   "source": [
    "print('Размер обучающей выборки {}, от общего количества данных {:.1%}'.format(\n",
    "    len(features_train), len(features_train)/features.shape[0]))\n",
    "print('Размер тестовой выборки {}, от общего количества данных {:.1%}'.format(\n",
    "    len(features_test), len(features_test)/features.shape[0]))\n",
    "\n",
    "print('Размер валидной выборки {}, от общего количества данных {:.1%}'.format(\n",
    "    len(features_valid), len(features_valid)/features.shape[0]))"
   ]
  },
  {
   "cell_type": "markdown",
   "id": "930b20cb",
   "metadata": {},
   "source": [
    "### Исследуем модели"
   ]
  },
  {
   "cell_type": "markdown",
   "id": "943d5bc8",
   "metadata": {},
   "source": [
    "Обучаем следующие модели классификации на обучающей выборке:\n",
    "    \n",
    "    - Дерево Решений\n",
    "    - Случайный лес\n",
    "    - Логистическая регрессия"
   ]
  },
  {
   "cell_type": "markdown",
   "id": "1cbbfd91",
   "metadata": {},
   "source": [
    "#### Модель Дерево Решений"
   ]
  },
  {
   "cell_type": "code",
   "execution_count": 28,
   "id": "d05f509e",
   "metadata": {},
   "outputs": [
    {
     "name": "stdout",
     "output_type": "stream",
     "text": [
      "Наилучший результат f1_score равен 0.53\n",
      "Максимальная глубина равна 11\n",
      "ROC_AUC_score равен 0.74\n"
     ]
    }
   ],
   "source": [
    "best_depth_tree = 0\n",
    "best_f1_tree = 0\n",
    "best_roc_tree = 0\n",
    "\n",
    "\n",
    "for depth in range(1, 17):\n",
    "    model = DecisionTreeClassifier(random_state=12345, max_depth=depth) \n",
    "    model.fit(features_train, target_train) \n",
    "    predictions_valid = model.predict(features_valid)\n",
    "    \n",
    "    predict = model.predict_proba(features_valid)\n",
    "    predict_tree =   predict[:, 1]\n",
    "    f1 = f1_score(target_valid, predictions_valid)\n",
    "    roc_score = roc_auc_score(target_valid, predict_tree)\n",
    "\n",
    "    if f1 > best_f1_tree:\n",
    "        best_f1_tree = f1\n",
    "        best_depth_tree = depth\n",
    "        best_roc_tree = roc_score\n",
    "        \n",
    "\n",
    "print(\"Наилучший результат f1_score равен {:.2f}\".format(best_f1_tree))\n",
    "print(\"Максимальная глубина равна {}\".format(best_depth_tree))\n",
    "print(\"ROC_AUC_score равен {:.2f}\".format(best_roc_tree))"
   ]
  },
  {
   "cell_type": "markdown",
   "id": "e70b9508",
   "metadata": {},
   "source": [
    "#### Модель Случайный лес"
   ]
  },
  {
   "cell_type": "markdown",
   "id": "8a0a4e5a",
   "metadata": {},
   "source": [
    "Обучим модель на тестовой выборке, тк данные не сбалансированы используем параметр class_weight со значением 'balanced'"
   ]
  },
  {
   "cell_type": "code",
   "execution_count": 29,
   "id": "1f4424b9",
   "metadata": {},
   "outputs": [],
   "source": [
    "best_f1_randomforest = 0\n",
    "best_result_randomforest = 0\n",
    "best_estimators = 0\n",
    "best_depth_randomforest = 0\n",
    "best_roc_randomforest = 0\n",
    "\n",
    "for estimators in range(10,50,10):\n",
    "    for depth in range(1, 15):\n",
    "        model = RandomForestClassifier(random_state=12345, n_estimators=estimators,  max_depth=depth)\n",
    "        model.fit(features_train, target_train) \n",
    "        predictions_valid = model.predict(features_valid) \n",
    "        \n",
    "        predict = model.predict_proba(features_valid)\n",
    "        predict_randomforest =  predict[:, 1]\n",
    "        f1 = f1_score(target_valid, predictions_valid)\n",
    "        roc_score = roc_auc_score(target_valid, predict_randomforest)\n",
    "        \n",
    "        if f1 > best_f1_randomforest:\n",
    "            best_f1_randomforest = f1\n",
    "            best_roc_randomforest = roc_score\n",
    "            best_estimators = estimators\n",
    "            best_depth_randomforest = depth "
   ]
  },
  {
   "cell_type": "code",
   "execution_count": 30,
   "id": "d4953072",
   "metadata": {},
   "outputs": [
    {
     "name": "stdout",
     "output_type": "stream",
     "text": [
      "Наилучший результат f1_score равен 0.57\n",
      "ROC_AUC_score равен 0.83\n",
      "Максимальная глубина равна 14\n",
      "Количество деревьев равно 40\n"
     ]
    }
   ],
   "source": [
    "print(\"Наилучший результат f1_score равен {:.2f}\".format(best_f1_randomforest))\n",
    "print(\"ROC_AUC_score равен {:.2f}\".format(best_roc_randomforest))  \n",
    "print(\"Максимальная глубина равна {}\".format(best_depth_randomforest))\n",
    "print(\"Количество деревьев равно {}\".format(best_estimators))"
   ]
  },
  {
   "cell_type": "markdown",
   "id": "fc101027",
   "metadata": {},
   "source": [
    "#### Модель Логистическая Регрессия"
   ]
  },
  {
   "cell_type": "code",
   "execution_count": 31,
   "id": "eeacc66f",
   "metadata": {},
   "outputs": [],
   "source": [
    "model = LogisticRegression()\n",
    "model.fit(features_train, target_train) \n",
    "predictions_valid = model.predict(features_valid) \n",
    "predict = model.predict_proba(features_valid)\n",
    "predict_lr =   predict[:, 1]\n",
    "f1_lr = f1_score(target_valid, predictions_valid)\n",
    "roc_score_lr = roc_auc_score(target_valid, predict_lr)"
   ]
  },
  {
   "cell_type": "code",
   "execution_count": 32,
   "id": "1ef1f9e1",
   "metadata": {},
   "outputs": [
    {
     "name": "stdout",
     "output_type": "stream",
     "text": [
      "Наилучший результат f1_score равен 0.10\n",
      "ROC_AUC_score равен 0.68\n"
     ]
    }
   ],
   "source": [
    "print(\"Наилучший результат f1_score равен {:.2f}\".format(f1_lr))\n",
    "print(\"ROC_AUC_score равен {:.2f}\".format(roc_score_lr))  "
   ]
  },
  {
   "cell_type": "markdown",
   "id": "5844e6a0",
   "metadata": {},
   "source": [
    "Лучшая модель - Случайный лес\n",
    "\n",
    "Наилучший результат f1_score равен 0.57\n",
    "\n",
    "ROC_AUC_score равен 0.83\n",
    "\n",
    "Максимальная глубина равна 14\n",
    "\n",
    "Количество деревьев равно 40"
   ]
  },
  {
   "cell_type": "markdown",
   "id": "763c3cf3",
   "metadata": {},
   "source": [
    "Проверяем лучшую модель на тестовых данных"
   ]
  },
  {
   "cell_type": "code",
   "execution_count": 52,
   "id": "9174bacf",
   "metadata": {},
   "outputs": [
    {
     "name": "stdout",
     "output_type": "stream",
     "text": [
      "Наилучший результат f1_score равен 0.18\n",
      "ROC_AUC_score равен 0.85\n"
     ]
    }
   ],
   "source": [
    "f1_randomforest_test = 0\n",
    "roc_randomforest_test = 0\n",
    "\n",
    "for estimators in range(10,50,10):\n",
    "    for depth in range(1, 15):\n",
    "        model = RandomForestClassifier(random_state=12345, n_estimators=estimators,  max_depth=depth)\n",
    "        model.fit(features_train, target_train) \n",
    "        predictions_test = model.predict(features_test) \n",
    "        \n",
    "        predict = model.predict_proba(features_test)\n",
    "        predict_randomforest_test =  predict[:, 1]\n",
    "        f1 = f1_score(target_valid, predictions_test)\n",
    "        roc_score = roc_auc_score(target_test, predict_randomforest_test)\n",
    "        \n",
    "        if f1 > f1_randomforest_test:\n",
    "            f1_randomforest_test = f1\n",
    "            roc_randomforest_test = roc_score\n",
    "            \n",
    "\n",
    "print(\"Наилучший результат f1_score равен {:.2f}\".format(f1_randomforest_test))\n",
    "print(\"ROC_AUC_score равен {:.2f}\".format(roc_randomforest_test)) "
   ]
  },
  {
   "cell_type": "markdown",
   "id": "3d1f9c43",
   "metadata": {},
   "source": [
    "Получили удручающий результат еще хуже ем на обучающей выборке. Это свзано с тем что данные не сбалансированы и не маштабированны"
   ]
  },
  {
   "cell_type": "markdown",
   "id": "42cb55a3",
   "metadata": {},
   "source": [
    "#### Маштабирование признаков"
   ]
  },
  {
   "cell_type": "markdown",
   "id": "cda336fe",
   "metadata": {},
   "source": [
    "чтобы привести данные к балансу используем один из способов - приведение к одному масштабу при помощи StandardScaler из  библиотеки sklearn"
   ]
  },
  {
   "cell_type": "code",
   "execution_count": 58,
   "id": "39fe8455",
   "metadata": {},
   "outputs": [
    {
     "data": {
      "text/html": [
       "<div>\n",
       "<style scoped>\n",
       "    .dataframe tbody tr th:only-of-type {\n",
       "        vertical-align: middle;\n",
       "    }\n",
       "\n",
       "    .dataframe tbody tr th {\n",
       "        vertical-align: top;\n",
       "    }\n",
       "\n",
       "    .dataframe thead th {\n",
       "        text-align: right;\n",
       "    }\n",
       "</style>\n",
       "<table border=\"1\" class=\"dataframe\">\n",
       "  <thead>\n",
       "    <tr style=\"text-align: right;\">\n",
       "      <th></th>\n",
       "      <th>creditscore</th>\n",
       "      <th>age</th>\n",
       "      <th>tenure</th>\n",
       "      <th>balance</th>\n",
       "      <th>numofproducts</th>\n",
       "      <th>hascrcard</th>\n",
       "      <th>isactivemember</th>\n",
       "      <th>estimatedsalary</th>\n",
       "      <th>gender</th>\n",
       "      <th>geography_cat</th>\n",
       "    </tr>\n",
       "  </thead>\n",
       "  <tbody>\n",
       "    <tr>\n",
       "      <th>492</th>\n",
       "      <td>639.0</td>\n",
       "      <td>38.0</td>\n",
       "      <td>4.0</td>\n",
       "      <td>81550.940000</td>\n",
       "      <td>2</td>\n",
       "      <td>0</td>\n",
       "      <td>1</td>\n",
       "      <td>118974.770000</td>\n",
       "      <td>0</td>\n",
       "      <td>0</td>\n",
       "    </tr>\n",
       "    <tr>\n",
       "      <th>6655</th>\n",
       "      <td>554.0</td>\n",
       "      <td>44.0</td>\n",
       "      <td>5.0</td>\n",
       "      <td>85304.269999</td>\n",
       "      <td>1</td>\n",
       "      <td>1</td>\n",
       "      <td>1</td>\n",
       "      <td>58076.520001</td>\n",
       "      <td>1</td>\n",
       "      <td>0</td>\n",
       "    </tr>\n",
       "    <tr>\n",
       "      <th>4287</th>\n",
       "      <td>714.0</td>\n",
       "      <td>53.0</td>\n",
       "      <td>1.0</td>\n",
       "      <td>99141.859999</td>\n",
       "      <td>1</td>\n",
       "      <td>1</td>\n",
       "      <td>1</td>\n",
       "      <td>72496.050001</td>\n",
       "      <td>1</td>\n",
       "      <td>1</td>\n",
       "    </tr>\n",
       "    <tr>\n",
       "      <th>42</th>\n",
       "      <td>556.0</td>\n",
       "      <td>61.0</td>\n",
       "      <td>2.0</td>\n",
       "      <td>117419.350000</td>\n",
       "      <td>1</td>\n",
       "      <td>1</td>\n",
       "      <td>1</td>\n",
       "      <td>94153.830000</td>\n",
       "      <td>0</td>\n",
       "      <td>0</td>\n",
       "    </tr>\n",
       "    <tr>\n",
       "      <th>8178</th>\n",
       "      <td>707.0</td>\n",
       "      <td>46.0</td>\n",
       "      <td>7.0</td>\n",
       "      <td>127476.730000</td>\n",
       "      <td>2</td>\n",
       "      <td>1</td>\n",
       "      <td>1</td>\n",
       "      <td>146011.550000</td>\n",
       "      <td>0</td>\n",
       "      <td>0</td>\n",
       "    </tr>\n",
       "  </tbody>\n",
       "</table>\n",
       "</div>"
      ],
      "text/plain": [
       "      creditscore   age  tenure        balance  numofproducts  hascrcard  \\\n",
       "492         639.0  38.0     4.0   81550.940000              2          0   \n",
       "6655        554.0  44.0     5.0   85304.269999              1          1   \n",
       "4287        714.0  53.0     1.0   99141.859999              1          1   \n",
       "42          556.0  61.0     2.0  117419.350000              1          1   \n",
       "8178        707.0  46.0     7.0  127476.730000              2          1   \n",
       "\n",
       "      isactivemember  estimatedsalary  gender  geography_cat  \n",
       "492                1    118974.770000       0              0  \n",
       "6655               1     58076.520001       1              0  \n",
       "4287               1     72496.050001       1              1  \n",
       "42                 1     94153.830000       0              0  \n",
       "8178               1    146011.550000       0              0  "
      ]
     },
     "execution_count": 58,
     "metadata": {},
     "output_type": "execute_result"
    }
   ],
   "source": [
    "numeric = ['creditscore', 'age', 'tenure', 'balance', 'creditscore', 'estimatedsalary']\n",
    "\n",
    "\n",
    "scaler = StandardScaler()\n",
    "\n",
    "pd.options.mode.chained_assignment = None\n",
    "\n",
    "features_train[numeric] = scaler.transform(features_train[numeric])\n",
    "features_valid[numeric] = scaler.transform(features_valid[numeric])\n",
    "features_train[numeric] = scaler.transform(features_train[numeric])\n",
    "pd.options.mode.chained_assignment = None\n",
    "\n",
    "features_train.head(5)"
   ]
  },
  {
   "cell_type": "markdown",
   "id": "cb2dda98",
   "metadata": {},
   "source": [
    "Увеличение выборки необходимо для того чтобы уровнять классы. Для этого напишем функцию."
   ]
  },
  {
   "cell_type": "code",
   "execution_count": 59,
   "id": "be5ec2f2",
   "metadata": {},
   "outputs": [],
   "source": [
    "def upsample(features, target, repeat):\n",
    "    features_zeros = features[target == 0]\n",
    "    features_ones = features[target == 1]\n",
    "    target_zeros = target[target == 0]\n",
    "    target_ones = target[target == 1]\n",
    "\n",
    "    features_upsampled = pd.concat([features_zeros] + [features_ones] * repeat)\n",
    "    target_upsampled = pd.concat([target_zeros] + [target_ones] * repeat)\n",
    "    \n",
    "    features_upsampled, target_upsampled = shuffle(\n",
    "        features_upsampled, target_upsampled, random_state=12345)\n",
    "    \n",
    "    return features_upsampled, target_upsampled\n",
    "\n",
    "features_upsampled, target_upsampled = upsample(features_train, target_train, 4)"
   ]
  },
  {
   "cell_type": "code",
   "execution_count": 60,
   "id": "52e9211e",
   "metadata": {},
   "outputs": [
    {
     "name": "stdout",
     "output_type": "stream",
     "text": [
      "Количество не ушедших пользователей в обучающей выборке 4781шт, это 49.5% от размера выборки\n",
      "Количество ушедших пользователей в обучающей выборке 4876шт, это 50.5% от размера выборки\n"
     ]
    }
   ],
   "source": [
    "print(\n",
    "    'Количество не ушедших пользователей в обучающей выборке {}шт, это {:.1%} от размера выборки'\n",
    "    .format(target_upsampled[target_upsampled == 0].count(), \n",
    "            len(target_upsampled[target_upsampled == 0])/len(target_upsampled)))\n",
    "print(\n",
    "    'Количество ушедших пользователей в обучающей выборке {}шт, это {:.1%} от размера выборки'\n",
    "    .format(target_upsampled.sum(), target_upsampled.mean()))"
   ]
  },
  {
   "cell_type": "markdown",
   "id": "aa8cce0c",
   "metadata": {},
   "source": [
    "Уменьшение выборки используется для того чтобы уменьшить тот класс, которого больше."
   ]
  },
  {
   "cell_type": "code",
   "execution_count": 61,
   "id": "9ee3f9cf",
   "metadata": {},
   "outputs": [],
   "source": [
    "def downsample(features, target, fraction):\n",
    "    features_zeros = features[target == 0]\n",
    "    features_ones = features[target == 1]\n",
    "    target_zeros = target[target == 0]\n",
    "    target_ones = target[target == 1]\n",
    "\n",
    "    features_downsampled = pd.concat(\n",
    "        [features_zeros.sample(frac=fraction, random_state=12345)] + [features_ones])\n",
    "    target_downsampled = pd.concat(\n",
    "        [target_zeros.sample(frac=fraction, random_state=12345)] + [target_ones])\n",
    "    \n",
    "    features_downsampled, target_downsampled = shuffle(\n",
    "        features_downsampled, target_downsampled, random_state=12345)\n",
    "    \n",
    "    return features_downsampled, target_downsampled\n",
    "\n",
    "features_downsampled, target_downsampled = downsample(features_train, target_train, 0.255)\n"
   ]
  },
  {
   "cell_type": "code",
   "execution_count": 62,
   "id": "e1c676de",
   "metadata": {},
   "outputs": [
    {
     "name": "stdout",
     "output_type": "stream",
     "text": [
      "Количество не ушедших пользователей в обучающей выборке 1219шт, это 50.0% от размера выборки\n",
      "Количество ушедших пользователей в обучающей выборке 1219шт, это 50.0% от размера выборки\n"
     ]
    }
   ],
   "source": [
    "print(\n",
    "    'Количество не ушедших пользователей в обучающей выборке {}шт, это {:.1%} от размера выборки'\n",
    "    .format(target_downsampled[target_downsampled == 0].count(), \n",
    "            len(target_downsampled[target_downsampled == 0])/len(target_downsampled)))\n",
    "print(\n",
    "    'Количество ушедших пользователей в обучающей выборке {}шт, это {:.1%} от размера выборки'\n",
    "    .format(target_downsampled.sum(), target_downsampled.mean()))"
   ]
  },
  {
   "cell_type": "markdown",
   "id": "27f7abdb",
   "metadata": {},
   "source": [
    "#### Вывод"
   ]
  },
  {
   "cell_type": "markdown",
   "id": "edb9d619",
   "metadata": {},
   "source": [
    "1) Выяснили что, перед нами задача бинарной классификации. Выделили целевой признак - 'exited', признаки - оставшиеся столбцы.\n",
    "\n",
    "Разделили выборку на: обучающую, валидную и тестовую.\n",
    "\n",
    "2) Обучили модели:\n",
    "   - Дерево Решений\n",
    "   - Случайный лес\n",
    "   - Логистическая регрессия\n",
    "   \n",
    "3)  Самый наилучший результата показала модель случайного леса с f1_score равным 0.57, что близко к требуемому значению и ROC_AUC_score равный 0.83, что говорит что модель не совсем плохо предсказывает верные значения.  \n",
    "\n",
    "4) Протестировали лучшую модель на тестовых данных, получили плохие результаты.\n",
    "\n",
    "5) Привели данные к одному масштабу про помощи StandardScaler из библиотеки sklearn\n",
    "\n",
    "6) Написали функции для того чтобы привести классы к одному масштабу"
   ]
  },
  {
   "cell_type": "markdown",
   "id": "a9c86932",
   "metadata": {},
   "source": [
    "### Обучение моделей сучетом баланса классов"
   ]
  },
  {
   "cell_type": "markdown",
   "id": "a5959638",
   "metadata": {},
   "source": [
    "#### Дерево Решений"
   ]
  },
  {
   "cell_type": "markdown",
   "id": "e75661b5",
   "metadata": {},
   "source": [
    "Обучим модель на тестовой выборке, тк данные не сбалансированы используем параметр class_weight со значением 'balanced'"
   ]
  },
  {
   "cell_type": "code",
   "execution_count": 63,
   "id": "4314fc54",
   "metadata": {},
   "outputs": [
    {
     "name": "stdout",
     "output_type": "stream",
     "text": [
      "Наилучший результат f1_score равен 0.56\n",
      "Максимальная глубина равна 6\n",
      "ROC_AUC_score равен 0.82\n"
     ]
    }
   ],
   "source": [
    "best_balansed_depth_tree = 0\n",
    "best_balansed_f1_tree = 0\n",
    "best_balansed_roc_tree = 0\n",
    "best_balansed_tree_model = None\n",
    "\n",
    "for depth in range(1, 17):\n",
    "    balansed_tree_model = DecisionTreeClassifier(random_state=12345, class_weight = 'balanced', max_depth=depth) \n",
    "    balansed_tree_model.fit(features_train, target_train) \n",
    "    balansed_tree_predictions_valid = balansed_tree_model.predict(features_valid)\n",
    "    \n",
    "    predict_balansed_tree = balansed_tree_model.predict_proba(features_valid)\n",
    "    predict_balansed_tree_1 =  predict_balansed_tree[:, 1]\n",
    "    f1 = f1_score(target_valid, balansed_tree_predictions_valid)\n",
    "    roc_score = roc_auc_score(target_valid, predict_balansed_tree_1)\n",
    "\n",
    "    if f1 > best_balansed_f1_tree:\n",
    "        best_balansed_f1_tree = f1\n",
    "        best_balansed_depth_tree = depth\n",
    "        best_balansed_roc_tree = roc_score\n",
    "        best_balansed_tree_model = balansed_tree_model\n",
    "\n",
    "print(\"Наилучший результат f1_score равен {:.2f}\".format(best_balansed_f1_tree))\n",
    "print(\"Максимальная глубина равна {}\".format(best_balansed_depth_tree))\n",
    "print(\"ROC_AUC_score равен {:.2f}\".format(best_balansed_roc_tree))"
   ]
  },
  {
   "cell_type": "markdown",
   "id": "960b4d78",
   "metadata": {},
   "source": [
    "Проверяем модель на валибныхданных с балансированными данными методом upsempling"
   ]
  },
  {
   "cell_type": "code",
   "execution_count": 64,
   "id": "dd2bc39f",
   "metadata": {},
   "outputs": [
    {
     "name": "stdout",
     "output_type": "stream",
     "text": [
      "Наилучший результат f1_score равен 0.49\n",
      "Максимальная глубина равна 16\n",
      "ROC_AUC_score равен 0.70\n"
     ]
    }
   ],
   "source": [
    "best_depth_tree_upsampled = 0\n",
    "best_f1_tree_upsampled = 0\n",
    "best_roc_tree_upsampled = 0\n",
    "best_upsampled_tree = None\n",
    "\n",
    "for depth in range(1, 17):\n",
    "    upsampled_model = DecisionTreeClassifier(random_state=12345, max_depth=depth) \n",
    "    upsampled_model.fit(features_upsampled, target_upsampled) \n",
    "    upsampled_predictions_valid = upsampled_model.predict(features_valid)\n",
    "    \n",
    "    upsampled_model_predict = upsampled_model.predict_proba(features_valid)\n",
    "    upsampled_predict_tree =   upsampled_model_predict[:, 1]\n",
    "    f1_upsampled = f1_score(target_valid, upsampled_predictions_valid)\n",
    "    roc_score_upsampled = roc_auc_score(target_valid, upsampled_predict_tree)\n",
    "\n",
    "    if f1_upsampled > best_f1_tree_upsampled:\n",
    "        best_f1_tree_upsampled = f1\n",
    "        best_depth_tree_upsampled = depth\n",
    "        best_roc_tree_upsampled = roc_score_upsampled\n",
    "        best_upsampled_tree = upsampled_model\n",
    "\n",
    "print(\"Наилучший результат f1_score равен {:.2f}\".format(best_f1_tree_upsampled))\n",
    "print(\"Максимальная глубина равна {}\".format(best_depth_tree_upsampled))\n",
    "print(\"ROC_AUC_score равен {:.2f}\".format(best_roc_tree_upsampled))"
   ]
  },
  {
   "cell_type": "markdown",
   "id": "e4154979",
   "metadata": {},
   "source": [
    "Модель не улучшила результат и показала f1_score - 0.49 ниже чем  тестовая сбалансированная модель "
   ]
  },
  {
   "cell_type": "markdown",
   "id": "b897bac6",
   "metadata": {},
   "source": [
    "Проверяем модель на валибныхданных с балансированными данными методом downsempling"
   ]
  },
  {
   "cell_type": "code",
   "execution_count": 65,
   "id": "b2183468",
   "metadata": {},
   "outputs": [
    {
     "name": "stdout",
     "output_type": "stream",
     "text": [
      "Наилучший результат f1_score равен 0.49\n",
      "Максимальная глубина равна 16\n",
      "ROC_AUC_score равен 0.70\n"
     ]
    }
   ],
   "source": [
    "best_depth_tree_downsampled = 0\n",
    "best_f1_tree_downsampled = 0\n",
    "best_roc_tree_downsampled = 0\n",
    "best_downsampled_tree = None\n",
    "\n",
    "for depth in range(1, 17):\n",
    "    downsampled_model = DecisionTreeClassifier(random_state=12345, max_depth=depth) \n",
    "    downsampled_model.fit(features_upsampled, target_upsampled) \n",
    "    downsampled_predictions_valid = downsampled_model.predict(features_valid)\n",
    "    \n",
    "    downsampled_predict = downsampled_model.predict_proba(features_valid)\n",
    "    downsampled_predict_tree =  downsampled_predict[:, 1]\n",
    "    f1_downsampled = f1_score(target_valid, downsampled_predictions_valid)\n",
    "    roc_score_downsampled = roc_auc_score(target_valid, downsampled_predict_tree)\n",
    "\n",
    "    if f1_upsampled > best_f1_tree_downsampled:\n",
    "        best_f1_tree_downsampled = f1\n",
    "        best_depth_tree_downsampled = depth\n",
    "        best_roc_tree_downsampled = roc_score_downsampled\n",
    "        best_downsampled_tree = downsampled_model\n",
    "\n",
    "print(\"Наилучший результат f1_score равен {:.2f}\".format(best_f1_tree_downsampled))\n",
    "print(\"Максимальная глубина равна {}\".format(best_depth_tree_downsampled))\n",
    "print(\"ROC_AUC_score равен {:.2f}\".format(best_roc_tree_downsampled))"
   ]
  },
  {
   "cell_type": "markdown",
   "id": "9f9ae0fb",
   "metadata": {},
   "source": [
    "Модель так же не улучшила результат"
   ]
  },
  {
   "cell_type": "markdown",
   "id": "e4789f20",
   "metadata": {},
   "source": [
    "#### Модель Случайный лес"
   ]
  },
  {
   "cell_type": "markdown",
   "id": "e7bb1099",
   "metadata": {},
   "source": [
    "Обучим модель на тестовой выборке, тк данные не сбалансированы используем параметр class_weight со значением 'balanced'"
   ]
  },
  {
   "cell_type": "code",
   "execution_count": 66,
   "id": "0dbf4e5a",
   "metadata": {},
   "outputs": [
    {
     "name": "stdout",
     "output_type": "stream",
     "text": [
      "Наилучший результат f1_score равен 0.58\n",
      "ROC_AUC_score равен 0.85\n",
      "Максимальная глубина равна 11\n",
      "Количество деревьев равно 40\n"
     ]
    }
   ],
   "source": [
    "best_balansed_f1_randomforest = 0\n",
    "best_balansed_result_randomforest = 0\n",
    "best_balansed_estimators = 0\n",
    "best_balansed_depth_randomforest = 0\n",
    "best_balansed_roc_randomforest = 0\n",
    "best_balansed_model = None\n",
    "\n",
    "for estimators in range(10,50,10):\n",
    "    for depth in range(1, 15):\n",
    "        balansed_random_forest_model = RandomForestClassifier(random_state=12345, n_estimators=estimators, \n",
    "                                                              class_weight='balanced', max_depth=depth)\n",
    "        balansed_random_forest_model.fit(features_train, target_train) \n",
    "        balansed_predictions_valid = balansed_random_forest_model.predict(features_valid) \n",
    "        \n",
    "        balansed_predict = balansed_random_forest_model.predict_proba(features_valid)\n",
    "        predict_balansed_randomforest =  balansed_predict[:, 1]\n",
    "        f1 = f1_score(target_valid, balansed_predictions_valid)\n",
    "        roc_score = roc_auc_score(target_valid, predict_balansed_randomforest)\n",
    "        \n",
    "        if f1 > best_balansed_f1_randomforest:\n",
    "            best_balansed_f1_randomforest = f1\n",
    "            best_balansed_roc_randomforest = roc_score\n",
    "            best_balansed_estimators = estimators\n",
    "            best_balansed_depth_randomforest = depth \n",
    "            balansed_random_forest_model = best_balansed_model\n",
    "            \n",
    "            \n",
    "print(\"Наилучший результат f1_score равен {:.2f}\".format(best_balansed_f1_randomforest))\n",
    "print(\"ROC_AUC_score равен {:.2f}\".format(best_balansed_roc_randomforest))  \n",
    "print(\"Максимальная глубина равна {}\".format(best_balansed_depth_randomforest))\n",
    "print(\"Количество деревьев равно {}\".format(best_balansed_estimators))            "
   ]
  },
  {
   "cell_type": "markdown",
   "id": "ff9473de",
   "metadata": {},
   "source": [
    "Проверяем модель на валибныхданных с балансированными данными методом upsempling"
   ]
  },
  {
   "cell_type": "code",
   "execution_count": 67,
   "id": "a52a7c76",
   "metadata": {},
   "outputs": [
    {
     "name": "stdout",
     "output_type": "stream",
     "text": [
      "Наилучший результат f1_score равен 0.60\n",
      "ROC_AUC_score равен 0.85\n",
      "Максимальная глубина равна 12\n",
      "Количество деревьев равно 30\n"
     ]
    },
    {
     "data": {
      "text/plain": [
       "RandomForestClassifier(max_depth=12, n_estimators=30, random_state=12345)"
      ]
     },
     "metadata": {},
     "output_type": "display_data"
    }
   ],
   "source": [
    "best_upsampled_f1_randomforest = 0\n",
    "best_upsampled_result_randomforest = 0\n",
    "best_upsampled_estimators = 0\n",
    "best_upsampled_depth_randomforest = 0\n",
    "best_upsampled_roc_randomforest = 0\n",
    "best_upsampled_model = None\n",
    "\n",
    "for estimators in range(10,50,10):\n",
    "    for depth in range(1, 15):\n",
    "        upsampled_random_forest_model = RandomForestClassifier(random_state=12345, n_estimators=estimators, \n",
    "                                                               max_depth=depth)\n",
    "        upsampled_random_forest_model.fit(features_upsampled, target_upsampled) \n",
    "        upsampled_predictions_valid = upsampled_random_forest_model.predict(features_valid) \n",
    "        \n",
    "        upsampled_predict = upsampled_random_forest_model.predict_proba(features_valid)\n",
    "        predict_upsampled_randomforest =  upsampled_predict[:, 1]\n",
    "        f1 = f1_score(target_valid, upsampled_predictions_valid)\n",
    "        roc_score = roc_auc_score(target_valid, predict_upsampled_randomforest)\n",
    "        \n",
    "        if f1 > best_upsampled_f1_randomforest:\n",
    "            best_upsampled_f1_randomforest = f1\n",
    "            best_upsampled_roc_randomforest = roc_score\n",
    "            best_upsampled_estimators = estimators\n",
    "            best_upsampled_depth_randomforest = depth \n",
    "            best_upsampled_model = upsampled_random_forest_model\n",
    "            \n",
    "print(\"Наилучший результат f1_score равен {:.2f}\".format(best_upsampled_f1_randomforest))\n",
    "print(\"ROC_AUC_score равен {:.2f}\".format(best_upsampled_roc_randomforest))  \n",
    "print(\"Максимальная глубина равна {}\".format(best_upsampled_depth_randomforest))\n",
    "print(\"Количество деревьев равно {}\".format(best_upsampled_estimators))  \n"
   ]
  },
  {
   "cell_type": "markdown",
   "id": "2552c01a",
   "metadata": {},
   "source": [
    "Модель сбалансированная метотодм upsempling показала результаты лучше чем  модель с параметром class_weight со значением 'balanced'"
   ]
  },
  {
   "cell_type": "markdown",
   "id": "426c2b06",
   "metadata": {},
   "source": [
    "Проверяем модель на валибныхданных с балансированными данными методом downsampling"
   ]
  },
  {
   "cell_type": "code",
   "execution_count": 68,
   "id": "328e6c54",
   "metadata": {},
   "outputs": [
    {
     "name": "stdout",
     "output_type": "stream",
     "text": [
      "Наилучший результат f1_score равен 0.57\n",
      "ROC_AUC_score равен 0.84\n",
      "Максимальная глубина равна 14\n",
      "Количество деревьев равно 30\n"
     ]
    }
   ],
   "source": [
    "best_downsampled_f1_randomforest = 0\n",
    "best_downsampled_result_randomforest = 0\n",
    "best_downsampled_estimators = 0\n",
    "best_downsampled_depth_randomforest = 0\n",
    "best_downsampled_roc_randomforest = 0\n",
    "best_downsampled_model = None\n",
    "\n",
    "for estimators in range(10,50,10):\n",
    "    for depth in range(1, 15):\n",
    "        downsampled_random_forest_model = RandomForestClassifier(random_state=12345, n_estimators=estimators, \n",
    "                                                               max_depth=depth)\n",
    "        downsampled_random_forest_model.fit(features_downsampled, target_downsampled) \n",
    "        downsampled_predictions_valid = downsampled_random_forest_model.predict(features_valid) \n",
    "        \n",
    "        downsampled_predict = downsampled_random_forest_model.predict_proba(features_valid)\n",
    "        predict_downsampled_randomforest =  downsampled_predict[:, 1]\n",
    "        f1 = f1_score(target_valid, downsampled_predictions_valid)\n",
    "        roc_score = roc_auc_score(target_valid, predict_downsampled_randomforest)\n",
    "        \n",
    "        if f1 > best_downsampled_f1_randomforest:\n",
    "            best_downsampled_f1_randomforest = f1\n",
    "            best_downsampled_roc_randomforest = roc_score\n",
    "            best_downsampled_estimators = estimators\n",
    "            best_downsampled_depth_randomforest = depth \n",
    "            best_downsampled_model = downsampled_random_forest_model\n",
    "            \n",
    "print(\"Наилучший результат f1_score равен {:.2f}\".format(best_downsampled_f1_randomforest))\n",
    "print(\"ROC_AUC_score равен {:.2f}\".format(best_downsampled_roc_randomforest))  \n",
    "print(\"Максимальная глубина равна {}\".format(best_downsampled_depth_randomforest))\n",
    "print(\"Количество деревьев равно {}\".format(best_downsampled_estimators))  "
   ]
  },
  {
   "cell_type": "markdown",
   "id": "bd8db1fb",
   "metadata": {},
   "source": [
    "Модель сбалансированная метотодм downsempling показала результаты хуже чем модель с параметром class_weight со значением 'balanced'"
   ]
  },
  {
   "cell_type": "markdown",
   "id": "ec53c2ad",
   "metadata": {},
   "source": [
    "#### Линейная регрессия"
   ]
  },
  {
   "cell_type": "markdown",
   "id": "1e393431",
   "metadata": {},
   "source": [
    "Обучим модель на тестовой выборке используя параметры solver='liblinear', class_weight со значением 'balanced'"
   ]
  },
  {
   "cell_type": "code",
   "execution_count": 80,
   "id": "92845897",
   "metadata": {},
   "outputs": [
    {
     "name": "stdout",
     "output_type": "stream",
     "text": [
      "Наилучший результат f1_score равен 0.44\n",
      "ROC_AUC_score равен 0.72\n"
     ]
    }
   ],
   "source": [
    "balansed_lr_model = LogisticRegression(solver='liblinear', class_weight='balanced', random_state=12345)\n",
    "balansed_lr_model.fit(features_train, target_train) \n",
    "balansed_predictions_valid = balansed_lr_model.predict(features_valid) \n",
    "balansed_predict = balansed_lr_model.predict_proba(features_valid)\n",
    "balansed_predict_lr =   balansed_predict[:, 1]\n",
    "balansed_f1_lr = f1_score(target_valid, balansed_predictions_valid)\n",
    "balansed_roc_score_lr = roc_auc_score(target_valid, balansed_predict_lr)\n",
    "\n",
    "\n",
    "\n",
    "print(\"Наилучший результат f1_score равен {:.2f}\".format(balansed_f1_lr))\n",
    "print(\"ROC_AUC_score равен {:.2f}\".format(balansed_roc_score_lr))  "
   ]
  },
  {
   "cell_type": "markdown",
   "id": "7b3fcadd",
   "metadata": {},
   "source": [
    "Проверяем модель на валибныхданных с балансированными данными методом upsempling"
   ]
  },
  {
   "cell_type": "code",
   "execution_count": 81,
   "id": "d9183ba0",
   "metadata": {},
   "outputs": [
    {
     "name": "stdout",
     "output_type": "stream",
     "text": [
      "Наилучший результат f1_score равен 0.43\n",
      "ROC_AUC_score равен 0.51\n"
     ]
    }
   ],
   "source": [
    "upsampled_lr_model = LogisticRegression(solver='liblinear', random_state=12345)\n",
    "upsampled_lr_model.fit(features_upsampled, target_upsampled) \n",
    "upsampled_lr_predictions_valid = upsampled_lr_model.predict(features_valid) \n",
    "upsampled_lr_predict = upsampled_lr_model.predict_proba(features_valid)\n",
    "upsampled_lr_predict_lr =   predict[:, 1]\n",
    "upsampled_f1_lr = f1_score(target_valid, upsampled_lr_predictions_valid)\n",
    "upsampled_roc_score_lr = roc_auc_score(target_valid, upsampled_lr_predict_lr)\n",
    "\n",
    "print(\"Наилучший результат f1_score равен {:.2f}\".format(upsampled_f1_lr))\n",
    "print(\"ROC_AUC_score равен {:.2f}\".format(upsampled_roc_score_lr))  "
   ]
  },
  {
   "cell_type": "markdown",
   "id": "567ace17",
   "metadata": {},
   "source": [
    "Модель сбалансированная метотодм upsempling показала результаты хуже чем изначальная модель "
   ]
  },
  {
   "cell_type": "markdown",
   "id": "5dbd09dc",
   "metadata": {},
   "source": [
    "Проверяем модель на валибныхданных с балансированными данными методом downsempling"
   ]
  },
  {
   "cell_type": "code",
   "execution_count": 82,
   "id": "766e3975",
   "metadata": {},
   "outputs": [
    {
     "name": "stdout",
     "output_type": "stream",
     "text": [
      "Наилучший результат f1_score равен 0.43\n",
      "ROC_AUC_score равен 0.72\n"
     ]
    }
   ],
   "source": [
    "downsampled_lr_model = LogisticRegression(solver='liblinear', random_state=12345)\n",
    "downsampled_lr_model.fit(features_downsampled, target_downsampled) \n",
    "downsampled_lr_predictions_valid = downsampled_lr_model.predict(features_valid) \n",
    "downsampled_lr_predict = downsampled_lr_model.predict_proba(features_valid)\n",
    "downsampled_lr_predict_lr = downsampled_lr_predict[:, 1]\n",
    "downsampled_f1_lr = f1_score(target_valid, downsampled_lr_predictions_valid)\n",
    "downsampled_roc_score_lr = roc_auc_score(target_valid, downsampled_lr_predict_lr)\n",
    "\n",
    "print(\"Наилучший результат f1_score равен {:.2f}\".format(downsampled_f1_lr))\n",
    "print(\"ROC_AUC_score равен {:.2f}\".format(downsampled_roc_score_lr))  "
   ]
  },
  {
   "cell_type": "markdown",
   "id": "754219d4",
   "metadata": {},
   "source": [
    "Модель сбалансированная метотодм downsempling показала результаты хуже чем изначальная модель "
   ]
  },
  {
   "cell_type": "markdown",
   "id": "98c74c2b",
   "metadata": {},
   "source": [
    "#### Вывод"
   ]
  },
  {
   "cell_type": "markdown",
   "id": "f3079ef4",
   "metadata": {},
   "source": [
    "Было обучено следующие модели машинного обучения:\n",
    "\n",
    "  - Логистическая регрессия\n",
    "  - Дерево решений\n",
    "  - Случайный лес\n",
    "  \n",
    "  \n",
    "При обучении использовали следующие методы:\n",
    "\n",
    "  - Примененили параметра class_weight = balanced\n",
    "  - Увеличили выборки методом upsampling\n",
    "  - Уменьшили выборки методом downsampling\n",
    "  \n",
    "  \n",
    "Наилучший результат  показала модель случайного леса ее F1_score равен 0.60 с ROC_AUC_score равным 0.85 с применение метода увеличение выборки методом upsampling и применение параметра class_weight = balanced.\n",
    "\n",
    "У дерева решений наилучший F1_score равен 0.56, а ROC_AUC_score равен 0.82 с применением  параметра class_weight = balanced.\n",
    "\n",
    "У логистической регресии наилучший F1_score равен f1_score равен 0.44, аROC_AUC_score равен 0.72  используя параметры solver='liblinear', class_weight со значением 'balanced'\n",
    "\n",
    "Тк в задании  порог F1_score  установлен в 0.59 смогла только модель случайного леса, поэтому на ней и будем тестировать наш тестовый набор данных.\n"
   ]
  },
  {
   "cell_type": "markdown",
   "id": "b326757d",
   "metadata": {},
   "source": [
    "### Тестирование модели"
   ]
  },
  {
   "cell_type": "markdown",
   "id": "d227aa64",
   "metadata": {},
   "source": [
    "Берем лучшую модель - Случайный лесь и проверяем ее на тестовой выборке"
   ]
  },
  {
   "cell_type": "code",
   "execution_count": 73,
   "id": "cca48043",
   "metadata": {},
   "outputs": [
    {
     "name": "stdout",
     "output_type": "stream",
     "text": [
      "Результат f1_score на тестовой выборке равен 0.61\n",
      "ROC_AUC_score на тестовой выборке равен 0.86\n"
     ]
    }
   ],
   "source": [
    "predict_test = best_upsampled_model.predict(features_test)\n",
    "predict_proba = best_upsampled_model.predict_proba(features_test)\n",
    "predict_proba_ones = predict_proba[:, 1]\n",
    "\n",
    "f1 = f1_score(target_test, predict_test)\n",
    "roc_score = roc_auc_score(target_test, predict_proba_ones)\n",
    "\n",
    "print(\"Результат f1_score на тестовой выборке равен {:.2f}\".format(f1))\n",
    "print(\"ROC_AUC_score на тестовой выборке равен {:.2f}\".format(roc_score))  \n",
    "\n",
    "\n"
   ]
  },
  {
   "cell_type": "markdown",
   "id": "a3c703e1",
   "metadata": {},
   "source": [
    "Мы получили f1_score на тестовой выборке - 0.61, который больше проходного значения,  и ROC_AUC_score - 0.86 который близко к 1.\n",
    "Значит данная модель очень хорошо предсказывает результаты"
   ]
  },
  {
   "cell_type": "markdown",
   "id": "b75a7108",
   "metadata": {},
   "source": [
    "Отобразим на диаграмме в порядке убывания параметры которые важны для предсказания уйдет клиент или нет"
   ]
  },
  {
   "cell_type": "code",
   "execution_count": 85,
   "id": "289b8987",
   "metadata": {},
   "outputs": [
    {
     "data": {
      "text/plain": [
       "<AxesSubplot:>"
      ]
     },
     "execution_count": 85,
     "metadata": {},
     "output_type": "execute_result"
    },
    {
     "data": {
      "image/png": "[encoded data removed]",
      "text/plain": [
       "<Figure size 864x360 with 1 Axes>"
      ]
     },
     "metadata": {
      "needs_background": "light"
     },
     "output_type": "display_data"
    }
   ],
   "source": [
    "important= pd.DataFrame(\n",
    "    best_upsampled_model.feature_importances_,\n",
    "    index=features_train.columns,\n",
    "    columns=['feature importance']).sort_values('feature importance',\n",
    "                                                ascending=False)\n",
    "important.plot(kind='bar', figsize=(12,5))"
   ]
  },
  {
   "cell_type": "markdown",
   "id": "2f38e539",
   "metadata": {},
   "source": [
    "## Общий вывод"
   ]
  },
  {
   "cell_type": "markdown",
   "id": "93b644d1",
   "metadata": {},
   "source": [
    "Изучив  данные «Бета-Банка» из которого стали уходить клиенты, наша цель была спрогнозировать, уйдёт клиент из банка в ближайшее время или нет. Нужно было построить модель с предельно большим значением F1-меры (мин значение - 0.59) и дополнительно измерить AUC-ROC.\n",
    "\n",
    "Изучили столбцы и типы данных, привели названия столбцов в нижний регистр.\n",
    "Проверили дубликаты - дубликатов нет. Проверили налиие пропусков. Оказалось их 909 в столбце 'tenure'. Это мого произойти из за ошибок привыгрузке. Удалить пропуски можно, но это может сказаться на обучении и проверки моделей. По этому есть смысл заполнить пропуски. Заполнили датафрем средним медианным значением.\n",
    "\n",
    "Видно что присутствует дисбаланс классов. Киентов которые ушли - 20%.  В дальнейшем   сбалансировали  классы для обучения и тестирования моделей\n",
    "\n",
    "Методом One-Hot Encoding перевели категориальные значени в столбце 'gender' в численные. Используя порядковое кодирование привели значения в стобце 'geography' в численные.\n",
    "\n",
    "Удалили столбцы RowNumber, CustomerId, Surname так как для дальнейшего анализа они нам будут не нужны.\n",
    "\n",
    "Тк нам необходимо выяснить уйдет клиент или нет, то перед нами задача бинарной классификации. Целевой признак - 'exited', признаки - оставшиеся столбцы. разделили выборку на: обучающую, валидную и тестовую\n",
    "\n",
    "Обучили следующие модели классификации на обучающей выборке:\n",
    "\n",
    "- Дерево Решений\n",
    "- Случайный лес\n",
    "- Логистическая регрессия\n",
    "\n",
    "Самый наилучший результата показала модель случайного леса с f1_score равным 0.57, что близко к требуемому значению и ROC_AUC_score равный 0.83, что говорит что модель не совсем плохо предсказывает верные значения.\n",
    "\n",
    "Протестировали лучшую модель на тестовых данных, получили плохие результаты.\n",
    "\n",
    "Привели данные к одному масштабу при помощи StandardScaler из библиотеки sklearn\n",
    "\n",
    "Написали функции для того чтобы привести классы к одному масштабу\n",
    "\n",
    "При обучении использовали следующие методы:\n",
    "\n",
    "  - Примененили параметра class_weight = balanced\n",
    "  - Увеличили выборки методом upsampling\n",
    "  - Уменьшили выборки методом downsampling\n",
    "  \n",
    "  \n",
    "Наилучший результат  показала модель случайного леса ее F1_score равен 0.60 с ROC_AUC_score равным 0.85 с применение метода увеличение выборки методом upsampling и применение параметра class_weight = balanced.\n",
    "\n",
    "У дерева решений наилучший F1_score равен 0.56, а ROC_AUC_score равен 0.82 с применением  параметра class_weight = balanced.\n",
    "\n",
    "У логистической регресии наилучший F1_score равен f1_score равен 0.44, аROC_AUC_score равен 0.72  используя параметры solver='liblinear', class_weight со значением 'balanced'\n",
    "\n",
    "Тк в задании  порог F1_score  установлен в 0.59 смогла только модель случайного леса, поэтому на ней и будем тестировать наш тестовый набор данных.\n",
    "\n",
    "На этапе Тестирования модели - взяи лучшую модель - Случайный лес и проверили ее на тестовой выборке.\n",
    "\n",
    "\n",
    "Мы получили f1_score на тестовой выборке - 0.61, который больше проходного значения, и ROC_AUC_score - 0.86 который близко к 1. Значит данная модель очень хорошо предсказывает результаты"
   ]
  }
 ],
 "metadata": {
  "kernelspec": {
   "display_name": "Python 3 (ipykernel)",
   "language": "python",
   "name": "python3"
  },
  "language_info": {
   "codemirror_mode": {
    "name": "ipython",
    "version": 3
   },
   "file_extension": ".py",
   "mimetype": "text/x-python",
   "name": "python",
   "nbconvert_exporter": "python",
   "pygments_lexer": "ipython3",
   "version": "3.9.7"
  },
  "toc": {
   "base_numbering": 1,
   "nav_menu": {},
   "number_sections": true,
   "sideBar": true,
   "skip_h1_title": true,
   "title_cell": "Table of Contents",
   "title_sidebar": "Contents",
   "toc_cell": false,
   "toc_position": {},
   "toc_section_display": true,
   "toc_window_display": false
  }
 },
 "nbformat": 4,
 "nbformat_minor": 5
}
