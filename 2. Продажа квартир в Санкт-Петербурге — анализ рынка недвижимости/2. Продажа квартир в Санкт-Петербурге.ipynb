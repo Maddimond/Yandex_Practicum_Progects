{
 "cells": [
  {
   "cell_type": "markdown",
   "metadata": {
    "toc": true
   },
   "source": [
    "<h1>Содержание<span class=\"tocSkip\"></span></h1>\n",
    "<div class=\"toc\"><ul class=\"toc-item\"><li><span><a href=\"#Изучение-данных-из-файла\" data-toc-modified-id=\"Изучение-данных-из-файла-1\"><span class=\"toc-item-num\">1&nbsp;&nbsp;</span>Изучение данных из файла</a></span><ul class=\"toc-item\"><li><span><a href=\"#Вывод\" data-toc-modified-id=\"Вывод-1.1\"><span class=\"toc-item-num\">1.1&nbsp;&nbsp;</span>Вывод</a></span></li></ul></li><li><span><a href=\"#Предобработка-данных\" data-toc-modified-id=\"Предобработка-данных-2\"><span class=\"toc-item-num\">2&nbsp;&nbsp;</span>Предобработка данных</a></span></li><li><span><a href=\"#Вывод\" data-toc-modified-id=\"Вывод-3\"><span class=\"toc-item-num\">3&nbsp;&nbsp;</span>Вывод</a></span></li><li><span><a href=\"#Расчёты-и-добавление-результатов-в-таблицу\" data-toc-modified-id=\"Расчёты-и-добавление-результатов-в-таблицу-4\"><span class=\"toc-item-num\">4&nbsp;&nbsp;</span>Расчёты и добавление результатов в таблицу</a></span></li><li><span><a href=\"#Вывод\" data-toc-modified-id=\"Вывод-5\"><span class=\"toc-item-num\">5&nbsp;&nbsp;</span>Вывод</a></span></li><li><span><a href=\"#Исследовательский-анализ-данных\" data-toc-modified-id=\"Исследовательский-анализ-данных-6\"><span class=\"toc-item-num\">6&nbsp;&nbsp;</span>Исследовательский анализ данных</a></span></li><li><span><a href=\"#Общий-вывод\" data-toc-modified-id=\"Общий-вывод-7\"><span class=\"toc-item-num\">7&nbsp;&nbsp;</span>Общий вывод</a></span></li><li><span><a href=\"#Чек-лист-готовности-проекта\" data-toc-modified-id=\"Чек-лист-готовности-проекта-8\"><span class=\"toc-item-num\">8&nbsp;&nbsp;</span>Чек-лист готовности проекта</a></span></li></ul></div>"
   ]
  },
  {
   "cell_type": "markdown",
   "metadata": {},
   "source": [
    "# Исследование объявлений о продаже квартир\n",
    "\n",
    "В вашем распоряжении данные сервиса Яндекс.Недвижимость — архив объявлений о продаже квартир в Санкт-Петербурге и соседних населённых пунктах за несколько лет. Нужно научиться определять рыночную стоимость объектов недвижимости. Ваша задача — установить параметры. Это позволит построить автоматизированную систему: она отследит аномалии и мошенническую деятельность. \n",
    "\n",
    "По каждой квартире на продажу доступны два вида данных. Первые вписаны пользователем, вторые получены автоматически на основе картографических данных. Например, расстояние до центра, аэропорта, ближайшего парка и водоёма. "
   ]
  },
  {
   "cell_type": "markdown",
   "metadata": {},
   "source": [
    "## Изучение данных из файла"
   ]
  },
  {
   "cell_type": "code",
   "execution_count": 1,
   "metadata": {},
   "outputs": [],
   "source": [
    "# импортируем библиотеку pandas и открываем файл\n",
    "import pandas as pd\n",
    "import numpy as np\n",
    "import matplotlib.pyplot as plt\n"
   ]
  },
  {
   "cell_type": "code",
   "execution_count": 2,
   "metadata": {},
   "outputs": [
    {
     "name": "stdout",
     "output_type": "stream",
     "text": [
      "<class 'pandas.core.frame.DataFrame'>\n",
      "RangeIndex: 23699 entries, 0 to 23698\n",
      "Data columns (total 22 columns):\n",
      " #   Column                Non-Null Count  Dtype  \n",
      "---  ------                --------------  -----  \n",
      " 0   total_images          23699 non-null  int64  \n",
      " 1   last_price            23699 non-null  float64\n",
      " 2   total_area            23699 non-null  float64\n",
      " 3   first_day_exposition  23699 non-null  object \n",
      " 4   rooms                 23699 non-null  int64  \n",
      " 5   ceiling_height        14504 non-null  float64\n",
      " 6   floors_total          23613 non-null  float64\n",
      " 7   living_area           21796 non-null  float64\n",
      " 8   floor                 23699 non-null  int64  \n",
      " 9   is_apartment          2775 non-null   object \n",
      " 10  studio                23699 non-null  bool   \n",
      " 11  open_plan             23699 non-null  bool   \n",
      " 12  kitchen_area          21421 non-null  float64\n",
      " 13  balcony               12180 non-null  float64\n",
      " 14  locality_name         23650 non-null  object \n",
      " 15  airports_nearest      18157 non-null  float64\n",
      " 16  cityCenters_nearest   18180 non-null  float64\n",
      " 17  parks_around3000      18181 non-null  float64\n",
      " 18  parks_nearest         8079 non-null   float64\n",
      " 19  ponds_around3000      18181 non-null  float64\n",
      " 20  ponds_nearest         9110 non-null   float64\n",
      " 21  days_exposition       20518 non-null  float64\n",
      "dtypes: bool(2), float64(14), int64(3), object(3)\n",
      "memory usage: 3.7+ MB\n"
     ]
    },
    {
     "data": {
      "text/html": [
       "<div>\n",
       "<style scoped>\n",
       "    .dataframe tbody tr th:only-of-type {\n",
       "        vertical-align: middle;\n",
       "    }\n",
       "\n",
       "    .dataframe tbody tr th {\n",
       "        vertical-align: top;\n",
       "    }\n",
       "\n",
       "    .dataframe thead th {\n",
       "        text-align: right;\n",
       "    }\n",
       "</style>\n",
       "<table border=\"1\" class=\"dataframe\">\n",
       "  <thead>\n",
       "    <tr style=\"text-align: right;\">\n",
       "      <th></th>\n",
       "      <th>total_images</th>\n",
       "      <th>last_price</th>\n",
       "      <th>total_area</th>\n",
       "      <th>first_day_exposition</th>\n",
       "      <th>rooms</th>\n",
       "      <th>ceiling_height</th>\n",
       "      <th>floors_total</th>\n",
       "      <th>living_area</th>\n",
       "      <th>floor</th>\n",
       "      <th>is_apartment</th>\n",
       "      <th>...</th>\n",
       "      <th>kitchen_area</th>\n",
       "      <th>balcony</th>\n",
       "      <th>locality_name</th>\n",
       "      <th>airports_nearest</th>\n",
       "      <th>cityCenters_nearest</th>\n",
       "      <th>parks_around3000</th>\n",
       "      <th>parks_nearest</th>\n",
       "      <th>ponds_around3000</th>\n",
       "      <th>ponds_nearest</th>\n",
       "      <th>days_exposition</th>\n",
       "    </tr>\n",
       "  </thead>\n",
       "  <tbody>\n",
       "    <tr>\n",
       "      <th>0</th>\n",
       "      <td>20</td>\n",
       "      <td>13000000.0</td>\n",
       "      <td>108.0</td>\n",
       "      <td>2019-03-07T00:00:00</td>\n",
       "      <td>3</td>\n",
       "      <td>2.70</td>\n",
       "      <td>16.0</td>\n",
       "      <td>51.0</td>\n",
       "      <td>8</td>\n",
       "      <td>NaN</td>\n",
       "      <td>...</td>\n",
       "      <td>25.0</td>\n",
       "      <td>NaN</td>\n",
       "      <td>Санкт-Петербург</td>\n",
       "      <td>18863.0</td>\n",
       "      <td>16028.0</td>\n",
       "      <td>1.0</td>\n",
       "      <td>482.0</td>\n",
       "      <td>2.0</td>\n",
       "      <td>755.0</td>\n",
       "      <td>NaN</td>\n",
       "    </tr>\n",
       "    <tr>\n",
       "      <th>1</th>\n",
       "      <td>7</td>\n",
       "      <td>3350000.0</td>\n",
       "      <td>40.4</td>\n",
       "      <td>2018-12-04T00:00:00</td>\n",
       "      <td>1</td>\n",
       "      <td>NaN</td>\n",
       "      <td>11.0</td>\n",
       "      <td>18.6</td>\n",
       "      <td>1</td>\n",
       "      <td>NaN</td>\n",
       "      <td>...</td>\n",
       "      <td>11.0</td>\n",
       "      <td>2.0</td>\n",
       "      <td>посёлок Шушары</td>\n",
       "      <td>12817.0</td>\n",
       "      <td>18603.0</td>\n",
       "      <td>0.0</td>\n",
       "      <td>NaN</td>\n",
       "      <td>0.0</td>\n",
       "      <td>NaN</td>\n",
       "      <td>81.0</td>\n",
       "    </tr>\n",
       "    <tr>\n",
       "      <th>2</th>\n",
       "      <td>10</td>\n",
       "      <td>5196000.0</td>\n",
       "      <td>56.0</td>\n",
       "      <td>2015-08-20T00:00:00</td>\n",
       "      <td>2</td>\n",
       "      <td>NaN</td>\n",
       "      <td>5.0</td>\n",
       "      <td>34.3</td>\n",
       "      <td>4</td>\n",
       "      <td>NaN</td>\n",
       "      <td>...</td>\n",
       "      <td>8.3</td>\n",
       "      <td>0.0</td>\n",
       "      <td>Санкт-Петербург</td>\n",
       "      <td>21741.0</td>\n",
       "      <td>13933.0</td>\n",
       "      <td>1.0</td>\n",
       "      <td>90.0</td>\n",
       "      <td>2.0</td>\n",
       "      <td>574.0</td>\n",
       "      <td>558.0</td>\n",
       "    </tr>\n",
       "    <tr>\n",
       "      <th>3</th>\n",
       "      <td>0</td>\n",
       "      <td>64900000.0</td>\n",
       "      <td>159.0</td>\n",
       "      <td>2015-07-24T00:00:00</td>\n",
       "      <td>3</td>\n",
       "      <td>NaN</td>\n",
       "      <td>14.0</td>\n",
       "      <td>NaN</td>\n",
       "      <td>9</td>\n",
       "      <td>NaN</td>\n",
       "      <td>...</td>\n",
       "      <td>NaN</td>\n",
       "      <td>0.0</td>\n",
       "      <td>Санкт-Петербург</td>\n",
       "      <td>28098.0</td>\n",
       "      <td>6800.0</td>\n",
       "      <td>2.0</td>\n",
       "      <td>84.0</td>\n",
       "      <td>3.0</td>\n",
       "      <td>234.0</td>\n",
       "      <td>424.0</td>\n",
       "    </tr>\n",
       "    <tr>\n",
       "      <th>4</th>\n",
       "      <td>2</td>\n",
       "      <td>10000000.0</td>\n",
       "      <td>100.0</td>\n",
       "      <td>2018-06-19T00:00:00</td>\n",
       "      <td>2</td>\n",
       "      <td>3.03</td>\n",
       "      <td>14.0</td>\n",
       "      <td>32.0</td>\n",
       "      <td>13</td>\n",
       "      <td>NaN</td>\n",
       "      <td>...</td>\n",
       "      <td>41.0</td>\n",
       "      <td>NaN</td>\n",
       "      <td>Санкт-Петербург</td>\n",
       "      <td>31856.0</td>\n",
       "      <td>8098.0</td>\n",
       "      <td>2.0</td>\n",
       "      <td>112.0</td>\n",
       "      <td>1.0</td>\n",
       "      <td>48.0</td>\n",
       "      <td>121.0</td>\n",
       "    </tr>\n",
       "  </tbody>\n",
       "</table>\n",
       "<p>5 rows × 22 columns</p>\n",
       "</div>"
      ],
      "text/plain": [
       "   total_images  last_price  total_area first_day_exposition  rooms  \\\n",
       "0            20  13000000.0       108.0  2019-03-07T00:00:00      3   \n",
       "1             7   3350000.0        40.4  2018-12-04T00:00:00      1   \n",
       "2            10   5196000.0        56.0  2015-08-20T00:00:00      2   \n",
       "3             0  64900000.0       159.0  2015-07-24T00:00:00      3   \n",
       "4             2  10000000.0       100.0  2018-06-19T00:00:00      2   \n",
       "\n",
       "   ceiling_height  floors_total  living_area  floor is_apartment  ...  \\\n",
       "0            2.70          16.0         51.0      8          NaN  ...   \n",
       "1             NaN          11.0         18.6      1          NaN  ...   \n",
       "2             NaN           5.0         34.3      4          NaN  ...   \n",
       "3             NaN          14.0          NaN      9          NaN  ...   \n",
       "4            3.03          14.0         32.0     13          NaN  ...   \n",
       "\n",
       "   kitchen_area  balcony    locality_name  airports_nearest  \\\n",
       "0          25.0      NaN  Санкт-Петербург           18863.0   \n",
       "1          11.0      2.0   посёлок Шушары           12817.0   \n",
       "2           8.3      0.0  Санкт-Петербург           21741.0   \n",
       "3           NaN      0.0  Санкт-Петербург           28098.0   \n",
       "4          41.0      NaN  Санкт-Петербург           31856.0   \n",
       "\n",
       "  cityCenters_nearest  parks_around3000  parks_nearest  ponds_around3000  \\\n",
       "0             16028.0               1.0          482.0               2.0   \n",
       "1             18603.0               0.0            NaN               0.0   \n",
       "2             13933.0               1.0           90.0               2.0   \n",
       "3              6800.0               2.0           84.0               3.0   \n",
       "4              8098.0               2.0          112.0               1.0   \n",
       "\n",
       "   ponds_nearest  days_exposition  \n",
       "0          755.0              NaN  \n",
       "1            NaN             81.0  \n",
       "2          574.0            558.0  \n",
       "3          234.0            424.0  \n",
       "4           48.0            121.0  \n",
       "\n",
       "[5 rows x 22 columns]"
      ]
     },
     "metadata": {},
     "output_type": "display_data"
    },
    {
     "name": "stdout",
     "output_type": "stream",
     "text": [
      "\n"
     ]
    }
   ],
   "source": [
    "#изучаем данные\n",
    "data= pd.read_csv('C:/Users/Дима/real_estate_data.csv', sep='\\t')\n",
    "data.info()\n",
    "display(data.head(5))\n",
    "print()\n"
   ]
  },
  {
   "cell_type": "markdown",
   "metadata": {},
   "source": [
    "### Вывод"
   ]
  },
  {
   "cell_type": "markdown",
   "metadata": {},
   "source": [
    "После открытия файла было обнаружено - 23699 записей. типы данных:bool(2), float64(14), int64(3), object(3). Во многих столбцах таблицы имеются пропуски связанные либо с не до конца заполненными дананными клиентами либо с ошибками привыгрузке данных.\n"
   ]
  },
  {
   "cell_type": "markdown",
   "metadata": {},
   "source": [
    "## Предобработка данных"
   ]
  },
  {
   "cell_type": "code",
   "execution_count": 3,
   "metadata": {
    "scrolled": true
   },
   "outputs": [
    {
     "name": "stdout",
     "output_type": "stream",
     "text": [
      "total_images                0\n",
      "last_price                  0\n",
      "total_area                  0\n",
      "first_day_exposition        0\n",
      "rooms                       0\n",
      "ceiling_height           9195\n",
      "floors_total               86\n",
      "living_area              1903\n",
      "floor                       0\n",
      "is_apartment            20924\n",
      "studio                      0\n",
      "open_plan                   0\n",
      "kitchen_area             2278\n",
      "balcony                 11519\n",
      "locality_name              49\n",
      "airports_nearest         5542\n",
      "cityCenters_nearest      5519\n",
      "parks_around3000         5518\n",
      "parks_nearest           15620\n",
      "ponds_around3000         5518\n",
      "ponds_nearest           14589\n",
      "days_exposition          3181\n",
      "dtype: int64\n",
      "\n",
      "\n",
      "total_images            0\n",
      "last_price              0\n",
      "total_area              0\n",
      "first_day_exposition    0\n",
      "rooms                   0\n",
      "ceiling_height          0\n",
      "floors_total            0\n",
      "living_area             0\n",
      "floor                   0\n",
      "is_apartment            0\n",
      "studio                  0\n",
      "open_plan               0\n",
      "kitchen_area            0\n",
      "balcony                 0\n",
      "locality_name           0\n",
      "airports_nearest        0\n",
      "cityCenters_nearest     0\n",
      "parks_around3000        0\n",
      "parks_nearest           0\n",
      "ponds_around3000        0\n",
      "ponds_nearest           0\n",
      "days_exposition         0\n",
      "dtype: int64\n",
      "\n",
      "1    659\n",
      "2    644\n",
      "3    448\n",
      "4     91\n",
      "5     34\n",
      "0     14\n",
      "7      6\n",
      "6      6\n",
      "9      1\n",
      "Name: rooms, dtype: int64\n",
      "\n",
      "Средняя жилая площадь 1 к кв: 17.6\n",
      "Средняя жилая площадь 2 к кв: 30.5\n",
      "Средняя жилая площадь 3 к кв: 45.0\n",
      "Средняя жилая площадь 4 к кв: 63.6\n",
      "Средняя жилая площадь 5 к кв: 91.785\n",
      "Средняя жилая площадь 6 к кв: 123.9\n",
      "Средняя жилая площадь 7 к кв: 145.0\n",
      "Средняя жилая площадь 8 к кв: 161.0\n",
      "Средняя жилая площадь 9 к кв: 179.2\n",
      "\n",
      "\n",
      "0    14\n",
      "Name: rooms, dtype: int64\n",
      "0\n",
      "\n",
      "2264\n",
      "\n",
      "\n"
     ]
    },
    {
     "data": {
      "text/html": [
       "<div>\n",
       "<style scoped>\n",
       "    .dataframe tbody tr th:only-of-type {\n",
       "        vertical-align: middle;\n",
       "    }\n",
       "\n",
       "    .dataframe tbody tr th {\n",
       "        vertical-align: top;\n",
       "    }\n",
       "\n",
       "    .dataframe thead th {\n",
       "        text-align: right;\n",
       "    }\n",
       "</style>\n",
       "<table border=\"1\" class=\"dataframe\">\n",
       "  <thead>\n",
       "    <tr style=\"text-align: right;\">\n",
       "      <th></th>\n",
       "      <th>total_images</th>\n",
       "      <th>last_price</th>\n",
       "      <th>total_area</th>\n",
       "      <th>first_day_exposition</th>\n",
       "      <th>rooms</th>\n",
       "      <th>ceiling_height</th>\n",
       "      <th>floors_total</th>\n",
       "      <th>living_area</th>\n",
       "      <th>floor</th>\n",
       "      <th>is_apartment</th>\n",
       "      <th>...</th>\n",
       "      <th>kitchen_area</th>\n",
       "      <th>balcony</th>\n",
       "      <th>locality_name</th>\n",
       "      <th>airports_nearest</th>\n",
       "      <th>cityCenters_nearest</th>\n",
       "      <th>parks_around3000</th>\n",
       "      <th>parks_nearest</th>\n",
       "      <th>ponds_around3000</th>\n",
       "      <th>ponds_nearest</th>\n",
       "      <th>days_exposition</th>\n",
       "    </tr>\n",
       "  </thead>\n",
       "  <tbody>\n",
       "    <tr>\n",
       "      <th>0</th>\n",
       "      <td>20</td>\n",
       "      <td>13000000</td>\n",
       "      <td>108.0</td>\n",
       "      <td>2019-03-07T00:00:00</td>\n",
       "      <td>3</td>\n",
       "      <td>2.70</td>\n",
       "      <td>16</td>\n",
       "      <td>51.0</td>\n",
       "      <td>8</td>\n",
       "      <td>0</td>\n",
       "      <td>...</td>\n",
       "      <td>25.0</td>\n",
       "      <td>0</td>\n",
       "      <td>Санкт-Петербург</td>\n",
       "      <td>18863</td>\n",
       "      <td>16028</td>\n",
       "      <td>1</td>\n",
       "      <td>482</td>\n",
       "      <td>2</td>\n",
       "      <td>755</td>\n",
       "      <td>0</td>\n",
       "    </tr>\n",
       "    <tr>\n",
       "      <th>1</th>\n",
       "      <td>7</td>\n",
       "      <td>3350000</td>\n",
       "      <td>40.4</td>\n",
       "      <td>2018-12-04T00:00:00</td>\n",
       "      <td>1</td>\n",
       "      <td>2.50</td>\n",
       "      <td>11</td>\n",
       "      <td>18.6</td>\n",
       "      <td>1</td>\n",
       "      <td>0</td>\n",
       "      <td>...</td>\n",
       "      <td>11.0</td>\n",
       "      <td>2</td>\n",
       "      <td>посёлок Шушары</td>\n",
       "      <td>12817</td>\n",
       "      <td>18603</td>\n",
       "      <td>0</td>\n",
       "      <td>0</td>\n",
       "      <td>0</td>\n",
       "      <td>0</td>\n",
       "      <td>81</td>\n",
       "    </tr>\n",
       "    <tr>\n",
       "      <th>2</th>\n",
       "      <td>10</td>\n",
       "      <td>5196000</td>\n",
       "      <td>56.0</td>\n",
       "      <td>2015-08-20T00:00:00</td>\n",
       "      <td>2</td>\n",
       "      <td>2.50</td>\n",
       "      <td>5</td>\n",
       "      <td>34.3</td>\n",
       "      <td>4</td>\n",
       "      <td>0</td>\n",
       "      <td>...</td>\n",
       "      <td>8.3</td>\n",
       "      <td>0</td>\n",
       "      <td>Санкт-Петербург</td>\n",
       "      <td>21741</td>\n",
       "      <td>13933</td>\n",
       "      <td>1</td>\n",
       "      <td>90</td>\n",
       "      <td>2</td>\n",
       "      <td>574</td>\n",
       "      <td>558</td>\n",
       "    </tr>\n",
       "    <tr>\n",
       "      <th>3</th>\n",
       "      <td>0</td>\n",
       "      <td>64900000</td>\n",
       "      <td>159.0</td>\n",
       "      <td>2015-07-24T00:00:00</td>\n",
       "      <td>3</td>\n",
       "      <td>2.50</td>\n",
       "      <td>14</td>\n",
       "      <td>47.4</td>\n",
       "      <td>9</td>\n",
       "      <td>0</td>\n",
       "      <td>...</td>\n",
       "      <td>103.1</td>\n",
       "      <td>0</td>\n",
       "      <td>Санкт-Петербург</td>\n",
       "      <td>28098</td>\n",
       "      <td>6800</td>\n",
       "      <td>2</td>\n",
       "      <td>84</td>\n",
       "      <td>3</td>\n",
       "      <td>234</td>\n",
       "      <td>424</td>\n",
       "    </tr>\n",
       "    <tr>\n",
       "      <th>4</th>\n",
       "      <td>2</td>\n",
       "      <td>10000000</td>\n",
       "      <td>100.0</td>\n",
       "      <td>2018-06-19T00:00:00</td>\n",
       "      <td>2</td>\n",
       "      <td>3.03</td>\n",
       "      <td>14</td>\n",
       "      <td>32.0</td>\n",
       "      <td>13</td>\n",
       "      <td>0</td>\n",
       "      <td>...</td>\n",
       "      <td>41.0</td>\n",
       "      <td>0</td>\n",
       "      <td>Санкт-Петербург</td>\n",
       "      <td>31856</td>\n",
       "      <td>8098</td>\n",
       "      <td>2</td>\n",
       "      <td>112</td>\n",
       "      <td>1</td>\n",
       "      <td>48</td>\n",
       "      <td>121</td>\n",
       "    </tr>\n",
       "  </tbody>\n",
       "</table>\n",
       "<p>5 rows × 22 columns</p>\n",
       "</div>"
      ],
      "text/plain": [
       "   total_images  last_price  total_area first_day_exposition  rooms  \\\n",
       "0            20    13000000       108.0  2019-03-07T00:00:00      3   \n",
       "1             7     3350000        40.4  2018-12-04T00:00:00      1   \n",
       "2            10     5196000        56.0  2015-08-20T00:00:00      2   \n",
       "3             0    64900000       159.0  2015-07-24T00:00:00      3   \n",
       "4             2    10000000       100.0  2018-06-19T00:00:00      2   \n",
       "\n",
       "   ceiling_height  floors_total  living_area  floor is_apartment  ...  \\\n",
       "0            2.70            16         51.0      8            0  ...   \n",
       "1            2.50            11         18.6      1            0  ...   \n",
       "2            2.50             5         34.3      4            0  ...   \n",
       "3            2.50            14         47.4      9            0  ...   \n",
       "4            3.03            14         32.0     13            0  ...   \n",
       "\n",
       "   kitchen_area  balcony    locality_name  airports_nearest  \\\n",
       "0          25.0        0  Санкт-Петербург             18863   \n",
       "1          11.0        2   посёлок Шушары             12817   \n",
       "2           8.3        0  Санкт-Петербург             21741   \n",
       "3         103.1        0  Санкт-Петербург             28098   \n",
       "4          41.0        0  Санкт-Петербург             31856   \n",
       "\n",
       "  cityCenters_nearest  parks_around3000  parks_nearest  ponds_around3000  \\\n",
       "0               16028                 1            482                 2   \n",
       "1               18603                 0              0                 0   \n",
       "2               13933                 1             90                 2   \n",
       "3                6800                 2             84                 3   \n",
       "4                8098                 2            112                 1   \n",
       "\n",
       "   ponds_nearest  days_exposition  \n",
       "0            755                0  \n",
       "1              0               81  \n",
       "2            574              558  \n",
       "3            234              424  \n",
       "4             48              121  \n",
       "\n",
       "[5 rows x 22 columns]"
      ]
     },
     "metadata": {},
     "output_type": "display_data"
    }
   ],
   "source": [
    "#проверка пропущенных значений:\n",
    "print(data.isna().sum())\n",
    "print()\n",
    "print()\n",
    "#вставили пропущенные значения\n",
    "data = data.fillna(0)\n",
    "print(data.isna().sum())\n",
    "print()\n",
    "\n",
    "\n",
    "data = data.astype({'last_price': int, 'floors_total': int, 'balcony': int, 'airports_nearest': int, \n",
    "                    'cityCenters_nearest': int, 'parks_around3000': int, 'parks_nearest': int, 'ponds_around3000': int, \n",
    "                    'ponds_nearest': int, 'days_exposition': int})\n",
    "data.dtypes\n",
    "#заполняем нуевые значения высоты потолка средним значением\n",
    "data.loc[(data['ceiling_height'] == 0.00),'ceiling_height'] = 2.5\n",
    "# проверяем пропуски в столбце жилая площадь по по количеству комнат\n",
    "print(data[data['living_area'] == 0.0]['rooms'].value_counts())\n",
    "print()\n",
    "#рассчитываем среднюю жилую площадь исходя их количества комнат в квартире\n",
    "print('Средняя жилая площадь 1 к кв:', data[(data['living_area'] != 0.0) & (data['rooms'] == 1)]['living_area'].median())\n",
    "print('Средняя жилая площадь 2 к кв:', data[(data['living_area'] != 0.0) & (data['rooms'] == 2)]['living_area'].median())\n",
    "print('Средняя жилая площадь 3 к кв:', data[(data['living_area'] != 0.0) & (data['rooms'] == 3)]['living_area'].median())\n",
    "print('Средняя жилая площадь 4 к кв:', data[(data['living_area'] != 0.0) & (data['rooms'] == 4)]['living_area'].median())\n",
    "print('Средняя жилая площадь 5 к кв:', data[(data['living_area'] != 0.0) & (data['rooms'] == 5)]['living_area'].median())\n",
    "print('Средняя жилая площадь 6 к кв:', data[(data['living_area'] != 0.0) & (data['rooms'] == 6)]['living_area'].median())\n",
    "print('Средняя жилая площадь 7 к кв:', data[(data['living_area'] != 0.0) & (data['rooms'] == 7)]['living_area'].median())\n",
    "print('Средняя жилая площадь 8 к кв:', data[(data['living_area'] != 0.0) & (data['rooms'] == 8)]['living_area'].median())\n",
    "print('Средняя жилая площадь 9 к кв:', data[(data['living_area'] != 0.0) & (data['rooms'] == 9)]['living_area'].median())\n",
    "print()\n",
    "#заполняем средние значения жилой площади исходя из количества комнат в квартире\n",
    "data.loc[(data['living_area'] == 0.00) & (data['rooms'] == 1),'living_area'] = 17.9\n",
    "data.loc[(data['living_area'] == 0.00) & (data['rooms'] == 2),'living_area'] = 31.7\n",
    "data.loc[(data['living_area'] == 0.00) & (data['rooms'] == 3),'living_area'] = 47.4\n",
    "data.loc[(data['living_area'] == 0.00) & (data['rooms'] == 4),'living_area'] = 67\n",
    "data.loc[(data['living_area'] == 0.00) & (data['rooms'] == 5),'living_area'] = 100\n",
    "data.loc[(data['living_area'] == 0.00) & (data['rooms'] == 6),'living_area'] = 131\n",
    "data.loc[(data['living_area'] == 0.00) & (data['rooms'] == 7),'living_area'] = 163.5\n",
    "data.loc[(data['living_area'] == 0.00) & (data['rooms'] == 8),'living_area'] = 168.7\n",
    "data.loc[(data['living_area'] == 0.00) & (data['rooms'] == 9),'living_area'] = 190.2\n",
    "print()\n",
    "#перепроверяем пропуски в столбце жилая площадь по по количеству комнат\n",
    "print(data[data['living_area'] == 0.0]['rooms'].value_counts())\n",
    "\n",
    "\n",
    "#удалил строки в которых нет возможности восстановить данные жилой пощали и пощадь кухни\n",
    "\n",
    "data = data.drop(data[(data['living_area'] == 0.0) & (data['rooms'] == 0)].index)\n",
    "#проверяем удалились ли все ненужныестроки\n",
    "print(data[(data['living_area'] == 0.0) & (data['rooms'] == 0)]['living_area'].count())\n",
    "print()\n",
    "#находим все пустые значения в столбце 'kitchen_area'\n",
    "print(data[data['kitchen_area']==0]['rooms'].count())\n",
    "print()\n",
    "\n",
    "#заполняем пустые знаения в с столбце 'kitchen_area' исходя из объяснений в выводе:\n",
    "data.loc[(data['kitchen_area'] == 0.00),'kitchen_area'] = data['total_area'] - data['living_area'] - 8.5\n",
    "print()\n",
    "display(data.head(5))"
   ]
  },
  {
   "cell_type": "markdown",
   "metadata": {},
   "source": [
    "## Вывод"
   ]
  },
  {
   "cell_type": "markdown",
   "metadata": {},
   "source": [
    "Исходя из данных по пропускам можно предположить, что:\n",
    " - высота потолков не является преимуществом припродаже и соответсвенно имеет значения от 2,50м до 2,70м, заполним нулевые значения - 2,50м\n",
    " - отсутсвие значений о количестве этажей в доме говорит о том,что возможно это: цокольный этаж,первый этаж или одноэтажный дом\n",
    " - в столбце 'kitchen_area' пропуски говорт о том, что либо клиенты не указали случайно площадь, липо это квартира-студия. Чтобы проводить в дальнешем анализ, необходимо запонить все нулевые значения. их - 2264. Предположим что ванна и туалет занимают - 4.5м2 и коридор - 4м2. Соответственно для расчета площади кухни - мы от общей площади отнимаем:  жилую, ванну с туалетом и корридор.\n",
    " - в столбце 'balcony' пропуски говорят о том, что скорее всего балконы отсутствуют\n",
    " - в столбце 'locality_name' пропуски говорят о том, что скорее всего можно предположить что это Санкт-Петербург\n",
    " - в столбце 'airports_nearest' пропуски говорят о том, что недвижимость на ходится в области\n",
    " - в столбце 'cityCenters_nearest' пропуски говорят о том, что недвижимость  предположительно находится на окраине города\n",
    " - в столбцах 'parks_around3000','parks_nearest','ponds_around3000', 'ponds_nearest'  пропуки говорят, что скорее всего по близости парки отсутствуют  или же эту информацию не указали\n",
    " - в столбце 'days_exposition' пропуски говорят о том, что скорее всего объявления только опубликовали\n",
    "Изменил тип данных на целочисленный в столбцах: 'last_price', 'floors_total', 'balcony', 'airports_nearest', 'cityCenters_nearest', 'parks_around3000', 'parks_nearest', 'ponds_around3000', 'ponds_nearest', 'days_exposition', тк значения количества этажей не может быть не целым, а расстояние нет смысла исмерять не целыми метрами. \n",
    "Обнаружил 14 сток где количество комнат, жилая площадь и пощадь кухни равны 0. Удалил их тк значения жилой площади и кухни не как не востановить и они ни как не повлияют на дальнейшую обработку данных\n"
   ]
  },
  {
   "cell_type": "markdown",
   "metadata": {},
   "source": [
    "<div class=\"alert alert-success\">\n",
    "<font size=\"5\"<b>Комментарий ревьюера</b> </font>\n",
    "    \n",
    "**Успех**\n",
    "\n",
    "Тут выводы подробные, молодец\n",
    "    \n",
    "</div>"
   ]
  },
  {
   "cell_type": "markdown",
   "metadata": {},
   "source": [
    "## Расчёты и добавление результатов в таблицу"
   ]
  },
  {
   "cell_type": "code",
   "execution_count": 6,
   "metadata": {
    "scrolled": true
   },
   "outputs": [
    {
     "name": "stdout",
     "output_type": "stream",
     "text": [
      "\n",
      "\n"
     ]
    },
    {
     "data": {
      "text/html": [
       "<div>\n",
       "<style scoped>\n",
       "    .dataframe tbody tr th:only-of-type {\n",
       "        vertical-align: middle;\n",
       "    }\n",
       "\n",
       "    .dataframe tbody tr th {\n",
       "        vertical-align: top;\n",
       "    }\n",
       "\n",
       "    .dataframe thead th {\n",
       "        text-align: right;\n",
       "    }\n",
       "</style>\n",
       "<table border=\"1\" class=\"dataframe\">\n",
       "  <thead>\n",
       "    <tr style=\"text-align: right;\">\n",
       "      <th></th>\n",
       "      <th>total_images</th>\n",
       "      <th>last_price</th>\n",
       "      <th>total_area</th>\n",
       "      <th>first_day_exposition</th>\n",
       "      <th>rooms</th>\n",
       "      <th>ceiling_height</th>\n",
       "      <th>floors_total</th>\n",
       "      <th>living_area</th>\n",
       "      <th>floor</th>\n",
       "      <th>is_apartment</th>\n",
       "      <th>...</th>\n",
       "      <th>ponds_around3000</th>\n",
       "      <th>ponds_nearest</th>\n",
       "      <th>days_exposition</th>\n",
       "      <th>price_per_metr</th>\n",
       "      <th>range_floor</th>\n",
       "      <th>living_area_ratio_total</th>\n",
       "      <th>kitchen_ratio_total</th>\n",
       "      <th>weekday</th>\n",
       "      <th>month</th>\n",
       "      <th>year</th>\n",
       "    </tr>\n",
       "  </thead>\n",
       "  <tbody>\n",
       "    <tr>\n",
       "      <th>0</th>\n",
       "      <td>20</td>\n",
       "      <td>0.000013</td>\n",
       "      <td>108.0</td>\n",
       "      <td>2019-03-07</td>\n",
       "      <td>3</td>\n",
       "      <td>2.70</td>\n",
       "      <td>16</td>\n",
       "      <td>51.0</td>\n",
       "      <td>8</td>\n",
       "      <td>0</td>\n",
       "      <td>...</td>\n",
       "      <td>2</td>\n",
       "      <td>755</td>\n",
       "      <td>0</td>\n",
       "      <td>0</td>\n",
       "      <td>другой</td>\n",
       "      <td>0.472222</td>\n",
       "      <td>0.231481</td>\n",
       "      <td>Thursday</td>\n",
       "      <td>March</td>\n",
       "      <td>2019</td>\n",
       "    </tr>\n",
       "    <tr>\n",
       "      <th>1</th>\n",
       "      <td>7</td>\n",
       "      <td>0.000003</td>\n",
       "      <td>40.4</td>\n",
       "      <td>2018-12-04</td>\n",
       "      <td>1</td>\n",
       "      <td>2.50</td>\n",
       "      <td>11</td>\n",
       "      <td>18.6</td>\n",
       "      <td>1</td>\n",
       "      <td>0</td>\n",
       "      <td>...</td>\n",
       "      <td>0</td>\n",
       "      <td>0</td>\n",
       "      <td>81</td>\n",
       "      <td>0</td>\n",
       "      <td>первый</td>\n",
       "      <td>0.460396</td>\n",
       "      <td>0.272277</td>\n",
       "      <td>Tuesday</td>\n",
       "      <td>December</td>\n",
       "      <td>2018</td>\n",
       "    </tr>\n",
       "    <tr>\n",
       "      <th>2</th>\n",
       "      <td>10</td>\n",
       "      <td>0.000005</td>\n",
       "      <td>56.0</td>\n",
       "      <td>2015-08-20</td>\n",
       "      <td>2</td>\n",
       "      <td>2.50</td>\n",
       "      <td>5</td>\n",
       "      <td>34.3</td>\n",
       "      <td>4</td>\n",
       "      <td>0</td>\n",
       "      <td>...</td>\n",
       "      <td>2</td>\n",
       "      <td>574</td>\n",
       "      <td>558</td>\n",
       "      <td>0</td>\n",
       "      <td>другой</td>\n",
       "      <td>0.612500</td>\n",
       "      <td>0.148214</td>\n",
       "      <td>Thursday</td>\n",
       "      <td>August</td>\n",
       "      <td>2015</td>\n",
       "    </tr>\n",
       "    <tr>\n",
       "      <th>3</th>\n",
       "      <td>0</td>\n",
       "      <td>0.000065</td>\n",
       "      <td>159.0</td>\n",
       "      <td>2015-07-24</td>\n",
       "      <td>3</td>\n",
       "      <td>2.50</td>\n",
       "      <td>14</td>\n",
       "      <td>47.4</td>\n",
       "      <td>9</td>\n",
       "      <td>0</td>\n",
       "      <td>...</td>\n",
       "      <td>3</td>\n",
       "      <td>234</td>\n",
       "      <td>424</td>\n",
       "      <td>0</td>\n",
       "      <td>другой</td>\n",
       "      <td>0.298113</td>\n",
       "      <td>0.648428</td>\n",
       "      <td>Friday</td>\n",
       "      <td>July</td>\n",
       "      <td>2015</td>\n",
       "    </tr>\n",
       "    <tr>\n",
       "      <th>4</th>\n",
       "      <td>2</td>\n",
       "      <td>0.000010</td>\n",
       "      <td>100.0</td>\n",
       "      <td>2018-06-19</td>\n",
       "      <td>2</td>\n",
       "      <td>3.03</td>\n",
       "      <td>14</td>\n",
       "      <td>32.0</td>\n",
       "      <td>13</td>\n",
       "      <td>0</td>\n",
       "      <td>...</td>\n",
       "      <td>1</td>\n",
       "      <td>48</td>\n",
       "      <td>121</td>\n",
       "      <td>0</td>\n",
       "      <td>другой</td>\n",
       "      <td>0.320000</td>\n",
       "      <td>0.410000</td>\n",
       "      <td>Tuesday</td>\n",
       "      <td>June</td>\n",
       "      <td>2018</td>\n",
       "    </tr>\n",
       "  </tbody>\n",
       "</table>\n",
       "<p>5 rows × 29 columns</p>\n",
       "</div>"
      ],
      "text/plain": [
       "   total_images  last_price  total_area first_day_exposition  rooms  \\\n",
       "0            20    0.000013       108.0           2019-03-07      3   \n",
       "1             7    0.000003        40.4           2018-12-04      1   \n",
       "2            10    0.000005        56.0           2015-08-20      2   \n",
       "3             0    0.000065       159.0           2015-07-24      3   \n",
       "4             2    0.000010       100.0           2018-06-19      2   \n",
       "\n",
       "   ceiling_height  floors_total  living_area  floor is_apartment  ...  \\\n",
       "0            2.70            16         51.0      8            0  ...   \n",
       "1            2.50            11         18.6      1            0  ...   \n",
       "2            2.50             5         34.3      4            0  ...   \n",
       "3            2.50            14         47.4      9            0  ...   \n",
       "4            3.03            14         32.0     13            0  ...   \n",
       "\n",
       "   ponds_around3000  ponds_nearest  days_exposition  price_per_metr  \\\n",
       "0                 2            755                0               0   \n",
       "1                 0              0               81               0   \n",
       "2                 2            574              558               0   \n",
       "3                 3            234              424               0   \n",
       "4                 1             48              121               0   \n",
       "\n",
       "  range_floor  living_area_ratio_total  kitchen_ratio_total   weekday  \\\n",
       "0      другой                 0.472222             0.231481  Thursday   \n",
       "1      первый                 0.460396             0.272277   Tuesday   \n",
       "2      другой                 0.612500             0.148214  Thursday   \n",
       "3      другой                 0.298113             0.648428    Friday   \n",
       "4      другой                 0.320000             0.410000   Tuesday   \n",
       "\n",
       "      month  year  \n",
       "0     March  2019  \n",
       "1  December  2018  \n",
       "2    August  2015  \n",
       "3      July  2015  \n",
       "4      June  2018  \n",
       "\n",
       "[5 rows x 29 columns]"
      ]
     },
     "metadata": {},
     "output_type": "display_data"
    }
   ],
   "source": [
    "#вычисляем и добавляем в датасет стоимость 1 м2\n",
    "data['price_per_metr'] = data['last_price'] / data['total_area']\n",
    "#чтобы избавиться от знаков после запятой - меняием тип данных на целочисленный\n",
    "data = data.astype({'price_per_metr': int})\n",
    "print()\n",
    "\n",
    "\n",
    "def range_floor(data):\n",
    "    if data['floor'] == 1:\n",
    "        return 'первый'\n",
    "    if (data['floor'] == data['floors_total']) & (data['floors_total'] !=1):\n",
    "        return 'последний'\n",
    "    return 'другой'\n",
    " \n",
    "data['range_floor'] = data.apply(range_floor, axis=1)\n",
    "print()\n",
    "data['living_area_ratio_total'] = data['living_area'] / data['total_area']\n",
    "data['kitchen_ratio_total'] = data['kitchen_area'] / data['total_area']\n",
    "data['last_price'] = data['last_price'] / 1000000 \n",
    "\n",
    "display(data.head(5))\n",
    "\n"
   ]
  },
  {
   "cell_type": "code",
   "execution_count": 14,
   "metadata": {},
   "outputs": [
    {
     "data": {
      "image/png": "[encoded data removed]",
      "text/plain": [
       "<Figure size 432x288 with 1 Axes>"
      ]
     },
     "metadata": {
      "needs_background": "light"
     },
     "output_type": "display_data"
    },
    {
     "data": {
      "image/png": "[encoded data removed]",
      "text/plain": [
       "<Figure size 432x288 with 1 Axes>"
      ]
     },
     "metadata": {
      "needs_background": "light"
     },
     "output_type": "display_data"
    },
    {
     "data": {
      "image/png": "[encoded data removed]",
      "text/plain": [
       "<Figure size 432x288 with 1 Axes>"
      ]
     },
     "metadata": {
      "needs_background": "light"
     },
     "output_type": "display_data"
    },
    {
     "data": {
      "image/png": "[encoded data removed]",
      "text/plain": [
       "<Figure size 432x288 with 1 Axes>"
      ]
     },
     "metadata": {
      "needs_background": "light"
     },
     "output_type": "display_data"
    }
   ],
   "source": [
    "import matplotlib.pyplot as plt\n",
    "#гистограммы:площадь, цена, число комнат, высота потолков\n",
    "\n",
    "data['total_area'].plot(x='area', y='meaning', kind='hist',grid=True, bins=100, range=(0,500))\n",
    "plt.xlabel('Площадь')\n",
    "plt.ylabel('Частота')\n",
    "plt.show()\n",
    "\n",
    "data['last_price'].plot(x='price', y='meaning', kind='hist',grid=True, bins=50, range=(0, 80))\n",
    "plt.xlabel('Цена')\n",
    "plt.ylabel('Частота')\n",
    "plt.show()\n",
    "\n",
    "data['rooms'].plot(x='rooms', y='quantity', kind='hist',grid=True, bins=50, range=(0, 10))\n",
    "plt.xlabel('Число комнат')\n",
    "plt.ylabel('Количество')\n",
    "plt.show()\n",
    "\n",
    "data['ceiling_height'].plot(x='high', y='meaning', kind='hist',grid=True, bins=50, range=(0, 5))\n",
    "plt.xlabel('Высота потолков')\n",
    "plt.ylabel('Частота')\n",
    "plt.show()\n"
   ]
  },
  {
   "cell_type": "code",
   "execution_count": 5,
   "metadata": {},
   "outputs": [
    {
     "data": {
      "text/html": [
       "<div>\n",
       "<style scoped>\n",
       "    .dataframe tbody tr th:only-of-type {\n",
       "        vertical-align: middle;\n",
       "    }\n",
       "\n",
       "    .dataframe tbody tr th {\n",
       "        vertical-align: top;\n",
       "    }\n",
       "\n",
       "    .dataframe thead th {\n",
       "        text-align: right;\n",
       "    }\n",
       "</style>\n",
       "<table border=\"1\" class=\"dataframe\">\n",
       "  <thead>\n",
       "    <tr style=\"text-align: right;\">\n",
       "      <th></th>\n",
       "      <th>total_images</th>\n",
       "      <th>last_price</th>\n",
       "      <th>total_area</th>\n",
       "      <th>first_day_exposition</th>\n",
       "      <th>rooms</th>\n",
       "      <th>ceiling_height</th>\n",
       "      <th>floors_total</th>\n",
       "      <th>living_area</th>\n",
       "      <th>floor</th>\n",
       "      <th>is_apartment</th>\n",
       "      <th>...</th>\n",
       "      <th>ponds_around3000</th>\n",
       "      <th>ponds_nearest</th>\n",
       "      <th>days_exposition</th>\n",
       "      <th>price_per_metr</th>\n",
       "      <th>range_floor</th>\n",
       "      <th>living_area_ratio_total</th>\n",
       "      <th>kitchen_ratio_total</th>\n",
       "      <th>weekday</th>\n",
       "      <th>month</th>\n",
       "      <th>year</th>\n",
       "    </tr>\n",
       "  </thead>\n",
       "  <tbody>\n",
       "    <tr>\n",
       "      <th>0</th>\n",
       "      <td>20</td>\n",
       "      <td>13.000</td>\n",
       "      <td>108.0</td>\n",
       "      <td>2019-03-07</td>\n",
       "      <td>3</td>\n",
       "      <td>2.70</td>\n",
       "      <td>16</td>\n",
       "      <td>51.0</td>\n",
       "      <td>8</td>\n",
       "      <td>0</td>\n",
       "      <td>...</td>\n",
       "      <td>2</td>\n",
       "      <td>755</td>\n",
       "      <td>0</td>\n",
       "      <td>120370</td>\n",
       "      <td>другой</td>\n",
       "      <td>0.472222</td>\n",
       "      <td>0.231481</td>\n",
       "      <td>Thursday</td>\n",
       "      <td>March</td>\n",
       "      <td>2019</td>\n",
       "    </tr>\n",
       "    <tr>\n",
       "      <th>1</th>\n",
       "      <td>7</td>\n",
       "      <td>3.350</td>\n",
       "      <td>40.4</td>\n",
       "      <td>2018-12-04</td>\n",
       "      <td>1</td>\n",
       "      <td>2.50</td>\n",
       "      <td>11</td>\n",
       "      <td>18.6</td>\n",
       "      <td>1</td>\n",
       "      <td>0</td>\n",
       "      <td>...</td>\n",
       "      <td>0</td>\n",
       "      <td>0</td>\n",
       "      <td>81</td>\n",
       "      <td>82920</td>\n",
       "      <td>первый</td>\n",
       "      <td>0.460396</td>\n",
       "      <td>0.272277</td>\n",
       "      <td>Tuesday</td>\n",
       "      <td>December</td>\n",
       "      <td>2018</td>\n",
       "    </tr>\n",
       "    <tr>\n",
       "      <th>2</th>\n",
       "      <td>10</td>\n",
       "      <td>5.196</td>\n",
       "      <td>56.0</td>\n",
       "      <td>2015-08-20</td>\n",
       "      <td>2</td>\n",
       "      <td>2.50</td>\n",
       "      <td>5</td>\n",
       "      <td>34.3</td>\n",
       "      <td>4</td>\n",
       "      <td>0</td>\n",
       "      <td>...</td>\n",
       "      <td>2</td>\n",
       "      <td>574</td>\n",
       "      <td>558</td>\n",
       "      <td>92785</td>\n",
       "      <td>другой</td>\n",
       "      <td>0.612500</td>\n",
       "      <td>0.148214</td>\n",
       "      <td>Thursday</td>\n",
       "      <td>August</td>\n",
       "      <td>2015</td>\n",
       "    </tr>\n",
       "    <tr>\n",
       "      <th>3</th>\n",
       "      <td>0</td>\n",
       "      <td>64.900</td>\n",
       "      <td>159.0</td>\n",
       "      <td>2015-07-24</td>\n",
       "      <td>3</td>\n",
       "      <td>2.50</td>\n",
       "      <td>14</td>\n",
       "      <td>47.4</td>\n",
       "      <td>9</td>\n",
       "      <td>0</td>\n",
       "      <td>...</td>\n",
       "      <td>3</td>\n",
       "      <td>234</td>\n",
       "      <td>424</td>\n",
       "      <td>408176</td>\n",
       "      <td>другой</td>\n",
       "      <td>0.298113</td>\n",
       "      <td>0.648428</td>\n",
       "      <td>Friday</td>\n",
       "      <td>July</td>\n",
       "      <td>2015</td>\n",
       "    </tr>\n",
       "    <tr>\n",
       "      <th>4</th>\n",
       "      <td>2</td>\n",
       "      <td>10.000</td>\n",
       "      <td>100.0</td>\n",
       "      <td>2018-06-19</td>\n",
       "      <td>2</td>\n",
       "      <td>3.03</td>\n",
       "      <td>14</td>\n",
       "      <td>32.0</td>\n",
       "      <td>13</td>\n",
       "      <td>0</td>\n",
       "      <td>...</td>\n",
       "      <td>1</td>\n",
       "      <td>48</td>\n",
       "      <td>121</td>\n",
       "      <td>100000</td>\n",
       "      <td>другой</td>\n",
       "      <td>0.320000</td>\n",
       "      <td>0.410000</td>\n",
       "      <td>Tuesday</td>\n",
       "      <td>June</td>\n",
       "      <td>2018</td>\n",
       "    </tr>\n",
       "  </tbody>\n",
       "</table>\n",
       "<p>5 rows × 29 columns</p>\n",
       "</div>"
      ],
      "text/plain": [
       "   total_images  last_price  total_area first_day_exposition  rooms  \\\n",
       "0            20      13.000       108.0           2019-03-07      3   \n",
       "1             7       3.350        40.4           2018-12-04      1   \n",
       "2            10       5.196        56.0           2015-08-20      2   \n",
       "3             0      64.900       159.0           2015-07-24      3   \n",
       "4             2      10.000       100.0           2018-06-19      2   \n",
       "\n",
       "   ceiling_height  floors_total  living_area  floor is_apartment  ...  \\\n",
       "0            2.70            16         51.0      8            0  ...   \n",
       "1            2.50            11         18.6      1            0  ...   \n",
       "2            2.50             5         34.3      4            0  ...   \n",
       "3            2.50            14         47.4      9            0  ...   \n",
       "4            3.03            14         32.0     13            0  ...   \n",
       "\n",
       "   ponds_around3000  ponds_nearest  days_exposition  price_per_metr  \\\n",
       "0                 2            755                0          120370   \n",
       "1                 0              0               81           82920   \n",
       "2                 2            574              558           92785   \n",
       "3                 3            234              424          408176   \n",
       "4                 1             48              121          100000   \n",
       "\n",
       "  range_floor  living_area_ratio_total  kitchen_ratio_total   weekday  \\\n",
       "0      другой                 0.472222             0.231481  Thursday   \n",
       "1      первый                 0.460396             0.272277   Tuesday   \n",
       "2      другой                 0.612500             0.148214  Thursday   \n",
       "3      другой                 0.298113             0.648428    Friday   \n",
       "4      другой                 0.320000             0.410000   Tuesday   \n",
       "\n",
       "      month  year  \n",
       "0     March  2019  \n",
       "1  December  2018  \n",
       "2    August  2015  \n",
       "3      July  2015  \n",
       "4      June  2018  \n",
       "\n",
       "[5 rows x 29 columns]"
      ]
     },
     "metadata": {},
     "output_type": "display_data"
    }
   ],
   "source": [
    "data['first_day_exposition'] = pd.to_datetime(data['first_day_exposition'])\n",
    "data['weekday'] = data['first_day_exposition'].dt.strftime('%A')\n",
    "data['month'] = data['first_day_exposition'].dt.strftime('%B')\n",
    "data['year'] = data['first_day_exposition'].dt.year\n",
    "display(data.head(5))"
   ]
  },
  {
   "cell_type": "markdown",
   "metadata": {},
   "source": [
    "## Вывод"
   ]
  },
  {
   "cell_type": "markdown",
   "metadata": {},
   "source": [
    "Произведен расчет стоимости 1 квадратного метра исходя их данных таблицы\n",
    "\n",
    "Уменьшили цену в миллион раз для простоты вывода нагистограмму\n",
    "\n",
    "На гистограмме площади квартиры видно что после 250 м2 - можно считать выбросами и не учитывать в дальнейшем анализе\n",
    "\n",
    "на гистограмме цены продажи все что близко к 0 и  больше 30млн - можно считать выбросами\n",
    "\n",
    "На гистограмме отображающей количество комнат можно отбросить значени которые находятся у 0 \n",
    "\n",
    "На гистограмме высоты потолков видно что в основном потолки высотойот 2.5 - 2.7м . Потолки выше 3.5м мы исключаем,тк в жилых домах поковвыше 3.5м неможет быть\n",
    "\n",
    "Построены и выведены гистограммы по площади, стоимости продажи, количества комнат, высоте потолков. "
   ]
  },
  {
   "cell_type": "code",
   "execution_count": 6,
   "metadata": {},
   "outputs": [
    {
     "data": {
      "text/plain": [
       "197.03199999999998"
      ]
     },
     "execution_count": 6,
     "metadata": {},
     "output_type": "execute_result"
    }
   ],
   "source": [
    "data['total_area'].quantile(0.99)"
   ]
  },
  {
   "cell_type": "markdown",
   "metadata": {},
   "source": [
    "Получается что 99% квартир площадью не больше 167 м кв"
   ]
  },
  {
   "cell_type": "code",
   "execution_count": 7,
   "metadata": {},
   "outputs": [
    {
     "data": {
      "text/plain": [
       "36.0"
      ]
     },
     "execution_count": 7,
     "metadata": {},
     "output_type": "execute_result"
    }
   ],
   "source": [
    "data['last_price'].quantile(0.99)"
   ]
  },
  {
   "cell_type": "markdown",
   "metadata": {},
   "source": [
    "Цена 99% квартир не превышает 27 млн"
   ]
  },
  {
   "cell_type": "code",
   "execution_count": 8,
   "metadata": {},
   "outputs": [
    {
     "data": {
      "text/plain": [
       "3.6"
      ]
     },
     "execution_count": 8,
     "metadata": {},
     "output_type": "execute_result"
    }
   ],
   "source": [
    " data['ceiling_height'].quantile(0.99)                      "
   ]
  },
  {
   "cell_type": "markdown",
   "metadata": {},
   "source": [
    "в 99% квартир потолки не выше 3.4 м"
   ]
  },
  {
   "cell_type": "markdown",
   "metadata": {},
   "source": [
    "## Исследовательский анализ данных"
   ]
  },
  {
   "cell_type": "code",
   "execution_count": 9,
   "metadata": {},
   "outputs": [
    {
     "data": {
      "image/png": "[encoded data removed]",
      "text/plain": [
       "<Figure size 432x288 with 1 Axes>"
      ]
     },
     "metadata": {
      "needs_background": "light"
     },
     "output_type": "display_data"
    },
    {
     "name": "stdout",
     "output_type": "stream",
     "text": [
      "Среднее время продажи: 157 дней\n",
      "Медианное время продажи: 74 дней\n"
     ]
    },
    {
     "data": {
      "image/png": "[encoded data removed]",
      "text/plain": [
       "<Figure size 432x288 with 1 Axes>"
      ]
     },
     "metadata": {
      "needs_background": "light"
     },
     "output_type": "display_data"
    },
    {
     "name": "stdout",
     "output_type": "stream",
     "text": [
      "\n"
     ]
    }
   ],
   "source": [
    "#строим гистограмму по времени продажи недвижимости\n",
    "data['days_exposition'].hist(bins=10)\n",
    "plt.show()\n",
    "#вычисляем среднее и медианное времени продажи\n",
    "print(\"Среднее время продажи: {:.0f} дней\" .format(data['days_exposition'].mean()))\n",
    "print('Медианное время продажи: {:.0f} дней' .format(data['days_exposition'].median()))\n",
    "data.boxplot(column=['days_exposition'])\n",
    "plt.show()\n",
    "\n",
    "print()"
   ]
  },
  {
   "cell_type": "code",
   "execution_count": 10,
   "metadata": {},
   "outputs": [
    {
     "data": {
      "text/plain": [
       "count    23685.000000\n",
       "mean       156.664978\n",
       "std        213.592265\n",
       "min          0.000000\n",
       "25%         22.000000\n",
       "50%         74.000000\n",
       "75%        199.000000\n",
       "max       1580.000000\n",
       "Name: days_exposition, dtype: float64"
      ]
     },
     "execution_count": 10,
     "metadata": {},
     "output_type": "execute_result"
    }
   ],
   "source": [
    "data['days_exposition'].describe()"
   ]
  },
  {
   "cell_type": "markdown",
   "metadata": {},
   "source": [
    "по построенному боксплоту видно что всё что чвыше 430 дней - выбросы и их не стоит учитывать\n"
   ]
  },
  {
   "cell_type": "code",
   "execution_count": 11,
   "metadata": {},
   "outputs": [
    {
     "data": {
      "image/png": "[encoded data removed]",
      "text/plain": [
       "<Figure size 432x288 with 1 Axes>"
      ]
     },
     "metadata": {
      "needs_background": "light"
     },
     "output_type": "display_data"
    },
    {
     "data": {
      "image/png": "[encoded data removed]",
      "text/plain": [
       "<Figure size 432x288 with 1 Axes>"
      ]
     },
     "metadata": {
      "needs_background": "light"
     },
     "output_type": "display_data"
    },
    {
     "data": {
      "image/png": "[encoded data removed]",
      "text/plain": [
       "<Figure size 432x288 with 1 Axes>"
      ]
     },
     "metadata": {
      "needs_background": "light"
     },
     "output_type": "display_data"
    }
   ],
   "source": [
    "# делаем срезы и выводим гистограммы\n",
    "data = data.sort_values(by=['total_area', 'last_price', 'rooms', 'ceiling_height'])\n",
    "data =data.query('21 <= total_area < 250')\n",
    "data['total_area'].hist(bins=100, range=(0,500))\n",
    "plt.show()\n",
    "\n",
    "data =data.query('1.5 < last_price < 40')\n",
    "data['last_price'].hist(bins=100, range=(0,100))\n",
    "plt.show()\n",
    "data['rooms'].describe()\n",
    "data = data.query('1<= rooms <= 6')\n",
    "data['rooms'].hist(bins=20, range=(0,10))\n",
    "plt.show()\n",
    "data=data.query('2.5 < ceiling_height <3.5')"
   ]
  },
  {
   "cell_type": "markdown",
   "metadata": {},
   "source": [
    "Исходя из ранее предпоогаемых значенийделаем срезы по площади, цене, комнатам и высоте потоков.\n",
    "\n",
    "Соответственно предположил,что минимальная площадь студии не может быть меньше 21м2, так же максимально возможную площадь ограничили 250м2.\n",
    "\n",
    "По цене срез делал изходя из того, чтосамая маленькая квартира не может стоить меньше 1,5млн руб, а максимальна цена - 40 млнруб.\n",
    "\n",
    "в среднем по рынку квартиры не встречаются более 6 комнат. все остальное комуналки и они редко продаются целеком.\n",
    "Предпологаю, то дома с потолками ниже 2,55м и 3,5м не строят.\n"
   ]
  },
  {
   "cell_type": "code",
   "execution_count": 12,
   "metadata": {},
   "outputs": [
    {
     "data": {
      "text/html": [
       "<div>\n",
       "<style scoped>\n",
       "    .dataframe tbody tr th:only-of-type {\n",
       "        vertical-align: middle;\n",
       "    }\n",
       "\n",
       "    .dataframe tbody tr th {\n",
       "        vertical-align: top;\n",
       "    }\n",
       "\n",
       "    .dataframe thead th {\n",
       "        text-align: right;\n",
       "    }\n",
       "</style>\n",
       "<table border=\"1\" class=\"dataframe\">\n",
       "  <thead>\n",
       "    <tr style=\"text-align: right;\">\n",
       "      <th></th>\n",
       "      <th></th>\n",
       "      <th>price_per_metr</th>\n",
       "    </tr>\n",
       "    <tr>\n",
       "      <th>last_price</th>\n",
       "      <th>total_area</th>\n",
       "      <th></th>\n",
       "    </tr>\n",
       "  </thead>\n",
       "  <tbody>\n",
       "    <tr>\n",
       "      <th>3.200</th>\n",
       "      <th>190.0</th>\n",
       "      <td>16842</td>\n",
       "    </tr>\n",
       "    <tr>\n",
       "      <th>1.600</th>\n",
       "      <th>92.0</th>\n",
       "      <td>17391</td>\n",
       "    </tr>\n",
       "    <tr>\n",
       "      <th>1.900</th>\n",
       "      <th>84.6</th>\n",
       "      <td>22458</td>\n",
       "    </tr>\n",
       "    <tr>\n",
       "      <th>1.600</th>\n",
       "      <th>67.1</th>\n",
       "      <td>23845</td>\n",
       "    </tr>\n",
       "    <tr>\n",
       "      <th>1.700</th>\n",
       "      <th>70.0</th>\n",
       "      <td>24285</td>\n",
       "    </tr>\n",
       "    <tr>\n",
       "      <th>...</th>\n",
       "      <th>...</th>\n",
       "      <td>...</td>\n",
       "    </tr>\n",
       "    <tr>\n",
       "      <th>36.000</th>\n",
       "      <th>80.0</th>\n",
       "      <td>450000</td>\n",
       "    </tr>\n",
       "    <tr>\n",
       "      <th>35.000</th>\n",
       "      <th>74.8</th>\n",
       "      <td>467914</td>\n",
       "    </tr>\n",
       "    <tr>\n",
       "      <th>39.744</th>\n",
       "      <th>72.0</th>\n",
       "      <td>552000</td>\n",
       "    </tr>\n",
       "    <tr>\n",
       "      <th>39.990</th>\n",
       "      <th>67.7</th>\n",
       "      <td>590694</td>\n",
       "    </tr>\n",
       "    <tr>\n",
       "      <th>39.900</th>\n",
       "      <th>55.3</th>\n",
       "      <td>721518</td>\n",
       "    </tr>\n",
       "  </tbody>\n",
       "</table>\n",
       "<p>8921 rows × 1 columns</p>\n",
       "</div>"
      ],
      "text/plain": [
       "                       price_per_metr\n",
       "last_price total_area                \n",
       "3.200      190.0                16842\n",
       "1.600      92.0                 17391\n",
       "1.900      84.6                 22458\n",
       "1.600      67.1                 23845\n",
       "1.700      70.0                 24285\n",
       "...                               ...\n",
       "36.000     80.0                450000\n",
       "35.000     74.8                467914\n",
       "39.744     72.0                552000\n",
       "39.990     67.7                590694\n",
       "39.900     55.3                721518\n",
       "\n",
       "[8921 rows x 1 columns]"
      ]
     },
     "metadata": {},
     "output_type": "display_data"
    },
    {
     "name": "stdout",
     "output_type": "stream",
     "text": [
      "0.7835553842571067\n"
     ]
    }
   ],
   "source": [
    "# строим сводную таблицу соотношения цены к площади\n",
    "price_and_metr = data.pivot_table(index=['last_price','total_area'], values= 'price_per_metr').sort_values(by='price_per_metr')\n",
    "display(price_and_metr)\n",
    "#рассчитываем коэффициент корреляции\n",
    "print(data['last_price'].corr(data['total_area']))"
   ]
  },
  {
   "cell_type": "markdown",
   "metadata": {},
   "source": [
    "Коэф. коррелции показывает, что цена квартиры сильно зависит от пощади квартиры"
   ]
  },
  {
   "cell_type": "code",
   "execution_count": 13,
   "metadata": {},
   "outputs": [
    {
     "data": {
      "text/html": [
       "<div>\n",
       "<style scoped>\n",
       "    .dataframe tbody tr th:only-of-type {\n",
       "        vertical-align: middle;\n",
       "    }\n",
       "\n",
       "    .dataframe tbody tr th {\n",
       "        vertical-align: top;\n",
       "    }\n",
       "\n",
       "    .dataframe thead th {\n",
       "        text-align: right;\n",
       "    }\n",
       "</style>\n",
       "<table border=\"1\" class=\"dataframe\">\n",
       "  <thead>\n",
       "    <tr style=\"text-align: right;\">\n",
       "      <th></th>\n",
       "      <th>last_price</th>\n",
       "    </tr>\n",
       "    <tr>\n",
       "      <th>rooms</th>\n",
       "      <th></th>\n",
       "    </tr>\n",
       "  </thead>\n",
       "  <tbody>\n",
       "    <tr>\n",
       "      <th>1</th>\n",
       "      <td>4.200366</td>\n",
       "    </tr>\n",
       "    <tr>\n",
       "      <th>2</th>\n",
       "      <td>6.289871</td>\n",
       "    </tr>\n",
       "    <tr>\n",
       "      <th>3</th>\n",
       "      <td>8.617084</td>\n",
       "    </tr>\n",
       "    <tr>\n",
       "      <th>4</th>\n",
       "      <td>11.825336</td>\n",
       "    </tr>\n",
       "    <tr>\n",
       "      <th>5</th>\n",
       "      <td>14.730000</td>\n",
       "    </tr>\n",
       "    <tr>\n",
       "      <th>6</th>\n",
       "      <td>17.182824</td>\n",
       "    </tr>\n",
       "  </tbody>\n",
       "</table>\n",
       "</div>"
      ],
      "text/plain": [
       "       last_price\n",
       "rooms            \n",
       "1        4.200366\n",
       "2        6.289871\n",
       "3        8.617084\n",
       "4       11.825336\n",
       "5       14.730000\n",
       "6       17.182824"
      ]
     },
     "metadata": {},
     "output_type": "display_data"
    },
    {
     "name": "stdout",
     "output_type": "stream",
     "text": [
      "0.5123878035070919\n"
     ]
    }
   ],
   "source": [
    "price_per_rooms = data.pivot_table(index='rooms', values= 'last_price',aggfunc = 'mean')\n",
    "display(price_per_rooms)\n",
    "print(data['rooms'].corr(data['last_price']))"
   ]
  },
  {
   "cell_type": "markdown",
   "metadata": {},
   "source": [
    "Коэф. коррелции показывает, чтоколичество комнат прямо влияет на цену продажи"
   ]
  },
  {
   "cell_type": "code",
   "execution_count": 14,
   "metadata": {},
   "outputs": [
    {
     "data": {
      "text/html": [
       "<div>\n",
       "<style scoped>\n",
       "    .dataframe tbody tr th:only-of-type {\n",
       "        vertical-align: middle;\n",
       "    }\n",
       "\n",
       "    .dataframe tbody tr th {\n",
       "        vertical-align: top;\n",
       "    }\n",
       "\n",
       "    .dataframe thead th {\n",
       "        text-align: right;\n",
       "    }\n",
       "</style>\n",
       "<table border=\"1\" class=\"dataframe\">\n",
       "  <thead>\n",
       "    <tr style=\"text-align: right;\">\n",
       "      <th></th>\n",
       "      <th>last_price</th>\n",
       "    </tr>\n",
       "    <tr>\n",
       "      <th>range_floor</th>\n",
       "      <th></th>\n",
       "    </tr>\n",
       "  </thead>\n",
       "  <tbody>\n",
       "    <tr>\n",
       "      <th>другой</th>\n",
       "      <td>6.882583</td>\n",
       "    </tr>\n",
       "    <tr>\n",
       "      <th>первый</th>\n",
       "      <td>5.313070</td>\n",
       "    </tr>\n",
       "    <tr>\n",
       "      <th>последний</th>\n",
       "      <td>6.867588</td>\n",
       "    </tr>\n",
       "  </tbody>\n",
       "</table>\n",
       "</div>"
      ],
      "text/plain": [
       "             last_price\n",
       "range_floor            \n",
       "другой         6.882583\n",
       "первый         5.313070\n",
       "последний      6.867588"
      ]
     },
     "metadata": {},
     "output_type": "display_data"
    }
   ],
   "source": [
    "price_per_floor = data.pivot_table(index='range_floor', values= 'last_price')\n",
    "display(price_per_floor)\n"
   ]
  },
  {
   "cell_type": "markdown",
   "metadata": {},
   "source": [
    "Исходя из данных можно сделать вывод, что квартиры на первом этаже стот дешевле"
   ]
  },
  {
   "cell_type": "code",
   "execution_count": 15,
   "metadata": {},
   "outputs": [
    {
     "data": {
      "text/html": [
       "<div>\n",
       "<style scoped>\n",
       "    .dataframe tbody tr th:only-of-type {\n",
       "        vertical-align: middle;\n",
       "    }\n",
       "\n",
       "    .dataframe tbody tr th {\n",
       "        vertical-align: top;\n",
       "    }\n",
       "\n",
       "    .dataframe thead th {\n",
       "        text-align: right;\n",
       "    }\n",
       "</style>\n",
       "<table border=\"1\" class=\"dataframe\">\n",
       "  <thead>\n",
       "    <tr style=\"text-align: right;\">\n",
       "      <th></th>\n",
       "      <th>last_price</th>\n",
       "    </tr>\n",
       "    <tr>\n",
       "      <th>cityCenters_nearest</th>\n",
       "      <th></th>\n",
       "    </tr>\n",
       "  </thead>\n",
       "  <tbody>\n",
       "    <tr>\n",
       "      <th>0</th>\n",
       "      <td>3.656581</td>\n",
       "    </tr>\n",
       "    <tr>\n",
       "      <th>181</th>\n",
       "      <td>31.099000</td>\n",
       "    </tr>\n",
       "    <tr>\n",
       "      <th>287</th>\n",
       "      <td>9.590000</td>\n",
       "    </tr>\n",
       "    <tr>\n",
       "      <th>318</th>\n",
       "      <td>32.500000</td>\n",
       "    </tr>\n",
       "    <tr>\n",
       "      <th>329</th>\n",
       "      <td>7.200000</td>\n",
       "    </tr>\n",
       "    <tr>\n",
       "      <th>...</th>\n",
       "      <td>...</td>\n",
       "    </tr>\n",
       "    <tr>\n",
       "      <th>54926</th>\n",
       "      <td>8.400000</td>\n",
       "    </tr>\n",
       "    <tr>\n",
       "      <th>61495</th>\n",
       "      <td>3.200000</td>\n",
       "    </tr>\n",
       "    <tr>\n",
       "      <th>62706</th>\n",
       "      <td>3.600000</td>\n",
       "    </tr>\n",
       "    <tr>\n",
       "      <th>65105</th>\n",
       "      <td>3.300000</td>\n",
       "    </tr>\n",
       "    <tr>\n",
       "      <th>65968</th>\n",
       "      <td>4.200000</td>\n",
       "    </tr>\n",
       "  </tbody>\n",
       "</table>\n",
       "<p>4514 rows × 1 columns</p>\n",
       "</div>"
      ],
      "text/plain": [
       "                     last_price\n",
       "cityCenters_nearest            \n",
       "0                      3.656581\n",
       "181                   31.099000\n",
       "287                    9.590000\n",
       "318                   32.500000\n",
       "329                    7.200000\n",
       "...                         ...\n",
       "54926                  8.400000\n",
       "61495                  3.200000\n",
       "62706                  3.600000\n",
       "65105                  3.300000\n",
       "65968                  4.200000\n",
       "\n",
       "[4514 rows x 1 columns]"
      ]
     },
     "metadata": {},
     "output_type": "display_data"
    },
    {
     "name": "stdout",
     "output_type": "stream",
     "text": [
      "-0.08799491946710682\n"
     ]
    }
   ],
   "source": [
    "price_per_cityCenters = data.pivot_table(index='cityCenters_nearest', values= 'last_price')\n",
    "display(price_per_cityCenters)\n",
    "\n",
    "print(data['cityCenters_nearest'].corr(data['last_price']))"
   ]
  },
  {
   "cell_type": "code",
   "execution_count": 16,
   "metadata": {},
   "outputs": [
    {
     "name": "stdout",
     "output_type": "stream",
     "text": [
      "0.053097282554207\n"
     ]
    }
   ],
   "source": [
    "print(data['days_exposition'].corr(data['last_price']))"
   ]
  },
  {
   "cell_type": "markdown",
   "metadata": {},
   "source": [
    "Коэф. коррелции показывае,что дата размещения объявления о продаже практически не влияет на цену"
   ]
  },
  {
   "cell_type": "code",
   "execution_count": 17,
   "metadata": {},
   "outputs": [
    {
     "data": {
      "text/plain": [
       "<AxesSubplot:xlabel='weekday'>"
      ]
     },
     "execution_count": 17,
     "metadata": {},
     "output_type": "execute_result"
    },
    {
     "data": {
      "image/png": "[encoded data removed]",
      "text/plain": [
       "<Figure size 720x720 with 1 Axes>"
      ]
     },
     "metadata": {
      "needs_background": "light"
     },
     "output_type": "display_data"
    }
   ],
   "source": [
    "\n",
    "weekday_celling = data.pivot_table(index = 'weekday',values= 'last_price')\n",
    "weekday_celling.plot( y='last_price', style='-', grid=True, figsize=(10,10))"
   ]
  },
  {
   "cell_type": "markdown",
   "metadata": {},
   "source": [
    " Исходя из графика видно, что самые дорогие объявления публикуются в будни: понедельник, вторник, четверг, среда. Самые дешевые объявлени публикуются в выходные"
   ]
  },
  {
   "cell_type": "markdown",
   "metadata": {},
   "source": [
    "<body style=»background-color: #55D52B»>\n",
    "</body>"
   ]
  },
  {
   "cell_type": "code",
   "execution_count": 18,
   "metadata": {},
   "outputs": [
    {
     "data": {
      "text/plain": [
       "<AxesSubplot:xlabel='month'>"
      ]
     },
     "execution_count": 18,
     "metadata": {},
     "output_type": "execute_result"
    },
    {
     "data": {
      "image/png": "[encoded data removed]",
      "text/plain": [
       "<Figure size 720x720 with 1 Axes>"
      ]
     },
     "metadata": {
      "needs_background": "light"
     },
     "output_type": "display_data"
    }
   ],
   "source": [
    "month_celling = data.pivot_table(index = 'month',values= 'last_price')\n",
    "month_celling.plot( y='last_price', style='-', grid=True, figsize=(10,10))"
   ]
  },
  {
   "cell_type": "markdown",
   "metadata": {},
   "source": [
    " <font color='green'>Исходя из графика видно, что цены летом падают и а в остальное время в целом растут</font> "
   ]
  },
  {
   "cell_type": "code",
   "execution_count": 19,
   "metadata": {},
   "outputs": [
    {
     "data": {
      "text/plain": [
       "<AxesSubplot:xlabel='year'>"
      ]
     },
     "execution_count": 19,
     "metadata": {},
     "output_type": "execute_result"
    },
    {
     "data": {
      "image/png": "[encoded data removed]",
      "text/plain": [
       "<Figure size 720x720 with 1 Axes>"
      ]
     },
     "metadata": {
      "needs_background": "light"
     },
     "output_type": "display_data"
    }
   ],
   "source": [
    "year_celling = data.pivot_table(index = 'year',values= 'last_price')\n",
    "year_celling.plot( y='last_price', style='-', grid=True, figsize=(10,10))"
   ]
  },
  {
   "cell_type": "markdown",
   "metadata": {},
   "source": [
    "Исходя из графика видно, что с 14 года по 18 - цены снижались и только с 18 года снова пошли в рост"
   ]
  },
  {
   "cell_type": "code",
   "execution_count": 20,
   "metadata": {},
   "outputs": [],
   "source": [
    "data['month'] = data['first_day_exposition'].dt.month"
   ]
  },
  {
   "cell_type": "code",
   "execution_count": 21,
   "metadata": {},
   "outputs": [
    {
     "data": {
      "text/html": [
       "<div>\n",
       "<style scoped>\n",
       "    .dataframe tbody tr th:only-of-type {\n",
       "        vertical-align: middle;\n",
       "    }\n",
       "\n",
       "    .dataframe tbody tr th {\n",
       "        vertical-align: top;\n",
       "    }\n",
       "\n",
       "    .dataframe thead th {\n",
       "        text-align: right;\n",
       "    }\n",
       "</style>\n",
       "<table border=\"1\" class=\"dataframe\">\n",
       "  <thead>\n",
       "    <tr style=\"text-align: right;\">\n",
       "      <th></th>\n",
       "      <th>last_price</th>\n",
       "    </tr>\n",
       "    <tr>\n",
       "      <th>locality_name</th>\n",
       "      <th></th>\n",
       "    </tr>\n",
       "  </thead>\n",
       "  <tbody>\n",
       "    <tr>\n",
       "      <th>деревня Бор</th>\n",
       "      <td>20.295200</td>\n",
       "    </tr>\n",
       "    <tr>\n",
       "      <th>посёлок Репино</th>\n",
       "      <td>14.522472</td>\n",
       "    </tr>\n",
       "    <tr>\n",
       "      <th>посёлок Александровская</th>\n",
       "      <td>13.700000</td>\n",
       "    </tr>\n",
       "    <tr>\n",
       "      <th>0</th>\n",
       "      <td>8.180159</td>\n",
       "    </tr>\n",
       "    <tr>\n",
       "      <th>Санкт-Петербург</th>\n",
       "      <td>7.645859</td>\n",
       "    </tr>\n",
       "    <tr>\n",
       "      <th>...</th>\n",
       "      <td>...</td>\n",
       "    </tr>\n",
       "    <tr>\n",
       "      <th>поселок Барышево</th>\n",
       "      <td>1.600000</td>\n",
       "    </tr>\n",
       "    <tr>\n",
       "      <th>деревня Суоранда</th>\n",
       "      <td>1.600000</td>\n",
       "    </tr>\n",
       "    <tr>\n",
       "      <th>посёлок Стеклянный</th>\n",
       "      <td>1.600000</td>\n",
       "    </tr>\n",
       "    <tr>\n",
       "      <th>посёлок Пригородный</th>\n",
       "      <td>1.550000</td>\n",
       "    </tr>\n",
       "    <tr>\n",
       "      <th>посёлок городского типа Кузнечное</th>\n",
       "      <td>1.550000</td>\n",
       "    </tr>\n",
       "  </tbody>\n",
       "</table>\n",
       "<p>201 rows × 1 columns</p>\n",
       "</div>"
      ],
      "text/plain": [
       "                                   last_price\n",
       "locality_name                                \n",
       "деревня Бор                         20.295200\n",
       "посёлок Репино                      14.522472\n",
       "посёлок Александровская             13.700000\n",
       "0                                    8.180159\n",
       "Санкт-Петербург                      7.645859\n",
       "...                                       ...\n",
       "поселок Барышево                     1.600000\n",
       "деревня Суоранда                     1.600000\n",
       "посёлок Стеклянный                   1.600000\n",
       "посёлок Пригородный                  1.550000\n",
       "посёлок городского типа Кузнечное    1.550000\n",
       "\n",
       "[201 rows x 1 columns]"
      ]
     },
     "execution_count": 21,
     "metadata": {},
     "output_type": "execute_result"
    }
   ],
   "source": [
    "\n",
    "#max_and_low_price = data.groupby('locality_name')['price_per_metr']\n",
    "max_and_low_price = data.pivot_table(index='locality_name', values='last_price').sort_values(by= 'last_price', ascending=False)\n",
    "max_and_low_price"
   ]
  },
  {
   "cell_type": "markdown",
   "metadata": {},
   "source": [
    "Исходя из таблицы больше всего объявлений в Санкт-Петербурге. Самая высокая стоимость недвижимости - в деревне Бор, самая дешевая недвижимость - в поселке Пригорный и пгт Кузнечное."
   ]
  },
  {
   "cell_type": "code",
   "execution_count": 37,
   "metadata": {},
   "outputs": [
    {
     "data": {
      "text/html": [
       "<div>\n",
       "<style scoped>\n",
       "    .dataframe tbody tr th:only-of-type {\n",
       "        vertical-align: middle;\n",
       "    }\n",
       "\n",
       "    .dataframe tbody tr th {\n",
       "        vertical-align: top;\n",
       "    }\n",
       "\n",
       "    .dataframe thead th {\n",
       "        text-align: right;\n",
       "    }\n",
       "</style>\n",
       "<table border=\"1\" class=\"dataframe\">\n",
       "  <thead>\n",
       "    <tr style=\"text-align: right;\">\n",
       "      <th></th>\n",
       "      <th>total_images</th>\n",
       "      <th>last_price</th>\n",
       "      <th>total_area</th>\n",
       "      <th>first_day_exposition</th>\n",
       "      <th>rooms</th>\n",
       "      <th>ceiling_height</th>\n",
       "      <th>floors_total</th>\n",
       "      <th>living_area</th>\n",
       "      <th>floor</th>\n",
       "      <th>is_apartment</th>\n",
       "      <th>...</th>\n",
       "      <th>ponds_nearest</th>\n",
       "      <th>days_exposition</th>\n",
       "      <th>price_per_metr</th>\n",
       "      <th>range_floor</th>\n",
       "      <th>living_area_ratio_total</th>\n",
       "      <th>kitchen_ratio_total</th>\n",
       "      <th>weekday</th>\n",
       "      <th>month</th>\n",
       "      <th>year</th>\n",
       "      <th>distance_to_center</th>\n",
       "    </tr>\n",
       "  </thead>\n",
       "  <tbody>\n",
       "    <tr>\n",
       "      <th>114</th>\n",
       "      <td>5</td>\n",
       "      <td>4.000</td>\n",
       "      <td>21.4</td>\n",
       "      <td>2019-02-07</td>\n",
       "      <td>1</td>\n",
       "      <td>2.90</td>\n",
       "      <td>8</td>\n",
       "      <td>8.3</td>\n",
       "      <td>7</td>\n",
       "      <td>0</td>\n",
       "      <td>...</td>\n",
       "      <td>286</td>\n",
       "      <td>0</td>\n",
       "      <td>186915</td>\n",
       "      <td>другой</td>\n",
       "      <td>0.387850</td>\n",
       "      <td>0.294393</td>\n",
       "      <td>Thursday</td>\n",
       "      <td>2</td>\n",
       "      <td>2019</td>\n",
       "      <td>6.0</td>\n",
       "    </tr>\n",
       "    <tr>\n",
       "      <th>8894</th>\n",
       "      <td>3</td>\n",
       "      <td>2.099</td>\n",
       "      <td>23.0</td>\n",
       "      <td>2018-09-25</td>\n",
       "      <td>1</td>\n",
       "      <td>2.70</td>\n",
       "      <td>16</td>\n",
       "      <td>17.9</td>\n",
       "      <td>10</td>\n",
       "      <td>0</td>\n",
       "      <td>...</td>\n",
       "      <td>457</td>\n",
       "      <td>37</td>\n",
       "      <td>91260</td>\n",
       "      <td>другой</td>\n",
       "      <td>0.778261</td>\n",
       "      <td>-0.147826</td>\n",
       "      <td>Tuesday</td>\n",
       "      <td>9</td>\n",
       "      <td>2018</td>\n",
       "      <td>23.0</td>\n",
       "    </tr>\n",
       "    <tr>\n",
       "      <th>23673</th>\n",
       "      <td>9</td>\n",
       "      <td>3.100</td>\n",
       "      <td>23.0</td>\n",
       "      <td>2018-03-19</td>\n",
       "      <td>1</td>\n",
       "      <td>2.80</td>\n",
       "      <td>9</td>\n",
       "      <td>12.6</td>\n",
       "      <td>1</td>\n",
       "      <td>0</td>\n",
       "      <td>...</td>\n",
       "      <td>442</td>\n",
       "      <td>41</td>\n",
       "      <td>134782</td>\n",
       "      <td>первый</td>\n",
       "      <td>0.547826</td>\n",
       "      <td>0.217391</td>\n",
       "      <td>Monday</td>\n",
       "      <td>3</td>\n",
       "      <td>2018</td>\n",
       "      <td>12.0</td>\n",
       "    </tr>\n",
       "    <tr>\n",
       "      <th>7829</th>\n",
       "      <td>9</td>\n",
       "      <td>3.390</td>\n",
       "      <td>23.0</td>\n",
       "      <td>2019-02-21</td>\n",
       "      <td>1</td>\n",
       "      <td>2.54</td>\n",
       "      <td>6</td>\n",
       "      <td>10.0</td>\n",
       "      <td>1</td>\n",
       "      <td>0</td>\n",
       "      <td>...</td>\n",
       "      <td>631</td>\n",
       "      <td>60</td>\n",
       "      <td>147391</td>\n",
       "      <td>первый</td>\n",
       "      <td>0.434783</td>\n",
       "      <td>0.304348</td>\n",
       "      <td>Thursday</td>\n",
       "      <td>2</td>\n",
       "      <td>2019</td>\n",
       "      <td>7.0</td>\n",
       "    </tr>\n",
       "    <tr>\n",
       "      <th>12323</th>\n",
       "      <td>6</td>\n",
       "      <td>3.790</td>\n",
       "      <td>23.3</td>\n",
       "      <td>2019-04-04</td>\n",
       "      <td>1</td>\n",
       "      <td>2.70</td>\n",
       "      <td>25</td>\n",
       "      <td>18.4</td>\n",
       "      <td>13</td>\n",
       "      <td>0</td>\n",
       "      <td>...</td>\n",
       "      <td>1159</td>\n",
       "      <td>9</td>\n",
       "      <td>162660</td>\n",
       "      <td>другой</td>\n",
       "      <td>0.789700</td>\n",
       "      <td>-0.154506</td>\n",
       "      <td>Thursday</td>\n",
       "      <td>4</td>\n",
       "      <td>2019</td>\n",
       "      <td>15.0</td>\n",
       "    </tr>\n",
       "  </tbody>\n",
       "</table>\n",
       "<p>5 rows × 30 columns</p>\n",
       "</div>"
      ],
      "text/plain": [
       "       total_images  last_price  total_area first_day_exposition  rooms  \\\n",
       "114               5       4.000        21.4           2019-02-07      1   \n",
       "8894              3       2.099        23.0           2018-09-25      1   \n",
       "23673             9       3.100        23.0           2018-03-19      1   \n",
       "7829              9       3.390        23.0           2019-02-21      1   \n",
       "12323             6       3.790        23.3           2019-04-04      1   \n",
       "\n",
       "       ceiling_height  floors_total  living_area  floor is_apartment  ...  \\\n",
       "114              2.90             8          8.3      7            0  ...   \n",
       "8894             2.70            16         17.9     10            0  ...   \n",
       "23673            2.80             9         12.6      1            0  ...   \n",
       "7829             2.54             6         10.0      1            0  ...   \n",
       "12323            2.70            25         18.4     13            0  ...   \n",
       "\n",
       "       ponds_nearest  days_exposition  price_per_metr  range_floor  \\\n",
       "114              286                0          186915       другой   \n",
       "8894             457               37           91260       другой   \n",
       "23673            442               41          134782       первый   \n",
       "7829             631               60          147391       первый   \n",
       "12323           1159                9          162660       другой   \n",
       "\n",
       "      living_area_ratio_total  kitchen_ratio_total   weekday  month  year  \\\n",
       "114                  0.387850             0.294393  Thursday      2  2019   \n",
       "8894                 0.778261            -0.147826   Tuesday      9  2018   \n",
       "23673                0.547826             0.217391    Monday      3  2018   \n",
       "7829                 0.434783             0.304348  Thursday      2  2019   \n",
       "12323                0.789700            -0.154506  Thursday      4  2019   \n",
       "\n",
       "       distance_to_center  \n",
       "114                   6.0  \n",
       "8894                 23.0  \n",
       "23673                12.0  \n",
       "7829                  7.0  \n",
       "12323                15.0  \n",
       "\n",
       "[5 rows x 30 columns]"
      ]
     },
     "metadata": {},
     "output_type": "display_data"
    },
    {
     "data": {
      "image/png": "[encoded data removed]",
      "text/plain": [
       "<Figure size 864x360 with 1 Axes>"
      ]
     },
     "metadata": {
      "needs_background": "light"
     },
     "output_type": "display_data"
    }
   ],
   "source": [
    "#Добавляем новый столбец с расстоянием до центра в км\n",
    "data['distance_to_center'] = (data['cityCenters_nearest']/1000).round()\n",
    "spb = data.query('locality_name == \"Санкт-Петербург\"')\n",
    "\n",
    "display(spb.head(5))\n",
    "#строим сводную таблицу и график зависимости стоимоти кв2 от удаленности от центра\n",
    "center_round = spb.pivot_table(index = 'distance_to_center',values= 'price_per_metr').sort_values(by= 'distance_to_center').round()\n",
    "\n",
    "\n",
    "fig, ax = plt.subplots()\n",
    "ax.plot(center_round, label = 'цена')\n",
    "ax.legend()\n",
    "plt.title('стоимоти кв2 от удаленности от центра')\n",
    "plt.xlabel('расстояние до центра')\n",
    "plt.ylabel('Цена за м кв')\n",
    "fig.set_figwidth(12)\n",
    "fig.set_figheight(5)\n",
    "plt.grid()\n",
    "plt.show()\n"
   ]
  },
  {
   "cell_type": "markdown",
   "metadata": {},
   "source": [
    " Изходя из графика - видно что в целом чем дальше квартира от центра тем дешевле она стоит\n",
    " Можно предположить что центральная зона - приблизительно 10 км"
   ]
  },
  {
   "cell_type": "code",
   "execution_count": 23,
   "metadata": {},
   "outputs": [
    {
     "data": {
      "text/html": [
       "<div>\n",
       "<style scoped>\n",
       "    .dataframe tbody tr th:only-of-type {\n",
       "        vertical-align: middle;\n",
       "    }\n",
       "\n",
       "    .dataframe tbody tr th {\n",
       "        vertical-align: top;\n",
       "    }\n",
       "\n",
       "    .dataframe thead tr th {\n",
       "        text-align: left;\n",
       "    }\n",
       "\n",
       "    .dataframe thead tr:last-of-type th {\n",
       "        text-align: right;\n",
       "    }\n",
       "</style>\n",
       "<table border=\"1\" class=\"dataframe\">\n",
       "  <thead>\n",
       "    <tr>\n",
       "      <th></th>\n",
       "      <th colspan=\"4\" halign=\"left\">mean</th>\n",
       "      <th colspan=\"4\" halign=\"left\">median</th>\n",
       "    </tr>\n",
       "    <tr>\n",
       "      <th></th>\n",
       "      <th>ceiling_height</th>\n",
       "      <th>last_price</th>\n",
       "      <th>rooms</th>\n",
       "      <th>total_area</th>\n",
       "      <th>ceiling_height</th>\n",
       "      <th>last_price</th>\n",
       "      <th>rooms</th>\n",
       "      <th>total_area</th>\n",
       "    </tr>\n",
       "    <tr>\n",
       "      <th>distance_to_center</th>\n",
       "      <th></th>\n",
       "      <th></th>\n",
       "      <th></th>\n",
       "      <th></th>\n",
       "      <th></th>\n",
       "      <th></th>\n",
       "      <th></th>\n",
       "      <th></th>\n",
       "    </tr>\n",
       "  </thead>\n",
       "  <tbody>\n",
       "    <tr>\n",
       "      <th>0.0</th>\n",
       "      <td>3.0</td>\n",
       "      <td>12.0</td>\n",
       "      <td>3.0</td>\n",
       "      <td>80.0</td>\n",
       "      <td>3.0</td>\n",
       "      <td>7.0</td>\n",
       "      <td>2</td>\n",
       "      <td>68.0</td>\n",
       "    </tr>\n",
       "    <tr>\n",
       "      <th>1.0</th>\n",
       "      <td>3.0</td>\n",
       "      <td>11.0</td>\n",
       "      <td>3.0</td>\n",
       "      <td>88.0</td>\n",
       "      <td>3.0</td>\n",
       "      <td>10.0</td>\n",
       "      <td>3</td>\n",
       "      <td>81.0</td>\n",
       "    </tr>\n",
       "    <tr>\n",
       "      <th>2.0</th>\n",
       "      <td>3.0</td>\n",
       "      <td>12.0</td>\n",
       "      <td>3.0</td>\n",
       "      <td>89.0</td>\n",
       "      <td>3.0</td>\n",
       "      <td>10.0</td>\n",
       "      <td>3</td>\n",
       "      <td>83.0</td>\n",
       "    </tr>\n",
       "    <tr>\n",
       "      <th>3.0</th>\n",
       "      <td>3.0</td>\n",
       "      <td>10.0</td>\n",
       "      <td>3.0</td>\n",
       "      <td>86.0</td>\n",
       "      <td>3.0</td>\n",
       "      <td>8.0</td>\n",
       "      <td>3</td>\n",
       "      <td>79.0</td>\n",
       "    </tr>\n",
       "    <tr>\n",
       "      <th>4.0</th>\n",
       "      <td>3.0</td>\n",
       "      <td>11.0</td>\n",
       "      <td>3.0</td>\n",
       "      <td>89.0</td>\n",
       "      <td>3.0</td>\n",
       "      <td>9.0</td>\n",
       "      <td>3</td>\n",
       "      <td>82.0</td>\n",
       "    </tr>\n",
       "    <tr>\n",
       "      <th>5.0</th>\n",
       "      <td>3.0</td>\n",
       "      <td>11.0</td>\n",
       "      <td>3.0</td>\n",
       "      <td>84.0</td>\n",
       "      <td>3.0</td>\n",
       "      <td>9.0</td>\n",
       "      <td>3</td>\n",
       "      <td>75.0</td>\n",
       "    </tr>\n",
       "    <tr>\n",
       "      <th>6.0</th>\n",
       "      <td>3.0</td>\n",
       "      <td>11.0</td>\n",
       "      <td>2.0</td>\n",
       "      <td>76.0</td>\n",
       "      <td>3.0</td>\n",
       "      <td>8.0</td>\n",
       "      <td>2</td>\n",
       "      <td>72.0</td>\n",
       "    </tr>\n",
       "    <tr>\n",
       "      <th>7.0</th>\n",
       "      <td>3.0</td>\n",
       "      <td>11.0</td>\n",
       "      <td>2.0</td>\n",
       "      <td>73.0</td>\n",
       "      <td>3.0</td>\n",
       "      <td>7.0</td>\n",
       "      <td>2</td>\n",
       "      <td>65.0</td>\n",
       "    </tr>\n",
       "    <tr>\n",
       "      <th>8.0</th>\n",
       "      <td>3.0</td>\n",
       "      <td>10.0</td>\n",
       "      <td>2.0</td>\n",
       "      <td>77.0</td>\n",
       "      <td>3.0</td>\n",
       "      <td>9.0</td>\n",
       "      <td>2</td>\n",
       "      <td>70.0</td>\n",
       "    </tr>\n",
       "    <tr>\n",
       "      <th>9.0</th>\n",
       "      <td>3.0</td>\n",
       "      <td>8.0</td>\n",
       "      <td>2.0</td>\n",
       "      <td>65.0</td>\n",
       "      <td>3.0</td>\n",
       "      <td>6.0</td>\n",
       "      <td>2</td>\n",
       "      <td>60.0</td>\n",
       "    </tr>\n",
       "    <tr>\n",
       "      <th>10.0</th>\n",
       "      <td>3.0</td>\n",
       "      <td>7.0</td>\n",
       "      <td>2.0</td>\n",
       "      <td>61.0</td>\n",
       "      <td>3.0</td>\n",
       "      <td>6.0</td>\n",
       "      <td>2</td>\n",
       "      <td>53.0</td>\n",
       "    </tr>\n",
       "  </tbody>\n",
       "</table>\n",
       "</div>"
      ],
      "text/plain": [
       "                             mean                                     median  \\\n",
       "                   ceiling_height last_price rooms total_area ceiling_height   \n",
       "distance_to_center                                                             \n",
       "0.0                           3.0       12.0   3.0       80.0            3.0   \n",
       "1.0                           3.0       11.0   3.0       88.0            3.0   \n",
       "2.0                           3.0       12.0   3.0       89.0            3.0   \n",
       "3.0                           3.0       10.0   3.0       86.0            3.0   \n",
       "4.0                           3.0       11.0   3.0       89.0            3.0   \n",
       "5.0                           3.0       11.0   3.0       84.0            3.0   \n",
       "6.0                           3.0       11.0   2.0       76.0            3.0   \n",
       "7.0                           3.0       11.0   2.0       73.0            3.0   \n",
       "8.0                           3.0       10.0   2.0       77.0            3.0   \n",
       "9.0                           3.0        8.0   2.0       65.0            3.0   \n",
       "10.0                          3.0        7.0   2.0       61.0            3.0   \n",
       "\n",
       "                                                \n",
       "                   last_price rooms total_area  \n",
       "distance_to_center                              \n",
       "0.0                       7.0     2       68.0  \n",
       "1.0                      10.0     3       81.0  \n",
       "2.0                      10.0     3       83.0  \n",
       "3.0                       8.0     3       79.0  \n",
       "4.0                       9.0     3       82.0  \n",
       "5.0                       9.0     3       75.0  \n",
       "6.0                       8.0     2       72.0  \n",
       "7.0                       7.0     2       65.0  \n",
       "8.0                       9.0     2       70.0  \n",
       "9.0                       6.0     2       60.0  \n",
       "10.0                      6.0     2       53.0  "
      ]
     },
     "execution_count": 23,
     "metadata": {},
     "output_type": "execute_result"
    }
   ],
   "source": [
    "center_spb = spb.query('distance_to_center < 11')\n",
    "center_spb_round = center_spb.pivot_table(index='distance_to_center', values=['total_area', 'last_price', 'rooms', \n",
    "                                                                              'ceiling_height'], aggfunc = ['mean','median']).sort_values(by= 'distance_to_center').round()\n",
    "center_spb_round"
   ]
  },
  {
   "cell_type": "markdown",
   "metadata": {},
   "source": [
    "Сводная таблица по дефолту агреширует по среднему значению, если в параметре aggfunc - ни чего не указывать. \n",
    "\n",
    "Если задать параметр 'median', то соответственно будет агрегироватьс по медианным значениям"
   ]
  },
  {
   "cell_type": "code",
   "execution_count": 24,
   "metadata": {},
   "outputs": [],
   "source": [
    "#выделим сегмент города за пределами центра:\n",
    "outside_the_city_spb = spb.query('distance_to_center > 11')"
   ]
  },
  {
   "cell_type": "code",
   "execution_count": 25,
   "metadata": {},
   "outputs": [
    {
     "data": {
      "text/html": [
       "<div>\n",
       "<style scoped>\n",
       "    .dataframe tbody tr th:only-of-type {\n",
       "        vertical-align: middle;\n",
       "    }\n",
       "\n",
       "    .dataframe tbody tr th {\n",
       "        vertical-align: top;\n",
       "    }\n",
       "\n",
       "    .dataframe thead tr th {\n",
       "        text-align: left;\n",
       "    }\n",
       "\n",
       "    .dataframe thead tr:last-of-type th {\n",
       "        text-align: right;\n",
       "    }\n",
       "</style>\n",
       "<table border=\"1\" class=\"dataframe\">\n",
       "  <thead>\n",
       "    <tr>\n",
       "      <th></th>\n",
       "      <th colspan=\"4\" halign=\"left\">mean</th>\n",
       "      <th colspan=\"4\" halign=\"left\">median</th>\n",
       "    </tr>\n",
       "    <tr>\n",
       "      <th></th>\n",
       "      <th>ceiling_height</th>\n",
       "      <th>last_price</th>\n",
       "      <th>rooms</th>\n",
       "      <th>total_area</th>\n",
       "      <th>ceiling_height</th>\n",
       "      <th>last_price</th>\n",
       "      <th>rooms</th>\n",
       "      <th>total_area</th>\n",
       "    </tr>\n",
       "    <tr>\n",
       "      <th>distance_to_center</th>\n",
       "      <th></th>\n",
       "      <th></th>\n",
       "      <th></th>\n",
       "      <th></th>\n",
       "      <th></th>\n",
       "      <th></th>\n",
       "      <th></th>\n",
       "      <th></th>\n",
       "    </tr>\n",
       "  </thead>\n",
       "  <tbody>\n",
       "    <tr>\n",
       "      <th>12.0</th>\n",
       "      <td>3.0</td>\n",
       "      <td>6.0</td>\n",
       "      <td>2.0</td>\n",
       "      <td>57.0</td>\n",
       "      <td>3.0</td>\n",
       "      <td>5.0</td>\n",
       "      <td>2.0</td>\n",
       "      <td>52.0</td>\n",
       "    </tr>\n",
       "    <tr>\n",
       "      <th>13.0</th>\n",
       "      <td>3.0</td>\n",
       "      <td>7.0</td>\n",
       "      <td>2.0</td>\n",
       "      <td>60.0</td>\n",
       "      <td>3.0</td>\n",
       "      <td>6.0</td>\n",
       "      <td>2.0</td>\n",
       "      <td>54.0</td>\n",
       "    </tr>\n",
       "    <tr>\n",
       "      <th>14.0</th>\n",
       "      <td>3.0</td>\n",
       "      <td>6.0</td>\n",
       "      <td>2.0</td>\n",
       "      <td>56.0</td>\n",
       "      <td>3.0</td>\n",
       "      <td>5.0</td>\n",
       "      <td>2.0</td>\n",
       "      <td>50.0</td>\n",
       "    </tr>\n",
       "    <tr>\n",
       "      <th>15.0</th>\n",
       "      <td>3.0</td>\n",
       "      <td>6.0</td>\n",
       "      <td>2.0</td>\n",
       "      <td>59.0</td>\n",
       "      <td>3.0</td>\n",
       "      <td>5.0</td>\n",
       "      <td>2.0</td>\n",
       "      <td>53.0</td>\n",
       "    </tr>\n",
       "    <tr>\n",
       "      <th>16.0</th>\n",
       "      <td>3.0</td>\n",
       "      <td>6.0</td>\n",
       "      <td>2.0</td>\n",
       "      <td>56.0</td>\n",
       "      <td>3.0</td>\n",
       "      <td>5.0</td>\n",
       "      <td>2.0</td>\n",
       "      <td>51.0</td>\n",
       "    </tr>\n",
       "    <tr>\n",
       "      <th>17.0</th>\n",
       "      <td>3.0</td>\n",
       "      <td>6.0</td>\n",
       "      <td>2.0</td>\n",
       "      <td>58.0</td>\n",
       "      <td>3.0</td>\n",
       "      <td>5.0</td>\n",
       "      <td>2.0</td>\n",
       "      <td>53.0</td>\n",
       "    </tr>\n",
       "    <tr>\n",
       "      <th>18.0</th>\n",
       "      <td>3.0</td>\n",
       "      <td>5.0</td>\n",
       "      <td>2.0</td>\n",
       "      <td>58.0</td>\n",
       "      <td>3.0</td>\n",
       "      <td>5.0</td>\n",
       "      <td>2.0</td>\n",
       "      <td>52.0</td>\n",
       "    </tr>\n",
       "    <tr>\n",
       "      <th>19.0</th>\n",
       "      <td>3.0</td>\n",
       "      <td>5.0</td>\n",
       "      <td>2.0</td>\n",
       "      <td>54.0</td>\n",
       "      <td>3.0</td>\n",
       "      <td>4.0</td>\n",
       "      <td>2.0</td>\n",
       "      <td>52.0</td>\n",
       "    </tr>\n",
       "    <tr>\n",
       "      <th>20.0</th>\n",
       "      <td>3.0</td>\n",
       "      <td>7.0</td>\n",
       "      <td>2.0</td>\n",
       "      <td>65.0</td>\n",
       "      <td>3.0</td>\n",
       "      <td>6.0</td>\n",
       "      <td>2.0</td>\n",
       "      <td>68.0</td>\n",
       "    </tr>\n",
       "    <tr>\n",
       "      <th>21.0</th>\n",
       "      <td>3.0</td>\n",
       "      <td>6.0</td>\n",
       "      <td>2.0</td>\n",
       "      <td>60.0</td>\n",
       "      <td>3.0</td>\n",
       "      <td>6.0</td>\n",
       "      <td>2.0</td>\n",
       "      <td>58.0</td>\n",
       "    </tr>\n",
       "    <tr>\n",
       "      <th>22.0</th>\n",
       "      <td>3.0</td>\n",
       "      <td>6.0</td>\n",
       "      <td>2.0</td>\n",
       "      <td>62.0</td>\n",
       "      <td>3.0</td>\n",
       "      <td>5.0</td>\n",
       "      <td>2.0</td>\n",
       "      <td>56.0</td>\n",
       "    </tr>\n",
       "    <tr>\n",
       "      <th>23.0</th>\n",
       "      <td>3.0</td>\n",
       "      <td>5.0</td>\n",
       "      <td>2.0</td>\n",
       "      <td>57.0</td>\n",
       "      <td>3.0</td>\n",
       "      <td>5.0</td>\n",
       "      <td>2.0</td>\n",
       "      <td>52.0</td>\n",
       "    </tr>\n",
       "    <tr>\n",
       "      <th>24.0</th>\n",
       "      <td>3.0</td>\n",
       "      <td>5.0</td>\n",
       "      <td>2.0</td>\n",
       "      <td>52.0</td>\n",
       "      <td>3.0</td>\n",
       "      <td>5.0</td>\n",
       "      <td>2.0</td>\n",
       "      <td>56.0</td>\n",
       "    </tr>\n",
       "    <tr>\n",
       "      <th>25.0</th>\n",
       "      <td>3.0</td>\n",
       "      <td>4.0</td>\n",
       "      <td>2.0</td>\n",
       "      <td>51.0</td>\n",
       "      <td>3.0</td>\n",
       "      <td>3.0</td>\n",
       "      <td>1.0</td>\n",
       "      <td>37.0</td>\n",
       "    </tr>\n",
       "    <tr>\n",
       "      <th>26.0</th>\n",
       "      <td>3.0</td>\n",
       "      <td>4.0</td>\n",
       "      <td>2.0</td>\n",
       "      <td>53.0</td>\n",
       "      <td>3.0</td>\n",
       "      <td>4.0</td>\n",
       "      <td>1.0</td>\n",
       "      <td>44.0</td>\n",
       "    </tr>\n",
       "    <tr>\n",
       "      <th>27.0</th>\n",
       "      <td>3.0</td>\n",
       "      <td>14.0</td>\n",
       "      <td>2.0</td>\n",
       "      <td>74.0</td>\n",
       "      <td>3.0</td>\n",
       "      <td>14.0</td>\n",
       "      <td>2.0</td>\n",
       "      <td>74.0</td>\n",
       "    </tr>\n",
       "    <tr>\n",
       "      <th>28.0</th>\n",
       "      <td>3.0</td>\n",
       "      <td>8.0</td>\n",
       "      <td>3.0</td>\n",
       "      <td>111.0</td>\n",
       "      <td>3.0</td>\n",
       "      <td>8.0</td>\n",
       "      <td>3.0</td>\n",
       "      <td>111.0</td>\n",
       "    </tr>\n",
       "    <tr>\n",
       "      <th>29.0</th>\n",
       "      <td>3.0</td>\n",
       "      <td>4.0</td>\n",
       "      <td>2.0</td>\n",
       "      <td>47.0</td>\n",
       "      <td>3.0</td>\n",
       "      <td>4.0</td>\n",
       "      <td>2.0</td>\n",
       "      <td>47.0</td>\n",
       "    </tr>\n",
       "  </tbody>\n",
       "</table>\n",
       "</div>"
      ],
      "text/plain": [
       "                             mean                                     median  \\\n",
       "                   ceiling_height last_price rooms total_area ceiling_height   \n",
       "distance_to_center                                                             \n",
       "12.0                          3.0        6.0   2.0       57.0            3.0   \n",
       "13.0                          3.0        7.0   2.0       60.0            3.0   \n",
       "14.0                          3.0        6.0   2.0       56.0            3.0   \n",
       "15.0                          3.0        6.0   2.0       59.0            3.0   \n",
       "16.0                          3.0        6.0   2.0       56.0            3.0   \n",
       "17.0                          3.0        6.0   2.0       58.0            3.0   \n",
       "18.0                          3.0        5.0   2.0       58.0            3.0   \n",
       "19.0                          3.0        5.0   2.0       54.0            3.0   \n",
       "20.0                          3.0        7.0   2.0       65.0            3.0   \n",
       "21.0                          3.0        6.0   2.0       60.0            3.0   \n",
       "22.0                          3.0        6.0   2.0       62.0            3.0   \n",
       "23.0                          3.0        5.0   2.0       57.0            3.0   \n",
       "24.0                          3.0        5.0   2.0       52.0            3.0   \n",
       "25.0                          3.0        4.0   2.0       51.0            3.0   \n",
       "26.0                          3.0        4.0   2.0       53.0            3.0   \n",
       "27.0                          3.0       14.0   2.0       74.0            3.0   \n",
       "28.0                          3.0        8.0   3.0      111.0            3.0   \n",
       "29.0                          3.0        4.0   2.0       47.0            3.0   \n",
       "\n",
       "                                                \n",
       "                   last_price rooms total_area  \n",
       "distance_to_center                              \n",
       "12.0                      5.0   2.0       52.0  \n",
       "13.0                      6.0   2.0       54.0  \n",
       "14.0                      5.0   2.0       50.0  \n",
       "15.0                      5.0   2.0       53.0  \n",
       "16.0                      5.0   2.0       51.0  \n",
       "17.0                      5.0   2.0       53.0  \n",
       "18.0                      5.0   2.0       52.0  \n",
       "19.0                      4.0   2.0       52.0  \n",
       "20.0                      6.0   2.0       68.0  \n",
       "21.0                      6.0   2.0       58.0  \n",
       "22.0                      5.0   2.0       56.0  \n",
       "23.0                      5.0   2.0       52.0  \n",
       "24.0                      5.0   2.0       56.0  \n",
       "25.0                      3.0   1.0       37.0  \n",
       "26.0                      4.0   1.0       44.0  \n",
       "27.0                     14.0   2.0       74.0  \n",
       "28.0                      8.0   3.0      111.0  \n",
       "29.0                      4.0   2.0       47.0  "
      ]
     },
     "execution_count": 25,
     "metadata": {},
     "output_type": "execute_result"
    }
   ],
   "source": [
    "outside_the_city_spb_round = outside_the_city_spb.pivot_table(index='distance_to_center', values=['total_area', 'last_price', 'rooms', \n",
    "                                                                              'ceiling_height'], aggfunc = ['mean','median']).sort_values(by= 'distance_to_center').round()\n",
    "outside_the_city_spb_round"
   ]
  },
  {
   "cell_type": "markdown",
   "metadata": {},
   "source": [
    "Исходя из сводных таблиц центра и за пределами центра города, видно что чем дальше от центра тем квартиры дешевле и меньше площадь квартир.\n"
   ]
  },
  {
   "cell_type": "code",
   "execution_count": 26,
   "metadata": {},
   "outputs": [
    {
     "data": {
      "image/png": "[encoded data removed]",
      "text/plain": [
       "<Figure size 864x360 with 1 Axes>"
      ]
     },
     "metadata": {
      "needs_background": "light"
     },
     "output_type": "display_data"
    }
   ],
   "source": [
    "center_spb_round_price_per_rooms = center_spb.pivot_table(index ='rooms', values = 'last_price')\n",
    "outside_the_city_spb_price_per_rooms= outside_the_city_spb.pivot_table(index ='rooms', values = 'last_price')\n",
    "\n",
    "fig, ax = plt.subplots()\n",
    "ax.plot(center_spb_round_price_per_rooms, label = 'Квартиры в центре')\n",
    "ax.plot(outside_the_city_spb_price_per_rooms, label = 'Квартиры за  пределами центра')\n",
    "ax.legend()\n",
    "plt.title('Зависимость цены от количества комнат для квартир в центре и за центром')\n",
    "plt.xlabel('Количество комнат')\n",
    "plt.ylabel('Цена')\n",
    "fig.set_figwidth(12)\n",
    "fig.set_figheight(5)\n",
    "plt.grid()\n",
    "plt.show()"
   ]
  },
  {
   "cell_type": "code",
   "execution_count": 27,
   "metadata": {},
   "outputs": [
    {
     "name": "stdout",
     "output_type": "stream",
     "text": [
      "Коэффицент корреляции Пирсона в центре города равен 0.45\n",
      "Коэффицент корреляции Пирсона за пределами центра города равен 0.56\n"
     ]
    }
   ],
   "source": [
    "print('Коэффицент корреляции Пирсона в центре города равен {}'.\n",
    "      format(round(center_spb['rooms'].corr(center_spb['last_price']),2)))\n",
    "print('Коэффицент корреляции Пирсона за пределами центра города равен {}'.\n",
    "      format(round(outside_the_city_spb['rooms'].corr(outside_the_city_spb['last_price']),2)))"
   ]
  },
  {
   "cell_type": "markdown",
   "metadata": {},
   "source": [
    "Исходяиз рассчета Коэфициентов Пирсона, как коичество комнат влияет на соимость квартиры, вино что за предеами центра города количество комнат влияет нацену сильнее чем в центре"
   ]
  },
  {
   "cell_type": "code",
   "execution_count": 28,
   "metadata": {},
   "outputs": [
    {
     "data": {
      "image/png": "[encoded data removed]",
      "text/plain": [
       "<Figure size 864x360 with 1 Axes>"
      ]
     },
     "metadata": {
      "needs_background": "light"
     },
     "output_type": "display_data"
    }
   ],
   "source": [
    "center_spb_price_per_floor = center_spb.pivot_table(index ='floor', values = 'last_price')\n",
    "outside_the_city_spb_price_per_floor = outside_the_city_spb.pivot_table(index ='floor', values = 'last_price')\n",
    "\n",
    "fig, ax = plt.subplots()\n",
    "ax.plot(center_spb_price_per_floor, label = 'Квартиры в центре')\n",
    "ax.plot(outside_the_city_spb_price_per_floor, label = 'Квартиры за пределами центра')\n",
    "ax.legend()\n",
    "plt.title('Зависимость цены от этажа для квартир в центре и за пределами центра')\n",
    "plt.xlabel('Этаж')\n",
    "plt.ylabel('Цена')\n",
    "fig.set_figwidth(12)\n",
    "fig.set_figheight(5)\n",
    "plt.grid()\n",
    "plt.show()"
   ]
  },
  {
   "cell_type": "code",
   "execution_count": 29,
   "metadata": {},
   "outputs": [
    {
     "name": "stdout",
     "output_type": "stream",
     "text": [
      "Коэффицент корреляции Пирсона в центре города равен 0.14\n",
      "Коэффицент корреляции Пирсона за пределами центра города равен 0.13\n"
     ]
    }
   ],
   "source": [
    "print('Коэффицент корреляции Пирсона в центре города равен {}'.\n",
    "      format(round(center_spb['floor'].corr(center_spb['last_price']),2)))\n",
    "print('Коэффицент корреляции Пирсона за пределами центра города равен {}'.\n",
    "      format(round(outside_the_city_spb['floor'].corr(outside_the_city_spb['last_price']),2)))"
   ]
  },
  {
   "cell_type": "markdown",
   "metadata": {},
   "source": [
    "Полученные коэфициенты показывают, что зависимость этажом и стоимостью квартиры не большая"
   ]
  },
  {
   "cell_type": "code",
   "execution_count": 30,
   "metadata": {},
   "outputs": [
    {
     "data": {
      "image/png": "[encoded data removed]",
      "text/plain": [
       "<Figure size 864x360 with 1 Axes>"
      ]
     },
     "metadata": {
      "needs_background": "light"
     },
     "output_type": "display_data"
    }
   ],
   "source": [
    "center_spb_distance_per_price = center_spb.pivot_table(index ='distance_to_center', values = 'last_price')\n",
    "outside_the_city_spb_distance= outside_the_city_spb.pivot_table(index ='distance_to_center', values = 'last_price')\n",
    "\n",
    "fig, ax = plt.subplots()\n",
    "ax.plot(center_spb_distance_per_price, label = 'Квартиры в центре')\n",
    "ax.plot(outside_the_city_spb_distance, label = 'Квартиры за центром')\n",
    "ax.legend()\n",
    "plt.title('Зависимость цены от удаленности от центра для квартир в центре и за пределами центра')\n",
    "plt.xlabel('Расстояние до центра')\n",
    "plt.ylabel('Цена')\n",
    "fig.set_figwidth(12)\n",
    "fig.set_figheight(5)\n",
    "plt.grid()\n",
    "plt.show()"
   ]
  },
  {
   "cell_type": "code",
   "execution_count": 31,
   "metadata": {},
   "outputs": [
    {
     "name": "stdout",
     "output_type": "stream",
     "text": [
      "Коэффицент корреляции Пирсона в центре города равен -0.18\n",
      "Коэффицент корреляции Пирсона за пределами центра города равен -0.09\n"
     ]
    }
   ],
   "source": [
    "print('Коэффицент корреляции Пирсона в центре города равен {}'.\n",
    "      format(round(center_spb['distance_to_center'].corr(center_spb['last_price']),2)))\n",
    "print('Коэффицент корреляции Пирсона за пределами центра города равен {}'.\n",
    "      format(round(outside_the_city_spb['distance_to_center'].corr(outside_the_city_spb['last_price']),2)))"
   ]
  },
  {
   "cell_type": "markdown",
   "metadata": {},
   "source": [
    "Коэфициент пирсона показывает что есть небольшая зависимость расстояния от центра  и цены. \n",
    "\n",
    "в Районе 27-28 км от центра виден резкий рост цены \n",
    "\n",
    "Это может быть вызвано либо стоимостью загородной недвижимости либо это выброс который не стоит учитывать в дальнейшем"
   ]
  },
  {
   "cell_type": "code",
   "execution_count": 32,
   "metadata": {},
   "outputs": [
    {
     "data": {
      "image/png": "[encoded data removed]",
      "text/plain": [
       "<Figure size 864x360 with 1 Axes>"
      ]
     },
     "metadata": {
      "needs_background": "light"
     },
     "output_type": "display_data"
    }
   ],
   "source": [
    "center_spb_date_per_price = center_spb.pivot_table(index ='month', values = 'last_price')\n",
    "outside_the_city_spb_date_per_price = outside_the_city_spb.pivot_table(index ='month', values = 'last_price')\n",
    "\n",
    "fig, ax = plt.subplots()\n",
    "ax.plot(center_spb_date_per_price, label = 'Квартиры в центре')\n",
    "ax.plot(outside_the_city_spb_date_per_price, label = 'Квартиры за пределами центра')\n",
    "ax.legend()\n",
    "plt.title('Зависимость цены от дня недели размещения объявления для квартир в центре и запределами центра')\n",
    "plt.xlabel('месяц')\n",
    "plt.ylabel('Цена')\n",
    "fig.set_figwidth(12)\n",
    "fig.set_figheight(5)\n",
    "plt.grid()\n",
    "plt.show()"
   ]
  },
  {
   "cell_type": "code",
   "execution_count": 34,
   "metadata": {},
   "outputs": [
    {
     "name": "stdout",
     "output_type": "stream",
     "text": [
      "Коэффицент корреляции Пирсона в центре города равен -0.0\n",
      "Коэффицент корреляции Пирсона за пределами центра города равен 0.02\n"
     ]
    }
   ],
   "source": [
    "print('Коэффицент корреляции Пирсона в центре города равен {}'.\n",
    "      format(round(center_spb['month'].corr(center_spb['last_price']),2)))\n",
    "print('Коэффицент корреляции Пирсона за пределами центра города равен {}'.\n",
    "      format(round(outside_the_city_spb['month'].corr(outside_the_city_spb['last_price']),2)))"
   ]
  },
  {
   "cell_type": "markdown",
   "metadata": {},
   "source": [
    "Исходя из коэффициентов Пирсона можно сделать вывод, что в центре  месяц публикации не влияет на цену. \n",
    "\n",
    "За пределами центра так же видно что месяц публикации практически не влияет на цену."
   ]
  },
  {
   "cell_type": "markdown",
   "metadata": {},
   "source": [
    "<b>Вывод</b>\n",
    "\n",
    "В целом можно заметить что между центорм Санкт-Петербурга и за пределами центра практически нет различий. Единственное что в центре города площадь и цена квартиры  немного выше."
   ]
  },
  {
   "cell_type": "markdown",
   "metadata": {},
   "source": [
    "из данных сводной таблицы видно что в центральной зоне высота потолков в среднем 3 м, цена от центра к краю центральной зоны незначително снижается. количество комнат в среднем 2-3, общая площадь также уменьшается ближе к краю центральной зоны.\n"
   ]
  },
  {
   "cell_type": "markdown",
   "metadata": {},
   "source": [
    "## Общий вывод"
   ]
  },
  {
   "cell_type": "markdown",
   "metadata": {},
   "source": [
    "При анализе датасета были изучены данные, выявлены и заполнены пропущенные знения, изменены типы данных для удобства дальнейшего анализа. Рассчитана цена квадратного метра квартиры,категорицировали этажность дома: первый, последний и другой этажи. Посчитано сооттношение жилой площди и площади кухни к общей площади.  изучил основные параметр квартиры и вывел  гистограммы для каждого параметра. Было выявлено что среднее время продажи составляет 164 дня, медионное время продажи - 77дней. Обычно квартира продается от 18 до 211 дней. Быстрыми продажами можно считать - до 30 дней,медленными - от 90 дней.        Исходя из ранее предпоогаемых значенийделаем срезы по площади, цене, комнатам и высоте потоков.\n",
    "Соответственно предположил,что минимальная площадь студии не может быть меньше 21м2, так же максимально возможную площадь ограничили 250м2.\n",
    "По цене срез делал изходя из того, чтосамая маленькая квартира не может стоить меньше 1,5млн руб, а максимальна цена - 40 млнруб.\n",
    "в среднем по рынку квартиры не встречаются более 6 комнат. все остальное комуналки и они редко продаются целеком.\n",
    "Предпологааю, то дома с потолками ниже 2,55м и 3,5м не строят.\n",
    "Цена зависит от:\n",
    " - площади квартиры, чем квартира большей пощади тем дороже она стоит;\n",
    " - количества комнат, чем больше комнат тем дороже квартира;\n",
    " - от этажности  средние этажи стоят дороже.\n",
    "\n",
    "Выбрали 10 городов с боьшим количеством объявлений, выявил населенные пункты с большей и меньшей стоимостью за м2: Санкт-Петербург и Всеволожск.\n",
    "Выявил область центра - она составила 10 км. из данных сводной таблицы видно что в центральной зоне высота потолков в среднем 3 м, цена от центра к краю центральной зоны незначително снижается. количество комнат в среднем 2-3, общая площадь также уменьшается ближе к краю центральной зоны.\n",
    "\n",
    "Исходя из проведенного анализа можно сделать следующие выводы:\n",
    " - чем дальше квартира от центра тем она дешевле. так же  и для квартир в центральном круге.\n",
    " - чем больше комнат тем выше стоимость квартиры\n",
    " - больше всего объявлений появляются в понедельник, вторник, среда и четверг\n",
    " - больше всего объявлений - в январе, а меньше - в июне\n",
    " - с 14 года по 18 - цены снижались и только с 18 года снова пошли в рост\n",
    " Было выбрано 10 населённых пунктов с наибольшим числом объявленийБ больше всего объявлений в Санкт-Петербурге. Самая высокая стоимость недвижимости - в деревне Бор, самая дешевая недвижимость - в поселке Пригорный и пгт Кузнечное.\n",
    " На графике  видно что в целом чем дальше квартира от центра тем дешевле она стоит\n",
    " Можно предположить что центральная зона - приблизительно 10 км\n",
    " из данных сводной таблицы видно что в центральной зоне высота потолков в среднем 3 м, цена от центра к краю центральной зоны незначително снижается. количество комнат в среднем 2-3, общая площадь также уменьшается ближе к краю центральной зоны.\n",
    "\n",
    "По результату анализа можно сделать вывод, что цена квартиры зависит от: площади, высоты потолков, количества комнат и удаленности от центра."
   ]
  }
 ],
 "metadata": {
  "kernelspec": {
   "display_name": "Python 3 (ipykernel)",
   "language": "python",
   "name": "python3"
  },
  "language_info": {
   "codemirror_mode": {
    "name": "ipython",
    "version": 3
   },
   "file_extension": ".py",
   "mimetype": "text/x-python",
   "name": "python",
   "nbconvert_exporter": "python",
   "pygments_lexer": "ipython3",
   "version": "3.9.7"
  },
  "toc": {
   "base_numbering": 1,
   "nav_menu": {},
   "number_sections": true,
   "sideBar": true,
   "skip_h1_title": true,
   "title_cell": "Содержание",
   "title_sidebar": "Contents",
   "toc_cell": true,
   "toc_position": {},
   "toc_section_display": true,
   "toc_window_display": true
  }
 },
 "nbformat": 4,
 "nbformat_minor": 2
}
