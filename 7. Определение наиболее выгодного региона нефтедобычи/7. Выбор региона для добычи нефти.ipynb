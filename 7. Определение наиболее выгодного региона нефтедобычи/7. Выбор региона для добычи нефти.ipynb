{
 "cells": [
  {
   "cell_type": "markdown",
   "id": "864f2f6c",
   "metadata": {},
   "source": [
    "## Описание проекта"
   ]
  },
  {
   "cell_type": "markdown",
   "id": "ee1b252f",
   "metadata": {},
   "source": [
    "Нам предоставлены данные  добывающей компании. Нужно решить, где бурить новую скважину.\n",
    "\n",
    "Шаги для выбора локации обычно такие:\n",
    "\n",
    "     В избранном регионе собирают характеристики для скважин: качество нефти и объём её запасов;\n",
    "     Строят модель для предсказания объёма запасов в новых скважинах;\n",
    "     Выбирают скважины с самыми высокими оценками значений;\n",
    "     Определяют регион с максимальной суммарной прибылью отобранных скважин.\n",
    "     \n",
    "Нам предоставлены пробы нефти в трёх регионах. Характеристики для каждой скважины в регионе уже известны. Необходимо построить модель для определения региона, где добыча принесёт наибольшую прибыль. Нужно Проанализировать возможную прибыль и риски техникой Bootstrap."
   ]
  },
  {
   "cell_type": "markdown",
   "id": "ba30768e",
   "metadata": {},
   "source": [
    "#### Данные"
   ]
  },
  {
   "cell_type": "markdown",
   "id": "725e2f86",
   "metadata": {},
   "source": [
    "id — уникальный идентификатор скважины;\n",
    "\n",
    "f0, f1, f2 — три признака точек (неважно, что они означают, но сами признаки значимы);\n",
    "\n",
    "Целевой признак:\n",
    "    \n",
    "product — объём запасов в скважине (тыс. баррелей)."
   ]
  },
  {
   "cell_type": "markdown",
   "id": "8a090981",
   "metadata": {},
   "source": [
    "### Изучение данных"
   ]
  },
  {
   "cell_type": "markdown",
   "id": "8d5f354f",
   "metadata": {},
   "source": [
    "Импортируем библиотеки"
   ]
  },
  {
   "cell_type": "code",
   "execution_count": 20,
   "id": "58ff245b",
   "metadata": {},
   "outputs": [],
   "source": [
    "import pandas as pd\n",
    "import numpy as np\n",
    "from sklearn.linear_model import LinearRegression\n",
    "from sklearn.model_selection import train_test_split\n",
    "from sklearn.metrics import mean_squared_error\n",
    "from scipy import stats as st"
   ]
  },
  {
   "cell_type": "markdown",
   "id": "926c7ef3",
   "metadata": {},
   "source": [
    "Загружаем данные:"
   ]
  },
  {
   "cell_type": "code",
   "execution_count": 2,
   "id": "28023190",
   "metadata": {},
   "outputs": [],
   "source": [
    "import os\n",
    "\n",
    "pth1 = 'geo_data_0.csv'\n",
    "pth2 = '/datasets/geo_data_0.csv'\n",
    "\n",
    "pth3 = 'geo_data_1.csv'\n",
    "prh4 = '/datasets/geo_data_1.csv'\n",
    "\n",
    "pth5 = 'geo_data_2.csv'\n",
    "pth6 = '/datasets/geo_data_2.csv'\n",
    "\n",
    "if os.path.exists(pth1):\n",
    "    df_1 = pd.read_csv(pth1)\n",
    "    df_2 = pd.read_csv(pth3)\n",
    "    df_3 = pd.read_csv(pth5)\n",
    "elif os.path.exists(pth2):\n",
    "    df_1 = pd.read_csv(pth2)\n",
    "    df_2 = pd.read_csv(pth4)\n",
    "    df_3 = pd.read_csv(pth6)\n",
    "else:\n",
    "    print('Something is wrong')"
   ]
  },
  {
   "cell_type": "markdown",
   "id": "ac21b988",
   "metadata": {},
   "source": [
    "Изучаем датафреймы:"
   ]
  },
  {
   "cell_type": "code",
   "execution_count": 3,
   "id": "2216d424",
   "metadata": {},
   "outputs": [
    {
     "name": "stdout",
     "output_type": "stream",
     "text": [
      "<class 'pandas.core.frame.DataFrame'>\n",
      "RangeIndex: 100000 entries, 0 to 99999\n",
      "Data columns (total 5 columns):\n",
      " #   Column   Non-Null Count   Dtype  \n",
      "---  ------   --------------   -----  \n",
      " 0   id       100000 non-null  object \n",
      " 1   f0       100000 non-null  float64\n",
      " 2   f1       100000 non-null  float64\n",
      " 3   f2       100000 non-null  float64\n",
      " 4   product  100000 non-null  float64\n",
      "dtypes: float64(4), object(1)\n",
      "memory usage: 3.8+ MB\n"
     ]
    }
   ],
   "source": [
    "df_1.info()"
   ]
  },
  {
   "cell_type": "code",
   "execution_count": 4,
   "id": "d8a94585",
   "metadata": {},
   "outputs": [
    {
     "name": "stdout",
     "output_type": "stream",
     "text": [
      "<class 'pandas.core.frame.DataFrame'>\n",
      "RangeIndex: 100000 entries, 0 to 99999\n",
      "Data columns (total 5 columns):\n",
      " #   Column   Non-Null Count   Dtype  \n",
      "---  ------   --------------   -----  \n",
      " 0   id       100000 non-null  object \n",
      " 1   f0       100000 non-null  float64\n",
      " 2   f1       100000 non-null  float64\n",
      " 3   f2       100000 non-null  float64\n",
      " 4   product  100000 non-null  float64\n",
      "dtypes: float64(4), object(1)\n",
      "memory usage: 3.8+ MB\n"
     ]
    }
   ],
   "source": [
    "df_2.info()"
   ]
  },
  {
   "cell_type": "code",
   "execution_count": 5,
   "id": "5f8b1eb7",
   "metadata": {},
   "outputs": [
    {
     "name": "stdout",
     "output_type": "stream",
     "text": [
      "<class 'pandas.core.frame.DataFrame'>\n",
      "RangeIndex: 100000 entries, 0 to 99999\n",
      "Data columns (total 5 columns):\n",
      " #   Column   Non-Null Count   Dtype  \n",
      "---  ------   --------------   -----  \n",
      " 0   id       100000 non-null  object \n",
      " 1   f0       100000 non-null  float64\n",
      " 2   f1       100000 non-null  float64\n",
      " 3   f2       100000 non-null  float64\n",
      " 4   product  100000 non-null  float64\n",
      "dtypes: float64(4), object(1)\n",
      "memory usage: 3.8+ MB\n"
     ]
    }
   ],
   "source": [
    "df_3.info()"
   ]
  },
  {
   "cell_type": "markdown",
   "id": "72d17a9c",
   "metadata": {},
   "source": [
    "Данные в полном порядке. Пропусков нет. Можно приступать к обуению модели"
   ]
  },
  {
   "cell_type": "markdown",
   "id": "19230b5a",
   "metadata": {},
   "source": [
    "### Обучение модели"
   ]
  },
  {
   "cell_type": "markdown",
   "id": "854240ff",
   "metadata": {},
   "source": [
    "Создаем функцию для обуения модели Линейной регрессии. \n",
    "\n",
    "Выделяем целевой признак - 'product'.\n",
    "\n",
    "Делим выборку на обучающую и валидную в пропорции 75:25\n",
    "\n",
    "Обучаем модель и делаем предсказания на валидационной выборке.\n",
    "\n",
    "Сохраняем предсказания и правильные ответы на валидационной выборке для каждого региона."
   ]
  },
  {
   "cell_type": "code",
   "execution_count": 22,
   "id": "19d087de",
   "metadata": {},
   "outputs": [
    {
     "name": "stdout",
     "output_type": "stream",
     "text": [
      "71751     10.038645\n",
      "80493    114.551489\n",
      "2655     132.603635\n",
      "53233    169.072125\n",
      "91141    122.325180\n",
      "            ...    \n",
      "12581    170.116726\n",
      "18456     93.632175\n",
      "73035    127.352259\n",
      "63834     99.782700\n",
      "43558    177.821022\n",
      "Name: product, Length: 25000, dtype: float64 0         95.894952\n",
      "1         77.572583\n",
      "2         77.892640\n",
      "3         90.175134\n",
      "4         70.510088\n",
      "            ...    \n",
      "24995    103.037104\n",
      "24996     85.403255\n",
      "24997     61.509833\n",
      "24998    118.180397\n",
      "24999    118.169392\n",
      "Length: 25000, dtype: float64\n",
      "71751     80.859783\n",
      "80493     53.906522\n",
      "2655      30.132364\n",
      "53233     53.906522\n",
      "91141      0.000000\n",
      "            ...    \n",
      "12581    137.945408\n",
      "18456    110.992147\n",
      "73035    137.945408\n",
      "63834     84.038886\n",
      "43558     53.906522\n",
      "Name: product, Length: 25000, dtype: float64 0         82.663314\n",
      "1         54.431786\n",
      "2         29.748760\n",
      "3         53.552133\n",
      "4          1.243856\n",
      "            ...    \n",
      "24995    136.869211\n",
      "24996    110.693465\n",
      "24997    137.879341\n",
      "24998     83.761966\n",
      "24999     53.958466\n",
      "Length: 25000, dtype: float64\n",
      "71751     61.212375\n",
      "80493     41.850118\n",
      "2655      57.776581\n",
      "53233    100.053761\n",
      "91141    109.897122\n",
      "            ...    \n",
      "12581     28.492402\n",
      "18456     21.431303\n",
      "73035    125.487229\n",
      "63834     99.422903\n",
      "43558    127.445075\n",
      "Name: product, Length: 25000, dtype: float64 0         93.599633\n",
      "1         75.105159\n",
      "2         90.066809\n",
      "3        105.162375\n",
      "4        115.303310\n",
      "            ...    \n",
      "24995     78.765887\n",
      "24996     95.603394\n",
      "24997     99.407281\n",
      "24998     77.779912\n",
      "24999    129.032417\n",
      "Length: 25000, dtype: float64\n"
     ]
    }
   ],
   "source": [
    "def line_model(df):\n",
    "    target = df['product']\n",
    "    features = df.drop(['id','product'], axis=1)\n",
    "\n",
    "    features_train, features_valid, target_train, target_valid = train_test_split(\n",
    "    features, target, test_size=0.25, random_state=12345)\n",
    "  \n",
    "    model = LinearRegression()\n",
    "    model.fit(features_train, target_train) \n",
    "    predict = model.predict(features_valid) \n",
    "    predict = pd.Series(predict)\n",
    "    return target_valid, predict\n",
    "\n",
    "target1,predict1 = line_model(df_1)\n",
    "target2,predict2 = line_model(df_2)\n",
    "target3,predict3 = line_model(df_3)\n",
    "\n",
    "print(target1,predict1)\n",
    "print(target2,predict2)\n",
    "print(target3,predict3)"
   ]
  },
  {
   "cell_type": "markdown",
   "id": "bac9403f",
   "metadata": {},
   "source": [
    "Модель работает"
   ]
  },
  {
   "cell_type": "markdown",
   "id": "e8f990b4",
   "metadata": {},
   "source": [
    "Рассчитываем и выводим  на экран средний запас предсказанного сырья и RMSE модели."
   ]
  },
  {
   "cell_type": "code",
   "execution_count": 38,
   "id": "95dafb6d",
   "metadata": {},
   "outputs": [
    {
     "name": "stdout",
     "output_type": "stream",
     "text": [
      "средний запас предсказанного сырья 1-го региона 92.59\n",
      "RMSE 1-го региона = 37.579\n"
     ]
    }
   ],
   "source": [
    "predict_mean_crude1 = predict1.mean()\n",
    "rmse1 = mean_squared_error(target1, predict1)**0.5\n",
    "print('средний запас предсказанного сырья 1-го региона', round(predict_mean_crude1, 2))\n",
    "print('RMSE 1-го региона =', round(rmse1, 3))"
   ]
  },
  {
   "cell_type": "code",
   "execution_count": 39,
   "id": "d45c988e",
   "metadata": {},
   "outputs": [
    {
     "name": "stdout",
     "output_type": "stream",
     "text": [
      "средний запас предсказанного сырья 2-го региона 68.73\n",
      "RMSE 2-го региона = 0.893\n"
     ]
    }
   ],
   "source": [
    "predict_mean_crude2 = predict2.mean()\n",
    "rmse2 = mean_squared_error(target2, predict2)**0.5\n",
    "print('средний запас предсказанного сырья 2-го региона', round(predict_mean_crude2, 2))\n",
    "print('RMSE 2-го региона =', round(rmse2, 3))"
   ]
  },
  {
   "cell_type": "code",
   "execution_count": 41,
   "id": "fa29d820",
   "metadata": {},
   "outputs": [
    {
     "name": "stdout",
     "output_type": "stream",
     "text": [
      "средний запас предсказанного сырья 3-го региона 94.97\n",
      "RMSE 3-го региона = 40.03\n"
     ]
    }
   ],
   "source": [
    "predict_mean_crude3 = predict3.mean()\n",
    "rmse3 = mean_squared_error(target3, predict3)**0.5\n",
    "print('средний запас предсказанного сырья 3-го региона', round(predict_mean_crude3, 2))\n",
    "print('RMSE 3-го региона =', round(rmse3, 3))"
   ]
  },
  {
   "cell_type": "markdown",
   "id": "6f91d5d1",
   "metadata": {},
   "source": [
    "Имортировали библиотеки, изучили датафреймы.\n",
    "\n",
    "Создали функцию для обучения модели Линейной регрессии\n",
    "\n",
    "Обучили модель и сохранили предсказания на валидной выборке"
   ]
  },
  {
   "cell_type": "markdown",
   "id": "96b01a0c",
   "metadata": {},
   "source": [
    "### Подготовка к расчёту прибыли:"
   ]
  },
  {
   "cell_type": "code",
   "execution_count": 23,
   "id": "b92ec3ab",
   "metadata": {},
   "outputs": [],
   "source": [
    "budget = 10**10\n",
    "barell_profit = 450000\n",
    "wells=500\n",
    "numder_of_best_wells = 200"
   ]
  },
  {
   "cell_type": "markdown",
   "id": "dbe3b632",
   "metadata": {},
   "source": [
    "Рассчитываем достаточный объём сырья для безубыточной разработки новой скважины. "
   ]
  },
  {
   "cell_type": "code",
   "execution_count": 11,
   "id": "de0cfa6e",
   "metadata": {},
   "outputs": [
    {
     "name": "stdout",
     "output_type": "stream",
     "text": [
      "111.11\n"
     ]
    }
   ],
   "source": [
    "sufficient_volume = budget / (barell_profit*numder_of_best_wells)\n",
    "print(round(sufficient_volume,2))"
   ]
  },
  {
   "cell_type": "markdown",
   "id": "507edd50",
   "metadata": {},
   "source": [
    "Достаточный объём сырья для безубыточной разработки новой скважины равен 111,11 тыс баррелей.\n",
    "\n",
    "Среднее значение в исследуемых регионах:\n",
    "   1) В регионе 1 - 92.59 тыс. баррелей\n",
    "   \n",
    "   2) В регионе 2 - 68.73 тыс баррелей\n",
    "   \n",
    "   3) В регионе 3 - 94.97 тыс баррелей\n",
    "   \n",
    "Ни в каждом регионе среднее значение не выше достаточного объёма сырья для безубыточной разработки новой скважины"
   ]
  },
  {
   "cell_type": "markdown",
   "id": "e1d5d370",
   "metadata": {},
   "source": [
    "### Pасчёт прибыли по выбранным скважинам и предсказаниям модели:"
   ]
  },
  {
   "cell_type": "markdown",
   "id": "648892ef",
   "metadata": {},
   "source": [
    "Создаем функцию для рассчета прибыли по выбранным скважинам и предсказаниям модели.\n",
    "\n",
    "Выбираем лучше 200 скважин\n",
    "\n",
    "Возвращаем значение средней прибыли по скважинам"
   ]
  },
  {
   "cell_type": "code",
   "execution_count": 12,
   "id": "37d8d256",
   "metadata": {},
   "outputs": [],
   "source": [
    "def predicted_profit (target, predict):\n",
    "    sort_predict = predict.reset_index(drop=True).sort_values(ascending=False)\n",
    "    best_target = target.reset_index(drop=True)[sort_predict.index][:numder_of_best_wells]\n",
    "    \n",
    "    profit = (best_target.sum() * barell_profit - budget) / 1000000000\n",
    "    return profit"
   ]
  },
  {
   "cell_type": "markdown",
   "id": "f654cfa9",
   "metadata": {},
   "source": [
    "Применяем технику Bootstrap с 1000 выборок, чтобы найти распределение прибыли, для этого создаем функцию.\n",
    "\n",
    "Найдим среднюю прибыль, 95%-й доверительный интервал и риск убытков. Убыток — это отрицательная прибыль."
   ]
  },
  {
   "cell_type": "code",
   "execution_count": 34,
   "id": "d63fe42d",
   "metadata": {},
   "outputs": [],
   "source": [
    "def Bootstrap(target, predict):\n",
    "    alpha=0.025\n",
    "    state = np.random.RandomState(12345)\n",
    "    values = []\n",
    "    for i in range(1000):\n",
    "        target_subsample = target.reset_index(drop=True).sample(n=wells, replace=True, random_state=state)\n",
    "        probs_subsample = predict[target_subsample.index]\n",
    "        result = predicted_profit(target_subsample, probs_subsample)\n",
    "        values.append(result)\n",
    "  \n",
    "    values = pd.Series(values)\n",
    "    lower = values.quantile(0.025)\n",
    "\n",
    "    mean = values.mean()\n",
    "    confidence_interval = (lower, values.quantile(1-alpha))\n",
    "    \n",
    "    print('Средняя прибыль {:.2f} млдр'.format(mean))\n",
    "    print('2.5% квантиль {:.2f}'.format(lower))\n",
    "    print('Доверительный интервал:',  confidence_interval)\n",
    "    print('Риск убытка:{}'.format((values<0).mean()))\n",
    "    "
   ]
  },
  {
   "cell_type": "markdown",
   "id": "0ce67942",
   "metadata": {},
   "source": [
    "Расчет прибыли по 1-му региону"
   ]
  },
  {
   "cell_type": "code",
   "execution_count": 35,
   "id": "f0af28f7",
   "metadata": {},
   "outputs": [
    {
     "name": "stdout",
     "output_type": "stream",
     "text": [
      "Средняя прибыль 0.40 млдр\n",
      "2.5% квантиль -0.11\n",
      "Доверительный интервал: (-0.11121554589049526, 0.9097669415534225)\n",
      "Риск убытка:0.069\n"
     ]
    }
   ],
   "source": [
    "Bootstrap(target1, predict1)"
   ]
  },
  {
   "cell_type": "markdown",
   "id": "410ddce0",
   "metadata": {},
   "source": [
    "Расчет прибыли по 2-му региону"
   ]
  },
  {
   "cell_type": "code",
   "execution_count": 36,
   "id": "fb16efb8",
   "metadata": {},
   "outputs": [
    {
     "name": "stdout",
     "output_type": "stream",
     "text": [
      "Средняя прибыль 0.46 млдр\n",
      "2.5% квантиль 0.03\n",
      "Доверительный интервал: (0.03382050939898362, 0.852289453866036)\n",
      "Риск убытка:0.015\n"
     ]
    }
   ],
   "source": [
    "Bootstrap(target2, predict2)"
   ]
  },
  {
   "cell_type": "markdown",
   "id": "412cc8ae",
   "metadata": {},
   "source": [
    "Расчет прибыли по 3-му региону"
   ]
  },
  {
   "cell_type": "code",
   "execution_count": 37,
   "id": "46b5a4b1",
   "metadata": {},
   "outputs": [
    {
     "name": "stdout",
     "output_type": "stream",
     "text": [
      "Средняя прибыль 0.40 млдр\n",
      "2.5% квантиль -0.16\n",
      "Доверительный интервал: (-0.16335041339560108, 0.9503595749237995)\n",
      "Риск убытка:0.076\n"
     ]
    }
   ],
   "source": [
    "Bootstrap(target3, predict3)"
   ]
  },
  {
   "cell_type": "markdown",
   "id": "848ff4f6",
   "metadata": {},
   "source": [
    "Исходя из результато расчета лучше всего себя показал 2-й регион. у него лучшие показали:\n",
    "  - Средняя прибыль 0.46 млдр\n",
    "  - 2.5% квантиль 0.03\n",
    "  - Доверительный интервал: (0.03382050939898362, 0.852289453866036)\n",
    "  - Риск убытка:0.015\n",
    "\n",
    "Соответственно во 2-й регион  необходимо направть бюджет на разработку скважин."
   ]
  },
  {
   "cell_type": "markdown",
   "id": "93bfb2c4",
   "metadata": {},
   "source": [
    "## Общий вывод"
   ]
  },
  {
   "cell_type": "markdown",
   "id": "ffc4541c",
   "metadata": {},
   "source": [
    "Нам были предоставлены данные добывающей компании «ГлавРосГосНефть». Нужно решить, где бурить новую скважину.\n",
    "\n",
    "Шаги для выбора локации были следующими:\n",
    "\n",
    "    В избранном регионе были собираны характеристики для скважин: качество нефти и объём её запасов;\n",
    "    \n",
    "    Построена модель для предсказания объёма запасов в новых скважинах;\n",
    "    \n",
    "    Выбираны скважины с самыми высокими оценками значений;\n",
    "    \n",
    "    Определен регион с максимальной суммарной прибылью отобранных скважин.\n",
    "    \n",
    "\n",
    "Были загружены, изуены  и подготовлены данные.  Выделен целевой признак.\n",
    "\n",
    "Разбиты данные на обучающую и валидационную выборки в соотношении 75:25. Обучена модель и сделаны предсказания на валидационной выборке.\n",
    "\n",
    "Вывели  на экран средний запас предсказанного сырья и RMSE модели по каждому региону:\n",
    "\n",
    "   1) средний запас предсказанного сырья 1-го региона 92.59\n",
    "      RMSE 1-го региона = 37.579\n",
    "      \n",
    "   2) средний запас предсказанного сырья 2-го региона 68.73\n",
    "      RMSE 2-го региона = 0.893\n",
    "   3) средний запас предсказанного сырья 3-го региона 94.97\n",
    "      RMSE 3-го региона = 40.03   \n",
    "\n",
    "Все ключевые значения для расчётов сохранили в отдельных переменных.\n",
    "\n",
    "Рассчитали достаточный объём сырья для безубыточной разработки новой скважины. Сравнили полученный объём сырья со средним запасом в каждом регионе:\n",
    "\n",
    "      Достаточный объём сырья для безубыточной разработки новой скважины равен 111,11 тыс баррелей.\n",
    "\n",
    "      Среднее значение в исследуемых регионах:\n",
    "      \n",
    "            1) В регионе 1 - 92.59 тыс. баррелей\n",
    "   \n",
    "            2) В регионе 2 - 68.73 тыс баррелей\n",
    "   \n",
    "            3) В регионе 3 - 94.97 тыс баррелей\n",
    "   \n",
    "      Ни в каждом регионе среднее значение не выше достаточного объёма сырья для безубыточной разработки новой скважины.\n",
    "      \n",
    "В расчёте прибыли по выбранным скважинам и предсказаниям модели:\n",
    "\n",
    "    Создаели функцию для рассчета прибыли по выбранным скважинам и предсказаниям модели.\n",
    "\n",
    "    Выбирали лучше 200 скважин\n",
    "\n",
    "    Вернули значение средней прибыли по скважинам      \n",
    "      \n",
    "\n",
    "Применяя технику Bootstrap с 1000 выборок, чтобы найти распределение прибыли, для этого создаем функцию.\n",
    "\n",
    "Нашли среднюю прибыль, 95%-й доверительный интервал и риск убытков:\n",
    "\n",
    "    1-й регион:\n",
    "             Средняя прибыль 0.40 млдр\n",
    "             2.5% квантиль -0.11\n",
    "             Доверительный интервал: (-0.11121554589049526, 0.9097669415534225)\n",
    "             Риск убытка:0.069\n",
    "             \n",
    "    2-й регион:\n",
    "             Средняя прибыль 0.46 млдр\n",
    "             2.5% квантиль 0.03\n",
    "             Доверительный интервал: (0.03382050939898362, 0.852289453866036)\n",
    "             Риск убытка:0.015\n",
    "\n",
    "    3-й регион:\n",
    "             Средняя прибыль 0.40 млдр\n",
    "             2.5% квантиль -0.16\n",
    "             Доверительный интервал: (-0.16335041339560108, 0.9503595749237995)\n",
    "             Риск убытка:0.076\n",
    "             \n",
    "Исходя из результато расчета лучше всего себя показал 2-й регион. у него лучшие показали.  Соответственно во 2-й регион необходимо направть бюджет на разработку скважин.          "
   ]
  }
 ],
 "metadata": {
  "kernelspec": {
   "display_name": "Python 3 (ipykernel)",
   "language": "python",
   "name": "python3"
  },
  "language_info": {
   "codemirror_mode": {
    "name": "ipython",
    "version": 3
   },
   "file_extension": ".py",
   "mimetype": "text/x-python",
   "name": "python",
   "nbconvert_exporter": "python",
   "pygments_lexer": "ipython3",
   "version": "3.9.7"
  },
  "toc": {
   "base_numbering": 1,
   "nav_menu": {},
   "number_sections": true,
   "sideBar": true,
   "skip_h1_title": true,
   "title_cell": "Table of Contents",
   "title_sidebar": "Contents",
   "toc_cell": false,
   "toc_position": {},
   "toc_section_display": true,
   "toc_window_display": false
  }
 },
 "nbformat": 4,
 "nbformat_minor": 5
}
