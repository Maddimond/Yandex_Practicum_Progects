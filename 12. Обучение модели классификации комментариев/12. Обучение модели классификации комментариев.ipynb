
    "# Проект для «Викишоп»"
   ]
  },
  {
   "cell_type": "markdown",
   "metadata": {},
   "source": [
    "Интернет-магазин «Викишоп» запускает новый сервис. Теперь пользователи могут редактировать и дополнять описания товаров, как в вики-сообществах. То есть клиенты предлагают свои правки и комментируют изменения других. Магазину нужен инструмент, который будет искать токсичные комментарии и отправлять их на модерацию. \n",
    "\n",
    "Обучите модель классифицировать комментарии на позитивные и негативные. В вашем распоряжении набор данных с разметкой о токсичности правок.\n",
    "\n",
    "Постройте модель со значением метрики качества *F1* не меньше 0.75. \n",
    "\n",
    "**Инструкция по выполнению проекта**\n",
    "\n",
    "1. Загрузите и подготовьте данные.\n",
    "2. Обучите разные модели. \n",
    "3. Сделайте выводы.\n",
    "\n",
    "Для выполнения проекта применять *BERT* необязательно, но вы можете попробовать.\n",
    "\n",
    "**Описание данных**\n",
    "\n",
    "Данные находятся в файле `toxic_comments.csv`. Столбец *text* в нём содержит текст комментария, а *toxic* — целевой признак."
   ]
  },
  {
   "cell_type": "markdown",
   "metadata": {},
   "source": [
    "<div class=\"alert alert-success\">\n",
    "<b>✔️ Комментарий ревьювера:</b> Хорошо, что добавил небольшое описание и содержание проекта.\n",
    "\n",
    "</div>"
   ]
  },
  {
   "cell_type": "markdown",
   "metadata": {},
   "source": [
    "## Подготовка"
   ]
  },
  {
   "cell_type": "markdown",
   "metadata": {},
   "source": [
    "Импортируем библиотеки"
   ]
  },
  {
   "cell_type": "code",
   "execution_count": 20,
   "metadata": {},
   "outputs": [
    {
     "name": "stderr",
     "output_type": "stream",
     "text": [
      "[nltk_data] Downloading package wordnet to /home/jovyan/nltk_data...\n",
      "[nltk_data]   Package wordnet is already up-to-date!\n",
      "[nltk_data] Downloading package averaged_perceptron_tagger to\n",
      "[nltk_data]     /home/jovyan/nltk_data...\n",
      "[nltk_data]   Unzipping taggers/averaged_perceptron_tagger.zip.\n"
     ]
    }
   ],
   "source": [
    "import pandas as pd\n",
    "import numpy as np\n",
    "from pymystem3 import Mystem\n",
    "import nltk\n",
    "nltk.download('wordnet')\n",
    "nltk.download('averaged_perceptron_tagger')\n",
    "import re\n",
    "from nltk.stem import WordNetLemmatizer\n",
    "from nltk.corpus import wordnet\n",
    "from nltk.corpus import stopwords as nltk_stopwords\n",
    "from sklearn.feature_extraction.text import TfidfVectorizer \n",
    "from sklearn.model_selection import train_test_split\n",
    "from sklearn.model_selection import ShuffleSplit\n",
    "from sklearn.model_selection import cross_val_score\n",
    "from sklearn.linear_model import LogisticRegression\n",
    "from sklearn.tree import DecisionTreeClassifier\n",
    "from sklearn.ensemble import RandomForestClassifier\n",
    "from lightgbm import LGBMClassifier\n",
    "from sklearn.metrics import f1_score\n",
    "import warnings\n",
    "warnings.filterwarnings(\"ignore\")"
   ]
  },
  {
   "cell_type": "markdown",
   "metadata": {},
   "source": [
    "<div class=\"alert alert-success\">\n",
    "<b>✔️ Комментарий ревьювера:</b> Необходимые библиотеки импортированы.\n",
    "\n",
    "</div>"
   ]
  },
  {
   "cell_type": "markdown",
   "metadata": {},
   "source": [
    "Загружаем даасет"
   ]
  },
  {
   "cell_type": "code",
   "execution_count": 21,
   "metadata": {},
   "outputs": [],
   "source": [
    "import os\n",
    "\n",
    "pth1 = 'toxic_comments.csv'\n",
    "pth2 = '/datasets/toxic_comments.csv'\n",
    "\n",
    "if os.path.exists(pth1):\n",
    "    tweets = pd.read_csv(pth1)  \n",
    "    \n",
    "elif os.path.exists(pth2):\n",
    "    tweets = pd.read_csv(pth2)\n",
    "    \n",
    "else:\n",
    "    print('Something is wrong')\n",
    " "
   ]
  },
  {
   "cell_type": "markdown",
   "metadata": {},
   "source": [
    "Изучаем размер датафрейма"
   ]
  },
  {
   "cell_type": "code",
   "execution_count": 22,
   "metadata": {},
   "outputs": [
    {
     "data": {
      "text/plain": [
       "(159571, 2)"
      ]
     },
     "execution_count": 22,
     "metadata": {},
     "output_type": "execute_result"
    }
   ],
   "source": [
    "tweets.shape"
   ]
  },
  {
   "cell_type": "markdown",
   "metadata": {},
   "source": [
    "Проверяем дубликаты"
   ]
  },
  {
   "cell_type": "code",
   "execution_count": 23,
   "metadata": {},
   "outputs": [
    {
     "data": {
      "text/plain": [
       "0"
      ]
     },
     "execution_count": 23,
     "metadata": {},
     "output_type": "execute_result"
    }
   ],
   "source": [
    "tweets.duplicated().sum()"
   ]
  },
  {
   "cell_type": "markdown",
   "metadata": {},
   "source": [
    "Проверяем пропуски"
   ]
  },
  {
   "cell_type": "code",
   "execution_count": 24,
   "metadata": {},
   "outputs": [
    {
     "data": {
      "text/plain": [
       "text     0\n",
       "toxic    0\n",
       "dtype: int64"
      ]
     },
     "execution_count": 24,
     "metadata": {},
     "output_type": "execute_result"
    }
   ],
   "source": [
    "tweets.isnull().sum()"
   ]
  },
  {
   "cell_type": "markdown",
   "metadata": {},
   "source": [
    "Изучаем классы"
   ]
  },
  {
   "cell_type": "code",
   "execution_count": 25,
   "metadata": {},
   "outputs": [
    {
     "data": {
      "text/plain": [
       "0    143346\n",
       "1     16225\n",
       "Name: toxic, dtype: int64"
      ]
     },
     "metadata": {},
     "output_type": "display_data"
    }
   ],
   "source": [
    "display(tweets['toxic'].value_counts())"
   ]
  },
  {
   "cell_type": "markdown",
   "metadata": {},
   "source": [
    "<div class=\"alert alert-success\">\n",
    "<b>✔️ Комментарий ревьювера:</b> Хорошо, что обратил внимание на баланс классов.\n",
    "\n",
    "</div>"
   ]
  },
  {
   "cell_type": "markdown",
   "metadata": {},
   "source": [
    "Лемматизируем сообщения датасета"
   ]
  },
  {
   "cell_type": "markdown",
   "metadata": {},
   "source": [
    "<div class=\"alert alert-danger\">\n",
    "<b>🚫 Комментарий ревьювера:</b> К сожалению mystem подходит только для русского языка. Проще всего поправить:\n",
    "    \n",
    "    lemmatizer = WordNetLemmatizer()\n",
    "   \n",
    "</div>"
   ]
  },
  {
   "cell_type": "code",
   "execution_count": 9,
   "metadata": {},
   "outputs": [
    {
     "name": "stdout",
     "output_type": "stream",
     "text": [
      "CPU times: user 34.2 s, sys: 7.54 s, total: 41.7 s\n",
      "Wall time: 1min 30s\n"
     ]
    }
   ],
   "source": [
    "#%%time\n",
    "\n",
    "#m = Mystem()\n",
    "\n",
    "#def lemmatize(text):\n",
    "    \n",
    "    #text = text.lower()\n",
    "    #lemm_text = \"\".join(m.lemmatize(text))\n",
    "    #cleared_text = re.sub(r'[^a-zA-Z]', ' ', lemm_text) \n",
    "    #return \" \".join(cleared_text.split())\n",
    "\n",
    "\n",
    "#tweets['text'] = tweets['text'].apply(lemmatize)\n"
   ]
  },
  {
   "cell_type": "code",
   "execution_count": null,
   "metadata": {},
   "outputs": [],
   "source": [
    "%%time\n",
    "def get_wordnet_pos(text):\n",
    "    \"\"\"Map POS tag to first character lemmatize() accepts\"\"\"\n",
    "    tag = nltk.pos_tag([text])[0][1][0].upper()\n",
    "    tag_dict = {\"J\": wordnet.ADJ,\n",
    "                \"N\": wordnet.NOUN,\n",
    "                \"V\": wordnet.VERB,\n",
    "                \"R\": wordnet.ADV}\n",
    "    return tag_dict.get(tag, wordnet.NOUN)\n",
    "\n",
    "\n",
    "\n",
    "def lemm(text):\n",
    "    \n",
    "    text = text.lower()\n",
    "    lemmatizer = WordNetLemmatizer()\n",
    "    return  ' '.join([lemmatizer.lemmatize(w, get_wordnet_pos(w)) for w in nltk.word_tokenize(text)])\n",
    "\n",
    "tweets['text'] = tweets['text'].apply(lemm)\n"
   ]
  },
  {
   "cell_type": "markdown",
   "metadata": {},
   "source": [
    "<div class=\"alert alert-info\"> Wordnet Lemmatizer с POS-тегоми очень медленно работает :( </div>"
   ]
  },
  {
   "cell_type": "markdown",
   "metadata": {},
   "source": [
    "<div class=\"alert alert-success\">\n",
    "<b>✔️ Комментарий ревьювера (v2):</b> Согласен, лемматизация с POS-тэгами работает достаточно медленно. Весь датасет обрабатывается на моем компьютере примерно 1,5-2 часа (intel core i3, 16 Гб).\n",
    "\n",
    "</div>"
   ]
  },
  {
   "cell_type": "code",
   "execution_count": 18,
   "metadata": {},
   "outputs": [
    {
     "data": {
      "text/html": [
       "<div>\n",
       "<style scoped>\n",
       "    .dataframe tbody tr th:only-of-type {\n",
       "        vertical-align: middle;\n",
       "    }\n",
       "\n",
       "    .dataframe tbody tr th {\n",
       "        vertical-align: top;\n",
       "    }\n",
       "\n",
       "    .dataframe thead th {\n",
       "        text-align: right;\n",
       "    }\n",
       "</style>\n",
       "<table border=\"1\" class=\"dataframe\">\n",
       "  <thead>\n",
       "    <tr style=\"text-align: right;\">\n",
       "      <th></th>\n",
       "      <th>text</th>\n",
       "      <th>toxic</th>\n",
       "    </tr>\n",
       "  </thead>\n",
       "  <tbody>\n",
       "    <tr>\n",
       "      <th>0</th>\n",
       "      <td>explanation why the edits made under my userna...</td>\n",
       "      <td>0</td>\n",
       "    </tr>\n",
       "    <tr>\n",
       "      <th>1</th>\n",
       "      <td>d aww he match this background colour i m seem...</td>\n",
       "      <td>0</td>\n",
       "    </tr>\n",
       "    <tr>\n",
       "      <th>2</th>\n",
       "      <td>hey man i m really not trying to edit war it s...</td>\n",
       "      <td>0</td>\n",
       "    </tr>\n",
       "    <tr>\n",
       "      <th>3</th>\n",
       "      <td>more i can t make any real suggestion on impro...</td>\n",
       "      <td>0</td>\n",
       "    </tr>\n",
       "    <tr>\n",
       "      <th>4</th>\n",
       "      <td>you sir are my hero any chance you remember wh...</td>\n",
       "      <td>0</td>\n",
       "    </tr>\n",
       "  </tbody>\n",
       "</table>\n",
       "</div>"
      ],
      "text/plain": [
       "                                                text  toxic\n",
       "0  explanation why the edits made under my userna...      0\n",
       "1  d aww he match this background colour i m seem...      0\n",
       "2  hey man i m really not trying to edit war it s...      0\n",
       "3  more i can t make any real suggestion on impro...      0\n",
       "4  you sir are my hero any chance you remember wh...      0"
      ]
     },
     "execution_count": 18,
     "metadata": {},
     "output_type": "execute_result"
    }
   ],
   "source": [
    "tweets.head(5)"
   ]
  },
  {
   "cell_type": "markdown",
   "metadata": {},
   "source": [
    "<div class=\"alert alert-success\">\n",
    "<b>✔️ Комментарий ревьювера:</b> На будущее, если будет интересно более углубленное изучение анализа текстов, могу посоветовать для более точной лемматизации использовать POS-теги, это сделает лемматизацию точнее:\n",
    "\n",
    "https://webdevblog.ru/podhody-lemmatizacii-s-primerami-v-python/\n",
    "    \n",
    "Это занимает больше времени, поэтому можешь проверить локально, на небольшой выборке. Также используют метод pos_tag_sents(), когда перебор идет не по словам, а по предложениям — это немного быстрее.\n",
    "</div>"
   ]
  },
  {
   "cell_type": "markdown",
   "metadata": {},
   "source": [
    "<div class=\"alert alert-info\"> я пробовал лемматизацию различными способами и Wordnet Lemmatizer, Wordnet из NLTK и spaCy и получал либо тот же рельтат либо тренажер обрабатывал на столько долго что я уставал ждать.\n",
    "\n",
    "Локально у меня почему то очень медленно рабает Юпитер Ноутбук, хотя оперативной памяти 8ГБ и используется при работе не более 4 ГБ. Можешь подсказать что можно с этим сделать?</div>"
   ]
  },
  {
   "cell_type": "markdown",
   "metadata": {},
   "source": [
    "<div class=\"alert alert-success\">\n",
    "<b>✔️ Комментарий ревьювера (v2):</b> Дима, после того как отправил тебе работу, вспомнил, что уже проверял ранее твой проект =) \n",
    "    \n",
    "1. По поводу лемматизации: на самом деле сделать данный проект можно без лемматизации, применив очистку текста от лишних символов и добиться значения F-меры > 0.75. Если сделать все прям идеально, наилучшая лемматизация, пайплайн, поиск по сетке гиперпараметров, можно довести метрику почти до 0.8 (на основе своего опыта). \n",
    "   \n",
    "Самое главное, это знать какие способы лемматизации лучше применять, некоторые конечно занимают много времени, но выигрыш будет небольшой. Хотя в других датасетах могут быть совершенно другие результаты.\n",
    "    \n",
    "2. Могу посоветовать тебе сделать лемматизацию с помощью Spacy. Она работает по моим оценкам в 2,5-3 раза быстрее, чем POS-Tag. Можешь попробовать взять например 20000 строк.\n",
    "    \n",
    "https://spacy.io/ или https://webdevblog.ru/podhody-lemmatizacii-s-primerami-v-python/\n",
    "    \n",
    "    nlp = spacy.load (\"en_core_web_sm\")\n",
    "\n",
    "    def lemmatize_text(text):    \n",
    "        text = text.lower()\n",
    "        doc = nlp(text)\n",
    "        lemm_text = \" \".join([token.lemma_ for token in doc])\n",
    "        cleared_text = re.sub(r'[^a-zA-Z]', ' ', lemm_text) \n",
    "        return \" \".join(cleared_text.split())\n",
    "\n",
    "    df['text'] = df['text'].apply(lemmatize_text)\n",
    "\n",
    "\n",
    "</div>"
   ]
  },
  {
   "cell_type": "markdown",
   "metadata": {},
   "source": [
    "<div class=\"alert alert-success\">\n",
    "<b>✔️ Комментарий ревьювера (v2):</b> \n",
    "\n",
    "3. Вообще не всякие задачи можно распараллелить. Если говорить про анализ текстов, то можно поизучать примеры с использованием GPU. Также можно попробовать пообучать модели на Google Colab.\n",
    "    \n",
    "Есть также общие рекомендации: \n",
    "    \n",
    "- в GridSearcCV можно указать: n_jobs=-1, тогда будут задействованы все ядра процессора. https://scikit-learn.org/stable/modules/generated/sklearn.model_selection.GridSearchCV.html\n",
    "    \n",
    "- В общем о распараллеливании в python: https://machinelearningmastery.com/multiprocessing-in-python/\n",
    "\n",
    "- Пример с распараллеливанием на CPU: https://towardsdatascience.com/parallel-inference-of-huggingface-transformers-on-cpus-4487c28abe23\n",
    "    \n",
    "- примеры с GPU https://www.reg.ru/blog/kak-uskorit-data-science-s-pomoshchyu-gpu/\n",
    "        \n",
    "</div>"
   ]
  },
  {
   "cell_type": "markdown",
   "metadata": {},
   "source": [
    "Выделяем признаки и целевой признак"
   ]
  },
  {
   "cell_type": "code",
   "execution_count": 9,
   "metadata": {},
   "outputs": [],
   "source": [
    "features = tweets.drop(['toxic'],axis=1)\n",
    "target = tweets['toxic']"
   ]
  },
  {
   "cell_type": "markdown",
   "metadata": {},
   "source": [
    "<div class=\"alert alert-success\">\n",
    "<b>✔️ Комментарий ревьювера:</b> Можно также взглянуть на несколько строчек текста, посмотреть как он изменился после очистки и лемматизации.\n",
    "\n",
    "</div>"
   ]
  },
  {
   "cell_type": "markdown",
   "metadata": {},
   "source": [
    "Разделяем признаки и целевой признак на обучаюшую и тестовую выборку"
   ]
  },
  {
   "cell_type": "code",
   "execution_count": 9,
   "metadata": {},
   "outputs": [],
   "source": [
    "features_train, features_test, target_train, target_test = train_test_split(features, \n",
    "                                                                              target, \n",
    "                                                                              test_size=0.4, \n",
    "                                                                              random_state=12082020)\n"
   ]
  },
  {
   "cell_type": "markdown",
   "metadata": {},
   "source": [
    "Создайем матрицу cо значениями TF-IDF по корпусу твитов"
   ]
  },
  {
   "cell_type": "code",
   "execution_count": 10,
   "metadata": {},
   "outputs": [
    {
     "name": "stderr",
     "output_type": "stream",
     "text": [
      "[nltk_data] Downloading package stopwords to /home/jovyan/nltk_data...\n",
      "[nltk_data]   Package stopwords is already up-to-date!\n"
     ]
    }
   ],
   "source": [
    "nltk.download('stopwords')\n",
    "stopwords = set(nltk_stopwords.words('english'))\n",
    " \n",
    "count_tf_idf = TfidfVectorizer(stop_words=stopwords)\n",
    "features_train = count_tf_idf.fit_transform(features_train['text'])\n",
    "features_test = count_tf_idf.transform(features_test['text'])"
   ]
  },
  {
   "cell_type": "markdown",
   "metadata": {},
   "source": [
    "## Обучение"
   ]
  },
  {
   "cell_type": "markdown",
   "metadata": {},
   "source": [
    "создаем пустой список в котрый мы будем добавлять значения моделей"
   ]
  },
  {
   "cell_type": "code",
   "execution_count": 11,
   "metadata": {},
   "outputs": [],
   "source": [
    "results = []"
   ]
  },
  {
   "cell_type": "markdown",
   "metadata": {},
   "source": [
    "Обучим линейную регрессию"
   ]
  },
  {
   "cell_type": "markdown",
   "metadata": {},
   "source": [
    "<div class=\"alert alert-warning\">\n",
    "<b>⚠️ Комментарий ревьювера:</b> Рекомендация на будущее:\n",
    "    \n",
    "Хочу обратить внимание, что когда используется кросс-валидация, получается, что модель в итоге обучается на всей обучающей выборке и это немного не правильно. В таких случаях рекомендуется оборачивать конструкцию в Pipeline. Вот здесь можно посмотреть примеры применения:\n",
    "    \n",
    "https://medium.com/analytics-vidhya/ml-pipelines-using-scikit-learn-and-gridsearchcv-fe605a7f9e05\n",
    "    \n",
    "https://habr.com/ru/post/538458/\n",
    "    \n",
    "Pipeline + GridSearchCV: https://towardsdatascience.com/nlp-with-pipeline-gridsearch-5922266e82f4\n",
    "    \n",
    "Таким образом в GridSearchCV можно добавить пайплайн — но это не обязательно для выполнения данной работы.\n",
    "</div>"
   ]
  },
  {
   "cell_type": "code",
   "execution_count": 12,
   "metadata": {},
   "outputs": [],
   "source": [
    "def regression(model_name, features, target):\n",
    "    \n",
    "    model = LogisticRegression(C=10, class_weight='balanced', fit_intercept=True,  solver='liblinear', intercept_scaling=2)\n",
    "    score = cross_val_score(model, features, target, cv=5, scoring='f1').mean()\n",
    "    return [{'Model':model_name,'F1_score':score}]"
   ]
  },
  {
   "cell_type": "markdown",
   "metadata": {},
   "source": [
    "<div class=\"alert alert-success\">\n",
    "<b>✔️ Комментарий ревьювера:</b> Хорошо, что учитываешь баланс классов при обучении модели.\n",
    "</div>"
   ]
  },
  {
   "cell_type": "code",
   "execution_count": 13,
   "metadata": {},
   "outputs": [
    {
     "name": "stdout",
     "output_type": "stream",
     "text": [
      "[{'Model': 'LogisticRegression', 'F1_score': 0.7649740539396108}]\n",
      "CPU times: user 37.9 s, sys: 40.5 s, total: 1min 18s\n",
      "Wall time: 1min 18s\n"
     ]
    }
   ],
   "source": [
    "%%time\n",
    "result = regression('LogisticRegression', features_train, target_train)\n",
    "print(result)"
   ]
  },
  {
   "cell_type": "code",
   "execution_count": 14,
   "metadata": {},
   "outputs": [],
   "source": [
    "results.append(result[0])"
   ]
  },
  {
   "cell_type": "code",
   "execution_count": 15,
   "metadata": {},
   "outputs": [
    {
     "data": {
      "text/html": [
       "<div>\n",
       "<style scoped>\n",
       "    .dataframe tbody tr th:only-of-type {\n",
       "        vertical-align: middle;\n",
       "    }\n",
       "\n",
       "    .dataframe tbody tr th {\n",
       "        vertical-align: top;\n",
       "    }\n",
       "\n",
       "    .dataframe thead th {\n",
       "        text-align: right;\n",
       "    }\n",
       "</style>\n",
       "<table border=\"1\" class=\"dataframe\">\n",
       "  <thead>\n",
       "    <tr style=\"text-align: right;\">\n",
       "      <th></th>\n",
       "      <th>Model</th>\n",
       "      <th>F1_score</th>\n",
       "    </tr>\n",
       "  </thead>\n",
       "  <tbody>\n",
       "    <tr>\n",
       "      <th>0</th>\n",
       "      <td>LogisticRegression</td>\n",
       "      <td>0.764974</td>\n",
       "    </tr>\n",
       "  </tbody>\n",
       "</table>\n",
       "</div>"
      ],
      "text/plain": [
       "                Model  F1_score\n",
       "0  LogisticRegression  0.764974"
      ]
     },
     "execution_count": 15,
     "metadata": {},
     "output_type": "execute_result"
    }
   ],
   "source": [
    "pd.DataFrame(results)\n"
   ]
  },
  {
   "cell_type": "markdown",
   "metadata": {},
   "source": [
    "Обучим дерево решений"
   ]
  },
  {
   "cell_type": "code",
   "execution_count": 16,
   "metadata": {},
   "outputs": [],
   "source": [
    "def tree_decision(model_name, features, target):\n",
    "        \n",
    "    for depth in range(1, 15):\n",
    "        model = DecisionTreeClassifier(splitter='best', random_state=12345, max_depth=depth, class_weight='balanced') \n",
    "        score = cross_val_score(model, features, target, cv=5, scoring='f1').mean()\n",
    "                          \n",
    "    return [{'Model':model_name,'F1_score':score}] "
   ]
  },
  {
   "cell_type": "code",
   "execution_count": 17,
   "metadata": {},
   "outputs": [
    {
     "name": "stdout",
     "output_type": "stream",
     "text": [
      "[{'Model': 'DecisionTreeClassifier', 'F1_score': 0.5749561006371234}]\n",
      "CPU times: user 8min 29s, sys: 997 ms, total: 8min 30s\n",
      "Wall time: 8min 30s\n"
     ]
    }
   ],
   "source": [
    "%%time\n",
    "td_result = tree_decision('DecisionTreeClassifier', features_train, target_train)\n",
    "print(td_result)"
   ]
  },
  {
   "cell_type": "code",
   "execution_count": 18,
   "metadata": {},
   "outputs": [
    {
     "data": {
      "text/html": [
       "<div>\n",
       "<style scoped>\n",
       "    .dataframe tbody tr th:only-of-type {\n",
       "        vertical-align: middle;\n",
       "    }\n",
       "\n",
       "    .dataframe tbody tr th {\n",
       "        vertical-align: top;\n",
       "    }\n",
       "\n",
       "    .dataframe thead th {\n",
       "        text-align: right;\n",
       "    }\n",
       "</style>\n",
       "<table border=\"1\" class=\"dataframe\">\n",
       "  <thead>\n",
       "    <tr style=\"text-align: right;\">\n",
       "      <th></th>\n",
       "      <th>Model</th>\n",
       "      <th>F1_score</th>\n",
       "    </tr>\n",
       "  </thead>\n",
       "  <tbody>\n",
       "    <tr>\n",
       "      <th>0</th>\n",
       "      <td>LogisticRegression</td>\n",
       "      <td>0.764974</td>\n",
       "    </tr>\n",
       "    <tr>\n",
       "      <th>1</th>\n",
       "      <td>DecisionTreeClassifier</td>\n",
       "      <td>0.574956</td>\n",
       "    </tr>\n",
       "  </tbody>\n",
       "</table>\n",
       "</div>"
      ],
      "text/plain": [
       "                    Model  F1_score\n",
       "0      LogisticRegression  0.764974\n",
       "1  DecisionTreeClassifier  0.574956"
      ]
     },
     "execution_count": 18,
     "metadata": {},
     "output_type": "execute_result"
    }
   ],
   "source": [
    "results.append(td_result[0])\n",
    "pd.DataFrame(results)"
   ]
  },
  {
   "cell_type": "markdown",
   "metadata": {},
   "source": [
    "Обучим модель LightGBM"
   ]
  },
  {
   "cell_type": "code",
   "execution_count": 22,
   "metadata": {},
   "outputs": [],
   "source": [
    "\n",
    "def lgbmclassifier(model_name, features, target):\n",
    "    model = LGBMClassifier(boosting_type='gbdt',num_leaves=30, max_depth=- 1, learning_rate=0.1, n_estimators=60)\n",
    "    score = cross_val_score(model, features, target, cv=5, scoring='f1', n_jobs=-1, error_score='raise').mean()\n",
    "    return [{'Model':model_name,'F1_score':score}] "
   ]
  },
  {
   "cell_type": "code",
   "execution_count": null,
   "metadata": {},
   "outputs": [],
   "source": [
    "%%time\n",
    "lgbm_result = lgbmclassifier('LGBMClassifier', features_train, target_train)\n",
    "print(lgbm_result)"
   ]
  },
  {
   "cell_type": "code",
   "execution_count": null,
   "metadata": {},
   "outputs": [],
   "source": [
    "results.append(lgbm_result[0])\n",
    "pd.DataFrame(results)"
   ]
  },
  {
   "cell_type": "markdown",
   "metadata": {},
   "source": [
    "Тест лучшей модели"
   ]
  },
  {
   "cell_type": "markdown",
   "metadata": {},
   "source": [
    "лучшей моделью показала себя линейная регрессия.\n",
    "\n",
    "Протестируем ее на тестовой выборке"
   ]
  },
  {
   "cell_type": "code",
   "execution_count": null,
   "metadata": {},
   "outputs": [],
   "source": [
    "%%time\n",
    "test_regression = regression('LogisticRegression_test', features_test, target_test)\n",
    "print(test_regression)"
   ]
  },
  {
   "cell_type": "code",
   "execution_count": null,
   "metadata": {},
   "outputs": [],
   "source": [
    "results.append(test_regression[0])\n",
    "pd.DataFrame(results)"
   ]
  },
  {
   "cell_type": "markdown",
   "metadata": {},
   "source": [
    "## Выводы"
   ]
  },
  {
   "cell_type": "markdown",
   "metadata": {},
   "source": [
    "Интернет-магазин «Викишоп» запускает новый сервис. Теперь пользователи могут редактировать и дополнять описания товаров, как в вики-сообществах. То есть клиенты предлагают свои правки и комментируют изменения других. Магазину нужен инструмент, который будет искать токсичные комментарии и отправлять их на модерацию.\n",
    "\n",
    "Получив датасет с комментариями, сначала мы проверили датасет на наличие дубликатов и пропуски. Дубликатов и пропусков не было обнаружено. </br>\n",
    "Затем мы провели лемматизацию и очистку сообщений.</br>\n",
    "Выделили признаки и целевой признак. </br>\n",
    "разделили признаки на обучующую и тестовую выборки </br>\n",
    "Gровеkb оценку частоты употребляемости слов из нашего датасета </br>\n",
    "\n",
    "Обучили модели классификации, в качестве оценки используем f_1 score: </br>\n",
    "1) линейная регресия: \n",
    "\n",
    "     - получили f_1 score:  0.76 \n",
    "     \n",
    "2) дерево решений: </br>\n",
    "\n",
    "     - получили f_1 score:  0.57 \n",
    "     \n",
    "3) модель LightGBM: </br>\n",
    "\n",
    "     - получили f_1 score:  0.71 \n",
    "     \n",
    "Kучшей моделью показала себя линейная регрессия. Протестируем ее на тестовой выборке: \n",
    "\n",
    "     - получили f_1 score:  0.75\n",
    "\n",
    "\n",
    "В результате Обучили модель которая способна классифицировать комментарии на позитивные и негативные. После тестирования модели получили значение метрики f_1 score - 0.75."
   ]
  },
  {
   "cell_type": "markdown",
   "metadata": {},
   "source": [
    "<div class=\"alert alert-success\">\n",
    "<b>✔️ Комментарий ревьювера:</b> Минимальный порог по значению F-меры пройден!\n",
    "</div>"
   ]
  },
  {
   "cell_type": "markdown",
   "metadata": {},
   "source": [
    "<font color=blue>\n",
    "<b> ✔️ 👍Заключение ревьювера:</b> Дима, у тебя хорошая работа, получен положительный результат! \n",
    "   \n",
    "Работа выполнена на хорошем уровне, код структурирован, здорово, что попробовал разные модели для обучения.\n",
    "    \n",
    "Основное замечание по работе — нужно поменять лемматизатор, например на WordNetLemmatizer, в остальном я отметил рекомендации =)\n",
    "    \n",
    "Отправляю работу для ознакомления с ходом проверки, а также если есть вопросы — смело задавай их, я постараюсь тебе помочь 😊\n",
    "\n",
    "Жду твоего ответа!\n",
    " </font>"
   ]
  },
  {
   "cell_type": "markdown",
   "metadata": {},
   "source": [
    "## Чек-лист проверки"
   ]
  },
  {
   "cell_type": "markdown",
   "metadata": {},
   "source": [
    "- [x]  Jupyter Notebook открыт\n",
    "- [ ]  Весь код выполняется без ошибок\n",
    "- [ ]  Ячейки с кодом расположены в порядке исполнения\n",
    "- [ ]  Данные загружены и подготовлены\n",
    "- [ ]  Модели обучены\n",
    "- [ ]  Значение метрики *F1* не меньше 0.75\n",
    "- [ ]  Выводы написаны"
   ]
  },
  {
   "cell_type": "code",
   "execution_count": null,
   "metadata": {},
   "outputs": [],
   "source": []
  }
 ],
 "metadata": {
  "ExecuteTimeLog": [
   {
    "duration": 7281,
    "start_time": "2022-06-05T17:30:55.499Z"
   },
   {
    "duration": 3490,
    "start_time": "2022-06-05T17:31:02.783Z"
   },
   {
    "duration": 18,
    "start_time": "2022-06-05T17:31:26.276Z"
   },
   {
    "duration": 273,
    "start_time": "2022-06-05T17:31:43.400Z"
   },
   {
    "duration": 27,
    "start_time": "2022-06-05T17:32:01.563Z"
   },
   {
    "duration": 11,
    "start_time": "2022-06-05T17:33:00.767Z"
   },
   {
    "duration": 246677,
    "start_time": "2022-06-05T17:34:26.771Z"
   },
   {
    "duration": 463,
    "start_time": "2022-06-05T17:41:53.816Z"
   },
   {
    "duration": 18,
    "start_time": "2022-06-05T17:57:43.048Z"
   },
   {
    "duration": 525605,
    "start_time": "2022-06-05T17:58:08.380Z"
   },
   {
    "duration": 103890,
    "start_time": "2022-06-05T18:14:54.626Z"
   },
   {
    "duration": 13,
    "start_time": "2022-06-05T18:17:24.759Z"
   },
   {
    "duration": 3,
    "start_time": "2022-06-05T18:17:44.921Z"
   },
   {
    "duration": 44,
    "start_time": "2022-06-05T18:18:13.727Z"
   },
   {
    "duration": 60,
    "start_time": "2022-06-05T18:18:59.582Z"
   },
   {
    "duration": 33,
    "start_time": "2022-06-05T18:22:15.882Z"
   },
   {
    "duration": 65,
    "start_time": "2022-06-05T18:22:20.059Z"
   },
   {
    "duration": 37,
    "start_time": "2022-06-05T18:22:20.703Z"
   },
   {
    "duration": 34,
    "start_time": "2022-06-05T18:22:38.009Z"
   },
   {
    "duration": 32,
    "start_time": "2022-06-05T18:23:13.810Z"
   },
   {
    "duration": 7375,
    "start_time": "2022-06-05T18:23:27.203Z"
   },
   {
    "duration": 4,
    "start_time": "2022-06-05T18:23:34.580Z"
   },
   {
    "duration": 302758,
    "start_time": "2022-06-05T18:23:34.586Z"
   },
   {
    "duration": 4,
    "start_time": "2022-06-05T18:28:40.508Z"
   },
   {
    "duration": 59,
    "start_time": "2022-06-05T18:28:47.212Z"
   },
   {
    "duration": 3,
    "start_time": "2022-06-05T18:28:50.443Z"
   },
   {
    "duration": 58,
    "start_time": "2022-06-05T18:28:51.104Z"
   },
   {
    "duration": 6,
    "start_time": "2022-06-05T18:30:09.053Z"
   },
   {
    "duration": 3,
    "start_time": "2022-06-05T18:30:17.367Z"
   },
   {
    "duration": 74511,
    "start_time": "2022-06-05T18:30:18.245Z"
   },
   {
    "duration": 55,
    "start_time": "2022-06-05T18:33:27.202Z"
   },
   {
    "duration": 5615,
    "start_time": "2022-06-05T18:33:28.294Z"
   },
   {
    "duration": 41,
    "start_time": "2022-06-05T18:33:38.103Z"
   },
   {
    "duration": 38,
    "start_time": "2022-06-05T18:33:48.475Z"
   },
   {
    "duration": 7981,
    "start_time": "2022-06-05T18:33:49.491Z"
   },
   {
    "duration": 3,
    "start_time": "2022-06-05T18:33:57.474Z"
   },
   {
    "duration": 94704,
    "start_time": "2022-06-05T18:33:59.757Z"
   },
   {
    "duration": 99123,
    "start_time": "2022-06-05T18:36:00.017Z"
   },
   {
    "duration": 4,
    "start_time": "2022-06-05T18:40:07.170Z"
   },
   {
    "duration": 109,
    "start_time": "2022-06-05T18:41:19.378Z"
   },
   {
    "duration": 54,
    "start_time": "2022-06-05T18:43:34.546Z"
   },
   {
    "duration": 4,
    "start_time": "2022-06-05T18:43:40.258Z"
   },
   {
    "duration": 102713,
    "start_time": "2022-06-05T18:43:41.019Z"
   },
   {
    "duration": 3,
    "start_time": "2022-06-05T18:45:51.804Z"
   },
   {
    "duration": 97126,
    "start_time": "2022-06-05T18:45:52.559Z"
   },
   {
    "duration": 103010,
    "start_time": "2022-06-05T18:47:49.021Z"
   },
   {
    "duration": 97331,
    "start_time": "2022-06-05T18:49:32.035Z"
   },
   {
    "duration": 102424,
    "start_time": "2022-06-05T18:51:09.429Z"
   },
   {
    "duration": 4,
    "start_time": "2022-06-05T18:55:17.405Z"
   },
   {
    "duration": 4,
    "start_time": "2022-06-05T18:55:24.921Z"
   },
   {
    "duration": 102420,
    "start_time": "2022-06-05T18:55:26.921Z"
   },
   {
    "duration": 6,
    "start_time": "2022-06-05T18:57:09.343Z"
   },
   {
    "duration": 99817,
    "start_time": "2022-06-05T18:57:09.352Z"
   },
   {
    "duration": 4,
    "start_time": "2022-06-05T19:01:09.769Z"
   },
   {
    "duration": 105358,
    "start_time": "2022-06-05T19:01:10.787Z"
   },
   {
    "duration": 3,
    "start_time": "2022-06-05T19:11:35.516Z"
   },
   {
    "duration": 5,
    "start_time": "2022-06-05T19:11:53.353Z"
   },
   {
    "duration": 244617,
    "start_time": "2022-06-05T19:11:54.159Z"
   },
   {
    "duration": 11,
    "start_time": "2022-06-05T19:16:36.065Z"
   },
   {
    "duration": 254083,
    "start_time": "2022-06-05T19:16:36.687Z"
   },
   {
    "duration": 3,
    "start_time": "2022-06-05T19:22:17.389Z"
   },
   {
    "duration": 4,
    "start_time": "2022-06-05T19:22:22.372Z"
   },
   {
    "duration": 10782,
    "start_time": "2022-06-05T19:22:23.022Z"
   },
   {
    "duration": 4,
    "start_time": "2022-06-05T19:22:33.806Z"
   },
   {
    "duration": 8703,
    "start_time": "2022-06-05T19:22:33.812Z"
   },
   {
    "duration": 5978,
    "start_time": "2022-06-05T19:22:42.519Z"
   },
   {
    "duration": 3,
    "start_time": "2022-06-05T19:22:48.499Z"
   },
   {
    "duration": 3,
    "start_time": "2022-06-05T19:22:54.091Z"
   },
   {
    "duration": 252866,
    "start_time": "2022-06-05T19:22:54.914Z"
   },
   {
    "duration": 17,
    "start_time": "2022-06-05T19:27:07.836Z"
   },
   {
    "duration": 244991,
    "start_time": "2022-06-05T19:27:07.862Z"
   },
   {
    "duration": 1498,
    "start_time": "2022-06-06T07:35:07.472Z"
   },
   {
    "duration": 3337,
    "start_time": "2022-06-06T07:35:08.972Z"
   },
   {
    "duration": 8,
    "start_time": "2022-06-06T07:35:12.311Z"
   },
   {
    "duration": 227,
    "start_time": "2022-06-06T07:35:12.322Z"
   },
   {
    "duration": 26,
    "start_time": "2022-06-06T07:35:12.550Z"
   },
   {
    "duration": 6,
    "start_time": "2022-06-06T07:35:12.578Z"
   },
   {
    "duration": 92012,
    "start_time": "2022-06-06T07:35:12.585Z"
   },
   {
    "duration": 9,
    "start_time": "2022-06-06T07:36:44.599Z"
   },
   {
    "duration": 17,
    "start_time": "2022-06-06T07:36:44.609Z"
   },
   {
    "duration": 33,
    "start_time": "2022-06-06T07:36:44.629Z"
   },
   {
    "duration": 43,
    "start_time": "2022-06-06T07:36:44.664Z"
   },
   {
    "duration": 6952,
    "start_time": "2022-06-06T07:36:44.724Z"
   },
   {
    "duration": 3,
    "start_time": "2022-06-06T07:36:51.677Z"
   },
   {
    "duration": 205544,
    "start_time": "2022-06-06T07:36:51.682Z"
   },
   {
    "duration": 3,
    "start_time": "2022-06-06T07:40:17.228Z"
   },
   {
    "duration": 198393,
    "start_time": "2022-06-06T07:40:17.233Z"
   },
   {
    "duration": 4,
    "start_time": "2022-06-06T07:43:35.628Z"
   },
   {
    "duration": 205802,
    "start_time": "2022-06-06T07:43:35.634Z"
   },
   {
    "duration": 80,
    "start_time": "2022-06-06T18:00:08.793Z"
   },
   {
    "duration": 1213,
    "start_time": "2022-06-06T18:00:16.824Z"
   },
   {
    "duration": 2261,
    "start_time": "2022-06-06T18:00:18.039Z"
   },
   {
    "duration": 9,
    "start_time": "2022-06-06T18:00:20.302Z"
   },
   {
    "duration": 210,
    "start_time": "2022-06-06T18:00:20.313Z"
   },
   {
    "duration": 26,
    "start_time": "2022-06-06T18:00:20.526Z"
   },
   {
    "duration": 12,
    "start_time": "2022-06-06T18:00:20.554Z"
   },
   {
    "duration": 235026,
    "start_time": "2022-06-06T18:00:20.956Z"
   },
   {
    "duration": 58608,
    "start_time": "2022-06-06T18:04:27.694Z"
   },
   {
    "duration": 614983,
    "start_time": "2022-06-06T18:05:43.401Z"
   },
   {
    "duration": 9,
    "start_time": "2022-06-06T18:15:58.386Z"
   },
   {
    "duration": 1201,
    "start_time": "2022-06-06T18:16:25.327Z"
   },
   {
    "duration": 813,
    "start_time": "2022-06-06T18:16:26.530Z"
   },
   {
    "duration": 7,
    "start_time": "2022-06-06T18:16:27.345Z"
   },
   {
    "duration": 224,
    "start_time": "2022-06-06T18:16:27.354Z"
   },
   {
    "duration": 25,
    "start_time": "2022-06-06T18:16:27.580Z"
   },
   {
    "duration": 8,
    "start_time": "2022-06-06T18:16:27.607Z"
   },
   {
    "duration": 84968,
    "start_time": "2022-06-06T18:16:27.627Z"
   },
   {
    "duration": 10,
    "start_time": "2022-06-06T18:17:52.597Z"
   },
   {
    "duration": 19,
    "start_time": "2022-06-06T18:17:52.609Z"
   },
   {
    "duration": 39,
    "start_time": "2022-06-06T18:17:52.630Z"
   },
   {
    "duration": 35,
    "start_time": "2022-06-06T18:17:52.671Z"
   },
   {
    "duration": 6439,
    "start_time": "2022-06-06T18:17:52.707Z"
   },
   {
    "duration": 3,
    "start_time": "2022-06-06T18:17:59.147Z"
   },
   {
    "duration": 195686,
    "start_time": "2022-06-06T18:17:59.152Z"
   },
   {
    "duration": 90,
    "start_time": "2022-06-06T18:21:14.840Z"
   },
   {
    "duration": 111785,
    "start_time": "2022-06-06T18:21:14.931Z"
   },
   {
    "duration": 3,
    "start_time": "2022-06-06T18:23:06.718Z"
   },
   {
    "duration": 1097,
    "start_time": "2022-06-06T18:23:13.774Z"
   },
   {
    "duration": 820,
    "start_time": "2022-06-06T18:23:14.872Z"
   },
   {
    "duration": 8,
    "start_time": "2022-06-06T18:23:15.694Z"
   },
   {
    "duration": 219,
    "start_time": "2022-06-06T18:23:15.703Z"
   },
   {
    "duration": 24,
    "start_time": "2022-06-06T18:23:15.926Z"
   },
   {
    "duration": 6,
    "start_time": "2022-06-06T18:23:15.951Z"
   },
   {
    "duration": 86136,
    "start_time": "2022-06-06T18:23:15.959Z"
   },
   {
    "duration": 9,
    "start_time": "2022-06-06T18:24:42.097Z"
   },
   {
    "duration": 21,
    "start_time": "2022-06-06T18:24:42.107Z"
   },
   {
    "duration": 40,
    "start_time": "2022-06-06T18:24:42.132Z"
   },
   {
    "duration": 36,
    "start_time": "2022-06-06T18:24:42.173Z"
   },
   {
    "duration": 6464,
    "start_time": "2022-06-06T18:24:42.210Z"
   },
   {
    "duration": 4,
    "start_time": "2022-06-06T18:24:48.676Z"
   },
   {
    "duration": 203354,
    "start_time": "2022-06-06T18:24:48.682Z"
   },
   {
    "duration": 3,
    "start_time": "2022-06-06T18:28:12.038Z"
   },
   {
    "duration": 201389,
    "start_time": "2022-06-06T18:28:12.042Z"
   },
   {
    "duration": 5,
    "start_time": "2022-06-06T18:31:33.433Z"
   },
   {
    "duration": 201793,
    "start_time": "2022-06-06T18:31:33.439Z"
   },
   {
    "duration": 4,
    "start_time": "2022-06-06T18:39:24.215Z"
   },
   {
    "duration": 2,
    "start_time": "2022-06-06T18:41:22.891Z"
   },
   {
    "duration": 146,
    "start_time": "2022-06-06T18:41:23.469Z"
   },
   {
    "duration": 2,
    "start_time": "2022-06-06T18:43:11.829Z"
   },
   {
    "duration": 2,
    "start_time": "2022-06-06T18:43:14.715Z"
   },
   {
    "duration": 15555,
    "start_time": "2022-06-06T18:43:15.729Z"
   },
   {
    "duration": 3,
    "start_time": "2022-06-06T18:43:45.277Z"
   },
   {
    "duration": 4,
    "start_time": "2022-06-06T18:43:46.428Z"
   },
   {
    "duration": 39,
    "start_time": "2022-06-06T18:43:47.884Z"
   },
   {
    "duration": 3,
    "start_time": "2022-06-06T18:44:49.969Z"
   },
   {
    "duration": 202232,
    "start_time": "2022-06-06T18:44:50.296Z"
   },
   {
    "duration": 3,
    "start_time": "2022-06-06T18:49:51.548Z"
   },
   {
    "duration": 196778,
    "start_time": "2022-06-06T18:49:52.157Z"
   },
   {
    "duration": 3,
    "start_time": "2022-06-06T18:53:08.937Z"
   },
   {
    "duration": 208188,
    "start_time": "2022-06-06T18:53:08.941Z"
   },
   {
    "duration": 5,
    "start_time": "2022-06-06T18:56:37.132Z"
   },
   {
    "duration": 0,
    "start_time": "2022-06-06T18:56:37.241Z"
   },
   {
    "duration": 3,
    "start_time": "2022-06-06T18:57:24.109Z"
   },
   {
    "duration": 12,
    "start_time": "2022-06-06T18:57:24.643Z"
   },
   {
    "duration": 3,
    "start_time": "2022-06-06T18:57:39.480Z"
   },
   {
    "duration": 900677,
    "start_time": "2022-06-06T18:57:39.999Z"
   },
   {
    "duration": 39,
    "start_time": "2022-06-06T19:12:57.537Z"
   },
   {
    "duration": 3,
    "start_time": "2022-06-06T19:12:59.609Z"
   },
   {
    "duration": 34,
    "start_time": "2022-06-06T19:13:00.440Z"
   },
   {
    "duration": 4,
    "start_time": "2022-06-06T19:13:13.166Z"
   },
   {
    "duration": 440933,
    "start_time": "2022-06-06T19:13:13.776Z"
   },
   {
    "duration": 3,
    "start_time": "2022-06-06T19:20:34.711Z"
   },
   {
    "duration": 334133,
    "start_time": "2022-06-06T19:20:34.716Z"
   },
   {
    "duration": 4,
    "start_time": "2022-06-06T19:26:08.851Z"
   },
   {
    "duration": 264094,
    "start_time": "2022-06-06T19:26:08.856Z"
   },
   {
    "duration": 4,
    "start_time": "2022-06-06T19:30:58.475Z"
   },
   {
    "duration": 4,
    "start_time": "2022-06-06T19:31:29.342Z"
   },
   {
    "duration": 1802478,
    "start_time": "2022-06-06T19:31:29.941Z"
   },
   {
    "duration": 7,
    "start_time": "2022-06-06T20:01:32.421Z"
   },
   {
    "duration": 585818,
    "start_time": "2022-06-06T20:01:32.430Z"
   },
   {
    "duration": 4,
    "start_time": "2022-06-06T20:11:18.251Z"
   },
   {
    "duration": 1333,
    "start_time": "2022-06-07T18:03:05.006Z"
   },
   {
    "duration": 2361,
    "start_time": "2022-06-07T18:03:06.341Z"
   },
   {
    "duration": 9,
    "start_time": "2022-06-07T18:03:08.703Z"
   },
   {
    "duration": 207,
    "start_time": "2022-06-07T18:03:09.076Z"
   },
   {
    "duration": 23,
    "start_time": "2022-06-07T18:03:10.134Z"
   },
   {
    "duration": 7,
    "start_time": "2022-06-07T18:03:10.864Z"
   },
   {
    "duration": 95010,
    "start_time": "2022-06-07T18:03:11.604Z"
   },
   {
    "duration": 17,
    "start_time": "2022-06-07T18:04:46.616Z"
   },
   {
    "duration": 7,
    "start_time": "2022-06-07T18:04:46.635Z"
   },
   {
    "duration": 31,
    "start_time": "2022-06-07T18:04:46.645Z"
   },
   {
    "duration": 56,
    "start_time": "2022-06-07T18:04:46.678Z"
   },
   {
    "duration": 7082,
    "start_time": "2022-06-07T18:04:46.736Z"
   },
   {
    "duration": 3,
    "start_time": "2022-06-07T18:05:43.125Z"
   },
   {
    "duration": 4,
    "start_time": "2022-06-07T19:13:29.934Z"
   },
   {
    "duration": 803,
    "start_time": "2022-06-07T19:13:30.532Z"
   },
   {
    "duration": 4,
    "start_time": "2022-06-07T19:13:31.336Z"
   },
   {
    "duration": 210,
    "start_time": "2022-06-07T19:13:31.929Z"
   },
   {
    "duration": 25,
    "start_time": "2022-06-07T19:13:32.791Z"
   },
   {
    "duration": 6,
    "start_time": "2022-06-07T19:13:33.334Z"
   },
   {
    "duration": 58674,
    "start_time": "2022-06-07T19:13:33.949Z"
   },
   {
    "duration": 8,
    "start_time": "2022-06-07T19:14:32.626Z"
   },
   {
    "duration": 17,
    "start_time": "2022-06-07T19:14:32.636Z"
   },
   {
    "duration": 57,
    "start_time": "2022-06-07T19:14:32.655Z"
   },
   {
    "duration": 26,
    "start_time": "2022-06-07T19:14:32.714Z"
   },
   {
    "duration": 495,
    "start_time": "2022-06-07T19:14:32.742Z"
   },
   {
    "duration": 91096,
    "start_time": "2022-06-07T19:14:59.038Z"
   },
   {
    "duration": 8,
    "start_time": "2022-06-07T19:16:30.137Z"
   },
   {
    "duration": 18,
    "start_time": "2022-06-07T19:16:30.147Z"
   },
   {
    "duration": 42,
    "start_time": "2022-06-07T19:16:30.167Z"
   },
   {
    "duration": 39,
    "start_time": "2022-06-07T19:16:30.211Z"
   },
   {
    "duration": 6437,
    "start_time": "2022-06-07T19:16:30.252Z"
   },
   {
    "duration": 4,
    "start_time": "2022-06-07T19:16:52.972Z"
   },
   {
    "duration": 477048,
    "start_time": "2022-06-07T19:16:53.584Z"
   },
   {
    "duration": 3,
    "start_time": "2022-06-07T19:27:31.291Z"
   },
   {
    "duration": 630948,
    "start_time": "2022-06-07T19:27:31.805Z"
   },
   {
    "duration": 4,
    "start_time": "2022-06-07T19:57:20.297Z"
   },
   {
    "duration": 6,
    "start_time": "2022-06-07T19:57:39.997Z"
   },
   {
    "duration": 3,
    "start_time": "2022-06-07T19:59:36.578Z"
   },
   {
    "duration": 205888,
    "start_time": "2022-06-07T19:59:37.958Z"
   },
   {
    "duration": 4,
    "start_time": "2022-06-07T20:03:57.757Z"
   },
   {
    "duration": 16,
    "start_time": "2022-06-07T20:03:58.476Z"
   },
   {
    "duration": 11,
    "start_time": "2022-06-07T20:04:44.887Z"
   },
   {
    "duration": 4,
    "start_time": "2022-06-07T20:04:47.982Z"
   },
   {
    "duration": 13,
    "start_time": "2022-06-07T20:04:50.945Z"
   },
   {
    "duration": 12,
    "start_time": "2022-06-07T20:05:42.080Z"
   },
   {
    "duration": 3,
    "start_time": "2022-06-07T20:21:39.162Z"
   },
   {
    "duration": 194519,
    "start_time": "2022-06-07T20:21:39.630Z"
   },
   {
    "duration": 7,
    "start_time": "2022-06-07T20:25:35.652Z"
   },
   {
    "duration": 14,
    "start_time": "2022-06-07T20:25:36.415Z"
   },
   {
    "duration": 11,
    "start_time": "2022-06-07T20:27:05.414Z"
   },
   {
    "duration": 10,
    "start_time": "2022-06-07T20:27:25.809Z"
   },
   {
    "duration": 3,
    "start_time": "2022-06-07T20:28:43.551Z"
   },
   {
    "duration": 10,
    "start_time": "2022-06-07T20:28:49.346Z"
   },
   {
    "duration": 9,
    "start_time": "2022-06-07T20:29:53.855Z"
   },
   {
    "duration": 10,
    "start_time": "2022-06-07T20:30:16.651Z"
   },
   {
    "duration": 3,
    "start_time": "2022-06-07T20:32:06.261Z"
   },
   {
    "duration": 214821,
    "start_time": "2022-06-07T20:32:07.012Z"
   },
   {
    "duration": 3,
    "start_time": "2022-06-07T20:35:51.008Z"
   },
   {
    "duration": 9,
    "start_time": "2022-06-07T20:35:51.657Z"
   },
   {
    "duration": 3,
    "start_time": "2022-06-07T20:37:29.343Z"
   },
   {
    "duration": 211548,
    "start_time": "2022-06-07T20:37:35.491Z"
   },
   {
    "duration": 10,
    "start_time": "2022-06-07T20:41:13.197Z"
   },
   {
    "duration": 3,
    "start_time": "2022-06-07T20:41:21.182Z"
   },
   {
    "duration": 3,
    "start_time": "2022-06-07T20:41:30.852Z"
   },
   {
    "duration": 11,
    "start_time": "2022-06-07T20:41:32.198Z"
   },
   {
    "duration": 11,
    "start_time": "2022-06-07T20:42:38.209Z"
   },
   {
    "duration": 3,
    "start_time": "2022-06-07T20:42:57.276Z"
   },
   {
    "duration": 9,
    "start_time": "2022-06-07T20:42:57.811Z"
   },
   {
    "duration": 3,
    "start_time": "2022-06-07T20:43:01.830Z"
   },
   {
    "duration": 8,
    "start_time": "2022-06-07T20:43:02.334Z"
   },
   {
    "duration": 5,
    "start_time": "2022-06-07T20:43:27.901Z"
   },
   {
    "duration": 206863,
    "start_time": "2022-06-07T20:43:28.980Z"
   },
   {
    "duration": 3,
    "start_time": "2022-06-07T20:47:00.090Z"
   },
   {
    "duration": 4,
    "start_time": "2022-06-07T20:47:00.874Z"
   },
   {
    "duration": 11,
    "start_time": "2022-06-07T20:47:11.414Z"
   },
   {
    "duration": 17,
    "start_time": "2022-06-07T20:47:29.728Z"
   },
   {
    "duration": 11,
    "start_time": "2022-06-07T20:47:52.773Z"
   },
   {
    "duration": 5,
    "start_time": "2022-06-07T20:48:15.497Z"
   },
   {
    "duration": 10,
    "start_time": "2022-06-07T20:48:59.585Z"
   },
   {
    "duration": 3,
    "start_time": "2022-06-07T20:51:49.700Z"
   },
   {
    "duration": 210075,
    "start_time": "2022-06-07T20:51:51.952Z"
   },
   {
    "duration": 2,
    "start_time": "2022-06-07T20:56:36.176Z"
   },
   {
    "duration": 9,
    "start_time": "2022-06-07T20:56:36.790Z"
   },
   {
    "duration": 2,
    "start_time": "2022-06-07T20:57:24.450Z"
   },
   {
    "duration": 8,
    "start_time": "2022-06-07T20:57:24.983Z"
   },
   {
    "duration": 4,
    "start_time": "2022-06-07T20:58:35.671Z"
   },
   {
    "duration": 1311,
    "start_time": "2022-06-09T18:40:35.809Z"
   },
   {
    "duration": 3264,
    "start_time": "2022-06-09T18:40:37.122Z"
   },
   {
    "duration": 9,
    "start_time": "2022-06-09T18:40:40.388Z"
   },
   {
    "duration": 222,
    "start_time": "2022-06-09T18:40:40.398Z"
   },
   {
    "duration": 26,
    "start_time": "2022-06-09T18:40:40.622Z"
   },
   {
    "duration": 14,
    "start_time": "2022-06-09T18:40:40.649Z"
   },
   {
    "duration": 97452,
    "start_time": "2022-06-09T18:40:40.664Z"
   },
   {
    "duration": 11,
    "start_time": "2022-06-09T18:42:18.118Z"
   },
   {
    "duration": 4,
    "start_time": "2022-06-09T18:42:18.131Z"
   },
   {
    "duration": 31,
    "start_time": "2022-06-09T18:42:18.158Z"
   },
   {
    "duration": 38,
    "start_time": "2022-06-09T18:42:18.191Z"
   },
   {
    "duration": 7176,
    "start_time": "2022-06-09T18:42:18.230Z"
   },
   {
    "duration": 3,
    "start_time": "2022-06-09T18:42:25.408Z"
   },
   {
    "duration": 14,
    "start_time": "2022-06-09T18:42:25.414Z"
   },
   {
    "duration": 214831,
    "start_time": "2022-06-09T18:47:13.433Z"
   },
   {
    "duration": 3,
    "start_time": "2022-06-09T18:52:06.801Z"
   },
   {
    "duration": 123357,
    "start_time": "2022-06-09T18:52:17.906Z"
   },
   {
    "duration": 0,
    "start_time": "2022-06-09T19:39:32.945Z"
   },
   {
    "duration": 0,
    "start_time": "2022-06-09T19:39:32.946Z"
   },
   {
    "duration": 0,
    "start_time": "2022-06-09T19:39:32.947Z"
   },
   {
    "duration": 0,
    "start_time": "2022-06-09T19:39:32.948Z"
   },
   {
    "duration": 0,
    "start_time": "2022-06-09T19:39:32.949Z"
   },
   {
    "duration": 0,
    "start_time": "2022-06-09T19:39:32.950Z"
   },
   {
    "duration": 0,
    "start_time": "2022-06-09T19:39:32.951Z"
   },
   {
    "duration": 0,
    "start_time": "2022-06-09T19:39:32.952Z"
   },
   {
    "duration": 4,
    "start_time": "2022-06-09T19:39:37.076Z"
   },
   {
    "duration": 782,
    "start_time": "2022-06-09T19:39:39.486Z"
   },
   {
    "duration": 4,
    "start_time": "2022-06-09T19:39:47.191Z"
   },
   {
    "duration": 216,
    "start_time": "2022-06-09T19:39:47.938Z"
   },
   {
    "duration": 27,
    "start_time": "2022-06-09T19:39:48.625Z"
   },
   {
    "duration": 7,
    "start_time": "2022-06-09T19:39:49.503Z"
   },
   {
    "duration": 107035,
    "start_time": "2022-06-09T19:39:50.691Z"
   },
   {
    "duration": 9,
    "start_time": "2022-06-09T19:41:37.728Z"
   },
   {
    "duration": 20,
    "start_time": "2022-06-09T19:41:37.739Z"
   },
   {
    "duration": 104895,
    "start_time": "2022-06-09T19:43:20.683Z"
   },
   {
    "duration": 9,
    "start_time": "2022-06-09T19:45:05.581Z"
   },
   {
    "duration": 9,
    "start_time": "2022-06-09T19:45:05.592Z"
   },
   {
    "duration": 1469,
    "start_time": "2022-06-09T19:45:25.275Z"
   },
   {
    "duration": 942,
    "start_time": "2022-06-09T19:45:26.747Z"
   },
   {
    "duration": 10,
    "start_time": "2022-06-09T19:45:27.691Z"
   },
   {
    "duration": 250,
    "start_time": "2022-06-09T19:45:27.704Z"
   },
   {
    "duration": 32,
    "start_time": "2022-06-09T19:45:27.956Z"
   },
   {
    "duration": 19,
    "start_time": "2022-06-09T19:45:27.990Z"
   },
   {
    "duration": 114249,
    "start_time": "2022-06-09T19:45:28.012Z"
   },
   {
    "duration": 9,
    "start_time": "2022-06-09T19:47:22.263Z"
   },
   {
    "duration": 8,
    "start_time": "2022-06-09T19:47:22.274Z"
   },
   {
    "duration": 16,
    "start_time": "2022-06-09T19:47:22.285Z"
   },
   {
    "duration": 46,
    "start_time": "2022-06-09T19:47:22.303Z"
   },
   {
    "duration": 722,
    "start_time": "2022-06-09T19:47:22.351Z"
   },
   {
    "duration": 0,
    "start_time": "2022-06-09T19:47:23.076Z"
   },
   {
    "duration": 0,
    "start_time": "2022-06-09T19:47:23.077Z"
   },
   {
    "duration": 0,
    "start_time": "2022-06-09T19:47:23.078Z"
   },
   {
    "duration": 0,
    "start_time": "2022-06-09T19:47:23.079Z"
   },
   {
    "duration": 0,
    "start_time": "2022-06-09T19:47:23.081Z"
   },
   {
    "duration": 0,
    "start_time": "2022-06-09T19:47:23.082Z"
   },
   {
    "duration": 0,
    "start_time": "2022-06-09T19:47:23.083Z"
   },
   {
    "duration": 0,
    "start_time": "2022-06-09T19:47:23.084Z"
   },
   {
    "duration": 0,
    "start_time": "2022-06-09T19:47:23.085Z"
   },
   {
    "duration": 0,
    "start_time": "2022-06-09T19:47:23.086Z"
   },
   {
    "duration": 0,
    "start_time": "2022-06-09T19:47:23.087Z"
   },
   {
    "duration": 0,
    "start_time": "2022-06-09T19:47:23.089Z"
   },
   {
    "duration": 7388,
    "start_time": "2022-06-09T19:47:51.200Z"
   },
   {
    "duration": 3,
    "start_time": "2022-06-09T19:48:07.392Z"
   },
   {
    "duration": 5,
    "start_time": "2022-06-09T19:48:08.996Z"
   },
   {
    "duration": 215450,
    "start_time": "2022-06-09T19:48:10.617Z"
   },
   {
    "duration": 3,
    "start_time": "2022-06-09T19:51:46.070Z"
   },
   {
    "duration": 18,
    "start_time": "2022-06-09T19:51:46.159Z"
   },
   {
    "duration": 3,
    "start_time": "2022-06-09T20:23:04.912Z"
   },
   {
    "duration": 6,
    "start_time": "2022-06-09T20:23:06.318Z"
   },
   {
    "duration": 3,
    "start_time": "2022-06-09T20:23:17.105Z"
   },
   {
    "duration": 8,
    "start_time": "2022-06-09T20:23:17.545Z"
   },
   {
    "duration": 2,
    "start_time": "2022-06-09T20:23:51.561Z"
   },
   {
    "duration": 3,
    "start_time": "2022-06-09T20:26:31.508Z"
   },
   {
    "duration": 3,
    "start_time": "2022-06-09T20:26:44.626Z"
   },
   {
    "duration": 4,
    "start_time": "2022-06-09T20:26:45.220Z"
   },
   {
    "duration": 8,
    "start_time": "2022-06-09T20:26:53.029Z"
   },
   {
    "duration": 202315,
    "start_time": "2022-06-09T20:27:33.545Z"
   },
   {
    "duration": 3,
    "start_time": "2022-06-09T20:30:55.862Z"
   },
   {
    "duration": 17,
    "start_time": "2022-06-09T20:30:55.867Z"
   },
   {
    "duration": 120988,
    "start_time": "2022-06-09T20:31:23.571Z"
   },
   {
    "duration": 13,
    "start_time": "2022-06-09T20:33:55.632Z"
   },
   {
    "duration": 26,
    "start_time": "2022-06-09T20:33:56.308Z"
   },
   {
    "duration": 7084,
    "start_time": "2022-06-09T20:33:56.913Z"
   },
   {
    "duration": 2,
    "start_time": "2022-06-09T20:34:03.999Z"
   },
   {
    "duration": 6,
    "start_time": "2022-06-09T20:34:04.003Z"
   },
   {
    "duration": 156349,
    "start_time": "2022-06-09T20:34:04.011Z"
   },
   {
    "duration": 4,
    "start_time": "2022-06-09T20:36:49.801Z"
   },
   {
    "duration": 8,
    "start_time": "2022-06-09T20:36:50.382Z"
   },
   {
    "duration": 82449,
    "start_time": "2022-06-09T20:36:59.316Z"
   },
   {
    "duration": 1228,
    "start_time": "2022-06-11T10:47:01.137Z"
   },
   {
    "duration": 6,
    "start_time": "2022-06-11T10:51:20.805Z"
   },
   {
    "duration": 1231,
    "start_time": "2022-06-11T10:52:31.391Z"
   },
   {
    "duration": 2334,
    "start_time": "2022-06-11T10:52:32.624Z"
   },
   {
    "duration": 8,
    "start_time": "2022-06-11T10:52:34.961Z"
   },
   {
    "duration": 211,
    "start_time": "2022-06-11T10:52:34.971Z"
   },
   {
    "duration": 25,
    "start_time": "2022-06-11T10:52:35.183Z"
   },
   {
    "duration": 18,
    "start_time": "2022-06-11T10:52:35.209Z"
   },
   {
    "duration": 84371,
    "start_time": "2022-06-11T10:52:35.228Z"
   },
   {
    "duration": 9,
    "start_time": "2022-06-11T10:53:59.600Z"
   },
   {
    "duration": 17,
    "start_time": "2022-06-11T10:53:59.610Z"
   },
   {
    "duration": 10,
    "start_time": "2022-06-11T10:53:59.629Z"
   },
   {
    "duration": 26,
    "start_time": "2022-06-11T10:53:59.641Z"
   },
   {
    "duration": 6348,
    "start_time": "2022-06-11T10:53:59.668Z"
   },
   {
    "duration": 3,
    "start_time": "2022-06-11T10:54:06.018Z"
   },
   {
    "duration": 5,
    "start_time": "2022-06-11T10:54:06.026Z"
   },
   {
    "duration": 9,
    "start_time": "2022-06-11T10:54:06.033Z"
   },
   {
    "duration": 137,
    "start_time": "2022-06-11T10:54:06.044Z"
   },
   {
    "duration": 11,
    "start_time": "2022-06-11T10:54:06.183Z"
   },
   {
    "duration": 0,
    "start_time": "2022-06-11T10:54:06.196Z"
   },
   {
    "duration": 0,
    "start_time": "2022-06-11T10:54:06.198Z"
   },
   {
    "duration": 0,
    "start_time": "2022-06-11T10:54:06.202Z"
   },
   {
    "duration": 0,
    "start_time": "2022-06-11T10:54:06.204Z"
   },
   {
    "duration": 0,
    "start_time": "2022-06-11T10:54:06.207Z"
   },
   {
    "duration": 0,
    "start_time": "2022-06-11T10:54:06.208Z"
   },
   {
    "duration": 0,
    "start_time": "2022-06-11T10:54:06.210Z"
   },
   {
    "duration": 0,
    "start_time": "2022-06-11T10:54:06.211Z"
   },
   {
    "duration": 4,
    "start_time": "2022-06-11T10:55:52.162Z"
   },
   {
    "duration": 37,
    "start_time": "2022-06-11T10:55:58.727Z"
   },
   {
    "duration": 9,
    "start_time": "2022-06-11T10:55:58.861Z"
   },
   {
    "duration": 4,
    "start_time": "2022-06-11T10:56:47.512Z"
   },
   {
    "duration": 35,
    "start_time": "2022-06-11T10:56:53.879Z"
   },
   {
    "duration": 22,
    "start_time": "2022-06-11T10:59:28.419Z"
   },
   {
    "duration": 21,
    "start_time": "2022-06-11T10:59:44.780Z"
   },
   {
    "duration": 4,
    "start_time": "2022-06-11T10:59:57.357Z"
   },
   {
    "duration": 36,
    "start_time": "2022-06-11T11:00:03.577Z"
   },
   {
    "duration": 33,
    "start_time": "2022-06-11T11:00:07.496Z"
   },
   {
    "duration": 4,
    "start_time": "2022-06-11T11:00:36.598Z"
   },
   {
    "duration": 3,
    "start_time": "2022-06-11T11:03:28.220Z"
   },
   {
    "duration": 4,
    "start_time": "2022-06-11T11:03:28.801Z"
   },
   {
    "duration": 3,
    "start_time": "2022-06-11T11:03:30.452Z"
   },
   {
    "duration": 63,
    "start_time": "2022-06-11T11:03:31.231Z"
   },
   {
    "duration": 4,
    "start_time": "2022-06-11T11:04:00.678Z"
   },
   {
    "duration": 2,
    "start_time": "2022-06-11T11:04:01.490Z"
   },
   {
    "duration": 43,
    "start_time": "2022-06-11T11:04:02.182Z"
   },
   {
    "duration": 4,
    "start_time": "2022-06-11T11:04:29.583Z"
   },
   {
    "duration": 3,
    "start_time": "2022-06-11T11:04:30.079Z"
   },
   {
    "duration": 60,
    "start_time": "2022-06-11T11:04:30.720Z"
   },
   {
    "duration": 4,
    "start_time": "2022-06-11T11:05:51.909Z"
   },
   {
    "duration": 47,
    "start_time": "2022-06-11T11:05:58.279Z"
   },
   {
    "duration": 3,
    "start_time": "2022-06-11T11:20:15.642Z"
   },
   {
    "duration": 154727,
    "start_time": "2022-06-11T11:20:16.910Z"
   },
   {
    "duration": 2,
    "start_time": "2022-06-11T11:22:59.457Z"
   },
   {
    "duration": 7,
    "start_time": "2022-06-11T11:23:04.382Z"
   },
   {
    "duration": 4,
    "start_time": "2022-06-11T11:25:21.588Z"
   },
   {
    "duration": 54826,
    "start_time": "2022-06-11T11:25:22.727Z"
   },
   {
    "duration": 3,
    "start_time": "2022-06-11T11:26:33.095Z"
   },
   {
    "duration": 7,
    "start_time": "2022-06-11T11:26:33.548Z"
   },
   {
    "duration": 3,
    "start_time": "2022-06-11T11:26:56.946Z"
   },
   {
    "duration": 53956,
    "start_time": "2022-06-11T11:26:57.799Z"
   },
   {
    "duration": 2,
    "start_time": "2022-06-11T11:27:51.757Z"
   },
   {
    "duration": 12,
    "start_time": "2022-06-11T11:27:51.761Z"
   },
   {
    "duration": 3,
    "start_time": "2022-06-11T11:28:02.683Z"
   },
   {
    "duration": 10,
    "start_time": "2022-06-11T11:28:03.251Z"
   },
   {
    "duration": 3,
    "start_time": "2022-06-11T11:28:17.501Z"
   },
   {
    "duration": 53004,
    "start_time": "2022-06-11T11:28:18.045Z"
   },
   {
    "duration": 3,
    "start_time": "2022-06-11T11:29:27.474Z"
   },
   {
    "duration": 53382,
    "start_time": "2022-06-11T11:29:28.064Z"
   },
   {
    "duration": 3,
    "start_time": "2022-06-11T11:30:31.825Z"
   },
   {
    "duration": 8,
    "start_time": "2022-06-11T11:30:32.500Z"
   },
   {
    "duration": 33455,
    "start_time": "2022-06-11T11:30:52.380Z"
   },
   {
    "duration": 4,
    "start_time": "2022-06-11T11:37:36.282Z"
   },
   {
    "duration": 45,
    "start_time": "2022-06-11T11:37:36.846Z"
   },
   {
    "duration": 3848,
    "start_time": "2022-06-11T11:45:13.894Z"
   },
   {
    "duration": 260,
    "start_time": "2022-06-11T11:45:21.205Z"
   },
   {
    "duration": 71800,
    "start_time": "2022-06-11T11:47:34.694Z"
   },
   {
    "duration": 4,
    "start_time": "2022-06-11T11:49:02.255Z"
   },
   {
    "duration": 25,
    "start_time": "2022-06-11T11:49:02.883Z"
   },
   {
    "duration": 28,
    "start_time": "2022-06-11T11:49:03.554Z"
   },
   {
    "duration": 6531,
    "start_time": "2022-06-11T11:49:04.536Z"
   },
   {
    "duration": 3,
    "start_time": "2022-06-11T11:49:17.537Z"
   },
   {
    "duration": 5,
    "start_time": "2022-06-11T11:49:18.693Z"
   },
   {
    "duration": 44914,
    "start_time": "2022-06-11T11:49:19.632Z"
   },
   {
    "duration": 3,
    "start_time": "2022-06-11T11:50:09.952Z"
   },
   {
    "duration": 12,
    "start_time": "2022-06-11T11:50:10.547Z"
   },
   {
    "duration": 5,
    "start_time": "2022-06-11T11:52:07.906Z"
   },
   {
    "duration": 45509,
    "start_time": "2022-06-11T11:52:08.731Z"
   },
   {
    "duration": 4,
    "start_time": "2022-06-11T11:53:46.421Z"
   },
   {
    "duration": 10,
    "start_time": "2022-06-11T11:53:46.999Z"
   },
   {
    "duration": 4,
    "start_time": "2022-06-11T11:54:32.496Z"
   },
   {
    "duration": 32,
    "start_time": "2022-06-11T11:55:26.985Z"
   },
   {
    "duration": 26,
    "start_time": "2022-06-11T11:55:38.627Z"
   },
   {
    "duration": 51,
    "start_time": "2022-06-11T11:56:03.700Z"
   },
   {
    "duration": 25,
    "start_time": "2022-06-11T11:56:22.379Z"
   },
   {
    "duration": 5,
    "start_time": "2022-06-11T11:57:11.821Z"
   },
   {
    "duration": 52,
    "start_time": "2022-06-11T11:57:14.348Z"
   },
   {
    "duration": 3,
    "start_time": "2022-06-11T11:57:56.900Z"
   },
   {
    "duration": 46,
    "start_time": "2022-06-11T11:57:57.836Z"
   },
   {
    "duration": 38,
    "start_time": "2022-06-11T11:58:27.420Z"
   },
   {
    "duration": 3,
    "start_time": "2022-06-11T11:58:47.077Z"
   },
   {
    "duration": 58,
    "start_time": "2022-06-11T11:58:47.984Z"
   },
   {
    "duration": 19,
    "start_time": "2022-06-11T12:00:19.980Z"
   },
   {
    "duration": 6,
    "start_time": "2022-06-11T12:00:56.205Z"
   },
   {
    "duration": 3,
    "start_time": "2022-06-11T12:01:03.552Z"
   },
   {
    "duration": 5,
    "start_time": "2022-06-11T12:01:04.535Z"
   },
   {
    "duration": 18178,
    "start_time": "2022-06-11T12:01:05.412Z"
   },
   {
    "duration": 2,
    "start_time": "2022-06-11T12:01:29.664Z"
   },
   {
    "duration": 5,
    "start_time": "2022-06-11T12:01:30.151Z"
   },
   {
    "duration": 51631,
    "start_time": "2022-06-11T12:01:30.702Z"
   },
   {
    "duration": 50,
    "start_time": "2022-06-11T12:05:36.392Z"
   },
   {
    "duration": 4,
    "start_time": "2022-06-11T12:05:51.297Z"
   },
   {
    "duration": 2,
    "start_time": "2022-06-11T12:06:29.404Z"
   },
   {
    "duration": 4,
    "start_time": "2022-06-11T12:06:30.062Z"
   },
   {
    "duration": 3,
    "start_time": "2022-06-11T12:06:39.895Z"
   },
   {
    "duration": 4,
    "start_time": "2022-06-11T12:06:40.337Z"
   },
   {
    "duration": 36744,
    "start_time": "2022-06-11T12:06:40.808Z"
   },
   {
    "duration": 4,
    "start_time": "2022-06-11T12:08:28.612Z"
   },
   {
    "duration": 5,
    "start_time": "2022-06-11T12:08:29.180Z"
   },
   {
    "duration": 10299,
    "start_time": "2022-06-11T12:08:29.726Z"
   },
   {
    "duration": 3,
    "start_time": "2022-06-11T12:08:45.887Z"
   },
   {
    "duration": 5,
    "start_time": "2022-06-11T12:08:46.421Z"
   },
   {
    "duration": 49257,
    "start_time": "2022-06-11T12:08:47.004Z"
   },
   {
    "duration": 37,
    "start_time": "2022-06-11T12:09:40.672Z"
   },
   {
    "duration": 7066,
    "start_time": "2022-06-11T12:09:41.207Z"
   },
   {
    "duration": 3,
    "start_time": "2022-06-11T12:09:50.383Z"
   },
   {
    "duration": 3,
    "start_time": "2022-06-11T12:09:50.928Z"
   },
   {
    "duration": 5,
    "start_time": "2022-06-11T12:09:51.524Z"
   },
   {
    "duration": 46873,
    "start_time": "2022-06-11T12:09:52.366Z"
   },
   {
    "duration": 4,
    "start_time": "2022-06-11T12:11:23.000Z"
   },
   {
    "duration": 44346,
    "start_time": "2022-06-11T12:11:24.311Z"
   },
   {
    "duration": 29,
    "start_time": "2022-06-11T12:14:30.416Z"
   },
   {
    "duration": 6974,
    "start_time": "2022-06-11T12:14:30.903Z"
   },
   {
    "duration": 3,
    "start_time": "2022-06-11T12:14:37.880Z"
   },
   {
    "duration": 17,
    "start_time": "2022-06-11T12:14:37.884Z"
   },
   {
    "duration": 7,
    "start_time": "2022-06-11T12:14:37.903Z"
   },
   {
    "duration": 44430,
    "start_time": "2022-06-11T12:14:37.911Z"
   },
   {
    "duration": 1033883,
    "start_time": "2022-06-11T12:18:03.268Z"
   },
   {
    "duration": 303220,
    "start_time": "2022-06-11T12:35:31.554Z"
   },
   {
    "duration": 232,
    "start_time": "2022-06-11T12:42:25.798Z"
   },
   {
    "duration": 251,
    "start_time": "2022-06-11T12:43:27.251Z"
   },
   {
    "duration": 174,
    "start_time": "2022-06-11T12:44:02.080Z"
   },
   {
    "duration": 177,
    "start_time": "2022-06-11T12:44:12.794Z"
   },
   {
    "duration": 16026,
    "start_time": "2022-06-11T12:44:29.643Z"
   },
   {
    "duration": 168,
    "start_time": "2022-06-11T12:44:57.281Z"
   },
   {
    "duration": 163,
    "start_time": "2022-06-11T12:45:10.346Z"
   },
   {
    "duration": 1321,
    "start_time": "2022-06-11T12:45:28.426Z"
   },
   {
    "duration": 11,
    "start_time": "2022-06-11T12:45:36.685Z"
   },
   {
    "duration": 1300,
    "start_time": "2022-06-11T12:51:38.939Z"
   },
   {
    "duration": 204460,
    "start_time": "2022-06-11T12:51:53.491Z"
   },
   {
    "duration": 43,
    "start_time": "2022-06-11T12:55:28.445Z"
   },
   {
    "duration": 1124000,
    "start_time": "2022-06-11T12:56:00.147Z"
   },
   {
    "duration": 4,
    "start_time": "2022-06-11T13:14:51.610Z"
   },
   {
    "duration": 4,
    "start_time": "2022-06-11T13:16:09.493Z"
   },
   {
    "duration": 41,
    "start_time": "2022-06-11T13:16:26.601Z"
   },
   {
    "duration": 128,
    "start_time": "2022-06-11T13:16:54.103Z"
   },
   {
    "duration": 4,
    "start_time": "2022-06-11T13:17:39.776Z"
   },
   {
    "duration": 127,
    "start_time": "2022-06-11T13:17:45.624Z"
   },
   {
    "duration": 173,
    "start_time": "2022-06-11T13:18:32.281Z"
   },
   {
    "duration": 67474,
    "start_time": "2022-06-11T13:28:27.895Z"
   },
   {
    "duration": 7,
    "start_time": "2022-06-11T13:29:35.372Z"
   },
   {
    "duration": 4,
    "start_time": "2022-06-11T13:29:44.300Z"
   },
   {
    "duration": 49,
    "start_time": "2022-06-11T13:29:45.033Z"
   },
   {
    "duration": 28,
    "start_time": "2022-06-11T13:29:47.088Z"
   },
   {
    "duration": 6639,
    "start_time": "2022-06-11T13:29:49.256Z"
   },
   {
    "duration": 3,
    "start_time": "2022-06-11T13:30:13.951Z"
   },
   {
    "duration": 3,
    "start_time": "2022-06-11T13:30:15.216Z"
   },
   {
    "duration": 48814,
    "start_time": "2022-06-11T13:30:16.220Z"
   },
   {
    "duration": 3,
    "start_time": "2022-06-11T13:35:44.907Z"
   },
   {
    "duration": 52446,
    "start_time": "2022-06-11T13:35:45.799Z"
   },
   {
    "duration": 4,
    "start_time": "2022-06-11T13:37:01.147Z"
   },
   {
    "duration": 54,
    "start_time": "2022-06-11T13:37:02.132Z"
   },
   {
    "duration": 27,
    "start_time": "2022-06-11T13:37:33.174Z"
   },
   {
    "duration": 6461,
    "start_time": "2022-06-11T13:37:33.720Z"
   },
   {
    "duration": 3,
    "start_time": "2022-06-11T13:37:40.183Z"
   },
   {
    "duration": 4,
    "start_time": "2022-06-11T13:38:27.885Z"
   },
   {
    "duration": 49752,
    "start_time": "2022-06-11T13:38:28.694Z"
   },
   {
    "duration": 3,
    "start_time": "2022-06-11T13:41:00.319Z"
   },
   {
    "duration": 8,
    "start_time": "2022-06-11T13:41:00.897Z"
   },
   {
    "duration": 3,
    "start_time": "2022-06-11T13:42:07.064Z"
   },
   {
    "duration": 23,
    "start_time": "2022-06-11T13:44:06.838Z"
   },
   {
    "duration": 1601,
    "start_time": "2022-06-11T13:44:47.807Z"
   },
   {
    "duration": 3,
    "start_time": "2022-06-11T13:44:58.369Z"
   },
   {
    "duration": 3,
    "start_time": "2022-06-11T13:44:59.154Z"
   },
   {
    "duration": 20,
    "start_time": "2022-06-11T13:46:32.181Z"
   },
   {
    "duration": 3,
    "start_time": "2022-06-11T13:47:30.194Z"
   },
   {
    "duration": 2,
    "start_time": "2022-06-11T13:49:09.561Z"
   },
   {
    "duration": 29,
    "start_time": "2022-06-11T13:49:13.543Z"
   },
   {
    "duration": 29,
    "start_time": "2022-06-11T13:53:04.381Z"
   },
   {
    "duration": 24938,
    "start_time": "2022-06-11T13:53:09.855Z"
   },
   {
    "duration": 448,
    "start_time": "2022-06-11T13:54:12.797Z"
   },
   {
    "duration": 411,
    "start_time": "2022-06-11T13:54:42.699Z"
   },
   {
    "duration": 428,
    "start_time": "2022-06-11T13:56:17.948Z"
   },
   {
    "duration": 417,
    "start_time": "2022-06-11T13:59:37.612Z"
   },
   {
    "duration": 551,
    "start_time": "2022-06-11T14:01:00.832Z"
   },
   {
    "duration": 19317,
    "start_time": "2022-06-11T14:01:45.002Z"
   },
   {
    "duration": 19297,
    "start_time": "2022-06-11T14:06:33.542Z"
   },
   {
    "duration": 0,
    "start_time": "2022-06-11T14:07:31.781Z"
   },
   {
    "duration": 6,
    "start_time": "2022-06-11T14:08:07.781Z"
   },
   {
    "duration": 3710,
    "start_time": "2022-06-11T14:09:04.438Z"
   },
   {
    "duration": 761,
    "start_time": "2022-06-11T14:09:08.150Z"
   },
   {
    "duration": 8,
    "start_time": "2022-06-11T14:09:08.913Z"
   },
   {
    "duration": 217,
    "start_time": "2022-06-11T14:09:08.926Z"
   },
   {
    "duration": 29,
    "start_time": "2022-06-11T14:09:09.144Z"
   },
   {
    "duration": 7,
    "start_time": "2022-06-11T14:09:09.175Z"
   },
   {
    "duration": 4,
    "start_time": "2022-06-11T14:09:09.183Z"
   },
   {
    "duration": 20796,
    "start_time": "2022-06-11T14:09:09.188Z"
   },
   {
    "duration": 8,
    "start_time": "2022-06-11T14:09:29.986Z"
   },
   {
    "duration": 17,
    "start_time": "2022-06-11T14:09:29.996Z"
   },
   {
    "duration": 36,
    "start_time": "2022-06-11T14:09:30.015Z"
   },
   {
    "duration": 35,
    "start_time": "2022-06-11T14:09:30.052Z"
   },
   {
    "duration": 6840,
    "start_time": "2022-06-11T14:09:30.089Z"
   },
   {
    "duration": 3,
    "start_time": "2022-06-11T14:09:36.930Z"
   },
   {
    "duration": 7,
    "start_time": "2022-06-11T14:09:36.935Z"
   },
   {
    "duration": 54201,
    "start_time": "2022-06-11T14:09:36.944Z"
   },
   {
    "duration": 2,
    "start_time": "2022-06-11T14:10:31.147Z"
   },
   {
    "duration": 20,
    "start_time": "2022-06-11T14:10:31.151Z"
   },
   {
    "duration": 14,
    "start_time": "2022-06-11T14:10:31.172Z"
   },
   {
    "duration": 393666,
    "start_time": "2022-06-11T14:10:31.188Z"
   },
   {
    "duration": 4,
    "start_time": "2022-06-11T14:17:04.855Z"
   },
   {
    "duration": 83695,
    "start_time": "2022-06-11T14:17:04.861Z"
   },
   {
    "duration": 3,
    "start_time": "2022-06-11T14:18:28.558Z"
   },
   {
    "duration": 1789,
    "start_time": "2022-06-11T14:18:28.562Z"
   },
   {
    "duration": 44,
    "start_time": "2022-06-11T17:50:07.148Z"
   },
   {
    "duration": 3922,
    "start_time": "2022-06-11T17:50:51.102Z"
   },
   {
    "duration": 2698,
    "start_time": "2022-06-11T17:50:55.027Z"
   },
   {
    "duration": 9,
    "start_time": "2022-06-11T17:50:57.727Z"
   },
   {
    "duration": 233,
    "start_time": "2022-06-11T17:50:57.738Z"
   },
   {
    "duration": 24,
    "start_time": "2022-06-11T17:50:57.972Z"
   },
   {
    "duration": 17,
    "start_time": "2022-06-11T17:50:57.997Z"
   },
   {
    "duration": 86717,
    "start_time": "2022-06-11T17:50:58.015Z"
   },
   {
    "duration": 10,
    "start_time": "2022-06-11T17:52:24.733Z"
   },
   {
    "duration": 14,
    "start_time": "2022-06-11T17:52:24.744Z"
   },
   {
    "duration": 15,
    "start_time": "2022-06-11T17:52:24.760Z"
   },
   {
    "duration": 25,
    "start_time": "2022-06-11T17:52:24.777Z"
   },
   {
    "duration": 6224,
    "start_time": "2022-06-11T17:52:24.804Z"
   },
   {
    "duration": 2,
    "start_time": "2022-06-11T17:52:31.030Z"
   },
   {
    "duration": 17,
    "start_time": "2022-06-11T17:52:31.033Z"
   },
   {
    "duration": 346,
    "start_time": "2022-06-11T17:52:31.052Z"
   },
   {
    "duration": 12,
    "start_time": "2022-06-11T17:52:31.399Z"
   },
   {
    "duration": 0,
    "start_time": "2022-06-11T17:52:31.412Z"
   },
   {
    "duration": 0,
    "start_time": "2022-06-11T17:52:31.413Z"
   },
   {
    "duration": 0,
    "start_time": "2022-06-11T17:52:31.414Z"
   },
   {
    "duration": 0,
    "start_time": "2022-06-11T17:52:31.416Z"
   },
   {
    "duration": 0,
    "start_time": "2022-06-11T17:52:31.417Z"
   },
   {
    "duration": 0,
    "start_time": "2022-06-11T17:52:31.426Z"
   },
   {
    "duration": 0,
    "start_time": "2022-06-11T17:52:31.427Z"
   },
   {
    "duration": 0,
    "start_time": "2022-06-11T17:52:31.428Z"
   },
   {
    "duration": 0,
    "start_time": "2022-06-11T17:52:31.429Z"
   },
   {
    "duration": 3,
    "start_time": "2022-06-11T17:53:37.422Z"
   },
   {
    "duration": 52,
    "start_time": "2022-06-11T17:53:38.261Z"
   },
   {
    "duration": 4,
    "start_time": "2022-06-11T17:53:52.324Z"
   },
   {
    "duration": 42,
    "start_time": "2022-06-11T17:53:53.119Z"
   },
   {
    "duration": 3671,
    "start_time": "2022-06-11T17:54:04.673Z"
   },
   {
    "duration": 750,
    "start_time": "2022-06-11T17:54:08.346Z"
   },
   {
    "duration": 9,
    "start_time": "2022-06-11T17:54:09.098Z"
   },
   {
    "duration": 221,
    "start_time": "2022-06-11T17:54:09.110Z"
   },
   {
    "duration": 27,
    "start_time": "2022-06-11T17:54:09.333Z"
   },
   {
    "duration": 6,
    "start_time": "2022-06-11T17:54:09.361Z"
   },
   {
    "duration": 91075,
    "start_time": "2022-06-11T17:54:09.369Z"
   },
   {
    "duration": 10,
    "start_time": "2022-06-11T17:55:40.446Z"
   },
   {
    "duration": 8,
    "start_time": "2022-06-11T17:55:40.457Z"
   },
   {
    "duration": 18,
    "start_time": "2022-06-11T17:55:40.468Z"
   },
   {
    "duration": 48,
    "start_time": "2022-06-11T17:55:40.488Z"
   },
   {
    "duration": 6390,
    "start_time": "2022-06-11T17:55:40.538Z"
   },
   {
    "duration": 2,
    "start_time": "2022-06-11T17:55:46.930Z"
   },
   {
    "duration": 9,
    "start_time": "2022-06-11T17:55:46.934Z"
   },
   {
    "duration": 359,
    "start_time": "2022-06-11T17:55:46.945Z"
   },
   {
    "duration": 15,
    "start_time": "2022-06-11T17:55:47.307Z"
   },
   {
    "duration": 0,
    "start_time": "2022-06-11T17:55:47.324Z"
   },
   {
    "duration": 0,
    "start_time": "2022-06-11T17:55:47.327Z"
   },
   {
    "duration": 0,
    "start_time": "2022-06-11T17:55:47.328Z"
   },
   {
    "duration": 0,
    "start_time": "2022-06-11T17:55:47.330Z"
   },
   {
    "duration": 0,
    "start_time": "2022-06-11T17:55:47.331Z"
   },
   {
    "duration": 0,
    "start_time": "2022-06-11T17:55:47.332Z"
   },
   {
    "duration": 0,
    "start_time": "2022-06-11T17:55:47.334Z"
   },
   {
    "duration": 0,
    "start_time": "2022-06-11T17:55:47.334Z"
   },
   {
    "duration": 0,
    "start_time": "2022-06-11T17:55:47.336Z"
   },
   {
    "duration": 3,
    "start_time": "2022-06-11T17:56:47.928Z"
   },
   {
    "duration": 41,
    "start_time": "2022-06-11T17:56:48.568Z"
   },
   {
    "duration": 4,
    "start_time": "2022-06-11T17:57:09.360Z"
   },
   {
    "duration": 50,
    "start_time": "2022-06-11T17:57:09.923Z"
   },
   {
    "duration": 4,
    "start_time": "2022-06-11T17:58:23.894Z"
   },
   {
    "duration": 62,
    "start_time": "2022-06-11T17:58:24.215Z"
   },
   {
    "duration": 3,
    "start_time": "2022-06-11T17:59:07.435Z"
   },
   {
    "duration": 47,
    "start_time": "2022-06-11T17:59:08.017Z"
   },
   {
    "duration": 4,
    "start_time": "2022-06-11T17:59:21.737Z"
   },
   {
    "duration": 41,
    "start_time": "2022-06-11T17:59:22.598Z"
   },
   {
    "duration": 3,
    "start_time": "2022-06-11T17:59:48.528Z"
   },
   {
    "duration": 56634,
    "start_time": "2022-06-11T17:59:49.011Z"
   },
   {
    "duration": 3,
    "start_time": "2022-06-11T18:00:45.646Z"
   },
   {
    "duration": 3,
    "start_time": "2022-06-11T18:01:17.736Z"
   },
   {
    "duration": 108770,
    "start_time": "2022-06-11T18:01:18.269Z"
   },
   {
    "duration": 2,
    "start_time": "2022-06-11T18:03:29.364Z"
   },
   {
    "duration": 8,
    "start_time": "2022-06-11T18:03:30.453Z"
   },
   {
    "duration": 3,
    "start_time": "2022-06-11T18:04:45.704Z"
   },
   {
    "duration": 1421998,
    "start_time": "2022-06-11T18:04:46.215Z"
   },
   {
    "duration": 14,
    "start_time": "2022-06-11T18:28:28.215Z"
   },
   {
    "duration": 4,
    "start_time": "2022-06-11T18:28:36.922Z"
   },
   {
    "duration": 593636,
    "start_time": "2022-06-11T18:28:37.528Z"
   },
   {
    "duration": 18,
    "start_time": "2022-06-11T18:38:31.166Z"
   },
   {
    "duration": 4,
    "start_time": "2022-06-11T18:38:54.475Z"
   },
   {
    "duration": 36,
    "start_time": "2022-06-11T18:38:55.111Z"
   },
   {
    "duration": 23,
    "start_time": "2022-06-11T18:38:55.575Z"
   },
   {
    "duration": 4,
    "start_time": "2022-06-11T18:39:20.387Z"
   },
   {
    "duration": 500657,
    "start_time": "2022-06-11T18:39:20.843Z"
   },
   {
    "duration": 8,
    "start_time": "2022-06-11T18:47:41.502Z"
   },
   {
    "duration": 4,
    "start_time": "2022-06-11T18:49:44.115Z"
   },
   {
    "duration": 308063,
    "start_time": "2022-06-11T18:49:45.322Z"
   },
   {
    "duration": 35,
    "start_time": "2022-06-11T18:56:19.228Z"
   },
   {
    "duration": 3,
    "start_time": "2022-06-11T18:56:35.877Z"
   },
   {
    "duration": 303722,
    "start_time": "2022-06-11T18:56:36.426Z"
   },
   {
    "duration": 16,
    "start_time": "2022-06-11T19:01:40.150Z"
   },
   {
    "duration": 3,
    "start_time": "2022-06-11T19:04:34.518Z"
   },
   {
    "duration": 303562,
    "start_time": "2022-06-11T19:04:35.104Z"
   },
   {
    "duration": 8,
    "start_time": "2022-06-11T19:09:38.668Z"
   },
   {
    "duration": 28294,
    "start_time": "2022-06-11T19:09:54.292Z"
   },
   {
    "duration": 17,
    "start_time": "2022-06-11T19:11:05.786Z"
   },
   {
    "duration": 71161,
    "start_time": "2022-06-11T19:11:08.376Z"
   },
   {
    "duration": 10,
    "start_time": "2022-06-11T19:12:19.539Z"
   },
   {
    "duration": 5,
    "start_time": "2022-06-11T19:14:14.250Z"
   },
   {
    "duration": 30,
    "start_time": "2022-06-11T19:15:47.505Z"
   },
   {
    "duration": 6,
    "start_time": "2022-06-11T19:16:35.367Z"
   },
   {
    "duration": 1276,
    "start_time": "2022-06-11T19:54:42.915Z"
   },
   {
    "duration": 828,
    "start_time": "2022-06-11T19:54:44.193Z"
   },
   {
    "duration": 10,
    "start_time": "2022-06-11T19:54:45.022Z"
   },
   {
    "duration": 217,
    "start_time": "2022-06-11T19:54:45.034Z"
   },
   {
    "duration": 29,
    "start_time": "2022-06-11T19:54:45.253Z"
   },
   {
    "duration": 6,
    "start_time": "2022-06-11T19:54:45.284Z"
   },
   {
    "duration": 104110,
    "start_time": "2022-06-11T19:54:45.292Z"
   },
   {
    "duration": 9,
    "start_time": "2022-06-11T19:56:29.404Z"
   },
   {
    "duration": 24,
    "start_time": "2022-06-11T19:56:29.427Z"
   },
   {
    "duration": 6525,
    "start_time": "2022-06-11T19:56:29.454Z"
   },
   {
    "duration": 2,
    "start_time": "2022-06-11T19:56:35.981Z"
   },
   {
    "duration": 10,
    "start_time": "2022-06-11T19:56:35.985Z"
   },
   {
    "duration": 78540,
    "start_time": "2022-06-11T19:56:35.996Z"
   },
   {
    "duration": 3,
    "start_time": "2022-06-11T19:57:54.537Z"
   },
   {
    "duration": 19,
    "start_time": "2022-06-11T19:57:54.542Z"
   },
   {
    "duration": 4,
    "start_time": "2022-06-11T19:57:54.563Z"
   },
   {
    "duration": 510262,
    "start_time": "2022-06-11T19:57:54.569Z"
   },
   {
    "duration": 8,
    "start_time": "2022-06-11T20:06:24.833Z"
   },
   {
    "duration": 14,
    "start_time": "2022-06-11T20:06:24.843Z"
   },
   {
    "duration": 3418811,
    "start_time": "2022-06-11T20:06:24.859Z"
   },
   {
    "duration": 56,
    "start_time": "2022-06-11T21:03:23.672Z"
   },
   {
    "duration": 0,
    "start_time": "2022-06-11T21:03:23.729Z"
   },
   {
    "duration": 0,
    "start_time": "2022-06-11T21:03:23.731Z"
   },
   {
    "duration": 5,
    "start_time": "2022-06-11T21:03:56.713Z"
   },
   {
    "duration": 89,
    "start_time": "2022-06-12T05:15:29.755Z"
   },
   {
    "duration": 1356,
    "start_time": "2022-06-12T05:15:33.595Z"
   },
   {
    "duration": 867,
    "start_time": "2022-06-12T05:15:34.952Z"
   },
   {
    "duration": 7,
    "start_time": "2022-06-12T05:15:35.821Z"
   },
   {
    "duration": 233,
    "start_time": "2022-06-12T05:15:35.946Z"
   },
   {
    "duration": 35,
    "start_time": "2022-06-12T05:15:36.458Z"
   },
   {
    "duration": 6,
    "start_time": "2022-06-12T05:15:37.082Z"
   },
   {
    "duration": 96538,
    "start_time": "2022-06-12T05:15:38.730Z"
   },
   {
    "duration": 11,
    "start_time": "2022-06-12T05:17:27.178Z"
   },
   {
    "duration": 12,
    "start_time": "2022-06-12T05:17:32.161Z"
   },
   {
    "duration": 1787,
    "start_time": "2022-06-12T11:37:25.688Z"
   },
   {
    "duration": 2358,
    "start_time": "2022-06-12T11:37:30.813Z"
   },
   {
    "duration": 8,
    "start_time": "2022-06-12T11:37:33.173Z"
   },
   {
    "duration": 209,
    "start_time": "2022-06-12T11:37:34.681Z"
   },
   {
    "duration": 28,
    "start_time": "2022-06-12T11:37:37.560Z"
   },
   {
    "duration": 6,
    "start_time": "2022-06-12T11:37:41.690Z"
   },
   {
    "duration": 136,
    "start_time": "2022-06-12T11:37:47.442Z"
   },
   {
    "duration": 25,
    "start_time": "2022-06-12T11:38:17.395Z"
   },
   {
    "duration": 90176,
    "start_time": "2022-06-12T11:38:35.492Z"
   },
   {
    "duration": 22,
    "start_time": "2022-06-12T11:41:18.408Z"
   },
   {
    "duration": 185,
    "start_time": "2022-06-12T11:41:34.044Z"
   },
   {
    "duration": 303,
    "start_time": "2022-06-12T11:42:10.570Z"
   },
   {
    "duration": 97,
    "start_time": "2022-06-12T11:42:26.502Z"
   },
   {
    "duration": 75522,
    "start_time": "2022-06-12T11:42:55.277Z"
   },
   {
    "duration": 6,
    "start_time": "2022-06-12T11:44:11.074Z"
   },
   {
    "duration": 9,
    "start_time": "2022-06-12T11:45:23.525Z"
   },
   {
    "duration": 74345,
    "start_time": "2022-06-12T11:45:46.598Z"
   },
   {
    "duration": 8,
    "start_time": "2022-06-12T11:48:40.179Z"
   },
   {
    "duration": 214,
    "start_time": "2022-06-12T11:50:14.524Z"
   },
   {
    "duration": 262,
    "start_time": "2022-06-12T11:51:04.386Z"
   },
   {
    "duration": 799,
    "start_time": "2022-06-12T11:51:16.343Z"
   },
   {
    "duration": 4,
    "start_time": "2022-06-12T11:51:17.500Z"
   },
   {
    "duration": 307,
    "start_time": "2022-06-12T11:51:18.862Z"
   },
   {
    "duration": 28,
    "start_time": "2022-06-12T11:51:20.302Z"
   },
   {
    "duration": 6,
    "start_time": "2022-06-12T11:51:26.135Z"
   },
   {
    "duration": 201540,
    "start_time": "2022-06-12T11:51:32.567Z"
   },
   {
    "duration": 56,
    "start_time": "2022-06-13T10:19:46.561Z"
   }
  ],
  "kernelspec": {
   "display_name": "Python 3 (ipykernel)",
   "language": "python",
   "name": "python3"
  },
  "language_info": {
   "codemirror_mode": {
    "name": "ipython",
    "version": 3
   },
   "file_extension": ".py",
   "mimetype": "text/x-python",
   "name": "python",
   "nbconvert_exporter": "python",
   "pygments_lexer": "ipython3",
   "version": "3.9.5"
  },
  "toc": {
   "base_numbering": 1,
   "nav_menu": {},
   "number_sections": true,
   "sideBar": true,
   "skip_h1_title": true,
   "title_cell": "Содержание",
   "title_sidebar": "Contents",
   "toc_cell": true,
   "toc_position": {
    "height": "calc(100% - 180px)",
    "left": "10px",
    "top": "150px",
    "width": "302.391px"
   },
   "toc_section_display": true,
   "toc_window_display": false
  }
 },
 "nbformat": 4,
 "nbformat_minor": 2
}
